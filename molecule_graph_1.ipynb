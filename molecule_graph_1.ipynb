{
 "cells": [
  {
   "cell_type": "code",
   "execution_count": 1,
   "metadata": {},
   "outputs": [
    {
     "name": "stdout",
     "output_type": "stream",
     "text": [
      "/home/dmoi/projects/foldtree2\n"
     ]
    }
   ],
   "source": [
    "cd /home/dmoi/projects/foldtree2"
   ]
  },
  {
   "cell_type": "code",
   "execution_count": 2,
   "metadata": {},
   "outputs": [],
   "source": [
    "import wget\n",
    "#download an example pdb file\n",
    "filename = './1eei (1).pdb'\n",
    "url = 'https://files.rcsb.org/download/1EEI.pdb'\n",
    "#filename = wget.download(url)\n",
    "datadir = '../../datasets/foldtree2/'"
   ]
  },
  {
   "cell_type": "code",
   "execution_count": 3,
   "metadata": {},
   "outputs": [
    {
     "name": "stderr",
     "output_type": "stream",
     "text": [
      "/home/dmoi/miniforge3/envs/pyg/lib/python3.12/site-packages/tqdm/auto.py:21: TqdmWarning: IProgress not found. Please update jupyter and ipywidgets. See https://ipywidgets.readthedocs.io/en/stable/user_install.html\n",
      "  from .autonotebook import tqdm as notebook_tqdm\n"
     ]
    }
   ],
   "source": [
    "import foldtree2_ecddcd as ft2\n",
    "converter = ft2.PDB2PyG()"
   ]
  },
  {
   "cell_type": "code",
   "execution_count": 4,
   "metadata": {},
   "outputs": [],
   "source": [
    "from Bio import PDB\n",
    "import warnings\n",
    "from matplotlib import pyplot as plt\n",
    "import numpy as np\n",
    "import pydssp\n",
    "import tqdm\n",
    "from Bio.PDB import PDBParser   \n",
    "import numpy as np"
   ]
  },
  {
   "cell_type": "code",
   "execution_count": 5,
   "metadata": {},
   "outputs": [
    {
     "name": "stdout",
     "output_type": "stream",
     "text": [
      "11\n"
     ]
    }
   ],
   "source": [
    "filename = './1eei.pdb'\n",
    "res  = converter.create_features(filename, distance = 10, verbose = False )\n",
    "print(len(res))\n",
    "angles, contact_points, springmat , hbond_mat, backbone , backbone_rev , positional_encoding , plddt , aa , bondangles , foldxvals = res"
   ]
  },
  {
   "cell_type": "code",
   "execution_count": 6,
   "metadata": {},
   "outputs": [
    {
     "data": {
      "text/plain": [
       "\"\\ndatadir = '../../datasets/'\\ncols = 'repId_isDark_nMem_repLen_avgLen_repPlddt_avgPlddt_LCAtaxId'.split('_')\\nrepdf = pd.read_table(datadir+ 'afdbclusters/2-repId_isDark_nMem_repLen_avgLen_repPlddt_avgPlddt_LCAtaxId.tsv')\\nrepdf.columns = cols\\nprint(repdf.head())\\ndef download_pdb(rep ,structdir = datadir+'structs/'):\\n\\turl = f'https://alphafold.ebi.ac.uk/files/AF-{rep}-F1-model_v4.pdb'\\n\\t#check if file exists\\n\\tif os.path.exists( structdir + rep + '.pdb'):\\n\\t\\treturn structdir + rep + '.pdb'\\n\\tfilename = wget.download(url, out=structdir + rep + '.pdb')\\n\\treturn filename\\n\\ndef download(repdf , nreps = 100 , structdir = datadir +'structs/'):\\n\\tif not os.path.exists(structdir):\\n\\t\\tos.makedirs(structdir)\\n\\treps = repdf.repId.unique()\\n\\tif nreps:\\n\\t\\t#select a random sample of representatives\\n\\t\\treps = np.random.choice(reps, nreps)\\n\\twith mp.Pool(20) as p:\\n\\t\\tfilenames = p.map(download_pdb, tqdm.tqdm(reps))\\n\\t\\treturn filenames\\n        \\n\""
      ]
     },
     "execution_count": 6,
     "metadata": {},
     "output_type": "execute_result"
    }
   ],
   "source": [
    "\n",
    "\n",
    "import multiprocessing as mp\n",
    "import tqdm\n",
    "import os\n",
    "import numpy as np\n",
    "import wget \n",
    "import pandas as pd\n",
    "\n",
    "\"\"\"\n",
    "datadir = '../../datasets/'\n",
    "cols = 'repId_isDark_nMem_repLen_avgLen_repPlddt_avgPlddt_LCAtaxId'.split('_')\n",
    "repdf = pd.read_table(datadir+ 'afdbclusters/2-repId_isDark_nMem_repLen_avgLen_repPlddt_avgPlddt_LCAtaxId.tsv')\n",
    "repdf.columns = cols\n",
    "print(repdf.head())\n",
    "def download_pdb(rep ,structdir = datadir+'structs/'):\n",
    "\turl = f'https://alphafold.ebi.ac.uk/files/AF-{rep}-F1-model_v4.pdb'\n",
    "\t#check if file exists\n",
    "\tif os.path.exists( structdir + rep + '.pdb'):\n",
    "\t\treturn structdir + rep + '.pdb'\n",
    "\tfilename = wget.download(url, out=structdir + rep + '.pdb')\n",
    "\treturn filename\n",
    "\n",
    "def download(repdf , nreps = 100 , structdir = datadir +'structs/'):\n",
    "\tif not os.path.exists(structdir):\n",
    "\t\tos.makedirs(structdir)\n",
    "\treps = repdf.repId.unique()\n",
    "\tif nreps:\n",
    "\t\t#select a random sample of representatives\n",
    "\t\treps = np.random.choice(reps, nreps)\n",
    "\twith mp.Pool(20) as p:\n",
    "\t\tfilenames = p.map(download_pdb, tqdm.tqdm(reps))\n",
    "\t\treturn filenames\n",
    "        \n",
    "\"\"\""
   ]
  },
  {
   "cell_type": "code",
   "execution_count": 7,
   "metadata": {},
   "outputs": [],
   "source": [
    "#download(repdf, nreps = 1000 , structdir = '../datasets/foldtree2/structs/' )"
   ]
  },
  {
   "cell_type": "code",
   "execution_count": 8,
   "metadata": {},
   "outputs": [],
   "source": [
    "import torch\n",
    "import os\n",
    "import numpy as np\n",
    "\n",
    "AVAIL_GPUS = min(1, torch.cuda.device_count())\n",
    "BATCH_SIZE = 256 if AVAIL_GPUS else 64\n",
    "# Path to the folder where the datasets are/should be downloaded\n",
    "DATASET_PATH = os.environ.get(\"PATH_DATASETS\", \"data/\")\n",
    "# Path to the folder where the pretrained models are saved\n",
    "CHECKPOINT_PATH = os.environ.get(\"PATH_CHECKPOINT\", \"saved_models/GNNs/\")\n",
    "#create the h5 dataset from the pdb files\n",
    "import glob\n",
    "import h5py\n",
    "\n",
    "# Setting the seed for everything\n",
    "torch.manual_seed(0)\n",
    "np.random.seed(0)\n",
    "# Ensure that all operations are deterministic on GPU (if used) for reproducibility\n",
    "torch.backends.cudnn.deterministic = True\n",
    "torch.backends.cudnn.benchmark = False"
   ]
  },
  {
   "cell_type": "code",
   "execution_count": 9,
   "metadata": {},
   "outputs": [],
   "source": [
    "import  foldtree2_ecddcd as ft2\n",
    "#reload ft2\n",
    "import importlib\n",
    "importlib.reload(ft2)\n",
    "converter = ft2.PDB2PyG()"
   ]
  },
  {
   "cell_type": "code",
   "execution_count": 10,
   "metadata": {},
   "outputs": [
    {
     "name": "stdout",
     "output_type": "stream",
     "text": [
      "HeteroData(\n",
      "  identifier='1eei',\n",
      "  AA={ x=[103, 20] },\n",
      "  bondangles={ x=[103, 2] },\n",
      "  plddt={ x=[103, 1] },\n",
      "  positions={ x=[103, 256] },\n",
      "  res={ x=[103, 844] },\n",
      "  godnode={ x=[1, 5] },\n",
      "  godnode4decoder={ x=[1, 5] },\n",
      "  (res, backbone, res)={\n",
      "    edge_attr=[102],\n",
      "    edge_index=[2, 307],\n",
      "  },\n",
      "  (res, backbonerev, res)={\n",
      "    edge_attr=[102],\n",
      "    edge_index=[2, 205],\n",
      "  },\n",
      "  (res, contactPoints, res)={\n",
      "    edge_attr=[928],\n",
      "    edge_index=[2, 928],\n",
      "  },\n",
      "  (res, hbond, res)={\n",
      "    edge_attr=[106],\n",
      "    edge_index=[2, 106],\n",
      "  },\n",
      "  (res, informs, godnode)={ edge_index=[2, 103] },\n",
      "  (godnode, informs, res)={ edge_index=[2, 103] },\n",
      "  (res, informs, godnode4decoder)={ edge_index=[2, 103] },\n",
      "  (godnode4decoder, informs, res)={ edge_index=[2, 103] }\n",
      ")\n"
     ]
    }
   ],
   "source": [
    "data_sample =converter.struct2pyg( filename, verbose=False)\n",
    "print(data_sample)\n",
    "ndim = data_sample['res'].x.shape[1]\n",
    "ndim_godnode = data_sample['godnode'].x.shape[1]"
   ]
  },
  {
   "cell_type": "code",
   "execution_count": 11,
   "metadata": {},
   "outputs": [],
   "source": [
    "#pdbfiles_structalign = glob.glob(datadir + 'struct_align/*/structs/*.pdb')"
   ]
  },
  {
   "cell_type": "code",
   "execution_count": 12,
   "metadata": {},
   "outputs": [],
   "source": [
    "import glob\n",
    "datadir = '../../datasets/'"
   ]
  },
  {
   "cell_type": "code",
   "execution_count": 13,
   "metadata": {},
   "outputs": [],
   "source": [
    "#pdbfiles = glob.glob(datadir + 'structs/*.pdb')\n",
    "#converter.store_pyg(pdbfiles_structalign, filename='structs_structalign_godnode.h5', verbose = False)"
   ]
  },
  {
   "cell_type": "code",
   "execution_count": 14,
   "metadata": {},
   "outputs": [
    {
     "name": "stdout",
     "output_type": "stream",
     "text": [
      "HeteroData(\n",
      "  identifier='A0A1J5EX06',\n",
      "  AA={ x=[385, 20] },\n",
      "  Foldx={ x=[23] },\n",
      "  bondangles={ x=[385, 2] },\n",
      "  plddt={ x=[385, 1] },\n",
      "  positions={ x=[385, 256] },\n",
      "  res={ x=[385, 844] },\n",
      "  godnode={ x=[1, 5] },\n",
      "  godnode4decoder={ x=[1, 5] },\n",
      "  (res, backbone, res)={\n",
      "    edge_attr=[384],\n",
      "    edge_index=[2, 1153],\n",
      "  },\n",
      "  (res, backbonerev, res)={\n",
      "    edge_attr=[384],\n",
      "    edge_index=[2, 769],\n",
      "  },\n",
      "  (res, contactPoints, res)={\n",
      "    edge_attr=[2922],\n",
      "    edge_index=[2, 2922],\n",
      "  },\n",
      "  (res, hbond, res)={\n",
      "    edge_attr=[246],\n",
      "    edge_index=[2, 246],\n",
      "  },\n",
      "  (res, informs, godnode)={ edge_index=[2, 385] },\n",
      "  (godnode, informs, res)={ edge_index=[2, 385] },\n",
      "  (res, informs, godnode4decoder)={ edge_index=[2, 385] },\n",
      "  (godnode4decoder, informs, res)={ edge_index=[2, 385] }\n",
      ")\n",
      "torch.Size([2, 385])\n",
      "torch.Size([2, 385])\n",
      "[0, 1, 2, 3, 4, 5, 6, 7, 8, 9, 10, 11, 12, 13, 14, 15, 16, 17, 18, 19, 20, 21, 22, 23, 24, 25, 26, 27, 28, 29, 30, 31, 32, 33, 34, 35, 36, 37, 38, 39, 40, 41, 42, 43, 44, 45, 46, 47, 48, 49, 50, 51, 52, 53, 54, 55, 56, 57, 58, 59, 60, 61, 62, 63, 64, 65, 66, 67, 68, 69, 70, 71, 72, 73, 74, 75, 76, 77, 78, 79, 80, 81, 82, 83, 84, 85, 86, 87, 88, 89, 90, 91, 92, 93, 94, 95, 96, 97, 98, 99, 100, 101, 102, 103, 104, 105, 106, 107, 108, 109, 110, 111, 112, 113, 114, 115, 116, 117, 118, 119, 120, 121, 122, 123, 124, 125, 126, 127, 128, 129, 130, 131, 132, 133, 134, 135, 136, 137, 138, 139, 140, 141, 142, 143, 144, 145, 146, 147, 148, 149, 150, 151, 152, 153, 154, 155, 156, 157, 158, 159, 160, 161, 162, 163, 164, 165, 166, 167, 168, 169, 170, 171, 172, 173, 174, 175, 176, 177, 178, 179, 180, 181, 182, 183, 184, 185, 186, 187, 188, 189, 190, 191, 192, 193, 194, 195, 196, 197, 198, 199, 200, 201, 202, 203, 204, 205, 206, 207, 208, 209, 210, 211, 212, 213, 214, 215, 216, 217, 218, 219, 220, 221, 222, 223, 224, 225, 226, 227, 228, 229, 230, 231, 232, 233, 234, 235, 236, 237, 238, 239, 240, 241, 242, 243, 244, 245, 246, 247, 248, 249, 250, 251, 252, 253, 254, 255, 256, 257, 258, 259, 260, 261, 262, 263, 264, 265, 266, 267, 268, 269, 270, 271, 272, 273, 274, 275, 276, 277, 278, 279, 280, 281, 282, 283, 284, 285, 286, 287, 288, 289, 290, 291, 292, 293, 294, 295, 296, 297, 298, 299, 300, 301, 302, 303, 304, 305, 306, 307, 308, 309, 310, 311, 312, 313, 314, 315, 316, 317, 318, 319, 320, 321, 322, 323, 324, 325, 326, 327, 328, 329, 330, 331, 332, 333, 334, 335, 336, 337, 338, 339, 340, 341, 342, 343, 344, 345, 346, 347, 348, 349, 350, 351, 352, 353, 354, 355, 356, 357, 358, 359, 360, 361, 362, 363, 364, 365, 366, 367, 368, 369, 370, 371, 372, 373, 374, 375, 376, 377, 378, 379, 380, 381, 382, 383, 384]\n",
      "[0, 0, 0, 0, 0, 0, 0, 0, 0, 0, 0, 0, 0, 0, 0, 0, 0, 0, 0, 0, 0, 0, 0, 0, 0, 0, 0, 0, 0, 0, 0, 0, 0, 0, 0, 0, 0, 0, 0, 0, 0, 0, 0, 0, 0, 0, 0, 0, 0, 0, 0, 0, 0, 0, 0, 0, 0, 0, 0, 0, 0, 0, 0, 0, 0, 0, 0, 0, 0, 0, 0, 0, 0, 0, 0, 0, 0, 0, 0, 0, 0, 0, 0, 0, 0, 0, 0, 0, 0, 0, 0, 0, 0, 0, 0, 0, 0, 0, 0, 0, 0, 0, 0, 0, 0, 0, 0, 0, 0, 0, 0, 0, 0, 0, 0, 0, 0, 0, 0, 0, 0, 0, 0, 0, 0, 0, 0, 0, 0, 0, 0, 0, 0, 0, 0, 0, 0, 0, 0, 0, 0, 0, 0, 0, 0, 0, 0, 0, 0, 0, 0, 0, 0, 0, 0, 0, 0, 0, 0, 0, 0, 0, 0, 0, 0, 0, 0, 0, 0, 0, 0, 0, 0, 0, 0, 0, 0, 0, 0, 0, 0, 0, 0, 0, 0, 0, 0, 0, 0, 0, 0, 0, 0, 0, 0, 0, 0, 0, 0, 0, 0, 0, 0, 0, 0, 0, 0, 0, 0, 0, 0, 0, 0, 0, 0, 0, 0, 0, 0, 0, 0, 0, 0, 0, 0, 0, 0, 0, 0, 0, 0, 0, 0, 0, 0, 0, 0, 0, 0, 0, 0, 0, 0, 0, 0, 0, 0, 0, 0, 0, 0, 0, 0, 0, 0, 0, 0, 0, 0, 0, 0, 0, 0, 0, 0, 0, 0, 0, 0, 0, 0, 0, 0, 0, 0, 0, 0, 0, 0, 0, 0, 0, 0, 0, 0, 0, 0, 0, 0, 0, 0, 0, 0, 0, 0, 0, 0, 0, 0, 0, 0, 0, 0, 0, 0, 0, 0, 0, 0, 0, 0, 0, 0, 0, 0, 0, 0, 0, 0, 0, 0, 0, 0, 0, 0, 0, 0, 0, 0, 0, 0, 0, 0, 0, 0, 0, 0, 0, 0, 0, 0, 0, 0, 0, 0, 0, 0, 0, 0, 0, 0, 0, 0, 0, 0, 0, 0, 0, 0, 0, 0, 0, 0, 0, 0, 0, 0, 0, 0, 0, 0, 0, 0, 0, 0, 0, 0, 0, 0, 0, 0, 0, 0, 0, 0]\n"
     ]
    }
   ],
   "source": [
    "pdbfiles = glob.glob(datadir+'structs/*.pdb')\n",
    "data_sample =converter.struct2pyg( pdbfiles[0], foldxdir='./foldx/',  verbose=False)\n",
    "\n",
    "print(data_sample)\n",
    "print( data_sample.edge_index_dict[('res' ,'informs','godnode4decoder' )].shape)\n",
    "print( data_sample.edge_index_dict[('godnode4decoder' ,'informs','res' )].shape ) \n",
    "print( data_sample.edge_index_dict[('res' ,'informs','godnode4decoder' )].numpy().tolist()[0])\n",
    "print( data_sample.edge_index_dict[('res' ,'informs','godnode4decoder' )].numpy().tolist()[1])\n"
   ]
  },
  {
   "cell_type": "code",
   "execution_count": 15,
   "metadata": {},
   "outputs": [],
   "source": [
    "#converter.store_pyg(pdbfiles, filename='structs_training_godnodemk3.h5', foldxdir = './foldx/', verbose = False)"
   ]
  },
  {
   "cell_type": "code",
   "execution_count": 16,
   "metadata": {},
   "outputs": [
    {
     "data": {
      "text/plain": [
       "\"\\nimport pandas as pd\\nimport numpy as np\\nfrom matplotlib import pyplot as plt\\nimport tqdm\\n\\nfrom torch_geometric.data import DataLoader\\n\\nstruct_dat = ft2.StructureDataset('structs_training_godnodemk3.h5')\\ntrain_loader = DataLoader(struct_dat, batch_size=1, shuffle=True)\\npdbs = []\\nfoldxvals = []\\nfor data in tqdm.tqdm(train_loader):\\n\\n\\tpdbs.append(data.identifier[0])\\n\\tfoldxvals.append(data['Foldx'].x.to('cpu').numpy())\\nfoldxvals = np.vstack(foldxvals)\\nprint(foldxvals , foldxvals.shape)\\t\\nprint(len(pdbs) , pdbs)\\nfoldx = pd.DataFrame(foldxvals, index = pdbs)\\n\\nprint( foldx)\\n#make histograms of the foldx values\\nfor c in foldx.columns:\\n\\tplt.hist(foldx[c], bins = 20)\\n\\tplt.title(c)\\n\\tplt.show()\\n#find mean and var of each column of the foldx values\\nmean = foldx.mean()\\nvariance = foldx.var()\\nprint(mean)\\nprint(variance)\\n\\n#replace nan in mean and variance with 0\\nmean = mean.fillna(0)\\nvariance = variance.fillna(0)\\n\\n#save the mean and variance\\nmean.to_csv('foldxmean.csv')\\nvariance.to_csv('foldxvariance.csv')\\n\""
      ]
     },
     "execution_count": 16,
     "metadata": {},
     "output_type": "execute_result"
    }
   ],
   "source": [
    "#read the foldx values from the h5 file and store them in a pandas dataframe\n",
    "\"\"\"\n",
    "import pandas as pd\n",
    "import numpy as np\n",
    "from matplotlib import pyplot as plt\n",
    "import tqdm\n",
    "\n",
    "from torch_geometric.data import DataLoader\n",
    "\n",
    "struct_dat = ft2.StructureDataset('structs_training_godnodemk3.h5')\n",
    "train_loader = DataLoader(struct_dat, batch_size=1, shuffle=True)\n",
    "pdbs = []\n",
    "foldxvals = []\n",
    "for data in tqdm.tqdm(train_loader):\n",
    "\n",
    "\tpdbs.append(data.identifier[0])\n",
    "\tfoldxvals.append(data['Foldx'].x.to('cpu').numpy())\n",
    "foldxvals = np.vstack(foldxvals)\n",
    "print(foldxvals , foldxvals.shape)\t\n",
    "print(len(pdbs) , pdbs)\n",
    "foldx = pd.DataFrame(foldxvals, index = pdbs)\n",
    "\n",
    "print( foldx)\n",
    "#make histograms of the foldx values\n",
    "for c in foldx.columns:\n",
    "\tplt.hist(foldx[c], bins = 20)\n",
    "\tplt.title(c)\n",
    "\tplt.show()\n",
    "#find mean and var of each column of the foldx values\n",
    "mean = foldx.mean()\n",
    "variance = foldx.var()\n",
    "print(mean)\n",
    "print(variance)\n",
    "\n",
    "#replace nan in mean and variance with 0\n",
    "mean = mean.fillna(0)\n",
    "variance = variance.fillna(0)\n",
    "\n",
    "#save the mean and variance\n",
    "mean.to_csv('foldxmean.csv')\n",
    "variance.to_csv('foldxvariance.csv')\n",
    "\"\"\"\n",
    "\n"
   ]
  },
  {
   "cell_type": "code",
   "execution_count": 17,
   "metadata": {},
   "outputs": [],
   "source": [
    "import torch\n",
    "import torch.nn.functional as F\n",
    "from torch_geometric.nn import VGAE\n",
    "from torch.optim import Adam\n",
    "from torch_geometric.data import DataLoader\n",
    "import pickle\n",
    "import pandas as pd\n",
    "import os\n",
    "import tqdm\n",
    "\n",
    "# Create a DataLoader for training\n",
    "total_loss_x= 0\n",
    "total_loss_edge = 0\n",
    "total_vq=0\n",
    "total_kl = 0\n",
    "total_foldx=0\n",
    "\n",
    "# Training loop"
   ]
  },
  {
   "cell_type": "code",
   "execution_count": 18,
   "metadata": {},
   "outputs": [
    {
     "name": "stderr",
     "output_type": "stream",
     "text": [
      "Seed set to 42\n",
      "Seed set to 42\n"
     ]
    },
    {
     "name": "stdout",
     "output_type": "stream",
     "text": [
      "encoder convolutions\n",
      "ModuleList(\n",
      "  (0): ModuleDict(\n",
      "    (res_backbone_res): MFConv(844, 300)\n",
      "    (res_backbonerev_res): MFConv(300, 300)\n",
      "    (res_contactPoints_res): MFConv(300, 300)\n",
      "  )\n",
      "  (1-2): 2 x ModuleDict(\n",
      "    (res_backbone_res): MFConv(300, 300)\n",
      "    (res_backbonerev_res): MFConv(300, 300)\n",
      "    (res_contactPoints_res): MFConv(300, 300)\n",
      "  )\n",
      ")\n",
      "10\n",
      "decoder convs\n",
      "ModuleList(\n",
      "  (0-4): 5 x HeteroConv(num_relations=4)\n",
      ")\n",
      "batchnorm BatchNorm1d(10, eps=1e-05, momentum=0.1, affine=True, track_running_stats=True)\n",
      "dropout Dropout(p=0.001, inplace=False)\n",
      "10\n",
      "300\n",
      "aadecoder Sequential(\n",
      "  (0): Linear(in_features=310, out_features=1000, bias=True)\n",
      "  (1): ReLU()\n",
      "  (2): Linear(in_features=1000, out_features=1000, bias=True)\n",
      "  (3): ReLU()\n",
      "  (4): Linear(in_features=1000, out_features=1000, bias=True)\n",
      "  (5): ReLU()\n",
      "  (6): Linear(in_features=1000, out_features=20, bias=True)\n",
      "  (7): LogSoftmax(dim=1)\n",
      ")\n",
      "lin Sequential(\n",
      "  (0): Linear(in_features=500, out_features=300, bias=True)\n",
      ")\n",
      "sigmoid Sigmoid()\n",
      "cuda:1\n",
      "torch.Size([1380, 1])\n",
      "torch.Size([1380, 1])\n"
     ]
    }
   ],
   "source": [
    "#load model if it exists\n",
    "#add positional encoder channels to input\n",
    "\n",
    "encoder_layers = 3\n",
    "decoder_layers = 5\n",
    "\n",
    "encoder = ft2.HeteroGAE_Encoder(in_channels={'res':ndim , 'godnode':ndim_godnode}\n",
    "\t\t\t\t\t\t\t\t, hidden_channels= {\n",
    "\t\t\t\t\t\t\t\t\t\t\t( 'res','backbone','res'):[  300 ] * encoder_layers, \n",
    "\t\t\t\t\t\t\t\t\t\t\t ('res', 'backbonerev', 'res'): [300] * encoder_layers ,\n",
    "\t\t\t\t\t\t\t\t\t\t\t ('res', 'contactPoints', 'res'): [300] * encoder_layers ,\n",
    "\t\t\t\t\t\t\t\t\t\t\t }  , \n",
    "\t\t\t\t\t\tlayers = encoder_layers , \n",
    "\t\t\t\t\t\tout_channels=10 , metadata=converter.metadata , num_embeddings=64, \n",
    "\t\t\t\t\t\tcommitment_cost= .8 , encoder_hidden= 200  , nheads = 4 , average = False\n",
    "\t\t\t\t\t\t, reset_codes= False , dropout_p=0.001 , separated = True , flavor = 'mfconv' )\n",
    "\n",
    "\n",
    "print( encoder.out_channels)\n",
    "decoder = ft2.HeteroGAE_Decoder(in_channels = {'res':encoder.out_channels , 'godnode4decoder':ndim_godnode , 'foldx':23 } , \n",
    "\t\t\t\t\t\t\thidden_channels={\n",
    "\t\t\t\t\t\t\t\t\t\t\t( 'res','backbone','res'):[  500 ] * decoder_layers , \n",
    "\t\t\t\t\t\t\t\t\t\t\t('res', 'backbonerev', 'res'): [500] * decoder_layers ,\n",
    "\t\t\t\t\t\t\t\t\t\t\t('res' ,'informs','godnode4decoder' ):[  500 ] * decoder_layers ,\n",
    "\t\t\t\t\t\t\t\t\t\t\t('godnode4decoder' ,'informs','res' ):[  500 ] * decoder_layers \n",
    "\n",
    "\t\t\t\t\t\t\t\t\t\t\t},\n",
    "\n",
    "\t\t\t\t\t\t\tlayers = decoder_layers ,\n",
    "\t\t\t\t\t\t\tmetadata=converter.metadata , \n",
    "\t\t\t\t\t\t\tamino_mapper = converter.aaindex ,\n",
    "\t\t\t\t\t\t\tflavor = 'sage' ,\n",
    "\t\t\t\t\t\t\tXdecoder_hidden= 300 ,\n",
    "\t\t\t\t\t\t\tPINNdecoder_hidden = [1000, 1000 , 1000 ] ,\n",
    "\t\t\t\t\t\t\t  nheads = 1 , dropout = 0.001  ,\n",
    "\t\t\t\t\t\t\t  AAdecoder_hidden = [1000,1000,1000]  )    \n",
    "\n",
    "encoder_save = 'testgodnode'\n",
    "decoder_save = 'testgodnode'\n",
    "overwrite = True\n",
    "\n",
    "\n",
    "\n",
    "#load mean and variance\tand turn them into tensors\t\n",
    "mean = pd.read_csv('foldxmean.csv', index_col = 0)\n",
    "variance = pd.read_csv('foldxvariance.csv', index_col = 0)\n",
    "mean = torch.tensor(mean.values).float()\n",
    "variance = torch.tensor(variance.values).float()\n",
    "\n",
    "if os.path.exists(encoder_save) and overwrite == False:\n",
    "\tencoder.load_state_dict(torch.load(encoder_save ))\n",
    "if os.path.exists(decoder_save) and overwrite == False:\n",
    "\tdecoder.load_state_dict(torch.load(decoder_save  ))\n",
    "\n",
    "#create a training loop for the GAE model\n",
    "device = torch.device('cuda:1' if torch.cuda.is_available() else 'cpu')\n",
    "#device = torch.device( 'cpu')\n",
    "print(device)\n",
    "train_loop = True\n",
    "V_train_loop = False\n",
    "\n",
    "batch_size = 60\n",
    "\n",
    "betafactor = 2\n",
    "#stack mean and variance to the same shape as the foldx values\n",
    "mean = mean.repeat(batch_size,1)\n",
    "variance = variance.repeat(batch_size,1)\n",
    "\n",
    "\n",
    "#put the mean and variance on the device\n",
    "mean = mean.to(device)\n",
    "variance = variance.to(device)\n",
    "\n",
    "print(mean.shape)\n",
    "print(variance.shape)\n",
    "#remove last dimension from mean and variance\n",
    "mean = mean.squeeze()\n",
    "variance = variance.squeeze()\n",
    "\n",
    "#put encoder and decoder on the device\n",
    "encoder = encoder.to(device)\n",
    "decoder = decoder.to(device)\n"
   ]
  },
  {
   "cell_type": "code",
   "execution_count": 19,
   "metadata": {},
   "outputs": [],
   "source": [
    "#use autoreload\n",
    "struct_dat = ft2.StructureDataset('structs_training_godnodemk3.h5')"
   ]
  },
  {
   "cell_type": "code",
   "execution_count": 20,
   "metadata": {},
   "outputs": [
    {
     "name": "stderr",
     "output_type": "stream",
     "text": [
      "100%|█████████████████████████████████████████████████████████████████████████████████| 95/95 [02:24<00:00,  1.52s/it]"
     ]
    },
    {
     "name": "stdout",
     "output_type": "stream",
     "text": [
      "The size of tensor a (1104) must match the size of tensor b (1380) at non-singleton dimension 0\n",
      "error\n"
     ]
    },
    {
     "name": "stderr",
     "output_type": "stream",
     "text": [
      "\n"
     ]
    },
    {
     "name": "stdout",
     "output_type": "stream",
     "text": [
      "Epoch 0, AALoss: 272.6301, Edge Loss: 235.5867, vq Loss: 329.5995 , foldx Loss: 13.0074\n"
     ]
    },
    {
     "name": "stderr",
     "output_type": "stream",
     "text": [
      "100%|█████████████████████████████████████████████████████████████████████████████████| 95/95 [02:28<00:00,  1.56s/it]\n"
     ]
    },
    {
     "name": "stdout",
     "output_type": "stream",
     "text": [
      "The size of tensor a (1104) must match the size of tensor b (1380) at non-singleton dimension 0\n",
      "error\n",
      "Epoch 1, AALoss: 271.1148, Edge Loss: 95.9283, vq Loss: 186.3193 , foldx Loss: 9.3127\n"
     ]
    },
    {
     "name": "stderr",
     "output_type": "stream",
     "text": [
      "100%|█████████████████████████████████████████████████████████████████████████████████| 95/95 [02:27<00:00,  1.56s/it]\n"
     ]
    },
    {
     "name": "stdout",
     "output_type": "stream",
     "text": [
      "The size of tensor a (1104) must match the size of tensor b (1380) at non-singleton dimension 0\n",
      "error\n",
      "Epoch 2, AALoss: 269.5998, Edge Loss: 89.0045, vq Loss: 91.1635 , foldx Loss: 7.5872\n"
     ]
    },
    {
     "name": "stderr",
     "output_type": "stream",
     "text": [
      "100%|█████████████████████████████████████████████████████████████████████████████████| 95/95 [02:27<00:00,  1.56s/it]\n"
     ]
    },
    {
     "name": "stdout",
     "output_type": "stream",
     "text": [
      "The size of tensor a (1104) must match the size of tensor b (1380) at non-singleton dimension 0\n",
      "error\n",
      "Epoch 3, AALoss: 268.4126, Edge Loss: 86.7808, vq Loss: 33.5556 , foldx Loss: 7.0396\n"
     ]
    },
    {
     "name": "stderr",
     "output_type": "stream",
     "text": [
      "100%|█████████████████████████████████████████████████████████████████████████████████| 95/95 [02:28<00:00,  1.56s/it]\n"
     ]
    },
    {
     "name": "stdout",
     "output_type": "stream",
     "text": [
      "The size of tensor a (1104) must match the size of tensor b (1380) at non-singleton dimension 0\n",
      "error\n",
      "Epoch 4, AALoss: 266.9784, Edge Loss: 85.8933, vq Loss: -44.0146 , foldx Loss: 6.4157\n"
     ]
    },
    {
     "name": "stderr",
     "output_type": "stream",
     "text": [
      "100%|█████████████████████████████████████████████████████████████████████████████████| 95/95 [02:29<00:00,  1.57s/it]\n"
     ]
    },
    {
     "name": "stdout",
     "output_type": "stream",
     "text": [
      "The size of tensor a (1104) must match the size of tensor b (1380) at non-singleton dimension 0\n",
      "error\n",
      "Epoch 5, AALoss: 265.2041, Edge Loss: 85.8698, vq Loss: -121.2862 , foldx Loss: 6.1796\n"
     ]
    },
    {
     "name": "stderr",
     "output_type": "stream",
     "text": [
      "100%|█████████████████████████████████████████████████████████████████████████████████| 95/95 [02:28<00:00,  1.56s/it]\n"
     ]
    },
    {
     "name": "stdout",
     "output_type": "stream",
     "text": [
      "The size of tensor a (1104) must match the size of tensor b (1380) at non-singleton dimension 0\n",
      "error\n",
      "Epoch 6, AALoss: 250.9900, Edge Loss: 88.8464, vq Loss: -148.3218 , foldx Loss: 6.9412\n"
     ]
    },
    {
     "name": "stderr",
     "output_type": "stream",
     "text": [
      "100%|█████████████████████████████████████████████████████████████████████████████████| 95/95 [02:29<00:00,  1.58s/it]\n"
     ]
    },
    {
     "name": "stdout",
     "output_type": "stream",
     "text": [
      "The size of tensor a (1104) must match the size of tensor b (1380) at non-singleton dimension 0\n",
      "error\n",
      "Epoch 7, AALoss: 137.6531, Edge Loss: 107.4372, vq Loss: 64.0859 , foldx Loss: 12.2561\n"
     ]
    },
    {
     "name": "stderr",
     "output_type": "stream",
     "text": [
      "100%|█████████████████████████████████████████████████████████████████████████████████| 95/95 [02:26<00:00,  1.55s/it]\n"
     ]
    },
    {
     "name": "stdout",
     "output_type": "stream",
     "text": [
      "The size of tensor a (1104) must match the size of tensor b (1380) at non-singleton dimension 0\n",
      "error\n",
      "Epoch 8, AALoss: 95.3610, Edge Loss: 100.0670, vq Loss: 35.0179 , foldx Loss: 11.6577\n"
     ]
    },
    {
     "name": "stderr",
     "output_type": "stream",
     "text": [
      "100%|█████████████████████████████████████████████████████████████████████████████████| 95/95 [02:25<00:00,  1.53s/it]\n"
     ]
    },
    {
     "name": "stdout",
     "output_type": "stream",
     "text": [
      "The size of tensor a (1104) must match the size of tensor b (1380) at non-singleton dimension 0\n",
      "error\n",
      "Epoch 9, AALoss: 78.0985, Edge Loss: 96.1659, vq Loss: 4.2915 , foldx Loss: 11.4089\n"
     ]
    },
    {
     "name": "stderr",
     "output_type": "stream",
     "text": [
      "100%|█████████████████████████████████████████████████████████████████████████████████| 95/95 [02:27<00:00,  1.56s/it]\n"
     ]
    },
    {
     "name": "stdout",
     "output_type": "stream",
     "text": [
      "The size of tensor a (1104) must match the size of tensor b (1380) at non-singleton dimension 0\n",
      "error\n",
      "Epoch 10, AALoss: 83.0009, Edge Loss: 97.2836, vq Loss: 7.4472 , foldx Loss: 11.6955\n"
     ]
    },
    {
     "name": "stderr",
     "output_type": "stream",
     "text": [
      "100%|█████████████████████████████████████████████████████████████████████████████████| 95/95 [02:27<00:00,  1.55s/it]\n"
     ]
    },
    {
     "name": "stdout",
     "output_type": "stream",
     "text": [
      "The size of tensor a (1104) must match the size of tensor b (1380) at non-singleton dimension 0\n",
      "error\n",
      "Epoch 11, AALoss: 72.2878, Edge Loss: 95.5904, vq Loss: 8.5018 , foldx Loss: 11.1137\n"
     ]
    },
    {
     "name": "stderr",
     "output_type": "stream",
     "text": [
      "100%|█████████████████████████████████████████████████████████████████████████████████| 95/95 [02:25<00:00,  1.53s/it]\n"
     ]
    },
    {
     "name": "stdout",
     "output_type": "stream",
     "text": [
      "The size of tensor a (1104) must match the size of tensor b (1380) at non-singleton dimension 0\n",
      "error\n",
      "Epoch 12, AALoss: 74.0844, Edge Loss: 94.8193, vq Loss: 14.2816 , foldx Loss: 10.5825\n"
     ]
    },
    {
     "name": "stderr",
     "output_type": "stream",
     "text": [
      "100%|█████████████████████████████████████████████████████████████████████████████████| 95/95 [02:28<00:00,  1.56s/it]\n"
     ]
    },
    {
     "name": "stdout",
     "output_type": "stream",
     "text": [
      "The size of tensor a (1104) must match the size of tensor b (1380) at non-singleton dimension 0\n",
      "error\n",
      "Epoch 13, AALoss: 64.0278, Edge Loss: 94.8964, vq Loss: -24.8111 , foldx Loss: 10.5772\n"
     ]
    },
    {
     "name": "stderr",
     "output_type": "stream",
     "text": [
      "100%|█████████████████████████████████████████████████████████████████████████████████| 95/95 [02:30<00:00,  1.59s/it]\n"
     ]
    },
    {
     "name": "stdout",
     "output_type": "stream",
     "text": [
      "The size of tensor a (1104) must match the size of tensor b (1380) at non-singleton dimension 0\n",
      "error\n",
      "Epoch 14, AALoss: 58.6504, Edge Loss: 94.1346, vq Loss: -43.4933 , foldx Loss: 9.8502\n"
     ]
    },
    {
     "name": "stderr",
     "output_type": "stream",
     "text": [
      "100%|█████████████████████████████████████████████████████████████████████████████████| 95/95 [02:31<00:00,  1.59s/it]\n"
     ]
    },
    {
     "name": "stdout",
     "output_type": "stream",
     "text": [
      "The size of tensor a (1104) must match the size of tensor b (1380) at non-singleton dimension 0\n",
      "error\n",
      "Epoch 15, AALoss: 41.0500, Edge Loss: 93.9508, vq Loss: -96.7038 , foldx Loss: 9.5582\n"
     ]
    },
    {
     "name": "stderr",
     "output_type": "stream",
     "text": [
      "100%|█████████████████████████████████████████████████████████████████████████████████| 95/95 [02:28<00:00,  1.56s/it]\n"
     ]
    },
    {
     "name": "stdout",
     "output_type": "stream",
     "text": [
      "The size of tensor a (1104) must match the size of tensor b (1380) at non-singleton dimension 0\n",
      "error\n",
      "Epoch 16, AALoss: 35.2321, Edge Loss: 92.8366, vq Loss: -115.0727 , foldx Loss: 8.1425\n"
     ]
    },
    {
     "name": "stderr",
     "output_type": "stream",
     "text": [
      "100%|█████████████████████████████████████████████████████████████████████████████████| 95/95 [02:27<00:00,  1.55s/it]\n"
     ]
    },
    {
     "name": "stdout",
     "output_type": "stream",
     "text": [
      "The size of tensor a (1104) must match the size of tensor b (1380) at non-singleton dimension 0\n",
      "error\n",
      "Epoch 17, AALoss: 31.2869, Edge Loss: 92.3936, vq Loss: -117.0829 , foldx Loss: 7.8407\n"
     ]
    },
    {
     "name": "stderr",
     "output_type": "stream",
     "text": [
      "100%|█████████████████████████████████████████████████████████████████████████████████| 95/95 [02:24<00:00,  1.52s/it]\n"
     ]
    },
    {
     "name": "stdout",
     "output_type": "stream",
     "text": [
      "The size of tensor a (1104) must match the size of tensor b (1380) at non-singleton dimension 0\n",
      "error\n",
      "Epoch 18, AALoss: 27.3415, Edge Loss: 91.3193, vq Loss: -126.8451 , foldx Loss: 7.2047\n"
     ]
    },
    {
     "name": "stderr",
     "output_type": "stream",
     "text": [
      "100%|█████████████████████████████████████████████████████████████████████████████████| 95/95 [02:26<00:00,  1.54s/it]\n"
     ]
    },
    {
     "name": "stdout",
     "output_type": "stream",
     "text": [
      "The size of tensor a (1104) must match the size of tensor b (1380) at non-singleton dimension 0\n",
      "error\n",
      "Epoch 19, AALoss: 21.5583, Edge Loss: 89.0909, vq Loss: -140.5625 , foldx Loss: 6.5031\n"
     ]
    },
    {
     "name": "stderr",
     "output_type": "stream",
     "text": [
      "100%|█████████████████████████████████████████████████████████████████████████████████████████████████████████████████████████| 95/95 [02:26<00:00,  1.54s/it]\n"
     ]
    },
    {
     "name": "stdout",
     "output_type": "stream",
     "text": [
      "The size of tensor a (1104) must match the size of tensor b (1380) at non-singleton dimension 0\n",
      "error\n",
      "Epoch 20, AALoss: 21.3241, Edge Loss: 88.5398, vq Loss: -144.8356 , foldx Loss: 6.2063\n"
     ]
    },
    {
     "name": "stderr",
     "output_type": "stream",
     "text": [
      "100%|█████████████████████████████████████████████████████████████████████████████████████████████████████████████████████████| 95/95 [02:25<00:00,  1.53s/it]\n"
     ]
    },
    {
     "name": "stdout",
     "output_type": "stream",
     "text": [
      "The size of tensor a (1104) must match the size of tensor b (1380) at non-singleton dimension 0\n",
      "error\n",
      "Epoch 21, AALoss: 20.4045, Edge Loss: 88.6166, vq Loss: -152.2211 , foldx Loss: 5.9882\n"
     ]
    },
    {
     "name": "stderr",
     "output_type": "stream",
     "text": [
      "100%|█████████████████████████████████████████████████████████████████████████████████████████████████████████████████████████| 95/95 [02:28<00:00,  1.56s/it]\n"
     ]
    },
    {
     "name": "stdout",
     "output_type": "stream",
     "text": [
      "The size of tensor a (1104) must match the size of tensor b (1380) at non-singleton dimension 0\n",
      "error\n",
      "Epoch 22, AALoss: 21.1618, Edge Loss: 87.8789, vq Loss: -157.8711 , foldx Loss: 5.9600\n"
     ]
    },
    {
     "name": "stderr",
     "output_type": "stream",
     "text": [
      "100%|█████████████████████████████████████████████████████████████████████████████████████████████████████████████████████████| 95/95 [02:26<00:00,  1.54s/it]\n"
     ]
    },
    {
     "name": "stdout",
     "output_type": "stream",
     "text": [
      "The size of tensor a (1104) must match the size of tensor b (1380) at non-singleton dimension 0\n",
      "error\n",
      "Epoch 23, AALoss: 19.1289, Edge Loss: 87.0956, vq Loss: -161.2357 , foldx Loss: 5.7104\n"
     ]
    },
    {
     "name": "stderr",
     "output_type": "stream",
     "text": [
      "100%|█████████████████████████████████████████████████████████████████████████████████████████████████████████████████████████| 95/95 [02:32<00:00,  1.60s/it]\n"
     ]
    },
    {
     "name": "stdout",
     "output_type": "stream",
     "text": [
      "The size of tensor a (1104) must match the size of tensor b (1380) at non-singleton dimension 0\n",
      "error\n",
      "Epoch 24, AALoss: 19.1056, Edge Loss: 87.3661, vq Loss: -162.2355 , foldx Loss: 5.7008\n"
     ]
    },
    {
     "name": "stderr",
     "output_type": "stream",
     "text": [
      "100%|█████████████████████████████████████████████████████████████████████████████████████████████████████████████████████████| 95/95 [02:27<00:00,  1.55s/it]\n"
     ]
    },
    {
     "name": "stdout",
     "output_type": "stream",
     "text": [
      "The size of tensor a (1104) must match the size of tensor b (1380) at non-singleton dimension 0\n",
      "error\n",
      "Epoch 25, AALoss: 18.5198, Edge Loss: 87.2401, vq Loss: -170.8513 , foldx Loss: 5.4950\n"
     ]
    },
    {
     "name": "stderr",
     "output_type": "stream",
     "text": [
      "100%|█████████████████████████████████████████████████████████████████████████████████████████████████████████████████████████| 95/95 [02:26<00:00,  1.54s/it]\n"
     ]
    },
    {
     "name": "stdout",
     "output_type": "stream",
     "text": [
      "The size of tensor a (1104) must match the size of tensor b (1380) at non-singleton dimension 0\n",
      "error\n",
      "Epoch 26, AALoss: 18.5330, Edge Loss: 87.0970, vq Loss: -182.9959 , foldx Loss: 5.6083\n"
     ]
    },
    {
     "name": "stderr",
     "output_type": "stream",
     "text": [
      "100%|█████████████████████████████████████████████████████████████████████████████████████████████████████████████████████████| 95/95 [02:27<00:00,  1.55s/it]\n"
     ]
    },
    {
     "name": "stdout",
     "output_type": "stream",
     "text": [
      "The size of tensor a (1104) must match the size of tensor b (1380) at non-singleton dimension 0\n",
      "error\n",
      "Epoch 27, AALoss: 18.3889, Edge Loss: 86.5745, vq Loss: -185.2705 , foldx Loss: 5.4498\n"
     ]
    },
    {
     "name": "stderr",
     "output_type": "stream",
     "text": [
      "100%|█████████████████████████████████████████████████████████████████████████████████████████████████████████████████████████| 95/95 [02:26<00:00,  1.54s/it]\n"
     ]
    },
    {
     "name": "stdout",
     "output_type": "stream",
     "text": [
      "The size of tensor a (1104) must match the size of tensor b (1380) at non-singleton dimension 0\n",
      "error\n",
      "Epoch 28, AALoss: 12.1037, Edge Loss: 86.3086, vq Loss: -203.6371 , foldx Loss: 5.5640\n"
     ]
    },
    {
     "name": "stderr",
     "output_type": "stream",
     "text": [
      "100%|█████████████████████████████████████████████████████████████████████████████████████████████████████████████████████████| 95/95 [02:26<00:00,  1.54s/it]\n"
     ]
    },
    {
     "name": "stdout",
     "output_type": "stream",
     "text": [
      "The size of tensor a (1104) must match the size of tensor b (1380) at non-singleton dimension 0\n",
      "error\n",
      "Epoch 29, AALoss: 10.2428, Edge Loss: 86.3268, vq Loss: -206.4219 , foldx Loss: 5.4204\n"
     ]
    },
    {
     "name": "stderr",
     "output_type": "stream",
     "text": [
      "100%|█████████████████████████████████████████████████████████████████████████████████████████████████████████████████████████| 95/95 [02:27<00:00,  1.55s/it]\n"
     ]
    },
    {
     "name": "stdout",
     "output_type": "stream",
     "text": [
      "The size of tensor a (1104) must match the size of tensor b (1380) at non-singleton dimension 0\n",
      "error\n",
      "Epoch 30, AALoss: 10.0074, Edge Loss: 85.8871, vq Loss: -206.2260 , foldx Loss: 5.1589\n"
     ]
    },
    {
     "name": "stderr",
     "output_type": "stream",
     "text": [
      "100%|█████████████████████████████████████████████████████████████████████████████████████████████████████████████████████████| 95/95 [02:26<00:00,  1.54s/it]\n"
     ]
    },
    {
     "name": "stdout",
     "output_type": "stream",
     "text": [
      "The size of tensor a (1104) must match the size of tensor b (1380) at non-singleton dimension 0\n",
      "error\n",
      "Epoch 31, AALoss: 10.2307, Edge Loss: 85.8107, vq Loss: -206.6919 , foldx Loss: 5.0537\n"
     ]
    },
    {
     "name": "stderr",
     "output_type": "stream",
     "text": [
      "100%|█████████████████████████████████████████████████████████████████████████████████████████████████████████████████████████| 95/95 [02:28<00:00,  1.57s/it]\n"
     ]
    },
    {
     "name": "stdout",
     "output_type": "stream",
     "text": [
      "The size of tensor a (1104) must match the size of tensor b (1380) at non-singleton dimension 0\n",
      "error\n",
      "Epoch 32, AALoss: 15.7481, Edge Loss: 87.9546, vq Loss: -199.3022 , foldx Loss: 6.6817\n"
     ]
    },
    {
     "name": "stderr",
     "output_type": "stream",
     "text": [
      "100%|█████████████████████████████████████████████████████████████████████████████████████████████████████████████████████████| 95/95 [02:26<00:00,  1.54s/it]\n"
     ]
    },
    {
     "name": "stdout",
     "output_type": "stream",
     "text": [
      "The size of tensor a (1104) must match the size of tensor b (1380) at non-singleton dimension 0\n",
      "error\n",
      "Epoch 33, AALoss: 11.9468, Edge Loss: 87.1659, vq Loss: -208.3563 , foldx Loss: 5.5932\n"
     ]
    },
    {
     "name": "stderr",
     "output_type": "stream",
     "text": [
      "100%|█████████████████████████████████████████████████████████████████████████████████████████████████████████████████████████| 95/95 [02:26<00:00,  1.54s/it]\n"
     ]
    },
    {
     "name": "stdout",
     "output_type": "stream",
     "text": [
      "The size of tensor a (1104) must match the size of tensor b (1380) at non-singleton dimension 0\n",
      "error\n",
      "Epoch 34, AALoss: 11.3828, Edge Loss: 86.4587, vq Loss: -208.3152 , foldx Loss: 5.1839\n"
     ]
    },
    {
     "name": "stderr",
     "output_type": "stream",
     "text": [
      "100%|█████████████████████████████████████████████████████████████████████████████████████████████████████████████████████████| 95/95 [02:27<00:00,  1.55s/it]\n"
     ]
    },
    {
     "name": "stdout",
     "output_type": "stream",
     "text": [
      "The size of tensor a (1104) must match the size of tensor b (1380) at non-singleton dimension 0\n",
      "error\n",
      "Epoch 35, AALoss: 13.7331, Edge Loss: 86.5164, vq Loss: -207.8320 , foldx Loss: 5.2333\n"
     ]
    },
    {
     "name": "stderr",
     "output_type": "stream",
     "text": [
      "100%|█████████████████████████████████████████████████████████████████████████████████████████████████████████████████████████| 95/95 [02:27<00:00,  1.55s/it]\n"
     ]
    },
    {
     "name": "stdout",
     "output_type": "stream",
     "text": [
      "The size of tensor a (1104) must match the size of tensor b (1380) at non-singleton dimension 0\n",
      "error\n",
      "Epoch 36, AALoss: 11.0826, Edge Loss: 86.4913, vq Loss: -210.0851 , foldx Loss: 5.2092\n"
     ]
    },
    {
     "name": "stderr",
     "output_type": "stream",
     "text": [
      "100%|█████████████████████████████████████████████████████████████████████████████████████████████████████████████████████████| 95/95 [02:29<00:00,  1.57s/it]\n"
     ]
    },
    {
     "name": "stdout",
     "output_type": "stream",
     "text": [
      "The size of tensor a (1104) must match the size of tensor b (1380) at non-singleton dimension 0\n",
      "error\n",
      "Epoch 37, AALoss: 10.2015, Edge Loss: 85.9181, vq Loss: -212.0568 , foldx Loss: 5.3167\n"
     ]
    },
    {
     "name": "stderr",
     "output_type": "stream",
     "text": [
      "100%|█████████████████████████████████████████████████████████████████████████████████████████████████████████████████████████| 95/95 [02:26<00:00,  1.54s/it]\n"
     ]
    },
    {
     "name": "stdout",
     "output_type": "stream",
     "text": [
      "The size of tensor a (1104) must match the size of tensor b (1380) at non-singleton dimension 0\n",
      "error\n",
      "Epoch 38, AALoss: 9.8919, Edge Loss: 85.4989, vq Loss: -220.3366 , foldx Loss: 4.9210\n"
     ]
    },
    {
     "name": "stderr",
     "output_type": "stream",
     "text": [
      "100%|█████████████████████████████████████████████████████████████████████████████████████████████████████████████████████████| 95/95 [02:26<00:00,  1.55s/it]\n"
     ]
    },
    {
     "name": "stdout",
     "output_type": "stream",
     "text": [
      "The size of tensor a (1104) must match the size of tensor b (1380) at non-singleton dimension 0\n",
      "error\n",
      "Epoch 39, AALoss: 9.8509, Edge Loss: 85.2676, vq Loss: -221.4642 , foldx Loss: 4.8917\n"
     ]
    },
    {
     "name": "stderr",
     "output_type": "stream",
     "text": [
      "100%|█████████████████████████████████████████████████████████████████████████████████████████████████████████████████████████| 95/95 [02:25<00:00,  1.54s/it]\n"
     ]
    },
    {
     "name": "stdout",
     "output_type": "stream",
     "text": [
      "The size of tensor a (1104) must match the size of tensor b (1380) at non-singleton dimension 0\n",
      "error\n",
      "Epoch 40, AALoss: 9.7727, Edge Loss: 85.2958, vq Loss: -223.4734 , foldx Loss: 5.0310\n"
     ]
    },
    {
     "name": "stderr",
     "output_type": "stream",
     "text": [
      "100%|█████████████████████████████████████████████████████████████████████████████████████████████████████████████████████████| 95/95 [02:26<00:00,  1.54s/it]\n"
     ]
    },
    {
     "name": "stdout",
     "output_type": "stream",
     "text": [
      "The size of tensor a (1104) must match the size of tensor b (1380) at non-singleton dimension 0\n",
      "error\n",
      "Epoch 41, AALoss: 9.7646, Edge Loss: 84.9616, vq Loss: -226.1797 , foldx Loss: 5.0071\n"
     ]
    },
    {
     "name": "stderr",
     "output_type": "stream",
     "text": [
      "100%|█████████████████████████████████████████████████████████████████████████████████████████████████████████████████████████| 95/95 [02:25<00:00,  1.53s/it]\n"
     ]
    },
    {
     "name": "stdout",
     "output_type": "stream",
     "text": [
      "The size of tensor a (1104) must match the size of tensor b (1380) at non-singleton dimension 0\n",
      "error\n",
      "Epoch 42, AALoss: 11.9706, Edge Loss: 86.1493, vq Loss: -227.9198 , foldx Loss: 5.3532\n"
     ]
    },
    {
     "name": "stderr",
     "output_type": "stream",
     "text": [
      "100%|█████████████████████████████████████████████████████████████████████████████████████████████████████████████████████████| 95/95 [02:26<00:00,  1.54s/it]\n"
     ]
    },
    {
     "name": "stdout",
     "output_type": "stream",
     "text": [
      "The size of tensor a (1104) must match the size of tensor b (1380) at non-singleton dimension 0\n",
      "error\n",
      "Epoch 43, AALoss: 8.0063, Edge Loss: 85.4216, vq Loss: -233.8002 , foldx Loss: 4.9093\n"
     ]
    },
    {
     "name": "stderr",
     "output_type": "stream",
     "text": [
      "100%|█████████████████████████████████████████████████████████████████████████████████████████████████████████████████████████| 95/95 [02:26<00:00,  1.54s/it]\n"
     ]
    },
    {
     "name": "stdout",
     "output_type": "stream",
     "text": [
      "The size of tensor a (1104) must match the size of tensor b (1380) at non-singleton dimension 0\n",
      "error\n",
      "Epoch 44, AALoss: 6.6382, Edge Loss: 85.5278, vq Loss: -238.9344 , foldx Loss: 5.0154\n"
     ]
    },
    {
     "name": "stderr",
     "output_type": "stream",
     "text": [
      "100%|█████████████████████████████████████████████████████████████████████████████████████████████████████████████████████████| 95/95 [02:25<00:00,  1.53s/it]\n"
     ]
    },
    {
     "name": "stdout",
     "output_type": "stream",
     "text": [
      "The size of tensor a (1104) must match the size of tensor b (1380) at non-singleton dimension 0\n",
      "error\n",
      "Epoch 45, AALoss: 6.7483, Edge Loss: 85.8893, vq Loss: -236.2880 , foldx Loss: 5.0508\n"
     ]
    },
    {
     "name": "stderr",
     "output_type": "stream",
     "text": [
      "100%|█████████████████████████████████████████████████████████████████████████████████████████████████████████████████████████| 95/95 [02:26<00:00,  1.54s/it]\n"
     ]
    },
    {
     "name": "stdout",
     "output_type": "stream",
     "text": [
      "The size of tensor a (1104) must match the size of tensor b (1380) at non-singleton dimension 0\n",
      "error\n",
      "Epoch 46, AALoss: 6.7180, Edge Loss: 85.1393, vq Loss: -235.0216 , foldx Loss: 4.8318\n"
     ]
    },
    {
     "name": "stderr",
     "output_type": "stream",
     "text": [
      "100%|█████████████████████████████████████████████████████████████████████████████████████████████████████████████████████████| 95/95 [02:28<00:00,  1.57s/it]\n"
     ]
    },
    {
     "name": "stdout",
     "output_type": "stream",
     "text": [
      "The size of tensor a (1104) must match the size of tensor b (1380) at non-singleton dimension 0\n",
      "error\n",
      "Epoch 47, AALoss: 6.6796, Edge Loss: 85.3062, vq Loss: -236.2334 , foldx Loss: 4.9023\n"
     ]
    },
    {
     "name": "stderr",
     "output_type": "stream",
     "text": [
      "100%|█████████████████████████████████████████████████████████████████████████████████████████████████████████████████████████| 95/95 [02:29<00:00,  1.57s/it]\n"
     ]
    },
    {
     "name": "stdout",
     "output_type": "stream",
     "text": [
      "The size of tensor a (1104) must match the size of tensor b (1380) at non-singleton dimension 0\n",
      "error\n",
      "Epoch 48, AALoss: 6.7567, Edge Loss: 84.7524, vq Loss: -236.9452 , foldx Loss: 4.9513\n"
     ]
    },
    {
     "name": "stderr",
     "output_type": "stream",
     "text": [
      "100%|█████████████████████████████████████████████████████████████████████████████████████████████████████████████████████████| 95/95 [02:27<00:00,  1.55s/it]\n"
     ]
    },
    {
     "name": "stdout",
     "output_type": "stream",
     "text": [
      "The size of tensor a (1104) must match the size of tensor b (1380) at non-singleton dimension 0\n",
      "error\n",
      "Epoch 49, AALoss: 7.3640, Edge Loss: 84.7563, vq Loss: -235.1294 , foldx Loss: 4.7773\n"
     ]
    },
    {
     "name": "stderr",
     "output_type": "stream",
     "text": [
      "100%|█████████████████████████████████████████████████████████████████████████████████████████████████████████████████████████| 95/95 [02:25<00:00,  1.53s/it]\n"
     ]
    },
    {
     "name": "stdout",
     "output_type": "stream",
     "text": [
      "The size of tensor a (1104) must match the size of tensor b (1380) at non-singleton dimension 0\n",
      "error\n",
      "Epoch 50, AALoss: 7.3281, Edge Loss: 85.3672, vq Loss: -233.3776 , foldx Loss: 4.7716\n"
     ]
    },
    {
     "name": "stderr",
     "output_type": "stream",
     "text": [
      "100%|█████████████████████████████████████████████████████████████████████████████████████████████████████████████████████████| 95/95 [02:27<00:00,  1.55s/it]\n"
     ]
    },
    {
     "name": "stdout",
     "output_type": "stream",
     "text": [
      "The size of tensor a (1104) must match the size of tensor b (1380) at non-singleton dimension 0\n",
      "error\n",
      "Epoch 51, AALoss: 8.1229, Edge Loss: 85.5165, vq Loss: -232.7138 , foldx Loss: 5.0063\n"
     ]
    },
    {
     "name": "stderr",
     "output_type": "stream",
     "text": [
      "100%|█████████████████████████████████████████████████████████████████████████████████████████████████████████████████████████| 95/95 [02:28<00:00,  1.56s/it]\n"
     ]
    },
    {
     "name": "stdout",
     "output_type": "stream",
     "text": [
      "The size of tensor a (1104) must match the size of tensor b (1380) at non-singleton dimension 0\n",
      "error\n",
      "Epoch 52, AALoss: 6.7922, Edge Loss: 85.3920, vq Loss: -231.9294 , foldx Loss: 5.0270\n"
     ]
    },
    {
     "name": "stderr",
     "output_type": "stream",
     "text": [
      "100%|█████████████████████████████████████████████████████████████████████████████████████████████████████████████████████████| 95/95 [02:27<00:00,  1.55s/it]\n"
     ]
    },
    {
     "name": "stdout",
     "output_type": "stream",
     "text": [
      "The size of tensor a (1104) must match the size of tensor b (1380) at non-singleton dimension 0\n",
      "error\n",
      "Epoch 53, AALoss: 6.7526, Edge Loss: 84.9856, vq Loss: -235.8370 , foldx Loss: 5.0721\n"
     ]
    },
    {
     "name": "stderr",
     "output_type": "stream",
     "text": [
      "100%|█████████████████████████████████████████████████████████████████████████████████████████████████████████████████████████| 95/95 [02:27<00:00,  1.56s/it]\n"
     ]
    },
    {
     "name": "stdout",
     "output_type": "stream",
     "text": [
      "The size of tensor a (1104) must match the size of tensor b (1380) at non-singleton dimension 0\n",
      "error\n",
      "Epoch 54, AALoss: 8.5676, Edge Loss: 84.7264, vq Loss: -238.2914 , foldx Loss: 4.9596\n"
     ]
    },
    {
     "name": "stderr",
     "output_type": "stream",
     "text": [
      "100%|█████████████████████████████████████████████████████████████████████████████████████████████████████████████████████████| 95/95 [02:27<00:00,  1.55s/it]\n"
     ]
    },
    {
     "name": "stdout",
     "output_type": "stream",
     "text": [
      "The size of tensor a (1104) must match the size of tensor b (1380) at non-singleton dimension 0\n",
      "error\n",
      "Epoch 55, AALoss: 2968.4351, Edge Loss: 1496.1977, vq Loss: 151475.1557 , foldx Loss: 14.5324\n"
     ]
    },
    {
     "name": "stderr",
     "output_type": "stream",
     "text": [
      "100%|█████████████████████████████████████████████████████████████████████████████████████████████████████████████████████████| 95/95 [02:23<00:00,  1.51s/it]\n"
     ]
    },
    {
     "name": "stdout",
     "output_type": "stream",
     "text": [
      "The size of tensor a (1104) must match the size of tensor b (1380) at non-singleton dimension 0\n",
      "error\n",
      "Epoch 56, AALoss: 277.0621, Edge Loss: 2164.4308, vq Loss: 483.4663 , foldx Loss: 13.2913\n"
     ]
    },
    {
     "name": "stderr",
     "output_type": "stream",
     "text": [
      "100%|█████████████████████████████████████████████████████████████████████████████████████████████████████████████████████████| 95/95 [02:21<00:00,  1.49s/it]\n"
     ]
    },
    {
     "name": "stdout",
     "output_type": "stream",
     "text": [
      "The size of tensor a (1104) must match the size of tensor b (1380) at non-singleton dimension 0\n",
      "error\n",
      "Epoch 57, AALoss: 275.2984, Edge Loss: 2164.4307, vq Loss: 483.4663 , foldx Loss: 13.2531\n"
     ]
    },
    {
     "name": "stderr",
     "output_type": "stream",
     "text": [
      "100%|█████████████████████████████████████████████████████████████████████████████████████████████████████████████████████████| 95/95 [02:22<00:00,  1.50s/it]\n"
     ]
    },
    {
     "name": "stdout",
     "output_type": "stream",
     "text": [
      "The size of tensor a (1104) must match the size of tensor b (1380) at non-singleton dimension 0\n",
      "error\n",
      "Epoch 58, AALoss: 274.2521, Edge Loss: 2164.4308, vq Loss: 483.4663 , foldx Loss: 13.1084\n"
     ]
    },
    {
     "name": "stderr",
     "output_type": "stream",
     "text": [
      "100%|█████████████████████████████████████████████████████████████████████████████████████████████████████████████████████████| 95/95 [02:28<00:00,  1.57s/it]\n"
     ]
    },
    {
     "name": "stdout",
     "output_type": "stream",
     "text": [
      "The size of tensor a (1104) must match the size of tensor b (1380) at non-singleton dimension 0\n",
      "error\n",
      "Epoch 59, AALoss: 273.5862, Edge Loss: 2164.4307, vq Loss: 483.4663 , foldx Loss: 13.2845\n"
     ]
    },
    {
     "name": "stderr",
     "output_type": "stream",
     "text": [
      "100%|█████████████████████████████████████████████████████████████████████████████████████████████████████████████████████████| 95/95 [02:26<00:00,  1.54s/it]\n"
     ]
    },
    {
     "name": "stdout",
     "output_type": "stream",
     "text": [
      "The size of tensor a (1104) must match the size of tensor b (1380) at non-singleton dimension 0\n",
      "error\n",
      "Epoch 60, AALoss: 273.1543, Edge Loss: 2164.4308, vq Loss: 483.4663 , foldx Loss: 13.2864\n"
     ]
    },
    {
     "name": "stderr",
     "output_type": "stream",
     "text": [
      "100%|█████████████████████████████████████████████████████████████████████████████████████████████████████████████████████████| 95/95 [02:27<00:00,  1.55s/it]\n"
     ]
    },
    {
     "name": "stdout",
     "output_type": "stream",
     "text": [
      "The size of tensor a (1104) must match the size of tensor b (1380) at non-singleton dimension 0\n",
      "error\n",
      "Epoch 61, AALoss: 272.8787, Edge Loss: 2164.4307, vq Loss: 483.4663 , foldx Loss: 13.2950\n"
     ]
    },
    {
     "name": "stderr",
     "output_type": "stream",
     "text": [
      "100%|█████████████████████████████████████████████████████████████████████████████████████████████████████████████████████████| 95/95 [02:26<00:00,  1.54s/it]\n"
     ]
    },
    {
     "name": "stdout",
     "output_type": "stream",
     "text": [
      "The size of tensor a (1104) must match the size of tensor b (1380) at non-singleton dimension 0\n",
      "error\n",
      "Epoch 62, AALoss: 272.6858, Edge Loss: 2164.4308, vq Loss: 483.4663 , foldx Loss: 13.2640\n"
     ]
    },
    {
     "name": "stderr",
     "output_type": "stream",
     "text": [
      "100%|█████████████████████████████████████████████████████████████████████████████████████████████████████████████████████████| 95/95 [02:23<00:00,  1.51s/it]\n"
     ]
    },
    {
     "name": "stdout",
     "output_type": "stream",
     "text": [
      "The size of tensor a (1104) must match the size of tensor b (1380) at non-singleton dimension 0\n",
      "error\n",
      "Epoch 63, AALoss: 272.5610, Edge Loss: 2164.4308, vq Loss: 483.4663 , foldx Loss: 13.2717\n"
     ]
    },
    {
     "name": "stderr",
     "output_type": "stream",
     "text": [
      "100%|█████████████████████████████████████████████████████████████████████████████████████████████████████████████████████████| 95/95 [02:24<00:00,  1.52s/it]\n"
     ]
    },
    {
     "name": "stdout",
     "output_type": "stream",
     "text": [
      "The size of tensor a (1104) must match the size of tensor b (1380) at non-singleton dimension 0\n",
      "error\n",
      "Epoch 64, AALoss: 272.4828, Edge Loss: 2164.4307, vq Loss: 483.4663 , foldx Loss: 13.2792\n"
     ]
    },
    {
     "name": "stderr",
     "output_type": "stream",
     "text": [
      "100%|█████████████████████████████████████████████████████████████████████████████████████████████████████████████████████████| 95/95 [02:22<00:00,  1.50s/it]\n"
     ]
    },
    {
     "name": "stdout",
     "output_type": "stream",
     "text": [
      "The size of tensor a (1104) must match the size of tensor b (1380) at non-singleton dimension 0\n",
      "error\n",
      "Epoch 65, AALoss: 272.4271, Edge Loss: 2164.4307, vq Loss: 483.4663 , foldx Loss: 13.2564\n"
     ]
    },
    {
     "name": "stderr",
     "output_type": "stream",
     "text": [
      "100%|█████████████████████████████████████████████████████████████████████████████████████████████████████████████████████████| 95/95 [02:24<00:00,  1.52s/it]\n"
     ]
    },
    {
     "name": "stdout",
     "output_type": "stream",
     "text": [
      "The size of tensor a (1104) must match the size of tensor b (1380) at non-singleton dimension 0\n",
      "error\n",
      "Epoch 66, AALoss: 272.3851, Edge Loss: 2164.4308, vq Loss: 483.4663 , foldx Loss: 13.2505\n"
     ]
    },
    {
     "name": "stderr",
     "output_type": "stream",
     "text": [
      "100%|█████████████████████████████████████████████████████████████████████████████████████████████████████████████████████████| 95/95 [02:26<00:00,  1.55s/it]\n"
     ]
    },
    {
     "name": "stdout",
     "output_type": "stream",
     "text": [
      "The size of tensor a (1104) must match the size of tensor b (1380) at non-singleton dimension 0\n",
      "error\n",
      "Epoch 67, AALoss: 272.3594, Edge Loss: 2164.4307, vq Loss: 483.4663 , foldx Loss: 13.2764\n"
     ]
    },
    {
     "name": "stderr",
     "output_type": "stream",
     "text": [
      "100%|█████████████████████████████████████████████████████████████████████████████████████████████████████████████████████████| 95/95 [02:22<00:00,  1.50s/it]\n"
     ]
    },
    {
     "name": "stdout",
     "output_type": "stream",
     "text": [
      "The size of tensor a (1104) must match the size of tensor b (1380) at non-singleton dimension 0\n",
      "error\n",
      "Epoch 68, AALoss: 272.3300, Edge Loss: 2164.4307, vq Loss: 483.4663 , foldx Loss: 13.2894\n"
     ]
    },
    {
     "name": "stderr",
     "output_type": "stream",
     "text": [
      "100%|█████████████████████████████████████████████████████████████████████████████████████████████████████████████████████████| 95/95 [02:21<00:00,  1.49s/it]\n"
     ]
    },
    {
     "name": "stdout",
     "output_type": "stream",
     "text": [
      "The size of tensor a (1104) must match the size of tensor b (1380) at non-singleton dimension 0\n",
      "error\n",
      "Epoch 69, AALoss: 272.3397, Edge Loss: 2164.4308, vq Loss: 483.4649 , foldx Loss: 13.2264\n"
     ]
    },
    {
     "name": "stderr",
     "output_type": "stream",
     "text": [
      "100%|█████████████████████████████████████████████████████████████████████████████████████████████████████████████████████████| 95/95 [02:20<00:00,  1.48s/it]\n"
     ]
    },
    {
     "name": "stdout",
     "output_type": "stream",
     "text": [
      "The size of tensor a (1104) must match the size of tensor b (1380) at non-singleton dimension 0\n",
      "error\n",
      "Epoch 70, AALoss: 272.3122, Edge Loss: 2164.4307, vq Loss: 483.4647 , foldx Loss: 13.3000\n"
     ]
    },
    {
     "name": "stderr",
     "output_type": "stream",
     "text": [
      "100%|█████████████████████████████████████████████████████████████████████████████████████████████████████████████████████████| 95/95 [02:23<00:00,  1.51s/it]\n"
     ]
    },
    {
     "name": "stdout",
     "output_type": "stream",
     "text": [
      "The size of tensor a (1104) must match the size of tensor b (1380) at non-singleton dimension 0\n",
      "error\n",
      "Epoch 71, AALoss: 272.3088, Edge Loss: 2164.4307, vq Loss: 483.4648 , foldx Loss: 13.2617\n"
     ]
    },
    {
     "name": "stderr",
     "output_type": "stream",
     "text": [
      "100%|█████████████████████████████████████████████████████████████████████████████████████████████████████████████████████████| 95/95 [02:24<00:00,  1.52s/it]\n"
     ]
    },
    {
     "name": "stdout",
     "output_type": "stream",
     "text": [
      "The size of tensor a (1104) must match the size of tensor b (1380) at non-singleton dimension 0\n",
      "error\n",
      "Epoch 72, AALoss: 272.3136, Edge Loss: 2164.4307, vq Loss: 483.4520 , foldx Loss: 13.2295\n"
     ]
    },
    {
     "name": "stderr",
     "output_type": "stream",
     "text": [
      "100%|█████████████████████████████████████████████████████████████████████████████████████████████████████████████████████████| 95/95 [02:22<00:00,  1.50s/it]\n"
     ]
    },
    {
     "name": "stdout",
     "output_type": "stream",
     "text": [
      "The size of tensor a (1104) must match the size of tensor b (1380) at non-singleton dimension 0\n",
      "error\n",
      "Epoch 73, AALoss: 272.2972, Edge Loss: 2164.4308, vq Loss: 483.4604 , foldx Loss: 13.2322\n"
     ]
    },
    {
     "name": "stderr",
     "output_type": "stream",
     "text": [
      "100%|█████████████████████████████████████████████████████████████████████████████████████████████████████████████████████████| 95/95 [02:24<00:00,  1.52s/it]\n"
     ]
    },
    {
     "name": "stdout",
     "output_type": "stream",
     "text": [
      "The size of tensor a (1104) must match the size of tensor b (1380) at non-singleton dimension 0\n",
      "error\n",
      "Epoch 74, AALoss: 272.3150, Edge Loss: 2164.4308, vq Loss: 483.4564 , foldx Loss: 13.2480\n"
     ]
    },
    {
     "name": "stderr",
     "output_type": "stream",
     "text": [
      "100%|█████████████████████████████████████████████████████████████████████████████████████████████████████████████████████████| 95/95 [02:23<00:00,  1.51s/it]\n"
     ]
    },
    {
     "name": "stdout",
     "output_type": "stream",
     "text": [
      "The size of tensor a (1104) must match the size of tensor b (1380) at non-singleton dimension 0\n",
      "error\n",
      "Epoch 75, AALoss: 272.3222, Edge Loss: 2164.4308, vq Loss: 483.4587 , foldx Loss: 13.2444\n"
     ]
    },
    {
     "name": "stderr",
     "output_type": "stream",
     "text": [
      "100%|█████████████████████████████████████████████████████████████████████████████████████████████████████████████████████████| 95/95 [02:23<00:00,  1.51s/it]\n"
     ]
    },
    {
     "name": "stdout",
     "output_type": "stream",
     "text": [
      "The size of tensor a (1104) must match the size of tensor b (1380) at non-singleton dimension 0\n",
      "error\n",
      "Epoch 76, AALoss: 272.3006, Edge Loss: 2164.4309, vq Loss: 483.0945 , foldx Loss: 13.2508\n"
     ]
    },
    {
     "name": "stderr",
     "output_type": "stream",
     "text": [
      "100%|█████████████████████████████████████████████████████████████████████████████████████████████████████████████████████████| 95/95 [02:26<00:00,  1.54s/it]\n"
     ]
    },
    {
     "name": "stdout",
     "output_type": "stream",
     "text": [
      "The size of tensor a (1104) must match the size of tensor b (1380) at non-singleton dimension 0\n",
      "error\n",
      "Epoch 77, AALoss: 272.3145, Edge Loss: 2164.4308, vq Loss: 482.0155 , foldx Loss: 13.2503\n"
     ]
    },
    {
     "name": "stderr",
     "output_type": "stream",
     "text": [
      "100%|█████████████████████████████████████████████████████████████████████████████████████████████████████████████████████████| 95/95 [02:24<00:00,  1.52s/it]\n"
     ]
    },
    {
     "name": "stdout",
     "output_type": "stream",
     "text": [
      "The size of tensor a (1104) must match the size of tensor b (1380) at non-singleton dimension 0\n",
      "error\n",
      "Epoch 78, AALoss: 272.3198, Edge Loss: 2164.4307, vq Loss: 481.9667 , foldx Loss: 13.2062\n"
     ]
    },
    {
     "name": "stderr",
     "output_type": "stream",
     "text": [
      "100%|█████████████████████████████████████████████████████████████████████████████████████████████████████████████████████████| 95/95 [02:23<00:00,  1.51s/it]\n"
     ]
    },
    {
     "name": "stdout",
     "output_type": "stream",
     "text": [
      "The size of tensor a (1104) must match the size of tensor b (1380) at non-singleton dimension 0\n",
      "error\n",
      "Epoch 79, AALoss: 272.3038, Edge Loss: 2164.4307, vq Loss: 482.3646 , foldx Loss: 13.2590\n"
     ]
    },
    {
     "name": "stderr",
     "output_type": "stream",
     "text": [
      "100%|█████████████████████████████████████████████████████████████████████████████████████████████████████████████████████████| 95/95 [02:20<00:00,  1.48s/it]\n"
     ]
    },
    {
     "name": "stdout",
     "output_type": "stream",
     "text": [
      "The size of tensor a (1104) must match the size of tensor b (1380) at non-singleton dimension 0\n",
      "error\n",
      "Epoch 80, AALoss: 272.3007, Edge Loss: 2164.4307, vq Loss: 483.0204 , foldx Loss: 13.1861\n"
     ]
    },
    {
     "name": "stderr",
     "output_type": "stream",
     "text": [
      "100%|█████████████████████████████████████████████████████████████████████████████████████████████████████████████████████████| 95/95 [02:21<00:00,  1.49s/it]\n"
     ]
    },
    {
     "name": "stdout",
     "output_type": "stream",
     "text": [
      "The size of tensor a (1104) must match the size of tensor b (1380) at non-singleton dimension 0\n",
      "error\n",
      "Epoch 81, AALoss: 272.3101, Edge Loss: 2164.4308, vq Loss: 483.1372 , foldx Loss: 13.2915\n"
     ]
    },
    {
     "name": "stderr",
     "output_type": "stream",
     "text": [
      "100%|█████████████████████████████████████████████████████████████████████████████████████████████████████████████████████████| 95/95 [02:21<00:00,  1.49s/it]\n"
     ]
    },
    {
     "name": "stdout",
     "output_type": "stream",
     "text": [
      "The size of tensor a (1104) must match the size of tensor b (1380) at non-singleton dimension 0\n",
      "error\n",
      "Epoch 82, AALoss: 272.2972, Edge Loss: 2164.4307, vq Loss: 480.8149 , foldx Loss: 13.1835\n"
     ]
    },
    {
     "name": "stderr",
     "output_type": "stream",
     "text": [
      "100%|█████████████████████████████████████████████████████████████████████████████████████████████████████████████████████████| 95/95 [02:21<00:00,  1.49s/it]\n"
     ]
    },
    {
     "name": "stdout",
     "output_type": "stream",
     "text": [
      "The size of tensor a (1104) must match the size of tensor b (1380) at non-singleton dimension 0\n",
      "error\n",
      "Epoch 83, AALoss: 272.3178, Edge Loss: 2164.4308, vq Loss: 480.4887 , foldx Loss: 13.2306\n"
     ]
    },
    {
     "name": "stderr",
     "output_type": "stream",
     "text": [
      "100%|█████████████████████████████████████████████████████████████████████████████████████████████████████████████████████████| 95/95 [02:22<00:00,  1.50s/it]\n"
     ]
    },
    {
     "name": "stdout",
     "output_type": "stream",
     "text": [
      "The size of tensor a (1104) must match the size of tensor b (1380) at non-singleton dimension 0\n",
      "error\n",
      "Epoch 84, AALoss: 272.2945, Edge Loss: 2164.4306, vq Loss: 480.4666 , foldx Loss: 13.1951\n"
     ]
    },
    {
     "name": "stderr",
     "output_type": "stream",
     "text": [
      "100%|█████████████████████████████████████████████████████████████████████████████████████████████████████████████████████████| 95/95 [02:21<00:00,  1.49s/it]\n"
     ]
    },
    {
     "name": "stdout",
     "output_type": "stream",
     "text": [
      "The size of tensor a (1104) must match the size of tensor b (1380) at non-singleton dimension 0\n",
      "error\n",
      "Epoch 85, AALoss: 272.2882, Edge Loss: 2164.4307, vq Loss: 480.4342 , foldx Loss: 13.2960\n"
     ]
    },
    {
     "name": "stderr",
     "output_type": "stream",
     "text": [
      "100%|█████████████████████████████████████████████████████████████████████████████████████████████████████████████████████████| 95/95 [02:21<00:00,  1.49s/it]\n"
     ]
    },
    {
     "name": "stdout",
     "output_type": "stream",
     "text": [
      "The size of tensor a (1104) must match the size of tensor b (1380) at non-singleton dimension 0\n",
      "error\n",
      "Epoch 86, AALoss: 272.2945, Edge Loss: 2164.4307, vq Loss: 480.4377 , foldx Loss: 13.2233\n"
     ]
    },
    {
     "name": "stderr",
     "output_type": "stream",
     "text": [
      "100%|█████████████████████████████████████████████████████████████████████████████████████████████████████████████████████████| 95/95 [02:21<00:00,  1.49s/it]\n"
     ]
    },
    {
     "name": "stdout",
     "output_type": "stream",
     "text": [
      "The size of tensor a (1104) must match the size of tensor b (1380) at non-singleton dimension 0\n",
      "error\n",
      "Epoch 87, AALoss: 272.2990, Edge Loss: 2164.4307, vq Loss: 480.4311 , foldx Loss: 13.2469\n"
     ]
    },
    {
     "name": "stderr",
     "output_type": "stream",
     "text": [
      "100%|█████████████████████████████████████████████████████████████████████████████████████████████████████████████████████████| 95/95 [02:24<00:00,  1.52s/it]\n"
     ]
    },
    {
     "name": "stdout",
     "output_type": "stream",
     "text": [
      "The size of tensor a (1104) must match the size of tensor b (1380) at non-singleton dimension 0\n",
      "error\n",
      "Epoch 88, AALoss: 272.2854, Edge Loss: 2164.4308, vq Loss: 480.5391 , foldx Loss: 13.2932\n"
     ]
    },
    {
     "name": "stderr",
     "output_type": "stream",
     "text": [
      "100%|█████████████████████████████████████████████████████████████████████████████████████████████████████████████████████████| 95/95 [02:27<00:00,  1.55s/it]\n"
     ]
    },
    {
     "name": "stdout",
     "output_type": "stream",
     "text": [
      "The size of tensor a (1104) must match the size of tensor b (1380) at non-singleton dimension 0\n",
      "error\n",
      "Epoch 89, AALoss: 272.3199, Edge Loss: 2164.4308, vq Loss: 480.7528 , foldx Loss: 13.2866\n"
     ]
    },
    {
     "name": "stderr",
     "output_type": "stream",
     "text": [
      "100%|█████████████████████████████████████████████████████████████████████████████████████████████████████████████████████████| 95/95 [02:25<00:00,  1.54s/it]\n"
     ]
    },
    {
     "name": "stdout",
     "output_type": "stream",
     "text": [
      "The size of tensor a (1104) must match the size of tensor b (1380) at non-singleton dimension 0\n",
      "error\n",
      "Epoch 90, AALoss: 272.2939, Edge Loss: 2164.4308, vq Loss: 481.1827 , foldx Loss: 13.2834\n"
     ]
    },
    {
     "name": "stderr",
     "output_type": "stream",
     "text": [
      " 51%|█████████████████████████████████████████████████████████████▏                                                           | 48/95 [01:13<01:12,  1.54s/it]\n"
     ]
    },
    {
     "ename": "KeyboardInterrupt",
     "evalue": "",
     "output_type": "error",
     "traceback": [
      "\u001b[0;31m---------------------------------------------------------------------------\u001b[0m",
      "\u001b[0;31mKeyboardInterrupt\u001b[0m                         Traceback (most recent call last)",
      "Cell \u001b[0;32mIn[20], line 55\u001b[0m\n\u001b[1;32m     53\u001b[0m \u001b[38;5;66;03m#plddtloss = x_reconstruction_loss(data['plddt'].x, recon_plddt)\u001b[39;00m\n\u001b[1;32m     54\u001b[0m loss \u001b[38;5;241m=\u001b[39m xweight\u001b[38;5;241m*\u001b[39mxloss \u001b[38;5;241m+\u001b[39m edgeweight\u001b[38;5;241m*\u001b[39medgeloss \u001b[38;5;241m+\u001b[39m vqweight\u001b[38;5;241m*\u001b[39mvqloss \u001b[38;5;241m+\u001b[39m foldxloss\u001b[38;5;241m*\u001b[39mfoldxweight\n\u001b[0;32m---> 55\u001b[0m \u001b[43mloss\u001b[49m\u001b[38;5;241;43m.\u001b[39;49m\u001b[43mbackward\u001b[49m\u001b[43m(\u001b[49m\u001b[43m)\u001b[49m\n\u001b[1;32m     56\u001b[0m optimizer\u001b[38;5;241m.\u001b[39mstep()\n\u001b[1;32m     57\u001b[0m total_loss_edge \u001b[38;5;241m+\u001b[39m\u001b[38;5;241m=\u001b[39m edgeloss\u001b[38;5;241m.\u001b[39mitem()\n",
      "File \u001b[0;32m~/miniforge3/envs/pyg/lib/python3.12/site-packages/torch/_tensor.py:521\u001b[0m, in \u001b[0;36mTensor.backward\u001b[0;34m(self, gradient, retain_graph, create_graph, inputs)\u001b[0m\n\u001b[1;32m    511\u001b[0m \u001b[38;5;28;01mif\u001b[39;00m has_torch_function_unary(\u001b[38;5;28mself\u001b[39m):\n\u001b[1;32m    512\u001b[0m     \u001b[38;5;28;01mreturn\u001b[39;00m handle_torch_function(\n\u001b[1;32m    513\u001b[0m         Tensor\u001b[38;5;241m.\u001b[39mbackward,\n\u001b[1;32m    514\u001b[0m         (\u001b[38;5;28mself\u001b[39m,),\n\u001b[0;32m   (...)\u001b[0m\n\u001b[1;32m    519\u001b[0m         inputs\u001b[38;5;241m=\u001b[39minputs,\n\u001b[1;32m    520\u001b[0m     )\n\u001b[0;32m--> 521\u001b[0m \u001b[43mtorch\u001b[49m\u001b[38;5;241;43m.\u001b[39;49m\u001b[43mautograd\u001b[49m\u001b[38;5;241;43m.\u001b[39;49m\u001b[43mbackward\u001b[49m\u001b[43m(\u001b[49m\n\u001b[1;32m    522\u001b[0m \u001b[43m    \u001b[49m\u001b[38;5;28;43mself\u001b[39;49m\u001b[43m,\u001b[49m\u001b[43m \u001b[49m\u001b[43mgradient\u001b[49m\u001b[43m,\u001b[49m\u001b[43m \u001b[49m\u001b[43mretain_graph\u001b[49m\u001b[43m,\u001b[49m\u001b[43m \u001b[49m\u001b[43mcreate_graph\u001b[49m\u001b[43m,\u001b[49m\u001b[43m \u001b[49m\u001b[43minputs\u001b[49m\u001b[38;5;241;43m=\u001b[39;49m\u001b[43minputs\u001b[49m\n\u001b[1;32m    523\u001b[0m \u001b[43m\u001b[49m\u001b[43m)\u001b[49m\n",
      "File \u001b[0;32m~/miniforge3/envs/pyg/lib/python3.12/site-packages/torch/autograd/__init__.py:289\u001b[0m, in \u001b[0;36mbackward\u001b[0;34m(tensors, grad_tensors, retain_graph, create_graph, grad_variables, inputs)\u001b[0m\n\u001b[1;32m    284\u001b[0m     retain_graph \u001b[38;5;241m=\u001b[39m create_graph\n\u001b[1;32m    286\u001b[0m \u001b[38;5;66;03m# The reason we repeat the same comment below is that\u001b[39;00m\n\u001b[1;32m    287\u001b[0m \u001b[38;5;66;03m# some Python versions print out the first line of a multi-line function\u001b[39;00m\n\u001b[1;32m    288\u001b[0m \u001b[38;5;66;03m# calls in the traceback and some print out the last line\u001b[39;00m\n\u001b[0;32m--> 289\u001b[0m \u001b[43m_engine_run_backward\u001b[49m\u001b[43m(\u001b[49m\n\u001b[1;32m    290\u001b[0m \u001b[43m    \u001b[49m\u001b[43mtensors\u001b[49m\u001b[43m,\u001b[49m\n\u001b[1;32m    291\u001b[0m \u001b[43m    \u001b[49m\u001b[43mgrad_tensors_\u001b[49m\u001b[43m,\u001b[49m\n\u001b[1;32m    292\u001b[0m \u001b[43m    \u001b[49m\u001b[43mretain_graph\u001b[49m\u001b[43m,\u001b[49m\n\u001b[1;32m    293\u001b[0m \u001b[43m    \u001b[49m\u001b[43mcreate_graph\u001b[49m\u001b[43m,\u001b[49m\n\u001b[1;32m    294\u001b[0m \u001b[43m    \u001b[49m\u001b[43minputs\u001b[49m\u001b[43m,\u001b[49m\n\u001b[1;32m    295\u001b[0m \u001b[43m    \u001b[49m\u001b[43mallow_unreachable\u001b[49m\u001b[38;5;241;43m=\u001b[39;49m\u001b[38;5;28;43;01mTrue\u001b[39;49;00m\u001b[43m,\u001b[49m\n\u001b[1;32m    296\u001b[0m \u001b[43m    \u001b[49m\u001b[43maccumulate_grad\u001b[49m\u001b[38;5;241;43m=\u001b[39;49m\u001b[38;5;28;43;01mTrue\u001b[39;49;00m\u001b[43m,\u001b[49m\n\u001b[1;32m    297\u001b[0m \u001b[43m\u001b[49m\u001b[43m)\u001b[49m\n",
      "File \u001b[0;32m~/miniforge3/envs/pyg/lib/python3.12/site-packages/torch/autograd/graph.py:768\u001b[0m, in \u001b[0;36m_engine_run_backward\u001b[0;34m(t_outputs, *args, **kwargs)\u001b[0m\n\u001b[1;32m    766\u001b[0m     unregister_hooks \u001b[38;5;241m=\u001b[39m _register_logging_hooks_on_whole_graph(t_outputs)\n\u001b[1;32m    767\u001b[0m \u001b[38;5;28;01mtry\u001b[39;00m:\n\u001b[0;32m--> 768\u001b[0m     \u001b[38;5;28;01mreturn\u001b[39;00m \u001b[43mVariable\u001b[49m\u001b[38;5;241;43m.\u001b[39;49m\u001b[43m_execution_engine\u001b[49m\u001b[38;5;241;43m.\u001b[39;49m\u001b[43mrun_backward\u001b[49m\u001b[43m(\u001b[49m\u001b[43m  \u001b[49m\u001b[38;5;66;43;03m# Calls into the C++ engine to run the backward pass\u001b[39;49;00m\n\u001b[1;32m    769\u001b[0m \u001b[43m        \u001b[49m\u001b[43mt_outputs\u001b[49m\u001b[43m,\u001b[49m\u001b[43m \u001b[49m\u001b[38;5;241;43m*\u001b[39;49m\u001b[43margs\u001b[49m\u001b[43m,\u001b[49m\u001b[43m \u001b[49m\u001b[38;5;241;43m*\u001b[39;49m\u001b[38;5;241;43m*\u001b[39;49m\u001b[43mkwargs\u001b[49m\n\u001b[1;32m    770\u001b[0m \u001b[43m    \u001b[49m\u001b[43m)\u001b[49m  \u001b[38;5;66;03m# Calls into the C++ engine to run the backward pass\u001b[39;00m\n\u001b[1;32m    771\u001b[0m \u001b[38;5;28;01mfinally\u001b[39;00m:\n\u001b[1;32m    772\u001b[0m     \u001b[38;5;28;01mif\u001b[39;00m attach_logging_hooks:\n",
      "\u001b[0;31mKeyboardInterrupt\u001b[0m: "
     ]
    }
   ],
   "source": [
    "if train_loop == True:\n",
    "\ttrain_loader = DataLoader(struct_dat, batch_size=batch_size, shuffle=True)\n",
    "\toptimizer = torch.optim.Adam(list(encoder.parameters()) + list(decoder.parameters()), lr=0.001)\n",
    "\tencoder.train()\n",
    "\tdecoder.train()\n",
    "\txlosses = []\n",
    "\tedgelosses = []\n",
    "\tvqlosses = []\n",
    "\tfoldxlosses = []\n",
    "\t\n",
    "\tedgeweight = 1\n",
    "\txweight = 1\n",
    "\tvqweight = 1\n",
    "\tfoldxweight = 1\n",
    "\tinit = False\n",
    "\t\n",
    "\tfor epoch in range(1000):\n",
    "\t\tfor data in tqdm.tqdm(train_loader):\n",
    "\t\t\tdata = data.to(device)\n",
    "\t\t\t\n",
    "\t\t\tif init == False:\n",
    "\t\t\t\twith torch.no_grad():  # Initialize lazy modules.\n",
    "\n",
    "\t\t\t\t\tz,vqloss = encoder.forward(data.x_dict , data.edge_index_dict)\n",
    "\t\t\t\t\trecon_x , edge_probs , zgodnode , foldxout = decoder( z, data.x_dict, data.edge_index_dict , None ) \n",
    "\t\t\t\t\tinit = True\n",
    "\t\t\t#normalize the foldx values\n",
    "\t\t\tfoldx = data['Foldx'].x\n",
    "\t\t\t#elementwise normalization\n",
    "\t\t\ttry:\n",
    "\t\t\t\tfoldx = (foldx - mean)/( variance + 10**-6 )\n",
    "\t\t\texcept Exception as e:\n",
    "\t\t\t\tprint(e)\n",
    "\t\t\t\tprint('error')\n",
    "\t\t\t\tcontinue\n",
    "\n",
    "\t\t\toptimizer.zero_grad()\n",
    "\t\t\tz,vqloss = encoder.forward(data.x_dict , data.edge_index_dict)\n",
    "\t\t\t#add positional encoding to give to the decoder\n",
    "\t\t\t#remove the godnode from data xdict, set the residues to the embeddings\n",
    "\t\t\t#data.x_dict.pop('godnode')\n",
    "\t\t\t#data.x_dict['res'] = z\n",
    "\t\t\t#print( z.shape)\n",
    "\n",
    "\t\t\tedgeloss = ft2.recon_loss( z , data.x_dict, data.edge_index_dict , data.edge_index_dict[('res', 'contactPoints', 'res')] , decoder)\n",
    "\t\t\trecon_x , edge_probs , zgodnode , foldxout = decoder( z, data.x_dict, data.edge_index_dict , None ) \n",
    "\t\t\txloss = ft2.aa_reconstruction_loss(data['AA'].x, recon_x)\n",
    "\t\t\t#get mse loss for foldx values\n",
    "\t\t\t#reshape foldxout to the same shape as foldx\n",
    "\t\t\tfoldxout = foldxout.view(foldx.shape)\n",
    "\t\t\tfoldxloss = F.mse_loss( foldxout , foldx )\n",
    "\n",
    "\t\t\t#plddtloss = x_reconstruction_loss(data['plddt'].x, recon_plddt)\n",
    "\t\t\tloss = xweight*xloss + edgeweight*edgeloss + vqweight*vqloss + foldxloss*foldxweight\n",
    "\t\t\tloss.backward()\n",
    "\t\t\toptimizer.step()\n",
    "\t\t\ttotal_loss_edge += edgeloss.item()\n",
    "\t\t\ttotal_loss_x += xloss.item()\n",
    "\t\t\ttotal_vq += vqloss.item()\n",
    "\t\t\ttotal_foldx += foldxloss.item()\n",
    "\t\t\t#total_plddt += plddtloss.item()\n",
    "\t\tif epoch % 100 == 0 :\n",
    "\t\t\t#save model\n",
    "\t\t\ttorch.save(encoder.state_dict(), encoder_save)\n",
    "\t\t\ttorch.save(decoder.state_dict(), decoder_save)\n",
    "\t\t\"\"\"\n",
    "\t\tfor loss in [( total_loss_x , xlosses , xweight ), (total_loss_edge, edgelosses, edgeweight), ( total_vq, vqlosses, vqweight ) ]:\n",
    "\t\t\tloss[1].append(loss[0])\n",
    "\t\t\t#calculate the mean delta loss for past 10 epochs\n",
    "\t\t\tif len(loss[1]) > 10:\n",
    "\t\t\t\tloss[1].pop(0)\n",
    "\t\t\t\tmean_loss = np.mean(loss[0:5])\n",
    "\t\t\t\t#calculate the delta loss for the last 5 epochs\n",
    "\t\t\t\tdelta_loss = np.mean(loss[1][-5:])\n",
    "\t\t\t\tdelta_loss = delta_loss- mean_loss\n",
    "\t\t\t\tif delta_loss > 0:\n",
    "\t\t\t\t\tloss[2] = loss[2]*2\n",
    "\t\t\t\telse:\n",
    "\t\t\t\t\tloss[2] = loss[2]/1.5\n",
    "\t\t\t\tloss[2] = np.clip(loss[2], 1e-5, 1e5)\n",
    "\t\t\"\"\"    \n",
    "\t\tprint(f'Epoch {epoch}, AALoss: {total_loss_x:.4f}, Edge Loss: {total_loss_edge:.4f}, vq Loss: {total_vq:.4f} , foldx Loss: {total_foldx:.4f}')\n",
    "\t\ttotal_loss_x = 0\n",
    "\t\ttotal_loss_edge = 0\n",
    "\t\ttotal_vq = 0\n",
    "\t\ttotal_foldx = 0\n",
    "\ttorch.save(encoder.state_dict(), encoder_save)\n",
    "\ttorch.save(decoder.state_dict(), decoder_save)"
   ]
  },
  {
   "cell_type": "code",
   "execution_count": 103,
   "metadata": {},
   "outputs": [
    {
     "ename": "",
     "evalue": "",
     "output_type": "error",
     "traceback": [
      "\u001b[1;31mnotebook controller is DISPOSED. \n",
      "\u001b[1;31mView Jupyter <a href='command:jupyter.viewOutput'>log</a> for further details."
     ]
    },
    {
     "ename": "",
     "evalue": "",
     "output_type": "error",
     "traceback": [
      "\u001b[1;31mnotebook controller is DISPOSED. \n",
      "\u001b[1;31mView Jupyter <a href='command:jupyter.viewOutput'>log</a> for further details."
     ]
    },
    {
     "ename": "",
     "evalue": "",
     "output_type": "error",
     "traceback": [
      "\u001b[1;31mnotebook controller is DISPOSED. \n",
      "\u001b[1;31mView Jupyter <a href='command:jupyter.viewOutput'>log</a> for further details."
     ]
    },
    {
     "ename": "",
     "evalue": "",
     "output_type": "error",
     "traceback": [
      "\u001b[1;31mnotebook controller is DISPOSED. \n",
      "\u001b[1;31mView Jupyter <a href='command:jupyter.viewOutput'>log</a> for further details."
     ]
    },
    {
     "ename": "",
     "evalue": "",
     "output_type": "error",
     "traceback": [
      "\u001b[1;31mnotebook controller is DISPOSED. \n",
      "\u001b[1;31mView Jupyter <a href='command:jupyter.viewOutput'>log</a> for further details."
     ]
    },
    {
     "ename": "",
     "evalue": "",
     "output_type": "error",
     "traceback": [
      "\u001b[1;31mnotebook controller is DISPOSED. \n",
      "\u001b[1;31mView Jupyter <a href='command:jupyter.viewOutput'>log</a> for further details."
     ]
    }
   ],
   "source": [
    "#predict the embeddings for a structure\n",
    "def predict_structure(structure, encoder, decoder):\n",
    "\tencoder.eval()\n",
    "\tdecoder.eval()\n",
    "\tdata = converter.struct2pyg(structure)\n",
    "\tdata = data.to(device)\n",
    "\tz,qloss = encoder.forward(data['res'].x , data['AA'].x,  data.edge_index_dict)\n",
    "\t#create all vs all edge index\n",
    "\tedge_index = torch.tensor( [ [i,j] for i in range(z.shape[0]) for j in range(z.shape[0]) ] ).T\n",
    "\t#z = torch.cat([ data['positions'].x , z] , axis = 1)\n",
    "\trecon_x, edge_probs = decoder(z , edge_index , data.edge_index_dict )\n",
    "\treturn z, recon_x, edge_probs , data"
   ]
  },
  {
   "cell_type": "code",
   "execution_count": 104,
   "metadata": {},
   "outputs": [
    {
     "ename": "",
     "evalue": "",
     "output_type": "error",
     "traceback": [
      "\u001b[1;31mnotebook controller is DISPOSED. \n",
      "\u001b[1;31mView Jupyter <a href='command:jupyter.viewOutput'>log</a> for further details."
     ]
    },
    {
     "ename": "",
     "evalue": "",
     "output_type": "error",
     "traceback": [
      "\u001b[1;31mnotebook controller is DISPOSED. \n",
      "\u001b[1;31mView Jupyter <a href='command:jupyter.viewOutput'>log</a> for further details."
     ]
    },
    {
     "ename": "",
     "evalue": "",
     "output_type": "error",
     "traceback": [
      "\u001b[1;31mnotebook controller is DISPOSED. \n",
      "\u001b[1;31mView Jupyter <a href='command:jupyter.viewOutput'>log</a> for further details."
     ]
    },
    {
     "ename": "",
     "evalue": "",
     "output_type": "error",
     "traceback": [
      "\u001b[1;31mnotebook controller is DISPOSED. \n",
      "\u001b[1;31mView Jupyter <a href='command:jupyter.viewOutput'>log</a> for further details."
     ]
    },
    {
     "ename": "",
     "evalue": "",
     "output_type": "error",
     "traceback": [
      "\u001b[1;31mnotebook controller is DISPOSED. \n",
      "\u001b[1;31mView Jupyter <a href='command:jupyter.viewOutput'>log</a> for further details."
     ]
    },
    {
     "ename": "",
     "evalue": "",
     "output_type": "error",
     "traceback": [
      "\u001b[1;31mnotebook controller is DISPOSED. \n",
      "\u001b[1;31mView Jupyter <a href='command:jupyter.viewOutput'>log</a> for further details."
     ]
    }
   ],
   "source": [
    "from matplotlib import pyplot as plt\n",
    "from Bio.PDB import PDBParser\n",
    "from Bio import PDB\n",
    "\n",
    "def plot_embeddings(filename, encoder, decoder):\n",
    "\tz, recon_x, edge_probs,data = predict_structure(filename, encoder, decoder)\n",
    "\tz = z.detach().cpu().numpy()\n",
    "\tedge_probs = edge_probs.detach().cpu().numpy()\n",
    "\tprint(edge_probs.shape)\n",
    "\t#reshape the edge probabilities into a matrix\n",
    "\tedge_probs = edge_probs.reshape((z.shape[0], z.shape[0]))\n",
    "\tprint(edge_probs.shape)\n",
    "\tprint(edge_probs)\n",
    "\t#get edge index for the structure\n",
    "\t#plot the edge probabilities\n",
    "\tplt.figure(figsize=(10,10))\n",
    "\tplt.title('Edge Probabilities ' + filename)\n",
    "\tplt.imshow(1-edge_probs)\n",
    "\tplt.colorbar()\n",
    "\tplt.show()\n",
    "\n",
    "\n",
    "\tplt.figure(figsize=(10,10))\n",
    "\tplt.title('log Edge Probabilities ' + filename)\n",
    "\tplt.imshow( np.log( 1-edge_probs ))\n",
    "\tplt.colorbar()\n",
    "\tplt.show()\n",
    "\n",
    "\t#plot the distance matrix\n",
    "\tchain = converter.read_pdb(filename)[0]\n",
    "\tchain = [ r for r in chain if PDB.is_aa(r)]\n",
    "\tdistances = np.zeros((len(chain), len(chain)))\n",
    "\tfor i in range(len(chain)):\n",
    "\t\tfor j in range(len(chain)):\n",
    "\t\t\tdistances[i,j] = chain[i]['CA'] - chain[j]['CA']\n",
    "\tplt.figure(figsize=(10,10))\n",
    "\tplt.title('distmat ' + filename)\n",
    "\n",
    "\tplt.imshow(distances)\n",
    "\tplt.colorbar()\n",
    "\n",
    "\tdistances[distances>10] = 0\n",
    "\tplt.figure(figsize=(10,10))\n",
    "\tplt.title('contactmat ' + filename)\n",
    "\n",
    "\tplt.imshow(distances)\n",
    "\tplt.colorbar()\n",
    "\t#transform the embeddings to the quantized string\n",
    "\tencoded_string = encoder.vector_quantizer.discretize_z(torch.tensor(z).to(device))\n",
    "\tprint('encoded', encoded_string)\n",
    "\tplt.show()\n",
    "\t\n",
    "\tplt.imshow(recon_x.detach().cpu().numpy())\n",
    "\tplt.colorbar()\n",
    "\tplt.show()\n",
    "\n",
    "\tplt.imshow(data['AA'].x.detach().cpu().numpy())\n",
    "\tplt.colorbar()\n",
    "\tplt.show()\n"
   ]
  },
  {
   "cell_type": "code",
   "execution_count": 105,
   "metadata": {},
   "outputs": [
    {
     "name": "stdout",
     "output_type": "stream",
     "text": [
      "(10609,)\n",
      "(103, 103)\n",
      "[[0.996064   0.9953792  0.99507624 ... 0.9871723  0.9890037  0.98846614]\n",
      " [0.9953792  0.9949114  0.9945709  ... 0.9883937  0.9903499  0.98971844]\n",
      " [0.99507624 0.9945709  0.9944259  ... 0.98581934 0.98827016 0.9872348 ]\n",
      " ...\n",
      " [0.9871723  0.9883937  0.98581934 ... 0.99469596 0.9952253  0.9954921 ]\n",
      " [0.9890037  0.9903499  0.98827016 ... 0.9952253  0.996503   0.99618703]\n",
      " [0.98846614 0.98971844 0.9872348  ... 0.9954921  0.99618703 0.99629384]]\n"
     ]
    },
    {
     "data": {
      "image/png": "[encoded data removed]",
      "text/plain": [
       "<Figure size 1000x1000 with 2 Axes>"
      ]
     },
     "metadata": {},
     "output_type": "display_data"
    },
    {
     "data": {
      "image/png": "[encoded data removed]",
      "text/plain": [
       "<Figure size 1000x1000 with 2 Axes>"
      ]
     },
     "metadata": {},
     "output_type": "display_data"
    },
    {
     "name": "stdout",
     "output_type": "stream",
     "text": [
      "encoded (tensor([234, 234, 219, 165,  60, 191, 234,  84, 240,  95, 211, 247, 179,  61,\n",
      "         90, 234, 165, 191,  61, 234, 240,  90,  84,  94, 191,  68, 167, 179,\n",
      "         64,  56, 111, 122, 211, 185,  94, 182,  56, 171, 211, 191, 191, 234,\n",
      "         68,  94,  60,  23, 211, 234,  68, 227, 121,  56, 121, 219, 185, 125,\n",
      "        137, 130, 201,  83, 160, 227, 223, 223, 211, 191,  56,  17, 171, 223,\n",
      "         83,  62, 240,  17, 191, 211, 179, 240, 234,  78, 211, 139, 121,  78,\n",
      "        139, 240,  95, 121,   8,  60,  60,  94, 234, 138,  61, 211, 191, 211,\n",
      "        211, 191, 158, 171,  90], device='cuda:0'), ['ê', 'ê', 'Û', '¥', '<', '¿', 'ê', 'T', 'ð', '_', 'Ó', '÷', '³', '=', 'Z', 'ê', '¥', '¿', '=', 'ê', 'ð', 'Z', 'T', '^', '¿', 'D', '§', '³', '@', '8', 'o', 'z', 'Ó', '¹', '^', '¶', '8', '«', 'Ó', '¿', '¿', 'ê', 'D', '^', '<', '\\x17', 'Ó', 'ê', 'D', 'ã', 'y', '8', 'y', 'Û', '¹', '}', '\\x89', '\\x82', 'É', 'S', '\\xa0', 'ã', 'ß', 'ß', 'Ó', '¿', '8', '\\x11', '«', 'ß', 'S', '>', 'ð', '\\x11', '¿', 'Ó', '³', 'ð', 'ê', 'N', 'Ó', '\\x8b', 'y', 'N', '\\x8b', 'ð', '_', 'y', '\\x08', '<', '<', '^', 'ê', '\\x8a', '=', 'Ó', '¿', 'Ó', 'Ó', '¿', '\\x9e', '«', 'Z'])\n"
     ]
    },
    {
     "data": {
      "image/png": "[encoded data removed]",
      "text/plain": [
       "<Figure size 1000x1000 with 2 Axes>"
      ]
     },
     "metadata": {},
     "output_type": "display_data"
    },
    {
     "data": {
      "image/png": "[encoded data removed]",
      "text/plain": [
       "<Figure size 1000x1000 with 2 Axes>"
      ]
     },
     "metadata": {},
     "output_type": "display_data"
    },
    {
     "data": {
      "image/png": "[encoded data removed]",
      "text/plain": [
       "<Figure size 640x480 with 2 Axes>"
      ]
     },
     "metadata": {},
     "output_type": "display_data"
    },
    {
     "data": {
      "image/png": "[encoded data removed]",
      "text/plain": [
       "<Figure size 640x480 with 2 Axes>"
      ]
     },
     "metadata": {},
     "output_type": "display_data"
    },
    {
     "ename": "",
     "evalue": "",
     "output_type": "error",
     "traceback": [
      "\u001b[1;31mnotebook controller is DISPOSED. \n",
      "\u001b[1;31mView Jupyter <a href='command:jupyter.viewOutput'>log</a> for further details."
     ]
    },
    {
     "ename": "",
     "evalue": "",
     "output_type": "error",
     "traceback": [
      "\u001b[1;31mnotebook controller is DISPOSED. \n",
      "\u001b[1;31mView Jupyter <a href='command:jupyter.viewOutput'>log</a> for further details."
     ]
    },
    {
     "ename": "",
     "evalue": "",
     "output_type": "error",
     "traceback": [
      "\u001b[1;31mnotebook controller is DISPOSED. \n",
      "\u001b[1;31mView Jupyter <a href='command:jupyter.viewOutput'>log</a> for further details."
     ]
    },
    {
     "ename": "",
     "evalue": "",
     "output_type": "error",
     "traceback": [
      "\u001b[1;31mnotebook controller is DISPOSED. \n",
      "\u001b[1;31mView Jupyter <a href='command:jupyter.viewOutput'>log</a> for further details."
     ]
    },
    {
     "ename": "",
     "evalue": "",
     "output_type": "error",
     "traceback": [
      "\u001b[1;31mnotebook controller is DISPOSED. \n",
      "\u001b[1;31mView Jupyter <a href='command:jupyter.viewOutput'>log</a> for further details."
     ]
    },
    {
     "ename": "",
     "evalue": "",
     "output_type": "error",
     "traceback": [
      "\u001b[1;31mnotebook controller is DISPOSED. \n",
      "\u001b[1;31mView Jupyter <a href='command:jupyter.viewOutput'>log</a> for further details."
     ]
    }
   ],
   "source": [
    "plot_embeddings(filename, encoder, decoder)\n"
   ]
  },
  {
   "cell_type": "code",
   "execution_count": 108,
   "metadata": {},
   "outputs": [
    {
     "ename": "",
     "evalue": "",
     "output_type": "error",
     "traceback": [
      "\u001b[1;31mnotebook controller is DISPOSED. \n",
      "\u001b[1;31mView Jupyter <a href='command:jupyter.viewOutput'>log</a> for further details."
     ]
    },
    {
     "ename": "",
     "evalue": "",
     "output_type": "error",
     "traceback": [
      "\u001b[1;31mnotebook controller is DISPOSED. \n",
      "\u001b[1;31mView Jupyter <a href='command:jupyter.viewOutput'>log</a> for further details."
     ]
    },
    {
     "ename": "",
     "evalue": "",
     "output_type": "error",
     "traceback": [
      "\u001b[1;31mnotebook controller is DISPOSED. \n",
      "\u001b[1;31mView Jupyter <a href='command:jupyter.viewOutput'>log</a> for further details."
     ]
    },
    {
     "ename": "",
     "evalue": "",
     "output_type": "error",
     "traceback": [
      "\u001b[1;31mnotebook controller is DISPOSED. \n",
      "\u001b[1;31mView Jupyter <a href='command:jupyter.viewOutput'>log</a> for further details."
     ]
    },
    {
     "ename": "",
     "evalue": "",
     "output_type": "error",
     "traceback": [
      "\u001b[1;31mnotebook controller is DISPOSED. \n",
      "\u001b[1;31mView Jupyter <a href='command:jupyter.viewOutput'>log</a> for further details."
     ]
    },
    {
     "ename": "",
     "evalue": "",
     "output_type": "error",
     "traceback": [
      "\u001b[1;31mnotebook controller is DISPOSED. \n",
      "\u001b[1;31mView Jupyter <a href='command:jupyter.viewOutput'>log</a> for further details."
     ]
    }
   ],
   "source": [
    "#add the encoded structures to the struct align hdf5\n",
    "\n",
    "import time\n",
    "import glob\n",
    "import h5py\n",
    "datadir = '../../datasets/foldtree2/'\n",
    "pdbfiles_structalign = glob.glob(datadir + 'struct_align/*/structs/*.pdb')\n"
   ]
  },
  {
   "cell_type": "code",
   "execution_count": 109,
   "metadata": {},
   "outputs": [
    {
     "name": "stdout",
     "output_type": "stream",
     "text": [
      "9390\n"
     ]
    },
    {
     "ename": "",
     "evalue": "",
     "output_type": "error",
     "traceback": [
      "\u001b[1;31mnotebook controller is DISPOSED. \n",
      "\u001b[1;31mView Jupyter <a href='command:jupyter.viewOutput'>log</a> for further details."
     ]
    },
    {
     "ename": "",
     "evalue": "",
     "output_type": "error",
     "traceback": [
      "\u001b[1;31mnotebook controller is DISPOSED. \n",
      "\u001b[1;31mView Jupyter <a href='command:jupyter.viewOutput'>log</a> for further details."
     ]
    },
    {
     "ename": "",
     "evalue": "",
     "output_type": "error",
     "traceback": [
      "\u001b[1;31mnotebook controller is DISPOSED. \n",
      "\u001b[1;31mView Jupyter <a href='command:jupyter.viewOutput'>log</a> for further details."
     ]
    },
    {
     "ename": "",
     "evalue": "",
     "output_type": "error",
     "traceback": [
      "\u001b[1;31mnotebook controller is DISPOSED. \n",
      "\u001b[1;31mView Jupyter <a href='command:jupyter.viewOutput'>log</a> for further details."
     ]
    },
    {
     "ename": "",
     "evalue": "",
     "output_type": "error",
     "traceback": [
      "\u001b[1;31mnotebook controller is DISPOSED. \n",
      "\u001b[1;31mView Jupyter <a href='command:jupyter.viewOutput'>log</a> for further details."
     ]
    },
    {
     "ename": "",
     "evalue": "",
     "output_type": "error",
     "traceback": [
      "\u001b[1;31mnotebook controller is DISPOSED. \n",
      "\u001b[1;31mView Jupyter <a href='command:jupyter.viewOutput'>log</a> for further details."
     ]
    }
   ],
   "source": [
    "print( len(pdbfiles_structalign) )"
   ]
  },
  {
   "cell_type": "code",
   "execution_count": null,
   "metadata": {},
   "outputs": [
    {
     "ename": "",
     "evalue": "",
     "output_type": "error",
     "traceback": [
      "\u001b[1;31mnotebook controller is DISPOSED. \n",
      "\u001b[1;31mView Jupyter <a href='command:jupyter.viewOutput'>log</a> for further details."
     ]
    },
    {
     "ename": "",
     "evalue": "",
     "output_type": "error",
     "traceback": [
      "\u001b[1;31mnotebook controller is DISPOSED. \n",
      "\u001b[1;31mView Jupyter <a href='command:jupyter.viewOutput'>log</a> for further details."
     ]
    },
    {
     "ename": "",
     "evalue": "",
     "output_type": "error",
     "traceback": [
      "\u001b[1;31mnotebook controller is DISPOSED. \n",
      "\u001b[1;31mView Jupyter <a href='command:jupyter.viewOutput'>log</a> for further details."
     ]
    },
    {
     "ename": "",
     "evalue": "",
     "output_type": "error",
     "traceback": [
      "\u001b[1;31mnotebook controller is DISPOSED. \n",
      "\u001b[1;31mView Jupyter <a href='command:jupyter.viewOutput'>log</a> for further details."
     ]
    },
    {
     "ename": "",
     "evalue": "",
     "output_type": "error",
     "traceback": [
      "\u001b[1;31mnotebook controller is DISPOSED. \n",
      "\u001b[1;31mView Jupyter <a href='command:jupyter.viewOutput'>log</a> for further details."
     ]
    },
    {
     "ename": "",
     "evalue": "",
     "output_type": "error",
     "traceback": [
      "\u001b[1;31mnotebook controller is DISPOSED. \n",
      "\u001b[1;31mView Jupyter <a href='command:jupyter.viewOutput'>log</a> for further details."
     ]
    }
   ],
   "source": [
    "#use autoreload\n",
    "#alndbmk2 = converter.store_pyg( pdbfiles_structalign, filename='structalignmk2.h5', verbose = False )"
   ]
  },
  {
   "cell_type": "code",
   "execution_count": 107,
   "metadata": {},
   "outputs": [
    {
     "name": "stderr",
     "output_type": "stream",
     "text": [
      "7836it [1:01:35,  2.12it/s]\n"
     ]
    },
    {
     "data": {
      "text/plain": [
       "'aln_encoded.fasta'"
      ]
     },
     "execution_count": 107,
     "metadata": {},
     "output_type": "execute_result"
    },
    {
     "ename": "",
     "evalue": "",
     "output_type": "error",
     "traceback": [
      "\u001b[1;31mnotebook controller is DISPOSED. \n",
      "\u001b[1;31mView Jupyter <a href='command:jupyter.viewOutput'>log</a> for further details."
     ]
    },
    {
     "ename": "",
     "evalue": "",
     "output_type": "error",
     "traceback": [
      "\u001b[1;31mnotebook controller is DISPOSED. \n",
      "\u001b[1;31mView Jupyter <a href='command:jupyter.viewOutput'>log</a> for further details."
     ]
    },
    {
     "ename": "",
     "evalue": "",
     "output_type": "error",
     "traceback": [
      "\u001b[1;31mnotebook controller is DISPOSED. \n",
      "\u001b[1;31mView Jupyter <a href='command:jupyter.viewOutput'>log</a> for further details."
     ]
    },
    {
     "ename": "",
     "evalue": "",
     "output_type": "error",
     "traceback": [
      "\u001b[1;31mnotebook controller is DISPOSED. \n",
      "\u001b[1;31mView Jupyter <a href='command:jupyter.viewOutput'>log</a> for further details."
     ]
    },
    {
     "ename": "",
     "evalue": "",
     "output_type": "error",
     "traceback": [
      "\u001b[1;31mnotebook controller is DISPOSED. \n",
      "\u001b[1;31mView Jupyter <a href='command:jupyter.viewOutput'>log</a> for further details."
     ]
    },
    {
     "ename": "",
     "evalue": "",
     "output_type": "error",
     "traceback": [
      "\u001b[1;31mnotebook controller is DISPOSED. \n",
      "\u001b[1;31mView Jupyter <a href='command:jupyter.viewOutput'>log</a> for further details."
     ]
    }
   ],
   "source": [
    "\n",
    "encoder.encode_structures_fasta( loader , 'aln_encoded.fasta')"
   ]
  },
  {
   "cell_type": "code",
   "execution_count": 84,
   "metadata": {},
   "outputs": [
    {
     "name": "stderr",
     "output_type": "stream",
     "text": [
      "10it [00:02,  4.49it/s]"
     ]
    },
    {
     "name": "stdout",
     "output_type": "stream",
     "text": [
      "\n",
      ">A0A0B0EGE4\n",
      "«Ëy<<Ûf¿^^¿÷¿>ÓoTÓyÓ\u0017³¤¤<<ß¶ßß¤é÷¤÷÷^D§>>¿¿¿<\u0017¿¿\u0017¥^>\u0017÷y>><_>T§÷\u0017<\u0011¿y\u0011\n",
      "\n",
      ">A0A6M1Q9D4\n",
      "¿¿¤÷÷ã<÷^\u0017y>¤_y=Û`¿÷y`¿ß§¹¤§ß\u0011¤DDß`¹¿^y^ÓyÛ§³Dð@÷D=DD<Ó^T÷÷¿ð\n",
      "\n",
      ">A0A7W6LMN5\n",
      "ËË^.óÛ¹Ó¶D¶³³yo8¹^Û¹ ð«@8«ó^¾@@¾8\u001b@^Ü¤ßß.¶ßãDSS_Sß8Ú\u001biãÛ¤Ug\\z\u001b\u001bUóÜÃ66Ó¿y?¶_oDño÷ÓSÛð¶}.gógÄ0ÄÛÛ£.ïH6£U£.Ug#ÄSS\tdgX|\n",
      "\n",
      "£.£ÜïWgg­0}£WÜ\n",
      "\n",
      "\n",
      "\n",
      "\u001d\n",
      "\n",
      "0\u0000Z\t\u001d\n",
      "\n",
      "ÛâdçÛÛïSÎ£dS££dÎÇçÛë0)ÎYë­£±ç£ÛcëÆd£Üpc~\n",
      "\n",
      "EE&ï­Ò­#SSUEUS\u00000Òç\tSSY:)Î­\u0000\tÒ\u0000\tçïïEÛYëcÒÛ&Î¬Î\u0000Q#&6\u0000­Ò\n",
      "\tÛ\tX¬Yp\tÛ¬QÈp¬£06:&Y¬ÎÎU#Îc~çEë0Ûç\n",
      "\n",
      ">A0A090ZGQ5\n",
      "ËËó¹.y¿}Ó÷\u001b^§ó^T_8§_y<\u001b¤^Ó¤ÓßÃÛfUÃ¶ß`\u001b88y_f`T8@¤^ßDy^\u0011ÃÃ¤|S²²|¹²ß¤ß÷÷¿ß|¤\u000f=Ú|T.¤ÛWXX.|¹#Ü=å¾Ä6#g|ÄÛ#|\n",
      "\n",
      "SßWåSß¤ð|\u0011|\t­WTXESY\tOÛ\t|\tÒS­X~ç\tWÒ\n",
      "\n",
      "Y\t:\t\tX­²SSO\tO||OçT\t\n",
      "\n",
      "6|QXEW|OX¹SOE­çç\tXWSY:OS\n",
      "\n",
      "#­OOW|YÈX\n",
      "\n",
      "­\n",
      "\n",
      "|:­E6|SOEX\t¬XTO¹ÈTO\t|5E\tuçÛ\t²YÛEçY~~\tE¬|=:&\u0000­­\tO\t¹#=Û5~­E::ÄYX\n",
      "\n",
      ">A0A378RLJ5\n",
      "ËËÛ§T§D=i§f¤>ß>ß`ßß¤T=} Â\u0001}ßÛDßSyDT@ß>§ß>TD¤÷¤TßDÃÉ| ¹÷ÛßyS÷ß¤\u0001ãßX=|åW­.ÛT|¤\u0011||.¹Ü#..÷ß.SS ßiÜ..åTW|T¤W|\t­WET=OÛpO­?Û¹TST\tE¹ÈO5\u000fZÒO|\t\u001d\n",
      "\n",
      "T\u000f=¥WYTQÒ|XXXXO\tO²ÛE\u000fT²OOOXNO²|EOYEX­|&|:|SX|WS²|=O\n",
      "\n",
      "|Y5ÒW­6OE\n",
      "=pNO|¹Z¹E¥Z¹OYO5EETÈX#\u000fQ­çE\t\n",
      "\n",
      ">A0A5B0KKX9\n",
      "ËË¤¤=\u001b\u001b}@ßÓ8ÃÂÂ¤¤8ß8²ß¤¤Û}ßßDß¹_Û¤÷\\¤ÂÂ¹@8_ììÉÉzW\u0018¤\u0001Ë8ÂSÛ¤8}.g?dg\\|ÜïÜ|Üïï\\6¾.UÄ\u001b­ì.¤.¶¹8ßÛÄ.S¹XWgß\n",
      "\n",
      "£0dg­U£\t¬ëë±Û\u0015\u0015?Û\u001d\n",
      "\n",
      "\u001d\n",
      "\n",
      "ÜdïåÄÄ&&ÛÆ0ÜYë­±\u001d\n",
      "\n",
      "ÄÛ?ÜÒ\n",
      "\n",
      "Ü\u0000ï0ëÎ\u0000c£ïÎRë#££çUÎ±çç\u0000ëçëS¬:ç0ÎSçÒçS\t\tç­ïEçE\n",
      "\n",
      "¬YQÎÎ6RY£ÛëçÇÎ\u0000±Û\u0000Q0dÛ¬R0\u001d\n",
      "\n",
      "¾ï¬Ò\n",
      "\n",
      "Ò¬#ÛY~­ï00|ç\n",
      "\n",
      ">A0A7W9D427\n",
      "Ëòzóäñ6\u001b@o@^À¶ð³y@ÛÓ^^UÓÀÓ8Óðo\u001b\u001b^}óÃ8Ó\u001b¤=\u001b¶\u0001ßzSßßßÛÛÂ Ó\u001bßÃ\u001bzzó\u001bÛ?ó¶=z¶<À8ð8ÓSÓóÛ?}.\n",
      "\n",
      "S\n",
      "\n",
      "\n",
      "\n",
      "Û|Ü&X¾.S..Ü\n",
      "\n",
      "|U.¹­£ÄSgdUX­ÛdS£S£W\n",
      "\n",
      "\n",
      "\n",
      "SW£Wdgì\u001d\n",
      "\n",
      "\u001d\n",
      "\n",
      "ëÛÇëë£\u00000\u0000ç\u0000Ûïï\u0000ëd£Ç££&ÎÛ)0)ÎYëçëbç£\u0015ççcÎëÎ£±\u0000cQëÎ£\u0000£c­£S#£çÎUç0\u0000Ç\u0000\tSU#SXï\t)­­UÄE­USÒ&ïëUç­\u0000££)Y¬ÎëëQÎY6£Yu£ÛëçÇÎ£±Û\u00000±Ç\u00000cë£cÎÎ)ë¬#Çï~)\u0015ëëçïUç\n",
      "\n",
      ">A0A3S6F348\n",
      "ËËã\u0001²S\u0001ßT¿÷ßßT÷÷ß¿÷fT=ßß§TT¤`ß`§¿¿§\n",
      "T}§}ß\u0011¤D} Df=|÷S¹..¶.ßåßå¤.ÛTTß.TT¾D.§¹DDß=ßT¤ÜßZ=\u0001ß¿.§TTD\u0011\u000f¹.T\n",
      "\n",
      "...|\n",
      "\n",
      "\u001d\n",
      "\n",
      "6OZZT¥QQTÈN§¾ÛEZÒX|O|­¥\u000fT\u000fT\u000fZ|T|OÒPO\u001d\n",
      "\n",
      "5¾­E5¾ÈOY­\tY||¹S\u000fEEYXX\n",
      "\n",
      "\tO\t­&\tS5#Y||E\n",
      "\n",
      "|WEXO5S=\t­W|ÒQEX:E¹6OÒ\u000fTZY\u000fpE\n",
      "¬EÈ\u000f\u000f\u000f§TÛ­O¹#\u000fY#5|Ò\n",
      "\n",
      ">A0A2W5HHN3\n",
      "ËË¶¶z`@¶@\u001b¿\\\u001bÛózÛ@\u001bi^¶\u001b\u001b}ÛgU\u0001H\u001bgHËg8\u001bÃU É\u001bãÃ»{\u0018U{Â\u0001Â\u0018{ÃWSã£W\\8U8»\u0018Â\n",
      "\n",
      ">A0A2M7FZD0\n",
      "««f¿D^y¤<Óy=y÷Ó<<=<fÓ¿f\u0011Óf Û¤¶8\\@gã\u001b}¤_8Ã@Ã8Û¤¶UÛ\u0001ãÜg ¤ÃW\u0001S8W\\\n",
      "\n"
     ]
    },
    {
     "name": "stderr",
     "output_type": "stream",
     "text": [
      "\n"
     ]
    },
    {
     "ename": "",
     "evalue": "",
     "output_type": "error",
     "traceback": [
      "\u001b[1;31mnotebook controller is DISPOSED. \n",
      "\u001b[1;31mView Jupyter <a href='command:jupyter.viewOutput'>log</a> for further details."
     ]
    },
    {
     "ename": "",
     "evalue": "",
     "output_type": "error",
     "traceback": [
      "\u001b[1;31mnotebook controller is DISPOSED. \n",
      "\u001b[1;31mView Jupyter <a href='command:jupyter.viewOutput'>log</a> for further details."
     ]
    },
    {
     "ename": "",
     "evalue": "",
     "output_type": "error",
     "traceback": [
      "\u001b[1;31mnotebook controller is DISPOSED. \n",
      "\u001b[1;31mView Jupyter <a href='command:jupyter.viewOutput'>log</a> for further details."
     ]
    },
    {
     "ename": "",
     "evalue": "",
     "output_type": "error",
     "traceback": [
      "\u001b[1;31mnotebook controller is DISPOSED. \n",
      "\u001b[1;31mView Jupyter <a href='command:jupyter.viewOutput'>log</a> for further details."
     ]
    },
    {
     "ename": "",
     "evalue": "",
     "output_type": "error",
     "traceback": [
      "\u001b[1;31mnotebook controller is DISPOSED. \n",
      "\u001b[1;31mView Jupyter <a href='command:jupyter.viewOutput'>log</a> for further details."
     ]
    },
    {
     "ename": "",
     "evalue": "",
     "output_type": "error",
     "traceback": [
      "\u001b[1;31mnotebook controller is DISPOSED. \n",
      "\u001b[1;31mView Jupyter <a href='command:jupyter.viewOutput'>log</a> for further details."
     ]
    }
   ],
   "source": [
    "loader = dataloader(pdbfiles_structalign[0:10])\n",
    "encoder.encode_structures_fasta( loader , 'aln_encoded_test.fasta' )\n",
    "\n",
    "with open('aln_encoded_test.fasta') as f:\n",
    "\tprint(f.read())"
   ]
  },
  {
   "cell_type": "code",
   "execution_count": null,
   "metadata": {},
   "outputs": [
    {
     "ename": "SyntaxError",
     "evalue": "invalid syntax (1719190738.py, line 12)",
     "output_type": "error",
     "traceback": [
      "\u001b[0;36m  Cell \u001b[0;32mIn[331], line 12\u001b[0;36m\u001b[0m\n\u001b[0;31m    embed_sample = [ draw_sample(mean[labels[i]], covar[labels[i]]) for l in range(len(labels))]        print(idx)\u001b[0m\n\u001b[0m                                                                                                        ^\u001b[0m\n\u001b[0;31mSyntaxError\u001b[0m\u001b[0;31m:\u001b[0m invalid syntax\n"
     ]
    },
    {
     "ename": "",
     "evalue": "",
     "output_type": "error",
     "traceback": [
      "\u001b[1;31mnotebook controller is DISPOSED. \n",
      "\u001b[1;31mView Jupyter <a href='command:jupyter.viewOutput'>log</a> for further details."
     ]
    },
    {
     "ename": "",
     "evalue": "",
     "output_type": "error",
     "traceback": [
      "\u001b[1;31mnotebook controller is DISPOSED. \n",
      "\u001b[1;31mView Jupyter <a href='command:jupyter.viewOutput'>log</a> for further details."
     ]
    },
    {
     "ename": "",
     "evalue": "",
     "output_type": "error",
     "traceback": [
      "\u001b[1;31mnotebook controller is DISPOSED. \n",
      "\u001b[1;31mView Jupyter <a href='command:jupyter.viewOutput'>log</a> for further details."
     ]
    },
    {
     "ename": "",
     "evalue": "",
     "output_type": "error",
     "traceback": [
      "\u001b[1;31mnotebook controller is DISPOSED. \n",
      "\u001b[1;31mView Jupyter <a href='command:jupyter.viewOutput'>log</a> for further details."
     ]
    },
    {
     "ename": "",
     "evalue": "",
     "output_type": "error",
     "traceback": [
      "\u001b[1;31mnotebook controller is DISPOSED. \n",
      "\u001b[1;31mView Jupyter <a href='command:jupyter.viewOutput'>log</a> for further details."
     ]
    },
    {
     "ename": "",
     "evalue": "",
     "output_type": "error",
     "traceback": [
      "\u001b[1;31mnotebook controller is DISPOSED. \n",
      "\u001b[1;31mView Jupyter <a href='command:jupyter.viewOutput'>log</a> for further details."
     ]
    },
    {
     "ename": "",
     "evalue": "",
     "output_type": "error",
     "traceback": [
      "\u001b[1;31mnotebook controller is DISPOSED. \n",
      "\u001b[1;31mView Jupyter <a href='command:jupyter.viewOutput'>log</a> for further details."
     ]
    }
   ],
   "source": [
    "\n",
    "def draw_sample( mean , covar):\n",
    "\t#draw samples from the mean and covariance\n",
    "\t#operating under the assumption that its a multivariate gaussian\n",
    "\treturn np.random.multivariate_normal(mean, covar)\n",
    "\n",
    "def draw_nsamples( mean, covar , n):\n",
    "\tsamples = [draw_sample(mean, covar) for i in range(n)]\n",
    "\treturn np.vstack(samples)\n",
    "\n",
    "#draw samples from the cluster centers for a given sequence of labels\n",
    "def labels_cluster_samples( labels , mean , covar ):\n",
    "\tembed_sample = [ draw_sample(mean[labels[i]], covar[labels[i]]) for l in range(len(labels))]        print(idx)\n",
    "\n",
    "\treturn embed_sample\n",
    "\n",
    "def draw_n_label_samples(labels, mean, covar , n = 10):\n",
    "\tsamplings = [ labels_cluster_samples( labels , mean , covar ) for i in range(n) ]\n",
    "\treturn samplings\n",
    "\n",
    "def decode_samples(samplings , decoder , retstack = False):\n",
    "\t#create all vs all edge index\n",
    "\tedge_index = torch.tensor( [ [i,j] for i in range(s.shape[0]) for j in range(s.shape[0]) ] ).T\n",
    "\t#create a backbone edge index\n",
    "\tbackbone = torch.tensor( [i,j] for i in range( s.shape[0] ) for j in range(s.shape[0]) )\n",
    "\tbackbone = backbone.to(device)\n",
    "\tprint(edge_index)\n",
    "\tedge_index = edge_index.to(device)\n",
    "\tx_stack = []\n",
    "\tedge_stack= []\n",
    "\tfor samples in samplings:\n",
    "\t\ts = torch.tensor(s)\n",
    "\t\ts = s.to(device)\n",
    "\t\trecon_x, edge_probs = decoder(s, edge_index , backbone ] )\n",
    "\t\tx_stack.append( recon_x)\n",
    "\t\tedge_stack.append( edge_probs)\n",
    "\t\n",
    "\t#get the mean and variance elementwise\n",
    "\tif retstack == True:\n",
    "\t\treturn edge_stack , x_stack\n",
    "\n",
    "\tif retstack == False:\n",
    "\t\tx_stack = np.dstack(x_stack)\n",
    "\t\tedge_stack = np.dstack( edge_probs ) \n",
    "\n",
    "\t\tedge_means = np.mean( edge_stack , axis = 2)\n",
    "\t\tedge_vars = np.var(edge_stack , axis = 2)\n",
    "\n",
    "\t\tx_means = np.mean(edge_stack , axis = 2)\n",
    "\t\tx_vars = np.var(edge_stack , axis = 2)\n",
    "\n",
    "\t\treturn edge_means, edge_vars , x_means, x_vars\n",
    "\n",
    "\n",
    "def decoded_to_seq(x_means , decode_dict):\n",
    "\t#transform a on hot matrix of AA probabilities to a sequence\n",
    "\t#get max index of each row\n",
    "\tindices = np.argmax( x_means , axis = 1 )\n",
    "\tseq = [ decode_dict[c] for c in list(indices)]\n",
    "\treturn seq\n",
    "\n",
    "\n",
    "def plot_edgestack(edge_means, edge_vars):\n",
    "\t#plot a scatterplot with the dot size representing the inverse of the variance \n",
    "\t# and the color representing the contact proba\n",
    "\t\n",
    "\t#xy grid for scatterplot\n",
    "\txv, yv = np.meshgrid(x = np.arrange( edge_means.shap[0]) , y = np.arrange(edge_means.shap[1]) = , indexing='ij')\n",
    "\n",
    "\t#colors with the means\n",
    "\tcolors = edge_means.flatten()\n",
    "\n",
    "\t#dot size with the vars\n",
    "\tsizes = 1/edge_vars.flatten()\n",
    "\tplt.scatter( xv , yv , s = sizes , c = colors , cmap = 'viridis')\n",
    "\tplt.show()\n",
    "\n",
    "\n",
    "def plot_logo(x_means, decode_dict):\n",
    "\t#plot an hmm type logo with the sequence reconstruction  \n",
    "\tseqdf = pd.DataFrame(x_means, columns = decode_dict.keys())\n",
    "\t#plot the logo\n",
    "\tlogo = logomaker.Logo(seqdf, color_scheme='chemistry')\n",
    "\treturn logo\n",
    "\n",
    "\n"
   ]
  },
  {
   "cell_type": "code",
   "execution_count": null,
   "metadata": {},
   "outputs": [
    {
     "data": {
      "text/plain": [
       "'\\n#not used for now but could be useful later\\n\\nfrom prody import *\\nfrom pylab import *\\nimport warnings\\ndef anm_analysis(filename):\\n    with warnings.catch_warnings():\\n        warnings.simplefilter(\"ignore\")\\n        prot = parsePDB( filename  , )\\n        calphas2 = prot.select(\\'calpha\\')\\n        anm = ANM(\\'ANM analysis\\')\\n        anm.buildHessian(calphas2)\\n        anm.calcModes()\\n        cov = anm.getCovariance()\\n        cov[ cov < 0] = -cov[ cov < 0]\\n        logcov = np.log(cov)\\n        #get the top .5% of the covariance matrix\\n        top = np.percentile(logcov, 99.5)\\n        logcov[ logcov < top] = 0\\n        \\n        \\n        return logcov\\n\\ncov = anm_analysis(filename)\\nprint(cov.shape)\\n\\nplt.imshow(cov)\\nplt.colorbar()\\nplt.show()\\n\\n#print the number of 0 entries\\nprint( np.sum(cov != 0) /np.sum(cov == 0))\\nprint( np.sum(cov != 0) )\\n\\n'"
      ]
     },
     "metadata": {},
     "output_type": "display_data"
    },
    {
     "ename": "",
     "evalue": "",
     "output_type": "error",
     "traceback": [
      "\u001b[1;31mnotebook controller is DISPOSED. \n",
      "\u001b[1;31mView Jupyter <a href='command:jupyter.viewOutput'>log</a> for further details."
     ]
    },
    {
     "ename": "",
     "evalue": "",
     "output_type": "error",
     "traceback": [
      "\u001b[1;31mnotebook controller is DISPOSED. \n",
      "\u001b[1;31mView Jupyter <a href='command:jupyter.viewOutput'>log</a> for further details."
     ]
    },
    {
     "ename": "",
     "evalue": "",
     "output_type": "error",
     "traceback": [
      "\u001b[1;31mnotebook controller is DISPOSED. \n",
      "\u001b[1;31mView Jupyter <a href='command:jupyter.viewOutput'>log</a> for further details."
     ]
    },
    {
     "ename": "",
     "evalue": "",
     "output_type": "error",
     "traceback": [
      "\u001b[1;31mnotebook controller is DISPOSED. \n",
      "\u001b[1;31mView Jupyter <a href='command:jupyter.viewOutput'>log</a> for further details."
     ]
    },
    {
     "ename": "",
     "evalue": "",
     "output_type": "error",
     "traceback": [
      "\u001b[1;31mnotebook controller is DISPOSED. \n",
      "\u001b[1;31mView Jupyter <a href='command:jupyter.viewOutput'>log</a> for further details."
     ]
    },
    {
     "ename": "",
     "evalue": "",
     "output_type": "error",
     "traceback": [
      "\u001b[1;31mnotebook controller is DISPOSED. \n",
      "\u001b[1;31mView Jupyter <a href='command:jupyter.viewOutput'>log</a> for further details."
     ]
    }
   ],
   "source": [
    "\"\"\"\n",
    "#not used for now but could be useful later\n",
    "\n",
    "from prody import *\n",
    "from pylab import *\n",
    "import warnings\n",
    "def anm_analysis(filename):\n",
    "\twith warnings.catch_warnings():\n",
    "\t\twarnings.simplefilter(\"ignore\")\n",
    "\t\tprot = parsePDB( filename  , )\n",
    "\t\tcalphas2 = prot.select('calpha')\n",
    "\t\tanm = ANM('ANM analysis')\n",
    "\t\tanm.buildHessian(calphas2)\n",
    "\t\tanm.calcModes()\n",
    "\t\tcov = anm.getCovariance()\n",
    "\t\tcov[ cov < 0] = -cov[ cov < 0]\n",
    "\t\tlogcov = np.log(cov)\n",
    "\t\t#get the top .5% of the covariance matrix\n",
    "\t\ttop = np.percentile(logcov, 99.5)\n",
    "\t\tlogcov[ logcov < top] = 0\n",
    "\t\t\n",
    "\t\t\n",
    "\t\treturn logcov\n",
    "\n",
    "cov = anm_analysis(filename)\n",
    "print(cov.shape)\n",
    "\n",
    "plt.imshow(cov)\n",
    "plt.colorbar()\n",
    "plt.show()\n",
    "\n",
    "#print the number of 0 entries\n",
    "print( np.sum(cov != 0) /np.sum(cov == 0))\n",
    "print( np.sum(cov != 0) )\n",
    "\n",
    "\"\"\""
   ]
  },
  {
   "cell_type": "code",
   "execution_count": null,
   "metadata": {},
   "outputs": [
    {
     "ename": "",
     "evalue": "",
     "output_type": "error",
     "traceback": [
      "\u001b[1;31mnotebook controller is DISPOSED. \n",
      "\u001b[1;31mView Jupyter <a href='command:jupyter.viewOutput'>log</a> for further details."
     ]
    },
    {
     "ename": "",
     "evalue": "",
     "output_type": "error",
     "traceback": [
      "\u001b[1;31mnotebook controller is DISPOSED. \n",
      "\u001b[1;31mView Jupyter <a href='command:jupyter.viewOutput'>log</a> for further details."
     ]
    },
    {
     "ename": "",
     "evalue": "",
     "output_type": "error",
     "traceback": [
      "\u001b[1;31mnotebook controller is DISPOSED. \n",
      "\u001b[1;31mView Jupyter <a href='command:jupyter.viewOutput'>log</a> for further details."
     ]
    },
    {
     "ename": "",
     "evalue": "",
     "output_type": "error",
     "traceback": [
      "\u001b[1;31mnotebook controller is DISPOSED. \n",
      "\u001b[1;31mView Jupyter <a href='command:jupyter.viewOutput'>log</a> for further details."
     ]
    },
    {
     "ename": "",
     "evalue": "",
     "output_type": "error",
     "traceback": [
      "\u001b[1;31mnotebook controller is DISPOSED. \n",
      "\u001b[1;31mView Jupyter <a href='command:jupyter.viewOutput'>log</a> for further details."
     ]
    },
    {
     "ename": "",
     "evalue": "",
     "output_type": "error",
     "traceback": [
      "\u001b[1;31mnotebook controller is DISPOSED. \n",
      "\u001b[1;31mView Jupyter <a href='command:jupyter.viewOutput'>log</a> for further details."
     ]
    },
    {
     "ename": "",
     "evalue": "",
     "output_type": "error",
     "traceback": [
      "\u001b[1;31mnotebook controller is DISPOSED. \n",
      "\u001b[1;31mView Jupyter <a href='command:jupyter.viewOutput'>log</a> for further details."
     ]
    }
   ],
   "source": [
    "\"\"\"\n",
    "#use symbolic regression to find the relationship between the embeddings and the edge probabilities\n",
    "#propose a folding mechanism\n",
    "from pysr import pysr, best\n",
    "\n",
    "#use symbolic regression to find the relationship between the embeddings and the edge probabilities\n",
    "#use matrix multiplication and addition as the binary operators\n",
    "#use the embeddings as the input variables\n",
    "\n",
    "#minimum logfiles \n",
    "import logging\n",
    "logging.basicConfig(level=logging.ERROR)\n",
    "\n",
    "\n",
    "equations = pysr(dotprods, edge_probs_stack, niterations=10, binary_operators=['+', '*' ,'^' , '/' , '-' ], \n",
    "\t\t\t\tunary_operators=[ 'log10' , 'sin' , 'relu' , 'cos' , 'abs' ]  , procs=20 , verbosity=0 , nrestarts=10)\n",
    "\n",
    "print(best(equations))\n",
    "\n",
    "#use the symbolic regression equation to predict the edge probabilities\n",
    "import sympy\n",
    "from sympy import symbols, Function\n",
    "from sympy.parsing.sympy_parser import parse_expr\n",
    "\n",
    "x, y = symbols('x y')\n",
    "f = parse_expr(best(equations))\n",
    "f = sympy.lambdify(x, f, 'numpy')\n",
    "xvals = np.linspace(-10,10,100)\n",
    "yvals = f(xvals)\n",
    "plt.plot(xvals, yvals)\n",
    "plt.show()\n",
    "\n",
    "#plot the edge probabilities\n",
    "plt.figure(figsize=(10,10))\n",
    "plt.imshow(1-edge_probs)\n",
    "plt.colorbar()\n",
    "plt.show()\n",
    "\n",
    "\"\"\""
   ]
  },
  {
   "cell_type": "code",
   "execution_count": null,
   "metadata": {},
   "outputs": [
    {
     "ename": "",
     "evalue": "",
     "output_type": "error",
     "traceback": [
      "\u001b[1;31mnotebook controller is DISPOSED. \n",
      "\u001b[1;31mView Jupyter <a href='command:jupyter.viewOutput'>log</a> for further details."
     ]
    },
    {
     "ename": "",
     "evalue": "",
     "output_type": "error",
     "traceback": [
      "\u001b[1;31mnotebook controller is DISPOSED. \n",
      "\u001b[1;31mView Jupyter <a href='command:jupyter.viewOutput'>log</a> for further details."
     ]
    },
    {
     "ename": "",
     "evalue": "",
     "output_type": "error",
     "traceback": [
      "\u001b[1;31mnotebook controller is DISPOSED. \n",
      "\u001b[1;31mView Jupyter <a href='command:jupyter.viewOutput'>log</a> for further details."
     ]
    },
    {
     "ename": "",
     "evalue": "",
     "output_type": "error",
     "traceback": [
      "\u001b[1;31mnotebook controller is DISPOSED. \n",
      "\u001b[1;31mView Jupyter <a href='command:jupyter.viewOutput'>log</a> for further details."
     ]
    },
    {
     "ename": "",
     "evalue": "",
     "output_type": "error",
     "traceback": [
      "\u001b[1;31mnotebook controller is DISPOSED. \n",
      "\u001b[1;31mView Jupyter <a href='command:jupyter.viewOutput'>log</a> for further details."
     ]
    },
    {
     "ename": "",
     "evalue": "",
     "output_type": "error",
     "traceback": [
      "\u001b[1;31mnotebook controller is DISPOSED. \n",
      "\u001b[1;31mView Jupyter <a href='command:jupyter.viewOutput'>log</a> for further details."
     ]
    },
    {
     "ename": "",
     "evalue": "",
     "output_type": "error",
     "traceback": [
      "\u001b[1;31mnotebook controller is DISPOSED. \n",
      "\u001b[1;31mView Jupyter <a href='command:jupyter.viewOutput'>log</a> for further details."
     ]
    }
   ],
   "source": [
    "\"\"\"#use the symbolic regression equation to predict the edge probabilities\n",
    "\n",
    "edge_probs_pred = f(zvals)\n",
    "print(edge_probs_pred.shape)\n",
    "#plot the edge probabilities\n",
    "plt.figure(figsize=(10,10))\n",
    "plt.imshow(1-edge_probs_pred)\n",
    "\"\"\"\n"
   ]
  },
  {
   "cell_type": "code",
   "execution_count": null,
   "metadata": {},
   "outputs": [
    {
     "data": {
      "text/plain": [
       "'\\n#make a networkx graph from the contact points\\nimport networkx as nx\\nimport matplotlib.pyplot as plt\\nimport colour\\n\\ndef make_graph(contact_points):\\n    G = nx.Graph()\\n    G.add_nodes_from(range(contact_points.shape[0]))\\n\\n    for i in range(contact_points.shape[0]):\\n        for j in range(contact_points.shape[1]):\\n            if contact_points[i,j] != 0:\\n                G.add_edge(i,j, weight = contact_points[i,j] / 2)\\n    return G\\n\\n#plot the contact point graph\\n#make the edges thicker for smaller weights\\n#make the nodes colors from a column of the angles dataframe\\n\\n\\nred = colour.Color(\"red\")\\nblue = colour.Color(\"blue\")\\ncrange = [ c.hex_l for c in list(red.range_to(blue, 101))]\\n\\n\\n#add a color column to the angles dataframe\\nangles[\\'color\\'] = [ int(100*(a-angles[111].min())/angles[111].max()) for a in angles[111]]\\nangles[\\'color\\'] = [ crange[a] for a in angles[\\'color\\']]\\n\\nprint(angles)\\n\\nG = make_graph(contact_points)\\nedges = G.edges()\\nweights = [ G[u][v][\\'weight\\'] for u,v in edges]\\n#change the color of the nodes\\ncolors = [ angles.loc[u][\\'color\\'] for u in G.nodes() ]\\n#change the size of the nodes$\\nsizes = [ angles.loc[u][110] for u in G.nodes() ]\\n#keep sizes between 0 and 1000  \\nsizes = [ 1000* (s - min(sizes))/max(sizes)  for s in sizes]\\nprint( colors)\\nprint( sizes)\\nplt.figure(figsize=(10,10))\\npos = nx.spring_layout(G)\\n#draw nodes with colors\\n\\n#get amino acid sequence from structure\\n\\nchain = read_pdb(filename)[0]\\nchain = [ r for r in chain if PDB.is_aa(r)]\\nseq = [ r.get_resname() for r in chain ]\\n\\n#label nodes with sequence\\nlabels = { i:aa for i,aa in enumerate(angles.single_letter_code)}\\n\\nnx.draw_networkx_nodes(G, pos = pos, node_color = colors, node_size = sizes  )\\n\\n#draw edges with weights\\nnx.draw_networkx_edges(G, pos = pos, width = weights , alpha = 0.25)\\n#draw labels\\nnx.draw_networkx_labels(G, pos = pos, labels = labels , font_color=\\'whitesmoke\\')\\n\\n'"
      ]
     },
     "metadata": {},
     "output_type": "display_data"
    },
    {
     "ename": "",
     "evalue": "",
     "output_type": "error",
     "traceback": [
      "\u001b[1;31mnotebook controller is DISPOSED. \n",
      "\u001b[1;31mView Jupyter <a href='command:jupyter.viewOutput'>log</a> for further details."
     ]
    },
    {
     "ename": "",
     "evalue": "",
     "output_type": "error",
     "traceback": [
      "\u001b[1;31mnotebook controller is DISPOSED. \n",
      "\u001b[1;31mView Jupyter <a href='command:jupyter.viewOutput'>log</a> for further details."
     ]
    },
    {
     "ename": "",
     "evalue": "",
     "output_type": "error",
     "traceback": [
      "\u001b[1;31mnotebook controller is DISPOSED. \n",
      "\u001b[1;31mView Jupyter <a href='command:jupyter.viewOutput'>log</a> for further details."
     ]
    },
    {
     "ename": "",
     "evalue": "",
     "output_type": "error",
     "traceback": [
      "\u001b[1;31mnotebook controller is DISPOSED. \n",
      "\u001b[1;31mView Jupyter <a href='command:jupyter.viewOutput'>log</a> for further details."
     ]
    },
    {
     "ename": "",
     "evalue": "",
     "output_type": "error",
     "traceback": [
      "\u001b[1;31mnotebook controller is DISPOSED. \n",
      "\u001b[1;31mView Jupyter <a href='command:jupyter.viewOutput'>log</a> for further details."
     ]
    },
    {
     "ename": "",
     "evalue": "",
     "output_type": "error",
     "traceback": [
      "\u001b[1;31mnotebook controller is DISPOSED. \n",
      "\u001b[1;31mView Jupyter <a href='command:jupyter.viewOutput'>log</a> for further details."
     ]
    }
   ],
   "source": [
    "\"\"\"\n",
    "#make a networkx graph from the contact points\n",
    "import networkx as nx\n",
    "import matplotlib.pyplot as plt\n",
    "import colour\n",
    "\n",
    "def make_graph(contact_points):\n",
    "\tG = nx.Graph()\n",
    "\tG.add_nodes_from(range(contact_points.shape[0]))\n",
    "\n",
    "\tfor i in range(contact_points.shape[0]):\n",
    "\t\tfor j in range(contact_points.shape[1]):\n",
    "\t\t\tif contact_points[i,j] != 0:\n",
    "\t\t\t\tG.add_edge(i,j, weight = contact_points[i,j] / 2)\n",
    "\treturn G\n",
    "\n",
    "#plot the contact point graph\n",
    "#make the edges thicker for smaller weights\n",
    "#make the nodes colors from a column of the angles dataframe\n",
    "\n",
    "\n",
    "red = colour.Color(\"red\")\n",
    "blue = colour.Color(\"blue\")\n",
    "crange = [ c.hex_l for c in list(red.range_to(blue, 101))]\n",
    "\n",
    "\n",
    "#add a color column to the angles dataframe\n",
    "angles['color'] = [ int(100*(a-angles[111].min())/angles[111].max()) for a in angles[111]]\n",
    "angles['color'] = [ crange[a] for a in angles['color']]\n",
    "\n",
    "print(angles)\n",
    "\n",
    "G = make_graph(contact_points)\n",
    "edges = G.edges()\n",
    "weights = [ G[u][v]['weight'] for u,v in edges]\n",
    "#change the color of the nodes\n",
    "colors = [ angles.loc[u]['color'] for u in G.nodes() ]\n",
    "#change the size of the nodes$\n",
    "sizes = [ angles.loc[u][110] for u in G.nodes() ]\n",
    "#keep sizes between 0 and 1000  \n",
    "sizes = [ 1000* (s - min(sizes))/max(sizes)  for s in sizes]\n",
    "print( colors)\n",
    "print( sizes)\n",
    "plt.figure(figsize=(10,10))\n",
    "pos = nx.spring_layout(G)\n",
    "#draw nodes with colors\n",
    "\n",
    "#get amino acid sequence from structure\n",
    "\n",
    "chain = read_pdb(filename)[0]\n",
    "chain = [ r for r in chain if PDB.is_aa(r)]\n",
    "seq = [ r.get_resname() for r in chain ]\n",
    "\n",
    "#label nodes with sequence\n",
    "labels = { i:aa for i,aa in enumerate(angles.single_letter_code)}\n",
    "\n",
    "nx.draw_networkx_nodes(G, pos = pos, node_color = colors, node_size = sizes  )\n",
    "\n",
    "#draw edges with weights\n",
    "nx.draw_networkx_edges(G, pos = pos, width = weights , alpha = 0.25)\n",
    "#draw labels\n",
    "nx.draw_networkx_labels(G, pos = pos, labels = labels , font_color='whitesmoke')\n",
    "\n",
    "\"\"\""
   ]
  },
  {
   "cell_type": "code",
   "execution_count": null,
   "metadata": {},
   "outputs": [
    {
     "data": {
      "text/plain": [
       "\"\\nimport torch\\nimport networkx as nx\\nimport matplotlib.pyplot as plt\\nfrom torch_geometric.utils import to_networkx\\nfrom torch_geometric.data import HeteroData\\nimport networkx as nx\\nfrom torch_geometric.data import HeteroData\\n\\ndef remove_self_loops_edge_index(edge_index):\\n    mask = edge_index[0] != edge_index[1]\\n    return edge_index[:, mask]\\n\\ndef convert_hetero_to_networkx(hetero_data):\\n    G = nx.MultiDiGraph()  # Use MultiDiGraph to support multiple edge types\\n    # Add nodes with type as an attribute\\n    for node_type in hetero_data.node_types:\\n        for node_id in range(hetero_data[node_type].num_nodes):\\n            # Node identifier format: (node_type, node_id)\\n            G.add_node((node_type, node_id), node_type=node_type)\\n    # Add edges\\n    for edge_type in hetero_data.edge_types:\\n        src_type, _, dst_type = edge_type\\n        edge_indices = hetero_data[edge_type].edge_index\\n        edge_indices = remove_self_loops_edge_index(edge_indices)\\n        for i in range(edge_indices.shape[1]):  # Iterate through each edge\\n            src_id, dst_id = edge_indices[:, i].tolist()\\n            # Edge identifier format: ((src_type, src_id), (dst_type, dst_id))\\n            G.add_edge((src_type, src_id), (dst_type, dst_id), edge_type=edge_type)\\n    return G\\n\\ndef plot_hetero_graph_with_curved_edges(data):\\n    print(data)\\n    G = convert_hetero_to_networkx(data)\\n    print(G)\\n    pos = nx.spring_layout(G)  # General layout if no positions are provided\\n\\n    # Calculate offset for curved edges to avoid overlap\\n    edge_count = {}\\n    for src, dst, key in G.edges(keys=True):\\n        edge_count[(src, dst)] = edge_count.get((src, dst), 0) + 1\\n    # Draw nodes\\n    plt.figure(figsize=(12, 12))\\n    nx.draw_networkx_nodes(G, pos, node_color='skyblue', node_size=70)\\n    \\n    edge_type_colors = {}\\n    unique_edge_types = data.edge_types\\n    # Generate a color map from matplotlib, or use a predefined set of colors\\n    colors = plt.get_cmap('tab20')(range(len(unique_edge_types)))\\n    for i, edge_type in enumerate(unique_edge_types):\\n        edge_type_colors[edge_type] = colors[i]\\n\\n    # Draw edges with curvature\\n    for (src, dst), count in edge_count.items():\\n        for i in range(count):\\n            edge_key = list(G[src][dst])[i]\\n            style = G[src][dst][edge_key]\\n            curvature = 0.1 * (i - count // 2)\\n            nx.draw_networkx_edges(\\n                G, pos, edgelist=[(src, dst)],\\n                connectionstyle=f'arc3, rad={curvature}',\\n                arrowstyle='-|>',\\n                edge_color = edge_type_colors.get(edge_type, 'black'),  # Default color is black\\n                width=style.get('weight', 1),\\n                alpha = .25\\n            )\\n\\n    # Draw labels\\n    nx.draw_networkx_labels(G, pos, font_size=10, font_color='black')\\n    plt.title('Heterogeneous Graph with Curved Edges')\\n    plt.axis('off')  # Turn off the axis\\n    plt.show()\\n\\n\""
      ]
     },
     "metadata": {},
     "output_type": "display_data"
    },
    {
     "ename": "",
     "evalue": "",
     "output_type": "error",
     "traceback": [
      "\u001b[1;31mnotebook controller is DISPOSED. \n",
      "\u001b[1;31mView Jupyter <a href='command:jupyter.viewOutput'>log</a> for further details."
     ]
    },
    {
     "ename": "",
     "evalue": "",
     "output_type": "error",
     "traceback": [
      "\u001b[1;31mnotebook controller is DISPOSED. \n",
      "\u001b[1;31mView Jupyter <a href='command:jupyter.viewOutput'>log</a> for further details."
     ]
    },
    {
     "ename": "",
     "evalue": "",
     "output_type": "error",
     "traceback": [
      "\u001b[1;31mnotebook controller is DISPOSED. \n",
      "\u001b[1;31mView Jupyter <a href='command:jupyter.viewOutput'>log</a> for further details."
     ]
    },
    {
     "ename": "",
     "evalue": "",
     "output_type": "error",
     "traceback": [
      "\u001b[1;31mnotebook controller is DISPOSED. \n",
      "\u001b[1;31mView Jupyter <a href='command:jupyter.viewOutput'>log</a> for further details."
     ]
    },
    {
     "ename": "",
     "evalue": "",
     "output_type": "error",
     "traceback": [
      "\u001b[1;31mnotebook controller is DISPOSED. \n",
      "\u001b[1;31mView Jupyter <a href='command:jupyter.viewOutput'>log</a> for further details."
     ]
    },
    {
     "ename": "",
     "evalue": "",
     "output_type": "error",
     "traceback": [
      "\u001b[1;31mnotebook controller is DISPOSED. \n",
      "\u001b[1;31mView Jupyter <a href='command:jupyter.viewOutput'>log</a> for further details."
     ]
    }
   ],
   "source": [
    "\"\"\"\n",
    "import torch\n",
    "import networkx as nx\n",
    "import matplotlib.pyplot as plt\n",
    "from torch_geometric.utils import to_networkx\n",
    "from torch_geometric.data import HeteroData\n",
    "import networkx as nx\n",
    "from torch_geometric.data import HeteroData\n",
    "\n",
    "def remove_self_loops_edge_index(edge_index):\n",
    "\tmask = edge_index[0] != edge_index[1]\n",
    "\treturn edge_index[:, mask]\n",
    "\n",
    "def convert_hetero_to_networkx(hetero_data):\n",
    "\tG = nx.MultiDiGraph()  # Use MultiDiGraph to support multiple edge types\n",
    "\t# Add nodes with type as an attribute\n",
    "\tfor node_type in hetero_data.node_types:\n",
    "\t\tfor node_id in range(hetero_data[node_type].num_nodes):\n",
    "\t\t\t# Node identifier format: (node_type, node_id)\n",
    "\t\t\tG.add_node((node_type, node_id), node_type=node_type)\n",
    "\t# Add edges\n",
    "\tfor edge_type in hetero_data.edge_types:\n",
    "\t\tsrc_type, _, dst_type = edge_type\n",
    "\t\tedge_indices = hetero_data[edge_type].edge_index\n",
    "\t\tedge_indices = remove_self_loops_edge_index(edge_indices)\n",
    "\t\tfor i in range(edge_indices.shape[1]):  # Iterate through each edge\n",
    "\t\t\tsrc_id, dst_id = edge_indices[:, i].tolist()\n",
    "\t\t\t# Edge identifier format: ((src_type, src_id), (dst_type, dst_id))\n",
    "\t\t\tG.add_edge((src_type, src_id), (dst_type, dst_id), edge_type=edge_type)\n",
    "\treturn G\n",
    "\n",
    "def plot_hetero_graph_with_curved_edges(data):\n",
    "\tprint(data)\n",
    "\tG = convert_hetero_to_networkx(data)\n",
    "\tprint(G)\n",
    "\tpos = nx.spring_layout(G)  # General layout if no positions are provided\n",
    "\n",
    "\t# Calculate offset for curved edges to avoid overlap\n",
    "\tedge_count = {}\n",
    "\tfor src, dst, key in G.edges(keys=True):\n",
    "\t\tedge_count[(src, dst)] = edge_count.get((src, dst), 0) + 1\n",
    "\t# Draw nodes\n",
    "\tplt.figure(figsize=(12, 12))\n",
    "\tnx.draw_networkx_nodes(G, pos, node_color='skyblue', node_size=70)\n",
    "\t\n",
    "\tedge_type_colors = {}\n",
    "\tunique_edge_types = data.edge_types\n",
    "\t# Generate a color map from matplotlib, or use a predefined set of colors\n",
    "\tcolors = plt.get_cmap('tab20')(range(len(unique_edge_types)))\n",
    "\tfor i, edge_type in enumerate(unique_edge_types):\n",
    "\t\tedge_type_colors[edge_type] = colors[i]\n",
    "\n",
    "\t# Draw edges with curvature\n",
    "\tfor (src, dst), count in edge_count.items():\n",
    "\t\tfor i in range(count):\n",
    "\t\t\tedge_key = list(G[src][dst])[i]\n",
    "\t\t\tstyle = G[src][dst][edge_key]\n",
    "\t\t\tcurvature = 0.1 * (i - count // 2)\n",
    "\t\t\tnx.draw_networkx_edges(\n",
    "\t\t\t\tG, pos, edgelist=[(src, dst)],\n",
    "\t\t\t\tconnectionstyle=f'arc3, rad={curvature}',\n",
    "\t\t\t\tarrowstyle='-|>',\n",
    "\t\t\t\tedge_color = edge_type_colors.get(edge_type, 'black'),  # Default color is black\n",
    "\t\t\t\twidth=style.get('weight', 1),\n",
    "\t\t\t\talpha = .25\n",
    "\t\t\t)\n",
    "\n",
    "\t# Draw labels\n",
    "\tnx.draw_networkx_labels(G, pos, font_size=10, font_color='black')\n",
    "\tplt.title('Heterogeneous Graph with Curved Edges')\n",
    "\tplt.axis('off')  # Turn off the axis\n",
    "\tplt.show()\n",
    "\n",
    "\"\"\""
   ]
  }
 ],
 "metadata": {
  "kernelspec": {
   "display_name": "Python 3 (ipykernel)",
   "language": "python",
   "name": "python3"
  }
 },
 "nbformat": 4,
 "nbformat_minor": 4
}
