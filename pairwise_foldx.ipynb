{
 "cells": [
  {
   "cell_type": "code",
   "execution_count": null,
   "metadata": {},
   "outputs": [],
   "source": [
    "import glob\n",
    "\n",
    "datadir = '/home/dmoi/datasets/complexes/BU_all_renum'\n",
    "fxfiles = glob.glob(datadir + '/*.fxout')\n",
    "\n",
    "with open( fxfiles[100], 'r') as f:\n",
    "\tfor l in f:\n",
    "\t\tprint(l)"
   ]
  },
  {
   "cell_type": "code",
   "execution_count": null,
   "metadata": {},
   "outputs": [],
   "source": [
    "import pandas as\tpd\n",
    "import tqdm\n",
    "import numpy as np\n",
    "\n",
    "header = 'Pdb\tGroup1\tGroup2\tIntraclashesGroup1\tIntraclashesGroup2\tInteraction Energy\tBackbone Hbond\tSidechain Hbond\tVan der Waals\tElectrostatics\tSolvation Polar\tSolvation Hydrophobic\tVan der Waals clashes\tentropy sidechain\tentropy mainchain\tsloop_entropy\tmloop_entropy\tcis_bond\ttorsional clash\tbackbone clash\thelix dipole\twater bridge\tdisulfide\telectrostatic kon\tpartial covalent bonds\tenergy Ionisation\tEntropy Complex\tNumber of Residues\tInterface Residues\tInterface Residues Clashing\tInterface Residues VdW Clashing\tInterface Residues BB Clashing'\n",
    "header = header.split('\\t')\n",
    "def read_fxout(fxfile , header= header):\n",
    "\tvalues = False\n",
    "\twith open(fxfile, 'r') as f:\n",
    "\t\ttry:\n",
    "\t\t\tfor line in f:\n",
    "\t\t\t\tif values:\n",
    "\t\t\t\t\tret =  dict( zip ( header , line.strip().split('\\t') )\t)\n",
    "\t\t\t\t\treturn pd.DataFrame.from_dict({ ret['Pdb']: ret }  , orient='index')\n",
    "\t\t\t\tif 'Pdb\tGroup1\tGroup2\tIntraclashesGroup1\tIntraclashesGroup2\tInteraction Energy\tBackbone Hbond' in line:\n",
    "\t\t\t\t\tvalues = True\n",
    "\t\texcept Exception as e:\n",
    "\t\t\tprint(e)\n",
    "\t\t\tprint(fxfile)\n",
    "\n",
    "df = pd.concat([ read_fxout(fxfile) for fxfile in tqdm.tqdm(fxfiles) ] )\n",
    "\n",
    "\n",
    "#change all columns to numeric if not Pdb\n",
    "for col in df.columns:\n",
    "\tdf[col] = df[col].map( lambda x : x if x != '-nan' else np.nan )\n",
    "\tif col != 'Pdb' and col != 'Group1' and col != 'Group2':\n",
    "\t\tdf[col] = pd.to_numeric(df[col])\n",
    "\n",
    "print(df)"
   ]
  },
  {
   "cell_type": "code",
   "execution_count": null,
   "metadata": {},
   "outputs": [],
   "source": [
    "import matplotlib.pyplot as plt\n",
    "\n",
    "plt.title('log abs Interaction Energy')\n",
    "plt.hist(np.log( np.abs( df['Interaction Energy'][df['Interaction Energy'] != 0 ].dropna())), bins=100)\n",
    "plt.show()"
   ]
  },
  {
   "cell_type": "code",
   "execution_count": null,
   "metadata": {},
   "outputs": [],
   "source": [
    "nonzero = df[df['Interaction Energy'] != 0 ].dropna()\n",
    "print(nonzero)"
   ]
  },
  {
   "cell_type": "code",
   "execution_count": 35,
   "metadata": {},
   "outputs": [
    {
     "name": "stderr",
     "output_type": "stream",
     "text": [
      "  2%|█▌                                                                           | 55/2614 [09:58<6:26:33,  9.06s/it]"
     ]
    }
   ],
   "source": [
    "#use pdbfixer on all monomers\n",
    "\n",
    "import pdbfixer\n",
    "from openmm.app import PDBFile\n",
    "\n",
    "\n",
    "outdir = '/home/dmoi/datasets/complexes/BU_all_renum_chains'\n",
    "\n",
    "os.makedirs(outdir, exist_ok=True)\n",
    "\n",
    "for pdb in tqdm.tqdm(nonzero.index):\n",
    "\tpdbfile = os.path.join(datadir, pdb.split('/')[-1] )\n",
    "\tif not os.path.exists(pdbfile):\n",
    "\t\tprint('no pdb file for ' + pdb)\n",
    "\t\tcontinue\n",
    "\tstructure = PDBParser().get_structure(pdb, pdbfile)\n",
    "\tfor model in structure:\n",
    "\t\tfor chain in model:\n",
    "\t\t\ttry:\n",
    "\t\t\t\toutfile = os.path.join(outdir, pdb + '_' + chain.id + '.pdb')\n",
    "\t\t\t\tio = PDBIO()\n",
    "\t\t\t\tio.set_structure(chain)\n",
    "\t\t\t\tio.save(outfile)\n",
    "\t\t\t\t#fix the pdb file\n",
    "\t\t\t\tfixer = pdbfixer.PDBFixer(filename=outfile)\n",
    "\t\t\t\tfixer.findMissingResidues()\n",
    "\t\t\t\tfixer.findNonstandardResidues()\n",
    "\t\t\t\tfixer.findMissingAtoms()\n",
    "\t\t\t\tfixer.addMissingAtoms()\n",
    "\t\t\t\tfixer.addMissingHydrogens(7.0)\n",
    "\t\t\t\tfixer.removeHeterogens(False)\n",
    "\t\t\t\tfixer.findNonstandardResidues()\n",
    "\t\t\t\tfixer.replaceNonstandardResidues()\n",
    "\n",
    "\t\t\t\t#write the fixed pdb file\t\n",
    "\t\t\t\tPDBFile.writeFile(fixer.topology, fixer.positions, open(outfile, 'w'))\n",
    "\t\t\texcept Exception as e:\n",
    "\t\t\t\tprint(e)\n",
    "\t\t\t\tprint(pdb, chain.id)"
   ]
  },
  {
   "cell_type": "code",
   "execution_count": 25,
   "metadata": {},
   "outputs": [],
   "source": [
    "import sys \n",
    "sys.path.append('/home/dmoi/projects/foldtree2')\n"
   ]
  },
  {
   "cell_type": "code",
   "execution_count": 28,
   "metadata": {},
   "outputs": [
    {
     "name": "stderr",
     "output_type": "stream",
     "text": [
      "  0%|                                                                                        | 0/8675 [00:00<?, ?it/s]\n"
     ]
    },
    {
     "ename": "KeyError",
     "evalue": "'MSE'",
     "output_type": "error",
     "traceback": [
      "\u001b[0;31m---------------------------------------------------------------------------\u001b[0m",
      "\u001b[0;31mKeyError\u001b[0m                                  Traceback (most recent call last)",
      "Cell \u001b[0;32mIn[28], line 6\u001b[0m\n\u001b[1;32m      4\u001b[0m pdbfiles \u001b[38;5;241m=\u001b[39m glob\u001b[38;5;241m.\u001b[39mglob(outdir \u001b[38;5;241m+\u001b[39m \u001b[38;5;124m'\u001b[39m\u001b[38;5;124m/*.pdb\u001b[39m\u001b[38;5;124m'\u001b[39m)\n\u001b[1;32m      5\u001b[0m converter \u001b[38;5;241m=\u001b[39m ft2\u001b[38;5;241m.\u001b[39mPDB2PyG( aapropcsv \u001b[38;5;241m=\u001b[39m \u001b[38;5;124m'\u001b[39m\u001b[38;5;124m/home/dmoi/projects/foldtree2/aaindex1.csv\u001b[39m\u001b[38;5;124m'\u001b[39m )\n\u001b[0;32m----> 6\u001b[0m \u001b[43mconverter\u001b[49m\u001b[38;5;241;43m.\u001b[39;49m\u001b[43mstore_pyg\u001b[49m\u001b[43m(\u001b[49m\u001b[43mpdbfiles\u001b[49m\u001b[43m,\u001b[49m\u001b[43m \u001b[49m\u001b[43mfilename\u001b[49m\u001b[38;5;241;43m=\u001b[39;49m\u001b[38;5;124;43m'\u001b[39;49m\u001b[38;5;124;43mpairchains.h5\u001b[39;49m\u001b[38;5;124;43m'\u001b[39;49m\u001b[43m,\u001b[49m\u001b[43m \u001b[49m\u001b[43mverbose\u001b[49m\u001b[43m \u001b[49m\u001b[38;5;241;43m=\u001b[39;49m\u001b[43m \u001b[49m\u001b[38;5;28;43;01mFalse\u001b[39;49;00m\u001b[43m)\u001b[49m\n",
      "File \u001b[0;32m~/projects/foldtree2/foldtree2_ecddcd.py:579\u001b[0m, in \u001b[0;36mPDB2PyG.store_pyg\u001b[0;34m(self, pdbfiles, filename, foldxdir, verbose)\u001b[0m\n\u001b[1;32m    577\u001b[0m \u001b[38;5;28;01mif\u001b[39;00m verbose:\n\u001b[1;32m    578\u001b[0m \t\u001b[38;5;28mprint\u001b[39m(pdbfile)\n\u001b[0;32m--> 579\u001b[0m hetero_data \u001b[38;5;241m=\u001b[39m \u001b[38;5;28;43mself\u001b[39;49m\u001b[38;5;241;43m.\u001b[39;49m\u001b[43mstruct2pyg\u001b[49m\u001b[43m(\u001b[49m\u001b[43mpdbfile\u001b[49m\u001b[43m \u001b[49m\u001b[43m,\u001b[49m\u001b[43m \u001b[49m\u001b[43mfoldxdir\u001b[49m\u001b[43m \u001b[49m\u001b[38;5;241;43m=\u001b[39;49m\u001b[43m \u001b[49m\u001b[43mfoldxdir\u001b[49m\u001b[43m)\u001b[49m\n\u001b[1;32m    580\u001b[0m \u001b[38;5;28;01mif\u001b[39;00m hetero_data:\n\u001b[1;32m    581\u001b[0m \tidentifier \u001b[38;5;241m=\u001b[39m hetero_data\u001b[38;5;241m.\u001b[39midentifier\n",
      "File \u001b[0;32m~/projects/foldtree2/foldtree2_ecddcd.py:444\u001b[0m, in \u001b[0;36mPDB2PyG.struct2pyg\u001b[0;34m(self, pdbchain, foldxdir, identifier, verbose)\u001b[0m\n\u001b[1;32m    440\u001b[0m data \u001b[38;5;241m=\u001b[39m HeteroData()\n\u001b[1;32m    441\u001b[0m \u001b[38;5;66;03m#transform a structure chain into a pytorch geometric graph\u001b[39;00m\n\u001b[1;32m    442\u001b[0m \u001b[38;5;66;03m#get the adjacency matrices\u001b[39;00m\n\u001b[1;32m    443\u001b[0m \u001b[38;5;66;03m#try:\u001b[39;00m\n\u001b[0;32m--> 444\u001b[0m xdata \u001b[38;5;241m=\u001b[39m \u001b[38;5;28;43mself\u001b[39;49m\u001b[38;5;241;43m.\u001b[39;49m\u001b[43mcreate_features\u001b[49m\u001b[43m(\u001b[49m\u001b[43mpdbchain\u001b[49m\u001b[43m \u001b[49m\u001b[43m,\u001b[49m\u001b[43m \u001b[49m\u001b[43mverbose\u001b[49m\u001b[43m \u001b[49m\u001b[38;5;241;43m=\u001b[39;49m\u001b[43m \u001b[49m\u001b[43mverbose\u001b[49m\u001b[43m,\u001b[49m\u001b[43m \u001b[49m\u001b[43mfoldxdir\u001b[49m\u001b[43m \u001b[49m\u001b[38;5;241;43m=\u001b[39;49m\u001b[43m \u001b[49m\u001b[43mfoldxdir\u001b[49m\u001b[43m)\u001b[49m\n\u001b[1;32m    445\u001b[0m \u001b[38;5;66;03m#except:\u001b[39;00m\n\u001b[1;32m    446\u001b[0m \u001b[38;5;66;03m#\treturn None\u001b[39;00m\n\u001b[1;32m    448\u001b[0m \u001b[38;5;28;01mif\u001b[39;00m xdata \u001b[38;5;129;01mis\u001b[39;00m \u001b[38;5;129;01mnot\u001b[39;00m \u001b[38;5;28;01mNone\u001b[39;00m:\n",
      "File \u001b[0;32m~/projects/foldtree2/foldtree2_ecddcd.py:333\u001b[0m, in \u001b[0;36mPDB2PyG.create_features\u001b[0;34m(self, monomerpdb, distance, verbose, foldxdir)\u001b[0m\n\u001b[1;32m    331\u001b[0m \u001b[38;5;28;01mif\u001b[39;00m \u001b[38;5;28mlen\u001b[39m(chain) \u001b[38;5;241m==\u001b[39m\u001b[38;5;241m0\u001b[39m:\n\u001b[1;32m    332\u001b[0m \t\u001b[38;5;28;01mreturn\u001b[39;00m \u001b[38;5;28;01mNone\u001b[39;00m\n\u001b[0;32m--> 333\u001b[0m angles \u001b[38;5;241m=\u001b[39m \u001b[38;5;28;43mself\u001b[39;49m\u001b[38;5;241;43m.\u001b[39;49m\u001b[43mget_angles\u001b[49m\u001b[43m(\u001b[49m\u001b[43mchain\u001b[49m\u001b[43m)\u001b[49m\n\u001b[1;32m    335\u001b[0m bondangles \u001b[38;5;241m=\u001b[39m np\u001b[38;5;241m.\u001b[39marray(angles[[\u001b[38;5;124m'\u001b[39m\u001b[38;5;124mPhi_Angle\u001b[39m\u001b[38;5;124m'\u001b[39m, \u001b[38;5;124m'\u001b[39m\u001b[38;5;124mPsi_Angle\u001b[39m\u001b[38;5;124m'\u001b[39m]])\n\u001b[1;32m    337\u001b[0m \u001b[38;5;28;01mif\u001b[39;00m \u001b[38;5;28mlen\u001b[39m(angles) \u001b[38;5;241m==\u001b[39m\u001b[38;5;241m0\u001b[39m:\n",
      "File \u001b[0;32m~/projects/foldtree2/foldtree2_ecddcd.py:157\u001b[0m, in \u001b[0;36mPDB2PyG.get_angles\u001b[0;34m(self, chain)\u001b[0m\n\u001b[1;32m    149\u001b[0m \tresidue \u001b[38;5;241m=\u001b[39m poly[\u001b[38;5;241m0\u001b[39m]\n\u001b[1;32m    150\u001b[0m \tresidue_id \u001b[38;5;241m=\u001b[39m residue\u001b[38;5;241m.\u001b[39mget_full_id()\n\u001b[1;32m    152\u001b[0m \tphi_psi_angles\u001b[38;5;241m.\u001b[39mappend({\n\u001b[1;32m    153\u001b[0m \t\t\u001b[38;5;124m\"\u001b[39m\u001b[38;5;124mChain\u001b[39m\u001b[38;5;124m\"\u001b[39m: residue_id[\u001b[38;5;241m2\u001b[39m],\n\u001b[1;32m    154\u001b[0m \t\t\u001b[38;5;124m\"\u001b[39m\u001b[38;5;124mResidue_Number\u001b[39m\u001b[38;5;124m\"\u001b[39m: residue_id[\u001b[38;5;241m3\u001b[39m][\u001b[38;5;241m1\u001b[39m],\n\u001b[1;32m    155\u001b[0m \t\t\u001b[38;5;124m\"\u001b[39m\u001b[38;5;124mResidue_Name\u001b[39m\u001b[38;5;124m\"\u001b[39m: residue\u001b[38;5;241m.\u001b[39mget_resname(),\n\u001b[1;32m    156\u001b[0m \t\t\u001b[38;5;66;03m#translate 3 letter to 1 letter code\u001b[39;00m\n\u001b[0;32m--> 157\u001b[0m \t\t\u001b[38;5;124m\"\u001b[39m\u001b[38;5;124msingle_letter_code\u001b[39m\u001b[38;5;124m\"\u001b[39m: \u001b[43maa_dict\u001b[49m\u001b[43m[\u001b[49m\u001b[43mresidue\u001b[49m\u001b[38;5;241;43m.\u001b[39;49m\u001b[43mget_resname\u001b[49m\u001b[43m(\u001b[49m\u001b[43m)\u001b[49m\u001b[43m]\u001b[49m,\n\u001b[1;32m    158\u001b[0m \t\t\u001b[38;5;124m\"\u001b[39m\u001b[38;5;124mPhi_Angle\u001b[39m\u001b[38;5;124m\"\u001b[39m: phi,\n\u001b[1;32m    159\u001b[0m \t\t\u001b[38;5;124m\"\u001b[39m\u001b[38;5;124mPsi_Angle\u001b[39m\u001b[38;5;124m\"\u001b[39m: psi\n\u001b[1;32m    160\u001b[0m \t})\n\u001b[1;32m    162\u001b[0m residue \u001b[38;5;241m=\u001b[39m chain[\u001b[38;5;241m-\u001b[39m\u001b[38;5;241m1\u001b[39m]\n\u001b[1;32m    163\u001b[0m residue_id \u001b[38;5;241m=\u001b[39m residue\u001b[38;5;241m.\u001b[39mget_full_id()\n",
      "\u001b[0;31mKeyError\u001b[0m: 'MSE'"
     ]
    }
   ],
   "source": [
    "# create a dataset with shuffled chains\n",
    "\n",
    "import  foldtree2_ecddcd as ft2\n",
    "pdbfiles = glob.glob(outdir + '/*.pdb')\n",
    "converter = ft2.PDB2PyG( aapropcsv = '/home/dmoi/projects/foldtree2/aaindex1.csv' )\n",
    "converter.store_pyg(pdbfiles, filename='pairchains.h5', verbose = False)\n"
   ]
  },
  {
   "cell_type": "code",
   "execution_count": null,
   "metadata": {},
   "outputs": [],
   "source": []
  }
 ],
 "metadata": {
  "kernelspec": {
   "display_name": "Python 3 (ipykernel)",
   "language": "python",
   "name": "python3"
  },
  "language_info": {
   "codemirror_mode": {
    "name": "ipython",
    "version": 3
   },
   "file_extension": ".py",
   "mimetype": "text/x-python",
   "name": "python",
   "nbconvert_exporter": "python",
   "pygments_lexer": "ipython3",
   "version": "3.12.3"
  }
 },
 "nbformat": 4,
 "nbformat_minor": 2
}
