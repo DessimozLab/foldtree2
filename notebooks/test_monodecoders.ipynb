{
 "cells": [
  {
   "cell_type": "markdown",
   "id": "f8502a6b",
   "metadata": {},
   "source": [
    "# Test MonoDecoders: Sequence and Geometry\n",
    "This notebook replicates the training logic from `learn.py` using the decoder in `mono_decoders.py` for amino acid and geometry prediction."
   ]
  },
  {
   "cell_type": "code",
   "execution_count": 8,
   "id": "6586f607",
   "metadata": {},
   "outputs": [
    {
     "name": "stdout",
     "output_type": "stream",
     "text": [
      "The autoreload extension is already loaded. To reload it, use:\n",
      "  %reload_ext autoreload\n"
     ]
    }
   ],
   "source": [
    "#use autoreload\n",
    "%load_ext autoreload\n",
    "%autoreload 2"
   ]
  },
  {
   "cell_type": "code",
   "execution_count": 9,
   "id": "f5103ea0",
   "metadata": {},
   "outputs": [
    {
     "name": "stdout",
     "output_type": "stream",
     "text": [
      "/home/dmoi/projects/foldtree2\n"
     ]
    }
   ],
   "source": [
    "cd /home/dmoi/projects/foldtree2/"
   ]
  },
  {
   "cell_type": "code",
   "execution_count": 10,
   "id": "248b7a49",
   "metadata": {},
   "outputs": [],
   "source": [
    "# Imports\n",
    "import torch\n",
    "from torch_geometric.data import DataLoader\n",
    "import numpy as np\n",
    "from src import pdbgraph\n",
    "from src import foldtree2_ecddcd as ft2\n",
    "from src.mono_decoders import MultiMonoDecoder\n",
    "import os\n",
    "import tqdm\n",
    "import random\n",
    "import torch.nn.functional as F"
   ]
  },
  {
   "cell_type": "code",
   "execution_count": 11,
   "id": "d142a0d9",
   "metadata": {},
   "outputs": [
    {
     "name": "stderr",
     "output_type": "stream",
     "text": [
      "/home/dmoi/miniforge3/envs/pyg/lib/python3.12/site-packages/torch_geometric/deprecation.py:26: UserWarning: 'data.DataLoader' is deprecated, use 'loader.DataLoader' instead\n",
      "  warnings.warn(out)\n"
     ]
    }
   ],
   "source": [
    "# Set seeds for reproducibility\n",
    "torch.manual_seed(0)\n",
    "np.random.seed(0)\n",
    "random.seed(0)\n",
    "torch.backends.cudnn.deterministic = True\n",
    "torch.backends.cudnn.benchmark = False\n",
    "\n",
    "# Data setup\n",
    "datadir = '../../datasets/foldtree2/'\n",
    "dataset_path = 'structs_traininffttest.h5'\n",
    "converter = pdbgraph.PDB2PyG(aapropcsv='config/aaindex1.csv')\n",
    "struct_dat = pdbgraph.StructureDataset(dataset_path)\n",
    "train_loader = DataLoader(struct_dat, batch_size=5, shuffle=True, num_workers=4)\n",
    "data_sample = next(iter(train_loader))"
   ]
  },
  {
   "cell_type": "code",
   "execution_count": 12,
   "id": "556484d9",
   "metadata": {},
   "outputs": [
    {
     "name": "stdout",
     "output_type": "stream",
     "text": [
      "Data sample: HeteroDataBatch(\n",
      "  identifier=[5],\n",
      "  AA={\n",
      "    x=[1323, 20],\n",
      "    batch=[1323],\n",
      "    ptr=[6],\n",
      "  },\n",
      "  R_true={\n",
      "    x=[1323, 3, 3],\n",
      "    batch=[1323],\n",
      "    ptr=[6],\n",
      "  },\n",
      "  bondangles={\n",
      "    x=[1323, 3],\n",
      "    batch=[1323],\n",
      "    ptr=[6],\n",
      "  },\n",
      "  coords={\n",
      "    x=[1323, 3],\n",
      "    batch=[1323],\n",
      "    ptr=[6],\n",
      "  },\n",
      "  fourier1di={\n",
      "    x=[1323, 80],\n",
      "    batch=[1323],\n",
      "    ptr=[6],\n",
      "  },\n",
      "  fourier1dr={\n",
      "    x=[1323, 80],\n",
      "    batch=[1323],\n",
      "    ptr=[6],\n",
      "  },\n",
      "  fourier2di={\n",
      "    x=[5, 1300],\n",
      "    batch=[5],\n",
      "    ptr=[6],\n",
      "  },\n",
      "  fourier2dr={\n",
      "    x=[5, 1300],\n",
      "    batch=[5],\n",
      "    ptr=[6],\n",
      "  },\n",
      "  godnode={\n",
      "    x=[5, 5],\n",
      "    batch=[5],\n",
      "    ptr=[6],\n",
      "  },\n",
      "  godnode4decoder={\n",
      "    x=[5, 5],\n",
      "    batch=[5],\n",
      "    ptr=[6],\n",
      "  },\n",
      "  plddt={\n",
      "    x=[1323, 1],\n",
      "    batch=[1323],\n",
      "    ptr=[6],\n",
      "  },\n",
      "  positions={\n",
      "    x=[1323, 256],\n",
      "    batch=[1323],\n",
      "    ptr=[6],\n",
      "  },\n",
      "  res={\n",
      "    x=[1323, 857],\n",
      "    batch=[1323],\n",
      "    ptr=[6],\n",
      "  },\n",
      "  t_true={\n",
      "    x=[1323, 3],\n",
      "    batch=[1323],\n",
      "    ptr=[6],\n",
      "  },\n",
      "  (godnode4decoder, informs, res)={ edge_index=[2, 1323] },\n",
      "  (godnode, informs, res)={ edge_index=[2, 1323] },\n",
      "  (res, backbone, res)={\n",
      "    edge_index=[2, 2641],\n",
      "    edge_attr=[1318],\n",
      "  },\n",
      "  (res, backbonerev, res)={\n",
      "    edge_index=[2, 2641],\n",
      "    edge_attr=[1318],\n",
      "  },\n",
      "  (res, contactPoints, res)={\n",
      "    edge_index=[2, 9804],\n",
      "    edge_attr=[9804],\n",
      "  },\n",
      "  (res, hbond, res)={\n",
      "    edge_index=[2, 1700],\n",
      "    edge_attr=[1700],\n",
      "  },\n",
      "  (res, informs, godnode)={ edge_index=[2, 1323] },\n",
      "  (res, informs, godnode4decoder)={ edge_index=[2, 1323] },\n",
      "  (res, window, res)={\n",
      "    edge_index=[2, 2626],\n",
      "    edge_attr=[2626],\n",
      "  },\n",
      "  (res, windowrev, res)={\n",
      "    edge_index=[2, 1318],\n",
      "    edge_attr=[1318],\n",
      "  }\n",
      ")\n"
     ]
    }
   ],
   "source": [
    "print('Data sample:', data_sample)"
   ]
  },
  {
   "cell_type": "code",
   "execution_count": 15,
   "id": "fc573dd8",
   "metadata": {},
   "outputs": [
    {
     "name": "stderr",
     "output_type": "stream",
     "text": [
      "Seed set to 42\n",
      "Seed set to 42\n"
     ]
    },
    {
     "name": "stdout",
     "output_type": "stream",
     "text": [
      "mk1_Encoder(\n",
      "  (convs): ModuleList(\n",
      "    (0): ModuleDict(\n",
      "      (res_contactPoints_res): TransformerConv(100, 100, heads=5)\n",
      "      (res_hbond_res): TransformerConv(100, 100, heads=5)\n",
      "    )\n",
      "  )\n",
      "  (norms): ModuleList(\n",
      "    (0): GraphNorm(100)\n",
      "  )\n",
      "  (bn): BatchNorm1d(857, eps=1e-05, momentum=0.1, affine=True, track_running_stats=True)\n",
      "  (dropout): Dropout(p=0.005, inplace=False)\n",
      "  (jk): JumpingKnowledge(cat)\n",
      "  (ffin): Sequential(\n",
      "    (0): Linear(in_features=1017, out_features=200, bias=True)\n",
      "    (1): GELU(approximate='none')\n",
      "    (2): Linear(in_features=200, out_features=100, bias=True)\n",
      "    (3): GELU(approximate='none')\n",
      "    (4): DynamicTanh(normalized_shape=100, alpha_init_value=0.5, channels_last=True)\n",
      "  )\n",
      "  (lin): Sequential(\n",
      "    (0): DynamicTanh(normalized_shape=100, alpha_init_value=0.5, channels_last=True)\n",
      "    (1): Linear(in_features=100, out_features=100, bias=True)\n",
      "    (2): GELU(approximate='none')\n",
      "    (3): Linear(in_features=100, out_features=100, bias=True)\n",
      "    (4): GELU(approximate='none')\n",
      "  )\n",
      "  (out_dense): Sequential(\n",
      "    (0): Linear(in_features=120, out_features=100, bias=True)\n",
      "    (1): GELU(approximate='none')\n",
      "    (2): Linear(in_features=100, out_features=20, bias=True)\n",
      "    (3): GELU(approximate='none')\n",
      "    (4): DynamicTanh(normalized_shape=20, alpha_init_value=0.5, channels_last=True)\n",
      "  )\n",
      "  (vector_quantizer): VectorQuantizerEMA(\n",
      "    (embeddings): Embedding(40, 20)\n",
      "  )\n",
      ")\n",
      "100 4 3 0.005\n"
     ]
    },
    {
     "name": "stderr",
     "output_type": "stream",
     "text": [
      "/home/dmoi/miniforge3/envs/pyg/lib/python3.12/site-packages/torch/nn/modules/transformer.py:382: UserWarning: enable_nested_tensor is True, but self.use_nested_tensor is False because encoder_layer.self_attn.batch_first was not True(use batch_first for better inference performance)\n",
      "  warnings.warn(\n",
      "Seed set to 42\n"
     ]
    },
    {
     "name": "stdout",
     "output_type": "stream",
     "text": [
      "MultiMonoDecoder(\n",
      "  (decoders): ModuleDict(\n",
      "    (sequence_transformer): Transformer_AA_Decoder(\n",
      "      (input_proj): Sequential(\n",
      "        (0): Linear(in_features=276, out_features=100, bias=True)\n",
      "        (1): GELU(approximate='none')\n",
      "        (2): Dropout(p=0.005, inplace=False)\n",
      "        (3): Linear(in_features=100, out_features=100, bias=True)\n",
      "        (4): DynamicTanh(normalized_shape=100, alpha_init_value=0.5, channels_last=True)\n",
      "      )\n",
      "      (transformer_encoder): TransformerEncoder(\n",
      "        (layers): ModuleList(\n",
      "          (0-2): 3 x TransformerEncoderLayer(\n",
      "            (self_attn): MultiheadAttention(\n",
      "              (out_proj): NonDynamicallyQuantizableLinear(in_features=100, out_features=100, bias=True)\n",
      "            )\n",
      "            (linear1): Linear(in_features=100, out_features=2048, bias=True)\n",
      "            (dropout): Dropout(p=0.005, inplace=False)\n",
      "            (linear2): Linear(in_features=2048, out_features=100, bias=True)\n",
      "            (norm1): LayerNorm((100,), eps=1e-05, elementwise_affine=True)\n",
      "            (norm2): LayerNorm((100,), eps=1e-05, elementwise_affine=True)\n",
      "            (dropout1): Dropout(p=0.005, inplace=False)\n",
      "            (dropout2): Dropout(p=0.005, inplace=False)\n",
      "          )\n",
      "        )\n",
      "      )\n",
      "      (lin): Sequential(\n",
      "        (0): Dropout(p=0.005, inplace=False)\n",
      "        (1): DynamicTanh(normalized_shape=100, alpha_init_value=0.5, channels_last=True)\n",
      "        (2): Linear(in_features=100, out_features=100, bias=True)\n",
      "        (3): GELU(approximate='none')\n",
      "        (4): Linear(in_features=100, out_features=100, bias=True)\n",
      "        (5): GELU(approximate='none')\n",
      "        (6): Linear(in_features=100, out_features=20, bias=True)\n",
      "        (7): LogSoftmax(dim=1)\n",
      "      )\n",
      "    )\n",
      "    (contacts): HeteroGAE_geo_Decoder(\n",
      "      (bn): BatchNorm1d(20, eps=1e-05, momentum=0.1, affine=True, track_running_stats=True)\n",
      "      (convs): ModuleList(\n",
      "        (0-2): 3 x HeteroConv(num_relations=4)\n",
      "      )\n",
      "      (norms): ModuleList(\n",
      "        (0-2): 3 x GraphNorm(100)\n",
      "      )\n",
      "      (dropout): Dropout(p=0.005, inplace=False)\n",
      "      (jk): JumpingKnowledge(cat)\n",
      "      (sigmoid): Sigmoid()\n",
      "      (lin): Sequential(\n",
      "        (0): Dropout(p=0.005, inplace=False)\n",
      "        (1): DynamicTanh(normalized_shape=300, alpha_init_value=0.5, channels_last=True)\n",
      "        (2): Linear(in_features=300, out_features=100, bias=True)\n",
      "        (3): GELU(approximate='none')\n",
      "        (4): Linear(in_features=100, out_features=100, bias=True)\n",
      "        (5): GELU(approximate='none')\n",
      "        (6): Linear(in_features=100, out_features=100, bias=True)\n",
      "        (7): GELU(approximate='none')\n",
      "        (8): DynamicTanh(normalized_shape=100, alpha_init_value=0.5, channels_last=True)\n",
      "      )\n",
      "      (godnodedecoder): Sequential(\n",
      "        (0): Linear(in_features=100, out_features=100, bias=True)\n",
      "        (1): GELU(approximate='none')\n",
      "        (2): Linear(in_features=100, out_features=100, bias=True)\n",
      "        (3): GELU(approximate='none')\n",
      "        (4): Linear(in_features=100, out_features=100, bias=True)\n",
      "        (5): GELU(approximate='none')\n",
      "        (6): DynamicTanh(normalized_shape=100, alpha_init_value=0.5, channels_last=True)\n",
      "        (7): Linear(in_features=100, out_features=2600, bias=True)\n",
      "      )\n",
      "      (contact_mlp): Sequential(\n",
      "        (0): Dropout(p=0.005, inplace=False)\n",
      "        (1): Linear(in_features=200, out_features=50, bias=True)\n",
      "        (2): GELU(approximate='none')\n",
      "        (3): Linear(in_features=50, out_features=50, bias=True)\n",
      "        (4): GELU(approximate='none')\n",
      "        (5): Linear(in_features=50, out_features=1, bias=True)\n",
      "      )\n",
      "    )\n",
      "  )\n",
      ")\n"
     ]
    }
   ],
   "source": [
    "# Model setup\n",
    "import se3encoder as se3e\n",
    "\n",
    "device = torch.device('cuda:1' if torch.cuda.is_available() else 'cpu')\n",
    "ndim = data_sample['res'].x.shape[1]\n",
    "ndim_godnode = data_sample['godnode'].x.shape[1]\n",
    "ndim_fft2i = data_sample['fourier2di'].x.shape[1]\n",
    "ndim_fft2r = data_sample['fourier2dr'].x.shape[1]\n",
    "\n",
    "num_embeddings = 40\n",
    "embedding_dim = 20\n",
    "hidden_size = 100\n",
    "se3transfomer = False  # Set to True for SE3Transformer, False for GNN\n",
    "\n",
    "if se3transfomer == True:\n",
    "\n",
    "\tencoder = se3e.se3_Encoder(\n",
    "\t\tin_channels=ndim,\n",
    "\t\thidden_channels=[hidden_size//2, hidden_size//2],\n",
    "\t\tout_channels=embedding_dim,\n",
    "\t\tmetadata={'edge_types': [('res','contactPoints','res'), ('res','hbond','res')]},\n",
    "\t\tnum_embeddings=num_embeddings,\n",
    "\t\tcommitment_cost=0.9,\n",
    "\t\tedge_dim=1,\n",
    "\t\tencoder_hidden=hidden_size,\n",
    "\t\tEMA=True,\n",
    "\t\tnheads=5,\n",
    "\t\tdropout_p=0.005,\n",
    "\t\treset_codes=False,\n",
    "\t\tflavor='transformer',\n",
    "\t\tfftin=True\n",
    "\t)\t\t\t\n",
    "else:\n",
    "\tencoder = ft2.mk1_Encoder(\n",
    "\t\tin_channels=ndim,\n",
    "\t\thidden_channels=[hidden_size, hidden_size],\n",
    "\t\tout_channels=embedding_dim,\n",
    "\t\tmetadata={'edge_types': [('res','contactPoints','res'), ('res','hbond','res')]},\n",
    "\t\tnum_embeddings=num_embeddings,\n",
    "\t\tcommitment_cost=0.9,\n",
    "\t\tedge_dim=1,\n",
    "\t\tencoder_hidden=hidden_size,\n",
    "\t\tEMA=True,\n",
    "\t\tnheads=5,\n",
    "\t\tdropout_p=0.005,\n",
    "\t\treset_codes=False,\n",
    "\t\tflavor='transformer',\n",
    "\t\tfftin=True\n",
    "\t)\n",
    "\n",
    "\n",
    "print(encoder)\n",
    "encoder = encoder.to(device)\n",
    "\n",
    "# MultiMonoDecoder for sequence and geometry\n",
    "mono_configs = {\n",
    "\t'sequence_transformer': {\n",
    "\t\t'in_channels': {'res': embedding_dim},\n",
    "\t\t'xdim': 20,\n",
    "\t\t'concat_positions': True,\n",
    "\t\t'hidden_channels': {('res','backbone','res'): [hidden_size]*3 , ('res','backbonerev','res'): [hidden_size]*3},\n",
    "\t\t'layers': 3,\n",
    "\t\t'AAdecoder_hidden': [hidden_size, hidden_size, hidden_size//2],\n",
    "\t\t'amino_mapper': converter.aaindex,\n",
    "\t\t'flavor': 'sage',\n",
    "\t\t'dropout': 0.005,\n",
    "\t\t'normalize': True,\n",
    "\t\t'residual': False\n",
    "\t},\n",
    "\t\n",
    "\t'contacts': {\n",
    "\t\t'in_channels': {'res': embedding_dim, 'godnode4decoder': ndim_godnode, 'foldx': 23 ,  'fft2r': ndim_fft2r, 'fft2i': ndim_fft2i},\n",
    "\t\t'concat_positions': True,\n",
    "\t\t'hidden_channels': {('res','backbone','res'): [hidden_size]*3, ('res','backbonerev','res'): [hidden_size]*3, ('res','informs','godnode4decoder'): [hidden_size]*3 , ('godnode4decoder','informs','res'): [hidden_size]*3},\n",
    "\t\t'layers': 3,\n",
    "\t\t'FFT2decoder_hidden': [hidden_size, hidden_size, hidden_size],\n",
    "\t\t'contactdecoder_hidden': [hidden_size//2, hidden_size//2],\n",
    "\t\t'nheads': 2,\n",
    "\t\t'Xdecoder_hidden': [hidden_size, hidden_size,  hidden_size ],\n",
    "\t\t'metadata': converter.metadata,\n",
    "\t\t'flavor': 'sage',\n",
    "\t\t'dropout': 0.005,\n",
    "\t\t'output_fft': True,\n",
    "        'output_rt':False,\n",
    "\t\t'normalize': True,\n",
    "\t\t'residual': False,\n",
    "\t\t'contact_mlp': True\n",
    "\t}\n",
    "}\n",
    "decoder = MultiMonoDecoder(tasks=['sequence_transformer', 'contacts'], configs=mono_configs)\n",
    "encoder = encoder.to(device)\n",
    "decoder = decoder.to(device)\n",
    "\n",
    "print(decoder)"
   ]
  },
  {
   "cell_type": "code",
   "execution_count": null,
   "id": "a24b3ca0",
   "metadata": {},
   "outputs": [
    {
     "name": "stderr",
     "output_type": "stream",
     "text": [
      "Epoch 0: 100%|████████████████████████████████| 1000/1000 [06:15<00:00,  2.66it/s]\n"
     ]
    },
    {
     "name": "stdout",
     "output_type": "stream",
     "text": [
      "Epoch 0: AA Loss: 2.4984, Edge Loss: 1.1541, VQ Loss: -0.6879 , FFT2 Loss: 101.5385\n"
     ]
    },
    {
     "name": "stderr",
     "output_type": "stream",
     "text": [
      "Epoch 1: 100%|████████████████████████████████| 1000/1000 [06:29<00:00,  2.57it/s]\n"
     ]
    },
    {
     "name": "stdout",
     "output_type": "stream",
     "text": [
      "Epoch 1: AA Loss: 1.5485, Edge Loss: 0.8114, VQ Loss: -1.6587 , FFT2 Loss: 37.0629\n"
     ]
    },
    {
     "name": "stderr",
     "output_type": "stream",
     "text": [
      "Epoch 2: 100%|████████████████████████████████| 1000/1000 [06:47<00:00,  2.45it/s]\n"
     ]
    },
    {
     "name": "stdout",
     "output_type": "stream",
     "text": [
      "Epoch 2: AA Loss: 1.1679, Edge Loss: 0.6661, VQ Loss: -2.0465 , FFT2 Loss: 5.5672\n"
     ]
    },
    {
     "name": "stderr",
     "output_type": "stream",
     "text": [
      "Epoch 3: 100%|████████████████████████████████| 1000/1000 [06:42<00:00,  2.48it/s]\n"
     ]
    },
    {
     "name": "stdout",
     "output_type": "stream",
     "text": [
      "Epoch 3: AA Loss: 0.7867, Edge Loss: 0.5999, VQ Loss: -2.4561 , FFT2 Loss: 1.7800\n"
     ]
    },
    {
     "name": "stderr",
     "output_type": "stream",
     "text": [
      "Epoch 4: 100%|████████████████████████████████| 1000/1000 [06:46<00:00,  2.46it/s]\n"
     ]
    },
    {
     "name": "stdout",
     "output_type": "stream",
     "text": [
      "Epoch 4: AA Loss: 0.5590, Edge Loss: 0.5556, VQ Loss: -2.5729 , FFT2 Loss: 51.1382\n"
     ]
    },
    {
     "name": "stderr",
     "output_type": "stream",
     "text": [
      "Epoch 5: 100%|████████████████████████████████| 1000/1000 [06:15<00:00,  2.66it/s]\n"
     ]
    },
    {
     "name": "stdout",
     "output_type": "stream",
     "text": [
      "Epoch 5: AA Loss: 0.3943, Edge Loss: 0.5271, VQ Loss: -2.6148 , FFT2 Loss: 16.6045\n"
     ]
    },
    {
     "name": "stderr",
     "output_type": "stream",
     "text": [
      "Epoch 6: 100%|████████████████████████████████| 1000/1000 [05:45<00:00,  2.89it/s]\n"
     ]
    },
    {
     "name": "stdout",
     "output_type": "stream",
     "text": [
      "Epoch 6: AA Loss: 0.4700, Edge Loss: 0.5066, VQ Loss: -2.5625 , FFT2 Loss: 8.4572\n"
     ]
    },
    {
     "name": "stderr",
     "output_type": "stream",
     "text": [
      "Epoch 7: 100%|████████████████████████████████| 1000/1000 [05:48<00:00,  2.87it/s]\n"
     ]
    },
    {
     "name": "stdout",
     "output_type": "stream",
     "text": [
      "Epoch 7: AA Loss: 0.3841, Edge Loss: 0.5044, VQ Loss: -2.5833 , FFT2 Loss: 2.0891\n"
     ]
    },
    {
     "name": "stderr",
     "output_type": "stream",
     "text": [
      "Epoch 8: 100%|████████████████████████████████| 1000/1000 [03:16<00:00,  5.08it/s]\n"
     ]
    },
    {
     "name": "stdout",
     "output_type": "stream",
     "text": [
      "Epoch 8: AA Loss: 0.4011, Edge Loss: 0.4917, VQ Loss: -2.5842 , FFT2 Loss: 7.4210\n"
     ]
    },
    {
     "name": "stderr",
     "output_type": "stream",
     "text": [
      "Epoch 9: 100%|████████████████████████████████| 1000/1000 [03:28<00:00,  4.79it/s]\n"
     ]
    },
    {
     "name": "stdout",
     "output_type": "stream",
     "text": [
      "Epoch 9: AA Loss: 0.4184, Edge Loss: 0.4864, VQ Loss: -2.5857 , FFT2 Loss: 3.8743\n"
     ]
    },
    {
     "name": "stderr",
     "output_type": "stream",
     "text": [
      "Epoch 10: 100%|███████████████████████████████| 1000/1000 [03:16<00:00,  5.08it/s]\n"
     ]
    },
    {
     "name": "stdout",
     "output_type": "stream",
     "text": [
      "Epoch 10: AA Loss: 0.2971, Edge Loss: 0.4804, VQ Loss: -2.6449 , FFT2 Loss: 2.6341\n"
     ]
    },
    {
     "name": "stderr",
     "output_type": "stream",
     "text": [
      "Epoch 11: 100%|███████████████████████████████| 1000/1000 [03:20<00:00,  4.99it/s]\n"
     ]
    },
    {
     "name": "stdout",
     "output_type": "stream",
     "text": [
      "Epoch 11: AA Loss: 0.3500, Edge Loss: 0.4755, VQ Loss: -2.7058 , FFT2 Loss: 6.7716\n"
     ]
    },
    {
     "name": "stderr",
     "output_type": "stream",
     "text": [
      "Epoch 12: 100%|███████████████████████████████| 1000/1000 [03:18<00:00,  5.04it/s]\n"
     ]
    },
    {
     "name": "stdout",
     "output_type": "stream",
     "text": [
      "Epoch 12: AA Loss: 0.2674, Edge Loss: 0.4691, VQ Loss: -2.7613 , FFT2 Loss: 115.1710\n"
     ]
    },
    {
     "name": "stderr",
     "output_type": "stream",
     "text": [
      "Epoch 13: 100%|███████████████████████████████| 1000/1000 [03:20<00:00,  4.99it/s]\n"
     ]
    },
    {
     "name": "stdout",
     "output_type": "stream",
     "text": [
      "Epoch 13: AA Loss: 0.3381, Edge Loss: 0.4594, VQ Loss: -2.7169 , FFT2 Loss: 33.2982\n"
     ]
    },
    {
     "name": "stderr",
     "output_type": "stream",
     "text": [
      "Epoch 14: 100%|███████████████████████████████| 1000/1000 [03:19<00:00,  5.00it/s]\n"
     ]
    },
    {
     "name": "stdout",
     "output_type": "stream",
     "text": [
      "Epoch 14: AA Loss: 0.2588, Edge Loss: 0.4633, VQ Loss: -2.7325 , FFT2 Loss: 6.7632\n"
     ]
    },
    {
     "name": "stderr",
     "output_type": "stream",
     "text": [
      "Epoch 15: 100%|███████████████████████████████| 1000/1000 [03:23<00:00,  4.92it/s]\n"
     ]
    },
    {
     "name": "stdout",
     "output_type": "stream",
     "text": [
      "Epoch 15: AA Loss: 0.2028, Edge Loss: 0.4541, VQ Loss: -2.7619 , FFT2 Loss: 27.1181\n"
     ]
    },
    {
     "name": "stderr",
     "output_type": "stream",
     "text": [
      "Epoch 16: 100%|███████████████████████████████| 1000/1000 [03:19<00:00,  5.01it/s]\n"
     ]
    },
    {
     "name": "stdout",
     "output_type": "stream",
     "text": [
      "Epoch 16: AA Loss: 0.3053, Edge Loss: 0.4369, VQ Loss: -2.7444 , FFT2 Loss: 22.4614\n"
     ]
    },
    {
     "name": "stderr",
     "output_type": "stream",
     "text": [
      "Epoch 17: 100%|███████████████████████████████| 1000/1000 [03:25<00:00,  4.88it/s]\n"
     ]
    },
    {
     "name": "stdout",
     "output_type": "stream",
     "text": [
      "Epoch 17: AA Loss: 0.2896, Edge Loss: 0.4330, VQ Loss: -2.7370 , FFT2 Loss: 8.0427\n"
     ]
    },
    {
     "name": "stderr",
     "output_type": "stream",
     "text": [
      "Epoch 18: 100%|███████████████████████████████| 1000/1000 [03:23<00:00,  4.92it/s]\n"
     ]
    },
    {
     "name": "stdout",
     "output_type": "stream",
     "text": [
      "Epoch 18: AA Loss: 0.2819, Edge Loss: 0.4256, VQ Loss: -2.7175 , FFT2 Loss: 127.2558\n"
     ]
    },
    {
     "name": "stderr",
     "output_type": "stream",
     "text": [
      "Epoch 19: 100%|███████████████████████████████| 1000/1000 [03:26<00:00,  4.84it/s]"
     ]
    },
    {
     "name": "stdout",
     "output_type": "stream",
     "text": [
      "Epoch 19: AA Loss: 0.1433, Edge Loss: 0.4171, VQ Loss: -2.7424 , FFT2 Loss: 20.7313\n"
     ]
    },
    {
     "name": "stderr",
     "output_type": "stream",
     "text": [
      "\n"
     ]
    }
   ],
   "source": [
    "# Training loop (demo, similar to learn.py)\n",
    "import time\n",
    "from collections import defaultdict\n",
    "\n",
    "num_epochs = 20  # For demonstration, keep small\n",
    "optimizer = torch.optim.AdamW(list(encoder.parameters()) + list(decoder.parameters()), lr=1e-4)\n",
    "scheduler = torch.optim.lr_scheduler.ReduceLROnPlateau(optimizer, factor=0.5, patience=2)\n",
    "\n",
    "edgeweight = 0.01\n",
    "xweight = 1\n",
    "fft2weight = 0.01\n",
    "vqweight = 0.0001\n",
    "clip_grad = True\n",
    "\n",
    "encoder.train()\n",
    "decoder.train()\n"
   ]
  },
  {
   "cell_type": "code",
   "execution_count": null,
   "id": "c71dde75",
   "metadata": {},
   "outputs": [
    {
     "name": "stderr",
     "output_type": "stream",
     "text": [
      "Epoch 0: 100%|████████████████████████████████| 1000/1000 [03:19<00:00,  5.01it/s]\n"
     ]
    },
    {
     "name": "stdout",
     "output_type": "stream",
     "text": [
      "Epoch 0: AA Loss: 0.2636, Edge Loss: 0.4102, VQ Loss: -2.7085 , FFT2 Loss: 8.2469\n"
     ]
    },
    {
     "name": "stderr",
     "output_type": "stream",
     "text": [
      "Epoch 1: 100%|████████████████████████████████| 1000/1000 [03:26<00:00,  4.85it/s]\n"
     ]
    },
    {
     "name": "stdout",
     "output_type": "stream",
     "text": [
      "Epoch 1: AA Loss: 0.2948, Edge Loss: 0.4082, VQ Loss: -2.6526 , FFT2 Loss: 13.7172\n"
     ]
    },
    {
     "name": "stderr",
     "output_type": "stream",
     "text": [
      "Epoch 2: 100%|████████████████████████████████| 1000/1000 [03:19<00:00,  5.01it/s]\n"
     ]
    },
    {
     "name": "stdout",
     "output_type": "stream",
     "text": [
      "Epoch 2: AA Loss: 0.2488, Edge Loss: 0.4113, VQ Loss: -2.6605 , FFT2 Loss: 15.4840\n"
     ]
    },
    {
     "name": "stderr",
     "output_type": "stream",
     "text": [
      "Epoch 3: 100%|████████████████████████████████| 1000/1000 [03:15<00:00,  5.10it/s]\n"
     ]
    },
    {
     "name": "stdout",
     "output_type": "stream",
     "text": [
      "Epoch 3: AA Loss: 0.2524, Edge Loss: 0.4061, VQ Loss: -2.6550 , FFT2 Loss: 5.5670\n"
     ]
    },
    {
     "name": "stderr",
     "output_type": "stream",
     "text": [
      "Epoch 4: 100%|████████████████████████████████| 1000/1000 [03:17<00:00,  5.07it/s]\n"
     ]
    },
    {
     "name": "stdout",
     "output_type": "stream",
     "text": [
      "Epoch 4: AA Loss: 0.2171, Edge Loss: 0.4042, VQ Loss: -2.6700 , FFT2 Loss: 19.8529\n"
     ]
    },
    {
     "name": "stderr",
     "output_type": "stream",
     "text": [
      "Epoch 5: 100%|████████████████████████████████| 1000/1000 [03:22<00:00,  4.94it/s]\n"
     ]
    },
    {
     "name": "stdout",
     "output_type": "stream",
     "text": [
      "Epoch 5: AA Loss: 0.2403, Edge Loss: 0.4021, VQ Loss: -2.6580 , FFT2 Loss: 129.2435\n"
     ]
    },
    {
     "name": "stderr",
     "output_type": "stream",
     "text": [
      "Epoch 6: 100%|████████████████████████████████| 1000/1000 [03:19<00:00,  5.01it/s]\n"
     ]
    },
    {
     "name": "stdout",
     "output_type": "stream",
     "text": [
      "Epoch 6: AA Loss: 0.2684, Edge Loss: 0.4057, VQ Loss: -2.6343 , FFT2 Loss: 49.8008\n"
     ]
    },
    {
     "name": "stderr",
     "output_type": "stream",
     "text": [
      "Epoch 7: 100%|████████████████████████████████| 1000/1000 [03:24<00:00,  4.88it/s]\n"
     ]
    },
    {
     "name": "stdout",
     "output_type": "stream",
     "text": [
      "Epoch 7: AA Loss: 0.1928, Edge Loss: 0.4034, VQ Loss: -2.6721 , FFT2 Loss: 17.4037\n"
     ]
    },
    {
     "name": "stderr",
     "output_type": "stream",
     "text": [
      "Epoch 8: 100%|████████████████████████████████| 1000/1000 [03:25<00:00,  4.88it/s]\n"
     ]
    },
    {
     "name": "stdout",
     "output_type": "stream",
     "text": [
      "Epoch 8: AA Loss: 0.2023, Edge Loss: 0.4028, VQ Loss: -2.6709 , FFT2 Loss: 12.7929\n"
     ]
    },
    {
     "name": "stderr",
     "output_type": "stream",
     "text": [
      "Epoch 9: 100%|████████████████████████████████| 1000/1000 [03:23<00:00,  4.91it/s]\n"
     ]
    },
    {
     "name": "stdout",
     "output_type": "stream",
     "text": [
      "Epoch 9: AA Loss: 0.1792, Edge Loss: 0.4003, VQ Loss: -2.6781 , FFT2 Loss: 1.3679\n"
     ]
    },
    {
     "name": "stderr",
     "output_type": "stream",
     "text": [
      "Epoch 10: 100%|███████████████████████████████| 1000/1000 [03:20<00:00,  4.99it/s]\n"
     ]
    },
    {
     "name": "stdout",
     "output_type": "stream",
     "text": [
      "Epoch 10: AA Loss: 0.1892, Edge Loss: 0.4017, VQ Loss: -2.6693 , FFT2 Loss: 5.1052\n"
     ]
    },
    {
     "name": "stderr",
     "output_type": "stream",
     "text": [
      "Epoch 11: 100%|███████████████████████████████| 1000/1000 [03:24<00:00,  4.88it/s]\n"
     ]
    },
    {
     "name": "stdout",
     "output_type": "stream",
     "text": [
      "Epoch 11: AA Loss: 0.2264, Edge Loss: 0.3995, VQ Loss: -2.6547 , FFT2 Loss: 69.2878\n"
     ]
    },
    {
     "name": "stderr",
     "output_type": "stream",
     "text": [
      "Epoch 12: 100%|███████████████████████████████| 1000/1000 [03:23<00:00,  4.92it/s]\n"
     ]
    },
    {
     "name": "stdout",
     "output_type": "stream",
     "text": [
      "Epoch 12: AA Loss: 0.2670, Edge Loss: 0.4003, VQ Loss: -2.6204 , FFT2 Loss: 106.0918\n"
     ]
    },
    {
     "name": "stderr",
     "output_type": "stream",
     "text": [
      "Epoch 13: 100%|███████████████████████████████| 1000/1000 [03:15<00:00,  5.11it/s]\n"
     ]
    },
    {
     "name": "stdout",
     "output_type": "stream",
     "text": [
      "Epoch 13: AA Loss: 0.2108, Edge Loss: 0.4033, VQ Loss: -2.6581 , FFT2 Loss: 14.0107\n"
     ]
    },
    {
     "name": "stderr",
     "output_type": "stream",
     "text": [
      "Epoch 14:  98%|███████████████████████████████▏| 975/1000 [03:11<00:05,  4.84it/s]"
     ]
    }
   ],
   "source": [
    "\n",
    "for epoch in range(num_epochs):\n",
    "\ttotal_loss_x = 0\n",
    "\ttotal_loss_edge = 0\n",
    "\ttotal_vq = 0\n",
    "\ttotal_loss_fft2 = 0\n",
    "\tfor data in tqdm.tqdm(train_loader, desc=f\"Epoch {epoch}\"):\n",
    "\t\tdata = data.to(device)\n",
    "\t\toptimizer.zero_grad()\n",
    "\t\tz, vqloss = encoder(data)\n",
    "\t\tdata['res'].x = z\n",
    "\t\t# For demonstration, only sequence and contacts tasks\n",
    "\t\tout = decoder(data, None)\n",
    "\t\trecon_x = out['aa'] if isinstance(out, dict) and 'aa' in out else out[0] if isinstance(out, (list, tuple)) else None\n",
    "\t\tfft2_x = out['fft2pred'] if isinstance(out, dict) and 'fft2pred' in out else out[1] if isinstance(out, (list, tuple)) else None\n",
    "\t\t# Edge loss: use contactPoints if available\n",
    "\t\tedge_index = data.edge_index_dict['res', 'contactPoints', 'res'] if hasattr(data, 'edge_index_dict') and ('res', 'contactPoints', 'res') in data.edge_index_dict else None\n",
    "\t\tif edge_index is not None:\n",
    "\t\t\tedgeloss, _ = ft2.recon_loss(data, edge_index, decoder, plddt=False, offdiag=False , key = 'edge_probs')\n",
    "\t\telse:\n",
    "\t\t\tedgeloss = torch.tensor(0.0, device=device)\n",
    "\t\txloss = ft2.aa_reconstruction_loss(data['AA'].x, recon_x)\n",
    "\t\tfft2loss = F.smooth_l1_loss(torch.cat( [ data['fourier2dr'].x ,data['fourier2di'].x ] ,axis = 1 ) , fft2_x )\n",
    "\t\tloss = xweight * xloss + edgeweight * edgeloss + vqweight * vqloss + fft2loss* fft2weight\n",
    "\n",
    "\t\tloss.backward()\n",
    "\t\tif clip_grad:\n",
    "\t\t\ttorch.nn.utils.clip_grad_norm_(encoder.parameters(), max_norm=1.0)\n",
    "\t\t\ttorch.nn.utils.clip_grad_norm_(decoder.parameters(), max_norm=1.0)\n",
    "\t\toptimizer.step()\n",
    "\t\ttotal_loss_x += xloss.item()\n",
    "\t\ttotal_loss_edge += edgeloss.item()\n",
    "\t\ttotal_loss_fft2 += fft2loss.item()\n",
    "\t\ttotal_vq += vqloss.item() if isinstance(vqloss, torch.Tensor) else float(vqloss)\n",
    "\tscheduler.step(total_loss_x)\n",
    "\tprint(f\"Epoch {epoch}: AA Loss: {total_loss_x/len(train_loader):.4f}, Edge Loss: {total_loss_edge/len(train_loader):.4f}, VQ Loss: {total_vq/len(train_loader):.4f} , FFT2 Loss: {total_loss_fft2/len(train_loader):.4f}\")"
   ]
  },
  {
   "cell_type": "code",
   "execution_count": null,
   "id": "903373a2",
   "metadata": {},
   "outputs": [],
   "source": []
  }
 ],
 "metadata": {
  "kernelspec": {
   "display_name": "Python 3 (ipykernel)",
   "language": "python",
   "name": "python3"
  }
 },
 "nbformat": 4,
 "nbformat_minor": 5
}
