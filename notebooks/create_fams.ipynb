{
 "cells": [
  {
   "cell_type": "code",
   "execution_count": 3,
   "metadata": {},
   "outputs": [],
   "source": [
    "import sys\n",
    "sys.path.append('/home/dmoi/projects/foldtree2')\n",
    "#read the afdb clusters file\n",
    "import pandas as pd\n",
    "import numpy as np\n",
    "import glob\n",
    "import os\n",
    "#autoreload\n",
    "import pickle\n",
    "from src import AFDB_tools\n",
    "import toytree\n",
    "import tqdm\n",
    "from matplotlib import pyplot as plt"
   ]
  },
  {
   "cell_type": "code",
   "execution_count": 3,
   "metadata": {},
   "outputs": [],
   "source": [
    "datadir = '/home/dmoi/datasets/'\n"
   ]
  },
  {
   "cell_type": "code",
   "execution_count": 8,
   "metadata": {},
   "outputs": [
    {
     "name": "stdout",
     "output_type": "stream",
     "text": [
      "reps       entryId       repId    taxId\n",
      "0  A0A009E921  A0A009E921  1310605\n",
      "1  A0A009F5K6  A0A009E921  1310605\n",
      "2  A0A009E9H3  A0A009E9H3  1310605\n",
      "3  A0A484ZLT0  A0A009E9H3    82979\n",
      "4  A0A009ECR5  A0A009ECR5  1310605\n"
     ]
    }
   ],
   "source": [
    "#read the afdb rep file\n",
    "reps = pd.read_table( datadir + 'afdbclusters/1-AFDBClusters-entryId_repId_taxId.tsv', header=None, names=['entryId', 'repId', 'taxId'] )\n",
    "print( 'reps' , reps.head() )"
   ]
  },
  {
   "cell_type": "code",
   "execution_count": 14,
   "metadata": {},
   "outputs": [],
   "source": [
    "os.makedirs( datadir + 'afdbclusters/structfams/', exist_ok=True )\n"
   ]
  },
  {
   "cell_type": "code",
   "execution_count": 25,
   "metadata": {},
   "outputs": [
    {
     "name": "stdout",
     "output_type": "stream",
     "text": [
      "1\n",
      "2\n",
      "3\n",
      "4\n",
      "5\n",
      "6\n",
      "7\n",
      "8\n",
      "9\n",
      "10\n",
      "11\n",
      "12\n",
      "13\n",
      "14\n",
      "15\n",
      "16\n",
      "17\n",
      "18\n",
      "19\n",
      "20\n",
      "21\n",
      "22\n",
      "23\n",
      "24\n",
      "25\n",
      "26\n",
      "27\n",
      "28\n",
      "29\n",
      "30\n",
      "31\n",
      "32\n",
      "33\n",
      "34\n",
      "35\n",
      "36\n",
      "37\n",
      "38\n",
      "39\n",
      "40\n",
      "41\n",
      "42\n",
      "43\n",
      "44\n",
      "45\n",
      "46\n",
      "47\n",
      "48\n",
      "49\n",
      "50\n",
      "51\n",
      "52\n",
      "53\n",
      "54\n",
      "55\n",
      "56\n",
      "57\n",
      "58\n",
      "59\n",
      "60\n",
      "61\n",
      "62\n",
      "63\n",
      "64\n",
      "65\n",
      "66\n",
      "67\n",
      "68\n",
      "69\n",
      "70\n",
      "71\n",
      "72\n",
      "73\n",
      "74\n",
      "75\n",
      "76\n",
      "77\n",
      "78\n",
      "79\n",
      "80\n",
      "81\n",
      "82\n",
      "83\n",
      "84\n",
      "85\n",
      "86\n",
      "87\n",
      "88\n",
      "89\n",
      "90\n",
      "91\n",
      "92\n",
      "93\n",
      "94\n",
      "95\n",
      "96\n",
      "97\n",
      "98\n",
      "99\n",
      "100\n",
      "101\n"
     ]
    },
    {
     "ename": "FileNotFoundError",
     "evalue": "[Errno 2] No such file or directory: '/home/dmoi/datasets/afdbclusters/structfams/100reps.pkl'",
     "output_type": "error",
     "traceback": [
      "\u001b[0;31m---------------------------------------------------------------------------\u001b[0m",
      "\u001b[0;31mFileNotFoundError\u001b[0m                         Traceback (most recent call last)",
      "Cell \u001b[0;32mIn[25], line 13\u001b[0m\n\u001b[1;32m     11\u001b[0m         \u001b[38;5;28;01mbreak\u001b[39;00m\n\u001b[1;32m     12\u001b[0m \u001b[38;5;66;03m#save the reps\u001b[39;00m\n\u001b[0;32m---> 13\u001b[0m \u001b[38;5;28;01mwith\u001b[39;00m \u001b[38;5;28;43mopen\u001b[39;49m\u001b[43m(\u001b[49m\u001b[43m \u001b[49m\u001b[43mdatadir\u001b[49m\u001b[43m \u001b[49m\u001b[38;5;241;43m+\u001b[39;49m\u001b[43m \u001b[49m\u001b[38;5;124;43m'\u001b[39;49m\u001b[38;5;124;43mafdbclusters/structfams/100reps.pkl\u001b[39;49m\u001b[38;5;124;43m'\u001b[39;49m\u001b[43m,\u001b[49m\u001b[43m \u001b[49m\u001b[38;5;124;43m'\u001b[39;49m\u001b[38;5;124;43mwb\u001b[39;49m\u001b[38;5;124;43m'\u001b[39;49m\u001b[43m \u001b[49m\u001b[43m)\u001b[49m \u001b[38;5;28;01mas\u001b[39;00m f:\n\u001b[1;32m     14\u001b[0m     pickle\u001b[38;5;241m.\u001b[39mdump( rep, f )\n",
      "File \u001b[0;32m~/miniforge3/envs/pyg/lib/python3.12/site-packages/IPython/core/interactiveshell.py:324\u001b[0m, in \u001b[0;36m_modified_open\u001b[0;34m(file, *args, **kwargs)\u001b[0m\n\u001b[1;32m    317\u001b[0m \u001b[38;5;28;01mif\u001b[39;00m file \u001b[38;5;129;01min\u001b[39;00m {\u001b[38;5;241m0\u001b[39m, \u001b[38;5;241m1\u001b[39m, \u001b[38;5;241m2\u001b[39m}:\n\u001b[1;32m    318\u001b[0m     \u001b[38;5;28;01mraise\u001b[39;00m \u001b[38;5;167;01mValueError\u001b[39;00m(\n\u001b[1;32m    319\u001b[0m         \u001b[38;5;124mf\u001b[39m\u001b[38;5;124m\"\u001b[39m\u001b[38;5;124mIPython won\u001b[39m\u001b[38;5;124m'\u001b[39m\u001b[38;5;124mt let you open fd=\u001b[39m\u001b[38;5;132;01m{\u001b[39;00mfile\u001b[38;5;132;01m}\u001b[39;00m\u001b[38;5;124m by default \u001b[39m\u001b[38;5;124m\"\u001b[39m\n\u001b[1;32m    320\u001b[0m         \u001b[38;5;124m\"\u001b[39m\u001b[38;5;124mas it is likely to crash IPython. If you know what you are doing, \u001b[39m\u001b[38;5;124m\"\u001b[39m\n\u001b[1;32m    321\u001b[0m         \u001b[38;5;124m\"\u001b[39m\u001b[38;5;124myou can use builtins\u001b[39m\u001b[38;5;124m'\u001b[39m\u001b[38;5;124m open.\u001b[39m\u001b[38;5;124m\"\u001b[39m\n\u001b[1;32m    322\u001b[0m     )\n\u001b[0;32m--> 324\u001b[0m \u001b[38;5;28;01mreturn\u001b[39;00m \u001b[43mio_open\u001b[49m\u001b[43m(\u001b[49m\u001b[43mfile\u001b[49m\u001b[43m,\u001b[49m\u001b[43m \u001b[49m\u001b[38;5;241;43m*\u001b[39;49m\u001b[43margs\u001b[49m\u001b[43m,\u001b[49m\u001b[43m \u001b[49m\u001b[38;5;241;43m*\u001b[39;49m\u001b[38;5;241;43m*\u001b[39;49m\u001b[43mkwargs\u001b[49m\u001b[43m)\u001b[49m\n",
      "\u001b[0;31mFileNotFoundError\u001b[0m: [Errno 2] No such file or directory: '/home/dmoi/datasets/afdbclusters/structfams/100reps.pkl'"
     ]
    }
   ],
   "source": [
    "import pandas as pd\n",
    "import numpy as np\n",
    "import random\n",
    "#eliminate the reps with less than 10 entries\n",
    "rep = []\n",
    "for r in reps.repId.unique():\n",
    "    if len(reps[ reps.repId == r ]) > 10:\n",
    "        rep.append( r)\n",
    "    if len( rep ) > 100:\n",
    "        break\n",
    "#save the reps\n"
   ]
  },
  {
   "cell_type": "code",
   "execution_count": 26,
   "metadata": {},
   "outputs": [],
   "source": [
    "with open( datadir + 'afdbclusters/100reps.pkl', 'wb' ) as f:\n",
    "    pickle.dump( rep, f )"
   ]
  },
  {
   "cell_type": "code",
   "execution_count": 22,
   "metadata": {},
   "outputs": [],
   "source": [
    "import shutil\n",
    "clear_files = False\n",
    "if clear_files:\n",
    "    shutil.rmtree( datadir + 'afdbclusters/structfams/' )"
   ]
  },
  {
   "cell_type": "code",
   "execution_count": null,
   "metadata": {},
   "outputs": [],
   "source": [
    "import tqdm\n",
    "for r in tqdm.tqdm(rep):\n",
    "    sub = reps[ reps.repId == r ]\n",
    "    print( 'sub', sub )\n",
    "    os.makedirs( datadir + 'afdbclusters/structfams/' + str(r), exist_ok=True )\n",
    "    os.makedirs( datadir + 'afdbclusters/structfams/' + str(r) + '/structs/', exist_ok=True )\n",
    "    sub= sub.sample(min(10,len(sub)))\n",
    "    for uniID in sub.entryId:\n",
    "        print( 'uniID', uniID )\n",
    "        AFDB_tools.grab_struct(uniID , structfolder= datadir + 'afdbclusters/structfams/' + str(r) + '/structs/')\n",
    "    print( 'structs', os.listdir( datadir + 'afdbclusters/structfams/' + str(r) + '/structs/') )\n",
    "foldmason.fasta.nw"
   ]
  },
  {
   "cell_type": "code",
   "execution_count": null,
   "metadata": {},
   "outputs": [],
   "source": [
    "#save the repstructs dataframe\n",
    "repstructs.to_csv( datadir + 'afdbclusters/repstructs.tsv', sep='\\t', index=False )"
   ]
  },
  {
   "cell_type": "code",
   "execution_count": 3,
   "metadata": {},
   "outputs": [],
   "source": [
    "import sys\n",
    "import os\n",
    "sys.path.append('/home/dmoi/projects/fold_tree/src')\n",
    "\n",
    "import corecut\n",
    "import numpy as np\n",
    "import pandas as pd\n",
    "import foldseek2tree\n",
    "\n",
    "def structblob2tree(input_folder, outfolder, overwrite = False,\n",
    "             fastmepath = 'fastme', quicktreepath = 'quicktree' , \n",
    "         foldseekpath = 'foldseek' , delta = 0.0001 ,\n",
    "       correction = False , kernel = 'fident' , core = False \n",
    "       , hittresh = .8 , minthresh = .6 , swapids = False):\n",
    "    '''\n",
    "    run fold tree pipeline for a folder of pdb files\n",
    "    \n",
    "    Parameters\n",
    "    ----------\n",
    "    input_folder : str\n",
    "        path to folder with pdb files   \n",
    "    outfolder : str\n",
    "        path to output folder   \n",
    "    overwrite : bool\n",
    "        overwrite existing foldseek output  \n",
    "    fastmepath : str    \n",
    "        path to fastme executable\n",
    "    quicktreepath : str \n",
    "        path to quicktree executable\n",
    "    foldseekpath : str  \n",
    "        path to foldseek executable \n",
    "    delta : float   \n",
    "        small number to replace negative branch lengths with, default is .0001\n",
    "    correction : str    \n",
    "        correction method to use, either 'tajima' or 'none'\n",
    "    kernel : str    \n",
    "        kernel to use, either 'fident', 'lddt' or 'alntmscore'\n",
    "    \n",
    "    '''\n",
    "    #check if the foldseek output is already there\n",
    "    if os.path.exists(outfolder + 'res.m8') and overwrite == False:\n",
    "        print('found foldseek output, skipping foldseek')\n",
    "        alnres = outfolder + 'res.m8'\n",
    "    else:\n",
    "        alnres = foldseek2tree.runFoldseek_allvall_EZsearch(input_folder , outfolder + 'res.m8', foldseekpath = foldseekpath)\n",
    "    \n",
    "    if core == True:\n",
    "\n",
    "        corecut.extract_core( alnres , alnres+'.core.csv',  hitthresh = .8 ,minthresh = .6, structfolder= input_folder.split('/')[-2]+'/' , corefolder = input_folder+'core_structs/'  )\n",
    "        if os.path.exists(outfolder + 'res.m8') and overwrite == False:\n",
    "            print('found foldseek core output, skipping foldseek')\n",
    "            alnres = outfolder + 'core.res.m8'\n",
    "        else:\n",
    "            alnres = foldseek2tree.runFoldseek_allvall_EZsearch(input_folder , outfolder + 'core.res.m8', foldseekpath = foldseekpath)\n",
    "    \n",
    "    \n",
    "    res = pd.read_table(alnres , header = None )\n",
    "    res[0] = res[0].map(lambda x :x.replace('.pdb', ''))\n",
    "    res[1] = res[1].map(lambda x :x.replace('.pdb', ''))\n",
    "    res.columns = 'query,target,fident,alnlen,mismatch,gapopen,qstart,qend,tstart,tend,evalue,bits,lddt,lddtfull,alntmscore'.split(',')\n",
    "    ids = sorted(list( set(list(res['query'].unique()) + list(res['target'].unique()))))\n",
    "    if swapids:\n",
    "        res['numerical_query'] = res['query'].map(lambda x : ids.index(x))\n",
    "        res['numerical_target'] = res['target'].map(lambda x : ids.index(x))\n",
    "    \n",
    "    pos = { protid : i for i,protid in enumerate(ids)}\n",
    "    if swapids:\n",
    "        ids = [ str(i) for i in range(len(ids))]\n",
    "\n",
    "    matrices = { kernel:np.zeros((len(pos), len(pos)))  }\n",
    "    print(res)\n",
    "\n",
    "    #calc kernel for tm, aln score, lddt\n",
    "    for idx,row in res.iterrows():\n",
    "        for k in matrices:\n",
    "            matrices[k][pos[row['query']] , pos[row['target']]] += row[k]\n",
    "            matrices[k][pos[row['target']] , pos[row['query']]] += row[k]\n",
    "    trees = {}\n",
    "    for i,k in enumerate(matrices):\n",
    "        matrices[k] /= 2\n",
    "        matrices[k] = 1-matrices[k]\n",
    "        matrices[k] = np.clip(matrices[k], 0, 1)\n",
    "        \n",
    "        print(matrices[k], np.amax(matrices[k]), np.amin(matrices[k]) )\n",
    "        if correction:\n",
    "            if kernel == 'fident':\n",
    "                factor = .93\n",
    "            else:\n",
    "                factor = 1\n",
    "            matrices[k] = foldseek2tree.Tajima_dist(matrices[k], bfactor = factor)\n",
    "        np.save( input_folder + k + '_distmat.npy' , matrices[k])\n",
    "        distmat_txt = foldseek2tree.distmat_to_txt( ids , matrices[k] , outfolder + k + '_distmat.txt' )\n",
    "        out_tree = foldseek2tree.runFastme(  fastmepath = fastmepath , clusterfile = distmat_txt )\n",
    "        out_tree = foldseek2tree.postprocess(out_tree, input_folder + 'structblob_tree.nwk' , delta = delta)\n",
    "        trees[k] = out_tree\n",
    "    return alnres, trees"
   ]
  },
  {
   "cell_type": "code",
   "execution_count": null,
   "metadata": {},
   "outputs": [],
   "source": [
    "import subprocess\n",
    "import shlex\n",
    "\n",
    "def run_foldmason(structdir, output_dir):\n",
    "    #run foldmason\n",
    "    cmd = 'foldmason easy-msa {0} {1}foldmason.fasta {2}foldmasontmp '.format(structdir, output_dir , output_dir)\n",
    "    print(cmd)\n",
    "    subprocess.run(shlex.split(cmd))\n",
    "    return output_dir + 'foldmason.fasta'\n",
    "\n",
    "def prepare_family(input_folder, outfolder):\n",
    "\n",
    "    #run foldmason\n",
    "    foldmason_aln = run_foldmason(input_folder, outfolder)\n",
    "    #run foldtree\n",
    "    alnres, trees = structblob2tree(input_folder, outfolder, overwrite = False,\n",
    "                fastmepath = 'fastme', quicktreepath = 'quicktree' , \n",
    "            foldseekpath = 'foldseek' , delta = 0.0001 ,\n",
    "        correction = False , kernel = 'fident' , core = False \n",
    "        , hittresh = .8 , minthresh = .6)\n",
    "    return foldmason_aln, outfolder + 'fidentfoldtree.nwk'\n",
    "\n",
    "for fam in tqdm.tqdm(glob.glob(datadir +'afdbclusters/structfams/*/')):\n",
    "    print(fam)\n",
    "    prepare_family(fam+'structs/' , fam + '/' )"
   ]
  },
  {
   "cell_type": "code",
   "execution_count": 27,
   "metadata": {},
   "outputs": [
    {
     "data": {
      "text/plain": [
       "HeteroGAE_Encoder(\n",
       "  (convs): ModuleList(\n",
       "    (0): ModuleDict(\n",
       "      (res_backbone_res): MFConv(844, 400)\n",
       "      (res_backbonerev_res): MFConv(400, 400)\n",
       "      (res_contactPoints_res): MFConv(400, 400)\n",
       "      (res_hbond_res): MFConv(400, 400)\n",
       "    )\n",
       "    (1-2): 2 x ModuleDict(\n",
       "      (res_backbone_res): MFConv(400, 400)\n",
       "      (res_backbonerev_res): MFConv(400, 400)\n",
       "      (res_contactPoints_res): MFConv(400, 400)\n",
       "      (res_hbond_res): MFConv(400, 400)\n",
       "    )\n",
       "  )\n",
       "  (bn): BatchNorm1d(844, eps=1e-05, momentum=0.1, affine=True, track_running_stats=True)\n",
       "  (dropout): Dropout(p=0.001, inplace=False)\n",
       "  (out_dense): Sequential(\n",
       "    (0): Linear(420, 200, bias=True)\n",
       "    (1): SiLU()\n",
       "    (2): Linear(200, 200, bias=True)\n",
       "    (3): SiLU()\n",
       "    (4): Linear(200, 200, bias=True)\n",
       "    (5): SiLU()\n",
       "    (6): Linear(200, 200, bias=True)\n",
       "    (7): SiLU()\n",
       "    (8): Linear(200, 200, bias=True)\n",
       "    (9): SiLU()\n",
       "    (10): Linear(200, 200, bias=True)\n",
       "    (11): SiLU()\n",
       "    (12): Linear(200, 200, bias=True)\n",
       "    (13): SiLU()\n",
       "    (14): Linear(200, 10, bias=True)\n",
       "    (15): SiLU()\n",
       "  )\n",
       "  (vector_quantizer): VectorQuantizerEMA(\n",
       "    (embeddings): Embedding(64, 10)\n",
       "  )\n",
       ")"
      ]
     },
     "execution_count": 27,
     "metadata": {},
     "output_type": "execute_result"
    }
   ],
   "source": [
    "import pickle\n",
    "import sys\n",
    "sys.path.append('/home/dmoi/projects/foldtree2')\n",
    "\n",
    "encoder_save = 'encoder_lowcost_final'\n",
    "decoder_save = 'decoder_lowcost_final'\n",
    "datadir = '/home/dmoi/datasets/'\n",
    "model_dir = '/home/dmoi/projects/foldtree2/models/'\n",
    "\n",
    "import foldtree2_ecddcd as ft2\n",
    "import torch\n",
    "inputchars = \"\"\"0 1 2 3 4 5 6 7 8 9 A B C D E F G H I J K L M N O P Q R S T U V W X Y Z ! \" # $ % & ' ( ) * + , / : ; < = > @ [ \\ ] ^ _ { | } ~\"\"\".split()\n",
    "\n",
    "ndim = 844\n",
    "converter = ft2.PDB2PyG(aapropcsv='/home/dmoi/projects/foldtree2/aaindex1.csv')\n",
    "#switch device to cpu\n",
    "\n",
    "with open( model_dir + encoder_save + 'proto_model.pkl' , 'rb' ) as f:\n",
    "    encoder,decoder = pickle.load( f )\n",
    "\n",
    "\n",
    "\n",
    "\n",
    "alphabetsize = encoder.vector_quantizer.embedding_dim\n",
    "device = torch.device('cuda' if torch.cuda.is_available() else 'cpu')\n",
    "#device = torch.device('cpu')\n",
    "encoder = encoder.to(device)\n",
    "encoder.eval()\n",
    "\n"
   ]
  },
  {
   "cell_type": "code",
   "execution_count": 28,
   "metadata": {},
   "outputs": [
    {
     "name": "stderr",
     "output_type": "stream",
     "text": [
      "  0%|                                                                                         | 0/101 [00:00<?, ?it/s]"
     ]
    },
    {
     "name": "stdout",
     "output_type": "stream",
     "text": [
      "/home/dmoi/datasets/afdbclusters/structfams/A0A011N458/\n",
      "using alphabet\n",
      "['0', '1', '2', '3', '4', '5', '6', '7', '8', '9', 'A', 'B', 'C', 'D', 'E', 'F', 'G', 'H', 'I', 'J', 'K', 'L', 'M', 'N', 'O', 'P', 'Q', 'R', 'S', 'T', 'U', 'V', 'W', 'X', 'Y', 'Z', '!', '\"', '#', '$', '%', '&', \"'\", '(', ')', '*', '+', ',', '/', ':', ';', '<', '=', '>', '@', '[', '\\\\', ']', '^', '_', '{', '|', '}', '~']\n"
     ]
    },
    {
     "name": "stderr",
     "output_type": "stream",
     "text": [
      "\n",
      "\u001b[A\n",
      "\u001b[A\n",
      "\u001b[A\n",
      "\u001b[A\n",
      "\u001b[A\n",
      "\u001b[A\n",
      "\u001b[A\n",
      "\u001b[A\n",
      "\u001b[A\n",
      "\u001b[A\n",
      "100%|█████████████████████████████████████████████████████████████████████████████████| 10/10 [00:02<00:00,  4.24it/s]\n",
      "10it [00:02,  4.23it/s]\n",
      "  1%|▊                                                                                | 1/101 [00:02<03:56,  2.37s/it]"
     ]
    },
    {
     "name": "stdout",
     "output_type": "stream",
     "text": [
      "/home/dmoi/datasets/afdbclusters/structfams/A0A009NI06/\n",
      "using alphabet\n",
      "['0', '1', '2', '3', '4', '5', '6', '7', '8', '9', 'A', 'B', 'C', 'D', 'E', 'F', 'G', 'H', 'I', 'J', 'K', 'L', 'M', 'N', 'O', 'P', 'Q', 'R', 'S', 'T', 'U', 'V', 'W', 'X', 'Y', 'Z', '!', '\"', '#', '$', '%', '&', \"'\", '(', ')', '*', '+', ',', '/', ':', ';', '<', '=', '>', '@', '[', '\\\\', ']', '^', '_', '{', '|', '}', '~']\n"
     ]
    },
    {
     "name": "stderr",
     "output_type": "stream",
     "text": [
      "\n",
      "\u001b[A\n",
      "\u001b[A\n",
      "\u001b[A\n",
      "\u001b[A\n",
      "\u001b[A\n",
      "\u001b[A\n",
      "\u001b[A\n",
      "\u001b[A\n",
      "\u001b[A\n",
      "\u001b[A\n",
      "100%|█████████████████████████████████████████████████████████████████████████████████| 10/10 [00:01<00:00,  7.14it/s]\n",
      "10it [00:01,  7.12it/s]\n",
      "  2%|█▌                                                                               | 2/101 [00:03<02:58,  1.81s/it]"
     ]
    },
    {
     "name": "stdout",
     "output_type": "stream",
     "text": [
      "/home/dmoi/datasets/afdbclusters/structfams/A0A010RA97/\n",
      "using alphabet\n",
      "['0', '1', '2', '3', '4', '5', '6', '7', '8', '9', 'A', 'B', 'C', 'D', 'E', 'F', 'G', 'H', 'I', 'J', 'K', 'L', 'M', 'N', 'O', 'P', 'Q', 'R', 'S', 'T', 'U', 'V', 'W', 'X', 'Y', 'Z', '!', '\"', '#', '$', '%', '&', \"'\", '(', ')', '*', '+', ',', '/', ':', ';', '<', '=', '>', '@', '[', '\\\\', ']', '^', '_', '{', '|', '}', '~']\n"
     ]
    },
    {
     "name": "stderr",
     "output_type": "stream",
     "text": [
      "\n",
      "\u001b[A\n",
      "\u001b[A\n",
      "\u001b[A\n",
      "\u001b[A\n",
      "\u001b[A\n",
      "\u001b[A\n",
      "\u001b[A\n",
      "\u001b[A\n",
      "\u001b[A\n",
      "\u001b[A\n",
      "100%|█████████████████████████████████████████████████████████████████████████████████| 10/10 [00:21<00:00,  2.14s/it]\n",
      "10it [00:21,  2.14s/it]\n",
      "  3%|██▍                                                                              | 3/101 [00:25<17:34, 10.76s/it]"
     ]
    },
    {
     "name": "stdout",
     "output_type": "stream",
     "text": [
      "/home/dmoi/datasets/afdbclusters/structfams/A0A011P9Q6/\n",
      "using alphabet\n",
      "['0', '1', '2', '3', '4', '5', '6', '7', '8', '9', 'A', 'B', 'C', 'D', 'E', 'F', 'G', 'H', 'I', 'J', 'K', 'L', 'M', 'N', 'O', 'P', 'Q', 'R', 'S', 'T', 'U', 'V', 'W', 'X', 'Y', 'Z', '!', '\"', '#', '$', '%', '&', \"'\", '(', ')', '*', '+', ',', '/', ':', ';', '<', '=', '>', '@', '[', '\\\\', ']', '^', '_', '{', '|', '}', '~']\n"
     ]
    },
    {
     "name": "stderr",
     "output_type": "stream",
     "text": [
      "\n",
      "\u001b[A\n",
      "\u001b[A\n",
      "\u001b[A\n",
      "\u001b[A\n",
      "\u001b[A\n",
      "\u001b[A\n",
      "\u001b[A\n",
      "\u001b[A\n",
      "\u001b[A\n",
      "\u001b[A\n",
      "100%|█████████████████████████████████████████████████████████████████████████████████| 10/10 [00:02<00:00,  3.76it/s]\n",
      "10it [00:02,  3.75it/s]\n",
      "  4%|███▏                                                                             | 4/101 [00:27<12:14,  7.57s/it]"
     ]
    },
    {
     "name": "stdout",
     "output_type": "stream",
     "text": [
      "/home/dmoi/datasets/afdbclusters/structfams/A0A010RDZ2/\n",
      "using alphabet\n",
      "['0', '1', '2', '3', '4', '5', '6', '7', '8', '9', 'A', 'B', 'C', 'D', 'E', 'F', 'G', 'H', 'I', 'J', 'K', 'L', 'M', 'N', 'O', 'P', 'Q', 'R', 'S', 'T', 'U', 'V', 'W', 'X', 'Y', 'Z', '!', '\"', '#', '$', '%', '&', \"'\", '(', ')', '*', '+', ',', '/', ':', ';', '<', '=', '>', '@', '[', '\\\\', ']', '^', '_', '{', '|', '}', '~']\n"
     ]
    },
    {
     "name": "stderr",
     "output_type": "stream",
     "text": [
      "\n",
      "\u001b[A\n",
      "\u001b[A\n",
      "\u001b[A\n",
      "\u001b[A\n",
      "\u001b[A\n",
      "\u001b[A\n",
      "\u001b[A\n",
      "\u001b[A\n",
      "\u001b[A\n",
      "\u001b[A\n",
      "100%|█████████████████████████████████████████████████████████████████████████████████| 10/10 [00:18<00:00,  1.87s/it]\n",
      "10it [00:18,  1.87s/it]\n",
      "  5%|████                                                                             | 5/101 [00:46<18:32, 11.59s/it]"
     ]
    },
    {
     "name": "stdout",
     "output_type": "stream",
     "text": [
      "/home/dmoi/datasets/afdbclusters/structfams/A0A010QV66/\n",
      "using alphabet\n",
      "['0', '1', '2', '3', '4', '5', '6', '7', '8', '9', 'A', 'B', 'C', 'D', 'E', 'F', 'G', 'H', 'I', 'J', 'K', 'L', 'M', 'N', 'O', 'P', 'Q', 'R', 'S', 'T', 'U', 'V', 'W', 'X', 'Y', 'Z', '!', '\"', '#', '$', '%', '&', \"'\", '(', ')', '*', '+', ',', '/', ':', ';', '<', '=', '>', '@', '[', '\\\\', ']', '^', '_', '{', '|', '}', '~']\n"
     ]
    },
    {
     "name": "stderr",
     "output_type": "stream",
     "text": [
      "\n",
      "\u001b[A\n",
      "\u001b[A\n",
      "\u001b[A\n",
      "\u001b[A\n",
      "\u001b[A\n",
      "\u001b[A\n",
      "\u001b[A\n",
      "\u001b[A\n",
      "\u001b[A\n",
      "\u001b[A\n",
      "100%|█████████████████████████████████████████████████████████████████████████████████| 10/10 [00:02<00:00,  3.97it/s]\n",
      "10it [00:02,  3.96it/s]\n",
      "  6%|████▊                                                                            | 6/101 [00:49<13:28,  8.51s/it]"
     ]
    },
    {
     "name": "stdout",
     "output_type": "stream",
     "text": [
      "/home/dmoi/datasets/afdbclusters/structfams/A0A009LLL0/\n",
      "using alphabet\n",
      "['0', '1', '2', '3', '4', '5', '6', '7', '8', '9', 'A', 'B', 'C', 'D', 'E', 'F', 'G', 'H', 'I', 'J', 'K', 'L', 'M', 'N', 'O', 'P', 'Q', 'R', 'S', 'T', 'U', 'V', 'W', 'X', 'Y', 'Z', '!', '\"', '#', '$', '%', '&', \"'\", '(', ')', '*', '+', ',', '/', ':', ';', '<', '=', '>', '@', '[', '\\\\', ']', '^', '_', '{', '|', '}', '~']\n"
     ]
    },
    {
     "name": "stderr",
     "output_type": "stream",
     "text": [
      "\n",
      "\u001b[A\n",
      "\u001b[A\n",
      "\u001b[A\n",
      "\u001b[A\n",
      "\u001b[A\n",
      "\u001b[A\n",
      "\u001b[A\n",
      "\u001b[A\n",
      "\u001b[A\n",
      "\u001b[A\n",
      "100%|█████████████████████████████████████████████████████████████████████████████████| 10/10 [00:02<00:00,  4.09it/s]\n",
      "10it [00:02,  4.08it/s]\n",
      "  7%|█████▌                                                                           | 7/101 [00:51<10:13,  6.53s/it]"
     ]
    },
    {
     "name": "stdout",
     "output_type": "stream",
     "text": [
      "/home/dmoi/datasets/afdbclusters/structfams/A0A009QF58/\n",
      "using alphabet\n",
      "['0', '1', '2', '3', '4', '5', '6', '7', '8', '9', 'A', 'B', 'C', 'D', 'E', 'F', 'G', 'H', 'I', 'J', 'K', 'L', 'M', 'N', 'O', 'P', 'Q', 'R', 'S', 'T', 'U', 'V', 'W', 'X', 'Y', 'Z', '!', '\"', '#', '$', '%', '&', \"'\", '(', ')', '*', '+', ',', '/', ':', ';', '<', '=', '>', '@', '[', '\\\\', ']', '^', '_', '{', '|', '}', '~']\n"
     ]
    },
    {
     "name": "stderr",
     "output_type": "stream",
     "text": [
      "\n",
      "\u001b[A\n",
      "\u001b[A\n",
      "\u001b[A\n",
      "\u001b[A\n",
      "\u001b[A\n",
      "\u001b[A\n",
      "\u001b[A\n",
      "\u001b[A\n",
      "\u001b[A\n",
      "\u001b[A\n",
      "100%|█████████████████████████████████████████████████████████████████████████████████| 10/10 [00:01<00:00,  5.19it/s]\n",
      "10it [00:01,  5.18it/s]\n",
      "  8%|██████▍                                                                          | 8/101 [00:53<07:51,  5.07s/it]"
     ]
    },
    {
     "name": "stdout",
     "output_type": "stream",
     "text": [
      "/home/dmoi/datasets/afdbclusters/structfams/A0A009ECR5/\n",
      "using alphabet\n",
      "['0', '1', '2', '3', '4', '5', '6', '7', '8', '9', 'A', 'B', 'C', 'D', 'E', 'F', 'G', 'H', 'I', 'J', 'K', 'L', 'M', 'N', 'O', 'P', 'Q', 'R', 'S', 'T', 'U', 'V', 'W', 'X', 'Y', 'Z', '!', '\"', '#', '$', '%', '&', \"'\", '(', ')', '*', '+', ',', '/', ':', ';', '<', '=', '>', '@', '[', '\\\\', ']', '^', '_', '{', '|', '}', '~']\n"
     ]
    },
    {
     "name": "stderr",
     "output_type": "stream",
     "text": [
      "\n",
      "\u001b[A\n",
      "\u001b[A\n",
      "\u001b[A\n",
      "\u001b[A\n",
      "\u001b[A\n",
      "\u001b[A\n",
      "\u001b[A\n",
      "\u001b[A\n",
      "\u001b[A\n",
      "\u001b[A\n",
      "100%|█████████████████████████████████████████████████████████████████████████████████| 10/10 [00:06<00:00,  1.45it/s]\n",
      "10it [00:06,  1.45it/s]\n",
      "  9%|███████▏                                                                         | 9/101 [01:00<08:38,  5.64s/it]"
     ]
    },
    {
     "name": "stdout",
     "output_type": "stream",
     "text": [
      "/home/dmoi/datasets/afdbclusters/structfams/A0A011M8L1/\n",
      "using alphabet\n",
      "['0', '1', '2', '3', '4', '5', '6', '7', '8', '9', 'A', 'B', 'C', 'D', 'E', 'F', 'G', 'H', 'I', 'J', 'K', 'L', 'M', 'N', 'O', 'P', 'Q', 'R', 'S', 'T', 'U', 'V', 'W', 'X', 'Y', 'Z', '!', '\"', '#', '$', '%', '&', \"'\", '(', ')', '*', '+', ',', '/', ':', ';', '<', '=', '>', '@', '[', '\\\\', ']', '^', '_', '{', '|', '}', '~']\n"
     ]
    },
    {
     "name": "stderr",
     "output_type": "stream",
     "text": [
      "\n",
      "\u001b[A\n",
      "\u001b[A\n",
      "\u001b[A\n",
      "\u001b[A\n",
      "\u001b[A\n",
      "\u001b[A\n",
      "\u001b[A\n",
      "\u001b[A\n",
      "\u001b[A\n",
      "\u001b[A\n",
      "100%|█████████████████████████████████████████████████████████████████████████████████| 10/10 [00:08<00:00,  1.21it/s]\n",
      "10it [00:08,  1.21it/s]\n",
      " 10%|███████▉                                                                        | 10/101 [01:08<09:47,  6.45s/it]"
     ]
    },
    {
     "name": "stdout",
     "output_type": "stream",
     "text": [
      "/home/dmoi/datasets/afdbclusters/structfams/A0A010QBH7/\n",
      "using alphabet\n",
      "['0', '1', '2', '3', '4', '5', '6', '7', '8', '9', 'A', 'B', 'C', 'D', 'E', 'F', 'G', 'H', 'I', 'J', 'K', 'L', 'M', 'N', 'O', 'P', 'Q', 'R', 'S', 'T', 'U', 'V', 'W', 'X', 'Y', 'Z', '!', '\"', '#', '$', '%', '&', \"'\", '(', ')', '*', '+', ',', '/', ':', ';', '<', '=', '>', '@', '[', '\\\\', ']', '^', '_', '{', '|', '}', '~']\n"
     ]
    },
    {
     "name": "stderr",
     "output_type": "stream",
     "text": [
      "\n",
      "\u001b[A\n",
      "\u001b[A\n",
      "\u001b[A\n",
      "\u001b[A\n",
      "\u001b[A\n",
      "\u001b[A\n",
      "\u001b[A\n",
      "\u001b[A\n",
      "\u001b[A\n",
      "\u001b[A\n",
      "100%|█████████████████████████████████████████████████████████████████████████████████| 10/10 [00:17<00:00,  1.80s/it]\n",
      "10it [00:17,  1.80s/it]\n",
      " 11%|████████▋                                                                       | 11/101 [01:26<14:58,  9.98s/it]"
     ]
    },
    {
     "name": "stdout",
     "output_type": "stream",
     "text": [
      "/home/dmoi/datasets/afdbclusters/structfams/A0A010RFX4/\n",
      "using alphabet\n",
      "['0', '1', '2', '3', '4', '5', '6', '7', '8', '9', 'A', 'B', 'C', 'D', 'E', 'F', 'G', 'H', 'I', 'J', 'K', 'L', 'M', 'N', 'O', 'P', 'Q', 'R', 'S', 'T', 'U', 'V', 'W', 'X', 'Y', 'Z', '!', '\"', '#', '$', '%', '&', \"'\", '(', ')', '*', '+', ',', '/', ':', ';', '<', '=', '>', '@', '[', '\\\\', ']', '^', '_', '{', '|', '}', '~']\n"
     ]
    },
    {
     "name": "stderr",
     "output_type": "stream",
     "text": [
      "\n",
      "\u001b[A\n",
      "\u001b[A\n",
      "\u001b[A\n",
      "\u001b[A\n",
      "\u001b[A\n",
      "\u001b[A\n",
      "\u001b[A\n",
      "\u001b[A\n",
      "\u001b[A\n",
      "\u001b[A\n",
      "100%|█████████████████████████████████████████████████████████████████████████████████| 10/10 [00:02<00:00,  4.20it/s]\n",
      "10it [00:02,  4.20it/s]\n",
      " 12%|█████████▌                                                                      | 12/101 [01:29<11:22,  7.67s/it]"
     ]
    },
    {
     "name": "stdout",
     "output_type": "stream",
     "text": [
      "/home/dmoi/datasets/afdbclusters/structfams/A0A010QH57/\n",
      "using alphabet\n",
      "['0', '1', '2', '3', '4', '5', '6', '7', '8', '9', 'A', 'B', 'C', 'D', 'E', 'F', 'G', 'H', 'I', 'J', 'K', 'L', 'M', 'N', 'O', 'P', 'Q', 'R', 'S', 'T', 'U', 'V', 'W', 'X', 'Y', 'Z', '!', '\"', '#', '$', '%', '&', \"'\", '(', ')', '*', '+', ',', '/', ':', ';', '<', '=', '>', '@', '[', '\\\\', ']', '^', '_', '{', '|', '}', '~']\n"
     ]
    },
    {
     "name": "stderr",
     "output_type": "stream",
     "text": [
      "\n",
      "\u001b[A\n",
      "\u001b[A\n",
      "\u001b[A\n",
      "\u001b[A\n",
      "\u001b[A\n",
      "\u001b[A\n",
      "\u001b[A\n",
      "\u001b[A\n",
      "\u001b[A\n",
      "\u001b[A\n",
      "100%|█████████████████████████████████████████████████████████████████████████████████| 10/10 [00:04<00:00,  2.16it/s]\n",
      "10it [00:04,  2.15it/s]\n",
      " 13%|██████████▎                                                                     | 13/101 [01:33<09:54,  6.76s/it]"
     ]
    },
    {
     "name": "stdout",
     "output_type": "stream",
     "text": [
      "/home/dmoi/datasets/afdbclusters/structfams/A0A009I5S8/\n",
      "using alphabet\n",
      "['0', '1', '2', '3', '4', '5', '6', '7', '8', '9', 'A', 'B', 'C', 'D', 'E', 'F', 'G', 'H', 'I', 'J', 'K', 'L', 'M', 'N', 'O', 'P', 'Q', 'R', 'S', 'T', 'U', 'V', 'W', 'X', 'Y', 'Z', '!', '\"', '#', '$', '%', '&', \"'\", '(', ')', '*', '+', ',', '/', ':', ';', '<', '=', '>', '@', '[', '\\\\', ']', '^', '_', '{', '|', '}', '~']\n"
     ]
    },
    {
     "name": "stderr",
     "output_type": "stream",
     "text": [
      "\n",
      "\u001b[A\n",
      "\u001b[A\n",
      "\u001b[A\n",
      "\u001b[A\n",
      "\u001b[A\n",
      "\u001b[A\n",
      "\u001b[A\n",
      "\u001b[A\n",
      "\u001b[A\n",
      "\u001b[A\n",
      "100%|█████████████████████████████████████████████████████████████████████████████████| 10/10 [00:01<00:00,  9.33it/s]\n",
      "10it [00:01,  9.30it/s]\n",
      " 14%|███████████                                                                     | 14/101 [01:34<07:18,  5.04s/it]"
     ]
    },
    {
     "name": "stdout",
     "output_type": "stream",
     "text": [
      "/home/dmoi/datasets/afdbclusters/structfams/A0A009QKS2/\n",
      "using alphabet\n",
      "['0', '1', '2', '3', '4', '5', '6', '7', '8', '9', 'A', 'B', 'C', 'D', 'E', 'F', 'G', 'H', 'I', 'J', 'K', 'L', 'M', 'N', 'O', 'P', 'Q', 'R', 'S', 'T', 'U', 'V', 'W', 'X', 'Y', 'Z', '!', '\"', '#', '$', '%', '&', \"'\", '(', ')', '*', '+', ',', '/', ':', ';', '<', '=', '>', '@', '[', '\\\\', ']', '^', '_', '{', '|', '}', '~']\n"
     ]
    },
    {
     "name": "stderr",
     "output_type": "stream",
     "text": [
      "\n",
      "\u001b[A\n",
      "\u001b[A\n",
      "\u001b[A\n",
      "\u001b[A\n",
      "\u001b[A\n",
      "\u001b[A\n",
      "\u001b[A\n",
      "\u001b[A\n",
      "\u001b[A\n",
      "\u001b[A\n",
      "100%|█████████████████████████████████████████████████████████████████████████████████| 10/10 [00:01<00:00,  7.27it/s]\n",
      "10it [00:01,  7.26it/s]\n",
      " 15%|███████████▉                                                                    | 15/101 [01:36<05:38,  3.94s/it]"
     ]
    },
    {
     "name": "stdout",
     "output_type": "stream",
     "text": [
      "/home/dmoi/datasets/afdbclusters/structfams/A0A009Q7Y6/\n",
      "using alphabet\n",
      "['0', '1', '2', '3', '4', '5', '6', '7', '8', '9', 'A', 'B', 'C', 'D', 'E', 'F', 'G', 'H', 'I', 'J', 'K', 'L', 'M', 'N', 'O', 'P', 'Q', 'R', 'S', 'T', 'U', 'V', 'W', 'X', 'Y', 'Z', '!', '\"', '#', '$', '%', '&', \"'\", '(', ')', '*', '+', ',', '/', ':', ';', '<', '=', '>', '@', '[', '\\\\', ']', '^', '_', '{', '|', '}', '~']\n"
     ]
    },
    {
     "name": "stderr",
     "output_type": "stream",
     "text": [
      "\n",
      "\u001b[A\n",
      "\u001b[A\n",
      "\u001b[A\n",
      "\u001b[A\n",
      "\u001b[A\n",
      "\u001b[A\n",
      "\u001b[A\n",
      "\u001b[A\n",
      "\u001b[A\n",
      "\u001b[A\n",
      "100%|█████████████████████████████████████████████████████████████████████████████████| 10/10 [00:01<00:00,  6.70it/s]\n",
      "10it [00:01,  6.68it/s]\n",
      " 16%|████████████▋                                                                   | 16/101 [01:37<04:32,  3.21s/it]"
     ]
    },
    {
     "name": "stdout",
     "output_type": "stream",
     "text": [
      "/home/dmoi/datasets/afdbclusters/structfams/A0A010QIB6/\n",
      "using alphabet\n",
      "['0', '1', '2', '3', '4', '5', '6', '7', '8', '9', 'A', 'B', 'C', 'D', 'E', 'F', 'G', 'H', 'I', 'J', 'K', 'L', 'M', 'N', 'O', 'P', 'Q', 'R', 'S', 'T', 'U', 'V', 'W', 'X', 'Y', 'Z', '!', '\"', '#', '$', '%', '&', \"'\", '(', ')', '*', '+', ',', '/', ':', ';', '<', '=', '>', '@', '[', '\\\\', ']', '^', '_', '{', '|', '}', '~']\n"
     ]
    },
    {
     "name": "stderr",
     "output_type": "stream",
     "text": [
      "\n",
      "\u001b[A\n",
      "\u001b[A\n",
      "\u001b[A\n",
      "\u001b[A\n",
      "\u001b[A\n",
      "\u001b[A\n",
      "\u001b[A\n",
      "\u001b[A\n",
      "\u001b[A\n",
      "\u001b[A\n",
      "100%|█████████████████████████████████████████████████████████████████████████████████| 10/10 [00:06<00:00,  1.48it/s]\n",
      "10it [00:06,  1.48it/s]\n",
      " 17%|█████████████▍                                                                  | 17/101 [01:44<05:58,  4.27s/it]"
     ]
    },
    {
     "name": "stdout",
     "output_type": "stream",
     "text": [
      "/home/dmoi/datasets/afdbclusters/structfams/A0A009J8A1/\n",
      "using alphabet\n",
      "['0', '1', '2', '3', '4', '5', '6', '7', '8', '9', 'A', 'B', 'C', 'D', 'E', 'F', 'G', 'H', 'I', 'J', 'K', 'L', 'M', 'N', 'O', 'P', 'Q', 'R', 'S', 'T', 'U', 'V', 'W', 'X', 'Y', 'Z', '!', '\"', '#', '$', '%', '&', \"'\", '(', ')', '*', '+', ',', '/', ':', ';', '<', '=', '>', '@', '[', '\\\\', ']', '^', '_', '{', '|', '}', '~']\n"
     ]
    },
    {
     "name": "stderr",
     "output_type": "stream",
     "text": [
      "\n",
      "\u001b[A\n",
      "\u001b[A\n",
      "\u001b[A\n",
      "\u001b[A\n",
      "\u001b[A\n",
      "\u001b[A\n",
      "\u001b[A\n",
      "\u001b[A\n",
      "\u001b[A\n",
      "\u001b[A\n",
      "100%|█████████████████████████████████████████████████████████████████████████████████| 10/10 [00:02<00:00,  3.65it/s]\n",
      "10it [00:02,  3.64it/s]\n",
      " 18%|██████████████▎                                                                 | 18/101 [01:47<05:16,  3.82s/it]"
     ]
    },
    {
     "name": "stdout",
     "output_type": "stream",
     "text": [
      "/home/dmoi/datasets/afdbclusters/structfams/A0A010Z6J6/\n",
      "using alphabet\n",
      "['0', '1', '2', '3', '4', '5', '6', '7', '8', '9', 'A', 'B', 'C', 'D', 'E', 'F', 'G', 'H', 'I', 'J', 'K', 'L', 'M', 'N', 'O', 'P', 'Q', 'R', 'S', 'T', 'U', 'V', 'W', 'X', 'Y', 'Z', '!', '\"', '#', '$', '%', '&', \"'\", '(', ')', '*', '+', ',', '/', ':', ';', '<', '=', '>', '@', '[', '\\\\', ']', '^', '_', '{', '|', '}', '~']\n"
     ]
    },
    {
     "name": "stderr",
     "output_type": "stream",
     "text": [
      "\n",
      "\u001b[A\n",
      "\u001b[A\n",
      "\u001b[A\n",
      "\u001b[A\n",
      "\u001b[A\n",
      "\u001b[A\n",
      "\u001b[A\n",
      "\u001b[A\n",
      "\u001b[A\n",
      "\u001b[A\n",
      "100%|█████████████████████████████████████████████████████████████████████████████████| 10/10 [00:03<00:00,  2.74it/s]\n",
      "10it [00:03,  2.74it/s]\n",
      " 19%|███████████████                                                                 | 19/101 [01:50<05:09,  3.77s/it]"
     ]
    },
    {
     "name": "stdout",
     "output_type": "stream",
     "text": [
      "/home/dmoi/datasets/afdbclusters/structfams/A0A009LG02/\n",
      "using alphabet\n",
      "['0', '1', '2', '3', '4', '5', '6', '7', '8', '9', 'A', 'B', 'C', 'D', 'E', 'F', 'G', 'H', 'I', 'J', 'K', 'L', 'M', 'N', 'O', 'P', 'Q', 'R', 'S', 'T', 'U', 'V', 'W', 'X', 'Y', 'Z', '!', '\"', '#', '$', '%', '&', \"'\", '(', ')', '*', '+', ',', '/', ':', ';', '<', '=', '>', '@', '[', '\\\\', ']', '^', '_', '{', '|', '}', '~']\n"
     ]
    },
    {
     "name": "stderr",
     "output_type": "stream",
     "text": [
      "\n",
      "\u001b[A\n",
      "\u001b[A\n",
      "\u001b[A\n",
      "\u001b[A\n",
      "\u001b[A\n",
      "\u001b[A\n",
      "\u001b[A\n",
      "\u001b[A\n",
      "\u001b[A\n",
      "\u001b[A\n",
      "100%|█████████████████████████████████████████████████████████████████████████████████| 10/10 [00:05<00:00,  1.75it/s]\n",
      "10it [00:05,  1.75it/s]\n",
      " 20%|███████████████▊                                                                | 20/101 [01:56<05:52,  4.35s/it]"
     ]
    },
    {
     "name": "stdout",
     "output_type": "stream",
     "text": [
      "/home/dmoi/datasets/afdbclusters/structfams/A0A010ZQ01/\n",
      "using alphabet\n",
      "['0', '1', '2', '3', '4', '5', '6', '7', '8', '9', 'A', 'B', 'C', 'D', 'E', 'F', 'G', 'H', 'I', 'J', 'K', 'L', 'M', 'N', 'O', 'P', 'Q', 'R', 'S', 'T', 'U', 'V', 'W', 'X', 'Y', 'Z', '!', '\"', '#', '$', '%', '&', \"'\", '(', ')', '*', '+', ',', '/', ':', ';', '<', '=', '>', '@', '[', '\\\\', ']', '^', '_', '{', '|', '}', '~']\n"
     ]
    },
    {
     "name": "stderr",
     "output_type": "stream",
     "text": [
      "\n",
      "\u001b[A\n",
      "\u001b[A\n",
      "\u001b[A\n",
      "\u001b[A\n",
      "\u001b[A\n",
      "\u001b[A\n",
      "\u001b[A\n",
      "\u001b[A\n",
      "\u001b[A\n",
      "\u001b[A\n",
      "100%|█████████████████████████████████████████████████████████████████████████████████| 10/10 [00:02<00:00,  3.73it/s]\n",
      "10it [00:02,  3.72it/s]\n",
      " 21%|████████████████▋                                                               | 21/101 [01:59<05:08,  3.86s/it]"
     ]
    },
    {
     "name": "stdout",
     "output_type": "stream",
     "text": [
      "/home/dmoi/datasets/afdbclusters/structfams/A0A009LHJ9/\n",
      "using alphabet\n",
      "['0', '1', '2', '3', '4', '5', '6', '7', '8', '9', 'A', 'B', 'C', 'D', 'E', 'F', 'G', 'H', 'I', 'J', 'K', 'L', 'M', 'N', 'O', 'P', 'Q', 'R', 'S', 'T', 'U', 'V', 'W', 'X', 'Y', 'Z', '!', '\"', '#', '$', '%', '&', \"'\", '(', ')', '*', '+', ',', '/', ':', ';', '<', '=', '>', '@', '[', '\\\\', ']', '^', '_', '{', '|', '}', '~']\n"
     ]
    },
    {
     "name": "stderr",
     "output_type": "stream",
     "text": [
      "\n",
      "\u001b[A\n",
      "\u001b[A\n",
      "\u001b[A\n",
      "\u001b[A\n",
      "\u001b[A\n",
      "\u001b[A\n",
      "\u001b[A\n",
      "\u001b[A\n",
      "\u001b[A\n",
      "\u001b[A\n",
      "100%|█████████████████████████████████████████████████████████████████████████████████| 10/10 [00:02<00:00,  3.45it/s]\n",
      "10it [00:02,  3.45it/s]\n",
      " 22%|█████████████████▍                                                              | 22/101 [02:02<04:42,  3.57s/it]"
     ]
    },
    {
     "name": "stdout",
     "output_type": "stream",
     "text": [
      "/home/dmoi/datasets/afdbclusters/structfams/A0A010QTJ4/\n",
      "using alphabet\n",
      "['0', '1', '2', '3', '4', '5', '6', '7', '8', '9', 'A', 'B', 'C', 'D', 'E', 'F', 'G', 'H', 'I', 'J', 'K', 'L', 'M', 'N', 'O', 'P', 'Q', 'R', 'S', 'T', 'U', 'V', 'W', 'X', 'Y', 'Z', '!', '\"', '#', '$', '%', '&', \"'\", '(', ')', '*', '+', ',', '/', ':', ';', '<', '=', '>', '@', '[', '\\\\', ']', '^', '_', '{', '|', '}', '~']\n"
     ]
    },
    {
     "name": "stderr",
     "output_type": "stream",
     "text": [
      "\n",
      "\u001b[A\n",
      "\u001b[A\n",
      "\u001b[A\n",
      "\u001b[A\n",
      "\u001b[A\n",
      "\u001b[A\n",
      "\u001b[A\n",
      "\u001b[A\n",
      "\u001b[A\n",
      "\u001b[A\n",
      "100%|█████████████████████████████████████████████████████████████████████████████████| 10/10 [00:08<00:00,  1.15it/s]\n",
      "10it [00:08,  1.15it/s]\n",
      " 23%|██████████████████▏                                                             | 23/101 [02:10<06:39,  5.12s/it]"
     ]
    },
    {
     "name": "stdout",
     "output_type": "stream",
     "text": [
      "/home/dmoi/datasets/afdbclusters/structfams/A0A010Q4R4/\n",
      "using alphabet\n",
      "['0', '1', '2', '3', '4', '5', '6', '7', '8', '9', 'A', 'B', 'C', 'D', 'E', 'F', 'G', 'H', 'I', 'J', 'K', 'L', 'M', 'N', 'O', 'P', 'Q', 'R', 'S', 'T', 'U', 'V', 'W', 'X', 'Y', 'Z', '!', '\"', '#', '$', '%', '&', \"'\", '(', ')', '*', '+', ',', '/', ':', ';', '<', '=', '>', '@', '[', '\\\\', ']', '^', '_', '{', '|', '}', '~']\n"
     ]
    },
    {
     "name": "stderr",
     "output_type": "stream",
     "text": [
      "\n",
      "\u001b[A\n",
      "\u001b[A\n",
      "\u001b[A\n",
      "\u001b[A\n",
      "\u001b[A\n",
      "\u001b[A\n",
      "\u001b[A\n",
      "\u001b[A\n",
      "\u001b[A\n",
      "\u001b[A\n",
      "100%|█████████████████████████████████████████████████████████████████████████████████| 10/10 [00:08<00:00,  1.13it/s]\n",
      "10it [00:08,  1.13it/s]\n",
      " 24%|███████████████████                                                             | 24/101 [02:19<08:01,  6.25s/it]"
     ]
    },
    {
     "name": "stdout",
     "output_type": "stream",
     "text": [
      "/home/dmoi/datasets/afdbclusters/structfams/A0A009ZZM7/\n",
      "using alphabet\n",
      "['0', '1', '2', '3', '4', '5', '6', '7', '8', '9', 'A', 'B', 'C', 'D', 'E', 'F', 'G', 'H', 'I', 'J', 'K', 'L', 'M', 'N', 'O', 'P', 'Q', 'R', 'S', 'T', 'U', 'V', 'W', 'X', 'Y', 'Z', '!', '\"', '#', '$', '%', '&', \"'\", '(', ')', '*', '+', ',', '/', ':', ';', '<', '=', '>', '@', '[', '\\\\', ']', '^', '_', '{', '|', '}', '~']\n"
     ]
    },
    {
     "name": "stderr",
     "output_type": "stream",
     "text": [
      "\n",
      "\u001b[A\n",
      "\u001b[A\n",
      "\u001b[A\n",
      "\u001b[A\n",
      "\u001b[A\n",
      "\u001b[A\n",
      "\u001b[A\n",
      "\u001b[A\n",
      "\u001b[A\n",
      "\u001b[A\n",
      "100%|█████████████████████████████████████████████████████████████████████████████████| 10/10 [00:03<00:00,  2.77it/s]\n",
      "10it [00:03,  2.76it/s]\n",
      " 25%|███████████████████▊                                                            | 25/101 [02:23<06:55,  5.46s/it]"
     ]
    },
    {
     "name": "stdout",
     "output_type": "stream",
     "text": [
      "/home/dmoi/datasets/afdbclusters/structfams/A0A011MY18/\n",
      "using alphabet\n",
      "['0', '1', '2', '3', '4', '5', '6', '7', '8', '9', 'A', 'B', 'C', 'D', 'E', 'F', 'G', 'H', 'I', 'J', 'K', 'L', 'M', 'N', 'O', 'P', 'Q', 'R', 'S', 'T', 'U', 'V', 'W', 'X', 'Y', 'Z', '!', '\"', '#', '$', '%', '&', \"'\", '(', ')', '*', '+', ',', '/', ':', ';', '<', '=', '>', '@', '[', '\\\\', ']', '^', '_', '{', '|', '}', '~']\n"
     ]
    },
    {
     "name": "stderr",
     "output_type": "stream",
     "text": [
      "\n",
      "\u001b[A\n",
      "\u001b[A\n",
      "\u001b[A\n",
      "\u001b[A\n",
      "\u001b[A\n",
      "\u001b[A\n",
      "\u001b[A\n",
      "\u001b[A\n",
      "\u001b[A\n",
      "\u001b[A\n",
      "100%|█████████████████████████████████████████████████████████████████████████████████| 10/10 [00:01<00:00,  7.53it/s]\n",
      "10it [00:01,  7.51it/s]\n",
      " 26%|████████████████████▌                                                           | 26/101 [02:24<05:16,  4.23s/it]"
     ]
    },
    {
     "name": "stdout",
     "output_type": "stream",
     "text": [
      "/home/dmoi/datasets/afdbclusters/structfams/A0A010Q175/\n",
      "using alphabet\n",
      "['0', '1', '2', '3', '4', '5', '6', '7', '8', '9', 'A', 'B', 'C', 'D', 'E', 'F', 'G', 'H', 'I', 'J', 'K', 'L', 'M', 'N', 'O', 'P', 'Q', 'R', 'S', 'T', 'U', 'V', 'W', 'X', 'Y', 'Z', '!', '\"', '#', '$', '%', '&', \"'\", '(', ')', '*', '+', ',', '/', ':', ';', '<', '=', '>', '@', '[', '\\\\', ']', '^', '_', '{', '|', '}', '~']\n"
     ]
    },
    {
     "name": "stderr",
     "output_type": "stream",
     "text": [
      "\n",
      "\u001b[A\n",
      "\u001b[A\n",
      "\u001b[A\n",
      "\u001b[A\n",
      "\u001b[A\n",
      "\u001b[A\n",
      "\u001b[A\n",
      "\u001b[A\n",
      "\u001b[A\n",
      "\u001b[A\n",
      "100%|█████████████████████████████████████████████████████████████████████████████████| 10/10 [00:03<00:00,  3.24it/s]\n",
      "10it [00:03,  3.23it/s]\n",
      " 27%|█████████████████████▍                                                          | 27/101 [02:27<04:47,  3.89s/it]"
     ]
    },
    {
     "name": "stdout",
     "output_type": "stream",
     "text": [
      "/home/dmoi/datasets/afdbclusters/structfams/A0A010SDI4/\n",
      "using alphabet\n",
      "['0', '1', '2', '3', '4', '5', '6', '7', '8', '9', 'A', 'B', 'C', 'D', 'E', 'F', 'G', 'H', 'I', 'J', 'K', 'L', 'M', 'N', 'O', 'P', 'Q', 'R', 'S', 'T', 'U', 'V', 'W', 'X', 'Y', 'Z', '!', '\"', '#', '$', '%', '&', \"'\", '(', ')', '*', '+', ',', '/', ':', ';', '<', '=', '>', '@', '[', '\\\\', ']', '^', '_', '{', '|', '}', '~']\n"
     ]
    },
    {
     "name": "stderr",
     "output_type": "stream",
     "text": [
      "\n",
      "\u001b[A\n",
      "\u001b[A\n",
      "\u001b[A\n",
      "\u001b[A\n",
      "\u001b[A\n",
      "\u001b[A\n",
      "\u001b[A\n",
      "\u001b[A\n",
      "\u001b[A\n",
      "\u001b[A\n",
      "100%|█████████████████████████████████████████████████████████████████████████████████| 10/10 [00:04<00:00,  2.38it/s]\n",
      "10it [00:04,  2.38it/s]\n",
      " 28%|██████████████████████▏                                                         | 28/101 [02:32<04:51,  3.99s/it]"
     ]
    },
    {
     "name": "stdout",
     "output_type": "stream",
     "text": [
      "/home/dmoi/datasets/afdbclusters/structfams/A0A010Q0U6/\n",
      "using alphabet\n",
      "['0', '1', '2', '3', '4', '5', '6', '7', '8', '9', 'A', 'B', 'C', 'D', 'E', 'F', 'G', 'H', 'I', 'J', 'K', 'L', 'M', 'N', 'O', 'P', 'Q', 'R', 'S', 'T', 'U', 'V', 'W', 'X', 'Y', 'Z', '!', '\"', '#', '$', '%', '&', \"'\", '(', ')', '*', '+', ',', '/', ':', ';', '<', '=', '>', '@', '[', '\\\\', ']', '^', '_', '{', '|', '}', '~']\n"
     ]
    },
    {
     "name": "stderr",
     "output_type": "stream",
     "text": [
      "\n",
      "\u001b[A\n",
      "\u001b[A\n",
      "\u001b[A\n",
      "\u001b[A\n",
      "\u001b[A\n",
      "\u001b[A\n",
      "\u001b[A\n",
      "\u001b[A\n",
      "\u001b[A\n",
      "\u001b[A\n",
      "100%|█████████████████████████████████████████████████████████████████████████████████| 10/10 [00:05<00:00,  1.91it/s]\n",
      "10it [00:05,  1.91it/s]\n",
      " 29%|██████████████████████▉                                                         | 29/101 [02:37<05:14,  4.36s/it]"
     ]
    },
    {
     "name": "stdout",
     "output_type": "stream",
     "text": [
      "/home/dmoi/datasets/afdbclusters/structfams/A0A009JM56/\n",
      "using alphabet\n",
      "['0', '1', '2', '3', '4', '5', '6', '7', '8', '9', 'A', 'B', 'C', 'D', 'E', 'F', 'G', 'H', 'I', 'J', 'K', 'L', 'M', 'N', 'O', 'P', 'Q', 'R', 'S', 'T', 'U', 'V', 'W', 'X', 'Y', 'Z', '!', '\"', '#', '$', '%', '&', \"'\", '(', ')', '*', '+', ',', '/', ':', ';', '<', '=', '>', '@', '[', '\\\\', ']', '^', '_', '{', '|', '}', '~']\n"
     ]
    },
    {
     "name": "stderr",
     "output_type": "stream",
     "text": [
      "\n",
      "\u001b[A\n",
      "\u001b[A\n",
      "\u001b[A\n",
      "\u001b[A\n",
      "\u001b[A\n",
      "\u001b[A\n",
      "\u001b[A\n",
      "\u001b[A\n",
      "\u001b[A\n",
      "\u001b[A\n",
      "100%|█████████████████████████████████████████████████████████████████████████████████| 10/10 [00:03<00:00,  2.61it/s]\n",
      "10it [00:03,  2.61it/s]\n",
      " 30%|███████████████████████▊                                                        | 30/101 [02:41<04:58,  4.21s/it]"
     ]
    },
    {
     "name": "stdout",
     "output_type": "stream",
     "text": [
      "/home/dmoi/datasets/afdbclusters/structfams/A0A010RCJ1/\n",
      "using alphabet\n",
      "['0', '1', '2', '3', '4', '5', '6', '7', '8', '9', 'A', 'B', 'C', 'D', 'E', 'F', 'G', 'H', 'I', 'J', 'K', 'L', 'M', 'N', 'O', 'P', 'Q', 'R', 'S', 'T', 'U', 'V', 'W', 'X', 'Y', 'Z', '!', '\"', '#', '$', '%', '&', \"'\", '(', ')', '*', '+', ',', '/', ':', ';', '<', '=', '>', '@', '[', '\\\\', ']', '^', '_', '{', '|', '}', '~']\n"
     ]
    },
    {
     "name": "stderr",
     "output_type": "stream",
     "text": [
      "\n",
      "\u001b[A\n",
      "\u001b[A\n",
      "\u001b[A\n",
      "\u001b[A\n",
      "\u001b[A\n",
      "\u001b[A\n",
      "\u001b[A\n",
      "\u001b[A\n",
      "\u001b[A\n",
      "\u001b[A\n",
      "100%|█████████████████████████████████████████████████████████████████████████████████| 10/10 [00:06<00:00,  1.47it/s]\n",
      "10it [00:06,  1.47it/s]\n",
      " 31%|████████████████████████▌                                                       | 31/101 [02:47<05:48,  4.99s/it]"
     ]
    },
    {
     "name": "stdout",
     "output_type": "stream",
     "text": [
      "/home/dmoi/datasets/afdbclusters/structfams/A0A010ZM43/\n",
      "using alphabet\n",
      "['0', '1', '2', '3', '4', '5', '6', '7', '8', '9', 'A', 'B', 'C', 'D', 'E', 'F', 'G', 'H', 'I', 'J', 'K', 'L', 'M', 'N', 'O', 'P', 'Q', 'R', 'S', 'T', 'U', 'V', 'W', 'X', 'Y', 'Z', '!', '\"', '#', '$', '%', '&', \"'\", '(', ')', '*', '+', ',', '/', ':', ';', '<', '=', '>', '@', '[', '\\\\', ']', '^', '_', '{', '|', '}', '~']\n"
     ]
    },
    {
     "name": "stderr",
     "output_type": "stream",
     "text": [
      "\n",
      "\u001b[A\n",
      "\u001b[A\n",
      "\u001b[A\n",
      "\u001b[A\n",
      "\u001b[A\n",
      "\u001b[A\n",
      "\u001b[A\n",
      "\u001b[A\n",
      "\u001b[A\n",
      "\u001b[A\n",
      "100%|█████████████████████████████████████████████████████████████████████████████████| 10/10 [00:04<00:00,  2.27it/s]\n",
      "10it [00:04,  2.27it/s]\n",
      " 32%|█████████████████████████▎                                                      | 32/101 [02:52<05:32,  4.81s/it]"
     ]
    },
    {
     "name": "stdout",
     "output_type": "stream",
     "text": [
      "/home/dmoi/datasets/afdbclusters/structfams/A0A010R9P6/\n",
      "using alphabet\n",
      "['0', '1', '2', '3', '4', '5', '6', '7', '8', '9', 'A', 'B', 'C', 'D', 'E', 'F', 'G', 'H', 'I', 'J', 'K', 'L', 'M', 'N', 'O', 'P', 'Q', 'R', 'S', 'T', 'U', 'V', 'W', 'X', 'Y', 'Z', '!', '\"', '#', '$', '%', '&', \"'\", '(', ')', '*', '+', ',', '/', ':', ';', '<', '=', '>', '@', '[', '\\\\', ']', '^', '_', '{', '|', '}', '~']\n"
     ]
    },
    {
     "name": "stderr",
     "output_type": "stream",
     "text": [
      "\n",
      "\u001b[A\n",
      "\u001b[A\n",
      "\u001b[A\n",
      "\u001b[A\n",
      "\u001b[A\n",
      "\u001b[A\n",
      "\u001b[A\n",
      "\u001b[A\n",
      "\u001b[A\n",
      "\u001b[A\n",
      "100%|█████████████████████████████████████████████████████████████████████████████████| 10/10 [00:03<00:00,  3.14it/s]\n",
      "10it [00:03,  3.13it/s]\n",
      " 33%|██████████████████████████▏                                                     | 33/101 [02:55<04:54,  4.33s/it]"
     ]
    },
    {
     "name": "stdout",
     "output_type": "stream",
     "text": [
      "/home/dmoi/datasets/afdbclusters/structfams/A0A010R299/\n",
      "using alphabet\n",
      "['0', '1', '2', '3', '4', '5', '6', '7', '8', '9', 'A', 'B', 'C', 'D', 'E', 'F', 'G', 'H', 'I', 'J', 'K', 'L', 'M', 'N', 'O', 'P', 'Q', 'R', 'S', 'T', 'U', 'V', 'W', 'X', 'Y', 'Z', '!', '\"', '#', '$', '%', '&', \"'\", '(', ')', '*', '+', ',', '/', ':', ';', '<', '=', '>', '@', '[', '\\\\', ']', '^', '_', '{', '|', '}', '~']\n"
     ]
    },
    {
     "name": "stderr",
     "output_type": "stream",
     "text": [
      "\n",
      "\u001b[A\n",
      "\u001b[A\n",
      "\u001b[A\n",
      "\u001b[A\n",
      "\u001b[A\n",
      "\u001b[A\n",
      "\u001b[A\n",
      "\u001b[A\n",
      "\u001b[A\n",
      "\u001b[A\n",
      "100%|█████████████████████████████████████████████████████████████████████████████████| 10/10 [00:03<00:00,  2.94it/s]\n",
      "10it [00:03,  2.93it/s]\n",
      " 34%|██████████████████████████▉                                                     | 34/101 [02:59<04:31,  4.06s/it]"
     ]
    },
    {
     "name": "stdout",
     "output_type": "stream",
     "text": [
      "/home/dmoi/datasets/afdbclusters/structfams/A0A010S131/\n",
      "using alphabet\n",
      "['0', '1', '2', '3', '4', '5', '6', '7', '8', '9', 'A', 'B', 'C', 'D', 'E', 'F', 'G', 'H', 'I', 'J', 'K', 'L', 'M', 'N', 'O', 'P', 'Q', 'R', 'S', 'T', 'U', 'V', 'W', 'X', 'Y', 'Z', '!', '\"', '#', '$', '%', '&', \"'\", '(', ')', '*', '+', ',', '/', ':', ';', '<', '=', '>', '@', '[', '\\\\', ']', '^', '_', '{', '|', '}', '~']\n"
     ]
    },
    {
     "name": "stderr",
     "output_type": "stream",
     "text": [
      "\n",
      "\u001b[A\n",
      "\u001b[A\n",
      "\u001b[A\n",
      "\u001b[A\n",
      "\u001b[A\n",
      "\u001b[A\n",
      "\u001b[A\n",
      "\u001b[A\n",
      "\u001b[A\n",
      "\u001b[A\n",
      "100%|█████████████████████████████████████████████████████████████████████████████████| 10/10 [00:28<00:00,  2.87s/it]\n",
      "10it [00:28,  2.87s/it]\n",
      " 35%|███████████████████████████▋                                                    | 35/101 [03:27<12:35, 11.45s/it]"
     ]
    },
    {
     "name": "stdout",
     "output_type": "stream",
     "text": [
      "/home/dmoi/datasets/afdbclusters/structfams/A0A009K3J7/\n",
      "using alphabet\n",
      "['0', '1', '2', '3', '4', '5', '6', '7', '8', '9', 'A', 'B', 'C', 'D', 'E', 'F', 'G', 'H', 'I', 'J', 'K', 'L', 'M', 'N', 'O', 'P', 'Q', 'R', 'S', 'T', 'U', 'V', 'W', 'X', 'Y', 'Z', '!', '\"', '#', '$', '%', '&', \"'\", '(', ')', '*', '+', ',', '/', ':', ';', '<', '=', '>', '@', '[', '\\\\', ']', '^', '_', '{', '|', '}', '~']\n"
     ]
    },
    {
     "name": "stderr",
     "output_type": "stream",
     "text": [
      "\n",
      "\u001b[A\n",
      "\u001b[A\n",
      "\u001b[A\n",
      "\u001b[A\n",
      "\u001b[A\n",
      "\u001b[A\n",
      "\u001b[A\n",
      "\u001b[A\n",
      "\u001b[A\n",
      "\u001b[A\n",
      "100%|█████████████████████████████████████████████████████████████████████████████████| 10/10 [00:02<00:00,  3.38it/s]\n",
      "10it [00:02,  3.37it/s]\n",
      " 36%|████████████████████████████▌                                                   | 36/101 [03:30<09:39,  8.91s/it]"
     ]
    },
    {
     "name": "stdout",
     "output_type": "stream",
     "text": [
      "/home/dmoi/datasets/afdbclusters/structfams/A0A009PU45/\n",
      "using alphabet\n",
      "['0', '1', '2', '3', '4', '5', '6', '7', '8', '9', 'A', 'B', 'C', 'D', 'E', 'F', 'G', 'H', 'I', 'J', 'K', 'L', 'M', 'N', 'O', 'P', 'Q', 'R', 'S', 'T', 'U', 'V', 'W', 'X', 'Y', 'Z', '!', '\"', '#', '$', '%', '&', \"'\", '(', ')', '*', '+', ',', '/', ':', ';', '<', '=', '>', '@', '[', '\\\\', ']', '^', '_', '{', '|', '}', '~']\n"
     ]
    },
    {
     "name": "stderr",
     "output_type": "stream",
     "text": [
      "\n",
      "\u001b[A\n",
      "\u001b[A\n",
      "\u001b[A\n",
      "\u001b[A\n",
      "\u001b[A\n",
      "\u001b[A\n",
      "\u001b[A\n",
      "\u001b[A\n",
      "\u001b[A\n",
      "\u001b[A\n",
      "100%|█████████████████████████████████████████████████████████████████████████████████| 10/10 [00:02<00:00,  4.09it/s]\n",
      "10it [00:02,  4.09it/s]\n",
      " 37%|█████████████████████████████▎                                                  | 37/101 [03:33<07:26,  6.97s/it]"
     ]
    },
    {
     "name": "stdout",
     "output_type": "stream",
     "text": [
      "/home/dmoi/datasets/afdbclusters/structfams/A0A010Q311/\n",
      "using alphabet\n",
      "['0', '1', '2', '3', '4', '5', '6', '7', '8', '9', 'A', 'B', 'C', 'D', 'E', 'F', 'G', 'H', 'I', 'J', 'K', 'L', 'M', 'N', 'O', 'P', 'Q', 'R', 'S', 'T', 'U', 'V', 'W', 'X', 'Y', 'Z', '!', '\"', '#', '$', '%', '&', \"'\", '(', ')', '*', '+', ',', '/', ':', ';', '<', '=', '>', '@', '[', '\\\\', ']', '^', '_', '{', '|', '}', '~']\n"
     ]
    },
    {
     "name": "stderr",
     "output_type": "stream",
     "text": [
      "\n",
      "\u001b[A\n",
      "\u001b[A\n",
      "\u001b[A\n",
      "\u001b[A\n",
      "\u001b[A\n",
      "\u001b[A\n",
      "\u001b[A\n",
      "\u001b[A\n",
      "\u001b[A\n",
      "\u001b[A\n",
      "100%|█████████████████████████████████████████████████████████████████████████████████| 10/10 [00:08<00:00,  1.24it/s]\n",
      "10it [00:08,  1.23it/s]\n",
      " 38%|██████████████████████████████                                                  | 38/101 [03:41<07:40,  7.31s/it]"
     ]
    },
    {
     "name": "stdout",
     "output_type": "stream",
     "text": [
      "/home/dmoi/datasets/afdbclusters/structfams/A0A009EYT8/\n",
      "using alphabet\n",
      "['0', '1', '2', '3', '4', '5', '6', '7', '8', '9', 'A', 'B', 'C', 'D', 'E', 'F', 'G', 'H', 'I', 'J', 'K', 'L', 'M', 'N', 'O', 'P', 'Q', 'R', 'S', 'T', 'U', 'V', 'W', 'X', 'Y', 'Z', '!', '\"', '#', '$', '%', '&', \"'\", '(', ')', '*', '+', ',', '/', ':', ';', '<', '=', '>', '@', '[', '\\\\', ']', '^', '_', '{', '|', '}', '~']\n"
     ]
    },
    {
     "name": "stderr",
     "output_type": "stream",
     "text": [
      "\n",
      "\u001b[A\n",
      "\u001b[A\n",
      "\u001b[A\n",
      "\u001b[A\n",
      "\u001b[A\n",
      "\u001b[A\n",
      "\u001b[A\n",
      "\u001b[A\n",
      "\u001b[A\n",
      "\u001b[A\n",
      "100%|█████████████████████████████████████████████████████████████████████████████████| 10/10 [00:05<00:00,  1.92it/s]\n",
      "10it [00:05,  1.92it/s]\n",
      " 39%|██████████████████████████████▉                                                 | 39/101 [03:46<06:54,  6.69s/it]"
     ]
    },
    {
     "name": "stdout",
     "output_type": "stream",
     "text": [
      "/home/dmoi/datasets/afdbclusters/structfams/A0A010SSY2/\n",
      "using alphabet\n",
      "['0', '1', '2', '3', '4', '5', '6', '7', '8', '9', 'A', 'B', 'C', 'D', 'E', 'F', 'G', 'H', 'I', 'J', 'K', 'L', 'M', 'N', 'O', 'P', 'Q', 'R', 'S', 'T', 'U', 'V', 'W', 'X', 'Y', 'Z', '!', '\"', '#', '$', '%', '&', \"'\", '(', ')', '*', '+', ',', '/', ':', ';', '<', '=', '>', '@', '[', '\\\\', ']', '^', '_', '{', '|', '}', '~']\n"
     ]
    },
    {
     "name": "stderr",
     "output_type": "stream",
     "text": [
      "\n",
      "\u001b[A\n",
      "\u001b[A\n",
      "\u001b[A\n",
      "\u001b[A\n",
      "\u001b[A\n",
      "\u001b[A\n",
      "\u001b[A\n",
      "\u001b[A\n",
      "\u001b[A\n",
      "\u001b[A\n",
      "100%|█████████████████████████████████████████████████████████████████████████████████| 10/10 [00:04<00:00,  2.41it/s]\n",
      "10it [00:04,  2.40it/s]\n",
      " 40%|███████████████████████████████▋                                                | 40/101 [03:50<06:01,  5.93s/it]"
     ]
    },
    {
     "name": "stdout",
     "output_type": "stream",
     "text": [
      "/home/dmoi/datasets/afdbclusters/structfams/A0A010R5R1/\n",
      "using alphabet\n",
      "['0', '1', '2', '3', '4', '5', '6', '7', '8', '9', 'A', 'B', 'C', 'D', 'E', 'F', 'G', 'H', 'I', 'J', 'K', 'L', 'M', 'N', 'O', 'P', 'Q', 'R', 'S', 'T', 'U', 'V', 'W', 'X', 'Y', 'Z', '!', '\"', '#', '$', '%', '&', \"'\", '(', ')', '*', '+', ',', '/', ':', ';', '<', '=', '>', '@', '[', '\\\\', ']', '^', '_', '{', '|', '}', '~']\n"
     ]
    },
    {
     "name": "stderr",
     "output_type": "stream",
     "text": [
      "\n",
      "\u001b[A\n",
      "\u001b[A\n",
      "\u001b[A\n",
      "\u001b[A\n",
      "\u001b[A\n",
      "\u001b[A\n",
      "\u001b[A\n",
      "\u001b[A\n",
      "\u001b[A\n",
      "\u001b[A\n",
      "100%|█████████████████████████████████████████████████████████████████████████████████| 10/10 [00:09<00:00,  1.06it/s]\n",
      "10it [00:09,  1.06it/s]\n",
      " 41%|████████████████████████████████▍                                               | 41/101 [04:00<06:59,  6.99s/it]"
     ]
    },
    {
     "name": "stdout",
     "output_type": "stream",
     "text": [
      "/home/dmoi/datasets/afdbclusters/structfams/A0A011NB92/\n",
      "using alphabet\n",
      "['0', '1', '2', '3', '4', '5', '6', '7', '8', '9', 'A', 'B', 'C', 'D', 'E', 'F', 'G', 'H', 'I', 'J', 'K', 'L', 'M', 'N', 'O', 'P', 'Q', 'R', 'S', 'T', 'U', 'V', 'W', 'X', 'Y', 'Z', '!', '\"', '#', '$', '%', '&', \"'\", '(', ')', '*', '+', ',', '/', ':', ';', '<', '=', '>', '@', '[', '\\\\', ']', '^', '_', '{', '|', '}', '~']\n"
     ]
    },
    {
     "name": "stderr",
     "output_type": "stream",
     "text": [
      "\n",
      "\u001b[A\n",
      "\u001b[A\n",
      "\u001b[A\n",
      "\u001b[A\n",
      "\u001b[A\n",
      "\u001b[A\n",
      "\u001b[A\n",
      "\u001b[A\n",
      "\u001b[A\n",
      "\u001b[A\n",
      "100%|█████████████████████████████████████████████████████████████████████████████████| 10/10 [00:01<00:00,  5.18it/s]\n",
      "10it [00:01,  5.17it/s]\n",
      " 42%|█████████████████████████████████▎                                              | 42/101 [04:02<05:22,  5.47s/it]"
     ]
    },
    {
     "name": "stdout",
     "output_type": "stream",
     "text": [
      "/home/dmoi/datasets/afdbclusters/structfams/A0A011M2B8/\n",
      "using alphabet\n",
      "['0', '1', '2', '3', '4', '5', '6', '7', '8', '9', 'A', 'B', 'C', 'D', 'E', 'F', 'G', 'H', 'I', 'J', 'K', 'L', 'M', 'N', 'O', 'P', 'Q', 'R', 'S', 'T', 'U', 'V', 'W', 'X', 'Y', 'Z', '!', '\"', '#', '$', '%', '&', \"'\", '(', ')', '*', '+', ',', '/', ':', ';', '<', '=', '>', '@', '[', '\\\\', ']', '^', '_', '{', '|', '}', '~']\n"
     ]
    },
    {
     "name": "stderr",
     "output_type": "stream",
     "text": [
      "\n",
      "\u001b[A\n",
      "\u001b[A\n",
      "\u001b[A\n",
      "\u001b[A\n",
      "\u001b[A\n",
      "\u001b[A\n",
      "\u001b[A\n",
      "\u001b[A\n",
      "\u001b[A\n",
      "\u001b[A\n",
      "100%|█████████████████████████████████████████████████████████████████████████████████| 10/10 [00:01<00:00,  5.11it/s]\n",
      "10it [00:01,  5.09it/s]\n",
      " 43%|██████████████████████████████████                                              | 43/101 [04:04<04:16,  4.42s/it]"
     ]
    },
    {
     "name": "stdout",
     "output_type": "stream",
     "text": [
      "/home/dmoi/datasets/afdbclusters/structfams/A0A010JSD3/\n",
      "using alphabet\n",
      "['0', '1', '2', '3', '4', '5', '6', '7', '8', '9', 'A', 'B', 'C', 'D', 'E', 'F', 'G', 'H', 'I', 'J', 'K', 'L', 'M', 'N', 'O', 'P', 'Q', 'R', 'S', 'T', 'U', 'V', 'W', 'X', 'Y', 'Z', '!', '\"', '#', '$', '%', '&', \"'\", '(', ')', '*', '+', ',', '/', ':', ';', '<', '=', '>', '@', '[', '\\\\', ']', '^', '_', '{', '|', '}', '~']\n"
     ]
    },
    {
     "name": "stderr",
     "output_type": "stream",
     "text": [
      "\n",
      "\u001b[A\n",
      "\u001b[A\n",
      "\u001b[A\n",
      "\u001b[A\n",
      "\u001b[A\n",
      "\u001b[A\n",
      "\u001b[A\n",
      "\u001b[A\n",
      "\u001b[A\n",
      "\u001b[A\n",
      "100%|█████████████████████████████████████████████████████████████████████████████████| 10/10 [00:04<00:00,  2.17it/s]\n",
      "10it [00:04,  2.17it/s]\n",
      " 44%|██████████████████████████████████▊                                             | 44/101 [04:08<04:15,  4.48s/it]"
     ]
    },
    {
     "name": "stdout",
     "output_type": "stream",
     "text": [
      "/home/dmoi/datasets/afdbclusters/structfams/A0A010RFJ8/\n",
      "using alphabet\n",
      "['0', '1', '2', '3', '4', '5', '6', '7', '8', '9', 'A', 'B', 'C', 'D', 'E', 'F', 'G', 'H', 'I', 'J', 'K', 'L', 'M', 'N', 'O', 'P', 'Q', 'R', 'S', 'T', 'U', 'V', 'W', 'X', 'Y', 'Z', '!', '\"', '#', '$', '%', '&', \"'\", '(', ')', '*', '+', ',', '/', ':', ';', '<', '=', '>', '@', '[', '\\\\', ']', '^', '_', '{', '|', '}', '~']\n"
     ]
    },
    {
     "name": "stderr",
     "output_type": "stream",
     "text": [
      "\n",
      "\u001b[A\n",
      "\u001b[A\n",
      "\u001b[A\n",
      "\u001b[A\n",
      "\u001b[A\n",
      "\u001b[A\n",
      "\u001b[A\n",
      "\u001b[A\n",
      "\u001b[A\n",
      "\u001b[A\n",
      "100%|█████████████████████████████████████████████████████████████████████████████████| 10/10 [00:02<00:00,  4.17it/s]\n",
      "10it [00:02,  4.16it/s]\n",
      " 45%|███████████████████████████████████▋                                            | 45/101 [04:11<03:36,  3.86s/it]"
     ]
    },
    {
     "name": "stdout",
     "output_type": "stream",
     "text": [
      "/home/dmoi/datasets/afdbclusters/structfams/A0A010YDU6/\n",
      "using alphabet\n",
      "['0', '1', '2', '3', '4', '5', '6', '7', '8', '9', 'A', 'B', 'C', 'D', 'E', 'F', 'G', 'H', 'I', 'J', 'K', 'L', 'M', 'N', 'O', 'P', 'Q', 'R', 'S', 'T', 'U', 'V', 'W', 'X', 'Y', 'Z', '!', '\"', '#', '$', '%', '&', \"'\", '(', ')', '*', '+', ',', '/', ':', ';', '<', '=', '>', '@', '[', '\\\\', ']', '^', '_', '{', '|', '}', '~']\n"
     ]
    },
    {
     "name": "stderr",
     "output_type": "stream",
     "text": [
      "\n",
      "\u001b[A\n",
      "\u001b[A\n",
      "\u001b[A\n",
      "\u001b[A\n",
      "\u001b[A\n",
      "\u001b[A\n",
      "\u001b[A\n",
      "\u001b[A\n",
      "\u001b[A\n",
      "\u001b[A\n",
      "100%|█████████████████████████████████████████████████████████████████████████████████| 10/10 [00:04<00:00,  2.19it/s]\n",
      "10it [00:04,  2.19it/s]\n",
      " 46%|████████████████████████████████████▍                                           | 46/101 [04:15<03:44,  4.08s/it]"
     ]
    },
    {
     "name": "stdout",
     "output_type": "stream",
     "text": [
      "/home/dmoi/datasets/afdbclusters/structfams/A0A010TBK8/\n",
      "using alphabet\n",
      "['0', '1', '2', '3', '4', '5', '6', '7', '8', '9', 'A', 'B', 'C', 'D', 'E', 'F', 'G', 'H', 'I', 'J', 'K', 'L', 'M', 'N', 'O', 'P', 'Q', 'R', 'S', 'T', 'U', 'V', 'W', 'X', 'Y', 'Z', '!', '\"', '#', '$', '%', '&', \"'\", '(', ')', '*', '+', ',', '/', ':', ';', '<', '=', '>', '@', '[', '\\\\', ']', '^', '_', '{', '|', '}', '~']\n"
     ]
    },
    {
     "name": "stderr",
     "output_type": "stream",
     "text": [
      "\n",
      "\u001b[A\n",
      "\u001b[A\n",
      "\u001b[A\n",
      "\u001b[A\n",
      "\u001b[A\n",
      "\u001b[A\n",
      "\u001b[A\n",
      "\u001b[A\n",
      "\u001b[A\n",
      "\u001b[A\n",
      "100%|█████████████████████████████████████████████████████████████████████████████████| 10/10 [00:03<00:00,  2.57it/s]\n",
      "10it [00:03,  2.57it/s]\n",
      " 47%|█████████████████████████████████████▏                                          | 47/101 [04:19<03:37,  4.03s/it]"
     ]
    },
    {
     "name": "stdout",
     "output_type": "stream",
     "text": [
      "/home/dmoi/datasets/afdbclusters/structfams/A0A011MIK5/\n",
      "using alphabet\n",
      "['0', '1', '2', '3', '4', '5', '6', '7', '8', '9', 'A', 'B', 'C', 'D', 'E', 'F', 'G', 'H', 'I', 'J', 'K', 'L', 'M', 'N', 'O', 'P', 'Q', 'R', 'S', 'T', 'U', 'V', 'W', 'X', 'Y', 'Z', '!', '\"', '#', '$', '%', '&', \"'\", '(', ')', '*', '+', ',', '/', ':', ';', '<', '=', '>', '@', '[', '\\\\', ']', '^', '_', '{', '|', '}', '~']\n"
     ]
    },
    {
     "name": "stderr",
     "output_type": "stream",
     "text": [
      "\n",
      "\u001b[A\n",
      "\u001b[A\n",
      "\u001b[A\n",
      "\u001b[A\n",
      "\u001b[A\n",
      "\u001b[A\n",
      "\u001b[A\n",
      "\u001b[A\n",
      "\u001b[A\n",
      "\u001b[A\n",
      "100%|█████████████████████████████████████████████████████████████████████████████████| 10/10 [00:02<00:00,  3.63it/s]\n",
      "10it [00:02,  3.63it/s]\n",
      " 48%|██████████████████████████████████████                                          | 48/101 [04:22<03:13,  3.65s/it]"
     ]
    },
    {
     "name": "stdout",
     "output_type": "stream",
     "text": [
      "/home/dmoi/datasets/afdbclusters/structfams/A0A011NVJ3/\n",
      "using alphabet\n",
      "['0', '1', '2', '3', '4', '5', '6', '7', '8', '9', 'A', 'B', 'C', 'D', 'E', 'F', 'G', 'H', 'I', 'J', 'K', 'L', 'M', 'N', 'O', 'P', 'Q', 'R', 'S', 'T', 'U', 'V', 'W', 'X', 'Y', 'Z', '!', '\"', '#', '$', '%', '&', \"'\", '(', ')', '*', '+', ',', '/', ':', ';', '<', '=', '>', '@', '[', '\\\\', ']', '^', '_', '{', '|', '}', '~']\n"
     ]
    },
    {
     "name": "stderr",
     "output_type": "stream",
     "text": [
      "\n",
      "\u001b[A\n",
      "\u001b[A\n",
      "\u001b[A\n",
      "\u001b[A\n",
      "\u001b[A\n",
      "\u001b[A\n",
      "\u001b[A\n",
      "\u001b[A\n",
      "\u001b[A\n",
      "\u001b[A\n",
      "100%|█████████████████████████████████████████████████████████████████████████████████| 10/10 [00:06<00:00,  1.54it/s]\n",
      "10it [00:06,  1.54it/s]\n",
      " 49%|██████████████████████████████████████▊                                         | 49/101 [04:28<03:54,  4.50s/it]"
     ]
    },
    {
     "name": "stdout",
     "output_type": "stream",
     "text": [
      "/home/dmoi/datasets/afdbclusters/structfams/A0A011MH15/\n",
      "using alphabet\n",
      "['0', '1', '2', '3', '4', '5', '6', '7', '8', '9', 'A', 'B', 'C', 'D', 'E', 'F', 'G', 'H', 'I', 'J', 'K', 'L', 'M', 'N', 'O', 'P', 'Q', 'R', 'S', 'T', 'U', 'V', 'W', 'X', 'Y', 'Z', '!', '\"', '#', '$', '%', '&', \"'\", '(', ')', '*', '+', ',', '/', ':', ';', '<', '=', '>', '@', '[', '\\\\', ']', '^', '_', '{', '|', '}', '~']\n"
     ]
    },
    {
     "name": "stderr",
     "output_type": "stream",
     "text": [
      "\n",
      "\u001b[A\n",
      "\u001b[A\n",
      "\u001b[A\n",
      "\u001b[A\n",
      "\u001b[A\n",
      "\u001b[A\n",
      "\u001b[A\n",
      "\u001b[A\n",
      "\u001b[A\n",
      "\u001b[A\n",
      "100%|█████████████████████████████████████████████████████████████████████████████████| 10/10 [00:02<00:00,  3.86it/s]\n",
      "10it [00:02,  3.85it/s]\n",
      " 50%|███████████████████████████████████████▌                                        | 50/101 [04:31<03:20,  3.93s/it]"
     ]
    },
    {
     "name": "stdout",
     "output_type": "stream",
     "text": [
      "/home/dmoi/datasets/afdbclusters/structfams/A0A011P9P5/\n",
      "using alphabet\n",
      "['0', '1', '2', '3', '4', '5', '6', '7', '8', '9', 'A', 'B', 'C', 'D', 'E', 'F', 'G', 'H', 'I', 'J', 'K', 'L', 'M', 'N', 'O', 'P', 'Q', 'R', 'S', 'T', 'U', 'V', 'W', 'X', 'Y', 'Z', '!', '\"', '#', '$', '%', '&', \"'\", '(', ')', '*', '+', ',', '/', ':', ';', '<', '=', '>', '@', '[', '\\\\', ']', '^', '_', '{', '|', '}', '~']\n"
     ]
    },
    {
     "name": "stderr",
     "output_type": "stream",
     "text": [
      "\n",
      "\u001b[A\n",
      "\u001b[A\n",
      "\u001b[A\n",
      "\u001b[A\n",
      "\u001b[A\n",
      "\u001b[A\n",
      "\u001b[A\n",
      "\u001b[A\n",
      "\u001b[A\n",
      "\u001b[A\n",
      "100%|█████████████████████████████████████████████████████████████████████████████████| 10/10 [00:14<00:00,  1.49s/it]\n",
      "10it [00:14,  1.49s/it]\n",
      " 50%|████████████████████████████████████████▍                                       | 51/101 [04:46<06:01,  7.22s/it]"
     ]
    },
    {
     "name": "stdout",
     "output_type": "stream",
     "text": [
      "/home/dmoi/datasets/afdbclusters/structfams/A0A010RZH3/\n",
      "using alphabet\n",
      "['0', '1', '2', '3', '4', '5', '6', '7', '8', '9', 'A', 'B', 'C', 'D', 'E', 'F', 'G', 'H', 'I', 'J', 'K', 'L', 'M', 'N', 'O', 'P', 'Q', 'R', 'S', 'T', 'U', 'V', 'W', 'X', 'Y', 'Z', '!', '\"', '#', '$', '%', '&', \"'\", '(', ')', '*', '+', ',', '/', ':', ';', '<', '=', '>', '@', '[', '\\\\', ']', '^', '_', '{', '|', '}', '~']\n"
     ]
    },
    {
     "name": "stderr",
     "output_type": "stream",
     "text": [
      "\n",
      "\u001b[A\n",
      "\u001b[A\n",
      "\u001b[A\n",
      "\u001b[A\n",
      "\u001b[A\n",
      "\u001b[A\n",
      "\u001b[A\n",
      "\u001b[A\n",
      "\u001b[A\n",
      "\u001b[A\n",
      "100%|█████████████████████████████████████████████████████████████████████████████████| 10/10 [00:07<00:00,  1.29it/s]\n",
      "10it [00:07,  1.29it/s]\n",
      " 51%|█████████████████████████████████████████▏                                      | 52/101 [04:54<06:01,  7.38s/it]"
     ]
    },
    {
     "name": "stdout",
     "output_type": "stream",
     "text": [
      "/home/dmoi/datasets/afdbclusters/structfams/A0A010PZP1/\n",
      "using alphabet\n",
      "['0', '1', '2', '3', '4', '5', '6', '7', '8', '9', 'A', 'B', 'C', 'D', 'E', 'F', 'G', 'H', 'I', 'J', 'K', 'L', 'M', 'N', 'O', 'P', 'Q', 'R', 'S', 'T', 'U', 'V', 'W', 'X', 'Y', 'Z', '!', '\"', '#', '$', '%', '&', \"'\", '(', ')', '*', '+', ',', '/', ':', ';', '<', '=', '>', '@', '[', '\\\\', ']', '^', '_', '{', '|', '}', '~']\n"
     ]
    },
    {
     "name": "stderr",
     "output_type": "stream",
     "text": [
      "\n",
      "\u001b[A\n",
      "\u001b[A\n",
      "\u001b[A\n",
      "\u001b[A\n",
      "\u001b[A\n",
      "\u001b[A\n",
      "\u001b[A\n",
      "\u001b[A\n",
      "\u001b[A\n",
      "\u001b[A\n",
      "100%|█████████████████████████████████████████████████████████████████████████████████| 10/10 [00:04<00:00,  2.43it/s]\n",
      "10it [00:04,  2.42it/s]\n",
      " 52%|█████████████████████████████████████████▉                                      | 53/101 [04:58<05:07,  6.40s/it]"
     ]
    },
    {
     "name": "stdout",
     "output_type": "stream",
     "text": [
      "/home/dmoi/datasets/afdbclusters/structfams/A0A010PTL2/\n",
      "using alphabet\n",
      "['0', '1', '2', '3', '4', '5', '6', '7', '8', '9', 'A', 'B', 'C', 'D', 'E', 'F', 'G', 'H', 'I', 'J', 'K', 'L', 'M', 'N', 'O', 'P', 'Q', 'R', 'S', 'T', 'U', 'V', 'W', 'X', 'Y', 'Z', '!', '\"', '#', '$', '%', '&', \"'\", '(', ')', '*', '+', ',', '/', ':', ';', '<', '=', '>', '@', '[', '\\\\', ']', '^', '_', '{', '|', '}', '~']\n"
     ]
    },
    {
     "name": "stderr",
     "output_type": "stream",
     "text": [
      "\n",
      "\u001b[A\n",
      "\u001b[A\n",
      "\u001b[A\n",
      "\u001b[A\n",
      "\u001b[A\n",
      "\u001b[A\n",
      "\u001b[A\n",
      "\u001b[A\n",
      "\u001b[A\n",
      "\u001b[A\n",
      "100%|█████████████████████████████████████████████████████████████████████████████████| 10/10 [00:02<00:00,  3.79it/s]\n",
      "10it [00:02,  3.78it/s]\n",
      " 53%|██████████████████████████████████████████▊                                     | 54/101 [05:00<04:08,  5.28s/it]"
     ]
    },
    {
     "name": "stdout",
     "output_type": "stream",
     "text": [
      "/home/dmoi/datasets/afdbclusters/structfams/A0A011NHP0/\n",
      "using alphabet\n",
      "['0', '1', '2', '3', '4', '5', '6', '7', '8', '9', 'A', 'B', 'C', 'D', 'E', 'F', 'G', 'H', 'I', 'J', 'K', 'L', 'M', 'N', 'O', 'P', 'Q', 'R', 'S', 'T', 'U', 'V', 'W', 'X', 'Y', 'Z', '!', '\"', '#', '$', '%', '&', \"'\", '(', ')', '*', '+', ',', '/', ':', ';', '<', '=', '>', '@', '[', '\\\\', ']', '^', '_', '{', '|', '}', '~']\n"
     ]
    },
    {
     "name": "stderr",
     "output_type": "stream",
     "text": [
      "\n",
      "\u001b[A\n",
      "\u001b[A\n",
      "\u001b[A\n",
      "\u001b[A\n",
      "\u001b[A\n",
      "\u001b[A\n",
      "\u001b[A\n",
      "\u001b[A\n",
      "\u001b[A\n",
      "\u001b[A\n",
      "100%|█████████████████████████████████████████████████████████████████████████████████| 10/10 [00:03<00:00,  2.67it/s]\n",
      "10it [00:03,  2.66it/s]\n",
      " 54%|███████████████████████████████████████████▌                                    | 55/101 [05:04<03:41,  4.83s/it]"
     ]
    },
    {
     "name": "stdout",
     "output_type": "stream",
     "text": [
      "/home/dmoi/datasets/afdbclusters/structfams/A0A011NP66/\n",
      "using alphabet\n",
      "['0', '1', '2', '3', '4', '5', '6', '7', '8', '9', 'A', 'B', 'C', 'D', 'E', 'F', 'G', 'H', 'I', 'J', 'K', 'L', 'M', 'N', 'O', 'P', 'Q', 'R', 'S', 'T', 'U', 'V', 'W', 'X', 'Y', 'Z', '!', '\"', '#', '$', '%', '&', \"'\", '(', ')', '*', '+', ',', '/', ':', ';', '<', '=', '>', '@', '[', '\\\\', ']', '^', '_', '{', '|', '}', '~']\n"
     ]
    },
    {
     "name": "stderr",
     "output_type": "stream",
     "text": [
      "\n",
      "\u001b[A\n",
      "\u001b[A\n",
      "\u001b[A\n",
      "\u001b[A\n",
      "\u001b[A\n",
      "\u001b[A\n",
      "\u001b[A\n",
      "\u001b[A\n",
      "\u001b[A\n",
      "\u001b[A\n",
      "100%|█████████████████████████████████████████████████████████████████████████████████| 10/10 [00:11<00:00,  1.17s/it]\n",
      "10it [00:11,  1.17s/it]\n",
      " 55%|████████████████████████████████████████████▎                                   | 56/101 [05:16<05:09,  6.88s/it]"
     ]
    },
    {
     "name": "stdout",
     "output_type": "stream",
     "text": [
      "/home/dmoi/datasets/afdbclusters/structfams/A0A010YHB2/\n",
      "using alphabet\n",
      "['0', '1', '2', '3', '4', '5', '6', '7', '8', '9', 'A', 'B', 'C', 'D', 'E', 'F', 'G', 'H', 'I', 'J', 'K', 'L', 'M', 'N', 'O', 'P', 'Q', 'R', 'S', 'T', 'U', 'V', 'W', 'X', 'Y', 'Z', '!', '\"', '#', '$', '%', '&', \"'\", '(', ')', '*', '+', ',', '/', ':', ';', '<', '=', '>', '@', '[', '\\\\', ']', '^', '_', '{', '|', '}', '~']\n"
     ]
    },
    {
     "name": "stderr",
     "output_type": "stream",
     "text": [
      "\n",
      "\u001b[A\n",
      "\u001b[A\n",
      "\u001b[A\n",
      "\u001b[A\n",
      "\u001b[A\n",
      "\u001b[A\n",
      "\u001b[A\n",
      "\u001b[A\n",
      "\u001b[A\n",
      "\u001b[A\n",
      "100%|█████████████████████████████████████████████████████████████████████████████████| 10/10 [00:02<00:00,  4.19it/s]\n",
      "10it [00:02,  4.19it/s]\n",
      " 56%|█████████████████████████████████████████████▏                                  | 57/101 [05:18<04:03,  5.53s/it]"
     ]
    },
    {
     "name": "stdout",
     "output_type": "stream",
     "text": [
      "/home/dmoi/datasets/afdbclusters/structfams/A0A010YC68/\n",
      "using alphabet\n",
      "['0', '1', '2', '3', '4', '5', '6', '7', '8', '9', 'A', 'B', 'C', 'D', 'E', 'F', 'G', 'H', 'I', 'J', 'K', 'L', 'M', 'N', 'O', 'P', 'Q', 'R', 'S', 'T', 'U', 'V', 'W', 'X', 'Y', 'Z', '!', '\"', '#', '$', '%', '&', \"'\", '(', ')', '*', '+', ',', '/', ':', ';', '<', '=', '>', '@', '[', '\\\\', ']', '^', '_', '{', '|', '}', '~']\n"
     ]
    },
    {
     "name": "stderr",
     "output_type": "stream",
     "text": [
      "\n",
      "\u001b[A\n",
      "\u001b[A\n",
      "\u001b[A\n",
      "\u001b[A\n",
      "\u001b[A\n",
      "\u001b[A\n",
      "\u001b[A\n",
      "\u001b[A\n",
      "\u001b[A\n",
      "\u001b[A\n",
      "100%|█████████████████████████████████████████████████████████████████████████████████| 10/10 [00:08<00:00,  1.17it/s]\n",
      "10it [00:08,  1.17it/s]\n",
      " 57%|█████████████████████████████████████████████▉                                  | 58/101 [05:27<04:36,  6.43s/it]"
     ]
    },
    {
     "name": "stdout",
     "output_type": "stream",
     "text": [
      "/home/dmoi/datasets/afdbclusters/structfams/A0A010RTK1/\n",
      "using alphabet\n",
      "['0', '1', '2', '3', '4', '5', '6', '7', '8', '9', 'A', 'B', 'C', 'D', 'E', 'F', 'G', 'H', 'I', 'J', 'K', 'L', 'M', 'N', 'O', 'P', 'Q', 'R', 'S', 'T', 'U', 'V', 'W', 'X', 'Y', 'Z', '!', '\"', '#', '$', '%', '&', \"'\", '(', ')', '*', '+', ',', '/', ':', ';', '<', '=', '>', '@', '[', '\\\\', ']', '^', '_', '{', '|', '}', '~']\n"
     ]
    },
    {
     "name": "stderr",
     "output_type": "stream",
     "text": [
      "\n",
      "\u001b[A\n",
      "\u001b[A\n",
      "\u001b[A\n",
      "\u001b[A\n",
      "\u001b[A\n",
      "\u001b[A\n",
      "\u001b[A\n",
      "\u001b[A\n",
      "\u001b[A\n",
      "\u001b[A\n",
      "100%|█████████████████████████████████████████████████████████████████████████████████| 10/10 [00:24<00:00,  2.46s/it]\n",
      "10it [00:24,  2.46s/it]\n",
      " 58%|██████████████████████████████████████████████▋                                 | 59/101 [05:51<08:19, 11.89s/it]"
     ]
    },
    {
     "name": "stdout",
     "output_type": "stream",
     "text": [
      "/home/dmoi/datasets/afdbclusters/structfams/A0A011NVJ4/\n",
      "using alphabet\n",
      "['0', '1', '2', '3', '4', '5', '6', '7', '8', '9', 'A', 'B', 'C', 'D', 'E', 'F', 'G', 'H', 'I', 'J', 'K', 'L', 'M', 'N', 'O', 'P', 'Q', 'R', 'S', 'T', 'U', 'V', 'W', 'X', 'Y', 'Z', '!', '\"', '#', '$', '%', '&', \"'\", '(', ')', '*', '+', ',', '/', ':', ';', '<', '=', '>', '@', '[', '\\\\', ']', '^', '_', '{', '|', '}', '~']\n"
     ]
    },
    {
     "name": "stderr",
     "output_type": "stream",
     "text": [
      "\n",
      "\u001b[A\n",
      "\u001b[A\n",
      "\u001b[A\n",
      "\u001b[A\n",
      "\u001b[A\n",
      "\u001b[A\n",
      "\u001b[A\n",
      "\u001b[A\n",
      "\u001b[A\n",
      "\u001b[A\n",
      "100%|█████████████████████████████████████████████████████████████████████████████████| 10/10 [00:02<00:00,  3.65it/s]\n",
      "10it [00:02,  3.64it/s]\n",
      " 59%|███████████████████████████████████████████████▌                                | 60/101 [05:54<06:15,  9.15s/it]"
     ]
    },
    {
     "name": "stdout",
     "output_type": "stream",
     "text": [
      "/home/dmoi/datasets/afdbclusters/structfams/A0A010QYK0/\n",
      "using alphabet\n",
      "['0', '1', '2', '3', '4', '5', '6', '7', '8', '9', 'A', 'B', 'C', 'D', 'E', 'F', 'G', 'H', 'I', 'J', 'K', 'L', 'M', 'N', 'O', 'P', 'Q', 'R', 'S', 'T', 'U', 'V', 'W', 'X', 'Y', 'Z', '!', '\"', '#', '$', '%', '&', \"'\", '(', ')', '*', '+', ',', '/', ':', ';', '<', '=', '>', '@', '[', '\\\\', ']', '^', '_', '{', '|', '}', '~']\n"
     ]
    },
    {
     "name": "stderr",
     "output_type": "stream",
     "text": [
      "\n",
      "\u001b[A\n",
      "\u001b[A\n",
      "\u001b[A\n",
      "\u001b[A\n",
      "\u001b[A\n",
      "\u001b[A\n",
      "\u001b[A\n",
      "\u001b[A\n",
      "\u001b[A\n",
      "\u001b[A\n",
      "100%|█████████████████████████████████████████████████████████████████████████████████| 10/10 [00:08<00:00,  1.14it/s]\n",
      "10it [00:08,  1.14it/s]\n",
      " 60%|████████████████████████████████████████████████▎                               | 61/101 [06:03<06:01,  9.04s/it]"
     ]
    },
    {
     "name": "stdout",
     "output_type": "stream",
     "text": [
      "/home/dmoi/datasets/afdbclusters/structfams/A0A010SM59/\n",
      "using alphabet\n",
      "['0', '1', '2', '3', '4', '5', '6', '7', '8', '9', 'A', 'B', 'C', 'D', 'E', 'F', 'G', 'H', 'I', 'J', 'K', 'L', 'M', 'N', 'O', 'P', 'Q', 'R', 'S', 'T', 'U', 'V', 'W', 'X', 'Y', 'Z', '!', '\"', '#', '$', '%', '&', \"'\", '(', ')', '*', '+', ',', '/', ':', ';', '<', '=', '>', '@', '[', '\\\\', ']', '^', '_', '{', '|', '}', '~']\n"
     ]
    },
    {
     "name": "stderr",
     "output_type": "stream",
     "text": [
      "\n",
      "\u001b[A\n",
      "\u001b[A\n",
      "\u001b[A\n",
      "\u001b[A\n",
      "\u001b[A\n",
      "\u001b[A\n",
      "\u001b[A\n",
      "\u001b[A\n",
      "\u001b[A\n",
      "\u001b[A\n",
      "100%|█████████████████████████████████████████████████████████████████████████████████| 10/10 [00:21<00:00,  2.12s/it]\n",
      "10it [00:21,  2.12s/it]\n",
      " 61%|█████████████████████████████████████████████████                               | 62/101 [06:24<08:14, 12.68s/it]"
     ]
    },
    {
     "name": "stdout",
     "output_type": "stream",
     "text": [
      "/home/dmoi/datasets/afdbclusters/structfams/A0A011P8I0/\n",
      "using alphabet\n",
      "['0', '1', '2', '3', '4', '5', '6', '7', '8', '9', 'A', 'B', 'C', 'D', 'E', 'F', 'G', 'H', 'I', 'J', 'K', 'L', 'M', 'N', 'O', 'P', 'Q', 'R', 'S', 'T', 'U', 'V', 'W', 'X', 'Y', 'Z', '!', '\"', '#', '$', '%', '&', \"'\", '(', ')', '*', '+', ',', '/', ':', ';', '<', '=', '>', '@', '[', '\\\\', ']', '^', '_', '{', '|', '}', '~']\n"
     ]
    },
    {
     "name": "stderr",
     "output_type": "stream",
     "text": [
      "\n",
      "\u001b[A\n",
      "\u001b[A\n",
      "\u001b[A\n",
      "\u001b[A\n",
      "\u001b[A\n",
      "\u001b[A\n",
      "\u001b[A\n",
      "\u001b[A\n",
      "\u001b[A\n",
      "\u001b[A\n",
      "100%|█████████████████████████████████████████████████████████████████████████████████| 10/10 [00:06<00:00,  1.55it/s]\n",
      "10it [00:06,  1.55it/s]\n",
      " 62%|█████████████████████████████████████████████████▉                              | 63/101 [06:30<06:51, 10.82s/it]"
     ]
    },
    {
     "name": "stdout",
     "output_type": "stream",
     "text": [
      "/home/dmoi/datasets/afdbclusters/structfams/A0A010R0N5/\n",
      "using alphabet\n",
      "['0', '1', '2', '3', '4', '5', '6', '7', '8', '9', 'A', 'B', 'C', 'D', 'E', 'F', 'G', 'H', 'I', 'J', 'K', 'L', 'M', 'N', 'O', 'P', 'Q', 'R', 'S', 'T', 'U', 'V', 'W', 'X', 'Y', 'Z', '!', '\"', '#', '$', '%', '&', \"'\", '(', ')', '*', '+', ',', '/', ':', ';', '<', '=', '>', '@', '[', '\\\\', ']', '^', '_', '{', '|', '}', '~']\n"
     ]
    },
    {
     "name": "stderr",
     "output_type": "stream",
     "text": [
      "\n",
      "\u001b[A\n",
      "\u001b[A\n",
      "\u001b[A\n",
      "\u001b[A\n",
      "\u001b[A\n",
      "\u001b[A\n",
      "\u001b[A\n",
      "\u001b[A\n",
      "\u001b[A\n",
      "\u001b[A\n",
      "100%|█████████████████████████████████████████████████████████████████████████████████| 10/10 [00:11<00:00,  1.20s/it]\n",
      "10it [00:11,  1.20s/it]\n",
      " 63%|██████████████████████████████████████████████████▋                             | 64/101 [06:43<06:53, 11.18s/it]"
     ]
    },
    {
     "name": "stdout",
     "output_type": "stream",
     "text": [
      "/home/dmoi/datasets/afdbclusters/structfams/A0A011NXL4/\n",
      "using alphabet\n",
      "['0', '1', '2', '3', '4', '5', '6', '7', '8', '9', 'A', 'B', 'C', 'D', 'E', 'F', 'G', 'H', 'I', 'J', 'K', 'L', 'M', 'N', 'O', 'P', 'Q', 'R', 'S', 'T', 'U', 'V', 'W', 'X', 'Y', 'Z', '!', '\"', '#', '$', '%', '&', \"'\", '(', ')', '*', '+', ',', '/', ':', ';', '<', '=', '>', '@', '[', '\\\\', ']', '^', '_', '{', '|', '}', '~']\n"
     ]
    },
    {
     "name": "stderr",
     "output_type": "stream",
     "text": [
      "\n",
      "\u001b[A\n",
      "\u001b[A\n",
      "\u001b[A\n",
      "\u001b[A\n",
      "\u001b[A\n",
      "\u001b[A\n",
      "\u001b[A\n",
      "\u001b[A\n",
      "\u001b[A\n",
      "\u001b[A\n",
      "100%|█████████████████████████████████████████████████████████████████████████████████| 10/10 [00:02<00:00,  4.90it/s]\n",
      "10it [00:02,  4.89it/s]\n",
      " 64%|███████████████████████████████████████████████████▍                            | 65/101 [06:45<05:03,  8.44s/it]"
     ]
    },
    {
     "name": "stdout",
     "output_type": "stream",
     "text": [
      "/home/dmoi/datasets/afdbclusters/structfams/A0A010QA35/\n",
      "using alphabet\n",
      "['0', '1', '2', '3', '4', '5', '6', '7', '8', '9', 'A', 'B', 'C', 'D', 'E', 'F', 'G', 'H', 'I', 'J', 'K', 'L', 'M', 'N', 'O', 'P', 'Q', 'R', 'S', 'T', 'U', 'V', 'W', 'X', 'Y', 'Z', '!', '\"', '#', '$', '%', '&', \"'\", '(', ')', '*', '+', ',', '/', ':', ';', '<', '=', '>', '@', '[', '\\\\', ']', '^', '_', '{', '|', '}', '~']\n"
     ]
    },
    {
     "name": "stderr",
     "output_type": "stream",
     "text": [
      "\n",
      "\u001b[A\n",
      "\u001b[A\n",
      "\u001b[A\n",
      "\u001b[A\n",
      "\u001b[A\n",
      "\u001b[A\n",
      "\u001b[A\n",
      "\u001b[A\n",
      "\u001b[A\n",
      "\u001b[A\n",
      "100%|█████████████████████████████████████████████████████████████████████████████████| 10/10 [00:16<00:00,  1.64s/it]\n",
      "10it [00:16,  1.64s/it]\n",
      " 65%|████████████████████████████████████████████████████▎                           | 66/101 [07:01<06:18, 10.82s/it]"
     ]
    },
    {
     "name": "stdout",
     "output_type": "stream",
     "text": [
      "/home/dmoi/datasets/afdbclusters/structfams/A0A010Z4N9/\n",
      "using alphabet\n",
      "['0', '1', '2', '3', '4', '5', '6', '7', '8', '9', 'A', 'B', 'C', 'D', 'E', 'F', 'G', 'H', 'I', 'J', 'K', 'L', 'M', 'N', 'O', 'P', 'Q', 'R', 'S', 'T', 'U', 'V', 'W', 'X', 'Y', 'Z', '!', '\"', '#', '$', '%', '&', \"'\", '(', ')', '*', '+', ',', '/', ':', ';', '<', '=', '>', '@', '[', '\\\\', ']', '^', '_', '{', '|', '}', '~']\n"
     ]
    },
    {
     "name": "stderr",
     "output_type": "stream",
     "text": [
      "\n",
      "\u001b[A\n",
      "\u001b[A\n",
      "\u001b[A\n",
      "\u001b[A\n",
      "\u001b[A\n",
      "\u001b[A\n",
      "\u001b[A\n",
      "\u001b[A\n",
      "\u001b[A\n",
      "\u001b[A\n",
      "100%|█████████████████████████████████████████████████████████████████████████████████| 10/10 [00:04<00:00,  2.43it/s]\n",
      "10it [00:04,  2.43it/s]\n",
      " 66%|█████████████████████████████████████████████████████                           | 67/101 [07:05<04:59,  8.81s/it]"
     ]
    },
    {
     "name": "stdout",
     "output_type": "stream",
     "text": [
      "/home/dmoi/datasets/afdbclusters/structfams/A0A010QIQ0/\n",
      "using alphabet\n",
      "['0', '1', '2', '3', '4', '5', '6', '7', '8', '9', 'A', 'B', 'C', 'D', 'E', 'F', 'G', 'H', 'I', 'J', 'K', 'L', 'M', 'N', 'O', 'P', 'Q', 'R', 'S', 'T', 'U', 'V', 'W', 'X', 'Y', 'Z', '!', '\"', '#', '$', '%', '&', \"'\", '(', ')', '*', '+', ',', '/', ':', ';', '<', '=', '>', '@', '[', '\\\\', ']', '^', '_', '{', '|', '}', '~']\n"
     ]
    },
    {
     "name": "stderr",
     "output_type": "stream",
     "text": [
      "\n",
      "\u001b[A\n",
      "\u001b[A\n",
      "\u001b[A\n",
      "\u001b[A\n",
      "\u001b[A\n",
      "\u001b[A\n",
      "\u001b[A\n",
      "\u001b[A\n",
      "\u001b[A\n",
      "\u001b[A\n",
      "100%|█████████████████████████████████████████████████████████████████████████████████| 10/10 [00:02<00:00,  3.88it/s]\n",
      "10it [00:02,  3.87it/s]\n",
      " 67%|█████████████████████████████████████████████████████▊                          | 68/101 [07:08<03:49,  6.95s/it]"
     ]
    },
    {
     "name": "stdout",
     "output_type": "stream",
     "text": [
      "/home/dmoi/datasets/afdbclusters/structfams/A0A010YLN3/\n",
      "using alphabet\n",
      "['0', '1', '2', '3', '4', '5', '6', '7', '8', '9', 'A', 'B', 'C', 'D', 'E', 'F', 'G', 'H', 'I', 'J', 'K', 'L', 'M', 'N', 'O', 'P', 'Q', 'R', 'S', 'T', 'U', 'V', 'W', 'X', 'Y', 'Z', '!', '\"', '#', '$', '%', '&', \"'\", '(', ')', '*', '+', ',', '/', ':', ';', '<', '=', '>', '@', '[', '\\\\', ']', '^', '_', '{', '|', '}', '~']\n"
     ]
    },
    {
     "name": "stderr",
     "output_type": "stream",
     "text": [
      "\n",
      "\u001b[A\n",
      "\u001b[A\n",
      "\u001b[A\n",
      "\u001b[A\n",
      "\u001b[A\n",
      "\u001b[A\n",
      "\u001b[A\n",
      "\u001b[A\n",
      "\u001b[A\n",
      "\u001b[A\n",
      "100%|█████████████████████████████████████████████████████████████████████████████████| 10/10 [00:03<00:00,  2.57it/s]\n",
      "10it [00:03,  2.57it/s]\n",
      " 68%|██████████████████████████████████████████████████████▋                         | 69/101 [07:12<03:13,  6.03s/it]"
     ]
    },
    {
     "name": "stdout",
     "output_type": "stream",
     "text": [
      "/home/dmoi/datasets/afdbclusters/structfams/A0A010YC40/\n",
      "using alphabet\n",
      "['0', '1', '2', '3', '4', '5', '6', '7', '8', '9', 'A', 'B', 'C', 'D', 'E', 'F', 'G', 'H', 'I', 'J', 'K', 'L', 'M', 'N', 'O', 'P', 'Q', 'R', 'S', 'T', 'U', 'V', 'W', 'X', 'Y', 'Z', '!', '\"', '#', '$', '%', '&', \"'\", '(', ')', '*', '+', ',', '/', ':', ';', '<', '=', '>', '@', '[', '\\\\', ']', '^', '_', '{', '|', '}', '~']\n"
     ]
    },
    {
     "name": "stderr",
     "output_type": "stream",
     "text": [
      "\n",
      "\u001b[A\n",
      "\u001b[A\n",
      "\u001b[A\n",
      "\u001b[A\n",
      "\u001b[A\n",
      "\u001b[A\n",
      "\u001b[A\n",
      "\u001b[A\n",
      "\u001b[A\n",
      "\u001b[A\n",
      "100%|█████████████████████████████████████████████████████████████████████████████████| 10/10 [00:18<00:00,  1.84s/it]\n",
      "10it [00:18,  1.84s/it]\n",
      " 69%|███████████████████████████████████████████████████████▍                        | 70/101 [07:30<05:01,  9.74s/it]"
     ]
    },
    {
     "name": "stdout",
     "output_type": "stream",
     "text": [
      "/home/dmoi/datasets/afdbclusters/structfams/A0A011NWD8/\n",
      "using alphabet\n",
      "['0', '1', '2', '3', '4', '5', '6', '7', '8', '9', 'A', 'B', 'C', 'D', 'E', 'F', 'G', 'H', 'I', 'J', 'K', 'L', 'M', 'N', 'O', 'P', 'Q', 'R', 'S', 'T', 'U', 'V', 'W', 'X', 'Y', 'Z', '!', '\"', '#', '$', '%', '&', \"'\", '(', ')', '*', '+', ',', '/', ':', ';', '<', '=', '>', '@', '[', '\\\\', ']', '^', '_', '{', '|', '}', '~']\n"
     ]
    },
    {
     "name": "stderr",
     "output_type": "stream",
     "text": [
      "\n",
      "\u001b[A\n",
      "\u001b[A\n",
      "\u001b[A\n",
      "\u001b[A\n",
      "\u001b[A\n",
      "\u001b[A\n",
      "\u001b[A\n",
      "\u001b[A\n",
      "\u001b[A\n",
      "\u001b[A\n",
      "100%|█████████████████████████████████████████████████████████████████████████████████| 10/10 [00:02<00:00,  4.29it/s]\n",
      "10it [00:02,  4.28it/s]\n",
      " 70%|████████████████████████████████████████████████████████▏                       | 71/101 [07:32<03:45,  7.52s/it]"
     ]
    },
    {
     "name": "stdout",
     "output_type": "stream",
     "text": [
      "/home/dmoi/datasets/afdbclusters/structfams/A0A009LJR2/\n",
      "using alphabet\n",
      "['0', '1', '2', '3', '4', '5', '6', '7', '8', '9', 'A', 'B', 'C', 'D', 'E', 'F', 'G', 'H', 'I', 'J', 'K', 'L', 'M', 'N', 'O', 'P', 'Q', 'R', 'S', 'T', 'U', 'V', 'W', 'X', 'Y', 'Z', '!', '\"', '#', '$', '%', '&', \"'\", '(', ')', '*', '+', ',', '/', ':', ';', '<', '=', '>', '@', '[', '\\\\', ']', '^', '_', '{', '|', '}', '~']\n"
     ]
    },
    {
     "name": "stderr",
     "output_type": "stream",
     "text": [
      "\n",
      "\u001b[A\n",
      "\u001b[A\n",
      "\u001b[A\n",
      "\u001b[A\n",
      "\u001b[A\n",
      "\u001b[A\n",
      "\u001b[A\n",
      "\u001b[A\n",
      "\u001b[A\n",
      "\u001b[A\n",
      "100%|█████████████████████████████████████████████████████████████████████████████████| 10/10 [00:05<00:00,  1.68it/s]\n",
      "10it [00:05,  1.68it/s]\n",
      " 71%|█████████████████████████████████████████████████████████                       | 72/101 [07:38<03:24,  7.05s/it]"
     ]
    },
    {
     "name": "stdout",
     "output_type": "stream",
     "text": [
      "/home/dmoi/datasets/afdbclusters/structfams/A0A011MY67/\n",
      "using alphabet\n",
      "['0', '1', '2', '3', '4', '5', '6', '7', '8', '9', 'A', 'B', 'C', 'D', 'E', 'F', 'G', 'H', 'I', 'J', 'K', 'L', 'M', 'N', 'O', 'P', 'Q', 'R', 'S', 'T', 'U', 'V', 'W', 'X', 'Y', 'Z', '!', '\"', '#', '$', '%', '&', \"'\", '(', ')', '*', '+', ',', '/', ':', ';', '<', '=', '>', '@', '[', '\\\\', ']', '^', '_', '{', '|', '}', '~']\n"
     ]
    },
    {
     "name": "stderr",
     "output_type": "stream",
     "text": [
      "\n",
      "\u001b[A\n",
      "\u001b[A\n",
      "\u001b[A\n",
      "\u001b[A\n",
      "\u001b[A\n",
      "\u001b[A\n",
      "\u001b[A\n",
      "\u001b[A\n",
      "\u001b[A\n",
      "\u001b[A\n",
      "100%|█████████████████████████████████████████████████████████████████████████████████| 10/10 [00:02<00:00,  3.34it/s]\n",
      "10it [00:02,  3.34it/s]\n",
      " 72%|█████████████████████████████████████████████████████████▊                      | 73/101 [07:41<02:43,  5.84s/it]"
     ]
    },
    {
     "name": "stdout",
     "output_type": "stream",
     "text": [
      "/home/dmoi/datasets/afdbclusters/structfams/A0A010QCV1/\n",
      "using alphabet\n",
      "['0', '1', '2', '3', '4', '5', '6', '7', '8', '9', 'A', 'B', 'C', 'D', 'E', 'F', 'G', 'H', 'I', 'J', 'K', 'L', 'M', 'N', 'O', 'P', 'Q', 'R', 'S', 'T', 'U', 'V', 'W', 'X', 'Y', 'Z', '!', '\"', '#', '$', '%', '&', \"'\", '(', ')', '*', '+', ',', '/', ':', ';', '<', '=', '>', '@', '[', '\\\\', ']', '^', '_', '{', '|', '}', '~']\n"
     ]
    },
    {
     "name": "stderr",
     "output_type": "stream",
     "text": [
      "\n",
      "\u001b[A\n",
      "\u001b[A\n",
      "\u001b[A\n",
      "\u001b[A\n",
      "\u001b[A\n",
      "\u001b[A\n",
      "\u001b[A\n",
      "\u001b[A\n",
      "\u001b[A\n",
      "\u001b[A\n",
      "100%|█████████████████████████████████████████████████████████████████████████████████| 10/10 [00:05<00:00,  1.80it/s]\n",
      "10it [00:05,  1.80it/s]\n",
      " 73%|██████████████████████████████████████████████████████████▌                     | 74/101 [07:47<02:35,  5.76s/it]"
     ]
    },
    {
     "name": "stdout",
     "output_type": "stream",
     "text": [
      "/home/dmoi/datasets/afdbclusters/structfams/A0A011P594/\n",
      "using alphabet\n",
      "['0', '1', '2', '3', '4', '5', '6', '7', '8', '9', 'A', 'B', 'C', 'D', 'E', 'F', 'G', 'H', 'I', 'J', 'K', 'L', 'M', 'N', 'O', 'P', 'Q', 'R', 'S', 'T', 'U', 'V', 'W', 'X', 'Y', 'Z', '!', '\"', '#', '$', '%', '&', \"'\", '(', ')', '*', '+', ',', '/', ':', ';', '<', '=', '>', '@', '[', '\\\\', ']', '^', '_', '{', '|', '}', '~']\n"
     ]
    },
    {
     "name": "stderr",
     "output_type": "stream",
     "text": [
      "\n",
      "\u001b[A\n",
      "\u001b[A\n",
      "\u001b[A\n",
      "\u001b[A\n",
      "\u001b[A\n",
      "\u001b[A\n",
      "\u001b[A\n",
      "\u001b[A\n",
      "\u001b[A\n",
      "\u001b[A\n",
      "100%|█████████████████████████████████████████████████████████████████████████████████| 10/10 [00:01<00:00,  6.92it/s]\n",
      "10it [00:01,  6.90it/s]\n",
      " 74%|███████████████████████████████████████████████████████████▍                    | 75/101 [07:48<01:56,  4.47s/it]"
     ]
    },
    {
     "name": "stdout",
     "output_type": "stream",
     "text": [
      "/home/dmoi/datasets/afdbclusters/structfams/A0A010QQ59/\n",
      "using alphabet\n",
      "['0', '1', '2', '3', '4', '5', '6', '7', '8', '9', 'A', 'B', 'C', 'D', 'E', 'F', 'G', 'H', 'I', 'J', 'K', 'L', 'M', 'N', 'O', 'P', 'Q', 'R', 'S', 'T', 'U', 'V', 'W', 'X', 'Y', 'Z', '!', '\"', '#', '$', '%', '&', \"'\", '(', ')', '*', '+', ',', '/', ':', ';', '<', '=', '>', '@', '[', '\\\\', ']', '^', '_', '{', '|', '}', '~']\n"
     ]
    },
    {
     "name": "stderr",
     "output_type": "stream",
     "text": [
      "\n",
      "\u001b[A\n",
      "\u001b[A\n",
      "\u001b[A\n",
      "\u001b[A\n",
      "\u001b[A\n",
      "\u001b[A\n",
      "\u001b[A\n",
      "\u001b[A\n",
      "\u001b[A\n",
      "\u001b[A\n",
      "100%|█████████████████████████████████████████████████████████████████████████████████| 10/10 [00:04<00:00,  2.50it/s]\n",
      "10it [00:04,  2.49it/s]\n",
      " 75%|████████████████████████████████████████████████████████████▏                   | 76/101 [07:52<01:48,  4.33s/it]"
     ]
    },
    {
     "name": "stdout",
     "output_type": "stream",
     "text": [
      "/home/dmoi/datasets/afdbclusters/structfams/A0A009R020/\n",
      "using alphabet\n",
      "['0', '1', '2', '3', '4', '5', '6', '7', '8', '9', 'A', 'B', 'C', 'D', 'E', 'F', 'G', 'H', 'I', 'J', 'K', 'L', 'M', 'N', 'O', 'P', 'Q', 'R', 'S', 'T', 'U', 'V', 'W', 'X', 'Y', 'Z', '!', '\"', '#', '$', '%', '&', \"'\", '(', ')', '*', '+', ',', '/', ':', ';', '<', '=', '>', '@', '[', '\\\\', ']', '^', '_', '{', '|', '}', '~']\n"
     ]
    },
    {
     "name": "stderr",
     "output_type": "stream",
     "text": [
      "\n",
      "\u001b[A\n",
      "\u001b[A\n",
      "\u001b[A\n",
      "\u001b[A\n",
      "\u001b[A\n",
      "\u001b[A\n",
      "\u001b[A\n",
      "\u001b[A\n",
      "\u001b[A\n",
      "\u001b[A\n",
      "100%|█████████████████████████████████████████████████████████████████████████████████| 10/10 [00:02<00:00,  4.97it/s]\n",
      "10it [00:02,  4.96it/s]\n",
      " 76%|████████████████████████████████████████████████████████████▉                   | 77/101 [07:54<01:27,  3.64s/it]"
     ]
    },
    {
     "name": "stdout",
     "output_type": "stream",
     "text": [
      "/home/dmoi/datasets/afdbclusters/structfams/A0A010R0R5/\n",
      "using alphabet\n",
      "['0', '1', '2', '3', '4', '5', '6', '7', '8', '9', 'A', 'B', 'C', 'D', 'E', 'F', 'G', 'H', 'I', 'J', 'K', 'L', 'M', 'N', 'O', 'P', 'Q', 'R', 'S', 'T', 'U', 'V', 'W', 'X', 'Y', 'Z', '!', '\"', '#', '$', '%', '&', \"'\", '(', ')', '*', '+', ',', '/', ':', ';', '<', '=', '>', '@', '[', '\\\\', ']', '^', '_', '{', '|', '}', '~']\n"
     ]
    },
    {
     "name": "stderr",
     "output_type": "stream",
     "text": [
      "\n",
      "\u001b[A\n",
      "\u001b[A\n",
      "\u001b[A\n",
      "\u001b[A\n",
      "\u001b[A\n",
      "\u001b[A\n",
      "\u001b[A\n",
      "\u001b[A\n",
      "\u001b[A\n",
      "\u001b[A\n",
      "100%|█████████████████████████████████████████████████████████████████████████████████| 10/10 [00:05<00:00,  1.83it/s]\n",
      "10it [00:05,  1.83it/s]\n",
      " 77%|█████████████████████████████████████████████████████████████▊                  | 78/101 [08:00<01:36,  4.19s/it]"
     ]
    },
    {
     "name": "stdout",
     "output_type": "stream",
     "text": [
      "/home/dmoi/datasets/afdbclusters/structfams/A0A011NTR6/\n",
      "using alphabet\n",
      "['0', '1', '2', '3', '4', '5', '6', '7', '8', '9', 'A', 'B', 'C', 'D', 'E', 'F', 'G', 'H', 'I', 'J', 'K', 'L', 'M', 'N', 'O', 'P', 'Q', 'R', 'S', 'T', 'U', 'V', 'W', 'X', 'Y', 'Z', '!', '\"', '#', '$', '%', '&', \"'\", '(', ')', '*', '+', ',', '/', ':', ';', '<', '=', '>', '@', '[', '\\\\', ']', '^', '_', '{', '|', '}', '~']\n"
     ]
    },
    {
     "name": "stderr",
     "output_type": "stream",
     "text": [
      "\n",
      "\u001b[A\n",
      "\u001b[A\n",
      "\u001b[A\n",
      "\u001b[A\n",
      "\u001b[A\n",
      "\u001b[A\n",
      "\u001b[A\n",
      "\u001b[A\n",
      "\u001b[A\n",
      "\u001b[A\n",
      "100%|█████████████████████████████████████████████████████████████████████████████████| 10/10 [00:13<00:00,  1.32s/it]\n",
      "10it [00:13,  1.32s/it]\n",
      " 78%|██████████████████████████████████████████████████████████████▌                 | 79/101 [08:13<02:31,  6.90s/it]"
     ]
    },
    {
     "name": "stdout",
     "output_type": "stream",
     "text": [
      "/home/dmoi/datasets/afdbclusters/structfams/A0A009G5I8/\n",
      "using alphabet\n",
      "['0', '1', '2', '3', '4', '5', '6', '7', '8', '9', 'A', 'B', 'C', 'D', 'E', 'F', 'G', 'H', 'I', 'J', 'K', 'L', 'M', 'N', 'O', 'P', 'Q', 'R', 'S', 'T', 'U', 'V', 'W', 'X', 'Y', 'Z', '!', '\"', '#', '$', '%', '&', \"'\", '(', ')', '*', '+', ',', '/', ':', ';', '<', '=', '>', '@', '[', '\\\\', ']', '^', '_', '{', '|', '}', '~']\n"
     ]
    },
    {
     "name": "stderr",
     "output_type": "stream",
     "text": [
      "\n",
      "\u001b[A\n",
      "\u001b[A\n",
      "\u001b[A\n",
      "\u001b[A\n",
      "\u001b[A\n",
      "\u001b[A\n",
      "\u001b[A\n",
      "\u001b[A\n",
      "\u001b[A\n",
      "\u001b[A\n",
      "100%|█████████████████████████████████████████████████████████████████████████████████| 10/10 [00:02<00:00,  3.46it/s]\n",
      "10it [00:02,  3.46it/s]\n",
      " 79%|███████████████████████████████████████████████████████████████▎                | 80/101 [08:16<01:59,  5.70s/it]"
     ]
    },
    {
     "name": "stdout",
     "output_type": "stream",
     "text": [
      "/home/dmoi/datasets/afdbclusters/structfams/A0A010QS06/\n",
      "using alphabet\n",
      "['0', '1', '2', '3', '4', '5', '6', '7', '8', '9', 'A', 'B', 'C', 'D', 'E', 'F', 'G', 'H', 'I', 'J', 'K', 'L', 'M', 'N', 'O', 'P', 'Q', 'R', 'S', 'T', 'U', 'V', 'W', 'X', 'Y', 'Z', '!', '\"', '#', '$', '%', '&', \"'\", '(', ')', '*', '+', ',', '/', ':', ';', '<', '=', '>', '@', '[', '\\\\', ']', '^', '_', '{', '|', '}', '~']\n"
     ]
    },
    {
     "name": "stderr",
     "output_type": "stream",
     "text": [
      "\n",
      "\u001b[A\n",
      "\u001b[A\n",
      "\u001b[A\n",
      "\u001b[A\n",
      "\u001b[A\n",
      "\u001b[A\n",
      "\u001b[A\n",
      "\u001b[A\n",
      "\u001b[A\n",
      "\u001b[A\n",
      "100%|█████████████████████████████████████████████████████████████████████████████████| 10/10 [00:13<00:00,  1.38s/it]\n",
      "10it [00:13,  1.38s/it]\n",
      " 80%|████████████████████████████████████████████████████████████████▏               | 81/101 [08:30<02:42,  8.14s/it]"
     ]
    },
    {
     "name": "stdout",
     "output_type": "stream",
     "text": [
      "/home/dmoi/datasets/afdbclusters/structfams/A0A010ZNN6/\n",
      "using alphabet\n",
      "['0', '1', '2', '3', '4', '5', '6', '7', '8', '9', 'A', 'B', 'C', 'D', 'E', 'F', 'G', 'H', 'I', 'J', 'K', 'L', 'M', 'N', 'O', 'P', 'Q', 'R', 'S', 'T', 'U', 'V', 'W', 'X', 'Y', 'Z', '!', '\"', '#', '$', '%', '&', \"'\", '(', ')', '*', '+', ',', '/', ':', ';', '<', '=', '>', '@', '[', '\\\\', ']', '^', '_', '{', '|', '}', '~']\n"
     ]
    },
    {
     "name": "stderr",
     "output_type": "stream",
     "text": [
      "\n",
      "\u001b[A\n",
      "\u001b[A\n",
      "\u001b[A\n",
      "\u001b[A\n",
      "\u001b[A\n",
      "\u001b[A\n",
      "\u001b[A\n",
      "\u001b[A\n",
      "\u001b[A\n",
      "\u001b[A\n",
      "100%|█████████████████████████████████████████████████████████████████████████████████| 10/10 [00:01<00:00,  5.40it/s]\n",
      "10it [00:01,  5.39it/s]\n",
      " 81%|████████████████████████████████████████████████████████████████▉               | 82/101 [08:32<01:58,  6.25s/it]"
     ]
    },
    {
     "name": "stdout",
     "output_type": "stream",
     "text": [
      "/home/dmoi/datasets/afdbclusters/structfams/A0A009LPV9/\n",
      "using alphabet\n",
      "['0', '1', '2', '3', '4', '5', '6', '7', '8', '9', 'A', 'B', 'C', 'D', 'E', 'F', 'G', 'H', 'I', 'J', 'K', 'L', 'M', 'N', 'O', 'P', 'Q', 'R', 'S', 'T', 'U', 'V', 'W', 'X', 'Y', 'Z', '!', '\"', '#', '$', '%', '&', \"'\", '(', ')', '*', '+', ',', '/', ':', ';', '<', '=', '>', '@', '[', '\\\\', ']', '^', '_', '{', '|', '}', '~']\n"
     ]
    },
    {
     "name": "stderr",
     "output_type": "stream",
     "text": [
      "\n",
      "\u001b[A\n",
      "\u001b[A\n",
      "\u001b[A\n",
      "\u001b[A\n",
      "\u001b[A\n",
      "\u001b[A\n",
      "\u001b[A\n",
      "\u001b[A\n",
      "\u001b[A\n",
      "\u001b[A\n",
      "100%|█████████████████████████████████████████████████████████████████████████████████| 10/10 [00:08<00:00,  1.18it/s]\n",
      "10it [00:08,  1.18it/s]\n",
      " 82%|█████████████████████████████████████████████████████████████████▋              | 83/101 [08:40<02:04,  6.93s/it]"
     ]
    },
    {
     "name": "stdout",
     "output_type": "stream",
     "text": [
      "/home/dmoi/datasets/afdbclusters/structfams/A0A009HSJ6/\n",
      "using alphabet\n",
      "['0', '1', '2', '3', '4', '5', '6', '7', '8', '9', 'A', 'B', 'C', 'D', 'E', 'F', 'G', 'H', 'I', 'J', 'K', 'L', 'M', 'N', 'O', 'P', 'Q', 'R', 'S', 'T', 'U', 'V', 'W', 'X', 'Y', 'Z', '!', '\"', '#', '$', '%', '&', \"'\", '(', ')', '*', '+', ',', '/', ':', ';', '<', '=', '>', '@', '[', '\\\\', ']', '^', '_', '{', '|', '}', '~']\n"
     ]
    },
    {
     "name": "stderr",
     "output_type": "stream",
     "text": [
      "\n",
      "\u001b[A\n",
      "\u001b[A\n",
      "\u001b[A\n",
      "\u001b[A\n",
      "\u001b[A\n",
      "\u001b[A\n",
      "\u001b[A\n",
      "\u001b[A\n",
      "\u001b[A\n",
      "\u001b[A\n",
      "100%|█████████████████████████████████████████████████████████████████████████████████| 10/10 [00:14<00:00,  1.45s/it]\n",
      "10it [00:14,  1.45s/it]\n",
      " 83%|██████████████████████████████████████████████████████████████████▌             | 84/101 [08:55<02:36,  9.20s/it]"
     ]
    },
    {
     "name": "stdout",
     "output_type": "stream",
     "text": [
      "/home/dmoi/datasets/afdbclusters/structfams/A0A011NXV5/\n",
      "using alphabet\n",
      "['0', '1', '2', '3', '4', '5', '6', '7', '8', '9', 'A', 'B', 'C', 'D', 'E', 'F', 'G', 'H', 'I', 'J', 'K', 'L', 'M', 'N', 'O', 'P', 'Q', 'R', 'S', 'T', 'U', 'V', 'W', 'X', 'Y', 'Z', '!', '\"', '#', '$', '%', '&', \"'\", '(', ')', '*', '+', ',', '/', ':', ';', '<', '=', '>', '@', '[', '\\\\', ']', '^', '_', '{', '|', '}', '~']\n"
     ]
    },
    {
     "name": "stderr",
     "output_type": "stream",
     "text": [
      "\n",
      "\u001b[A\n",
      "\u001b[A\n",
      "\u001b[A\n",
      "\u001b[A\n",
      "\u001b[A\n",
      "\u001b[A\n",
      "\u001b[A\n",
      "\u001b[A\n",
      "\u001b[A\n",
      "\u001b[A\n",
      "100%|█████████████████████████████████████████████████████████████████████████████████| 10/10 [00:06<00:00,  1.62it/s]\n",
      "10it [00:06,  1.61it/s]\n",
      " 84%|███████████████████████████████████████████████████████████████████▎            | 85/101 [09:01<02:12,  8.30s/it]"
     ]
    },
    {
     "name": "stdout",
     "output_type": "stream",
     "text": [
      "/home/dmoi/datasets/afdbclusters/structfams/A0A010SK14/\n",
      "using alphabet\n",
      "['0', '1', '2', '3', '4', '5', '6', '7', '8', '9', 'A', 'B', 'C', 'D', 'E', 'F', 'G', 'H', 'I', 'J', 'K', 'L', 'M', 'N', 'O', 'P', 'Q', 'R', 'S', 'T', 'U', 'V', 'W', 'X', 'Y', 'Z', '!', '\"', '#', '$', '%', '&', \"'\", '(', ')', '*', '+', ',', '/', ':', ';', '<', '=', '>', '@', '[', '\\\\', ']', '^', '_', '{', '|', '}', '~']\n"
     ]
    },
    {
     "name": "stderr",
     "output_type": "stream",
     "text": [
      "\n",
      "\u001b[A\n",
      "\u001b[A\n",
      "\u001b[A\n",
      "\u001b[A\n",
      "\u001b[A\n",
      "\u001b[A\n",
      "\u001b[A\n",
      "\u001b[A\n",
      "\u001b[A\n",
      "\u001b[A\n",
      "100%|█████████████████████████████████████████████████████████████████████████████████| 10/10 [00:02<00:00,  3.95it/s]\n",
      "10it [00:02,  3.95it/s]\n",
      " 85%|████████████████████████████████████████████████████████████████████            | 86/101 [09:03<01:38,  6.57s/it]"
     ]
    },
    {
     "name": "stdout",
     "output_type": "stream",
     "text": [
      "/home/dmoi/datasets/afdbclusters/structfams/A0A011NYK9/\n",
      "using alphabet\n",
      "['0', '1', '2', '3', '4', '5', '6', '7', '8', '9', 'A', 'B', 'C', 'D', 'E', 'F', 'G', 'H', 'I', 'J', 'K', 'L', 'M', 'N', 'O', 'P', 'Q', 'R', 'S', 'T', 'U', 'V', 'W', 'X', 'Y', 'Z', '!', '\"', '#', '$', '%', '&', \"'\", '(', ')', '*', '+', ',', '/', ':', ';', '<', '=', '>', '@', '[', '\\\\', ']', '^', '_', '{', '|', '}', '~']\n"
     ]
    },
    {
     "name": "stderr",
     "output_type": "stream",
     "text": [
      "\n",
      "\u001b[A\n",
      "\u001b[A\n",
      "\u001b[A\n",
      "\u001b[A\n",
      "\u001b[A\n",
      "\u001b[A\n",
      "\u001b[A\n",
      "\u001b[A\n",
      "\u001b[A\n",
      "\u001b[A\n",
      "100%|█████████████████████████████████████████████████████████████████████████████████| 10/10 [00:03<00:00,  3.24it/s]\n",
      "10it [00:03,  3.24it/s]\n",
      " 86%|████████████████████████████████████████████████████████████████████▉           | 87/101 [09:06<01:17,  5.53s/it]"
     ]
    },
    {
     "name": "stdout",
     "output_type": "stream",
     "text": [
      "/home/dmoi/datasets/afdbclusters/structfams/A0A010QHB0/\n",
      "using alphabet\n",
      "['0', '1', '2', '3', '4', '5', '6', '7', '8', '9', 'A', 'B', 'C', 'D', 'E', 'F', 'G', 'H', 'I', 'J', 'K', 'L', 'M', 'N', 'O', 'P', 'Q', 'R', 'S', 'T', 'U', 'V', 'W', 'X', 'Y', 'Z', '!', '\"', '#', '$', '%', '&', \"'\", '(', ')', '*', '+', ',', '/', ':', ';', '<', '=', '>', '@', '[', '\\\\', ']', '^', '_', '{', '|', '}', '~']\n"
     ]
    },
    {
     "name": "stderr",
     "output_type": "stream",
     "text": [
      "\n",
      "\u001b[A\n",
      "\u001b[A\n",
      "\u001b[A\n",
      "\u001b[A\n",
      "\u001b[A\n",
      "\u001b[A\n",
      "\u001b[A\n",
      "\u001b[A\n",
      "\u001b[A\n",
      "\u001b[A\n",
      "100%|█████████████████████████████████████████████████████████████████████████████████| 10/10 [00:07<00:00,  1.26it/s]\n",
      "10it [00:07,  1.26it/s]\n",
      " 87%|█████████████████████████████████████████████████████████████████████▋          | 88/101 [09:14<01:21,  6.26s/it]"
     ]
    },
    {
     "name": "stdout",
     "output_type": "stream",
     "text": [
      "/home/dmoi/datasets/afdbclusters/structfams/A0A010RC88/\n",
      "using alphabet\n",
      "['0', '1', '2', '3', '4', '5', '6', '7', '8', '9', 'A', 'B', 'C', 'D', 'E', 'F', 'G', 'H', 'I', 'J', 'K', 'L', 'M', 'N', 'O', 'P', 'Q', 'R', 'S', 'T', 'U', 'V', 'W', 'X', 'Y', 'Z', '!', '\"', '#', '$', '%', '&', \"'\", '(', ')', '*', '+', ',', '/', ':', ';', '<', '=', '>', '@', '[', '\\\\', ']', '^', '_', '{', '|', '}', '~']\n"
     ]
    },
    {
     "name": "stderr",
     "output_type": "stream",
     "text": [
      "\n",
      "\u001b[A\n",
      "\u001b[A\n",
      "\u001b[A\n",
      "\u001b[A\n",
      "\u001b[A\n",
      "\u001b[A\n",
      "\u001b[A\n",
      "\u001b[A\n",
      "\u001b[A\n",
      "\u001b[A\n",
      "100%|█████████████████████████████████████████████████████████████████████████████████| 10/10 [00:04<00:00,  2.01it/s]\n",
      "10it [00:04,  2.01it/s]\n",
      " 88%|██████████████████████████████████████████████████████████████████████▍         | 89/101 [09:19<01:10,  5.88s/it]"
     ]
    },
    {
     "name": "stdout",
     "output_type": "stream",
     "text": [
      "/home/dmoi/datasets/afdbclusters/structfams/A0A009KPD8/\n",
      "using alphabet\n",
      "['0', '1', '2', '3', '4', '5', '6', '7', '8', '9', 'A', 'B', 'C', 'D', 'E', 'F', 'G', 'H', 'I', 'J', 'K', 'L', 'M', 'N', 'O', 'P', 'Q', 'R', 'S', 'T', 'U', 'V', 'W', 'X', 'Y', 'Z', '!', '\"', '#', '$', '%', '&', \"'\", '(', ')', '*', '+', ',', '/', ':', ';', '<', '=', '>', '@', '[', '\\\\', ']', '^', '_', '{', '|', '}', '~']\n"
     ]
    },
    {
     "name": "stderr",
     "output_type": "stream",
     "text": [
      "\n",
      "\u001b[A\n",
      "\u001b[A\n",
      "\u001b[A\n",
      "\u001b[A\n",
      "\u001b[A\n",
      "\u001b[A\n",
      "\u001b[A\n",
      "\u001b[A\n",
      "\u001b[A\n",
      "\u001b[A\n",
      "100%|█████████████████████████████████████████████████████████████████████████████████| 10/10 [00:02<00:00,  4.62it/s]\n",
      "10it [00:02,  4.61it/s]\n",
      " 89%|███████████████████████████████████████████████████████████████████████▎        | 90/101 [09:22<00:52,  4.77s/it]"
     ]
    },
    {
     "name": "stdout",
     "output_type": "stream",
     "text": [
      "/home/dmoi/datasets/afdbclusters/structfams/A0A011MVW2/\n",
      "using alphabet\n",
      "['0', '1', '2', '3', '4', '5', '6', '7', '8', '9', 'A', 'B', 'C', 'D', 'E', 'F', 'G', 'H', 'I', 'J', 'K', 'L', 'M', 'N', 'O', 'P', 'Q', 'R', 'S', 'T', 'U', 'V', 'W', 'X', 'Y', 'Z', '!', '\"', '#', '$', '%', '&', \"'\", '(', ')', '*', '+', ',', '/', ':', ';', '<', '=', '>', '@', '[', '\\\\', ']', '^', '_', '{', '|', '}', '~']\n"
     ]
    },
    {
     "name": "stderr",
     "output_type": "stream",
     "text": [
      "\n",
      "\u001b[A\n",
      "\u001b[A\n",
      "\u001b[A\n",
      "\u001b[A\n",
      "\u001b[A\n",
      "\u001b[A\n",
      "\u001b[A\n",
      "\u001b[A\n",
      "\u001b[A\n",
      "\u001b[A\n",
      "100%|█████████████████████████████████████████████████████████████████████████████████| 10/10 [00:01<00:00,  8.51it/s]\n",
      "10it [00:01,  8.49it/s]\n",
      " 90%|████████████████████████████████████████████████████████████████████████        | 91/101 [09:23<00:36,  3.69s/it]"
     ]
    },
    {
     "name": "stdout",
     "output_type": "stream",
     "text": [
      "/home/dmoi/datasets/afdbclusters/structfams/A0A010Q600/\n",
      "using alphabet\n",
      "['0', '1', '2', '3', '4', '5', '6', '7', '8', '9', 'A', 'B', 'C', 'D', 'E', 'F', 'G', 'H', 'I', 'J', 'K', 'L', 'M', 'N', 'O', 'P', 'Q', 'R', 'S', 'T', 'U', 'V', 'W', 'X', 'Y', 'Z', '!', '\"', '#', '$', '%', '&', \"'\", '(', ')', '*', '+', ',', '/', ':', ';', '<', '=', '>', '@', '[', '\\\\', ']', '^', '_', '{', '|', '}', '~']\n"
     ]
    },
    {
     "name": "stderr",
     "output_type": "stream",
     "text": [
      "\n",
      "\u001b[A\n",
      "\u001b[A\n",
      "\u001b[A\n",
      "\u001b[A\n",
      "\u001b[A\n",
      "\u001b[A\n",
      "\u001b[A\n",
      "\u001b[A\n",
      "\u001b[A\n",
      "\u001b[A\n",
      "100%|█████████████████████████████████████████████████████████████████████████████████| 10/10 [00:04<00:00,  2.41it/s]\n",
      "10it [00:04,  2.41it/s]\n",
      " 91%|████████████████████████████████████████████████████████████████████████▊       | 92/101 [09:27<00:34,  3.83s/it]"
     ]
    },
    {
     "name": "stdout",
     "output_type": "stream",
     "text": [
      "/home/dmoi/datasets/afdbclusters/structfams/A0A010RJK7/\n",
      "using alphabet\n",
      "['0', '1', '2', '3', '4', '5', '6', '7', '8', '9', 'A', 'B', 'C', 'D', 'E', 'F', 'G', 'H', 'I', 'J', 'K', 'L', 'M', 'N', 'O', 'P', 'Q', 'R', 'S', 'T', 'U', 'V', 'W', 'X', 'Y', 'Z', '!', '\"', '#', '$', '%', '&', \"'\", '(', ')', '*', '+', ',', '/', ':', ';', '<', '=', '>', '@', '[', '\\\\', ']', '^', '_', '{', '|', '}', '~']\n"
     ]
    },
    {
     "name": "stderr",
     "output_type": "stream",
     "text": [
      "\n",
      "\u001b[A\n",
      "\u001b[A\n",
      "\u001b[A\n",
      "\u001b[A\n",
      "\u001b[A\n",
      "\u001b[A\n",
      "\u001b[A\n",
      "\u001b[A\n",
      "\u001b[A\n",
      "\u001b[A\n",
      "100%|█████████████████████████████████████████████████████████████████████████████████| 10/10 [00:06<00:00,  1.53it/s]\n",
      "10it [00:06,  1.53it/s]\n",
      " 92%|█████████████████████████████████████████████████████████████████████████▋      | 93/101 [09:34<00:37,  4.65s/it]"
     ]
    },
    {
     "name": "stdout",
     "output_type": "stream",
     "text": [
      "/home/dmoi/datasets/afdbclusters/structfams/A0A009YGQ6/\n",
      "using alphabet\n",
      "['0', '1', '2', '3', '4', '5', '6', '7', '8', '9', 'A', 'B', 'C', 'D', 'E', 'F', 'G', 'H', 'I', 'J', 'K', 'L', 'M', 'N', 'O', 'P', 'Q', 'R', 'S', 'T', 'U', 'V', 'W', 'X', 'Y', 'Z', '!', '\"', '#', '$', '%', '&', \"'\", '(', ')', '*', '+', ',', '/', ':', ';', '<', '=', '>', '@', '[', '\\\\', ']', '^', '_', '{', '|', '}', '~']\n"
     ]
    },
    {
     "name": "stderr",
     "output_type": "stream",
     "text": [
      "\n",
      "\u001b[A\n",
      "\u001b[A\n",
      "\u001b[A\n",
      "\u001b[A\n",
      "\u001b[A\n",
      "\u001b[A\n",
      "\u001b[A\n",
      "\u001b[A\n",
      "\u001b[A\n",
      "\u001b[A\n",
      "100%|█████████████████████████████████████████████████████████████████████████████████| 10/10 [00:03<00:00,  2.60it/s]\n",
      "10it [00:03,  2.60it/s]\n",
      " 93%|██████████████████████████████████████████████████████████████████████████▍     | 94/101 [09:37<00:30,  4.41s/it]"
     ]
    },
    {
     "name": "stdout",
     "output_type": "stream",
     "text": [
      "/home/dmoi/datasets/afdbclusters/structfams/A0A010KCF6/\n",
      "using alphabet\n",
      "['0', '1', '2', '3', '4', '5', '6', '7', '8', '9', 'A', 'B', 'C', 'D', 'E', 'F', 'G', 'H', 'I', 'J', 'K', 'L', 'M', 'N', 'O', 'P', 'Q', 'R', 'S', 'T', 'U', 'V', 'W', 'X', 'Y', 'Z', '!', '\"', '#', '$', '%', '&', \"'\", '(', ')', '*', '+', ',', '/', ':', ';', '<', '=', '>', '@', '[', '\\\\', ']', '^', '_', '{', '|', '}', '~']\n"
     ]
    },
    {
     "name": "stderr",
     "output_type": "stream",
     "text": [
      "\n",
      "\u001b[A\n",
      "\u001b[A\n",
      "\u001b[A\n",
      "\u001b[A\n",
      "\u001b[A\n",
      "\u001b[A\n",
      "\u001b[A\n",
      "\u001b[A\n",
      "\u001b[A\n",
      "\u001b[A\n",
      "100%|█████████████████████████████████████████████████████████████████████████████████| 10/10 [00:02<00:00,  3.36it/s]\n",
      "10it [00:02,  3.36it/s]\n",
      " 94%|███████████████████████████████████████████████████████████████████████████▏    | 95/101 [09:40<00:23,  3.99s/it]"
     ]
    },
    {
     "name": "stdout",
     "output_type": "stream",
     "text": [
      "/home/dmoi/datasets/afdbclusters/structfams/A0A010R113/\n",
      "using alphabet\n",
      "['0', '1', '2', '3', '4', '5', '6', '7', '8', '9', 'A', 'B', 'C', 'D', 'E', 'F', 'G', 'H', 'I', 'J', 'K', 'L', 'M', 'N', 'O', 'P', 'Q', 'R', 'S', 'T', 'U', 'V', 'W', 'X', 'Y', 'Z', '!', '\"', '#', '$', '%', '&', \"'\", '(', ')', '*', '+', ',', '/', ':', ';', '<', '=', '>', '@', '[', '\\\\', ']', '^', '_', '{', '|', '}', '~']\n"
     ]
    },
    {
     "name": "stderr",
     "output_type": "stream",
     "text": [
      "\n",
      "\u001b[A\n",
      "\u001b[A\n",
      "\u001b[A\n",
      "\u001b[A\n",
      "\u001b[A\n",
      "\u001b[A\n",
      "\u001b[A\n",
      "\u001b[A\n",
      "\u001b[A\n",
      "\u001b[A\n",
      "100%|█████████████████████████████████████████████████████████████████████████████████| 10/10 [00:09<00:00,  1.10it/s]\n",
      "10it [00:09,  1.10it/s]\n",
      " 95%|████████████████████████████████████████████████████████████████████████████    | 96/101 [09:49<00:27,  5.51s/it]"
     ]
    },
    {
     "name": "stdout",
     "output_type": "stream",
     "text": [
      "/home/dmoi/datasets/afdbclusters/structfams/A0A009JY85/\n",
      "using alphabet\n",
      "['0', '1', '2', '3', '4', '5', '6', '7', '8', '9', 'A', 'B', 'C', 'D', 'E', 'F', 'G', 'H', 'I', 'J', 'K', 'L', 'M', 'N', 'O', 'P', 'Q', 'R', 'S', 'T', 'U', 'V', 'W', 'X', 'Y', 'Z', '!', '\"', '#', '$', '%', '&', \"'\", '(', ')', '*', '+', ',', '/', ':', ';', '<', '=', '>', '@', '[', '\\\\', ']', '^', '_', '{', '|', '}', '~']\n"
     ]
    },
    {
     "name": "stderr",
     "output_type": "stream",
     "text": [
      "\n",
      "\u001b[A\n",
      "\u001b[A\n",
      "\u001b[A\n",
      "\u001b[A\n",
      "\u001b[A\n",
      "\u001b[A\n",
      "\u001b[A\n",
      "\u001b[A\n",
      "\u001b[A\n",
      "\u001b[A\n",
      "100%|█████████████████████████████████████████████████████████████████████████████████| 10/10 [00:06<00:00,  1.63it/s]\n",
      "10it [00:06,  1.63it/s]\n",
      " 96%|████████████████████████████████████████████████████████████████████████████▊   | 97/101 [09:56<00:22,  5.70s/it]"
     ]
    },
    {
     "name": "stdout",
     "output_type": "stream",
     "text": [
      "/home/dmoi/datasets/afdbclusters/structfams/A0A011NF35/\n",
      "using alphabet\n",
      "['0', '1', '2', '3', '4', '5', '6', '7', '8', '9', 'A', 'B', 'C', 'D', 'E', 'F', 'G', 'H', 'I', 'J', 'K', 'L', 'M', 'N', 'O', 'P', 'Q', 'R', 'S', 'T', 'U', 'V', 'W', 'X', 'Y', 'Z', '!', '\"', '#', '$', '%', '&', \"'\", '(', ')', '*', '+', ',', '/', ':', ';', '<', '=', '>', '@', '[', '\\\\', ']', '^', '_', '{', '|', '}', '~']\n"
     ]
    },
    {
     "name": "stderr",
     "output_type": "stream",
     "text": [
      "\n",
      "\u001b[A\n",
      "\u001b[A\n",
      "\u001b[A\n",
      "\u001b[A\n",
      "\u001b[A\n",
      "\u001b[A\n",
      "\u001b[A\n",
      "\u001b[A\n",
      "\u001b[A\n",
      "\u001b[A\n",
      "100%|█████████████████████████████████████████████████████████████████████████████████| 10/10 [00:01<00:00,  6.18it/s]\n",
      "10it [00:01,  6.16it/s]\n",
      " 97%|█████████████████████████████████████████████████████████████████████████████▌  | 98/101 [09:57<00:13,  4.48s/it]"
     ]
    },
    {
     "name": "stdout",
     "output_type": "stream",
     "text": [
      "/home/dmoi/datasets/afdbclusters/structfams/A0A009EYQ5/\n",
      "using alphabet\n",
      "['0', '1', '2', '3', '4', '5', '6', '7', '8', '9', 'A', 'B', 'C', 'D', 'E', 'F', 'G', 'H', 'I', 'J', 'K', 'L', 'M', 'N', 'O', 'P', 'Q', 'R', 'S', 'T', 'U', 'V', 'W', 'X', 'Y', 'Z', '!', '\"', '#', '$', '%', '&', \"'\", '(', ')', '*', '+', ',', '/', ':', ';', '<', '=', '>', '@', '[', '\\\\', ']', '^', '_', '{', '|', '}', '~']\n"
     ]
    },
    {
     "name": "stderr",
     "output_type": "stream",
     "text": [
      "\n",
      "\u001b[A\n",
      "\u001b[A\n",
      "\u001b[A\n",
      "\u001b[A\n",
      "\u001b[A\n",
      "\u001b[A\n",
      "\u001b[A\n",
      "\u001b[A\n",
      "\u001b[A\n",
      "\u001b[A\n",
      "100%|█████████████████████████████████████████████████████████████████████████████████| 10/10 [00:01<00:00,  5.23it/s]\n",
      "10it [00:01,  5.22it/s]\n",
      " 98%|██████████████████████████████████████████████████████████████████████████████▍ | 99/101 [09:59<00:07,  3.71s/it]"
     ]
    },
    {
     "name": "stdout",
     "output_type": "stream",
     "text": [
      "/home/dmoi/datasets/afdbclusters/structfams/A0A011P8J1/\n",
      "using alphabet\n",
      "['0', '1', '2', '3', '4', '5', '6', '7', '8', '9', 'A', 'B', 'C', 'D', 'E', 'F', 'G', 'H', 'I', 'J', 'K', 'L', 'M', 'N', 'O', 'P', 'Q', 'R', 'S', 'T', 'U', 'V', 'W', 'X', 'Y', 'Z', '!', '\"', '#', '$', '%', '&', \"'\", '(', ')', '*', '+', ',', '/', ':', ';', '<', '=', '>', '@', '[', '\\\\', ']', '^', '_', '{', '|', '}', '~']\n"
     ]
    },
    {
     "name": "stderr",
     "output_type": "stream",
     "text": [
      "\n",
      "\u001b[A\n",
      "\u001b[A\n",
      "\u001b[A\n",
      "\u001b[A\n",
      "\u001b[A\n",
      "\u001b[A\n",
      "\u001b[A\n",
      "\u001b[A\n",
      "\u001b[A\n",
      "\u001b[A\n",
      "100%|█████████████████████████████████████████████████████████████████████████████████| 10/10 [00:04<00:00,  2.08it/s]\n",
      "10it [00:04,  2.07it/s]\n",
      " 99%|██████████████████████████████████████████████████████████████████████████████▏| 100/101 [10:04<00:04,  4.05s/it]"
     ]
    },
    {
     "name": "stdout",
     "output_type": "stream",
     "text": [
      "/home/dmoi/datasets/afdbclusters/structfams/A0A010R7U6/\n",
      "using alphabet\n",
      "['0', '1', '2', '3', '4', '5', '6', '7', '8', '9', 'A', 'B', 'C', 'D', 'E', 'F', 'G', 'H', 'I', 'J', 'K', 'L', 'M', 'N', 'O', 'P', 'Q', 'R', 'S', 'T', 'U', 'V', 'W', 'X', 'Y', 'Z', '!', '\"', '#', '$', '%', '&', \"'\", '(', ')', '*', '+', ',', '/', ':', ';', '<', '=', '>', '@', '[', '\\\\', ']', '^', '_', '{', '|', '}', '~']\n"
     ]
    },
    {
     "name": "stderr",
     "output_type": "stream",
     "text": [
      "\n",
      "\u001b[A\n",
      "\u001b[A\n",
      "\u001b[A\n",
      "\u001b[A\n",
      "\u001b[A\n",
      "\u001b[A\n",
      "\u001b[A\n",
      "\u001b[A\n",
      "\u001b[A\n",
      "\u001b[A\n",
      "100%|█████████████████████████████████████████████████████████████████████████████████| 10/10 [00:03<00:00,  3.27it/s]\n",
      "10it [00:03,  3.26it/s]\n",
      "100%|███████████████████████████████████████████████████████████████████████████████| 101/101 [10:07<00:00,  6.02s/it]\n"
     ]
    }
   ],
   "source": [
    "import tqdm\n",
    "import glob\n",
    "\n",
    "def loader( structlist , converter):\n",
    "    for struct in tqdm.tqdm(structlist):\n",
    "        try:\n",
    "            data = converter.struct2pyg( struct )\n",
    "            if data:\n",
    "                yield data\n",
    "        except:\n",
    "            print('error')\n",
    "            continue\n",
    "\n",
    "for fam in tqdm.tqdm(glob.glob(datadir +'afdbclusters/structfams/*/')):\n",
    "    print(fam)\n",
    "    structs = glob.glob(fam + 'structs/*.pdb')\n",
    "    l = loader( structs , converter )\n",
    "    encoder.encode_structures_fasta( l , fam + 'encoded.fasta' , alphabet = inputchars  )\n"
   ]
  },
  {
   "cell_type": "code",
   "execution_count": 52,
   "metadata": {},
   "outputs": [
    {
     "name": "stdout",
     "output_type": "stream",
     "text": [
      "{'0': 0, '1': 1, '2': 2, '3': 3, '4': 4, '5': 5, '6': 6, '7': 7, '8': 8, '9': 9, 'A': 10, 'B': 11, 'C': 12, 'D': 13, 'E': 14, 'F': 15, 'G': 16, 'H': 17, 'I': 18, 'J': 19, 'K': 20, 'L': 21, 'M': 22, 'N': 23, 'O': 24, 'P': 25, 'Q': 26, 'R': 27, 'S': 28, 'T': 29, 'U': 30, 'V': 31, 'W': 32, 'X': 33, 'Y': 34, 'Z': 35, '!': 36, '\"': 37, '#': 38, '$': 39, '%': 40, '&': 41, \"'\": 42, '(': 43, ')': 44, '*': 45, '+': 46, ',': 47, '/': 48, ':': 49, ';': 50, '<': 51, '=': 52, '>': 53, '@': 54, '[': 55, '\\\\': 56, ']': 57, '^': 58, '_': 59, '{': 60, '|': 61, '}': 62, '~': 63}\n"
     ]
    },
    {
     "name": "stderr",
     "output_type": "stream",
     "text": [
      "100%|██████████████████████████████████████████████████████████████████████████████| 101/101 [00:00<00:00, 493.10it/s]\n"
     ]
    },
    {
     "name": "stdout",
     "output_type": "stream",
     "text": [
      "[0.01536237 0.01474811 0.05517937 0.00386812 0.03011048 0.01401215\n",
      " 0.00985139 0.00921395 0.05657015 0.03053641 0.00816506 0.00505029\n",
      " 0.02272773 0.0037725  0.00809842 0.01645472 0.01525517 0.00517198\n",
      " 0.02234237 0.00879381 0.01502337 0.01025703 0.0163649  0.00747547\n",
      " 0.00673661 0.05413338 0.01610992 0.0363806  0.01095822 0.00963118\n",
      " 0.0057225  0.01827143 0.01288793 0.02672334 0.00452584 0.0372904\n",
      " 0.0037696  0.00502131 0.00795355 0.01378615 0.00660043 0.00758267\n",
      " 0.01081625 0.02294504 0.01037293 0.00197028 0.03560408 0.00267146\n",
      " 0.05824489 0.00966305 0.00317273 0.00751024 0.00745229 0.01074671\n",
      " 0.00481559 0.00500103 0.01126246 0.03347444 0.00645266 0.01546089\n",
      " 0.019216   0.00917918 0.0191088  0.00636863]\n"
     ]
    },
    {
     "data": {
      "image/png": "[encoded data removed]",
      "text/plain": [
       "<Figure size 640x480 with 1 Axes>"
      ]
     },
     "metadata": {},
     "output_type": "display_data"
    }
   ],
   "source": [
    "#char frequences\n",
    "import numpy as np\n",
    "from matplotlib import pyplot as plt\n",
    "indices = { c:i for i,c in enumerate(inputchars) }\n",
    "\n",
    "print(indices)\n",
    "charfreqs = np.zeros((len(inputchars)))\n",
    "for fam in tqdm.tqdm(glob.glob(datadir +'afdbclusters/structfams/*/')):\n",
    "    fasta = fam + 'encoded.fasta'\n",
    "    with open( fasta , 'r') as f:\n",
    "        for l in f:\n",
    "            for c in l.strip():\n",
    "                charfreqs[indices[c]]+=1\n",
    "charfreqs = charfreqs / charfreqs.sum()\n",
    "print(charfreqs)\n",
    "plt.bar( range(len(inputchars)), charfreqs)\n",
    "\n",
    "#save the charfreqs\n",
    "with open( datadir + 'afdbclusters/charfreqs.pkl' , 'wb') as f:\n",
    "    pickle.dump( charfreqs , f)\n",
    "\n",
    "#save as text\n",
    "\n",
    "with open( datadir + 'afdbclusters/charfreqs.txt' , 'w') as f:\n",
    "    for i,c in enumerate(inputchars):\n",
    "        f.write( c + '\\t' + str(charfreqs[i]) + '\\n')\n"
   ]
  },
  {
   "cell_type": "code",
   "execution_count": null,
   "metadata": {},
   "outputs": [],
   "source": []
  }
 ],
 "metadata": {
  "kernelspec": {
   "display_name": "Python 3 (ipykernel)",
   "language": "python",
   "name": "python3"
  }
 },
 "nbformat": 4,
 "nbformat_minor": 2
}
