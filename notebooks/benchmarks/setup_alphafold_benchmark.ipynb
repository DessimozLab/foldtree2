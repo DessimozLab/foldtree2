{
 "cells": [
  {
   "cell_type": "code",
   "execution_count": null,
   "id": "b1db9e44",
   "metadata": {},
   "outputs": [],
   "source": [
    "\n",
    "# Setup AlphaFold Benchmark\n",
    "\n",
    "# 5 structural families\n",
    "\n",
    "# collect input sets with good tax range\n",
    "\n",
    "# use AA and foldtree 2 to reconstruct all internal nodes\n",
    "\n",
    "#alphafold the amino acid sequences inferred from both\n",
    "\n",
    "#recover plddt values for each ancestral reconstruction\n",
    "\n",
    "#plddt as a measure of confidence in the ancestral reconstruction overall\n",
    "\n",
    "#plddt ( mean, var , skew ) vs distance from root"
   ]
  },
  {
   "cell_type": "code",
   "execution_count": null,
   "id": "baae98ee",
   "metadata": {},
   "outputs": [],
   "source": [
    "import os\n"
   ]
  }
 ],
 "metadata": {
  "kernelspec": {
   "display_name": "Python 3 (ipykernel)",
   "language": "python",
   "name": "python3"
  }
 },
 "nbformat": 4,
 "nbformat_minor": 5
}
