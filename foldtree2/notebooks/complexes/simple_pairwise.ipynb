{
 "cells": [
  {
   "cell_type": "code",
   "execution_count": 1,
   "id": "9c96d27e",
   "metadata": {},
   "outputs": [
    {
     "name": "stdout",
     "output_type": "stream",
     "text": [
      "Intra2_neg_rr (26024, 2)\n",
      "Intra1_neg_rr (81596, 2)\n",
      "Intra2_pos_rr (26024, 2)\n",
      "Intra0_pos_rr (29630, 2)\n",
      "Intra0_neg_rr (29630, 2)\n",
      "Intra1_pos_rr (81596, 2)\n",
      "Number of unique proteins: 11019\n"
     ]
    }
   ],
   "source": [
    "#choose model \n",
    "import glob\n",
    "import pandas as pd\n",
    "datadir = '/home/dmoi/datasets/PPI_antileakage/'\n",
    "pairs = glob.glob(f'{datadir}*.txt')\n",
    "dfs = { p.split('/')[-1].split('.txt')[0]: pd.read_csv(p, sep = ' ', header=None, names=['protA', 'protB']) for p in pairs if 'filtered' not in p }\n",
    "for k in dfs.keys():\n",
    "\tprint(k, dfs[k].shape)\n",
    "#compile non-redundant set of proteins\n",
    "proteins = set()\n",
    "for k in dfs.keys():\n",
    "\tproteins = proteins.union( set(dfs[k]['protA'].tolist()) ).union( set(dfs[k]['protB'].tolist()) )\n",
    "print(f'Number of unique proteins: {len(proteins)}')\n"
   ]
  },
  {
   "cell_type": "code",
   "execution_count": 2,
   "id": "c9b7e1be",
   "metadata": {},
   "outputs": [],
   "source": [
    "\n",
    "#create a struct folder\n",
    "folder = '/home/dmoi/datasets/PPI_antileakage/structures/'\n",
    "import os\n",
    "if not os.path.exists(folder):\n",
    "\tos.mkdir(folder)\n",
    "\n",
    "download_structures = False\n",
    "if download_structures:\n",
    "\t#download structures\n",
    "\tfrom foldtree2.src import AFDB_tools\n",
    "\timport tqdm\n",
    "\tfor struct in tqdm.tqdm(proteins):\n",
    "\t\tAFDB_tools.grab_struct( struct, folder )\n",
    "\n",
    "#encode structures\n",
    "\n",
    "#transformer to weighted set\n",
    "\n",
    "#weighted jacccard pairise\n",
    "\n"
   ]
  },
  {
   "cell_type": "code",
   "execution_count": 3,
   "id": "964fb9e4",
   "metadata": {},
   "outputs": [
    {
     "name": "stdout",
     "output_type": "stream",
     "text": [
      "Checking downloaded structures...\n",
      "Number of unique proteins to check: 11019\n",
      "Number of downloaded structures: 10851\n",
      "Number of structures with PDB files: 10851\n",
      "Filtering Intra2_neg_rr with 10851 proteins...\n",
      "Intra2_neg_rr (26024, 2)\n",
      "Intra2_neg_rr (25564, 2)\n",
      "Filtering Intra1_neg_rr with 10851 proteins...\n",
      "Intra1_neg_rr (81596, 2)\n",
      "Intra1_neg_rr (77714, 2)\n",
      "Filtering Intra2_pos_rr with 10851 proteins...\n",
      "Intra2_pos_rr (26024, 2)\n",
      "Intra2_pos_rr (25566, 2)\n",
      "Filtering Intra0_pos_rr with 10851 proteins...\n",
      "Intra0_pos_rr (29630, 2)\n",
      "Intra0_pos_rr (29017, 2)\n",
      "Filtering Intra0_neg_rr with 10851 proteins...\n",
      "Intra0_neg_rr (29630, 2)\n",
      "Intra0_neg_rr (28995, 2)\n",
      "Filtering Intra1_pos_rr with 10851 proteins...\n",
      "Intra1_pos_rr (81596, 2)\n",
      "Intra1_pos_rr (77719, 2)\n"
     ]
    }
   ],
   "source": [
    "#check which structures were downloaded\n",
    "print('Checking downloaded structures...')\n",
    "#clear filtered csv files\n",
    "filtered = glob.glob(f'{datadir}*_filtered.txt')\n",
    "for f in filtered:\n",
    "\tos.remove(f)\n",
    "#recompile non-redundant set of proteins\n",
    "print( f'Number of unique proteins to check: {len(proteins)}' )\n",
    "downloaded = glob.glob(f'{folder}*.pdb')\n",
    "downloaded = [ d.split('/')[-1].split('.pdb')[0] for d in downloaded ]\n",
    "print(f'Number of downloaded structures: {len(downloaded)}')\n",
    "#intersect with proteins\n",
    "proteins = proteins.intersection( set(downloaded) )\n",
    "print(f'Number of structures with PDB files: {len(proteins)}')\n",
    "#filter dfs\n",
    "for k in dfs.keys():\n",
    "\tprint( f'Filtering {k} with {len(proteins)} proteins...' )\n",
    "\tprint( k, dfs[k].shape )\n",
    "\tdfs[k] = dfs[k][ dfs[k]['protA'].isin(proteins) & dfs[k]['protB'].isin(proteins) ]\n",
    "\tprint(k, dfs[k].shape)\n",
    "\t#add label column\n",
    "\tif 'neg' in k:\n",
    "\t\tdfs[k]['label'] = 0\n",
    "\telse:\n",
    "\t\tdfs[k]['label'] = 1\n",
    "\t#add dataset label\n",
    "\tdfs[k]['dataset'] = k.split('_')[0]\n",
    "\t\n",
    "\t#save filtered dfs\n",
    "\tdfs[k].to_csv(f'{datadir}{k}_filtered.txt', sep=' ', header=False, index=False)\n",
    "\n",
    "#concatenate all filtered dfs\n",
    "all_pairs = pd.concat( [ dfs[k] for k in dfs.keys() ] )\n",
    "all_pairs = all_pairs.drop_duplicates().reset_index(drop=True)\n"
   ]
  },
  {
   "cell_type": "code",
   "execution_count": 4,
   "id": "cb0bdf68",
   "metadata": {},
   "outputs": [
    {
     "name": "stdout",
     "output_type": "stream",
     "text": [
      "label\n",
      "1    132302\n",
      "0    132273\n",
      "Name: count, dtype: int64\n",
      "dataset\n",
      "Intra1    155433\n",
      "Intra0     58012\n",
      "Intra2     51130\n",
      "Name: count, dtype: int64\n",
      "label\n",
      "0    14590\n",
      "1    14416\n",
      "Name: count, dtype: int64\n",
      "label\n",
      "1    39051\n",
      "0    38665\n",
      "Name: count, dtype: int64\n",
      "label\n",
      "1    12795\n",
      "0    12770\n",
      "Name: count, dtype: int64\n"
     ]
    }
   ],
   "source": [
    "print( all_pairs['label'].value_counts() )\n",
    "print( all_pairs['dataset'].value_counts() )\n",
    "\n",
    "valdf = all_pairs[all_pairs['dataset'] == 'Intra0'].sample(frac=0.5).reset_index(drop=True)\n",
    "traindf = all_pairs[all_pairs['dataset'] == 'Intra1'].sample(frac=0.5).reset_index(drop=True)\n",
    "testdf = all_pairs[all_pairs['dataset'] == 'Intra2'].sample(frac=0.5).reset_index(drop=True)\n",
    "print( valdf['label'].value_counts() )\n",
    "print( traindf['label'].value_counts() )\n",
    "print( testdf['label'].value_counts() )"
   ]
  },
  {
   "cell_type": "code",
   "execution_count": 5,
   "id": "fb6ca604",
   "metadata": {},
   "outputs": [
    {
     "name": "stdout",
     "output_type": "stream",
     "text": [
      "/home/dmoi/projects/foldtree2/foldtree2\n"
     ]
    }
   ],
   "source": [
    "cd /home/dmoi/projects/foldtree2/foldtree2"
   ]
  },
  {
   "cell_type": "code",
   "execution_count": 6,
   "id": "ebe2837f",
   "metadata": {},
   "outputs": [],
   "source": [
    "from torch_geometric.data import DataLoader\n",
    "from foldtree2.src.pdbgraph import PDB2PyG\n",
    "converter_structures = False\n",
    "if converter_structures == True:\n",
    "\tconverter = PDB2PyG( aapropcsv='./config/aaindex1.csv')\n",
    "\tdownloaded = glob.glob(f'{folder}*.pdb')\n",
    "\t#converter.store_pyg(downloaded, filename='structs_pairwise.h5', foldxdir = None, verbose = False)"
   ]
  },
  {
   "cell_type": "code",
   "execution_count": 7,
   "id": "8808c01b",
   "metadata": {},
   "outputs": [],
   "source": [
    "from foldtree2.src.pdbgraph import StructureDataset\n",
    "import torch\n",
    "\n",
    "# Create StructureDataset from the stored PyG file\n",
    "struct_dat = StructureDataset('structs_pairwise.h5')\n"
   ]
  },
  {
   "cell_type": "code",
   "execution_count": 8,
   "id": "d03989ec",
   "metadata": {},
   "outputs": [],
   "source": [
    "\n",
    "# Create a custom loader that yields pairs of encoded structures\n",
    "class PairwiseStructureLoader:\n",
    "\tdef __init__(self, struct_dataset, pairs_df):\n",
    "\t\tself.struct_dataset = struct_dataset\n",
    "\t\tself.pairs_df = pairs_df\n",
    "\t\t# Create mapping from protein ID to dataset index\n",
    "\t\tself.prot_to_idx = {prot_id: idx for idx, prot_id in enumerate(struct_dataset.structlist)}\n",
    "\t\n",
    "\tdef __getitem__(self, idx):\n",
    "\t\trow = self.pairs_df.iloc[idx]\n",
    "\t\tprot_a, prot_b = row['protA'], row['protB']\n",
    "\t\tif prot_a in self.prot_to_idx and prot_b in self.prot_to_idx:\n",
    "\t\t\tstruct_a = self.struct_dataset[self.prot_to_idx[prot_a]]\n",
    "\t\t\tstruct_b = self.struct_dataset[self.prot_to_idx[prot_b]]\n",
    "\t\t\ty = torch.tensor( row['label'] ) if 'label' in row else None\n",
    "\t\t\treturn { 'struct_a': struct_a, 'struct_b': struct_b, 'label': y }\n",
    "\t\telse:\n",
    "\t\t\traise IndexError(\"Protein ID not found in structure dataset.\")\n",
    "\n",
    "\tdef __iter__(self):\n",
    "\t\tfor _, row in self.pairs_df.iterrows():\n",
    "\t\t\tprot_a, prot_b = row['protA'], row['protB']\n",
    "\t\t\tif prot_a in self.prot_to_idx and prot_b in self.prot_to_idx:\n",
    "\t\t\t\tstruct_a = self.struct_dataset[self.prot_to_idx[prot_a]]\n",
    "\t\t\t\tstruct_b = self.struct_dataset[self.prot_to_idx[prot_b]]\n",
    "\t\t\t\ty = torch.tensor( row['label'] ) if 'label' in row else None\n",
    "\t\t\t\tyield { 'struct_a': struct_a, 'struct_b': struct_b, 'label': y }\n",
    "\n",
    "\tdef __len__(self):\n",
    "\t\treturn len(self.pairs_df)\n"
   ]
  },
  {
   "cell_type": "code",
   "execution_count": 9,
   "id": "c03fde55",
   "metadata": {},
   "outputs": [
    {
     "name": "stdout",
     "output_type": "stream",
     "text": [
      "Pairwise structure loaders created for:\n",
      "  train: 77716 pairs\n",
      "  Dataloader created with 3886 batches\n",
      "{'dataset': <__main__.PairwiseStructureLoader object at 0x7f7bed207800>, 'dataloader': <torch_geometric.deprecation.DataLoader object at 0x7f7bed351a30>}\n",
      "Pairwise structure loaders created for:\n",
      "  valid: 29006 pairs\n",
      "  Dataloader created with 1451 batches\n",
      "{'dataset': <__main__.PairwiseStructureLoader object at 0x7f7d25b4dbb0>, 'dataloader': <torch_geometric.deprecation.DataLoader object at 0x7f7bed6956d0>}\n",
      "Pairwise structure loaders created for:\n",
      "  test: 25565 pairs\n",
      "  Dataloader created with 1279 batches\n",
      "{'dataset': <__main__.PairwiseStructureLoader object at 0x7f7bee2f6660>, 'dataloader': <torch_geometric.deprecation.DataLoader object at 0x7f7bee0b6060>}\n"
     ]
    },
    {
     "name": "stderr",
     "output_type": "stream",
     "text": [
      "/home/dmoi/miniforge3/envs/pyg/lib/python3.12/site-packages/torch_geometric/deprecation.py:26: UserWarning: 'data.DataLoader' is deprecated, use 'loader.DataLoader' instead\n",
      "  warnings.warn(out)\n"
     ]
    }
   ],
   "source": [
    "\n",
    "\n",
    "batch_size = 20\n",
    "# Create loaders for each dataset split\n",
    "pairwise_loaders = {}\n",
    "for split_name, split_dfs in [('train', traindf), ('valid', valdf), ('test', testdf)]:\n",
    "\tpairwise_loaders[split_name] = {}\n",
    "\tpairwise_loaders[split_name]['dataset'] = PairwiseStructureLoader(struct_dat, split_dfs)\n",
    "\tprint(\"Pairwise structure loaders created for:\")\n",
    "\tprint(f\"  {split_name}: {len(split_dfs)} pairs\")\n",
    "\t#create dataloaders\n",
    "\tpairwise_loaders[split_name]['dataloader'] = DataLoader(pairwise_loaders[split_name]['dataset'], batch_size=batch_size, shuffle=(split_name=='train'), num_workers=4)\n",
    "\tprint(f\"  Dataloader created with {len(pairwise_loaders[split_name]['dataloader'])} batches\")\n",
    "\tprint( pairwise_loaders[split_name] )\n",
    "\t\n",
    "\t\n"
   ]
  },
  {
   "cell_type": "code",
   "execution_count": 10,
   "id": "48eeea0e",
   "metadata": {},
   "outputs": [
    {
     "name": "stdout",
     "output_type": "stream",
     "text": [
      "{'struct_a': HeteroDataBatch(\n",
      "  identifier=[20],\n",
      "  AA={\n",
      "    x=[16775, 20],\n",
      "    batch=[16775],\n",
      "    ptr=[21],\n",
      "  },\n",
      "  R_true={\n",
      "    x=[16775, 3, 3],\n",
      "    batch=[16775],\n",
      "    ptr=[21],\n",
      "  },\n",
      "  bondangles={\n",
      "    x=[16775, 3],\n",
      "    batch=[16775],\n",
      "    ptr=[21],\n",
      "  },\n",
      "  coords={\n",
      "    x=[16775, 3],\n",
      "    batch=[16775],\n",
      "    ptr=[21],\n",
      "  },\n",
      "  fourier1di={\n",
      "    x=[16775, 80],\n",
      "    batch=[16775],\n",
      "    ptr=[21],\n",
      "  },\n",
      "  fourier1dr={\n",
      "    x=[16775, 80],\n",
      "    batch=[16775],\n",
      "    ptr=[21],\n",
      "  },\n",
      "  fourier2di={\n",
      "    x=[20, 1300],\n",
      "    batch=[20],\n",
      "    ptr=[21],\n",
      "  },\n",
      "  fourier2dr={\n",
      "    x=[20, 1300],\n",
      "    batch=[20],\n",
      "    ptr=[21],\n",
      "  },\n",
      "  godnode={\n",
      "    x=[20, 5],\n",
      "    batch=[20],\n",
      "    ptr=[21],\n",
      "  },\n",
      "  godnode4decoder={\n",
      "    x=[20, 5],\n",
      "    batch=[20],\n",
      "    ptr=[21],\n",
      "  },\n",
      "  plddt={\n",
      "    x=[16775, 1],\n",
      "    batch=[16775],\n",
      "    ptr=[21],\n",
      "  },\n",
      "  positions={\n",
      "    x=[16775, 256],\n",
      "    batch=[16775],\n",
      "    ptr=[21],\n",
      "  },\n",
      "  res={\n",
      "    x=[16775, 857],\n",
      "    batch=[16775],\n",
      "    ptr=[21],\n",
      "  },\n",
      "  t_true={\n",
      "    x=[16775, 3],\n",
      "    batch=[16775],\n",
      "    ptr=[21],\n",
      "  },\n",
      "  (godnode4decoder, informs, res)={ edge_index=[2, 16775] },\n",
      "  (godnode, informs, res)={ edge_index=[2, 16775] },\n",
      "  (res, backbone, res)={\n",
      "    edge_index=[2, 33530],\n",
      "    edge_attr=[16755],\n",
      "  },\n",
      "  (res, backbonerev, res)={\n",
      "    edge_index=[2, 33530],\n",
      "    edge_attr=[16755],\n",
      "  },\n",
      "  (res, contactPoints, res)={\n",
      "    edge_index=[2, 136946],\n",
      "    edge_attr=[136946],\n",
      "  },\n",
      "  (res, hbond, res)={\n",
      "    edge_index=[2, 18022],\n",
      "    edge_attr=[18022],\n",
      "  },\n",
      "  (res, informs, godnode)={ edge_index=[2, 16775] },\n",
      "  (res, informs, godnode4decoder)={ edge_index=[2, 16775] },\n",
      "  (res, window, res)={\n",
      "    edge_index=[2, 33470],\n",
      "    edge_attr=[33470],\n",
      "  },\n",
      "  (res, windowrev, res)={\n",
      "    edge_index=[2, 16755],\n",
      "    edge_attr=[16755],\n",
      "  }\n",
      "), 'struct_b': HeteroDataBatch(\n",
      "  identifier=[20],\n",
      "  AA={\n",
      "    x=[19482, 20],\n",
      "    batch=[19482],\n",
      "    ptr=[21],\n",
      "  },\n",
      "  R_true={\n",
      "    x=[19482, 3, 3],\n",
      "    batch=[19482],\n",
      "    ptr=[21],\n",
      "  },\n",
      "  bondangles={\n",
      "    x=[19482, 3],\n",
      "    batch=[19482],\n",
      "    ptr=[21],\n",
      "  },\n",
      "  coords={\n",
      "    x=[19482, 3],\n",
      "    batch=[19482],\n",
      "    ptr=[21],\n",
      "  },\n",
      "  fourier1di={\n",
      "    x=[19482, 80],\n",
      "    batch=[19482],\n",
      "    ptr=[21],\n",
      "  },\n",
      "  fourier1dr={\n",
      "    x=[19482, 80],\n",
      "    batch=[19482],\n",
      "    ptr=[21],\n",
      "  },\n",
      "  fourier2di={\n",
      "    x=[20, 1300],\n",
      "    batch=[20],\n",
      "    ptr=[21],\n",
      "  },\n",
      "  fourier2dr={\n",
      "    x=[20, 1300],\n",
      "    batch=[20],\n",
      "    ptr=[21],\n",
      "  },\n",
      "  godnode={\n",
      "    x=[20, 5],\n",
      "    batch=[20],\n",
      "    ptr=[21],\n",
      "  },\n",
      "  godnode4decoder={\n",
      "    x=[20, 5],\n",
      "    batch=[20],\n",
      "    ptr=[21],\n",
      "  },\n",
      "  plddt={\n",
      "    x=[19482, 1],\n",
      "    batch=[19482],\n",
      "    ptr=[21],\n",
      "  },\n",
      "  positions={\n",
      "    x=[19482, 256],\n",
      "    batch=[19482],\n",
      "    ptr=[21],\n",
      "  },\n",
      "  res={\n",
      "    x=[19482, 857],\n",
      "    batch=[19482],\n",
      "    ptr=[21],\n",
      "  },\n",
      "  t_true={\n",
      "    x=[19482, 3],\n",
      "    batch=[19482],\n",
      "    ptr=[21],\n",
      "  },\n",
      "  (godnode4decoder, informs, res)={ edge_index=[2, 19482] },\n",
      "  (godnode, informs, res)={ edge_index=[2, 19482] },\n",
      "  (res, backbone, res)={\n",
      "    edge_index=[2, 38944],\n",
      "    edge_attr=[19462],\n",
      "  },\n",
      "  (res, backbonerev, res)={\n",
      "    edge_index=[2, 38944],\n",
      "    edge_attr=[19462],\n",
      "  },\n",
      "  (res, contactPoints, res)={\n",
      "    edge_index=[2, 148614],\n",
      "    edge_attr=[148614],\n",
      "  },\n",
      "  (res, hbond, res)={\n",
      "    edge_index=[2, 20032],\n",
      "    edge_attr=[20032],\n",
      "  },\n",
      "  (res, informs, godnode)={ edge_index=[2, 19482] },\n",
      "  (res, informs, godnode4decoder)={ edge_index=[2, 19482] },\n",
      "  (res, window, res)={\n",
      "    edge_index=[2, 38884],\n",
      "    edge_attr=[38884],\n",
      "  },\n",
      "  (res, windowrev, res)={\n",
      "    edge_index=[2, 19462],\n",
      "    edge_attr=[19462],\n",
      "  }\n",
      "), 'label': tensor([0, 0, 1, 1, 0, 1, 0, 0, 0, 0, 0, 0, 1, 0, 0, 0, 1, 0, 1, 1])}\n"
     ]
    }
   ],
   "source": [
    "#print a sample from the pairwise loader\n",
    "for sample in pairwise_loaders['train']['dataloader']:\n",
    "\tprint(sample)\n",
    "\tbreak"
   ]
  },
  {
   "cell_type": "code",
   "execution_count": 11,
   "id": "efe15af3",
   "metadata": {},
   "outputs": [
    {
     "name": "stdout",
     "output_type": "stream",
     "text": [
      "mk1_Encoder(\n",
      "  (convs): ModuleList(\n",
      "    (0): ModuleDict(\n",
      "      (res_contactPoints_res): TransformerConv(200, 200, heads=8)\n",
      "    )\n",
      "  )\n",
      "  (norms): ModuleList(\n",
      "    (0): GraphNorm(200)\n",
      "  )\n",
      "  (bn): BatchNorm1d(857, eps=1e-05, momentum=0.1, affine=True, track_running_stats=True)\n",
      "  (dropout): Dropout(p=0.01, inplace=False)\n",
      "  (jk): JumpingKnowledge(cat)\n",
      "  (ffin): Sequential(\n",
      "    (0): Linear(in_features=1017, out_features=400, bias=True)\n",
      "    (1): GELU(approximate='none')\n",
      "    (2): Linear(in_features=400, out_features=200, bias=True)\n",
      "    (3): GELU(approximate='none')\n",
      "  )\n",
      "  (lin): Sequential(\n",
      "    (0): Linear(in_features=200, out_features=200, bias=True)\n",
      "    (1): GELU(approximate='none')\n",
      "    (2): Linear(in_features=200, out_features=200, bias=True)\n",
      "    (3): GELU(approximate='none')\n",
      "  )\n",
      "  (out_dense): Sequential(\n",
      "    (0): Linear(in_features=220, out_features=200, bias=True)\n",
      "    (1): GELU(approximate='none')\n",
      "    (2): Linear(in_features=200, out_features=200, bias=True)\n",
      "    (3): GELU(approximate='none')\n",
      "    (4): Linear(in_features=200, out_features=128, bias=True)\n",
      "    (5): Tanh()\n",
      "  )\n",
      "  (vector_quantizer): VectorQuantizerEMA(\n",
      "    (embeddings): Embedding(40, 128)\n",
      "  )\n",
      ")\n",
      "MultiMonoDecoder(\n",
      "  (decoders): ModuleDict(\n",
      "    (sequence_transformer): Transformer_AA_Decoder(\n",
      "      (input_proj): Sequential(\n",
      "        (0): Dropout(p=0.005, inplace=False)\n",
      "        (1): Linear(in_features=384, out_features=400, bias=True)\n",
      "        (2): GELU(approximate='none')\n",
      "        (3): Linear(in_features=400, out_features=400, bias=True)\n",
      "        (4): Tanh()\n",
      "      )\n",
      "      (transformer_encoder): TransformerEncoder(\n",
      "        (layers): ModuleList(\n",
      "          (0-1): 2 x TransformerEncoderLayer(\n",
      "            (self_attn): MultiheadAttention(\n",
      "              (out_proj): NonDynamicallyQuantizableLinear(in_features=400, out_features=400, bias=True)\n",
      "            )\n",
      "            (linear1): Linear(in_features=400, out_features=2048, bias=True)\n",
      "            (dropout): Dropout(p=0.005, inplace=False)\n",
      "            (linear2): Linear(in_features=2048, out_features=400, bias=True)\n",
      "            (norm1): LayerNorm((400,), eps=1e-05, elementwise_affine=True)\n",
      "            (norm2): LayerNorm((400,), eps=1e-05, elementwise_affine=True)\n",
      "            (dropout1): Dropout(p=0.005, inplace=False)\n",
      "            (dropout2): Dropout(p=0.005, inplace=False)\n",
      "          )\n",
      "        )\n",
      "      )\n",
      "      (lin): Sequential(\n",
      "        (0): Linear(in_features=400, out_features=200, bias=True)\n",
      "        (1): GELU(approximate='none')\n",
      "        (2): Linear(in_features=200, out_features=200, bias=True)\n",
      "        (3): GELU(approximate='none')\n",
      "        (4): Linear(in_features=200, out_features=100, bias=True)\n",
      "        (5): LogSoftmax(dim=1)\n",
      "      )\n",
      "    )\n",
      "    (contacts): HeteroGAE_geo_Decoder(\n",
      "      (bn): BatchNorm1d(128, eps=1e-05, momentum=0.1, affine=True, track_running_stats=True)\n",
      "      (convs): ModuleList(\n",
      "        (0-3): 4 x HeteroConv(num_relations=4)\n",
      "      )\n",
      "      (norms): ModuleList(\n",
      "        (0-3): 4 x GraphNorm(200)\n",
      "      )\n",
      "      (dropout): Dropout(p=0.005, inplace=False)\n",
      "      (jk): JumpingKnowledge(cat)\n",
      "      (sigmoid): Sigmoid()\n",
      "      (lin): Sequential(\n",
      "        (0): Dropout(p=0.005, inplace=False)\n",
      "        (1): DynamicTanh(normalized_shape=800, alpha_init_value=0.5, channels_last=True)\n",
      "        (2): Linear(in_features=800, out_features=200, bias=True)\n",
      "        (3): GELU(approximate='none')\n",
      "        (4): Linear(in_features=200, out_features=200, bias=True)\n",
      "        (5): GELU(approximate='none')\n",
      "        (6): Linear(in_features=200, out_features=200, bias=True)\n",
      "      )\n",
      "      (in2model): Sequential(\n",
      "        (0): Linear(in_features=384, out_features=200, bias=True)\n",
      "        (1): GELU(approximate='none')\n",
      "        (2): Linear(in_features=200, out_features=200, bias=True)\n",
      "        (3): Tanh()\n",
      "      )\n",
      "      (edge_logits_mlp): Sequential(\n",
      "        (0): Linear(in_features=400, out_features=512, bias=True)\n",
      "        (1): GELU(approximate='none')\n",
      "        (2): Linear(in_features=512, out_features=512, bias=True)\n",
      "        (3): GELU(approximate='none')\n",
      "        (4): Linear(in_features=512, out_features=256, bias=True)\n",
      "        (5): GELU(approximate='none')\n",
      "        (6): Linear(in_features=256, out_features=256, bias=True)\n",
      "        (7): GELU(approximate='none')\n",
      "        (8): Linear(in_features=256, out_features=16, bias=True)\n",
      "        (9): Sigmoid()\n",
      "      )\n",
      "    )\n",
      "  )\n",
      ")\n"
     ]
    }
   ],
   "source": [
    "#load encoder model\n",
    "import torch\n",
    "import copy\n",
    "from foldtree2.src import mono_decoders\n",
    "from foldtree2.src import foldtree2_ecddcd\n",
    "\n",
    "encoder_modelpath = '/home/dmoi/projects/foldtree2/models/encoder_epoch_90.pt'\n",
    "decoder_modelpath = '/home/dmoi/projects/foldtree2/models/decoder_epoch_90.pt'\n",
    "encoder_model = torch.load(encoder_modelpath ,map_location=torch.device('cpu'), weights_only=False)\n",
    "decoder_model = torch.load(decoder_modelpath ,map_location=torch.device('cpu'), weights_only=False)\n",
    "print(encoder_model)\n",
    "print(decoder_model)\n",
    "modelname = encoder_modelpath.split('/')[-1].split('.pt')[0]\n",
    "device = torch.device('cuda:1' if torch.cuda.is_available() else 'cpu')\n",
    "encoder_model = encoder_model.to(device)\n",
    "decoder_model = decoder_model.to(device)\n",
    "encoder_model.eval()\n",
    "decoder_model.eval()\n",
    "model_embeddings = copy.deepcopy(encoder_model.vector_quantizer.embeddings).cpu()"
   ]
  },
  {
   "cell_type": "code",
   "execution_count": 12,
   "id": "7083f2c9",
   "metadata": {},
   "outputs": [
    {
     "name": "stdout",
     "output_type": "stream",
     "text": [
      "tensor([[ 0.9910, -1.0000, -0.9978,  ..., -0.9973, -1.0000,  0.9987],\n",
      "        [ 0.9910, -1.0000, -0.9978,  ..., -0.9973, -1.0000,  0.9987],\n",
      "        [ 0.7341,  0.8710, -0.8346,  ..., -0.4764,  0.7823, -0.9056],\n",
      "        ...,\n",
      "        [ 0.9586,  0.3149, -0.9772,  ..., -0.9296, -0.3285, -0.9295],\n",
      "        [-0.9800, -1.0000,  0.9672,  ...,  0.9286, -1.0000,  0.9999],\n",
      "        [ 0.9178,  0.1105, -0.9566,  ..., -0.9012, -0.4044, -0.7979]],\n",
      "       device='cuda:1', grad_fn=<AddBackward0>) tensor([[ 0.9910, -1.0000, -0.9978,  ..., -0.9973, -1.0000,  0.9987],\n",
      "        [ 0.9910, -1.0000, -0.9978,  ..., -0.9973, -1.0000,  0.9987],\n",
      "        [ 0.2297, -1.0000, -0.5692,  ..., -0.8838, -1.0000,  1.0000],\n",
      "        ...,\n",
      "        [ 0.9586,  0.3149, -0.9772,  ..., -0.9296, -0.3285, -0.9295],\n",
      "        [-0.2169,  0.7501,  0.0982,  ...,  0.7878,  0.6859, -0.7125],\n",
      "        [-0.9878, -0.9379,  0.9865,  ...,  0.9971, -0.9260,  0.8761]],\n",
      "       device='cuda:1', grad_fn=<AddBackward0>)\n",
      "tensor([27, 27,  4,  ...,  1, 16, 28], device='cuda:1') tensor([27, 27, 20,  ...,  1, 24, 32], device='cuda:1')\n",
      "tensor([[ 0.9910, -1.0000, -0.9978,  ..., -0.9973, -1.0000,  0.9987],\n",
      "        [ 0.9910, -1.0000, -0.9978,  ..., -0.9973, -1.0000,  0.9987],\n",
      "        [ 0.7341,  0.8710, -0.8346,  ..., -0.4764,  0.7823, -0.9056],\n",
      "        ...,\n",
      "        [ 0.9586,  0.3149, -0.9772,  ..., -0.9296, -0.3285, -0.9295],\n",
      "        [-0.9800, -1.0000,  0.9672,  ...,  0.9286, -1.0000,  0.9999],\n",
      "        [ 0.9178,  0.1105, -0.9566,  ..., -0.9012, -0.4044, -0.7979]],\n",
      "       device='cuda:1', grad_fn=<EmbeddingBackward0>) tensor([[ 0.9910, -1.0000, -0.9978,  ..., -0.9973, -1.0000,  0.9987],\n",
      "        [ 0.9910, -1.0000, -0.9978,  ..., -0.9973, -1.0000,  0.9987],\n",
      "        [ 0.2297, -1.0000, -0.5692,  ..., -0.8838, -1.0000,  1.0000],\n",
      "        ...,\n",
      "        [ 0.9586,  0.3149, -0.9772,  ..., -0.9296, -0.3285, -0.9295],\n",
      "        [-0.2169,  0.7501,  0.0982,  ...,  0.7878,  0.6859, -0.7125],\n",
      "        [-0.9878, -0.9379,  0.9865,  ...,  0.9971, -0.9260,  0.8761]],\n",
      "       device='cuda:1', grad_fn=<EmbeddingBackward0>)\n"
     ]
    }
   ],
   "source": [
    "#use the encoder to transform the structures to ords \n",
    "\n",
    "\n",
    "z1, _  = encoder_model.forward( sample['struct_a'].to(device) )\n",
    "z2, _  = encoder_model.forward( sample['struct_b'].to(device) )\n",
    "print( z1, z2 )\n",
    "#discretize\n",
    "z1_q , _ = encoder_model.vector_quantizer.discretize_z( z1 )\n",
    "z2_q , _ = encoder_model.vector_quantizer.discretize_z( z2 )\n",
    "#embeddings \n",
    "print( z1_q , z2_q )\n",
    "z1_e = encoder_model.vector_quantizer.embeddings(z1_q)\n",
    "z2_e = encoder_model.vector_quantizer.embeddings(z2_q)\n",
    "print( z1_e, z2_e )"
   ]
  },
  {
   "cell_type": "code",
   "execution_count": 13,
   "id": "16ab6cf9",
   "metadata": {},
   "outputs": [],
   "source": [
    "#autoreload\n",
    "%load_ext autoreload\n",
    "%autoreload 2"
   ]
  },
  {
   "cell_type": "code",
   "execution_count": 14,
   "id": "4306b31b",
   "metadata": {},
   "outputs": [
    {
     "name": "stderr",
     "output_type": "stream",
     "text": [
      "Seed set to 42\n",
      "/home/dmoi/miniforge3/envs/pyg/lib/python3.12/site-packages/torch/nn/modules/transformer.py:382: UserWarning: enable_nested_tensor is True, but self.use_nested_tensor is False because encoder_layer.self_attn.batch_first was not True(use batch_first for better inference performance)\n",
      "  warnings.warn(\n"
     ]
    },
    {
     "data": {
      "text/plain": [
       "signature_transformer(\n",
       "  (encoder): mk1_Encoder(\n",
       "    (convs): ModuleList(\n",
       "      (0): ModuleDict(\n",
       "        (res_contactPoints_res): TransformerConv(200, 200, heads=8)\n",
       "      )\n",
       "    )\n",
       "    (norms): ModuleList(\n",
       "      (0): GraphNorm(200)\n",
       "    )\n",
       "    (bn): BatchNorm1d(857, eps=1e-05, momentum=0.1, affine=True, track_running_stats=True)\n",
       "    (dropout): Dropout(p=0.01, inplace=False)\n",
       "    (jk): JumpingKnowledge(cat)\n",
       "    (ffin): Sequential(\n",
       "      (0): Linear(in_features=1017, out_features=400, bias=True)\n",
       "      (1): GELU(approximate='none')\n",
       "      (2): Linear(in_features=400, out_features=200, bias=True)\n",
       "      (3): GELU(approximate='none')\n",
       "    )\n",
       "    (lin): Sequential(\n",
       "      (0): Linear(in_features=200, out_features=200, bias=True)\n",
       "      (1): GELU(approximate='none')\n",
       "      (2): Linear(in_features=200, out_features=200, bias=True)\n",
       "      (3): GELU(approximate='none')\n",
       "    )\n",
       "    (out_dense): Sequential(\n",
       "      (0): Linear(in_features=220, out_features=200, bias=True)\n",
       "      (1): GELU(approximate='none')\n",
       "      (2): Linear(in_features=200, out_features=200, bias=True)\n",
       "      (3): GELU(approximate='none')\n",
       "      (4): Linear(in_features=200, out_features=128, bias=True)\n",
       "      (5): Tanh()\n",
       "    )\n",
       "    (vector_quantizer): VectorQuantizerEMA(\n",
       "      (embeddings): Embedding(40, 128)\n",
       "    )\n",
       "  )\n",
       "  (decoder): MultiMonoDecoder(\n",
       "    (decoders): ModuleDict(\n",
       "      (sequence_transformer): Transformer_AA_Decoder(\n",
       "        (input_proj): Sequential(\n",
       "          (0): Dropout(p=0.005, inplace=False)\n",
       "          (1): Linear(in_features=384, out_features=400, bias=True)\n",
       "          (2): GELU(approximate='none')\n",
       "          (3): Linear(in_features=400, out_features=400, bias=True)\n",
       "          (4): Tanh()\n",
       "        )\n",
       "        (transformer_encoder): TransformerEncoder(\n",
       "          (layers): ModuleList(\n",
       "            (0-1): 2 x TransformerEncoderLayer(\n",
       "              (self_attn): MultiheadAttention(\n",
       "                (out_proj): NonDynamicallyQuantizableLinear(in_features=400, out_features=400, bias=True)\n",
       "              )\n",
       "              (linear1): Linear(in_features=400, out_features=2048, bias=True)\n",
       "              (dropout): Dropout(p=0.005, inplace=False)\n",
       "              (linear2): Linear(in_features=2048, out_features=400, bias=True)\n",
       "              (norm1): LayerNorm((400,), eps=1e-05, elementwise_affine=True)\n",
       "              (norm2): LayerNorm((400,), eps=1e-05, elementwise_affine=True)\n",
       "              (dropout1): Dropout(p=0.005, inplace=False)\n",
       "              (dropout2): Dropout(p=0.005, inplace=False)\n",
       "            )\n",
       "          )\n",
       "        )\n",
       "        (lin): Sequential(\n",
       "          (0): Linear(in_features=400, out_features=200, bias=True)\n",
       "          (1): GELU(approximate='none')\n",
       "          (2): Linear(in_features=200, out_features=200, bias=True)\n",
       "          (3): GELU(approximate='none')\n",
       "          (4): Linear(in_features=200, out_features=100, bias=True)\n",
       "          (5): LogSoftmax(dim=1)\n",
       "        )\n",
       "      )\n",
       "      (contacts): HeteroGAE_geo_Decoder(\n",
       "        (bn): BatchNorm1d(128, eps=1e-05, momentum=0.1, affine=True, track_running_stats=True)\n",
       "        (convs): ModuleList(\n",
       "          (0-3): 4 x HeteroConv(num_relations=4)\n",
       "        )\n",
       "        (norms): ModuleList(\n",
       "          (0-3): 4 x GraphNorm(200)\n",
       "        )\n",
       "        (dropout): Dropout(p=0.005, inplace=False)\n",
       "        (jk): JumpingKnowledge(cat)\n",
       "        (sigmoid): Sigmoid()\n",
       "        (lin): Sequential(\n",
       "          (0): Dropout(p=0.005, inplace=False)\n",
       "          (1): DynamicTanh(normalized_shape=800, alpha_init_value=0.5, channels_last=True)\n",
       "          (2): Linear(in_features=800, out_features=200, bias=True)\n",
       "          (3): GELU(approximate='none')\n",
       "          (4): Linear(in_features=200, out_features=200, bias=True)\n",
       "          (5): GELU(approximate='none')\n",
       "          (6): Linear(in_features=200, out_features=200, bias=True)\n",
       "        )\n",
       "        (in2model): Sequential(\n",
       "          (0): Linear(in_features=384, out_features=200, bias=True)\n",
       "          (1): GELU(approximate='none')\n",
       "          (2): Linear(in_features=200, out_features=200, bias=True)\n",
       "          (3): Tanh()\n",
       "        )\n",
       "        (edge_logits_mlp): Sequential(\n",
       "          (0): Linear(in_features=400, out_features=512, bias=True)\n",
       "          (1): GELU(approximate='none')\n",
       "          (2): Linear(in_features=512, out_features=512, bias=True)\n",
       "          (3): GELU(approximate='none')\n",
       "          (4): Linear(in_features=512, out_features=256, bias=True)\n",
       "          (5): GELU(approximate='none')\n",
       "          (6): Linear(in_features=256, out_features=256, bias=True)\n",
       "          (7): GELU(approximate='none')\n",
       "          (8): Linear(in_features=256, out_features=16, bias=True)\n",
       "          (9): Sigmoid()\n",
       "        )\n",
       "      )\n",
       "    )\n",
       "  )\n",
       "  (input2transformer): Sequential(\n",
       "    (0): Linear(in_features=456, out_features=256, bias=True)\n",
       "    (1): GELU(approximate='none')\n",
       "    (2): Linear(in_features=256, out_features=256, bias=True)\n",
       "    (3): GELU(approximate='none')\n",
       "    (4): Linear(in_features=256, out_features=256, bias=True)\n",
       "  )\n",
       "  (transformer_encoder): TransformerEncoder(\n",
       "    (layers): ModuleList(\n",
       "      (0-1): 2 x TransformerEncoderLayer(\n",
       "        (self_attn): MultiheadAttention(\n",
       "          (out_proj): NonDynamicallyQuantizableLinear(in_features=256, out_features=256, bias=True)\n",
       "        )\n",
       "        (linear1): Linear(in_features=256, out_features=512, bias=True)\n",
       "        (dropout): Dropout(p=0.1, inplace=False)\n",
       "        (linear2): Linear(in_features=512, out_features=256, bias=True)\n",
       "        (norm1): LayerNorm((256,), eps=1e-05, elementwise_affine=True)\n",
       "        (norm2): LayerNorm((256,), eps=1e-05, elementwise_affine=True)\n",
       "        (dropout1): Dropout(p=0.1, inplace=False)\n",
       "        (dropout2): Dropout(p=0.1, inplace=False)\n",
       "      )\n",
       "    )\n",
       "  )\n",
       "  (encoder_norms): ModuleList(\n",
       "    (0-1): 2 x LayerNorm((256,), eps=1e-05, elementwise_affine=True)\n",
       "  )\n",
       "  (bn): BatchNorm1d(200, eps=1e-05, momentum=0.1, affine=True, track_running_stats=True)\n",
       "  (dropout): Dropout(p=0.005, inplace=False)\n",
       "  (vec_out): Sequential(\n",
       "    (0): Linear(in_features=256, out_features=128, bias=True)\n",
       "    (1): GELU(approximate='none')\n",
       "    (2): Linear(in_features=128, out_features=64, bias=True)\n",
       "    (3): GELU(approximate='none')\n",
       "    (4): Linear(in_features=64, out_features=32, bias=True)\n",
       "  )\n",
       "  (sigmoid): Sigmoid()\n",
       "  (embeddings): Embedding(40, 128)\n",
       ")"
      ]
     },
     "execution_count": 14,
     "metadata": {},
     "output_type": "execute_result"
    }
   ],
   "source": [
    "#create the pairwise transformer model\n",
    "from foldtree2.src import pairwise\n",
    "\n",
    "hidden_channels = [ 256 , 256 , 256]\n",
    "out_channels = 32\n",
    "decoder_hidden = [ 256 , 128  , 64]\n",
    "\n",
    "pairwise_model = pairwise.signature_transformer(\n",
    "    encoder=encoder_model, decoder=decoder_model ,  hidden_channels=hidden_channels, out_channels=out_channels, dropout_p=0.005,\n",
    "    normalize=False,\n",
    "\t\t\t  decoder_hidden=decoder_hidden,\n",
    "              attn_aggregate=False,\n",
    "\t\t\t  nheads=8,\n",
    "\t\t\t  nlayers=2,\n",
    "\t\t\t  seed=42\n",
    ")\n",
    "\n",
    "#initialize the model embeddings with the encoder embeddings \n",
    "pairwise_model.embeddings = model_embeddings\n",
    "pairwise_model = pairwise_model.to(device)\n",
    "pairwise_model.train()"
   ]
  },
  {
   "cell_type": "code",
   "execution_count": 15,
   "id": "e01a19af",
   "metadata": {},
   "outputs": [],
   "source": [
    "#forward pass\n",
    "figurestack = []\n",
    "reload = False\n",
    "import glob\n",
    "if reload == True:\n",
    "\tpairwise_models = glob.glob('models/pairwise_epoch_*.pth')\n",
    "\tif len(pairwise_models) > 0:\n",
    "\t\tlatest_model = max(pairwise_models, key=os.path.getctime)\n",
    "\t\tprint(f\"Loading model from {latest_model}\")\n",
    "\t\tpairwise_model = torch.load(latest_model)\n",
    "def pairloss(preds, labels):\n",
    "\tloss_fn = torch.nn.BCELoss()\n",
    "\treturn loss_fn(preds, labels.float())\n",
    "\t"
   ]
  },
  {
   "cell_type": "code",
   "execution_count": 16,
   "id": "99ee27c5",
   "metadata": {},
   "outputs": [],
   "source": [
    "#encode structures\n",
    "traindfs = { k: dfs[k] for k in dfs.keys() if 'Intra0' in k }\n",
    "validfs = { k: dfs[k] for k in dfs.keys() if 'Intra1' in k }\n",
    "testdfs = { k: dfs[k] for k in dfs.keys() if 'Intra2' in k }"
   ]
  },
  {
   "cell_type": "code",
   "execution_count": 17,
   "id": "fd3c767c",
   "metadata": {},
   "outputs": [
    {
     "name": "stdout",
     "output_type": "stream",
     "text": [
      "/home/dmoi/projects/foldtree2\n"
     ]
    }
   ],
   "source": [
    "cd /home/dmoi/projects/foldtree2/"
   ]
  },
  {
   "cell_type": "code",
   "execution_count": 18,
   "id": "e9ea99d7",
   "metadata": {},
   "outputs": [
    {
     "name": "stderr",
     "output_type": "stream",
     "text": [
      "100it [05:06,  3.00s/it]"
     ]
    },
    {
     "name": "stdout",
     "output_type": "stream",
     "text": [
      "Databreak at 100 batches\n",
      "running loss: 0.7285953152179718\n"
     ]
    },
    {
     "name": "stderr",
     "output_type": "stream",
     "text": [
      "100it [07:11,  4.31s/it]\n"
     ]
    },
    {
     "ename": "NameError",
     "evalue": "name 'plt' is not defined",
     "output_type": "error",
     "traceback": [
      "\u001b[0;31m---------------------------------------------------------------------------\u001b[0m",
      "\u001b[0;31mNameError\u001b[0m                                 Traceback (most recent call last)",
      "Cell \u001b[0;32mIn[18], line 106\u001b[0m\n\u001b[1;32m    104\u001b[0m val_auc \u001b[38;5;241m=\u001b[39m roc_auc_score(val_labels, val_preds)\n\u001b[1;32m    105\u001b[0m \u001b[38;5;66;03m#plot roc curve\u001b[39;00m\n\u001b[0;32m--> 106\u001b[0m \u001b[43mplt\u001b[49m\u001b[38;5;241m.\u001b[39mfigure()\n\u001b[1;32m    107\u001b[0m \u001b[38;5;28;01mfrom\u001b[39;00m \u001b[38;5;21;01msklearn\u001b[39;00m\u001b[38;5;21;01m.\u001b[39;00m\u001b[38;5;21;01mmetrics\u001b[39;00m \u001b[38;5;28;01mimport\u001b[39;00m RocCurveDisplay\n\u001b[1;32m    108\u001b[0m RocCurveDisplay\u001b[38;5;241m.\u001b[39mfrom_predictions(val_labels, val_preds)\n",
      "\u001b[0;31mNameError\u001b[0m: name 'plt' is not defined"
     ]
    }
   ],
   "source": [
    "import tqdm\n",
    "from sklearn.metrics import roc_auc_score\n",
    "\n",
    "\n",
    "# Initialize optimizer and scheduler\n",
    "optimizer = torch.optim.Adam(pairwise_model.parameters(), lr=0.0001)\n",
    "scheduler = torch.optim.lr_scheduler.ReduceLROnPlateau(optimizer, mode='min', factor=0.5, patience=10)\n",
    "\n",
    "# Initialize gradients\n",
    "optimizer.zero_grad()\n",
    "\n",
    "# Track running loss for scheduler\n",
    "running_loss = 0.0\n",
    "max_epochs = 100\n",
    "output_auc = True\n",
    "databreak = 100\n",
    "\n",
    "encoder_model.eval()\n",
    "\n",
    "for epoch in range(1, max_epochs + 1):\n",
    "\trunning_loss = 0.0\n",
    "\t# Iterate over training data\n",
    "\t#shuffle dataloader each epoch\n",
    "\t#pairwise_loaders['train']['dataloader'] = DataLoader(pairwise_loaders['train']['dataset'], batch_size=16, shuffle=True, num_workers=4)\n",
    "\tfor i,data in tqdm.tqdm(enumerate(pairwise_loaders['train']['dataloader'])):\n",
    "\t\toptimizer.zero_grad()\n",
    "\t\tdata = { k: v.to(device) for k, v in data.items() }\n",
    "\t\tprot1, prot2 = data['struct_a'], data['struct_b']\n",
    "\t\ty = data['label'] if data['label'] is not None else None\n",
    "\t\twith torch.no_grad():\n",
    "\t\t\t#forward pass through encoder\n",
    "\t\t\tz1, _ = encoder_model( prot1 , None )\n",
    "\t\t\tz1discrete , _ = encoder_model.vector_quantizer.discretize_z(z1)\n",
    "\t\t\tz1discrete = encoder_model.vector_quantizer.embeddings(z1discrete)\n",
    "\t\t\tz2, _ = encoder_model( prot2 , None )\n",
    "\t\t\tz2discrete , _ = encoder_model.vector_quantizer.discretize_z(z2)\n",
    "\t\t\tz2discrete = encoder_model.vector_quantizer.embeddings(z2discrete)\n",
    "\t\t\tprot1['res'].x = z1discrete\n",
    "\t\t\tprot2['res'].x = z2discrete\n",
    "\t\t\t#pass through decoder to get node features\n",
    "\t\t\tz1 = decoder_model( prot1 , None )['z']\n",
    "\t\t\tz2 = decoder_model( prot2 , None )['z']\n",
    "\t\t\tprot1['zdecoder'].x = z1\n",
    "\t\t\tprot2['zdecoder'].x = z2\n",
    "\n",
    "\t\tsig1 = pairwise_model( prot1 )\n",
    "\t\tsig2 = pairwise_model( prot2 )\n",
    "\t\t#torch function sigmoid\n",
    "\t\tcosine_sim = (pairwise.cosine_similarity(sig1['jaccard_vec'], sig2['jaccard_vec']))\n",
    "\t\tcosine_sim = torch.sigmoid(cosine_sim)\n",
    "\t\t#apply sigmoid to jaccard\n",
    "\t\tloss = pairloss(cosine_sim, y)\n",
    "\t\tloss.backward()\n",
    "\t\t# Gradient clipping\n",
    "\t\t#torch.nn.utils.clip_grad_norm_(pairwise_model.parameters(), max_norm=1.0)\n",
    "\t\toptimizer.step()\n",
    "\t\trunning_loss += loss.item()\n",
    "\t\tif databreak is not None and i % databreak==0 and i > 0:\n",
    "\t\t\tprint(f\"Databreak at {databreak} batches\")\n",
    "\t\t\trunning_loss /= databreak\n",
    "\t\t\tprint( 'running loss:', running_loss )\n",
    "\t\t\trunning_loss = 0.0\n",
    "\t\t\t# Save model checkpoint\n",
    "\t\t\t#torch.save(pairwise_model, f'models/pairwise_epoch_{epoch}.pth')\n",
    "\t\t\t#torch.save(optimizer.state_dict(), f'models/pairwise_optimizer_epoch_{epoch}.pth')\n",
    "\t\t\t#run 100 validation batches\n",
    "\t\t\tif output_auc == True:\n",
    "\t\t\t\tval_preds = []\n",
    "\t\t\t\tval_labels = []\n",
    "\t\t\t\tpairwise_model.eval()\n",
    "\t\t\t\twith torch.no_grad():\n",
    "\t\t\t\t\tfor j, valdata in enumerate(pairwise_loaders['valid']['dataloader']):\n",
    "\t\t\t\t\t\tvaldata = { k: v.to(device) for k, v in valdata.items() }\n",
    "\t\t\t\t\t\tvprot1, vprot2 = valdata['struct_a'], valdata['struct_b']\n",
    "\t\t\t\t\t\tvy = valdata['label'] if valdata['label'] is not None else None\n",
    "\t\t\t\t\t\t#forward pass through encoder\n",
    "\t\t\t\t\t\tvz1, _ = encoder_model( vprot1 , None )\n",
    "\t\t\t\t\t\tvz1discrete , _ = encoder_model.vector_quantizer.discretize_z(vz1)\n",
    "\t\t\t\t\t\tvz1discrete = encoder_model.vector_quantizer.embeddings(vz1discrete)\n",
    "\n",
    "\t\t\t\t\t\tvz2, _ = encoder_model( vprot2 , None )\n",
    "\t\t\t\t\t\tvz2discrete , _ = encoder_model.vector_quantizer.discretize_z(vz2)\n",
    "\t\t\t\t\t\tvz2discrete = encoder_model.vector_quantizer.embeddings(vz2discrete)\n",
    "\n",
    "\t\t\t\t\t\tvprot1['res'].x = vz1discrete\n",
    "\t\t\t\t\t\tvprot2['res'].x = vz2discrete\n",
    "\t\t\t\t\t\t\n",
    "\t\t\t\t\t\tz1 = decoder_model( vprot1 , None )['z']\n",
    "\t\t\t\t\t\tz2 = decoder_model( vprot2 , None )['z']\n",
    "\n",
    "\t\t\t\t\t\tvprot1['zdecoder'].x = z1\n",
    "\t\t\t\t\t\tvprot2['zdecoder'].x = z2\n",
    "\n",
    "\t\t\t\t\t\tvsig1 = pairwise_model( vprot1 )\n",
    "\t\t\t\t\t\tvsig2 = pairwise_model( vprot2 )\n",
    "\t\t\t\t\t\t\n",
    "\t\t\t\t\t\t#torch function sigmoid\n",
    "\t\t\t\t\t\tvcosine_sim = (pairwise.cosine_similarity(vsig1['jaccard_vec'], vsig2['jaccard_vec']))\n",
    "\t\t\t\t\t\tvcosine_sim = torch.sigmoid(vcosine_sim)\n",
    "\t\t\t\t\t\tval_preds.extend( vcosine_sim.cpu().numpy().tolist() )\n",
    "\t\t\t\t\t\tval_labels.extend( vy.cpu().numpy().tolist() )\n",
    "\t\t\t\t\t\tif j >= 100:\n",
    "\t\t\t\t\t\t\tbreak\n",
    "\t\t\t\tval_auc = roc_auc_score(val_labels, val_preds)\n",
    "\t\t\t\t#plot roc curve\n",
    "\t\t\t\tplt.figure()\n",
    "\t\t\t\tfrom sklearn.metrics import RocCurveDisplay\n",
    "\t\t\t\tRocCurveDisplay.from_predictions(val_labels, val_preds)\n",
    "\t\t\t\tplt.title(f'Validation ROC after epoch {epoch}, batch {i}: AUC={val_auc:.4f}')\n",
    "\t\t\t\tplt.show()\n",
    "\t\t\t\tprint(f\"Validation AUC after epoch {epoch}, batch {i}: {val_auc}\")\n",
    "\t\t\t\tpairwise_model.train()"
   ]
  },
  {
   "cell_type": "code",
   "execution_count": null,
   "id": "c7e3cf39",
   "metadata": {},
   "outputs": [
    {
     "name": "stderr",
     "output_type": "stream",
     "text": [
      "501it [03:42,  2.25it/s]"
     ]
    },
    {
     "name": "stdout",
     "output_type": "stream",
     "text": [
      "Validation break at 500 batches\n"
     ]
    },
    {
     "name": "stderr",
     "output_type": "stream",
     "text": [
      "\n"
     ]
    },
    {
     "ename": "",
     "evalue": "",
     "output_type": "error",
     "traceback": [
      "\u001b[1;31mnotebook controller is DISPOSED. \n",
      "\u001b[1;31mView Jupyter <a href='command:jupyter.viewOutput'>log</a> for further details."
     ]
    },
    {
     "ename": "",
     "evalue": "",
     "output_type": "error",
     "traceback": [
      "\u001b[1;31mnotebook controller is DISPOSED. \n",
      "\u001b[1;31mView Jupyter <a href='command:jupyter.viewOutput'>log</a> for further details."
     ]
    },
    {
     "ename": "",
     "evalue": "",
     "output_type": "error",
     "traceback": [
      "\u001b[1;31mnotebook controller is DISPOSED. \n",
      "\u001b[1;31mView Jupyter <a href='command:jupyter.viewOutput'>log</a> for further details."
     ]
    },
    {
     "ename": "",
     "evalue": "",
     "output_type": "error",
     "traceback": [
      "\u001b[1;31mnotebook controller is DISPOSED. \n",
      "\u001b[1;31mView Jupyter <a href='command:jupyter.viewOutput'>log</a> for further details."
     ]
    },
    {
     "ename": "",
     "evalue": "",
     "output_type": "error",
     "traceback": [
      "\u001b[1;31mnotebook controller is DISPOSED. \n",
      "\u001b[1;31mView Jupyter <a href='command:jupyter.viewOutput'>log</a> for further details."
     ]
    },
    {
     "ename": "",
     "evalue": "",
     "output_type": "error",
     "traceback": [
      "\u001b[1;31mnotebook controller is DISPOSED. \n",
      "\u001b[1;31mView Jupyter <a href='command:jupyter.viewOutput'>log</a> for further details."
     ]
    },
    {
     "ename": "",
     "evalue": "",
     "output_type": "error",
     "traceback": [
      "\u001b[1;31mnotebook controller is DISPOSED. \n",
      "\u001b[1;31mView Jupyter <a href='command:jupyter.viewOutput'>log</a> for further details."
     ]
    }
   ],
   "source": [
    "#find auc on validation set\n",
    "pairwise_model.eval()\n",
    "from sklearn.metrics import roc_auc_score, roc_curve\n",
    "from matplotlib import pyplot as plt\n",
    "val_labels = []\n",
    "val_preds = []\n",
    "valbreak = 500\n",
    "with torch.no_grad():\t\n",
    "\tfor i,data in tqdm.tqdm(enumerate(pairwise_loaders['valid']['dataloader'])):\n",
    "\t\tdata = { k: v.to(device) for k, v in data.items() }\n",
    "\t\tprot1, prot2 = data['struct_a'], data['struct_b']\n",
    "\t\ty = data['label'] if data['label'] is not None else None\n",
    "\t\t#forward pass through encoder\n",
    "\t\tz1, _ = encoder_model( prot1 , None )\n",
    "\t\tz1discrete , _ = encoder_model.vector_quantizer.discretize_z(z1)\n",
    "\t\tz2, _ = encoder_model( prot2 , None )\n",
    "\t\tz2discrete , _ = encoder_model.vector_quantizer.discretize_z(z2)\n",
    "\t\tprot1['zdiscrete'].x = z1discrete\n",
    "\t\tprot2['zdiscrete'].x = z2discrete\n",
    "\t\tsig1 = pairwise_model( prot1 )\n",
    "\t\tsig2 = pairwise_model( prot2 )\n",
    "\t\tjaccard = pairwise.weighted_jaccard_similarity(sig1['jaccard_vec'], sig2['jaccard_vec'])\n",
    "\t\tval_labels.extend( y.cpu().numpy().tolist() )\n",
    "\t\tval_preds.extend( jaccard.cpu().numpy().tolist() )\n",
    "\t\tif i > valbreak:\n",
    "\t\t\tprint(f\"Validation break at {valbreak} batches\")\n",
    "\t\t\tbreak\n"
   ]
  },
  {
   "cell_type": "code",
   "execution_count": null,
   "id": "afd3791d",
   "metadata": {},
   "outputs": [
    {
     "name": "stdout",
     "output_type": "stream",
     "text": [
      "1515 1515\n"
     ]
    },
    {
     "ename": "NameError",
     "evalue": "name 'plt' is not defined",
     "output_type": "error",
     "traceback": [
      "\u001b[0;31m---------------------------------------------------------------------------\u001b[0m",
      "\u001b[0;31mNameError\u001b[0m                                 Traceback (most recent call last)",
      "Cell \u001b[0;32mIn[23], line 3\u001b[0m\n\u001b[1;32m      1\u001b[0m \u001b[38;5;28mprint\u001b[39m( \u001b[38;5;28mlen\u001b[39m(val_labels), \u001b[38;5;28mlen\u001b[39m(val_preds) )\n\u001b[1;32m      2\u001b[0m \u001b[38;5;66;03m#show histogram of predictions\u001b[39;00m\n\u001b[0;32m----> 3\u001b[0m \u001b[43mplt\u001b[49m\u001b[38;5;241m.\u001b[39mhist( val_preds, bins\u001b[38;5;241m=\u001b[39m\u001b[38;5;241m50\u001b[39m )\n\u001b[1;32m      4\u001b[0m plt\u001b[38;5;241m.\u001b[39mxlabel(\u001b[38;5;124m'\u001b[39m\u001b[38;5;124mPredicted Jaccard Similarity\u001b[39m\u001b[38;5;124m'\u001b[39m)\n\u001b[1;32m      5\u001b[0m plt\u001b[38;5;241m.\u001b[39mylabel(\u001b[38;5;124m'\u001b[39m\u001b[38;5;124mFrequency\u001b[39m\u001b[38;5;124m'\u001b[39m)\n",
      "\u001b[0;31mNameError\u001b[0m: name 'plt' is not defined"
     ]
    }
   ],
   "source": [
    "print( len(val_labels), len(val_preds) )\n",
    "#show histogram of predictions\n",
    "plt.hist( val_preds, bins=50 )\n",
    "plt.xlabel('Predicted Jaccard Similarity')\n",
    "plt.ylabel('Frequency')\n",
    "plt.title('Histogram of Predicted Jaccard Similarities on Validation Set')\n",
    "plt.show()"
   ]
  },
  {
   "cell_type": "code",
   "execution_count": null,
   "id": "0fc28f15",
   "metadata": {},
   "outputs": [
    {
     "name": "stdout",
     "output_type": "stream",
     "text": [
      "6 15\n"
     ]
    },
    {
     "data": {
      "image/png": "[encoded data removed]",
      "text/plain": [
       "<Figure size 640x480 with 1 Axes>"
      ]
     },
     "metadata": {},
     "output_type": "display_data"
    },
    {
     "name": "stdout",
     "output_type": "stream",
     "text": [
      "Validation AUC: 0.5099828014461205\n"
     ]
    },
    {
     "ename": "",
     "evalue": "",
     "output_type": "error",
     "traceback": [
      "\u001b[1;31mnotebook controller is DISPOSED. \n",
      "\u001b[1;31mView Jupyter <a href='command:jupyter.viewOutput'>log</a> for further details."
     ]
    },
    {
     "ename": "",
     "evalue": "",
     "output_type": "error",
     "traceback": [
      "\u001b[1;31mnotebook controller is DISPOSED. \n",
      "\u001b[1;31mView Jupyter <a href='command:jupyter.viewOutput'>log</a> for further details."
     ]
    },
    {
     "ename": "",
     "evalue": "",
     "output_type": "error",
     "traceback": [
      "\u001b[1;31mnotebook controller is DISPOSED. \n",
      "\u001b[1;31mView Jupyter <a href='command:jupyter.viewOutput'>log</a> for further details."
     ]
    },
    {
     "ename": "",
     "evalue": "",
     "output_type": "error",
     "traceback": [
      "\u001b[1;31mnotebook controller is DISPOSED. \n",
      "\u001b[1;31mView Jupyter <a href='command:jupyter.viewOutput'>log</a> for further details."
     ]
    },
    {
     "ename": "",
     "evalue": "",
     "output_type": "error",
     "traceback": [
      "\u001b[1;31mnotebook controller is DISPOSED. \n",
      "\u001b[1;31mView Jupyter <a href='command:jupyter.viewOutput'>log</a> for further details."
     ]
    },
    {
     "ename": "",
     "evalue": "",
     "output_type": "error",
     "traceback": [
      "\u001b[1;31mnotebook controller is DISPOSED. \n",
      "\u001b[1;31mView Jupyter <a href='command:jupyter.viewOutput'>log</a> for further details."
     ]
    }
   ],
   "source": [
    "\n",
    "print( sum( y.cpu().numpy().tolist() )  , len(y.cpu().numpy().tolist())  )\n",
    "roc_curves = roc_curve(val_labels, val_preds)\n",
    "plt.plot(roc_curves[0], roc_curves[1])\n",
    "plt.xlabel('False Positive Rate')\n",
    "plt.ylabel('True Positive Rate')\n",
    "plt.title('ROC Curve')\n",
    "plt.show()\n",
    "val_auc = roc_auc_score(val_labels, val_preds)\n",
    "print(f\"Validation AUC: {val_auc}\")\n",
    "scheduler.step(val_auc)\n"
   ]
  },
  {
   "cell_type": "code",
   "execution_count": null,
   "id": "bc9466d0",
   "metadata": {},
   "outputs": [
    {
     "ename": "",
     "evalue": "",
     "output_type": "error",
     "traceback": [
      "\u001b[1;31mnotebook controller is DISPOSED. \n",
      "\u001b[1;31mView Jupyter <a href='command:jupyter.viewOutput'>log</a> for further details."
     ]
    },
    {
     "ename": "",
     "evalue": "",
     "output_type": "error",
     "traceback": [
      "\u001b[1;31mnotebook controller is DISPOSED. \n",
      "\u001b[1;31mView Jupyter <a href='command:jupyter.viewOutput'>log</a> for further details."
     ]
    },
    {
     "ename": "",
     "evalue": "",
     "output_type": "error",
     "traceback": [
      "\u001b[1;31mnotebook controller is DISPOSED. \n",
      "\u001b[1;31mView Jupyter <a href='command:jupyter.viewOutput'>log</a> for further details."
     ]
    },
    {
     "ename": "",
     "evalue": "",
     "output_type": "error",
     "traceback": [
      "\u001b[1;31mnotebook controller is DISPOSED. \n",
      "\u001b[1;31mView Jupyter <a href='command:jupyter.viewOutput'>log</a> for further details."
     ]
    },
    {
     "ename": "",
     "evalue": "",
     "output_type": "error",
     "traceback": [
      "\u001b[1;31mnotebook controller is DISPOSED. \n",
      "\u001b[1;31mView Jupyter <a href='command:jupyter.viewOutput'>log</a> for further details."
     ]
    },
    {
     "ename": "",
     "evalue": "",
     "output_type": "error",
     "traceback": [
      "\u001b[1;31mnotebook controller is DISPOSED. \n",
      "\u001b[1;31mView Jupyter <a href='command:jupyter.viewOutput'>log</a> for further details."
     ]
    },
    {
     "ename": "",
     "evalue": "",
     "output_type": "error",
     "traceback": [
      "\u001b[1;31mnotebook controller is DISPOSED. \n",
      "\u001b[1;31mView Jupyter <a href='command:jupyter.viewOutput'>log</a> for further details."
     ]
    },
    {
     "ename": "",
     "evalue": "",
     "output_type": "error",
     "traceback": [
      "\u001b[1;31mnotebook controller is DISPOSED. \n",
      "\u001b[1;31mView Jupyter <a href='command:jupyter.viewOutput'>log</a> for further details."
     ]
    },
    {
     "ename": "",
     "evalue": "",
     "output_type": "error",
     "traceback": [
      "\u001b[1;31mnotebook controller is DISPOSED. \n",
      "\u001b[1;31mView Jupyter <a href='command:jupyter.viewOutput'>log</a> for further details."
     ]
    },
    {
     "ename": "",
     "evalue": "",
     "output_type": "error",
     "traceback": [
      "\u001b[1;31mnotebook controller is DISPOSED. \n",
      "\u001b[1;31mView Jupyter <a href='command:jupyter.viewOutput'>log</a> for further details."
     ]
    }
   ],
   "source": [
    "#train the model for pairwise\n",
    "\n",
    "from foldtree2.src import pairwise\n",
    "\n",
    "\n",
    "\n"
   ]
  },
  {
   "cell_type": "code",
   "execution_count": null,
   "id": "f754ca07",
   "metadata": {},
   "outputs": [
    {
     "ename": "",
     "evalue": "",
     "output_type": "error",
     "traceback": [
      "\u001b[1;31mnotebook controller is DISPOSED. \n",
      "\u001b[1;31mView Jupyter <a href='command:jupyter.viewOutput'>log</a> for further details."
     ]
    },
    {
     "ename": "",
     "evalue": "",
     "output_type": "error",
     "traceback": [
      "\u001b[1;31mnotebook controller is DISPOSED. \n",
      "\u001b[1;31mView Jupyter <a href='command:jupyter.viewOutput'>log</a> for further details."
     ]
    },
    {
     "ename": "",
     "evalue": "",
     "output_type": "error",
     "traceback": [
      "\u001b[1;31mnotebook controller is DISPOSED. \n",
      "\u001b[1;31mView Jupyter <a href='command:jupyter.viewOutput'>log</a> for further details."
     ]
    },
    {
     "ename": "",
     "evalue": "",
     "output_type": "error",
     "traceback": [
      "\u001b[1;31mnotebook controller is DISPOSED. \n",
      "\u001b[1;31mView Jupyter <a href='command:jupyter.viewOutput'>log</a> for further details."
     ]
    },
    {
     "ename": "",
     "evalue": "",
     "output_type": "error",
     "traceback": [
      "\u001b[1;31mnotebook controller is DISPOSED. \n",
      "\u001b[1;31mView Jupyter <a href='command:jupyter.viewOutput'>log</a> for further details."
     ]
    },
    {
     "ename": "",
     "evalue": "",
     "output_type": "error",
     "traceback": [
      "\u001b[1;31mnotebook controller is DISPOSED. \n",
      "\u001b[1;31mView Jupyter <a href='command:jupyter.viewOutput'>log</a> for further details."
     ]
    },
    {
     "ename": "",
     "evalue": "",
     "output_type": "error",
     "traceback": [
      "\u001b[1;31mnotebook controller is DISPOSED. \n",
      "\u001b[1;31mView Jupyter <a href='command:jupyter.viewOutput'>log</a> for further details."
     ]
    },
    {
     "ename": "",
     "evalue": "",
     "output_type": "error",
     "traceback": [
      "\u001b[1;31mnotebook controller is DISPOSED. \n",
      "\u001b[1;31mView Jupyter <a href='command:jupyter.viewOutput'>log</a> for further details."
     ]
    },
    {
     "ename": "",
     "evalue": "",
     "output_type": "error",
     "traceback": [
      "\u001b[1;31mnotebook controller is DISPOSED. \n",
      "\u001b[1;31mView Jupyter <a href='command:jupyter.viewOutput'>log</a> for further details."
     ]
    },
    {
     "ename": "",
     "evalue": "",
     "output_type": "error",
     "traceback": [
      "\u001b[1;31mnotebook controller is DISPOSED. \n",
      "\u001b[1;31mView Jupyter <a href='command:jupyter.viewOutput'>log</a> for further details."
     ]
    }
   ],
   "source": [
    "#pr and roc"
   ]
  },
  {
   "cell_type": "code",
   "execution_count": null,
   "id": "76fb7420",
   "metadata": {},
   "outputs": [
    {
     "ename": "",
     "evalue": "",
     "output_type": "error",
     "traceback": [
      "\u001b[1;31mnotebook controller is DISPOSED. \n",
      "\u001b[1;31mView Jupyter <a href='command:jupyter.viewOutput'>log</a> for further details."
     ]
    },
    {
     "ename": "",
     "evalue": "",
     "output_type": "error",
     "traceback": [
      "\u001b[1;31mnotebook controller is DISPOSED. \n",
      "\u001b[1;31mView Jupyter <a href='command:jupyter.viewOutput'>log</a> for further details."
     ]
    },
    {
     "ename": "",
     "evalue": "",
     "output_type": "error",
     "traceback": [
      "\u001b[1;31mnotebook controller is DISPOSED. \n",
      "\u001b[1;31mView Jupyter <a href='command:jupyter.viewOutput'>log</a> for further details."
     ]
    },
    {
     "ename": "",
     "evalue": "",
     "output_type": "error",
     "traceback": [
      "\u001b[1;31mnotebook controller is DISPOSED. \n",
      "\u001b[1;31mView Jupyter <a href='command:jupyter.viewOutput'>log</a> for further details."
     ]
    },
    {
     "ename": "",
     "evalue": "",
     "output_type": "error",
     "traceback": [
      "\u001b[1;31mnotebook controller is DISPOSED. \n",
      "\u001b[1;31mView Jupyter <a href='command:jupyter.viewOutput'>log</a> for further details."
     ]
    },
    {
     "ename": "",
     "evalue": "",
     "output_type": "error",
     "traceback": [
      "\u001b[1;31mnotebook controller is DISPOSED. \n",
      "\u001b[1;31mView Jupyter <a href='command:jupyter.viewOutput'>log</a> for further details."
     ]
    },
    {
     "ename": "",
     "evalue": "",
     "output_type": "error",
     "traceback": [
      "\u001b[1;31mnotebook controller is DISPOSED. \n",
      "\u001b[1;31mView Jupyter <a href='command:jupyter.viewOutput'>log</a> for further details."
     ]
    },
    {
     "ename": "",
     "evalue": "",
     "output_type": "error",
     "traceback": [
      "\u001b[1;31mnotebook controller is DISPOSED. \n",
      "\u001b[1;31mView Jupyter <a href='command:jupyter.viewOutput'>log</a> for further details."
     ]
    },
    {
     "ename": "",
     "evalue": "",
     "output_type": "error",
     "traceback": [
      "\u001b[1;31mnotebook controller is DISPOSED. \n",
      "\u001b[1;31mView Jupyter <a href='command:jupyter.viewOutput'>log</a> for further details."
     ]
    },
    {
     "ename": "",
     "evalue": "",
     "output_type": "error",
     "traceback": [
      "\u001b[1;31mnotebook controller is DISPOSED. \n",
      "\u001b[1;31mView Jupyter <a href='command:jupyter.viewOutput'>log</a> for further details."
     ]
    }
   ],
   "source": [
    "#compare to hashed jaccard \n",
    "\n",
    "#pr and roc"
   ]
  }
 ],
 "metadata": {
  "kernelspec": {
   "display_name": "Python 3 (ipykernel)",
   "language": "python",
   "name": "python3"
  },
  "language_info": {
   "codemirror_mode": {
    "name": "ipython",
    "version": 3
   },
   "file_extension": ".py",
   "mimetype": "text/x-python",
   "name": "python",
   "nbconvert_exporter": "python",
   "pygments_lexer": "ipython3",
   "version": "3.12.3"
  }
 },
 "nbformat": 4,
 "nbformat_minor": 5
}
