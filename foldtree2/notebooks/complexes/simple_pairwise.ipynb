{
 "cells": [
  {
   "cell_type": "code",
   "execution_count": 39,
   "id": "9c96d27e",
   "metadata": {},
   "outputs": [
    {
     "name": "stdout",
     "output_type": "stream",
     "text": [
      "Intra2_neg_rr (26024, 2)\n",
      "Intra1_neg_rr (81596, 2)\n",
      "Intra2_pos_rr (26024, 2)\n",
      "Intra0_pos_rr (29630, 2)\n",
      "Intra0_neg_rr (29630, 2)\n",
      "Intra1_pos_rr (81596, 2)\n",
      "Number of unique proteins: 11019\n"
     ]
    }
   ],
   "source": [
    "#choose model \n",
    "import glob\n",
    "import pandas as pd\n",
    "datadir = '/home/dmoi/datasets/PPI_antileakage/'\n",
    "pairs = glob.glob(f'{datadir}*.txt')\n",
    "dfs = { p.split('/')[-1].split('.txt')[0]: pd.read_csv(p, sep = ' ', header=None, names=['protA', 'protB']) for p in pairs if 'filtered' not in p }\n",
    "for k in dfs.keys():\n",
    "\tprint(k, dfs[k].shape)\n",
    "#compile non-redundant set of proteins\n",
    "proteins = set()\n",
    "for k in dfs.keys():\n",
    "\tproteins = proteins.union( set(dfs[k]['protA'].tolist()) ).union( set(dfs[k]['protB'].tolist()) )\n",
    "print(f'Number of unique proteins: {len(proteins)}')\n"
   ]
  },
  {
   "cell_type": "code",
   "execution_count": 40,
   "id": "c9b7e1be",
   "metadata": {},
   "outputs": [
    {
     "name": "stderr",
     "output_type": "stream",
     "text": [
      "  2%|▊                                     | 230/11019 [00:00<00:10, 996.24it/s]"
     ]
    },
    {
     "name": "stdout",
     "output_type": "stream",
     "text": [
      "error downloading structure for Q8N2C7 HTTP Error 404: Not Found\n",
      "https://alphafold.ebi.ac.uk/files/AF-Q8N2C7-F1-model_v4.pdb\n",
      "error downloading structure for Q03001 HTTP Error 404: Not Found\n",
      "https://alphafold.ebi.ac.uk/files/AF-Q03001-F1-model_v4.pdb\n",
      "error downloading structure for O95714 HTTP Error 404: Not Found\n",
      "https://alphafold.ebi.ac.uk/files/AF-O95714-F1-model_v4.pdb\n",
      "error downloading structure for O75962 HTTP Error 404: Not Found\n",
      "https://alphafold.ebi.ac.uk/files/AF-O75962-F1-model_v4.pdb\n"
     ]
    },
    {
     "name": "stderr",
     "output_type": "stream",
     "text": [
      "  5%|█▉                                   | 583/11019 [00:00<00:05, 1851.73it/s]"
     ]
    },
    {
     "name": "stdout",
     "output_type": "stream",
     "text": [
      "error downloading structure for P22105 HTTP Error 404: Not Found\n",
      "https://alphafold.ebi.ac.uk/files/AF-P22105-F1-model_v4.pdb\n",
      "error downloading structure for Q8WXI7 HTTP Error 404: Not Found\n",
      "https://alphafold.ebi.ac.uk/files/AF-Q8WXI7-F1-model_v4.pdb\n",
      "error downloading structure for Q8NCM8 HTTP Error 404: Not Found\n",
      "https://alphafold.ebi.ac.uk/files/AF-Q8NCM8-F1-model_v4.pdb\n",
      "error downloading structure for Q8WZ42 HTTP Error 404: Not Found\n",
      "https://alphafold.ebi.ac.uk/files/AF-Q8WZ42-F1-model_v4.pdb\n"
     ]
    },
    {
     "name": "stderr",
     "output_type": "stream",
     "text": [
      "  7%|██▌                                  | 766/11019 [00:00<00:08, 1226.14it/s]"
     ]
    },
    {
     "name": "stdout",
     "output_type": "stream",
     "text": [
      "error downloading structure for Q8NF91 HTTP Error 404: Not Found\n",
      "https://alphafold.ebi.ac.uk/files/AF-Q8NF91-F1-model_v4.pdb\n",
      "error downloading structure for Q99698 HTTP Error 404: Not Found\n",
      "https://alphafold.ebi.ac.uk/files/AF-Q99698-F1-model_v4.pdb\n",
      "error downloading structure for Q96Q15 HTTP Error 404: Not Found\n",
      "https://alphafold.ebi.ac.uk/files/AF-Q96Q15-F1-model_v4.pdb\n",
      "error downloading structure for Q0VDD8 HTTP Error 404: Not Found\n",
      "https://alphafold.ebi.ac.uk/files/AF-Q0VDD8-F1-model_v4.pdb\n"
     ]
    },
    {
     "name": "stderr",
     "output_type": "stream",
     "text": [
      " 12%|████▍                               | 1355/11019 [00:01<00:06, 1439.96it/s]"
     ]
    },
    {
     "name": "stdout",
     "output_type": "stream",
     "text": [
      "error downloading structure for O75592 HTTP Error 404: Not Found\n",
      "https://alphafold.ebi.ac.uk/files/AF-O75592-F1-model_v4.pdb\n",
      "error downloading structure for Q9NRC6 HTTP Error 404: Not Found\n",
      "https://alphafold.ebi.ac.uk/files/AF-Q9NRC6-F1-model_v4.pdb\n",
      "error downloading structure for Q02388 HTTP Error 404: Not Found\n",
      "https://alphafold.ebi.ac.uk/files/AF-Q02388-F1-model_v4.pdb\n",
      "error downloading structure for Q99996 HTTP Error 404: Not Found\n",
      "https://alphafold.ebi.ac.uk/files/AF-Q99996-F1-model_v4.pdb\n"
     ]
    },
    {
     "name": "stderr",
     "output_type": "stream",
     "text": [
      " 14%|████▉                               | 1507/11019 [00:01<00:07, 1189.46it/s]"
     ]
    },
    {
     "name": "stdout",
     "output_type": "stream",
     "text": [
      "error downloading structure for Q16881 HTTP Error 404: Not Found\n",
      "https://alphafold.ebi.ac.uk/files/AF-Q16881-F1-model_v4.pdb\n",
      "error downloading structure for Q99611 HTTP Error 404: Not Found\n",
      "https://alphafold.ebi.ac.uk/files/AF-Q99611-F1-model_v4.pdb\n",
      "error downloading structure for Q63HN8 HTTP Error 404: Not Found\n",
      "https://alphafold.ebi.ac.uk/files/AF-Q63HN8-F1-model_v4.pdb\n",
      "error downloading structure for Q01484 HTTP Error 404: Not Found\n",
      "https://alphafold.ebi.ac.uk/files/AF-Q01484-F1-model_v4.pdb\n"
     ]
    },
    {
     "name": "stderr",
     "output_type": "stream",
     "text": [
      " 18%|██████▌                             | 2008/11019 [00:01<00:05, 1540.01it/s]"
     ]
    },
    {
     "name": "stdout",
     "output_type": "stream",
     "text": [
      "error downloading structure for Q96T58 HTTP Error 404: Not Found\n",
      "https://alphafold.ebi.ac.uk/files/AF-Q96T58-F1-model_v4.pdb\n",
      "error downloading structure for P78509 HTTP Error 404: Not Found\n",
      "https://alphafold.ebi.ac.uk/files/AF-P78509-F1-model_v4.pdb\n",
      "error downloading structure for P15822 HTTP Error 404: Not Found\n",
      "https://alphafold.ebi.ac.uk/files/AF-P15822-F1-model_v4.pdb\n",
      "error downloading structure for P42858 HTTP Error 404: Not Found\n",
      "https://alphafold.ebi.ac.uk/files/AF-P42858-F1-model_v4.pdb\n"
     ]
    },
    {
     "name": "stderr",
     "output_type": "stream",
     "text": [
      " 22%|███████▉                            | 2441/11019 [00:01<00:05, 1617.92it/s]"
     ]
    },
    {
     "name": "stdout",
     "output_type": "stream",
     "text": [
      "error downloading structure for Q9NYQ7 HTTP Error 404: Not Found\n",
      "https://alphafold.ebi.ac.uk/files/AF-Q9NYQ7-F1-model_v4.pdb\n",
      "error downloading structure for Q02817 HTTP Error 404: Not Found\n",
      "https://alphafold.ebi.ac.uk/files/AF-Q02817-F1-model_v4.pdb\n",
      "error downloading structure for Q14643 HTTP Error 404: Not Found\n",
      "https://alphafold.ebi.ac.uk/files/AF-Q14643-F1-model_v4.pdb\n",
      "error downloading structure for Q14315 HTTP Error 404: Not Found\n",
      "https://alphafold.ebi.ac.uk/files/AF-Q14315-F1-model_v4.pdb\n",
      "error downloading structure for Q8IVF2 HTTP Error 404: Not Found\n",
      "https://alphafold.ebi.ac.uk/files/AF-Q8IVF2-F1-model_v4.pdb\n",
      "error downloading structure for Q6ZR08 HTTP Error 404: Not Found\n",
      "https://alphafold.ebi.ac.uk/files/AF-Q6ZR08-F1-model_v4.pdb\n",
      "error downloading structure for Q9NR99 HTTP Error 404: Not Found\n",
      "https://alphafold.ebi.ac.uk/files/AF-Q9NR99-F1-model_v4.pdb\n"
     ]
    },
    {
     "name": "stderr",
     "output_type": "stream",
     "text": [
      " 25%|█████████▏                           | 2745/11019 [00:02<00:08, 978.09it/s]"
     ]
    },
    {
     "name": "stdout",
     "output_type": "stream",
     "text": [
      "error downloading structure for Q5VT06 HTTP Error 404: Not Found\n",
      "https://alphafold.ebi.ac.uk/files/AF-Q5VT06-F1-model_v4.pdb\n",
      "error downloading structure for P21817 HTTP Error 404: Not Found\n",
      "https://alphafold.ebi.ac.uk/files/AF-P21817-F1-model_v4.pdb\n",
      "error downloading structure for Q9UQ35 HTTP Error 404: Not Found\n",
      "https://alphafold.ebi.ac.uk/files/AF-Q9UQ35-F1-model_v4.pdb\n",
      "error downloading structure for Q9NZJ4 HTTP Error 404: Not Found\n",
      "https://alphafold.ebi.ac.uk/files/AF-Q9NZJ4-F1-model_v4.pdb\n"
     ]
    },
    {
     "name": "stderr",
     "output_type": "stream",
     "text": [
      " 30%|██████████▋                         | 3274/11019 [00:02<00:05, 1419.79it/s]"
     ]
    },
    {
     "name": "stdout",
     "output_type": "stream",
     "text": [
      "error downloading structure for Q8IVF4 HTTP Error 404: Not Found\n",
      "https://alphafold.ebi.ac.uk/files/AF-Q8IVF4-F1-model_v4.pdb\n",
      "error downloading structure for Q9P2D1 HTTP Error 404: Not Found\n",
      "https://alphafold.ebi.ac.uk/files/AF-Q9P2D1-F1-model_v4.pdb\n",
      "error downloading structure for Q7Z7M0 HTTP Error 404: Not Found\n",
      "https://alphafold.ebi.ac.uk/files/AF-Q7Z7M0-F1-model_v4.pdb\n",
      "error downloading structure for Q8IZT6 HTTP Error 404: Not Found\n",
      "https://alphafold.ebi.ac.uk/files/AF-Q8IZT6-F1-model_v4.pdb\n"
     ]
    },
    {
     "name": "stderr",
     "output_type": "stream",
     "text": [
      " 31%|███████████▏                        | 3439/11019 [00:02<00:06, 1122.99it/s]"
     ]
    },
    {
     "name": "stdout",
     "output_type": "stream",
     "text": [
      "error downloading structure for Q9P2P6 HTTP Error 404: Not Found\n",
      "https://alphafold.ebi.ac.uk/files/AF-Q9P2P6-F1-model_v4.pdb\n",
      "error downloading structure for Q9NZR2 HTTP Error 404: Not Found\n",
      "https://alphafold.ebi.ac.uk/files/AF-Q9NZR2-F1-model_v4.pdb\n",
      "error downloading structure for Q8NFP9 HTTP Error 404: Not Found\n",
      "https://alphafold.ebi.ac.uk/files/AF-Q8NFP9-F1-model_v4.pdb\n",
      "error downloading structure for Q8WXH0 HTTP Error 404: Not Found\n",
      "https://alphafold.ebi.ac.uk/files/AF-Q8WXH0-F1-model_v4.pdb\n"
     ]
    },
    {
     "name": "stderr",
     "output_type": "stream",
     "text": [
      " 33%|███████████▊                        | 3626/11019 [00:02<00:06, 1166.50it/s]"
     ]
    },
    {
     "name": "stdout",
     "output_type": "stream",
     "text": [
      "error downloading structure for Q9BQE4 HTTP Error 404: Not Found\n",
      "https://alphafold.ebi.ac.uk/files/AF-Q9BQE4-F1-model_v4.pdb\n",
      "error downloading structure for Q8IZQ5 HTTP Error 404: Not Found\n",
      "https://alphafold.ebi.ac.uk/files/AF-Q8IZQ5-F1-model_v4.pdb\n",
      "error downloading structure for P13611 HTTP Error 404: Not Found\n",
      "https://alphafold.ebi.ac.uk/files/AF-P13611-F1-model_v4.pdb\n",
      "error downloading structure for Q9Y6D0 HTTP Error 404: Not Found\n",
      "https://alphafold.ebi.ac.uk/files/AF-Q9Y6D0-F1-model_v4.pdb\n"
     ]
    },
    {
     "name": "stderr",
     "output_type": "stream",
     "text": [
      " 34%|████████████▋                        | 3760/11019 [00:03<00:08, 847.63it/s]"
     ]
    },
    {
     "name": "stdout",
     "output_type": "stream",
     "text": [
      "error downloading structure for P04275 HTTP Error 404: Not Found\n",
      "https://alphafold.ebi.ac.uk/files/AF-P04275-F1-model_v4.pdb\n",
      "error downloading structure for Q9NZV5 HTTP Error 404: Not Found\n",
      "https://alphafold.ebi.ac.uk/files/AF-Q9NZV5-F1-model_v4.pdb\n",
      "error downloading structure for Q5THJ4 HTTP Error 404: Not Found\n",
      "https://alphafold.ebi.ac.uk/files/AF-Q5THJ4-F1-model_v4.pdb\n",
      "error downloading structure for Q9BXT5 HTTP Error 404: Not Found\n",
      "https://alphafold.ebi.ac.uk/files/AF-Q9BXT5-F1-model_v4.pdb\n"
     ]
    },
    {
     "name": "stderr",
     "output_type": "stream",
     "text": [
      " 36%|█████████████▎                       | 3956/11019 [00:03<00:07, 955.98it/s]"
     ]
    },
    {
     "name": "stdout",
     "output_type": "stream",
     "text": [
      "error downloading structure for O60281 HTTP Error 404: Not Found\n",
      "https://alphafold.ebi.ac.uk/files/AF-O60281-F1-model_v4.pdb\n",
      "error downloading structure for O15230 HTTP Error 404: Not Found\n",
      "https://alphafold.ebi.ac.uk/files/AF-O15230-F1-model_v4.pdb\n",
      "error downloading structure for Q9Y6V0 HTTP Error 404: Not Found\n",
      "https://alphafold.ebi.ac.uk/files/AF-Q9Y6V0-F1-model_v4.pdb\n",
      "error downloading structure for Q12830 HTTP Error 404: Not Found\n",
      "https://alphafold.ebi.ac.uk/files/AF-Q12830-F1-model_v4.pdb\n"
     ]
    },
    {
     "name": "stderr",
     "output_type": "stream",
     "text": [
      " 37%|█████████████▋                       | 4071/11019 [00:03<00:11, 607.84it/s]"
     ]
    },
    {
     "name": "stdout",
     "output_type": "stream",
     "text": [
      "error downloading structure for Q96M86 HTTP Error 404: Not Found\n",
      "https://alphafold.ebi.ac.uk/files/AF-Q96M86-F1-model_v4.pdb\n",
      "error downloading structure for Q02224 HTTP Error 404: Not Found\n",
      "https://alphafold.ebi.ac.uk/files/AF-Q02224-F1-model_v4.pdb\n",
      "error downloading structure for Q5T011 HTTP Error 404: Not Found\n",
      "https://alphafold.ebi.ac.uk/files/AF-Q5T011-F1-model_v4.pdb\n",
      "error downloading structure for Q86UQ4 HTTP Error 404: Not Found\n",
      "https://alphafold.ebi.ac.uk/files/AF-Q86UQ4-F1-model_v4.pdb\n"
     ]
    },
    {
     "name": "stderr",
     "output_type": "stream",
     "text": [
      " 38%|██████████████▏                      | 4240/11019 [00:04<00:10, 620.63it/s]"
     ]
    },
    {
     "name": "stdout",
     "output_type": "stream",
     "text": [
      "error downloading structure for P22352 HTTP Error 404: Not Found\n",
      "https://alphafold.ebi.ac.uk/files/AF-P22352-F1-model_v4.pdb\n",
      "error downloading structure for Q6ZNJ1 HTTP Error 404: Not Found\n",
      "https://alphafold.ebi.ac.uk/files/AF-Q6ZNJ1-F1-model_v4.pdb\n",
      "error downloading structure for P51587 HTTP Error 404: Not Found\n",
      "https://alphafold.ebi.ac.uk/files/AF-P51587-F1-model_v4.pdb\n",
      "error downloading structure for Q5SZK8 HTTP Error 404: Not Found\n",
      "https://alphafold.ebi.ac.uk/files/AF-Q5SZK8-F1-model_v4.pdb\n"
     ]
    },
    {
     "name": "stderr",
     "output_type": "stream",
     "text": [
      " 40%|██████████████▉                      | 4460/11019 [00:04<00:07, 840.87it/s]"
     ]
    },
    {
     "name": "stdout",
     "output_type": "stream",
     "text": [
      "error downloading structure for Q9Y6R7 HTTP Error 404: Not Found\n",
      "https://alphafold.ebi.ac.uk/files/AF-Q9Y6R7-F1-model_v4.pdb\n",
      "error downloading structure for P25054 HTTP Error 404: Not Found\n",
      "https://alphafold.ebi.ac.uk/files/AF-P25054-F1-model_v4.pdb\n",
      "error downloading structure for P15924 HTTP Error 404: Not Found\n",
      "https://alphafold.ebi.ac.uk/files/AF-P15924-F1-model_v4.pdb\n"
     ]
    },
    {
     "name": "stderr",
     "output_type": "stream",
     "text": [
      " 45%|████████████████▏                   | 4964/11019 [00:04<00:04, 1358.11it/s]"
     ]
    },
    {
     "name": "stdout",
     "output_type": "stream",
     "text": [
      "error downloading structure for P01266 HTTP Error 404: Not Found\n",
      "https://alphafold.ebi.ac.uk/files/AF-P01266-F1-model_v4.pdb\n",
      "error downloading structure for O15050 HTTP Error 404: Not Found\n",
      "https://alphafold.ebi.ac.uk/files/AF-O15050-F1-model_v4.pdb\n",
      "error downloading structure for Q9P225 HTTP Error 404: Not Found\n",
      "https://alphafold.ebi.ac.uk/files/AF-Q9P225-F1-model_v4.pdb\n"
     ]
    },
    {
     "name": "stderr",
     "output_type": "stream",
     "text": [
      " 49%|█████████████████▌                  | 5385/11019 [00:04<00:03, 1477.87it/s]"
     ]
    },
    {
     "name": "stdout",
     "output_type": "stream",
     "text": [
      "error downloading structure for Q7Z6Z7 HTTP Error 404: Not Found\n",
      "https://alphafold.ebi.ac.uk/files/AF-Q7Z6Z7-F1-model_v4.pdb\n",
      "error downloading structure for Q96JG9 HTTP Error 404: Not Found\n",
      "https://alphafold.ebi.ac.uk/files/AF-Q96JG9-F1-model_v4.pdb\n",
      "error downloading structure for Q9P2D7 HTTP Error 404: Not Found\n",
      "https://alphafold.ebi.ac.uk/files/AF-Q9P2D7-F1-model_v4.pdb\n",
      "error downloading structure for O94915 HTTP Error 404: Not Found\n",
      "https://alphafold.ebi.ac.uk/files/AF-O94915-F1-model_v4.pdb\n"
     ]
    },
    {
     "name": "stderr",
     "output_type": "stream",
     "text": [
      " 50%|██████████████████                  | 5542/11019 [00:04<00:04, 1129.58it/s]"
     ]
    },
    {
     "name": "stdout",
     "output_type": "stream",
     "text": [
      "error downloading structure for P21359 HTTP Error 404: Not Found\n",
      "https://alphafold.ebi.ac.uk/files/AF-P21359-F1-model_v4.pdb\n",
      "error downloading structure for Q7Z7G8 HTTP Error 404: Not Found\n",
      "https://alphafold.ebi.ac.uk/files/AF-Q7Z7G8-F1-model_v4.pdb\n",
      "error downloading structure for Q12802 HTTP Error 404: Not Found\n",
      "https://alphafold.ebi.ac.uk/files/AF-Q12802-F1-model_v4.pdb\n",
      "error downloading structure for Q09666 HTTP Error 404: Not Found\n",
      "https://alphafold.ebi.ac.uk/files/AF-Q09666-F1-model_v4.pdb\n"
     ]
    },
    {
     "name": "stderr",
     "output_type": "stream",
     "text": [
      " 52%|██████████████████▋                 | 5721/11019 [00:05<00:04, 1172.44it/s]"
     ]
    },
    {
     "name": "stdout",
     "output_type": "stream",
     "text": [
      "error downloading structure for P24043 HTTP Error 404: Not Found\n",
      "https://alphafold.ebi.ac.uk/files/AF-P24043-F1-model_v4.pdb\n",
      "error downloading structure for Q96PZ7 HTTP Error 404: Not Found\n",
      "https://alphafold.ebi.ac.uk/files/AF-Q96PZ7-F1-model_v4.pdb\n",
      "error downloading structure for Q2LD37 HTTP Error 404: Not Found\n",
      "https://alphafold.ebi.ac.uk/files/AF-Q2LD37-F1-model_v4.pdb\n"
     ]
    },
    {
     "name": "stderr",
     "output_type": "stream",
     "text": [
      " 55%|███████████████████▉                | 6086/11019 [00:05<00:03, 1586.86it/s]"
     ]
    },
    {
     "name": "stdout",
     "output_type": "stream",
     "text": [
      "error downloading structure for Q8TDJ6 HTTP Error 404: Not Found\n",
      "https://alphafold.ebi.ac.uk/files/AF-Q8TDJ6-F1-model_v4.pdb\n",
      "error downloading structure for Q8N3K9 HTTP Error 404: Not Found\n",
      "https://alphafold.ebi.ac.uk/files/AF-Q8N3K9-F1-model_v4.pdb\n",
      "error downloading structure for Q15751 HTTP Error 404: Not Found\n",
      "https://alphafold.ebi.ac.uk/files/AF-Q15751-F1-model_v4.pdb\n",
      "error downloading structure for P04114 HTTP Error 404: Not Found\n",
      "https://alphafold.ebi.ac.uk/files/AF-P04114-F1-model_v4.pdb\n"
     ]
    },
    {
     "name": "stderr",
     "output_type": "stream",
     "text": [
      " 57%|████████████████████▍               | 6261/11019 [00:05<00:04, 1008.02it/s]"
     ]
    },
    {
     "name": "stdout",
     "output_type": "stream",
     "text": [
      "error downloading structure for Q8WWX9 HTTP Error 404: Not Found\n",
      "https://alphafold.ebi.ac.uk/files/AF-Q8WWX9-F1-model_v4.pdb\n",
      "error downloading structure for P58107 HTTP Error 404: Not Found\n",
      "https://alphafold.ebi.ac.uk/files/AF-P58107-F1-model_v4.pdb\n",
      "error downloading structure for Q6ZQQ6 HTTP Error 404: Not Found\n",
      "https://alphafold.ebi.ac.uk/files/AF-Q6ZQQ6-F1-model_v4.pdb\n",
      "error downloading structure for P11532 HTTP Error 404: Not Found\n",
      "https://alphafold.ebi.ac.uk/files/AF-P11532-F1-model_v4.pdb\n"
     ]
    },
    {
     "name": "stderr",
     "output_type": "stream",
     "text": [
      " 59%|█████████████████████▉               | 6523/11019 [00:05<00:04, 900.31it/s]"
     ]
    },
    {
     "name": "stdout",
     "output_type": "stream",
     "text": [
      "error downloading structure for Q5T4S7 HTTP Error 404: Not Found\n",
      "https://alphafold.ebi.ac.uk/files/AF-Q5T4S7-F1-model_v4.pdb\n",
      "error downloading structure for Q86YZ3 HTTP Error 404: Not Found\n",
      "https://alphafold.ebi.ac.uk/files/AF-Q86YZ3-F1-model_v4.pdb\n",
      "error downloading structure for P49454 HTTP Error 404: Not Found\n",
      "https://alphafold.ebi.ac.uk/files/AF-P49454-F1-model_v4.pdb\n",
      "error downloading structure for Q9UPN3 HTTP Error 404: Not Found\n",
      "https://alphafold.ebi.ac.uk/files/AF-Q9UPN3-F1-model_v4.pdb\n",
      "error downloading structure for Q14517 HTTP Error 404: Not Found\n",
      "https://alphafold.ebi.ac.uk/files/AF-Q14517-F1-model_v4.pdb\n",
      "error downloading structure for P08F94 HTTP Error 404: Not Found\n",
      "https://alphafold.ebi.ac.uk/files/AF-P08F94-F1-model_v4.pdb\n",
      "error downloading structure for Q86XX4 HTTP Error 404: Not Found\n",
      "https://alphafold.ebi.ac.uk/files/AF-Q86XX4-F1-model_v4.pdb\n",
      "error downloading structure for Q12955 HTTP Error 404: Not Found\n",
      "https://alphafold.ebi.ac.uk/files/AF-Q12955-F1-model_v4.pdb\n"
     ]
    },
    {
     "name": "stderr",
     "output_type": "stream",
     "text": [
      " 62%|██████████████████████▊              | 6794/11019 [00:06<00:05, 788.83it/s]"
     ]
    },
    {
     "name": "stdout",
     "output_type": "stream",
     "text": [
      "error downloading structure for O75691 HTTP Error 404: Not Found\n",
      "https://alphafold.ebi.ac.uk/files/AF-O75691-F1-model_v4.pdb\n",
      "error downloading structure for Q9UPA5 HTTP Error 404: Not Found\n",
      "https://alphafold.ebi.ac.uk/files/AF-Q9UPA5-F1-model_v4.pdb\n",
      "error downloading structure for Q15772 HTTP Error 404: Not Found\n",
      "https://alphafold.ebi.ac.uk/files/AF-Q15772-F1-model_v4.pdb\n",
      "error downloading structure for P98088 HTTP Error 404: Not Found\n",
      "https://alphafold.ebi.ac.uk/files/AF-P98088-F1-model_v4.pdb\n"
     ]
    },
    {
     "name": "stderr",
     "output_type": "stream",
     "text": [
      " 65%|███████████████████████▍            | 7191/11019 [00:06<00:03, 1087.98it/s]"
     ]
    },
    {
     "name": "stdout",
     "output_type": "stream",
     "text": [
      "error downloading structure for P35556 HTTP Error 404: Not Found\n",
      "https://alphafold.ebi.ac.uk/files/AF-P35556-F1-model_v4.pdb\n",
      "error downloading structure for Q96RW7 HTTP Error 404: Not Found\n",
      "https://alphafold.ebi.ac.uk/files/AF-Q96RW7-F1-model_v4.pdb\n",
      "error downloading structure for P78559 HTTP Error 404: Not Found\n",
      "https://alphafold.ebi.ac.uk/files/AF-P78559-F1-model_v4.pdb\n"
     ]
    },
    {
     "name": "stderr",
     "output_type": "stream",
     "text": [
      " 66%|████████████████████████▌            | 7318/11019 [00:06<00:03, 931.51it/s]"
     ]
    },
    {
     "name": "stdout",
     "output_type": "stream",
     "text": [
      "error downloading structure for P46013 HTTP Error 404: Not Found\n",
      "https://alphafold.ebi.ac.uk/files/AF-P46013-F1-model_v4.pdb\n",
      "error downloading structure for Q9NU22 HTTP Error 404: Not Found\n",
      "https://alphafold.ebi.ac.uk/files/AF-Q9NU22-F1-model_v4.pdb\n",
      "error downloading structure for Q709C8 HTTP Error 404: Not Found\n",
      "https://alphafold.ebi.ac.uk/files/AF-Q709C8-F1-model_v4.pdb\n",
      "error downloading structure for Q16787 HTTP Error 404: Not Found\n",
      "https://alphafold.ebi.ac.uk/files/AF-Q16787-F1-model_v4.pdb\n"
     ]
    },
    {
     "name": "stderr",
     "output_type": "stream",
     "text": [
      " 68%|█████████████████████████▏           | 7519/11019 [00:07<00:04, 809.69it/s]"
     ]
    },
    {
     "name": "stdout",
     "output_type": "stream",
     "text": [
      "error downloading structure for A4UGR9 HTTP Error 404: Not Found\n",
      "https://alphafold.ebi.ac.uk/files/AF-A4UGR9-F1-model_v4.pdb\n",
      "error downloading structure for O60613 HTTP Error 404: Not Found\n",
      "https://alphafold.ebi.ac.uk/files/AF-O60613-F1-model_v4.pdb\n",
      "error downloading structure for O75445 HTTP Error 404: Not Found\n",
      "https://alphafold.ebi.ac.uk/files/AF-O75445-F1-model_v4.pdb\n",
      "error downloading structure for Q13315 HTTP Error 404: Not Found\n",
      "https://alphafold.ebi.ac.uk/files/AF-Q13315-F1-model_v4.pdb\n"
     ]
    },
    {
     "name": "stderr",
     "output_type": "stream",
     "text": [
      " 70%|█████████████████████████▊           | 7683/11019 [00:07<00:03, 915.23it/s]"
     ]
    },
    {
     "name": "stdout",
     "output_type": "stream",
     "text": [
      "error downloading structure for Q96JQ0 HTTP Error 404: Not Found\n",
      "https://alphafold.ebi.ac.uk/files/AF-Q96JQ0-F1-model_v4.pdb\n",
      "error downloading structure for Q9Y4A5 HTTP Error 404: Not Found\n",
      "https://alphafold.ebi.ac.uk/files/AF-Q9Y4A5-F1-model_v4.pdb\n",
      "error downloading structure for Q15149 HTTP Error 404: Not Found\n",
      "https://alphafold.ebi.ac.uk/files/AF-Q15149-F1-model_v4.pdb\n"
     ]
    },
    {
     "name": "stderr",
     "output_type": "stream",
     "text": [
      " 73%|██████████████████████████▎         | 8040/11019 [00:07<00:02, 1060.07it/s]"
     ]
    },
    {
     "name": "stdout",
     "output_type": "stream",
     "text": [
      "error downloading structure for Q14204 HTTP Error 404: Not Found\n",
      "https://alphafold.ebi.ac.uk/files/AF-Q14204-F1-model_v4.pdb\n",
      "error downloading structure for Q9BVL4 HTTP Error 404: Not Found\n",
      "https://alphafold.ebi.ac.uk/files/AF-Q9BVL4-F1-model_v4.pdb\n",
      "error downloading structure for O15417 HTTP Error 404: Not Found\n",
      "https://alphafold.ebi.ac.uk/files/AF-O15417-F1-model_v4.pdb\n"
     ]
    },
    {
     "name": "stderr",
     "output_type": "stream",
     "text": [
      " 74%|███████████████████████████▎         | 8150/11019 [00:07<00:03, 897.27it/s]"
     ]
    },
    {
     "name": "stdout",
     "output_type": "stream",
     "text": [
      "error downloading structure for O43149 HTTP Error 404: Not Found\n",
      "https://alphafold.ebi.ac.uk/files/AF-O43149-F1-model_v4.pdb\n",
      "error downloading structure for P78527 HTTP Error 404: Not Found\n",
      "https://alphafold.ebi.ac.uk/files/AF-P78527-F1-model_v4.pdb\n",
      "error downloading structure for Q14789 HTTP Error 404: Not Found\n",
      "https://alphafold.ebi.ac.uk/files/AF-Q14789-F1-model_v4.pdb\n",
      "error downloading structure for P59797 HTTP Error 404: Not Found\n",
      "https://alphafold.ebi.ac.uk/files/AF-P59797-F1-model_v4.pdb\n"
     ]
    },
    {
     "name": "stderr",
     "output_type": "stream",
     "text": [
      " 76%|███████████████████████████▉         | 8335/11019 [00:08<00:03, 721.72it/s]"
     ]
    },
    {
     "name": "stdout",
     "output_type": "stream",
     "text": [
      "error downloading structure for P98160 HTTP Error 404: Not Found\n",
      "https://alphafold.ebi.ac.uk/files/AF-P98160-F1-model_v4.pdb\n",
      "error downloading structure for P55073 HTTP Error 404: Not Found\n",
      "https://alphafold.ebi.ac.uk/files/AF-P55073-F1-model_v4.pdb\n",
      "error downloading structure for Q8IWI9 HTTP Error 404: Not Found\n",
      "https://alphafold.ebi.ac.uk/files/AF-Q8IWI9-F1-model_v4.pdb\n",
      "error downloading structure for Q96DT5 HTTP Error 404: Not Found\n",
      "https://alphafold.ebi.ac.uk/files/AF-Q96DT5-F1-model_v4.pdb\n"
     ]
    },
    {
     "name": "stderr",
     "output_type": "stream",
     "text": [
      " 79%|████████████████████████████▌       | 8731/11019 [00:08<00:02, 1075.65it/s]"
     ]
    },
    {
     "name": "stdout",
     "output_type": "stream",
     "text": [
      "error downloading structure for O95359 HTTP Error 404: Not Found\n",
      "https://alphafold.ebi.ac.uk/files/AF-O95359-F1-model_v4.pdb\n",
      "error downloading structure for Q96L91 HTTP Error 404: Not Found\n",
      "https://alphafold.ebi.ac.uk/files/AF-Q96L91-F1-model_v4.pdb\n",
      "error downloading structure for Q8TCU4 HTTP Error 404: Not Found\n",
      "https://alphafold.ebi.ac.uk/files/AF-Q8TCU4-F1-model_v4.pdb\n",
      "error downloading structure for P20930 HTTP Error 404: Not Found\n",
      "https://alphafold.ebi.ac.uk/files/AF-P20930-F1-model_v4.pdb\n"
     ]
    },
    {
     "name": "stderr",
     "output_type": "stream",
     "text": [
      " 81%|██████████████████████████████       | 8954/11019 [00:08<00:02, 965.08it/s]"
     ]
    },
    {
     "name": "stdout",
     "output_type": "stream",
     "text": [
      "error downloading structure for Q99715 HTTP Error 404: Not Found\n",
      "https://alphafold.ebi.ac.uk/files/AF-Q99715-F1-model_v4.pdb\n",
      "error downloading structure for Q9H251 HTTP Error 404: Not Found\n",
      "https://alphafold.ebi.ac.uk/files/AF-Q9H251-F1-model_v4.pdb\n",
      "error downloading structure for Q6KC79 HTTP Error 404: Not Found\n",
      "https://alphafold.ebi.ac.uk/files/AF-Q6KC79-F1-model_v4.pdb\n",
      "error downloading structure for O95071 HTTP Error 404: Not Found\n",
      "https://alphafold.ebi.ac.uk/files/AF-O95071-F1-model_v4.pdb\n",
      "error downloading structure for Q8TE73 HTTP Error 404: Not Found\n",
      "https://alphafold.ebi.ac.uk/files/AF-Q8TE73-F1-model_v4.pdb\n",
      "error downloading structure for Q6ZRS2 HTTP Error 404: Not Found\n",
      "https://alphafold.ebi.ac.uk/files/AF-Q6ZRS2-F1-model_v4.pdb\n",
      "error downloading structure for P98164 HTTP Error 404: Not Found\n",
      "https://alphafold.ebi.ac.uk/files/AF-P98164-F1-model_v4.pdb\n",
      "error downloading structure for Q8WUY3 HTTP Error 404: Not Found\n",
      "https://alphafold.ebi.ac.uk/files/AF-Q8WUY3-F1-model_v4.pdb\n"
     ]
    },
    {
     "name": "stderr",
     "output_type": "stream",
     "text": [
      " 83%|██████████████████████████████▋      | 9132/11019 [00:09<00:03, 594.93it/s]"
     ]
    },
    {
     "name": "stdout",
     "output_type": "stream",
     "text": [
      "error downloading structure for P12111 HTTP Error 404: Not Found\n",
      "https://alphafold.ebi.ac.uk/files/AF-P12111-F1-model_v4.pdb\n",
      "error downloading structure for Q9NT68 HTTP Error 404: Not Found\n",
      "https://alphafold.ebi.ac.uk/files/AF-Q9NT68-F1-model_v4.pdb\n",
      "error downloading structure for Q6ZS81 HTTP Error 404: Not Found\n",
      "https://alphafold.ebi.ac.uk/files/AF-Q6ZS81-F1-model_v4.pdb\n",
      "error downloading structure for Q96RL7 HTTP Error 404: Not Found\n",
      "https://alphafold.ebi.ac.uk/files/AF-Q96RL7-F1-model_v4.pdb\n"
     ]
    },
    {
     "name": "stderr",
     "output_type": "stream",
     "text": [
      " 85%|███████████████████████████████▎     | 9314/11019 [00:09<00:02, 671.20it/s]"
     ]
    },
    {
     "name": "stdout",
     "output_type": "stream",
     "text": [
      "error downloading structure for Q9C0G6 HTTP Error 404: Not Found\n",
      "https://alphafold.ebi.ac.uk/files/AF-Q9C0G6-F1-model_v4.pdb\n",
      "error downloading structure for P20929 HTTP Error 404: Not Found\n",
      "https://alphafold.ebi.ac.uk/files/AF-P20929-F1-model_v4.pdb\n",
      "error downloading structure for Q8IZQ1 HTTP Error 404: Not Found\n",
      "https://alphafold.ebi.ac.uk/files/AF-Q8IZQ1-F1-model_v4.pdb\n",
      "error downloading structure for P98161 HTTP Error 404: Not Found\n",
      "https://alphafold.ebi.ac.uk/files/AF-P98161-F1-model_v4.pdb\n"
     ]
    },
    {
     "name": "stderr",
     "output_type": "stream",
     "text": [
      " 86%|███████████████████████████████▊     | 9483/11019 [00:09<00:02, 675.88it/s]"
     ]
    },
    {
     "name": "stdout",
     "output_type": "stream",
     "text": [
      "error downloading structure for P08519 HTTP Error 404: Not Found\n",
      "https://alphafold.ebi.ac.uk/files/AF-P08519-F1-model_v4.pdb\n",
      "error downloading structure for Q68DQ2 HTTP Error 404: Not Found\n",
      "https://alphafold.ebi.ac.uk/files/AF-Q68DQ2-F1-model_v4.pdb\n",
      "error downloading structure for Q9NR48 HTTP Error 404: Not Found\n",
      "https://alphafold.ebi.ac.uk/files/AF-Q9NR48-F1-model_v4.pdb\n",
      "error downloading structure for Q9NR09 HTTP Error 404: Not Found\n",
      "https://alphafold.ebi.ac.uk/files/AF-Q9NR09-F1-model_v4.pdb\n"
     ]
    },
    {
     "name": "stderr",
     "output_type": "stream",
     "text": [
      " 87%|████████████████████████████████▎    | 9616/11019 [00:09<00:01, 753.04it/s]"
     ]
    },
    {
     "name": "stdout",
     "output_type": "stream",
     "text": [
      "error downloading structure for P36969 HTTP Error 404: Not Found\n",
      "https://alphafold.ebi.ac.uk/files/AF-P36969-F1-model_v4.pdb\n",
      "error downloading structure for Q9UKN7 HTTP Error 404: Not Found\n",
      "https://alphafold.ebi.ac.uk/files/AF-Q9UKN7-F1-model_v4.pdb\n",
      "error downloading structure for Q5VST9 HTTP Error 404: Not Found\n",
      "https://alphafold.ebi.ac.uk/files/AF-Q5VST9-F1-model_v4.pdb\n"
     ]
    },
    {
     "name": "stderr",
     "output_type": "stream",
     "text": [
      " 91%|███████████████████████████████▊   | 10022/11019 [00:09<00:00, 1081.94it/s]"
     ]
    },
    {
     "name": "stdout",
     "output_type": "stream",
     "text": [
      "error downloading structure for Q9NZV6 HTTP Error 404: Not Found\n",
      "https://alphafold.ebi.ac.uk/files/AF-Q9NZV6-F1-model_v4.pdb\n",
      "error downloading structure for Q9Y520 HTTP Error 404: Not Found\n",
      "https://alphafold.ebi.ac.uk/files/AF-Q9Y520-F1-model_v4.pdb\n",
      "error downloading structure for Q9C0D9 HTTP Error 404: Not Found\n",
      "https://alphafold.ebi.ac.uk/files/AF-Q9C0D9-F1-model_v4.pdb\n"
     ]
    },
    {
     "name": "stderr",
     "output_type": "stream",
     "text": [
      " 94%|████████████████████████████████▊  | 10329/11019 [00:10<00:00, 1118.02it/s]"
     ]
    },
    {
     "name": "stdout",
     "output_type": "stream",
     "text": [
      "error downloading structure for P62341 HTTP Error 404: Not Found\n",
      "https://alphafold.ebi.ac.uk/files/AF-P62341-F1-model_v4.pdb\n",
      "error downloading structure for O15018 HTTP Error 404: Not Found\n",
      "https://alphafold.ebi.ac.uk/files/AF-O15018-F1-model_v4.pdb\n",
      "error downloading structure for O95613 HTTP Error 404: Not Found\n",
      "https://alphafold.ebi.ac.uk/files/AF-O95613-F1-model_v4.pdb\n",
      "error downloading structure for Q6V0I7 HTTP Error 404: Not Found\n",
      "https://alphafold.ebi.ac.uk/files/AF-Q6V0I7-F1-model_v4.pdb\n"
     ]
    },
    {
     "name": "stderr",
     "output_type": "stream",
     "text": [
      " 95%|██████████████████████████████████  | 10442/11019 [00:10<00:00, 919.64it/s]"
     ]
    },
    {
     "name": "stdout",
     "output_type": "stream",
     "text": [
      "error downloading structure for Q92813 HTTP Error 404: Not Found\n",
      "https://alphafold.ebi.ac.uk/files/AF-Q92813-F1-model_v4.pdb\n",
      "error downloading structure for Q9UKN1 HTTP Error 404: Not Found\n",
      "https://alphafold.ebi.ac.uk/files/AF-Q9UKN1-F1-model_v4.pdb\n",
      "error downloading structure for O60494 HTTP Error 404: Not Found\n",
      "https://alphafold.ebi.ac.uk/files/AF-O60494-F1-model_v4.pdb\n",
      "error downloading structure for Q8NFC6 HTTP Error 404: Not Found\n",
      "https://alphafold.ebi.ac.uk/files/AF-Q8NFC6-F1-model_v4.pdb\n"
     ]
    },
    {
     "name": "stderr",
     "output_type": "stream",
     "text": [
      " 98%|██████████████████████████████████▍| 10828/11019 [00:10<00:00, 1146.97it/s]"
     ]
    },
    {
     "name": "stdout",
     "output_type": "stream",
     "text": [
      "error downloading structure for P49792 HTTP Error 404: Not Found\n",
      "https://alphafold.ebi.ac.uk/files/AF-P49792-F1-model_v4.pdb\n",
      "error downloading structure for Q9HC84 HTTP Error 404: Not Found\n",
      "https://alphafold.ebi.ac.uk/files/AF-Q9HC84-F1-model_v4.pdb\n",
      "error downloading structure for Q86UP3 HTTP Error 404: Not Found\n",
      "https://alphafold.ebi.ac.uk/files/AF-Q86UP3-F1-model_v4.pdb\n",
      "error downloading structure for Q15911 HTTP Error 404: Not Found\n",
      "https://alphafold.ebi.ac.uk/files/AF-Q15911-F1-model_v4.pdb\n"
     ]
    },
    {
     "name": "stderr",
     "output_type": "stream",
     "text": [
      "100%|███████████████████████████████████| 11019/11019 [00:10<00:00, 1017.16it/s]"
     ]
    },
    {
     "name": "stdout",
     "output_type": "stream",
     "text": [
      "error downloading structure for Q70CQ2 HTTP Error 404: Not Found\n",
      "https://alphafold.ebi.ac.uk/files/AF-Q70CQ2-F1-model_v4.pdb\n"
     ]
    },
    {
     "name": "stderr",
     "output_type": "stream",
     "text": [
      "\n"
     ]
    }
   ],
   "source": [
    "\n",
    "#create a struct folder\n",
    "folder = '/home/dmoi/datasets/PPI_antileakage/structures/'\n",
    "import os\n",
    "if not os.path.exists(folder):\n",
    "\tos.mkdir(folder)\n",
    "\n",
    "#download structures\n",
    "from foldtree2.src import AFDB_tools\n",
    "import tqdm\n",
    "for struct in tqdm.tqdm(proteins):\n",
    "\tAFDB_tools.grab_struct( struct, folder )\n",
    "\n",
    "#encode structures\n",
    "\n",
    "#transformer to weighted set\n",
    "\n",
    "#weighted jacccard pairise\n",
    "\n"
   ]
  },
  {
   "cell_type": "code",
   "execution_count": 41,
   "id": "964fb9e4",
   "metadata": {},
   "outputs": [
    {
     "name": "stdout",
     "output_type": "stream",
     "text": [
      "Checking downloaded structures...\n",
      "Number of unique proteins to check: 11019\n",
      "Number of downloaded structures: 10851\n",
      "Number of structures with PDB files: 10851\n",
      "Filtering Intra2_neg_rr with 10851 proteins...\n",
      "Intra2_neg_rr (26024, 2)\n",
      "Intra2_neg_rr (25564, 2)\n",
      "Filtering Intra1_neg_rr with 10851 proteins...\n",
      "Intra1_neg_rr (81596, 2)\n",
      "Intra1_neg_rr (77714, 2)\n",
      "Filtering Intra2_pos_rr with 10851 proteins...\n",
      "Intra2_pos_rr (26024, 2)\n",
      "Intra2_pos_rr (25566, 2)\n",
      "Filtering Intra0_pos_rr with 10851 proteins...\n",
      "Intra0_pos_rr (29630, 2)\n",
      "Intra0_pos_rr (29017, 2)\n",
      "Filtering Intra0_neg_rr with 10851 proteins...\n",
      "Intra0_neg_rr (29630, 2)\n",
      "Intra0_neg_rr (28995, 2)\n",
      "Filtering Intra1_pos_rr with 10851 proteins...\n",
      "Intra1_pos_rr (81596, 2)\n",
      "Intra1_pos_rr (77719, 2)\n"
     ]
    }
   ],
   "source": [
    "#check which structures were downloaded\n",
    "print('Checking downloaded structures...')\n",
    "#clear filtered csv files\n",
    "filtered = glob.glob(f'{datadir}*_filtered.txt')\n",
    "for f in filtered:\n",
    "\tos.remove(f)\n",
    "#recompile non-redundant set of proteins\n",
    "print( f'Number of unique proteins to check: {len(proteins)}' )\n",
    "downloaded = glob.glob(f'{folder}*.pdb')\n",
    "downloaded = [ d.split('/')[-1].split('.pdb')[0] for d in downloaded ]\n",
    "print(f'Number of downloaded structures: {len(downloaded)}')\n",
    "#intersect with proteins\n",
    "proteins = proteins.intersection( set(downloaded) )\n",
    "print(f'Number of structures with PDB files: {len(proteins)}')\n",
    "#filter dfs\n",
    "for k in dfs.keys():\n",
    "\tprint( f'Filtering {k} with {len(proteins)} proteins...' )\n",
    "\tprint( k, dfs[k].shape )\n",
    "\tdfs[k] = dfs[k][ dfs[k]['protA'].isin(proteins) & dfs[k]['protB'].isin(proteins) ]\n",
    "\tprint(k, dfs[k].shape)\n",
    "\t#add label column\n",
    "\tif 'neg' in k:\n",
    "\t\tdfs[k]['label'] = 0\n",
    "\telse:\n",
    "\t\tdfs[k]['label'] = 1\n",
    "\t#add dataset label\n",
    "\tdfs[k]['dataset'] = k.split('_')[0]\n",
    "\t#save filtered dfs\n",
    "\tdfs[k].to_csv(f'{datadir}{k}_filtered.txt', sep=' ', header=False, index=False)\n",
    "\n",
    "#concatenate all filtered dfs\n",
    "all_pairs = pd.concat( [ dfs[k] for k in dfs.keys() ] )\n",
    "all_pairs = all_pairs.drop_duplicates().reset_index(drop=True)\n"
   ]
  },
  {
   "cell_type": "code",
   "execution_count": 52,
   "id": "cb0bdf68",
   "metadata": {},
   "outputs": [
    {
     "name": "stdout",
     "output_type": "stream",
     "text": [
      "label\n",
      "1    132302\n",
      "0    132273\n",
      "Name: count, dtype: int64\n",
      "dataset\n",
      "Intra1    155433\n",
      "Intra0     58012\n",
      "Intra2     51130\n",
      "Name: count, dtype: int64\n",
      "label\n",
      "1    29017\n",
      "0    28995\n",
      "Name: count, dtype: int64\n",
      "label\n",
      "1    77719\n",
      "0    77714\n",
      "Name: count, dtype: int64\n",
      "label\n",
      "1    25566\n",
      "0    25564\n",
      "Name: count, dtype: int64\n"
     ]
    }
   ],
   "source": [
    "print( all_pairs['label'].value_counts() )\n",
    "print( all_pairs['dataset'].value_counts() )\n",
    "\n",
    "valdf = all_pairs[all_pairs['dataset'] == 'Intra0']\n",
    "traindf = all_pairs[all_pairs['dataset'] == 'Intra1']\n",
    "testdf = all_pairs[all_pairs['dataset'] == 'Intra2']\n",
    "print( valdf['label'].value_counts() )\n",
    "print( traindf['label'].value_counts() )\n",
    "print( testdf['label'].value_counts() )"
   ]
  },
  {
   "cell_type": "code",
   "execution_count": 53,
   "id": "fb6ca604",
   "metadata": {},
   "outputs": [
    {
     "name": "stdout",
     "output_type": "stream",
     "text": [
      "/home/dmoi/projects/foldtree2/foldtree2\n"
     ]
    }
   ],
   "source": [
    "cd /home/dmoi/projects/foldtree2/foldtree2"
   ]
  },
  {
   "cell_type": "code",
   "execution_count": 54,
   "id": "ebe2837f",
   "metadata": {},
   "outputs": [],
   "source": [
    "from torch_geometric.data import DataLoader\n",
    "from foldtree2.src.pdbgraph import PDB2PyG\n",
    "converter = PDB2PyG( aapropcsv='./config/aaindex1.csv')\n",
    "downloaded = glob.glob(f'{folder}*.pdb')\n",
    "#converter.store_pyg(downloaded, filename='structs_pairwise.h5', foldxdir = None, verbose = False)"
   ]
  },
  {
   "cell_type": "code",
   "execution_count": 71,
   "id": "8808c01b",
   "metadata": {},
   "outputs": [],
   "source": [
    "from foldtree2.src.pdbgraph import StructureDataset\n",
    "import torch\n",
    "\n",
    "# Create StructureDataset from the stored PyG file\n",
    "struct_dat = StructureDataset('structs_pairwise.h5')\n",
    "\n",
    "# Create a custom loader that yields pairs of encoded structures\n",
    "class PairwiseStructureLoader:\n",
    "\tdef __init__(self, struct_dataset, pairs_df):\n",
    "\t\tself.struct_dataset = struct_dataset\n",
    "\t\tself.pairs_df = pairs_df\n",
    "\t\t# Create mapping from protein ID to dataset index\n",
    "\t\tself.prot_to_idx = {prot_id: idx for idx, prot_id in enumerate(struct_dataset.structlist)}\n",
    "\t\n",
    "\tdef __getitem__(self, idx):\n",
    "\t\trow = self.pairs_df.iloc[idx]\n",
    "\t\tprot_a, prot_b = row['protA'], row['protB']\n",
    "\t\tif prot_a in self.prot_to_idx and prot_b in self.prot_to_idx:\n",
    "\t\t\tstruct_a = self.struct_dataset[self.prot_to_idx[prot_a]]\n",
    "\t\t\tstruct_b = self.struct_dataset[self.prot_to_idx[prot_b]]\n",
    "\t\t\ty = torch.tensor( row['label'] ) if 'label' in row else None\n",
    "\t\t\treturn { 'struct_a': struct_a, 'struct_b': struct_b, 'label': y }\n",
    "\t\telse:\n",
    "\t\t\traise IndexError(\"Protein ID not found in structure dataset.\")\n",
    "\n",
    "\tdef __iter__(self):\n",
    "\t\tfor _, row in self.pairs_df.iterrows():\n",
    "\t\t\tprot_a, prot_b = row['protA'], row['protB']\n",
    "\t\t\tif prot_a in self.prot_to_idx and prot_b in self.prot_to_idx:\n",
    "\t\t\t\tstruct_a = self.struct_dataset[self.prot_to_idx[prot_a]]\n",
    "\t\t\t\tstruct_b = self.struct_dataset[self.prot_to_idx[prot_b]]\n",
    "\t\t\t\ty = torch.tensor( row['label'] ) if 'label' in row else None\n",
    "\t\t\t\tyield { 'struct_a': struct_a, 'struct_b': struct_b, 'label': y }\n",
    "\n",
    "\tdef __len__(self):\n",
    "\t\treturn len(self.pairs_df)\n"
   ]
  },
  {
   "cell_type": "code",
   "execution_count": 72,
   "id": "c03fde55",
   "metadata": {},
   "outputs": [
    {
     "name": "stdout",
     "output_type": "stream",
     "text": [
      "Pairwise structure loaders created for:\n",
      "  train: 155433 pairs\n",
      "  Dataloader created with 4858 batches\n",
      "{'dataset': <__main__.PairwiseStructureLoader object at 0x7f58de56c920>, 'dataloader': <torch_geometric.deprecation.DataLoader object at 0x7f59d0100560>}\n",
      "Pairwise structure loaders created for:\n",
      "  valid: 58012 pairs\n",
      "  Dataloader created with 1813 batches\n",
      "{'dataset': <__main__.PairwiseStructureLoader object at 0x7f59d0101a60>, 'dataloader': <torch_geometric.deprecation.DataLoader object at 0x7f59d0101250>}\n",
      "Pairwise structure loaders created for:\n",
      "  test: 51130 pairs\n",
      "  Dataloader created with 1598 batches\n",
      "{'dataset': <__main__.PairwiseStructureLoader object at 0x7f59d0100920>, 'dataloader': <torch_geometric.deprecation.DataLoader object at 0x7f59d0102ae0>}\n"
     ]
    }
   ],
   "source": [
    "\n",
    "# Create loaders for each dataset split\n",
    "pairwise_loaders = {}\n",
    "for split_name, split_dfs in [('train', traindf), ('valid', valdf), ('test', testdf)]:\n",
    "\tpairwise_loaders[split_name] = {}\n",
    "\tpairwise_loaders[split_name]['dataset'] = PairwiseStructureLoader(struct_dat, split_dfs)\n",
    "\tprint(\"Pairwise structure loaders created for:\")\n",
    "\tprint(f\"  {split_name}: {len(split_dfs)} pairs\")\n",
    "\t#create dataloaders\n",
    "\tpairwise_loaders[split_name]['dataloader'] = DataLoader(pairwise_loaders[split_name]['dataset'], batch_size=32, shuffle=(split_name=='train'), num_workers=4)\n",
    "\tprint(f\"  Dataloader created with {len(pairwise_loaders[split_name]['dataloader'])} batches\")\n",
    "\tprint( pairwise_loaders[split_name] )\n",
    "\t\n",
    "\t\n"
   ]
  },
  {
   "cell_type": "code",
   "execution_count": 73,
   "id": "48eeea0e",
   "metadata": {},
   "outputs": [
    {
     "name": "stdout",
     "output_type": "stream",
     "text": [
      "{'struct_a': HeteroDataBatch(\n",
      "  identifier=[32],\n",
      "  AA={\n",
      "    x=[19799, 20],\n",
      "    batch=[19799],\n",
      "    ptr=[33],\n",
      "  },\n",
      "  R_true={\n",
      "    x=[19799, 3, 3],\n",
      "    batch=[19799],\n",
      "    ptr=[33],\n",
      "  },\n",
      "  bondangles={\n",
      "    x=[19799, 3],\n",
      "    batch=[19799],\n",
      "    ptr=[33],\n",
      "  },\n",
      "  coords={\n",
      "    x=[19799, 3],\n",
      "    batch=[19799],\n",
      "    ptr=[33],\n",
      "  },\n",
      "  fourier1di={\n",
      "    x=[19799, 80],\n",
      "    batch=[19799],\n",
      "    ptr=[33],\n",
      "  },\n",
      "  fourier1dr={\n",
      "    x=[19799, 80],\n",
      "    batch=[19799],\n",
      "    ptr=[33],\n",
      "  },\n",
      "  fourier2di={\n",
      "    x=[32, 1300],\n",
      "    batch=[32],\n",
      "    ptr=[33],\n",
      "  },\n",
      "  fourier2dr={\n",
      "    x=[32, 1300],\n",
      "    batch=[32],\n",
      "    ptr=[33],\n",
      "  },\n",
      "  godnode={\n",
      "    x=[32, 5],\n",
      "    batch=[32],\n",
      "    ptr=[33],\n",
      "  },\n",
      "  godnode4decoder={\n",
      "    x=[32, 5],\n",
      "    batch=[32],\n",
      "    ptr=[33],\n",
      "  },\n",
      "  plddt={\n",
      "    x=[19799, 1],\n",
      "    batch=[19799],\n",
      "    ptr=[33],\n",
      "  },\n",
      "  positions={\n",
      "    x=[19799, 256],\n",
      "    batch=[19799],\n",
      "    ptr=[33],\n",
      "  },\n",
      "  res={\n",
      "    x=[19799, 857],\n",
      "    batch=[19799],\n",
      "    ptr=[33],\n",
      "  },\n",
      "  t_true={\n",
      "    x=[19799, 3],\n",
      "    batch=[19799],\n",
      "    ptr=[33],\n",
      "  },\n",
      "  (godnode4decoder, informs, res)={ edge_index=[2, 19799] },\n",
      "  (godnode, informs, res)={ edge_index=[2, 19799] },\n",
      "  (res, backbone, res)={\n",
      "    edge_index=[2, 39566],\n",
      "    edge_attr=[19767],\n",
      "  },\n",
      "  (res, backbonerev, res)={\n",
      "    edge_index=[2, 39566],\n",
      "    edge_attr=[19767],\n",
      "  },\n",
      "  (res, contactPoints, res)={\n",
      "    edge_index=[2, 153086],\n",
      "    edge_attr=[153086],\n",
      "  },\n",
      "  (res, hbond, res)={\n",
      "    edge_index=[2, 20058],\n",
      "    edge_attr=[20058],\n",
      "  },\n",
      "  (res, informs, godnode)={ edge_index=[2, 19799] },\n",
      "  (res, informs, godnode4decoder)={ edge_index=[2, 19799] },\n",
      "  (res, window, res)={\n",
      "    edge_index=[2, 39470],\n",
      "    edge_attr=[39470],\n",
      "  },\n",
      "  (res, windowrev, res)={\n",
      "    edge_index=[2, 19767],\n",
      "    edge_attr=[19767],\n",
      "  }\n",
      "), 'struct_b': HeteroDataBatch(\n",
      "  identifier=[32],\n",
      "  AA={\n",
      "    x=[24477, 20],\n",
      "    batch=[24477],\n",
      "    ptr=[33],\n",
      "  },\n",
      "  R_true={\n",
      "    x=[24477, 3, 3],\n",
      "    batch=[24477],\n",
      "    ptr=[33],\n",
      "  },\n",
      "  bondangles={\n",
      "    x=[24477, 3],\n",
      "    batch=[24477],\n",
      "    ptr=[33],\n",
      "  },\n",
      "  coords={\n",
      "    x=[24477, 3],\n",
      "    batch=[24477],\n",
      "    ptr=[33],\n",
      "  },\n",
      "  fourier1di={\n",
      "    x=[24477, 80],\n",
      "    batch=[24477],\n",
      "    ptr=[33],\n",
      "  },\n",
      "  fourier1dr={\n",
      "    x=[24477, 80],\n",
      "    batch=[24477],\n",
      "    ptr=[33],\n",
      "  },\n",
      "  fourier2di={\n",
      "    x=[32, 1300],\n",
      "    batch=[32],\n",
      "    ptr=[33],\n",
      "  },\n",
      "  fourier2dr={\n",
      "    x=[32, 1300],\n",
      "    batch=[32],\n",
      "    ptr=[33],\n",
      "  },\n",
      "  godnode={\n",
      "    x=[32, 5],\n",
      "    batch=[32],\n",
      "    ptr=[33],\n",
      "  },\n",
      "  godnode4decoder={\n",
      "    x=[32, 5],\n",
      "    batch=[32],\n",
      "    ptr=[33],\n",
      "  },\n",
      "  plddt={\n",
      "    x=[24477, 1],\n",
      "    batch=[24477],\n",
      "    ptr=[33],\n",
      "  },\n",
      "  positions={\n",
      "    x=[24477, 256],\n",
      "    batch=[24477],\n",
      "    ptr=[33],\n",
      "  },\n",
      "  res={\n",
      "    x=[24477, 857],\n",
      "    batch=[24477],\n",
      "    ptr=[33],\n",
      "  },\n",
      "  t_true={\n",
      "    x=[24477, 3],\n",
      "    batch=[24477],\n",
      "    ptr=[33],\n",
      "  },\n",
      "  (godnode4decoder, informs, res)={ edge_index=[2, 24477] },\n",
      "  (godnode, informs, res)={ edge_index=[2, 24477] },\n",
      "  (res, backbone, res)={\n",
      "    edge_index=[2, 48922],\n",
      "    edge_attr=[24445],\n",
      "  },\n",
      "  (res, backbonerev, res)={\n",
      "    edge_index=[2, 48922],\n",
      "    edge_attr=[24445],\n",
      "  },\n",
      "  (res, contactPoints, res)={\n",
      "    edge_index=[2, 187740],\n",
      "    edge_attr=[187740],\n",
      "  },\n",
      "  (res, hbond, res)={\n",
      "    edge_index=[2, 25246],\n",
      "    edge_attr=[25246],\n",
      "  },\n",
      "  (res, informs, godnode)={ edge_index=[2, 24477] },\n",
      "  (res, informs, godnode4decoder)={ edge_index=[2, 24477] },\n",
      "  (res, window, res)={\n",
      "    edge_index=[2, 48826],\n",
      "    edge_attr=[48826],\n",
      "  },\n",
      "  (res, windowrev, res)={\n",
      "    edge_index=[2, 24445],\n",
      "    edge_attr=[24445],\n",
      "  }\n",
      "), 'label': tensor([0, 1, 1, 1, 0, 1, 1, 1, 1, 0, 1, 1, 1, 0, 1, 0, 0, 1, 0, 0, 0, 0, 0, 0,\n",
      "        1, 1, 1, 0, 1, 1, 0, 0])}\n"
     ]
    }
   ],
   "source": [
    "#print a sample from the pairwise loader\n",
    "for sample in pairwise_loaders['train']['dataloader']:\n",
    "\tprint(sample)\n",
    "\tbreak"
   ]
  },
  {
   "cell_type": "code",
   "execution_count": null,
   "id": "efe15af3",
   "metadata": {},
   "outputs": [],
   "source": [
    "#load encoder model\n",
    "encoder_modelpath = '/home/dmoi/projects/foldtree2/models/encoder_epoch_90.pt'\n",
    "import torch\n",
    "encoder_model = torch.load(encoder_modelpath)\n",
    "modelname = encoder_modelpath.split('/')[-1].split('.pt')[0]\n",
    "device = torch.device('cuda' if torch.cuda.is_available() else 'cpu')\n",
    "encoder_model = encoder_model.to(device)\n",
    "encoder_model.eval()\n",
    "model_embeddings = encoder_model.vector_quantizer.embeddings.clone().detach().cpu()"
   ]
  },
  {
   "cell_type": "code",
   "execution_count": null,
   "id": "7083f2c9",
   "metadata": {},
   "outputs": [],
   "source": [
    "#use the encoder to transform the structures to ords \n",
    "\n",
    "\n",
    "z1, _  = encoder_model.forward( sample['struct_a'].to(device) )\n",
    "z2, _  = encoder_model.forward( sample['struct_b'].to(device) )\n",
    "#discretize\n",
    "z1_q , _ = encoder_model.vector_quantizer.discretize_z( z1 )\n",
    "z2_q , _ = encoder_model.vector_quantizer.discretize_z( z2 )\n",
    "#embeddings \n",
    "z1_e = encoder_model.vector_quantizer.embeddings[z1_q]\n",
    "z2_e = encoder_model.vector_quantizer.embeddings[z2_q]\n",
    "\n"
   ]
  },
  {
   "cell_type": "code",
   "execution_count": null,
   "id": "4306b31b",
   "metadata": {},
   "outputs": [],
   "source": [
    "#create the pairwise transformer model\n",
    "pairwise_model = pairwise.PairwiseTransformerModel(\n",
    "    input_dim=model_embeddings.shape[1],\n",
    "    num_heads=8,\n",
    "    num_layers=6,\n",
    "    ff_dim=2048,\n",
    "    dropout=0.1,\n",
    "    encoder=encoder_model\n",
    ")\n",
    "#initialize the model embeddings with the encoder embeddings \n",
    "pairwise_model.embeddings = model_embeddings\n",
    "pairwise_model = pairwise_model.to(device)\n",
    "pairwise_model.train()"
   ]
  },
  {
   "cell_type": "code",
   "execution_count": null,
   "id": "e01a19af",
   "metadata": {},
   "outputs": [],
   "source": [
    "#forward pass\n",
    "figurestack = []\n",
    "reload = False\n",
    "import glob\n",
    "if reload == True:\n",
    "\tpairwise_models = glob.glob('models/pairwise_epoch_*.pth')\n",
    "\tif len(pairwise_models) > 0:\n",
    "\t\tlatest_model = max(pairwise_models, key=os.path.getctime)\n",
    "\t\tprint(f\"Loading model from {latest_model}\")\n",
    "\t\tpairwise_model = torch.load(latest_model)\n",
    "def pairloss(preds, labels):\n",
    "\tloss_fn = torch.nn.BCEWithLogitsLoss()\n",
    "\treturn loss_fn(preds, labels.float())\n",
    "\t\n",
    "\n",
    "\n",
    "\t#save model checkpoint\n",
    "\tif epoch % 20 == 0:\n",
    "\t\ttorch.save(encoder, f'models/encoder_epoch_{epoch}.pt')\n",
    "\t\ttorch.save(decoder, f'models/decoder_epoch_{epoch}.pt')\n",
    "\n",
    "\n",
    "\n"
   ]
  },
  {
   "cell_type": "code",
   "execution_count": null,
   "id": "26e889a6",
   "metadata": {},
   "outputs": [],
   "source": [
    "\n",
    "#extract the encoder embedding dictionary\n",
    "encoder_codebook = encoder.vector_quantizer.embeddings.detach().clone().cpu()\n",
    "#show the embedding dictionary\n",
    "import matplotlib.pyplot as plt\n",
    "plt.figure(figsize=(10,10))\n",
    "plt.imshow(encoder_codebook, aspect='auto', cmap='viridis')\n",
    "plt.colorbar()\n",
    "plt.title('Encoder Embedding Dictionary')\n",
    "plt.xlabel('Embedding Dimension')\n",
    "plt.ylabel('Code Index')\n",
    "plt.show()"
   ]
  },
  {
   "cell_type": "code",
   "execution_count": null,
   "id": "911608e7",
   "metadata": {},
   "outputs": [],
   "source": [
    "def load_encoded_fasta(filename, alphabet=None, replace=None):\n",
    "\tseqstr = ''\n",
    "\tseqdict = {}\n",
    "\n",
    "\twith open(filename, 'r') as f:\n",
    "\n",
    "\t\t#read all chars of file into a string\n",
    "\t\tfor i,line in enumerate(tqdm.tqdm(f)):\n",
    "\n",
    "\t\t\tif line[0] == '>' and i > 0:\n",
    "\t\t\t\tseqdict[ID] = seqstr[:-1]\n",
    "\t\t\t\tID = line[1:].strip()\n",
    "\t\t\t\tseqstr = ''\n",
    "\t\t\telif line[0] == '>' and i == 0:\n",
    "\t\t\t\tID = line[1:].strip()\n",
    "\t\t\t\tseqstr = ''\n",
    "\t\t\tembeddingselse:\n",
    "\t\t\t\tseqstr += line\n",
    "\t\tif '' in seqdict:\n",
    "\t\t\tdel seqdict['']\n",
    "\t\t\n",
    "\tencoded_df = pd.DataFrame( seqdict.items() , columns=['protid', 'seq'] )\n",
    "\tencoded_df['seqlen'] = encoded_df.seq.map( lambda x: len(x) )\n",
    "\t#change index to protid\n",
    "\tencoded_df.index = encoded_df.protid\n",
    "\tencoded_df = encoded_df.drop( 'protid', axis=1 )\n",
    "\tencoded_df['ord'] = encoded_df.seq.map( lambda x: [ ord(c) for c in x] )\n",
    "\t#hex starts at 1\n",
    "\tencoded_df['hex2'] = encoded_df.ord.map( lambda x: [ hex(c) for c in x] )\n",
    "\treturn encoded_df\n",
    "\n",
    "\t"
   ]
  },
  {
   "cell_type": "code",
   "execution_count": null,
   "id": "59f89fde",
   "metadata": {},
   "outputs": [],
   "source": [
    "encoded_fasta = modelname+'_aln_encoded.fasta' \n",
    "encoded_df = load_encoded_fasta(encoded_fasta, alphabet=encoder.alphabet, replace=False)\n",
    "print(encoded_df.head())\n",
    "encoded_df['ord'] = encoded_df.seq.map( lambda x: [ ord(c) for c in x] )\n",
    "# get the set of ords\n",
    "ordset = set()\n",
    "for o in encoded_df.ord:\n",
    "\tordset = ordset.union( set(o) )\n",
    "print(f'Number of unique ords: {len(ordset)}')\n",
    "#map ords to indices\n",
    "ord2idx = { o:i for i,o in enumerate(sorted(list(ordset))) }\n",
    "print(ord2idx)\n",
    "#map indices to ords\n",
    "idx2ord = { i:o for o,i in ord2idx.items() }\n",
    "print(idx2ord)\n",
    "encoded_df['idx'] = encoded_df.ord.map( lambda x: [ ord2idx[c] for c in x] )\n",
    "print(encoded_df.head())\n",
    "#use the indices to train the pairwise model\n"
   ]
  },
  {
   "cell_type": "code",
   "execution_count": null,
   "id": "99ee27c5",
   "metadata": {},
   "outputs": [],
   "source": [
    "#encode structures\n",
    "traindfs = { k: dfs[k] for k in dfs.keys() if 'Intra0' in k }\n",
    "validfs = { k: dfs[k] for k in dfs.keys() if 'Intra1' in k }\n",
    "testdfs = { k: dfs[k] for k in dfs.keys() if 'Intra2' in k }"
   ]
  },
  {
   "cell_type": "code",
   "execution_count": null,
   "id": "e9ea99d7",
   "metadata": {},
   "outputs": [],
   "source": [
    "\n",
    "for data in pairwise_loaders['train']['PPI']:\n",
    "\tprot1, prot2 = data['struct_a'], data['struct_b']\n",
    "\ty = data['label']\n",
    "\tprot1 = prot1.to(device)\n",
    "\tprot2 = prot2.to(device)\n",
    "\ty = y.to(device) if y is not None else None\n",
    "\t#forward pass through encoder\n",
    "\tz, vqloss = encoder_model( prot1 , None )\n",
    "\tzdiscrete = encoder_model.vector_quantizer.discretize_z(z)\n",
    "\tdata['ords'] = zdiscrete.detach().to(device)"
   ]
  },
  {
   "cell_type": "code",
   "execution_count": null,
   "id": "4e665b04",
   "metadata": {},
   "outputs": [],
   "source": [
    "# add the encoded sequences to the dataframes\n",
    "for k in traindfs.keys():\n",
    "\ttraindfs[k] = traindfs[k].merge( encoded_df, left_on='protA', right_index=True, how='inner' )\n",
    "\ttraindfs[k] = traindfs[k].merge( encoded_df, left_on='protB', right_index=True, how='inner', suffixes=('_A', '_B') )\n",
    "\t\n",
    "\tprint(k, traindfs[k].shape)\n",
    "\t"
   ]
  },
  {
   "cell_type": "code",
   "execution_count": null,
   "id": "bc9466d0",
   "metadata": {},
   "outputs": [],
   "source": [
    "#train the model for pairwise\n",
    "\n",
    "from foldtree2.src import pairwise\n",
    "\n",
    "\n",
    "\n"
   ]
  },
  {
   "cell_type": "code",
   "execution_count": null,
   "id": "f754ca07",
   "metadata": {},
   "outputs": [],
   "source": [
    "#pr and roc"
   ]
  },
  {
   "cell_type": "code",
   "execution_count": null,
   "id": "76fb7420",
   "metadata": {},
   "outputs": [],
   "source": [
    "#compare to hashed jaccard \n",
    "\n",
    "#pr and roc"
   ]
  }
 ],
 "metadata": {
  "kernelspec": {
   "display_name": "Python 3 (ipykernel)",
   "language": "python",
   "name": "python3"
  },
  "language_info": {
   "codemirror_mode": {
    "name": "ipython",
    "version": 3
   },
   "file_extension": ".py",
   "mimetype": "text/x-python",
   "name": "python",
   "nbconvert_exporter": "python",
   "pygments_lexer": "ipython3",
   "version": "3.12.3"
  }
 },
 "nbformat": 4,
 "nbformat_minor": 5
}
