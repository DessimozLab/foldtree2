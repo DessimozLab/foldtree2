{
 "cells": [
  {
   "cell_type": "code",
   "execution_count": 1,
   "id": "9c96d27e",
   "metadata": {},
   "outputs": [
    {
     "name": "stdout",
     "output_type": "stream",
     "text": [
      "Intra2_neg_rr (26024, 2)\n",
      "Intra1_neg_rr (81596, 2)\n",
      "Intra2_pos_rr (26024, 2)\n",
      "Intra0_pos_rr (29630, 2)\n",
      "Intra0_neg_rr (29630, 2)\n",
      "Intra1_pos_rr (81596, 2)\n",
      "Number of unique proteins: 11019\n"
     ]
    }
   ],
   "source": [
    "#choose model \n",
    "import glob\n",
    "import pandas as pd\n",
    "datadir = '/home/dmoi/datasets/PPI_antileakage/'\n",
    "pairs = glob.glob(f'{datadir}*.txt')\n",
    "dfs = { p.split('/')[-1].split('.txt')[0]: pd.read_csv(p, sep = ' ', header=None, names=['protA', 'protB']) for p in pairs if 'filtered' not in p }\n",
    "for k in dfs.keys():\n",
    "\tprint(k, dfs[k].shape)\n",
    "#compile non-redundant set of proteins\n",
    "proteins = set()\n",
    "for k in dfs.keys():\n",
    "\tproteins = proteins.union( set(dfs[k]['protA'].tolist()) ).union( set(dfs[k]['protB'].tolist()) )\n",
    "print(f'Number of unique proteins: {len(proteins)}')\n"
   ]
  },
  {
   "cell_type": "code",
   "execution_count": 2,
   "id": "c9b7e1be",
   "metadata": {},
   "outputs": [
    {
     "name": "stderr",
     "output_type": "stream",
     "text": [
      "  1%|█                                                                                                                                                                                                    | 61/11019 [00:00<00:46, 233.91it/s]"
     ]
    },
    {
     "name": "stdout",
     "output_type": "stream",
     "text": [
      "error downloading structure for O75445 HTTP Error 404: Not Found\n",
      "https://alphafold.ebi.ac.uk/files/AF-O75445-F1-model_v4.pdb\n",
      "error downloading structure for Q9P225 HTTP Error 404: Not Found\n",
      "https://alphafold.ebi.ac.uk/files/AF-Q9P225-F1-model_v4.pdb\n",
      "error downloading structure for Q8IWI9 HTTP Error 404: Not Found\n",
      "https://alphafold.ebi.ac.uk/files/AF-Q8IWI9-F1-model_v4.pdb\n",
      "error downloading structure for Q9NZV5 HTTP Error 404: Not Found\n",
      "https://alphafold.ebi.ac.uk/files/AF-Q9NZV5-F1-model_v4.pdb\n"
     ]
    },
    {
     "name": "stderr",
     "output_type": "stream",
     "text": [
      "  2%|███▍                                                                                                                                                                                                | 195/11019 [00:00<00:19, 569.48it/s]"
     ]
    },
    {
     "name": "stdout",
     "output_type": "stream",
     "text": [
      "error downloading structure for Q6V0I7 HTTP Error 404: Not Found\n",
      "https://alphafold.ebi.ac.uk/files/AF-Q6V0I7-F1-model_v4.pdb\n",
      "error downloading structure for Q9NR48 HTTP Error 404: Not Found\n",
      "https://alphafold.ebi.ac.uk/files/AF-Q9NR48-F1-model_v4.pdb\n",
      "error downloading structure for Q8WZ42 HTTP Error 404: Not Found\n",
      "https://alphafold.ebi.ac.uk/files/AF-Q8WZ42-F1-model_v4.pdb\n",
      "error downloading structure for O60281 HTTP Error 404: Not Found\n",
      "https://alphafold.ebi.ac.uk/files/AF-O60281-F1-model_v4.pdb\n"
     ]
    },
    {
     "name": "stderr",
     "output_type": "stream",
     "text": [
      "  6%|███████████▉                                                                                                                                                                                       | 673/11019 [00:00<00:08, 1268.83it/s]"
     ]
    },
    {
     "name": "stdout",
     "output_type": "stream",
     "text": [
      "error downloading structure for Q15911 HTTP Error 404: Not Found\n",
      "https://alphafold.ebi.ac.uk/files/AF-Q15911-F1-model_v4.pdb\n",
      "error downloading structure for Q709C8 HTTP Error 404: Not Found\n",
      "https://alphafold.ebi.ac.uk/files/AF-Q709C8-F1-model_v4.pdb\n",
      "error downloading structure for O15230 HTTP Error 404: Not Found\n",
      "https://alphafold.ebi.ac.uk/files/AF-O15230-F1-model_v4.pdb\n"
     ]
    },
    {
     "name": "stderr",
     "output_type": "stream",
     "text": [
      "  8%|████████████████                                                                                                                                                                                   | 911/11019 [00:01<00:09, 1021.11it/s]"
     ]
    },
    {
     "name": "stdout",
     "output_type": "stream",
     "text": [
      "error downloading structure for P35556 HTTP Error 404: Not Found\n",
      "https://alphafold.ebi.ac.uk/files/AF-P35556-F1-model_v4.pdb\n",
      "error downloading structure for Q02224 HTTP Error 404: Not Found\n",
      "https://alphafold.ebi.ac.uk/files/AF-Q02224-F1-model_v4.pdb\n",
      "error downloading structure for Q9NR99 HTTP Error 404: Not Found\n",
      "https://alphafold.ebi.ac.uk/files/AF-Q9NR99-F1-model_v4.pdb\n"
     ]
    },
    {
     "name": "stderr",
     "output_type": "stream",
     "text": [
      "  9%|█████████████████▉                                                                                                                                                                                 | 1013/11019 [00:01<00:10, 937.05it/s]"
     ]
    },
    {
     "name": "stdout",
     "output_type": "stream",
     "text": [
      "error downloading structure for Q15149 HTTP Error 404: Not Found\n",
      "https://alphafold.ebi.ac.uk/files/AF-Q15149-F1-model_v4.pdb\n",
      "error downloading structure for Q7Z7M0 HTTP Error 404: Not Found\n",
      "https://alphafold.ebi.ac.uk/files/AF-Q7Z7M0-F1-model_v4.pdb\n",
      "error downloading structure for Q9NT68 HTTP Error 404: Not Found\n",
      "https://alphafold.ebi.ac.uk/files/AF-Q9NT68-F1-model_v4.pdb\n",
      "error downloading structure for O43149 HTTP Error 404: Not Found\n",
      "https://alphafold.ebi.ac.uk/files/AF-O43149-F1-model_v4.pdb\n"
     ]
    },
    {
     "name": "stderr",
     "output_type": "stream",
     "text": [
      " 10%|███████████████████▌                                                                                                                                                                               | 1106/11019 [00:01<00:14, 680.46it/s]"
     ]
    },
    {
     "name": "stdout",
     "output_type": "stream",
     "text": [
      "error downloading structure for Q9BQE4 HTTP Error 404: Not Found\n",
      "https://alphafold.ebi.ac.uk/files/AF-Q9BQE4-F1-model_v4.pdb\n",
      "error downloading structure for Q8N3K9 HTTP Error 404: Not Found\n",
      "https://alphafold.ebi.ac.uk/files/AF-Q8N3K9-F1-model_v4.pdb\n",
      "error downloading structure for Q9HC84 HTTP Error 404: Not Found\n",
      "https://alphafold.ebi.ac.uk/files/AF-Q9HC84-F1-model_v4.pdb\n"
     ]
    },
    {
     "name": "stderr",
     "output_type": "stream",
     "text": [
      " 11%|████████████████████▉                                                                                                                                                                              | 1182/11019 [00:01<00:17, 569.64it/s]"
     ]
    },
    {
     "name": "stdout",
     "output_type": "stream",
     "text": [
      "error downloading structure for P21359 HTTP Error 404: Not Found\n",
      "https://alphafold.ebi.ac.uk/files/AF-P21359-F1-model_v4.pdb\n",
      "error downloading structure for P42858 HTTP Error 404: Not Found\n",
      "https://alphafold.ebi.ac.uk/files/AF-P42858-F1-model_v4.pdb\n",
      "error downloading structure for P59797 HTTP Error 404: Not Found\n",
      "https://alphafold.ebi.ac.uk/files/AF-P59797-F1-model_v4.pdb\n"
     ]
    },
    {
     "name": "stderr",
     "output_type": "stream",
     "text": [
      " 13%|█████████████████████████▌                                                                                                                                                                         | 1447/11019 [00:01<00:12, 787.79it/s]"
     ]
    },
    {
     "name": "stdout",
     "output_type": "stream",
     "text": [
      "error downloading structure for Q8NF91 HTTP Error 404: Not Found\n",
      "https://alphafold.ebi.ac.uk/files/AF-Q8NF91-F1-model_v4.pdb\n",
      "error downloading structure for P01266 HTTP Error 404: Not Found\n",
      "https://alphafold.ebi.ac.uk/files/AF-P01266-F1-model_v4.pdb\n",
      "error downloading structure for Q9NYQ7 HTTP Error 404: Not Found\n",
      "https://alphafold.ebi.ac.uk/files/AF-Q9NYQ7-F1-model_v4.pdb\n"
     ]
    },
    {
     "name": "stderr",
     "output_type": "stream",
     "text": [
      " 15%|████████████████████████████▉                                                                                                                                                                      | 1633/11019 [00:02<00:09, 942.32it/s]"
     ]
    },
    {
     "name": "stdout",
     "output_type": "stream",
     "text": [
      "error downloading structure for Q9C0D9 HTTP Error 404: Not Found\n",
      "https://alphafold.ebi.ac.uk/files/AF-Q9C0D9-F1-model_v4.pdb\n",
      "error downloading structure for P49792 HTTP Error 404: Not Found\n",
      "https://alphafold.ebi.ac.uk/files/AF-P49792-F1-model_v4.pdb\n",
      "error downloading structure for O15018 HTTP Error 404: Not Found\n",
      "https://alphafold.ebi.ac.uk/files/AF-O15018-F1-model_v4.pdb\n"
     ]
    },
    {
     "name": "stderr",
     "output_type": "stream",
     "text": [
      " 17%|█████████████████████████████████                                                                                                                                                                  | 1865/11019 [00:02<00:11, 782.30it/s]"
     ]
    },
    {
     "name": "stdout",
     "output_type": "stream",
     "text": [
      "error downloading structure for P22105 HTTP Error 404: Not Found\n",
      "https://alphafold.ebi.ac.uk/files/AF-P22105-F1-model_v4.pdb\n",
      "error downloading structure for P55073 HTTP Error 404: Not Found\n",
      "https://alphafold.ebi.ac.uk/files/AF-P55073-F1-model_v4.pdb\n",
      "error downloading structure for Q7Z7G8 HTTP Error 404: Not Found\n",
      "https://alphafold.ebi.ac.uk/files/AF-Q7Z7G8-F1-model_v4.pdb\n"
     ]
    },
    {
     "name": "stderr",
     "output_type": "stream",
     "text": [
      " 18%|██████████████████████████████████▌                                                                                                                                                                | 1950/11019 [00:02<00:12, 754.05it/s]"
     ]
    },
    {
     "name": "stdout",
     "output_type": "stream",
     "text": [
      "error downloading structure for P15924 HTTP Error 404: Not Found\n",
      "https://alphafold.ebi.ac.uk/files/AF-P15924-F1-model_v4.pdb\n",
      "error downloading structure for Q92813 HTTP Error 404: Not Found\n",
      "https://alphafold.ebi.ac.uk/files/AF-Q92813-F1-model_v4.pdb\n",
      "error downloading structure for Q96L91 HTTP Error 404: Not Found\n",
      "https://alphafold.ebi.ac.uk/files/AF-Q96L91-F1-model_v4.pdb\n"
     ]
    },
    {
     "name": "stderr",
     "output_type": "stream",
     "text": [
      " 21%|█████████████████████████████████████████                                                                                                                                                         | 2335/11019 [00:02<00:08, 1015.62it/s]"
     ]
    },
    {
     "name": "stdout",
     "output_type": "stream",
     "text": [
      "error downloading structure for P04114 HTTP Error 404: Not Found\n",
      "https://alphafold.ebi.ac.uk/files/AF-P04114-F1-model_v4.pdb\n",
      "error downloading structure for Q03001 HTTP Error 404: Not Found\n",
      "https://alphafold.ebi.ac.uk/files/AF-Q03001-F1-model_v4.pdb\n",
      "error downloading structure for P46013 HTTP Error 404: Not Found\n",
      "https://alphafold.ebi.ac.uk/files/AF-P46013-F1-model_v4.pdb\n"
     ]
    },
    {
     "name": "stderr",
     "output_type": "stream",
     "text": [
      " 23%|███████████████████████████████████████████▉                                                                                                                                                      | 2497/11019 [00:02<00:07, 1065.64it/s]"
     ]
    },
    {
     "name": "stdout",
     "output_type": "stream",
     "text": [
      "error downloading structure for O75592 HTTP Error 404: Not Found\n",
      "https://alphafold.ebi.ac.uk/files/AF-O75592-F1-model_v4.pdb\n",
      "error downloading structure for Q02388 HTTP Error 404: Not Found\n",
      "https://alphafold.ebi.ac.uk/files/AF-Q02388-F1-model_v4.pdb\n",
      "error downloading structure for P13611 HTTP Error 404: Not Found\n",
      "https://alphafold.ebi.ac.uk/files/AF-P13611-F1-model_v4.pdb\n"
     ]
    },
    {
     "name": "stderr",
     "output_type": "stream",
     "text": [
      " 25%|████████████████████████████████████████████████▋                                                                                                                                                 | 2768/11019 [00:03<00:08, 1007.37it/s]"
     ]
    },
    {
     "name": "stdout",
     "output_type": "stream",
     "text": [
      "error downloading structure for Q5THJ4 HTTP Error 404: Not Found\n",
      "https://alphafold.ebi.ac.uk/files/AF-Q5THJ4-F1-model_v4.pdb\n",
      "error downloading structure for O60494 HTTP Error 404: Not Found\n",
      "https://alphafold.ebi.ac.uk/files/AF-O60494-F1-model_v4.pdb\n",
      "error downloading structure for Q14315 HTTP Error 404: Not Found\n",
      "https://alphafold.ebi.ac.uk/files/AF-Q14315-F1-model_v4.pdb\n",
      "error downloading structure for P49454 HTTP Error 404: Not Found\n",
      "https://alphafold.ebi.ac.uk/files/AF-P49454-F1-model_v4.pdb\n"
     ]
    },
    {
     "name": "stderr",
     "output_type": "stream",
     "text": [
      " 26%|██████████████████████████████████████████████████▊                                                                                                                                                | 2870/11019 [00:03<00:11, 727.29it/s]"
     ]
    },
    {
     "name": "stdout",
     "output_type": "stream",
     "text": [
      "error downloading structure for Q9Y6R7 HTTP Error 404: Not Found\n",
      "https://alphafold.ebi.ac.uk/files/AF-Q9Y6R7-F1-model_v4.pdb\n",
      "error downloading structure for P78559 HTTP Error 404: Not Found\n",
      "https://alphafold.ebi.ac.uk/files/AF-P78559-F1-model_v4.pdb\n",
      "error downloading structure for Q09666 HTTP Error 404: Not Found\n",
      "https://alphafold.ebi.ac.uk/files/AF-Q09666-F1-model_v4.pdb\n",
      "error downloading structure for Q68DQ2 HTTP Error 404: Not Found\n",
      "https://alphafold.ebi.ac.uk/files/AF-Q68DQ2-F1-model_v4.pdb\n"
     ]
    },
    {
     "name": "stderr",
     "output_type": "stream",
     "text": [
      " 31%|███████████████████████████████████████████████████████████▊                                                                                                                                      | 3400/11019 [00:03<00:06, 1200.47it/s]"
     ]
    },
    {
     "name": "stdout",
     "output_type": "stream",
     "text": [
      "error downloading structure for Q7Z6Z7 HTTP Error 404: Not Found\n",
      "https://alphafold.ebi.ac.uk/files/AF-Q7Z6Z7-F1-model_v4.pdb\n",
      "error downloading structure for Q14643 HTTP Error 404: Not Found\n",
      "https://alphafold.ebi.ac.uk/files/AF-Q14643-F1-model_v4.pdb\n",
      "error downloading structure for Q14517 HTTP Error 404: Not Found\n",
      "https://alphafold.ebi.ac.uk/files/AF-Q14517-F1-model_v4.pdb\n",
      "error downloading structure for Q96RL7 HTTP Error 404: Not Found\n",
      "https://alphafold.ebi.ac.uk/files/AF-Q96RL7-F1-model_v4.pdb\n"
     ]
    },
    {
     "name": "stderr",
     "output_type": "stream",
     "text": [
      " 33%|████████████████████████████████████████████████████████████████▍                                                                                                                                 | 3662/11019 [00:04<00:07, 1003.10it/s]"
     ]
    },
    {
     "name": "stdout",
     "output_type": "stream",
     "text": [
      "error downloading structure for Q70CQ2 HTTP Error 404: Not Found\n",
      "https://alphafold.ebi.ac.uk/files/AF-Q70CQ2-F1-model_v4.pdb\n",
      "error downloading structure for Q8N2C7 HTTP Error 404: Not Found\n",
      "https://alphafold.ebi.ac.uk/files/AF-Q8N2C7-F1-model_v4.pdb\n",
      "error downloading structure for Q2LD37 HTTP Error 404: Not Found\n",
      "https://alphafold.ebi.ac.uk/files/AF-Q2LD37-F1-model_v4.pdb\n",
      "error downloading structure for Q9C0G6 HTTP Error 404: Not Found\n",
      "https://alphafold.ebi.ac.uk/files/AF-Q9C0G6-F1-model_v4.pdb\n"
     ]
    },
    {
     "name": "stderr",
     "output_type": "stream",
     "text": [
      " 34%|██████████████████████████████████████████████████████████████████▋                                                                                                                                | 3769/11019 [00:04<00:08, 838.05it/s]"
     ]
    },
    {
     "name": "stdout",
     "output_type": "stream",
     "text": [
      "error downloading structure for Q12802 HTTP Error 404: Not Found\n",
      "https://alphafold.ebi.ac.uk/files/AF-Q12802-F1-model_v4.pdb\n",
      "error downloading structure for O15417 HTTP Error 404: Not Found\n",
      "https://alphafold.ebi.ac.uk/files/AF-O15417-F1-model_v4.pdb\n",
      "error downloading structure for Q96Q15 HTTP Error 404: Not Found\n",
      "https://alphafold.ebi.ac.uk/files/AF-Q96Q15-F1-model_v4.pdb\n"
     ]
    },
    {
     "name": "stderr",
     "output_type": "stream",
     "text": [
      " 35%|████████████████████████████████████████████████████████████████████▉                                                                                                                              | 3895/11019 [00:04<00:08, 845.77it/s]"
     ]
    },
    {
     "name": "stdout",
     "output_type": "stream",
     "text": [
      "error downloading structure for Q96T58 HTTP Error 404: Not Found\n",
      "https://alphafold.ebi.ac.uk/files/AF-Q96T58-F1-model_v4.pdb\n",
      "error downloading structure for P04275 HTTP Error 404: Not Found\n",
      "https://alphafold.ebi.ac.uk/files/AF-P04275-F1-model_v4.pdb\n",
      "error downloading structure for Q96PZ7 HTTP Error 404: Not Found\n",
      "https://alphafold.ebi.ac.uk/files/AF-Q96PZ7-F1-model_v4.pdb\n"
     ]
    },
    {
     "name": "stderr",
     "output_type": "stream",
     "text": [
      " 37%|████████████████████████████████████████████████████████████████████████▋                                                                                                                          | 4110/11019 [00:04<00:08, 809.01it/s]"
     ]
    },
    {
     "name": "stdout",
     "output_type": "stream",
     "text": [
      "error downloading structure for Q8IZQ5 HTTP Error 404: Not Found\n",
      "https://alphafold.ebi.ac.uk/files/AF-Q8IZQ5-F1-model_v4.pdb\n",
      "error downloading structure for Q86XX4 HTTP Error 404: Not Found\n",
      "https://alphafold.ebi.ac.uk/files/AF-Q86XX4-F1-model_v4.pdb\n",
      "error downloading structure for Q8WXH0 HTTP Error 404: Not Found\n",
      "https://alphafold.ebi.ac.uk/files/AF-Q8WXH0-F1-model_v4.pdb\n",
      "error downloading structure for Q96JQ0 HTTP Error 404: Not Found\n",
      "https://alphafold.ebi.ac.uk/files/AF-Q96JQ0-F1-model_v4.pdb\n",
      "error downloading structure for P78509 HTTP Error 404: Not Found\n",
      "https://alphafold.ebi.ac.uk/files/AF-P78509-F1-model_v4.pdb\n",
      "error downloading structure for O95613 HTTP Error 404: Not Found\n",
      "https://alphafold.ebi.ac.uk/files/AF-O95613-F1-model_v4.pdb\n",
      "error downloading structure for Q9P2P6 HTTP Error 404: Not Found\n",
      "https://alphafold.ebi.ac.uk/files/AF-Q9P2P6-F1-model_v4.pdb\n",
      "error downloading structure for Q9UQ35 HTTP Error 404: Not Found\n",
      "https://alphafold.ebi.ac.uk/files/AF-Q9UQ35-F1-model_v4.pdb\n"
     ]
    },
    {
     "name": "stderr",
     "output_type": "stream",
     "text": [
      " 41%|████████████████████████████████████████████████████████████████████████████████▋                                                                                                                  | 4559/11019 [00:05<00:06, 957.90it/s]"
     ]
    },
    {
     "name": "stdout",
     "output_type": "stream",
     "text": [
      "error downloading structure for Q99715 HTTP Error 404: Not Found\n",
      "https://alphafold.ebi.ac.uk/files/AF-Q99715-F1-model_v4.pdb\n",
      "error downloading structure for O75691 HTTP Error 404: Not Found\n",
      "https://alphafold.ebi.ac.uk/files/AF-O75691-F1-model_v4.pdb\n",
      "error downloading structure for P36969 HTTP Error 404: Not Found\n",
      "https://alphafold.ebi.ac.uk/files/AF-P36969-F1-model_v4.pdb\n"
     ]
    },
    {
     "name": "stderr",
     "output_type": "stream",
     "text": [
      " 43%|███████████████████████████████████████████████████████████████████████████████████▎                                                                                                              | 4732/11019 [00:05<00:06, 1029.36it/s]"
     ]
    },
    {
     "name": "stdout",
     "output_type": "stream",
     "text": [
      "error downloading structure for P08519 HTTP Error 404: Not Found\n",
      "https://alphafold.ebi.ac.uk/files/AF-P08519-F1-model_v4.pdb\n",
      "error downloading structure for Q9Y4A5 HTTP Error 404: Not Found\n",
      "https://alphafold.ebi.ac.uk/files/AF-Q9Y4A5-F1-model_v4.pdb\n",
      "error downloading structure for Q5SZK8 HTTP Error 404: Not Found\n",
      "https://alphafold.ebi.ac.uk/files/AF-Q5SZK8-F1-model_v4.pdb\n",
      "error downloading structure for Q6ZQQ6 HTTP Error 404: Not Found\n",
      "https://alphafold.ebi.ac.uk/files/AF-Q6ZQQ6-F1-model_v4.pdb\n"
     ]
    },
    {
     "name": "stderr",
     "output_type": "stream",
     "text": [
      " 44%|██████████████████████████████████████████████████████████████████████████████████████                                                                                                             | 4860/11019 [00:05<00:07, 830.75it/s]"
     ]
    },
    {
     "name": "stdout",
     "output_type": "stream",
     "text": [
      "error downloading structure for P20930 HTTP Error 404: Not Found\n",
      "https://alphafold.ebi.ac.uk/files/AF-P20930-F1-model_v4.pdb\n",
      "error downloading structure for Q14204 HTTP Error 404: Not Found\n",
      "https://alphafold.ebi.ac.uk/files/AF-Q14204-F1-model_v4.pdb\n",
      "error downloading structure for O95071 HTTP Error 404: Not Found\n",
      "https://alphafold.ebi.ac.uk/files/AF-O95071-F1-model_v4.pdb\n"
     ]
    },
    {
     "name": "stderr",
     "output_type": "stream",
     "text": [
      " 46%|██████████████████████████████████████████████████████████████████████████████████████████▌                                                                                                        | 5115/11019 [00:05<00:06, 876.36it/s]"
     ]
    },
    {
     "name": "stdout",
     "output_type": "stream",
     "text": [
      "error downloading structure for Q6ZR08 HTTP Error 404: Not Found\n",
      "https://alphafold.ebi.ac.uk/files/AF-Q6ZR08-F1-model_v4.pdb\n",
      "error downloading structure for Q9NZR2 HTTP Error 404: Not Found\n",
      "https://alphafold.ebi.ac.uk/files/AF-Q9NZR2-F1-model_v4.pdb\n",
      "error downloading structure for Q8TCU4 HTTP Error 404: Not Found\n",
      "https://alphafold.ebi.ac.uk/files/AF-Q8TCU4-F1-model_v4.pdb\n",
      "error downloading structure for Q15751 HTTP Error 404: Not Found\n",
      "https://alphafold.ebi.ac.uk/files/AF-Q15751-F1-model_v4.pdb\n"
     ]
    },
    {
     "name": "stderr",
     "output_type": "stream",
     "text": [
      " 49%|██████████████████████████████████████████████████████████████████████████████████████████████▏                                                                                                   | 5350/11019 [00:06<00:05, 1100.99it/s]"
     ]
    },
    {
     "name": "stdout",
     "output_type": "stream",
     "text": [
      "error downloading structure for Q12955 HTTP Error 404: Not Found\n",
      "https://alphafold.ebi.ac.uk/files/AF-Q12955-F1-model_v4.pdb\n",
      "error downloading structure for Q13315 HTTP Error 404: Not Found\n",
      "https://alphafold.ebi.ac.uk/files/AF-Q13315-F1-model_v4.pdb\n",
      "error downloading structure for Q6ZRS2 HTTP Error 404: Not Found\n",
      "https://alphafold.ebi.ac.uk/files/AF-Q6ZRS2-F1-model_v4.pdb\n",
      "error downloading structure for Q8TDJ6 HTTP Error 404: Not Found\n",
      "https://alphafold.ebi.ac.uk/files/AF-Q8TDJ6-F1-model_v4.pdb\n"
     ]
    },
    {
     "name": "stderr",
     "output_type": "stream",
     "text": [
      " 51%|██████████████████████████████████████████████████████████████████████████████████████████████████▌                                                                                                | 5573/11019 [00:06<00:07, 755.64it/s]"
     ]
    },
    {
     "name": "stdout",
     "output_type": "stream",
     "text": [
      "error downloading structure for P58107 HTTP Error 404: Not Found\n",
      "https://alphafold.ebi.ac.uk/files/AF-P58107-F1-model_v4.pdb\n",
      "error downloading structure for Q9Y520 HTTP Error 404: Not Found\n",
      "https://alphafold.ebi.ac.uk/files/AF-Q9Y520-F1-model_v4.pdb\n",
      "error downloading structure for Q8WUY3 HTTP Error 404: Not Found\n",
      "https://alphafold.ebi.ac.uk/files/AF-Q8WUY3-F1-model_v4.pdb\n",
      "error downloading structure for P78527 HTTP Error 404: Not Found\n",
      "https://alphafold.ebi.ac.uk/files/AF-P78527-F1-model_v4.pdb\n"
     ]
    },
    {
     "name": "stderr",
     "output_type": "stream",
     "text": [
      " 53%|███████████████████████████████████████████████████████████████████████████████████████████████████████▍                                                                                           | 5848/11019 [00:06<00:05, 930.06it/s]"
     ]
    },
    {
     "name": "stdout",
     "output_type": "stream",
     "text": [
      "error downloading structure for Q9BXT5 HTTP Error 404: Not Found\n",
      "https://alphafold.ebi.ac.uk/files/AF-Q9BXT5-F1-model_v4.pdb\n",
      "error downloading structure for O15050 HTTP Error 404: Not Found\n",
      "https://alphafold.ebi.ac.uk/files/AF-O15050-F1-model_v4.pdb\n",
      "error downloading structure for Q9NZV6 HTTP Error 404: Not Found\n",
      "https://alphafold.ebi.ac.uk/files/AF-Q9NZV6-F1-model_v4.pdb\n",
      "error downloading structure for P98088 HTTP Error 404: Not Found\n",
      "https://alphafold.ebi.ac.uk/files/AF-P98088-F1-model_v4.pdb\n"
     ]
    },
    {
     "name": "stderr",
     "output_type": "stream",
     "text": [
      " 54%|█████████████████████████████████████████████████████████████████████████████████████████████████████████▌                                                                                         | 5966/11019 [00:06<00:05, 907.35it/s]"
     ]
    },
    {
     "name": "stdout",
     "output_type": "stream",
     "text": [
      "error downloading structure for Q9Y6D0 HTTP Error 404: Not Found\n",
      "https://alphafold.ebi.ac.uk/files/AF-Q9Y6D0-F1-model_v4.pdb\n",
      "error downloading structure for P21817 HTTP Error 404: Not Found\n",
      "https://alphafold.ebi.ac.uk/files/AF-P21817-F1-model_v4.pdb\n",
      "error downloading structure for O94915 HTTP Error 404: Not Found\n",
      "https://alphafold.ebi.ac.uk/files/AF-O94915-F1-model_v4.pdb\n"
     ]
    },
    {
     "name": "stderr",
     "output_type": "stream",
     "text": [
      " 57%|███████████████████████████████████████████████████████████████████████████████████████████████████████████████▍                                                                                  | 6326/11019 [00:07<00:04, 1069.74it/s]"
     ]
    },
    {
     "name": "stdout",
     "output_type": "stream",
     "text": [
      "error downloading structure for A4UGR9 HTTP Error 404: Not Found\n",
      "https://alphafold.ebi.ac.uk/files/AF-A4UGR9-F1-model_v4.pdb\n",
      "error downloading structure for Q9NRC6 HTTP Error 404: Not Found\n",
      "https://alphafold.ebi.ac.uk/files/AF-Q9NRC6-F1-model_v4.pdb\n",
      "error downloading structure for Q9UKN1 HTTP Error 404: Not Found\n",
      "https://alphafold.ebi.ac.uk/files/AF-Q9UKN1-F1-model_v4.pdb\n",
      "error downloading structure for Q9H251 HTTP Error 404: Not Found\n",
      "https://alphafold.ebi.ac.uk/files/AF-Q9H251-F1-model_v4.pdb\n"
     ]
    },
    {
     "name": "stderr",
     "output_type": "stream",
     "text": [
      " 58%|█████████████████████████████████████████████████████████████████████████████████████████████████████████████████▉                                                                                 | 6437/11019 [00:07<00:05, 782.37it/s]"
     ]
    },
    {
     "name": "stdout",
     "output_type": "stream",
     "text": [
      "error downloading structure for Q16787 HTTP Error 404: Not Found\n",
      "https://alphafold.ebi.ac.uk/files/AF-Q16787-F1-model_v4.pdb\n",
      "error downloading structure for Q9UKN7 HTTP Error 404: Not Found\n",
      "https://alphafold.ebi.ac.uk/files/AF-Q9UKN7-F1-model_v4.pdb\n",
      "error downloading structure for Q86UQ4 HTTP Error 404: Not Found\n",
      "https://alphafold.ebi.ac.uk/files/AF-Q86UQ4-F1-model_v4.pdb\n"
     ]
    },
    {
     "name": "stderr",
     "output_type": "stream",
     "text": [
      " 62%|████████████████████████████████████████████████████████████████████████████████████████████████████████████████████████                                                                          | 6817/11019 [00:07<00:04, 1044.26it/s]"
     ]
    },
    {
     "name": "stdout",
     "output_type": "stream",
     "text": [
      "error downloading structure for Q96DT5 HTTP Error 404: Not Found\n",
      "https://alphafold.ebi.ac.uk/files/AF-Q96DT5-F1-model_v4.pdb\n",
      "error downloading structure for Q6ZS81 HTTP Error 404: Not Found\n",
      "https://alphafold.ebi.ac.uk/files/AF-Q6ZS81-F1-model_v4.pdb\n",
      "error downloading structure for Q5T4S7 HTTP Error 404: Not Found\n",
      "https://alphafold.ebi.ac.uk/files/AF-Q5T4S7-F1-model_v4.pdb\n",
      "error downloading structure for Q86YZ3 HTTP Error 404: Not Found\n",
      "https://alphafold.ebi.ac.uk/files/AF-Q86YZ3-F1-model_v4.pdb\n"
     ]
    },
    {
     "name": "stderr",
     "output_type": "stream",
     "text": [
      " 63%|███████████████████████████████████████████████████████████████████████████████████████████████████████████████████████████                                                                       | 6992/11019 [00:07<00:03, 1099.82it/s]"
     ]
    },
    {
     "name": "stdout",
     "output_type": "stream",
     "text": [
      "error downloading structure for Q8WXI7 HTTP Error 404: Not Found\n",
      "https://alphafold.ebi.ac.uk/files/AF-Q8WXI7-F1-model_v4.pdb\n",
      "error downloading structure for Q6ZNJ1 HTTP Error 404: Not Found\n",
      "https://alphafold.ebi.ac.uk/files/AF-Q6ZNJ1-F1-model_v4.pdb\n",
      "error downloading structure for P98160 HTTP Error 404: Not Found\n",
      "https://alphafold.ebi.ac.uk/files/AF-P98160-F1-model_v4.pdb\n",
      "error downloading structure for Q5VT06 HTTP Error 404: Not Found\n",
      "https://alphafold.ebi.ac.uk/files/AF-Q5VT06-F1-model_v4.pdb\n"
     ]
    },
    {
     "name": "stderr",
     "output_type": "stream",
     "text": [
      " 67%|██████████████████████████████████████████████████████████████████████████████████████████████████████████████████████████████████▍                                                               | 7407/11019 [00:08<00:03, 1071.06it/s]"
     ]
    },
    {
     "name": "stdout",
     "output_type": "stream",
     "text": [
      "error downloading structure for P25054 HTTP Error 404: Not Found\n",
      "https://alphafold.ebi.ac.uk/files/AF-P25054-F1-model_v4.pdb\n",
      "error downloading structure for P62341 HTTP Error 404: Not Found\n",
      "https://alphafold.ebi.ac.uk/files/AF-P62341-F1-model_v4.pdb\n",
      "error downloading structure for O75962 HTTP Error 404: Not Found\n",
      "https://alphafold.ebi.ac.uk/files/AF-O75962-F1-model_v4.pdb\n",
      "error downloading structure for Q99996 HTTP Error 404: Not Found\n",
      "https://alphafold.ebi.ac.uk/files/AF-Q99996-F1-model_v4.pdb\n"
     ]
    },
    {
     "name": "stderr",
     "output_type": "stream",
     "text": [
      " 69%|██████████████████████████████████████████████████████████████████████████████████████████████████████████████████████████████████████▉                                                            | 7625/11019 [00:08<00:03, 949.30it/s]"
     ]
    },
    {
     "name": "stdout",
     "output_type": "stream",
     "text": [
      "error downloading structure for O60613 HTTP Error 404: Not Found\n",
      "https://alphafold.ebi.ac.uk/files/AF-O60613-F1-model_v4.pdb\n",
      "error downloading structure for Q8NCM8 HTTP Error 404: Not Found\n",
      "https://alphafold.ebi.ac.uk/files/AF-Q8NCM8-F1-model_v4.pdb\n",
      "error downloading structure for Q9Y6V0 HTTP Error 404: Not Found\n",
      "https://alphafold.ebi.ac.uk/files/AF-Q9Y6V0-F1-model_v4.pdb\n",
      "error downloading structure for P22352 HTTP Error 404: Not Found\n",
      "https://alphafold.ebi.ac.uk/files/AF-P22352-F1-model_v4.pdb\n"
     ]
    },
    {
     "name": "stderr",
     "output_type": "stream",
     "text": [
      " 72%|████████████████████████████████████████████████████████████████████████████████████████████████████████████████████████████████████████████▏                                                     | 7966/11019 [00:08<00:02, 1109.02it/s]"
     ]
    },
    {
     "name": "stdout",
     "output_type": "stream",
     "text": [
      "error downloading structure for Q5T011 HTTP Error 404: Not Found\n",
      "https://alphafold.ebi.ac.uk/files/AF-Q5T011-F1-model_v4.pdb\n",
      "error downloading structure for Q16881 HTTP Error 404: Not Found\n",
      "https://alphafold.ebi.ac.uk/files/AF-Q16881-F1-model_v4.pdb\n",
      "error downloading structure for Q8NFP9 HTTP Error 404: Not Found\n",
      "https://alphafold.ebi.ac.uk/files/AF-Q8NFP9-F1-model_v4.pdb\n",
      "error downloading structure for P08F94 HTTP Error 404: Not Found\n",
      "https://alphafold.ebi.ac.uk/files/AF-P08F94-F1-model_v4.pdb\n"
     ]
    },
    {
     "name": "stderr",
     "output_type": "stream",
     "text": [
      " 75%|██████████████████████████████████████████████████████████████████████████████████████████████████████████████████████████████████████████████████▎                                               | 8307/11019 [00:08<00:01, 1513.98it/s]"
     ]
    },
    {
     "name": "stdout",
     "output_type": "stream",
     "text": [
      "error downloading structure for Q9UPA5 HTTP Error 404: Not Found\n",
      "https://alphafold.ebi.ac.uk/files/AF-Q9UPA5-F1-model_v4.pdb\n",
      "error downloading structure for P11532 HTTP Error 404: Not Found\n",
      "https://alphafold.ebi.ac.uk/files/AF-P11532-F1-model_v4.pdb\n",
      "error downloading structure for Q99611 HTTP Error 404: Not Found\n",
      "https://alphafold.ebi.ac.uk/files/AF-Q99611-F1-model_v4.pdb\n"
     ]
    },
    {
     "name": "stderr",
     "output_type": "stream",
     "text": [
      " 77%|█████████████████████████████████████████████████████████████████████████████████████████████████████████████████████████████████████████████████████▎                                            | 8479/11019 [00:08<00:01, 1440.55it/s]"
     ]
    },
    {
     "name": "stdout",
     "output_type": "stream",
     "text": [
      "error downloading structure for Q99698 HTTP Error 404: Not Found\n",
      "https://alphafold.ebi.ac.uk/files/AF-Q99698-F1-model_v4.pdb\n",
      "error downloading structure for Q96RW7 HTTP Error 404: Not Found\n",
      "https://alphafold.ebi.ac.uk/files/AF-Q96RW7-F1-model_v4.pdb\n",
      "error downloading structure for Q14789 HTTP Error 404: Not Found\n",
      "https://alphafold.ebi.ac.uk/files/AF-Q14789-F1-model_v4.pdb\n",
      "error downloading structure for Q8IVF4 HTTP Error 404: Not Found\n",
      "https://alphafold.ebi.ac.uk/files/AF-Q8IVF4-F1-model_v4.pdb\n"
     ]
    },
    {
     "name": "stderr",
     "output_type": "stream",
     "text": [
      " 80%|████████████████████████████████████████████████████████████████████████████████████████████████████████████████████████████████████████████████████████████                                      | 8864/11019 [00:09<00:01, 1223.54it/s]"
     ]
    },
    {
     "name": "stdout",
     "output_type": "stream",
     "text": [
      "error downloading structure for Q9UPN3 HTTP Error 404: Not Found\n",
      "https://alphafold.ebi.ac.uk/files/AF-Q9UPN3-F1-model_v4.pdb\n",
      "error downloading structure for P98164 HTTP Error 404: Not Found\n",
      "https://alphafold.ebi.ac.uk/files/AF-P98164-F1-model_v4.pdb\n",
      "error downloading structure for Q01484 HTTP Error 404: Not Found\n",
      "https://alphafold.ebi.ac.uk/files/AF-Q01484-F1-model_v4.pdb\n"
     ]
    },
    {
     "name": "stderr",
     "output_type": "stream",
     "text": [
      " 82%|██████████████████████████████████████████████████████████████████████████████████████████████████████████████████████████████████████████████████████████████▍                                   | 8997/11019 [00:09<00:01, 1034.80it/s]"
     ]
    },
    {
     "name": "stdout",
     "output_type": "stream",
     "text": [
      "error downloading structure for Q02817 HTTP Error 404: Not Found\n",
      "https://alphafold.ebi.ac.uk/files/AF-Q02817-F1-model_v4.pdb\n",
      "error downloading structure for Q86UP3 HTTP Error 404: Not Found\n",
      "https://alphafold.ebi.ac.uk/files/AF-Q86UP3-F1-model_v4.pdb\n",
      "error downloading structure for P51587 HTTP Error 404: Not Found\n",
      "https://alphafold.ebi.ac.uk/files/AF-P51587-F1-model_v4.pdb\n",
      "error downloading structure for Q9P2D7 HTTP Error 404: Not Found\n",
      "https://alphafold.ebi.ac.uk/files/AF-Q9P2D7-F1-model_v4.pdb\n"
     ]
    },
    {
     "name": "stderr",
     "output_type": "stream",
     "text": [
      " 83%|█████████████████████████████████████████████████████████████████████████████████████████████████████████████████████████████████████████████████████████████████▏                                 | 9111/11019 [00:09<00:02, 817.98it/s]"
     ]
    },
    {
     "name": "stdout",
     "output_type": "stream",
     "text": [
      "error downloading structure for Q96M86 HTTP Error 404: Not Found\n",
      "https://alphafold.ebi.ac.uk/files/AF-Q96M86-F1-model_v4.pdb\n",
      "error downloading structure for O95359 HTTP Error 404: Not Found\n",
      "https://alphafold.ebi.ac.uk/files/AF-O95359-F1-model_v4.pdb\n",
      "error downloading structure for Q8WWX9 HTTP Error 404: Not Found\n",
      "https://alphafold.ebi.ac.uk/files/AF-Q8WWX9-F1-model_v4.pdb\n",
      "error downloading structure for Q9P2D1 HTTP Error 404: Not Found\n",
      "https://alphafold.ebi.ac.uk/files/AF-Q9P2D1-F1-model_v4.pdb\n"
     ]
    },
    {
     "name": "stderr",
     "output_type": "stream",
     "text": [
      " 88%|███████████████████████████████████████████████████████████████████████████████████████████████████████████████████████████████████████████████████████████████████████████▍                      | 9741/11019 [00:10<00:00, 1437.00it/s]"
     ]
    },
    {
     "name": "stdout",
     "output_type": "stream",
     "text": [
      "error downloading structure for P20929 HTTP Error 404: Not Found\n",
      "https://alphafold.ebi.ac.uk/files/AF-P20929-F1-model_v4.pdb\n",
      "error downloading structure for O95714 HTTP Error 404: Not Found\n",
      "https://alphafold.ebi.ac.uk/files/AF-O95714-F1-model_v4.pdb\n",
      "error downloading structure for P15822 HTTP Error 404: Not Found\n",
      "https://alphafold.ebi.ac.uk/files/AF-P15822-F1-model_v4.pdb\n"
     ]
    },
    {
     "name": "stderr",
     "output_type": "stream",
     "text": [
      " 90%|███████████████████████████████████████████████████████████████████████████████████████████████████████████████████████████████████████████████████████████████████████████████▌                  | 9971/11019 [00:10<00:00, 1471.29it/s]"
     ]
    },
    {
     "name": "stdout",
     "output_type": "stream",
     "text": [
      "error downloading structure for P24043 HTTP Error 404: Not Found\n",
      "https://alphafold.ebi.ac.uk/files/AF-P24043-F1-model_v4.pdb\n",
      "error downloading structure for Q63HN8 HTTP Error 404: Not Found\n",
      "https://alphafold.ebi.ac.uk/files/AF-Q63HN8-F1-model_v4.pdb\n",
      "error downloading structure for Q9NZJ4 HTTP Error 404: Not Found\n",
      "https://alphafold.ebi.ac.uk/files/AF-Q9NZJ4-F1-model_v4.pdb\n"
     ]
    },
    {
     "name": "stderr",
     "output_type": "stream",
     "text": [
      " 92%|█████████████████████████████████████████████████████████████████████████████████████████████████████████████████████████████████████████████████████████████████████████████████▍               | 10133/11019 [00:10<00:00, 1134.27it/s]"
     ]
    },
    {
     "name": "stdout",
     "output_type": "stream",
     "text": [
      "error downloading structure for Q9NU22 HTTP Error 404: Not Found\n",
      "https://alphafold.ebi.ac.uk/files/AF-Q9NU22-F1-model_v4.pdb\n",
      "error downloading structure for Q9BVL4 HTTP Error 404: Not Found\n",
      "https://alphafold.ebi.ac.uk/files/AF-Q9BVL4-F1-model_v4.pdb\n",
      "error downloading structure for Q5VST9 HTTP Error 404: Not Found\n",
      "https://alphafold.ebi.ac.uk/files/AF-Q5VST9-F1-model_v4.pdb\n",
      "error downloading structure for Q12830 HTTP Error 404: Not Found\n",
      "https://alphafold.ebi.ac.uk/files/AF-Q12830-F1-model_v4.pdb\n"
     ]
    },
    {
     "name": "stderr",
     "output_type": "stream",
     "text": [
      " 95%|███████████████████████████████████████████████████████████████████████████████████████████████████████████████████████████████████████████████████████████████████████████████████████▋         | 10485/11019 [00:10<00:00, 1218.98it/s]"
     ]
    },
    {
     "name": "stdout",
     "output_type": "stream",
     "text": [
      "error downloading structure for Q8IZQ1 HTTP Error 404: Not Found\n",
      "https://alphafold.ebi.ac.uk/files/AF-Q8IZQ1-F1-model_v4.pdb\n",
      "error downloading structure for Q8NFC6 HTTP Error 404: Not Found\n",
      "https://alphafold.ebi.ac.uk/files/AF-Q8NFC6-F1-model_v4.pdb\n",
      "error downloading structure for Q15772 HTTP Error 404: Not Found\n",
      "https://alphafold.ebi.ac.uk/files/AF-Q15772-F1-model_v4.pdb\n",
      "error downloading structure for Q0VDD8 HTTP Error 404: Not Found\n",
      "https://alphafold.ebi.ac.uk/files/AF-Q0VDD8-F1-model_v4.pdb\n"
     ]
    },
    {
     "name": "stderr",
     "output_type": "stream",
     "text": [
      " 96%|██████████████████████████████████████████████████████████████████████████████████████████████████████████████████████████████████████████████████████████████████████████████████████████▉       | 10618/11019 [00:11<00:00, 874.28it/s]"
     ]
    },
    {
     "name": "stdout",
     "output_type": "stream",
     "text": [
      "error downloading structure for Q8IVF2 HTTP Error 404: Not Found\n",
      "https://alphafold.ebi.ac.uk/files/AF-Q8IVF2-F1-model_v4.pdb\n",
      "error downloading structure for Q6KC79 HTTP Error 404: Not Found\n",
      "https://alphafold.ebi.ac.uk/files/AF-Q6KC79-F1-model_v4.pdb\n",
      "error downloading structure for Q8IZT6 HTTP Error 404: Not Found\n",
      "https://alphafold.ebi.ac.uk/files/AF-Q8IZT6-F1-model_v4.pdb\n",
      "error downloading structure for P12111 HTTP Error 404: Not Found\n",
      "https://alphafold.ebi.ac.uk/files/AF-P12111-F1-model_v4.pdb\n"
     ]
    },
    {
     "name": "stderr",
     "output_type": "stream",
     "text": [
      " 97%|████████████████████████████████████████████████████████████████████████████████████████████████████████████████████████████████████████████████████████████████████████████████████████████▊     | 10724/11019 [00:11<00:00, 851.50it/s]"
     ]
    },
    {
     "name": "stdout",
     "output_type": "stream",
     "text": [
      "error downloading structure for Q9NR09 HTTP Error 404: Not Found\n",
      "https://alphafold.ebi.ac.uk/files/AF-Q9NR09-F1-model_v4.pdb\n",
      "error downloading structure for P98161 HTTP Error 404: Not Found\n",
      "https://alphafold.ebi.ac.uk/files/AF-P98161-F1-model_v4.pdb\n",
      "error downloading structure for Q8TE73 HTTP Error 404: Not Found\n",
      "https://alphafold.ebi.ac.uk/files/AF-Q8TE73-F1-model_v4.pdb\n",
      "error downloading structure for Q96JG9 HTTP Error 404: Not Found\n",
      "https://alphafold.ebi.ac.uk/files/AF-Q96JG9-F1-model_v4.pdb\n"
     ]
    },
    {
     "name": "stderr",
     "output_type": "stream",
     "text": [
      "100%|██████████████████████████████████████████████████████████████████████████████████████████████████████████████████████████████████████████████████████████████████████████████████████████████████| 11019/11019 [00:11<00:00, 972.37it/s]\n"
     ]
    }
   ],
   "source": [
    "\n",
    "#create a struct folder\n",
    "folder = '/home/dmoi/datasets/PPI_antileakage/structures/'\n",
    "import os\n",
    "if not os.path.exists(folder):\n",
    "\tos.mkdir(folder)\n",
    "\n",
    "#download structures\n",
    "from foldtree2.src import AFDB_tools\n",
    "import tqdm\n",
    "for struct in tqdm.tqdm(proteins):\n",
    "\tAFDB_tools.grab_struct( struct, folder )\n",
    "\n",
    "#encode structures\n",
    "\n",
    "#transformer to weighted set\n",
    "\n",
    "#weighted jacccard pairise\n",
    "\n"
   ]
  },
  {
   "cell_type": "code",
   "execution_count": 3,
   "id": "964fb9e4",
   "metadata": {},
   "outputs": [
    {
     "name": "stdout",
     "output_type": "stream",
     "text": [
      "Checking downloaded structures...\n",
      "Number of unique proteins to check: 11019\n",
      "Number of downloaded structures: 10851\n",
      "Number of structures with PDB files: 10851\n",
      "Filtering Intra2_neg_rr with 10851 proteins...\n",
      "Intra2_neg_rr (26024, 2)\n",
      "Intra2_neg_rr (25564, 2)\n",
      "Filtering Intra1_neg_rr with 10851 proteins...\n",
      "Intra1_neg_rr (81596, 2)\n",
      "Intra1_neg_rr (77714, 2)\n",
      "Filtering Intra2_pos_rr with 10851 proteins...\n",
      "Intra2_pos_rr (26024, 2)\n",
      "Intra2_pos_rr (25566, 2)\n",
      "Filtering Intra0_pos_rr with 10851 proteins...\n",
      "Intra0_pos_rr (29630, 2)\n",
      "Intra0_pos_rr (29017, 2)\n",
      "Filtering Intra0_neg_rr with 10851 proteins...\n",
      "Intra0_neg_rr (29630, 2)\n",
      "Intra0_neg_rr (28995, 2)\n",
      "Filtering Intra1_pos_rr with 10851 proteins...\n",
      "Intra1_pos_rr (81596, 2)\n",
      "Intra1_pos_rr (77719, 2)\n"
     ]
    }
   ],
   "source": [
    "#check which structures were downloaded\n",
    "print('Checking downloaded structures...')\n",
    "#clear filtered csv files\n",
    "filtered = glob.glob(f'{datadir}*_filtered.txt')\n",
    "for f in filtered:\n",
    "\tos.remove(f)\n",
    "#recompile non-redundant set of proteins\n",
    "print( f'Number of unique proteins to check: {len(proteins)}' )\n",
    "downloaded = glob.glob(f'{folder}*.pdb')\n",
    "downloaded = [ d.split('/')[-1].split('.pdb')[0] for d in downloaded ]\n",
    "print(f'Number of downloaded structures: {len(downloaded)}')\n",
    "#intersect with proteins\n",
    "proteins = proteins.intersection( set(downloaded) )\n",
    "print(f'Number of structures with PDB files: {len(proteins)}')\n",
    "#filter dfs\n",
    "for k in dfs.keys():\n",
    "\tprint( f'Filtering {k} with {len(proteins)} proteins...' )\n",
    "\tprint( k, dfs[k].shape )\n",
    "\tdfs[k] = dfs[k][ dfs[k]['protA'].isin(proteins) & dfs[k]['protB'].isin(proteins) ]\n",
    "\tprint(k, dfs[k].shape)\n",
    "\t#add label column\n",
    "\tif 'neg' in k:\n",
    "\t\tdfs[k]['label'] = 0\n",
    "\telse:\n",
    "\t\tdfs[k]['label'] = 1\n",
    "\t#add dataset label\n",
    "\tdfs[k]['dataset'] = k.split('_')[0]\n",
    "\t#save filtered dfs\n",
    "\tdfs[k].to_csv(f'{datadir}{k}_filtered.txt', sep=' ', header=False, index=False)\n",
    "\n",
    "#concatenate all filtered dfs\n",
    "all_pairs = pd.concat( [ dfs[k] for k in dfs.keys() ] )\n",
    "all_pairs = all_pairs.drop_duplicates().reset_index(drop=True)\n"
   ]
  },
  {
   "cell_type": "code",
   "execution_count": 4,
   "id": "cb0bdf68",
   "metadata": {},
   "outputs": [
    {
     "name": "stdout",
     "output_type": "stream",
     "text": [
      "label\n",
      "1    132302\n",
      "0    132273\n",
      "Name: count, dtype: int64\n",
      "dataset\n",
      "Intra1    155433\n",
      "Intra0     58012\n",
      "Intra2     51130\n",
      "Name: count, dtype: int64\n",
      "label\n",
      "1    29017\n",
      "0    28995\n",
      "Name: count, dtype: int64\n",
      "label\n",
      "1    77719\n",
      "0    77714\n",
      "Name: count, dtype: int64\n",
      "label\n",
      "1    25566\n",
      "0    25564\n",
      "Name: count, dtype: int64\n"
     ]
    }
   ],
   "source": [
    "print( all_pairs['label'].value_counts() )\n",
    "print( all_pairs['dataset'].value_counts() )\n",
    "\n",
    "valdf = all_pairs[all_pairs['dataset'] == 'Intra0']\n",
    "traindf = all_pairs[all_pairs['dataset'] == 'Intra1']\n",
    "testdf = all_pairs[all_pairs['dataset'] == 'Intra2']\n",
    "print( valdf['label'].value_counts() )\n",
    "print( traindf['label'].value_counts() )\n",
    "print( testdf['label'].value_counts() )"
   ]
  },
  {
   "cell_type": "code",
   "execution_count": 5,
   "id": "fb6ca604",
   "metadata": {},
   "outputs": [
    {
     "name": "stdout",
     "output_type": "stream",
     "text": [
      "/home/dmoi/projects/foldtree2/foldtree2\n"
     ]
    }
   ],
   "source": [
    "cd /home/dmoi/projects/foldtree2/foldtree2"
   ]
  },
  {
   "cell_type": "code",
   "execution_count": 6,
   "id": "ebe2837f",
   "metadata": {},
   "outputs": [],
   "source": [
    "from torch_geometric.data import DataLoader\n",
    "from foldtree2.src.pdbgraph import PDB2PyG\n",
    "converter = PDB2PyG( aapropcsv='./config/aaindex1.csv')\n",
    "downloaded = glob.glob(f'{folder}*.pdb')\n",
    "#converter.store_pyg(downloaded, filename='structs_pairwise.h5', foldxdir = None, verbose = False)"
   ]
  },
  {
   "cell_type": "code",
   "execution_count": 7,
   "id": "8808c01b",
   "metadata": {},
   "outputs": [],
   "source": [
    "from foldtree2.src.pdbgraph import StructureDataset\n",
    "import torch\n",
    "\n",
    "# Create StructureDataset from the stored PyG file\n",
    "struct_dat = StructureDataset('structs_pairwise.h5')\n",
    "\n",
    "# Create a custom loader that yields pairs of encoded structures\n",
    "class PairwiseStructureLoader:\n",
    "\tdef __init__(self, struct_dataset, pairs_df):\n",
    "\t\tself.struct_dataset = struct_dataset\n",
    "\t\tself.pairs_df = pairs_df\n",
    "\t\t# Create mapping from protein ID to dataset index\n",
    "\t\tself.prot_to_idx = {prot_id: idx for idx, prot_id in enumerate(struct_dataset.structlist)}\n",
    "\t\n",
    "\tdef __getitem__(self, idx):\n",
    "\t\trow = self.pairs_df.iloc[idx]\n",
    "\t\tprot_a, prot_b = row['protA'], row['protB']\n",
    "\t\tif prot_a in self.prot_to_idx and prot_b in self.prot_to_idx:\n",
    "\t\t\tstruct_a = self.struct_dataset[self.prot_to_idx[prot_a]]\n",
    "\t\t\tstruct_b = self.struct_dataset[self.prot_to_idx[prot_b]]\n",
    "\t\t\ty = torch.tensor( row['label'] ) if 'label' in row else None\n",
    "\t\t\treturn { 'struct_a': struct_a, 'struct_b': struct_b, 'label': y }\n",
    "\t\telse:\n",
    "\t\t\traise IndexError(\"Protein ID not found in structure dataset.\")\n",
    "\n",
    "\tdef __iter__(self):\n",
    "\t\tfor _, row in self.pairs_df.iterrows():\n",
    "\t\t\tprot_a, prot_b = row['protA'], row['protB']\n",
    "\t\t\tif prot_a in self.prot_to_idx and prot_b in self.prot_to_idx:\n",
    "\t\t\t\tstruct_a = self.struct_dataset[self.prot_to_idx[prot_a]]\n",
    "\t\t\t\tstruct_b = self.struct_dataset[self.prot_to_idx[prot_b]]\n",
    "\t\t\t\ty = torch.tensor( row['label'] ) if 'label' in row else None\n",
    "\t\t\t\tyield { 'struct_a': struct_a, 'struct_b': struct_b, 'label': y }\n",
    "\n",
    "\tdef __len__(self):\n",
    "\t\treturn len(self.pairs_df)\n"
   ]
  },
  {
   "cell_type": "code",
   "execution_count": 8,
   "id": "c03fde55",
   "metadata": {},
   "outputs": [
    {
     "name": "stdout",
     "output_type": "stream",
     "text": [
      "Pairwise structure loaders created for:\n",
      "  train: 155433 pairs\n",
      "  Dataloader created with 9715 batches\n",
      "{'dataset': <__main__.PairwiseStructureLoader object at 0x7fe467f73ce0>, 'dataloader': <torch_geometric.deprecation.DataLoader object at 0x7fe5a5eb2180>}\n",
      "Pairwise structure loaders created for:\n",
      "  valid: 58012 pairs\n",
      "  Dataloader created with 3626 batches\n",
      "{'dataset': <__main__.PairwiseStructureLoader object at 0x7fe467f56720>, 'dataloader': <torch_geometric.deprecation.DataLoader object at 0x7fe468cb5160>}\n",
      "Pairwise structure loaders created for:\n",
      "  test: 51130 pairs\n",
      "  Dataloader created with 3196 batches\n",
      "{'dataset': <__main__.PairwiseStructureLoader object at 0x7fe467cdd220>, 'dataloader': <torch_geometric.deprecation.DataLoader object at 0x7fe4699963f0>}\n"
     ]
    },
    {
     "name": "stderr",
     "output_type": "stream",
     "text": [
      "/home/dmoi/miniforge3/envs/pyg/lib/python3.12/site-packages/torch_geometric/deprecation.py:26: UserWarning: 'data.DataLoader' is deprecated, use 'loader.DataLoader' instead\n",
      "  warnings.warn(out)\n"
     ]
    }
   ],
   "source": [
    "\n",
    "# Create loaders for each dataset split\n",
    "pairwise_loaders = {}\n",
    "for split_name, split_dfs in [('train', traindf), ('valid', valdf), ('test', testdf)]:\n",
    "\tpairwise_loaders[split_name] = {}\n",
    "\tpairwise_loaders[split_name]['dataset'] = PairwiseStructureLoader(struct_dat, split_dfs)\n",
    "\tprint(\"Pairwise structure loaders created for:\")\n",
    "\tprint(f\"  {split_name}: {len(split_dfs)} pairs\")\n",
    "\t#create dataloaders\n",
    "\tpairwise_loaders[split_name]['dataloader'] = DataLoader(pairwise_loaders[split_name]['dataset'], batch_size=16, shuffle=(split_name=='train'), num_workers=4)\n",
    "\tprint(f\"  Dataloader created with {len(pairwise_loaders[split_name]['dataloader'])} batches\")\n",
    "\tprint( pairwise_loaders[split_name] )\n",
    "\t\n",
    "\t\n"
   ]
  },
  {
   "cell_type": "code",
   "execution_count": 9,
   "id": "48eeea0e",
   "metadata": {},
   "outputs": [
    {
     "name": "stdout",
     "output_type": "stream",
     "text": [
      "{'struct_a': HeteroDataBatch(\n",
      "  identifier=[16],\n",
      "  AA={\n",
      "    x=[10477, 20],\n",
      "    batch=[10477],\n",
      "    ptr=[17],\n",
      "  },\n",
      "  R_true={\n",
      "    x=[10477, 3, 3],\n",
      "    batch=[10477],\n",
      "    ptr=[17],\n",
      "  },\n",
      "  bondangles={\n",
      "    x=[10477, 3],\n",
      "    batch=[10477],\n",
      "    ptr=[17],\n",
      "  },\n",
      "  coords={\n",
      "    x=[10477, 3],\n",
      "    batch=[10477],\n",
      "    ptr=[17],\n",
      "  },\n",
      "  fourier1di={\n",
      "    x=[10477, 80],\n",
      "    batch=[10477],\n",
      "    ptr=[17],\n",
      "  },\n",
      "  fourier1dr={\n",
      "    x=[10477, 80],\n",
      "    batch=[10477],\n",
      "    ptr=[17],\n",
      "  },\n",
      "  fourier2di={\n",
      "    x=[16, 1300],\n",
      "    batch=[16],\n",
      "    ptr=[17],\n",
      "  },\n",
      "  fourier2dr={\n",
      "    x=[16, 1300],\n",
      "    batch=[16],\n",
      "    ptr=[17],\n",
      "  },\n",
      "  godnode={\n",
      "    x=[16, 5],\n",
      "    batch=[16],\n",
      "    ptr=[17],\n",
      "  },\n",
      "  godnode4decoder={\n",
      "    x=[16, 5],\n",
      "    batch=[16],\n",
      "    ptr=[17],\n",
      "  },\n",
      "  plddt={\n",
      "    x=[10477, 1],\n",
      "    batch=[10477],\n",
      "    ptr=[17],\n",
      "  },\n",
      "  positions={\n",
      "    x=[10477, 256],\n",
      "    batch=[10477],\n",
      "    ptr=[17],\n",
      "  },\n",
      "  res={\n",
      "    x=[10477, 857],\n",
      "    batch=[10477],\n",
      "    ptr=[17],\n",
      "  },\n",
      "  t_true={\n",
      "    x=[10477, 3],\n",
      "    batch=[10477],\n",
      "    ptr=[17],\n",
      "  },\n",
      "  (godnode4decoder, informs, res)={ edge_index=[2, 10477] },\n",
      "  (godnode, informs, res)={ edge_index=[2, 10477] },\n",
      "  (res, backbone, res)={\n",
      "    edge_index=[2, 20938],\n",
      "    edge_attr=[10461],\n",
      "  },\n",
      "  (res, backbonerev, res)={\n",
      "    edge_index=[2, 20938],\n",
      "    edge_attr=[10461],\n",
      "  },\n",
      "  (res, contactPoints, res)={\n",
      "    edge_index=[2, 79046],\n",
      "    edge_attr=[79046],\n",
      "  },\n",
      "  (res, hbond, res)={\n",
      "    edge_index=[2, 9316],\n",
      "    edge_attr=[9316],\n",
      "  },\n",
      "  (res, informs, godnode)={ edge_index=[2, 10477] },\n",
      "  (res, informs, godnode4decoder)={ edge_index=[2, 10477] },\n",
      "  (res, window, res)={\n",
      "    edge_index=[2, 20890],\n",
      "    edge_attr=[20890],\n",
      "  },\n",
      "  (res, windowrev, res)={\n",
      "    edge_index=[2, 10461],\n",
      "    edge_attr=[10461],\n",
      "  }\n",
      "), 'struct_b': HeteroDataBatch(\n",
      "  identifier=[16],\n",
      "  AA={\n",
      "    x=[14298, 20],\n",
      "    batch=[14298],\n",
      "    ptr=[17],\n",
      "  },\n",
      "  R_true={\n",
      "    x=[14298, 3, 3],\n",
      "    batch=[14298],\n",
      "    ptr=[17],\n",
      "  },\n",
      "  bondangles={\n",
      "    x=[14298, 3],\n",
      "    batch=[14298],\n",
      "    ptr=[17],\n",
      "  },\n",
      "  coords={\n",
      "    x=[14298, 3],\n",
      "    batch=[14298],\n",
      "    ptr=[17],\n",
      "  },\n",
      "  fourier1di={\n",
      "    x=[14298, 80],\n",
      "    batch=[14298],\n",
      "    ptr=[17],\n",
      "  },\n",
      "  fourier1dr={\n",
      "    x=[14298, 80],\n",
      "    batch=[14298],\n",
      "    ptr=[17],\n",
      "  },\n",
      "  fourier2di={\n",
      "    x=[16, 1300],\n",
      "    batch=[16],\n",
      "    ptr=[17],\n",
      "  },\n",
      "  fourier2dr={\n",
      "    x=[16, 1300],\n",
      "    batch=[16],\n",
      "    ptr=[17],\n",
      "  },\n",
      "  godnode={\n",
      "    x=[16, 5],\n",
      "    batch=[16],\n",
      "    ptr=[17],\n",
      "  },\n",
      "  godnode4decoder={\n",
      "    x=[16, 5],\n",
      "    batch=[16],\n",
      "    ptr=[17],\n",
      "  },\n",
      "  plddt={\n",
      "    x=[14298, 1],\n",
      "    batch=[14298],\n",
      "    ptr=[17],\n",
      "  },\n",
      "  positions={\n",
      "    x=[14298, 256],\n",
      "    batch=[14298],\n",
      "    ptr=[17],\n",
      "  },\n",
      "  res={\n",
      "    x=[14298, 857],\n",
      "    batch=[14298],\n",
      "    ptr=[17],\n",
      "  },\n",
      "  t_true={\n",
      "    x=[14298, 3],\n",
      "    batch=[14298],\n",
      "    ptr=[17],\n",
      "  },\n",
      "  (godnode4decoder, informs, res)={ edge_index=[2, 14298] },\n",
      "  (godnode, informs, res)={ edge_index=[2, 14298] },\n",
      "  (res, backbone, res)={\n",
      "    edge_index=[2, 28580],\n",
      "    edge_attr=[14282],\n",
      "  },\n",
      "  (res, backbonerev, res)={\n",
      "    edge_index=[2, 28580],\n",
      "    edge_attr=[14282],\n",
      "  },\n",
      "  (res, contactPoints, res)={\n",
      "    edge_index=[2, 108360],\n",
      "    edge_attr=[108360],\n",
      "  },\n",
      "  (res, hbond, res)={\n",
      "    edge_index=[2, 12608],\n",
      "    edge_attr=[12608],\n",
      "  },\n",
      "  (res, informs, godnode)={ edge_index=[2, 14298] },\n",
      "  (res, informs, godnode4decoder)={ edge_index=[2, 14298] },\n",
      "  (res, window, res)={\n",
      "    edge_index=[2, 28532],\n",
      "    edge_attr=[28532],\n",
      "  },\n",
      "  (res, windowrev, res)={\n",
      "    edge_index=[2, 14282],\n",
      "    edge_attr=[14282],\n",
      "  }\n",
      "), 'label': tensor([0, 1, 0, 1, 0, 1, 0, 0, 0, 0, 1, 0, 1, 1, 1, 1])}\n"
     ]
    }
   ],
   "source": [
    "#print a sample from the pairwise loader\n",
    "for sample in pairwise_loaders['train']['dataloader']:\n",
    "\tprint(sample)\n",
    "\tbreak"
   ]
  },
  {
   "cell_type": "code",
   "execution_count": 10,
   "id": "efe15af3",
   "metadata": {},
   "outputs": [
    {
     "name": "stdout",
     "output_type": "stream",
     "text": [
      "mk1_Encoder(\n",
      "  (convs): ModuleList(\n",
      "    (0): ModuleDict(\n",
      "      (res_contactPoints_res): TransformerConv(200, 200, heads=8)\n",
      "    )\n",
      "  )\n",
      "  (norms): ModuleList(\n",
      "    (0): GraphNorm(200)\n",
      "  )\n",
      "  (bn): BatchNorm1d(857, eps=1e-05, momentum=0.1, affine=True, track_running_stats=True)\n",
      "  (dropout): Dropout(p=0.01, inplace=False)\n",
      "  (jk): JumpingKnowledge(cat)\n",
      "  (ffin): Sequential(\n",
      "    (0): Linear(in_features=1017, out_features=400, bias=True)\n",
      "    (1): GELU(approximate='none')\n",
      "    (2): Linear(in_features=400, out_features=200, bias=True)\n",
      "    (3): GELU(approximate='none')\n",
      "  )\n",
      "  (lin): Sequential(\n",
      "    (0): Linear(in_features=200, out_features=200, bias=True)\n",
      "    (1): GELU(approximate='none')\n",
      "    (2): Linear(in_features=200, out_features=200, bias=True)\n",
      "    (3): GELU(approximate='none')\n",
      "  )\n",
      "  (out_dense): Sequential(\n",
      "    (0): Linear(in_features=220, out_features=200, bias=True)\n",
      "    (1): GELU(approximate='none')\n",
      "    (2): Linear(in_features=200, out_features=200, bias=True)\n",
      "    (3): GELU(approximate='none')\n",
      "    (4): Linear(in_features=200, out_features=128, bias=True)\n",
      "    (5): Tanh()\n",
      "  )\n",
      "  (vector_quantizer): VectorQuantizerEMA(\n",
      "    (embeddings): Embedding(40, 128)\n",
      "  )\n",
      ")\n"
     ]
    }
   ],
   "source": [
    "#load encoder model\n",
    "import torch\n",
    "import copy\n",
    "from foldtree2.src import mono_decoders\n",
    "from foldtree2.src import foldtree2_ecddcd\n",
    "\n",
    "encoder_modelpath = '/home/dmoi/projects/foldtree2/models/encoder_epoch_0.pt'\n",
    "encoder_model = torch.load(encoder_modelpath ,map_location=torch.device('cpu'), weights_only=False)\n",
    "print(encoder_model)\n",
    "modelname = encoder_modelpath.split('/')[-1].split('.pt')[0]\n",
    "device = torch.device('cuda:1' if torch.cuda.is_available() else 'cpu')\n",
    "encoder_model = encoder_model.to(device)\n",
    "encoder_model.eval()\n",
    "model_embeddings = copy.deepcopy(encoder_model.vector_quantizer.embeddings).cpu()"
   ]
  },
  {
   "cell_type": "code",
   "execution_count": 11,
   "id": "7083f2c9",
   "metadata": {},
   "outputs": [
    {
     "name": "stdout",
     "output_type": "stream",
     "text": [
      "tensor([[-0.7388, -0.9996,  0.1334,  ..., -0.2077,  0.7467,  0.6635],\n",
      "        [-0.7388, -0.9996,  0.1334,  ..., -0.2077,  0.7467,  0.6635],\n",
      "        [-0.9398, -0.9082,  0.8426,  ...,  0.9410, -0.8840, -0.5038],\n",
      "        ...,\n",
      "        [ 0.0726,  0.1544, -0.6788,  ...,  0.4331, -0.8106,  0.6177],\n",
      "        [-0.9499,  0.8790,  0.8952,  ...,  0.9805, -0.9865, -0.9131],\n",
      "        [-0.9499,  0.8790,  0.8952,  ...,  0.9805, -0.9865, -0.9131]],\n",
      "       device='cuda:1', grad_fn=<AddBackward0>) tensor([[-0.7388, -0.9996,  0.1334,  ..., -0.2077,  0.7467,  0.6635],\n",
      "        [-0.7388, -0.9996,  0.1334,  ..., -0.2077,  0.7467,  0.6635],\n",
      "        [-0.9841, -0.9820,  0.9254,  ...,  0.9742, -0.9136, -0.7386],\n",
      "        ...,\n",
      "        [-0.9499,  0.8790,  0.8952,  ...,  0.9805, -0.9865, -0.9131],\n",
      "        [-0.7388, -0.9996,  0.1334,  ..., -0.2077,  0.7467,  0.6635],\n",
      "        [-0.9877, -0.6546,  0.9579,  ...,  0.9919, -0.9863, -0.9013]],\n",
      "       device='cuda:1', grad_fn=<AddBackward0>)\n",
      "tensor([ 6,  6, 34,  ..., 30, 16, 16], device='cuda:1') tensor([ 6,  6, 27,  ..., 16,  6, 37], device='cuda:1')\n",
      "tensor([[-0.7388, -0.9996,  0.1334,  ..., -0.2077,  0.7467,  0.6635],\n",
      "        [-0.7388, -0.9996,  0.1334,  ..., -0.2077,  0.7467,  0.6635],\n",
      "        [-0.9398, -0.9082,  0.8426,  ...,  0.9410, -0.8840, -0.5038],\n",
      "        ...,\n",
      "        [ 0.0726,  0.1544, -0.6788,  ...,  0.4331, -0.8106,  0.6177],\n",
      "        [-0.9499,  0.8790,  0.8952,  ...,  0.9805, -0.9865, -0.9131],\n",
      "        [-0.9499,  0.8790,  0.8952,  ...,  0.9805, -0.9865, -0.9131]],\n",
      "       device='cuda:1', grad_fn=<EmbeddingBackward0>) tensor([[-0.7388, -0.9996,  0.1334,  ..., -0.2077,  0.7467,  0.6635],\n",
      "        [-0.7388, -0.9996,  0.1334,  ..., -0.2077,  0.7467,  0.6635],\n",
      "        [-0.9841, -0.9820,  0.9254,  ...,  0.9742, -0.9136, -0.7386],\n",
      "        ...,\n",
      "        [-0.9499,  0.8790,  0.8952,  ...,  0.9805, -0.9865, -0.9131],\n",
      "        [-0.7388, -0.9996,  0.1334,  ..., -0.2077,  0.7467,  0.6635],\n",
      "        [-0.9877, -0.6546,  0.9579,  ...,  0.9919, -0.9863, -0.9013]],\n",
      "       device='cuda:1', grad_fn=<EmbeddingBackward0>)\n"
     ]
    }
   ],
   "source": [
    "#use the encoder to transform the structures to ords \n",
    "\n",
    "\n",
    "z1, _  = encoder_model.forward( sample['struct_a'].to(device) )\n",
    "z2, _  = encoder_model.forward( sample['struct_b'].to(device) )\n",
    "print( z1, z2 )\n",
    "#discretize\n",
    "z1_q , _ = encoder_model.vector_quantizer.discretize_z( z1 )\n",
    "z2_q , _ = encoder_model.vector_quantizer.discretize_z( z2 )\n",
    "#embeddings \n",
    "print( z1_q , z2_q )\n",
    "z1_e = encoder_model.vector_quantizer.embeddings(z1_q)\n",
    "z2_e = encoder_model.vector_quantizer.embeddings(z2_q)\n",
    "print( z1_e, z2_e )"
   ]
  },
  {
   "cell_type": "code",
   "execution_count": 12,
   "id": "16ab6cf9",
   "metadata": {},
   "outputs": [],
   "source": [
    "#autoreload\n",
    "%load_ext autoreload\n",
    "%autoreload 2"
   ]
  },
  {
   "cell_type": "code",
   "execution_count": 13,
   "id": "4306b31b",
   "metadata": {},
   "outputs": [
    {
     "name": "stderr",
     "output_type": "stream",
     "text": [
      "Seed set to 42\n"
     ]
    },
    {
     "name": "stdout",
     "output_type": "stream",
     "text": [
      "Using encoder model: mk1_Encoder(\n",
      "  (convs): ModuleList(\n",
      "    (0): ModuleDict(\n",
      "      (res_contactPoints_res): TransformerConv(200, 200, heads=8)\n",
      "    )\n",
      "  )\n",
      "  (norms): ModuleList(\n",
      "    (0): GraphNorm(200)\n",
      "  )\n",
      "  (bn): BatchNorm1d(857, eps=1e-05, momentum=0.1, affine=True, track_running_stats=True)\n",
      "  (dropout): Dropout(p=0.01, inplace=False)\n",
      "  (jk): JumpingKnowledge(cat)\n",
      "  (ffin): Sequential(\n",
      "    (0): Linear(in_features=1017, out_features=400, bias=True)\n",
      "    (1): GELU(approximate='none')\n",
      "    (2): Linear(in_features=400, out_features=200, bias=True)\n",
      "    (3): GELU(approximate='none')\n",
      "  )\n",
      "  (lin): Sequential(\n",
      "    (0): Linear(in_features=200, out_features=200, bias=True)\n",
      "    (1): GELU(approximate='none')\n",
      "    (2): Linear(in_features=200, out_features=200, bias=True)\n",
      "    (3): GELU(approximate='none')\n",
      "  )\n",
      "  (out_dense): Sequential(\n",
      "    (0): Linear(in_features=220, out_features=200, bias=True)\n",
      "    (1): GELU(approximate='none')\n",
      "    (2): Linear(in_features=200, out_features=200, bias=True)\n",
      "    (3): GELU(approximate='none')\n",
      "    (4): Linear(in_features=200, out_features=128, bias=True)\n",
      "    (5): Tanh()\n",
      "  )\n",
      "  (vector_quantizer): VectorQuantizerEMA(\n",
      "    (embeddings): Embedding(40, 128)\n",
      "  )\n",
      ")\n"
     ]
    },
    {
     "name": "stderr",
     "output_type": "stream",
     "text": [
      "/home/dmoi/miniforge3/envs/pyg/lib/python3.12/site-packages/torch/nn/modules/transformer.py:382: UserWarning: enable_nested_tensor is True, but self.use_nested_tensor is False because encoder_layer.self_attn.batch_first was not True(use batch_first for better inference performance)\n",
      "  warnings.warn(\n"
     ]
    },
    {
     "data": {
      "text/plain": [
       "signature_transformer(\n",
       "  (encoder): mk1_Encoder(\n",
       "    (convs): ModuleList(\n",
       "      (0): ModuleDict(\n",
       "        (res_contactPoints_res): TransformerConv(200, 200, heads=8)\n",
       "      )\n",
       "    )\n",
       "    (norms): ModuleList(\n",
       "      (0): GraphNorm(200)\n",
       "    )\n",
       "    (bn): BatchNorm1d(857, eps=1e-05, momentum=0.1, affine=True, track_running_stats=True)\n",
       "    (dropout): Dropout(p=0.01, inplace=False)\n",
       "    (jk): JumpingKnowledge(cat)\n",
       "    (ffin): Sequential(\n",
       "      (0): Linear(in_features=1017, out_features=400, bias=True)\n",
       "      (1): GELU(approximate='none')\n",
       "      (2): Linear(in_features=400, out_features=200, bias=True)\n",
       "      (3): GELU(approximate='none')\n",
       "    )\n",
       "    (lin): Sequential(\n",
       "      (0): Linear(in_features=200, out_features=200, bias=True)\n",
       "      (1): GELU(approximate='none')\n",
       "      (2): Linear(in_features=200, out_features=200, bias=True)\n",
       "      (3): GELU(approximate='none')\n",
       "    )\n",
       "    (out_dense): Sequential(\n",
       "      (0): Linear(in_features=220, out_features=200, bias=True)\n",
       "      (1): GELU(approximate='none')\n",
       "      (2): Linear(in_features=200, out_features=200, bias=True)\n",
       "      (3): GELU(approximate='none')\n",
       "      (4): Linear(in_features=200, out_features=128, bias=True)\n",
       "      (5): Tanh()\n",
       "    )\n",
       "    (vector_quantizer): VectorQuantizerEMA(\n",
       "      (embeddings): Embedding(40, 128)\n",
       "    )\n",
       "  )\n",
       "  (embedding): Embedding(40, 128)\n",
       "  (input2transformer): Sequential(\n",
       "    (0): Linear(in_features=384, out_features=256, bias=True)\n",
       "    (1): GELU(approximate='none')\n",
       "    (2): Linear(in_features=256, out_features=128, bias=True)\n",
       "    (3): GELU(approximate='none')\n",
       "    (4): Linear(in_features=128, out_features=64, bias=True)\n",
       "  )\n",
       "  (transformer_encoder): TransformerEncoder(\n",
       "    (layers): ModuleList(\n",
       "      (0-2): 3 x TransformerEncoderLayer(\n",
       "        (self_attn): MultiheadAttention(\n",
       "          (out_proj): NonDynamicallyQuantizableLinear(in_features=64, out_features=64, bias=True)\n",
       "        )\n",
       "        (linear1): Linear(in_features=64, out_features=128, bias=True)\n",
       "        (dropout): Dropout(p=0.1, inplace=False)\n",
       "        (linear2): Linear(in_features=128, out_features=64, bias=True)\n",
       "        (norm1): LayerNorm((64,), eps=1e-05, elementwise_affine=True)\n",
       "        (norm2): LayerNorm((64,), eps=1e-05, elementwise_affine=True)\n",
       "        (dropout1): Dropout(p=0.1, inplace=False)\n",
       "        (dropout2): Dropout(p=0.1, inplace=False)\n",
       "      )\n",
       "    )\n",
       "  )\n",
       "  (encoder_norms): ModuleList(\n",
       "    (0-2): 3 x LayerNorm((64,), eps=1e-05, elementwise_affine=True)\n",
       "  )\n",
       "  (bn): BatchNorm1d(128, eps=1e-05, momentum=0.1, affine=True, track_running_stats=True)\n",
       "  (dropout): Dropout(p=0.05, inplace=False)\n",
       "  (vec_out): Sequential(\n",
       "    (0): Linear(in_features=64, out_features=256, bias=True)\n",
       "    (1): GELU(approximate='none')\n",
       "    (2): Linear(in_features=256, out_features=128, bias=True)\n",
       "    (3): GELU(approximate='none')\n",
       "    (4): Linear(in_features=128, out_features=64, bias=True)\n",
       "    (5): Tanh()\n",
       "  )\n",
       "  (attn_agg): AttentionAggregation(\n",
       "    (attn): Linear(in_features=64, out_features=1, bias=True)\n",
       "    (proj): Sequential(\n",
       "      (0): Linear(in_features=64, out_features=64, bias=True)\n",
       "      (1): GELU(approximate='none')\n",
       "      (2): Linear(in_features=64, out_features=64, bias=True)\n",
       "    )\n",
       "  )\n",
       "  (embeddings): Embedding(40, 128)\n",
       ")"
      ]
     },
     "execution_count": 13,
     "metadata": {},
     "output_type": "execute_result"
    }
   ],
   "source": [
    "#create the pairwise transformer model\n",
    "from foldtree2.src import pairwise\n",
    "\n",
    "hidden_channels = [ 256 , 128 , 64]\n",
    "out_channels = 64\n",
    "decoder_hidden = [  256 , 128  , 64]\n",
    "\n",
    "pairwise_model = pairwise.signature_transformer(\n",
    "    encoder=encoder_model, hidden_channels=hidden_channels, out_channels=out_channels, dropout_p=0.05,\n",
    "\t\t\t  decoder_hidden=decoder_hidden, \n",
    "\t\t\t  n_signatures=256,\n",
    "\t\t\t  nheads=8,\n",
    "\t\t\t  nlayers=3,\n",
    "\t\t\t  seed=42\n",
    ")\n",
    "\n",
    "#initialize the model embeddings with the encoder embeddings \n",
    "pairwise_model.embeddings = model_embeddings\n",
    "pairwise_model = pairwise_model.to(device)\n",
    "pairwise_model.train()"
   ]
  },
  {
   "cell_type": "code",
   "execution_count": 14,
   "id": "e01a19af",
   "metadata": {},
   "outputs": [],
   "source": [
    "#forward pass\n",
    "figurestack = []\n",
    "reload = False\n",
    "import glob\n",
    "if reload == True:\n",
    "\tpairwise_models = glob.glob('models/pairwise_epoch_*.pth')\n",
    "\tif len(pairwise_models) > 0:\n",
    "\t\tlatest_model = max(pairwise_models, key=os.path.getctime)\n",
    "\t\tprint(f\"Loading model from {latest_model}\")\n",
    "\t\tpairwise_model = torch.load(latest_model)\n",
    "def pairloss(preds, labels):\n",
    "\tloss_fn = torch.nn.BCEWithLogitsLoss()\n",
    "\treturn loss_fn(preds, labels.float())\n",
    "\t"
   ]
  },
  {
   "cell_type": "code",
   "execution_count": 15,
   "id": "99ee27c5",
   "metadata": {},
   "outputs": [],
   "source": [
    "#encode structures\n",
    "traindfs = { k: dfs[k] for k in dfs.keys() if 'Intra0' in k }\n",
    "validfs = { k: dfs[k] for k in dfs.keys() if 'Intra1' in k }\n",
    "testdfs = { k: dfs[k] for k in dfs.keys() if 'Intra2' in k }"
   ]
  },
  {
   "cell_type": "code",
   "execution_count": 20,
   "id": "fd3c767c",
   "metadata": {},
   "outputs": [
    {
     "name": "stdout",
     "output_type": "stream",
     "text": [
      "/home/dmoi/projects/foldtree2\n"
     ]
    }
   ],
   "source": [
    "cd /home/dmoi/projects/foldtree2/"
   ]
  },
  {
   "cell_type": "code",
   "execution_count": null,
   "id": "e9ea99d7",
   "metadata": {},
   "outputs": [
    {
     "name": "stderr",
     "output_type": "stream",
     "text": [
      "/home/dmoi/miniforge3/envs/pyg/lib/python3.12/site-packages/torch_geometric/deprecation.py:26: UserWarning: 'data.DataLoader' is deprecated, use 'loader.DataLoader' instead\n",
      "  warnings.warn(out)\n",
      "16it [00:23,  1.33s/it]"
     ]
    }
   ],
   "source": [
    "import tqdm\n",
    "\n",
    "# Initialize optimizer and scheduler\n",
    "optimizer = torch.optim.Adam(pairwise_model.parameters(), lr=0.001)\n",
    "scheduler = torch.optim.lr_scheduler.ReduceLROnPlateau(optimizer, mode='min', factor=0.5, patience=10)\n",
    "\n",
    "# Initialize gradients\n",
    "optimizer.zero_grad()\n",
    "\n",
    "# Track running loss for scheduler\n",
    "running_loss = 0.0\n",
    "max_epochs = 100\n",
    "output_auc = False\n",
    "databreak = 100\n",
    "\n",
    "for epoch in range(1, max_epochs + 1):\n",
    "\trunning_loss = 0.0\n",
    "\t# Iterate over training data\n",
    "\t#shuffle dataloader each epoch\n",
    "\tpairwise_loaders['train']['dataloader'] = DataLoader(pairwise_loaders['train']['dataset'], batch_size=16, shuffle=True, num_workers=4)\n",
    "\tfor i,data in tqdm.tqdm(enumerate(pairwise_loaders['train']['dataloader'])):\n",
    "\t\tdata = { k: v.to(device) for k, v in data.items() }\n",
    "\t\tprot1, prot2 = data['struct_a'], data['struct_b']\n",
    "\t\ty = data['label'] if data['label'] is not None else None\n",
    "\t\t#forward pass through encoder\n",
    "\t\tz1, _ = encoder_model( prot1 , None )\n",
    "\t\tz1discrete , _ = encoder_model.vector_quantizer.discretize_z(z1)\n",
    "\t\tz2, _ = encoder_model( prot2 , None )\n",
    "\t\tz2discrete , _ = encoder_model.vector_quantizer.discretize_z(z2)\n",
    "\t\tprot1['zdiscrete'].x = z1discrete\n",
    "\t\tprot2['zdiscrete'].x = z2discrete\n",
    "\t\tsig1 = pairwise_model( prot1 )\n",
    "\t\tsig2 = pairwise_model( prot2 )\n",
    "\t\tjaccard = pairwise.weighted_jaccard_similarity(sig1['jaccard_vec'], sig2['jaccard_vec'])\n",
    "\t\tloss = pairloss(jaccard, y)\n",
    "\t\tloss.backward()\n",
    "\t\toptimizer.step()\n",
    "\t\toptimizer.zero_grad()\n",
    "\t\trunning_loss += loss.item()\n",
    "\t\tif databreak is not None and i >= databreak:\n",
    "\t\t\tprint(f\"Databreak at {databreak} batches\")\n",
    "\t\t\tbreak\n",
    "\t# Average running loss over epoch by\n",
    "\t\n",
    "\t# divide by number of batches\n",
    "\trunning_loss /= len(pairwise_loaders['train']['dataloader'])\n",
    "\tprint(f\"Epoch {epoch}, Training Loss: {running_loss}\")\n",
    "\t# Update running loss\n",
    "\tif epoch % 10 == 0:\n",
    "\t\tprint(f\"Epoch {epoch}, Loss: {running_loss / 10}\")\n",
    "\t\trunning_loss = 0.0\n",
    "\t\t# Save model checkpoint\n",
    "\t\ttorch.save(pairwise_model, f'models/pairwise_epoch_{epoch}.pth')\n",
    "\t\ttorch.save(optimizer.state_dict(), f'models/pairwise_optimizer_epoch_{epoch}.pth')\n",
    "\t\n",
    "\t#find auc on validation set\n",
    "\tpairwise_model.eval()\n",
    "\tfrom sklearn.metrics import roc_auc_score\n",
    "\tval_labels = []\n",
    "\tval_preds = []\n",
    "\tif output_auc == True:\n",
    "\t\twith torch.no_grad():\t\n",
    "\t\t\tfor data in tqdm.tqdm(pairwise_loaders['valid']['dataloader']):\n",
    "\t\t\t\tdata = { k: v.to(device) for k, v in data.items() }\n",
    "\t\t\t\tprot1, prot2 = data['struct_a'], data['struct_b']\n",
    "\t\t\t\ty = data['label'] if data['label'] is not None else None\n",
    "\t\t\t\t#forward pass through encoder\n",
    "\t\t\t\tz1, _ = encoder_model( prot1 , None )\n",
    "\t\t\t\tz1discrete , _ = encoder_model.vector_quantizer.discretize_z(z1)\n",
    "\t\t\t\tz2, _ = encoder_model( prot2 , None )\n",
    "\t\t\t\tz2discrete , _ = encoder_model.vector_quantizer.discretize_z(z2)\n",
    "\t\t\t\tprot1['zdiscrete'].x = z1discrete\n",
    "\t\t\t\tprot2['zdiscrete'].x = z2discrete\n",
    "\t\t\t\tsig1 = pairwise_model( prot1 )\n",
    "\t\t\t\tsig2 = pairwise_model( prot2 )\n",
    "\t\t\t\tjaccard = pairwise.weighted_jaccard_similarity(sig1['jaccard_vec'], sig2['jaccard_vec'])\n",
    "\t\t\t\tval_labels.extend( y.cpu().numpy().tolist() )\n",
    "\t\t\t\tval_preds.extend( torch.sigmoid(jaccard).cpu().numpy().tolist() )\n",
    "\t\t\t\tif databreak is not None and len(val_labels) >= databreak:\n",
    "\t\t\t\t\tprint(f\"Databreak at {databreak} validation samples\")\n",
    "\t\t\t\t\tbreak\n",
    "\t\tval_auc = roc_auc_score(val_labels, val_preds)\n",
    "\t\tprint(f\"Validation AUC: {val_auc}\")\n",
    "\t\tscheduler.step(val_auc)\n",
    "\telse:\n",
    "\t\tscheduler.step(running_loss)\n",
    "\t"
   ]
  },
  {
   "cell_type": "code",
   "execution_count": null,
   "id": "bc9466d0",
   "metadata": {},
   "outputs": [],
   "source": [
    "#train the model for pairwise\n",
    "\n",
    "from foldtree2.src import pairwise\n",
    "\n",
    "\n",
    "\n"
   ]
  },
  {
   "cell_type": "code",
   "execution_count": null,
   "id": "f754ca07",
   "metadata": {},
   "outputs": [],
   "source": [
    "#pr and roc"
   ]
  },
  {
   "cell_type": "code",
   "execution_count": null,
   "id": "76fb7420",
   "metadata": {},
   "outputs": [],
   "source": [
    "#compare to hashed jaccard \n",
    "\n",
    "#pr and roc"
   ]
  }
 ],
 "metadata": {
  "kernelspec": {
   "display_name": "Python 3 (ipykernel)",
   "language": "python",
   "name": "python3"
  },
  "language_info": {
   "codemirror_mode": {
    "name": "ipython",
    "version": 3
   },
   "file_extension": ".py",
   "mimetype": "text/x-python",
   "name": "python",
   "nbconvert_exporter": "python",
   "pygments_lexer": "ipython3",
   "version": "3.12.3"
  }
 },
 "nbformat": 4,
 "nbformat_minor": 5
}
