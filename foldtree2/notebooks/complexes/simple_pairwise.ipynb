{
 "cells": [
  {
   "cell_type": "code",
   "execution_count": 1,
   "id": "9c96d27e",
   "metadata": {},
   "outputs": [
    {
     "name": "stdout",
     "output_type": "stream",
     "text": [
      "Intra2_neg_rr (26024, 2)\n",
      "Intra1_neg_rr (81596, 2)\n",
      "Intra2_pos_rr (26024, 2)\n",
      "Intra0_pos_rr (29630, 2)\n",
      "Intra0_neg_rr (29630, 2)\n",
      "Intra1_pos_rr (81596, 2)\n",
      "Number of unique proteins: 11019\n"
     ]
    }
   ],
   "source": [
    "#choose model \n",
    "import glob\n",
    "import pandas as pd\n",
    "datadir = '/home/dmoi/datasets/PPI_antileakage/'\n",
    "pairs = glob.glob(f'{datadir}*.txt')\n",
    "dfs = { p.split('/')[-1].split('.txt')[0]: pd.read_csv(p, sep = ' ', header=None, names=['protA', 'protB']) for p in pairs if 'filtered' not in p }\n",
    "for k in dfs.keys():\n",
    "\tprint(k, dfs[k].shape)\n",
    "#compile non-redundant set of proteins\n",
    "proteins = set()\n",
    "for k in dfs.keys():\n",
    "\tproteins = proteins.union( set(dfs[k]['protA'].tolist()) ).union( set(dfs[k]['protB'].tolist()) )\n",
    "print(f'Number of unique proteins: {len(proteins)}')\n"
   ]
  },
  {
   "cell_type": "code",
   "execution_count": 2,
   "id": "c9b7e1be",
   "metadata": {},
   "outputs": [
    {
     "name": "stderr",
     "output_type": "stream",
     "text": [
      "  1%|▎                                     | 105/11019 [00:00<00:28, 381.79it/s]"
     ]
    },
    {
     "name": "stdout",
     "output_type": "stream",
     "text": [
      "error downloading structure for Q96RL7 HTTP Error 404: Not Found\n",
      "https://alphafold.ebi.ac.uk/files/AF-Q96RL7-F1-model_v4.pdb\n",
      "error downloading structure for Q9NU22 HTTP Error 404: Not Found\n",
      "https://alphafold.ebi.ac.uk/files/AF-Q9NU22-F1-model_v4.pdb\n",
      "error downloading structure for Q13315 HTTP Error 404: Not Found\n",
      "https://alphafold.ebi.ac.uk/files/AF-Q13315-F1-model_v4.pdb\n"
     ]
    },
    {
     "name": "stderr",
     "output_type": "stream",
     "text": [
      "  2%|▊                                     | 235/11019 [00:00<00:21, 490.29it/s]"
     ]
    },
    {
     "name": "stdout",
     "output_type": "stream",
     "text": [
      "error downloading structure for Q6ZS81 HTTP Error 404: Not Found\n",
      "https://alphafold.ebi.ac.uk/files/AF-Q6ZS81-F1-model_v4.pdb\n",
      "error downloading structure for Q5SZK8 HTTP Error 404: Not Found\n",
      "https://alphafold.ebi.ac.uk/files/AF-Q5SZK8-F1-model_v4.pdb\n",
      "error downloading structure for P49792 HTTP Error 404: Not Found\n",
      "https://alphafold.ebi.ac.uk/files/AF-P49792-F1-model_v4.pdb\n",
      "error downloading structure for P98164 HTTP Error 404: Not Found\n",
      "https://alphafold.ebi.ac.uk/files/AF-P98164-F1-model_v4.pdb\n"
     ]
    },
    {
     "name": "stderr",
     "output_type": "stream",
     "text": [
      "  4%|█▍                                    | 409/11019 [00:00<00:17, 610.03it/s]"
     ]
    },
    {
     "name": "stdout",
     "output_type": "stream",
     "text": [
      "error downloading structure for Q9NZR2 HTTP Error 404: Not Found\n",
      "https://alphafold.ebi.ac.uk/files/AF-Q9NZR2-F1-model_v4.pdb\n",
      "error downloading structure for P78509 HTTP Error 404: Not Found\n",
      "https://alphafold.ebi.ac.uk/files/AF-P78509-F1-model_v4.pdb\n",
      "error downloading structure for Q96M86 HTTP Error 404: Not Found\n",
      "https://alphafold.ebi.ac.uk/files/AF-Q96M86-F1-model_v4.pdb\n",
      "error downloading structure for Q14517 HTTP Error 404: Not Found\n",
      "https://alphafold.ebi.ac.uk/files/AF-Q14517-F1-model_v4.pdb\n"
     ]
    },
    {
     "name": "stderr",
     "output_type": "stream",
     "text": [
      "  7%|██▋                                  | 808/11019 [00:00<00:07, 1335.55it/s]"
     ]
    },
    {
     "name": "stdout",
     "output_type": "stream",
     "text": [
      "error downloading structure for Q14789 HTTP Error 404: Not Found\n",
      "https://alphafold.ebi.ac.uk/files/AF-Q14789-F1-model_v4.pdb\n",
      "error downloading structure for Q8TDJ6 HTTP Error 404: Not Found\n",
      "https://alphafold.ebi.ac.uk/files/AF-Q8TDJ6-F1-model_v4.pdb\n",
      "error downloading structure for Q9NT68 HTTP Error 404: Not Found\n",
      "https://alphafold.ebi.ac.uk/files/AF-Q9NT68-F1-model_v4.pdb\n"
     ]
    },
    {
     "name": "stderr",
     "output_type": "stream",
     "text": [
      " 10%|███▍                                | 1053/11019 [00:01<00:09, 1000.71it/s]"
     ]
    },
    {
     "name": "stdout",
     "output_type": "stream",
     "text": [
      "error downloading structure for Q5THJ4 HTTP Error 404: Not Found\n",
      "https://alphafold.ebi.ac.uk/files/AF-Q5THJ4-F1-model_v4.pdb\n",
      "error downloading structure for Q16881 HTTP Error 404: Not Found\n",
      "https://alphafold.ebi.ac.uk/files/AF-Q16881-F1-model_v4.pdb\n",
      "error downloading structure for Q8WWX9 HTTP Error 404: Not Found\n",
      "https://alphafold.ebi.ac.uk/files/AF-Q8WWX9-F1-model_v4.pdb\n",
      "error downloading structure for Q9H251 HTTP Error 404: Not Found\n",
      "https://alphafold.ebi.ac.uk/files/AF-Q9H251-F1-model_v4.pdb\n"
     ]
    },
    {
     "name": "stderr",
     "output_type": "stream",
     "text": [
      " 11%|████                                | 1246/11019 [00:01<00:08, 1130.48it/s]"
     ]
    },
    {
     "name": "stdout",
     "output_type": "stream",
     "text": [
      "error downloading structure for Q70CQ2 HTTP Error 404: Not Found\n",
      "https://alphafold.ebi.ac.uk/files/AF-Q70CQ2-F1-model_v4.pdb\n",
      "error downloading structure for Q09666 HTTP Error 404: Not Found\n",
      "https://alphafold.ebi.ac.uk/files/AF-Q09666-F1-model_v4.pdb\n",
      "error downloading structure for Q8IWI9 HTTP Error 404: Not Found\n",
      "https://alphafold.ebi.ac.uk/files/AF-Q8IWI9-F1-model_v4.pdb\n",
      "error downloading structure for Q96T58 HTTP Error 404: Not Found\n",
      "https://alphafold.ebi.ac.uk/files/AF-Q96T58-F1-model_v4.pdb\n"
     ]
    },
    {
     "name": "stderr",
     "output_type": "stream",
     "text": [
      " 13%|████▉                                | 1482/11019 [00:01<00:11, 849.64it/s]"
     ]
    },
    {
     "name": "stdout",
     "output_type": "stream",
     "text": [
      "error downloading structure for Q9HC84 HTTP Error 404: Not Found\n",
      "https://alphafold.ebi.ac.uk/files/AF-Q9HC84-F1-model_v4.pdb\n",
      "error downloading structure for Q9NYQ7 HTTP Error 404: Not Found\n",
      "https://alphafold.ebi.ac.uk/files/AF-Q9NYQ7-F1-model_v4.pdb\n",
      "error downloading structure for Q12955 HTTP Error 404: Not Found\n",
      "https://alphafold.ebi.ac.uk/files/AF-Q12955-F1-model_v4.pdb\n",
      "error downloading structure for O15050 HTTP Error 404: Not Found\n",
      "https://alphafold.ebi.ac.uk/files/AF-O15050-F1-model_v4.pdb\n"
     ]
    },
    {
     "name": "stderr",
     "output_type": "stream",
     "text": [
      " 16%|█████▊                              | 1794/11019 [00:02<00:09, 1021.84it/s]"
     ]
    },
    {
     "name": "stdout",
     "output_type": "stream",
     "text": [
      "error downloading structure for Q9Y6D0 HTTP Error 404: Not Found\n",
      "https://alphafold.ebi.ac.uk/files/AF-Q9Y6D0-F1-model_v4.pdb\n",
      "error downloading structure for Q5VST9 HTTP Error 404: Not Found\n",
      "https://alphafold.ebi.ac.uk/files/AF-Q5VST9-F1-model_v4.pdb\n",
      "error downloading structure for P46013 HTTP Error 404: Not Found\n",
      "https://alphafold.ebi.ac.uk/files/AF-P46013-F1-model_v4.pdb\n",
      "error downloading structure for Q9NZV6 HTTP Error 404: Not Found\n",
      "https://alphafold.ebi.ac.uk/files/AF-Q9NZV6-F1-model_v4.pdb\n"
     ]
    },
    {
     "name": "stderr",
     "output_type": "stream",
     "text": [
      " 17%|██████▍                              | 1902/11019 [00:02<00:10, 844.13it/s]"
     ]
    },
    {
     "name": "stdout",
     "output_type": "stream",
     "text": [
      "error downloading structure for P04275 HTTP Error 404: Not Found\n",
      "https://alphafold.ebi.ac.uk/files/AF-P04275-F1-model_v4.pdb\n",
      "error downloading structure for Q6ZQQ6 HTTP Error 404: Not Found\n",
      "https://alphafold.ebi.ac.uk/files/AF-Q6ZQQ6-F1-model_v4.pdb\n",
      "error downloading structure for Q8IZQ5 HTTP Error 404: Not Found\n",
      "https://alphafold.ebi.ac.uk/files/AF-Q8IZQ5-F1-model_v4.pdb\n"
     ]
    },
    {
     "name": "stderr",
     "output_type": "stream",
     "text": [
      " 18%|██████▋                              | 1994/11019 [00:02<00:12, 695.18it/s]"
     ]
    },
    {
     "name": "stdout",
     "output_type": "stream",
     "text": [
      "error downloading structure for O15018 HTTP Error 404: Not Found\n",
      "https://alphafold.ebi.ac.uk/files/AF-O15018-F1-model_v4.pdb\n",
      "error downloading structure for P98088 HTTP Error 404: Not Found\n",
      "https://alphafold.ebi.ac.uk/files/AF-P98088-F1-model_v4.pdb\n",
      "error downloading structure for Q8WUY3 HTTP Error 404: Not Found\n",
      "https://alphafold.ebi.ac.uk/files/AF-Q8WUY3-F1-model_v4.pdb\n"
     ]
    },
    {
     "name": "stderr",
     "output_type": "stream",
     "text": [
      " 21%|███████▋                             | 2291/11019 [00:02<00:10, 858.55it/s]"
     ]
    },
    {
     "name": "stdout",
     "output_type": "stream",
     "text": [
      "error downloading structure for O75592 HTTP Error 404: Not Found\n",
      "https://alphafold.ebi.ac.uk/files/AF-O75592-F1-model_v4.pdb\n",
      "error downloading structure for O75445 HTTP Error 404: Not Found\n",
      "https://alphafold.ebi.ac.uk/files/AF-O75445-F1-model_v4.pdb\n",
      "error downloading structure for P13611 HTTP Error 404: Not Found\n",
      "https://alphafold.ebi.ac.uk/files/AF-P13611-F1-model_v4.pdb\n",
      "error downloading structure for Q02388 HTTP Error 404: Not Found\n",
      "https://alphafold.ebi.ac.uk/files/AF-Q02388-F1-model_v4.pdb\n"
     ]
    },
    {
     "name": "stderr",
     "output_type": "stream",
     "text": [
      " 23%|████████▋                            | 2569/11019 [00:03<00:08, 950.09it/s]"
     ]
    },
    {
     "name": "stdout",
     "output_type": "stream",
     "text": [
      "error downloading structure for Q9P2D7 HTTP Error 404: Not Found\n",
      "https://alphafold.ebi.ac.uk/files/AF-Q9P2D7-F1-model_v4.pdb\n",
      "error downloading structure for Q6V0I7 HTTP Error 404: Not Found\n",
      "https://alphafold.ebi.ac.uk/files/AF-Q6V0I7-F1-model_v4.pdb\n",
      "error downloading structure for Q9BQE4 HTTP Error 404: Not Found\n",
      "https://alphafold.ebi.ac.uk/files/AF-Q9BQE4-F1-model_v4.pdb\n",
      "error downloading structure for Q99996 HTTP Error 404: Not Found\n",
      "https://alphafold.ebi.ac.uk/files/AF-Q99996-F1-model_v4.pdb\n"
     ]
    },
    {
     "name": "stderr",
     "output_type": "stream",
     "text": [
      " 26%|█████████▋                           | 2900/11019 [00:03<00:08, 909.82it/s]"
     ]
    },
    {
     "name": "stdout",
     "output_type": "stream",
     "text": [
      "error downloading structure for Q9NZV5 HTTP Error 404: Not Found\n",
      "https://alphafold.ebi.ac.uk/files/AF-Q9NZV5-F1-model_v4.pdb\n",
      "error downloading structure for O95071 HTTP Error 404: Not Found\n",
      "https://alphafold.ebi.ac.uk/files/AF-O95071-F1-model_v4.pdb\n",
      "error downloading structure for Q8N3K9 HTTP Error 404: Not Found\n",
      "https://alphafold.ebi.ac.uk/files/AF-Q8N3K9-F1-model_v4.pdb\n",
      "error downloading structure for Q86YZ3 HTTP Error 404: Not Found\n",
      "https://alphafold.ebi.ac.uk/files/AF-Q86YZ3-F1-model_v4.pdb\n"
     ]
    },
    {
     "name": "stderr",
     "output_type": "stream",
     "text": [
      " 27%|██████████                           | 2995/11019 [00:03<00:10, 749.21it/s]"
     ]
    },
    {
     "name": "stdout",
     "output_type": "stream",
     "text": [
      "error downloading structure for Q96DT5 HTTP Error 404: Not Found\n",
      "https://alphafold.ebi.ac.uk/files/AF-Q96DT5-F1-model_v4.pdb\n",
      "error downloading structure for Q15751 HTTP Error 404: Not Found\n",
      "https://alphafold.ebi.ac.uk/files/AF-Q15751-F1-model_v4.pdb\n",
      "error downloading structure for P15924 HTTP Error 404: Not Found\n",
      "https://alphafold.ebi.ac.uk/files/AF-P15924-F1-model_v4.pdb\n"
     ]
    },
    {
     "name": "stderr",
     "output_type": "stream",
     "text": [
      " 29%|██████████▌                         | 3244/11019 [00:03<00:07, 1010.88it/s]"
     ]
    },
    {
     "name": "stdout",
     "output_type": "stream",
     "text": [
      "error downloading structure for O15417 HTTP Error 404: Not Found\n",
      "https://alphafold.ebi.ac.uk/files/AF-O15417-F1-model_v4.pdb\n",
      "error downloading structure for Q9Y4A5 HTTP Error 404: Not Found\n",
      "https://alphafold.ebi.ac.uk/files/AF-Q9Y4A5-F1-model_v4.pdb\n",
      "error downloading structure for Q99611 HTTP Error 404: Not Found\n",
      "https://alphafold.ebi.ac.uk/files/AF-Q99611-F1-model_v4.pdb\n"
     ]
    },
    {
     "name": "stderr",
     "output_type": "stream",
     "text": [
      " 31%|███████████▏                        | 3429/11019 [00:03<00:07, 1079.10it/s]"
     ]
    },
    {
     "name": "stdout",
     "output_type": "stream",
     "text": [
      "error downloading structure for Q709C8 HTTP Error 404: Not Found\n",
      "https://alphafold.ebi.ac.uk/files/AF-Q709C8-F1-model_v4.pdb\n",
      "error downloading structure for Q14643 HTTP Error 404: Not Found\n",
      "https://alphafold.ebi.ac.uk/files/AF-Q14643-F1-model_v4.pdb\n",
      "error downloading structure for Q8NFP9 HTTP Error 404: Not Found\n",
      "https://alphafold.ebi.ac.uk/files/AF-Q8NFP9-F1-model_v4.pdb\n",
      "error downloading structure for P22105 HTTP Error 404: Not Found\n",
      "https://alphafold.ebi.ac.uk/files/AF-P22105-F1-model_v4.pdb\n"
     ]
    },
    {
     "name": "stderr",
     "output_type": "stream",
     "text": [
      " 32%|███████████▉                         | 3543/11019 [00:04<00:12, 617.09it/s]"
     ]
    },
    {
     "name": "stdout",
     "output_type": "stream",
     "text": [
      "error downloading structure for O95359 HTTP Error 404: Not Found\n",
      "https://alphafold.ebi.ac.uk/files/AF-O95359-F1-model_v4.pdb\n",
      "error downloading structure for Q9C0G6 HTTP Error 404: Not Found\n",
      "https://alphafold.ebi.ac.uk/files/AF-Q9C0G6-F1-model_v4.pdb\n",
      "error downloading structure for Q86UQ4 HTTP Error 404: Not Found\n",
      "https://alphafold.ebi.ac.uk/files/AF-Q86UQ4-F1-model_v4.pdb\n",
      "error downloading structure for P62341 HTTP Error 404: Not Found\n",
      "https://alphafold.ebi.ac.uk/files/AF-P62341-F1-model_v4.pdb\n"
     ]
    },
    {
     "name": "stderr",
     "output_type": "stream",
     "text": [
      " 34%|████████████▌                        | 3752/11019 [00:04<00:09, 798.77it/s]"
     ]
    },
    {
     "name": "stdout",
     "output_type": "stream",
     "text": [
      "error downloading structure for P20929 HTTP Error 404: Not Found\n",
      "https://alphafold.ebi.ac.uk/files/AF-P20929-F1-model_v4.pdb\n",
      "error downloading structure for Q12830 HTTP Error 404: Not Found\n",
      "https://alphafold.ebi.ac.uk/files/AF-Q12830-F1-model_v4.pdb\n",
      "error downloading structure for Q9NZJ4 HTTP Error 404: Not Found\n",
      "https://alphafold.ebi.ac.uk/files/AF-Q9NZJ4-F1-model_v4.pdb\n",
      "error downloading structure for Q15772 HTTP Error 404: Not Found\n",
      "https://alphafold.ebi.ac.uk/files/AF-Q15772-F1-model_v4.pdb\n"
     ]
    },
    {
     "name": "stderr",
     "output_type": "stream",
     "text": [
      " 36%|█████████████▎                       | 3956/11019 [00:04<00:09, 722.79it/s]"
     ]
    },
    {
     "name": "stdout",
     "output_type": "stream",
     "text": [
      "error downloading structure for P21359 HTTP Error 404: Not Found\n",
      "https://alphafold.ebi.ac.uk/files/AF-P21359-F1-model_v4.pdb\n",
      "error downloading structure for Q8IVF2 HTTP Error 404: Not Found\n",
      "https://alphafold.ebi.ac.uk/files/AF-Q8IVF2-F1-model_v4.pdb\n",
      "error downloading structure for P04114 HTTP Error 404: Not Found\n",
      "https://alphafold.ebi.ac.uk/files/AF-P04114-F1-model_v4.pdb\n"
     ]
    },
    {
     "name": "stderr",
     "output_type": "stream",
     "text": [
      " 40%|██████████████▍                     | 4405/11019 [00:05<00:05, 1147.18it/s]"
     ]
    },
    {
     "name": "stdout",
     "output_type": "stream",
     "text": [
      "error downloading structure for Q14315 HTTP Error 404: Not Found\n",
      "https://alphafold.ebi.ac.uk/files/AF-Q14315-F1-model_v4.pdb\n",
      "error downloading structure for Q8NCM8 HTTP Error 404: Not Found\n",
      "https://alphafold.ebi.ac.uk/files/AF-Q8NCM8-F1-model_v4.pdb\n",
      "error downloading structure for Q86UP3 HTTP Error 404: Not Found\n",
      "https://alphafold.ebi.ac.uk/files/AF-Q86UP3-F1-model_v4.pdb\n",
      "error downloading structure for P21817 HTTP Error 404: Not Found\n",
      "https://alphafold.ebi.ac.uk/files/AF-P21817-F1-model_v4.pdb\n"
     ]
    },
    {
     "name": "stderr",
     "output_type": "stream",
     "text": [
      " 42%|███████████████▏                    | 4649/11019 [00:05<00:04, 1295.91it/s]"
     ]
    },
    {
     "name": "stdout",
     "output_type": "stream",
     "text": [
      "error downloading structure for O75962 HTTP Error 404: Not Found\n",
      "https://alphafold.ebi.ac.uk/files/AF-O75962-F1-model_v4.pdb\n",
      "error downloading structure for Q8WZ42 HTTP Error 404: Not Found\n",
      "https://alphafold.ebi.ac.uk/files/AF-Q8WZ42-F1-model_v4.pdb\n",
      "error downloading structure for Q9P2D1 HTTP Error 404: Not Found\n",
      "https://alphafold.ebi.ac.uk/files/AF-Q9P2D1-F1-model_v4.pdb\n"
     ]
    },
    {
     "name": "stderr",
     "output_type": "stream",
     "text": [
      " 43%|████████████████                     | 4790/11019 [00:05<00:06, 975.83it/s]"
     ]
    },
    {
     "name": "stdout",
     "output_type": "stream",
     "text": [
      "error downloading structure for O43149 HTTP Error 404: Not Found\n",
      "https://alphafold.ebi.ac.uk/files/AF-O43149-F1-model_v4.pdb\n",
      "error downloading structure for Q16787 HTTP Error 404: Not Found\n",
      "https://alphafold.ebi.ac.uk/files/AF-Q16787-F1-model_v4.pdb\n",
      "error downloading structure for Q8NF91 HTTP Error 404: Not Found\n",
      "https://alphafold.ebi.ac.uk/files/AF-Q8NF91-F1-model_v4.pdb\n"
     ]
    },
    {
     "name": "stderr",
     "output_type": "stream",
     "text": [
      " 45%|████████████████▌                    | 4919/11019 [00:05<00:06, 966.11it/s]"
     ]
    },
    {
     "name": "stdout",
     "output_type": "stream",
     "text": [
      "error downloading structure for O60281 HTTP Error 404: Not Found\n",
      "https://alphafold.ebi.ac.uk/files/AF-O60281-F1-model_v4.pdb\n",
      "error downloading structure for Q7Z7M0 HTTP Error 404: Not Found\n",
      "https://alphafold.ebi.ac.uk/files/AF-Q7Z7M0-F1-model_v4.pdb\n",
      "error downloading structure for P25054 HTTP Error 404: Not Found\n",
      "https://alphafold.ebi.ac.uk/files/AF-P25054-F1-model_v4.pdb\n"
     ]
    },
    {
     "name": "stderr",
     "output_type": "stream",
     "text": [
      " 47%|█████████████████▎                   | 5146/11019 [00:05<00:06, 902.02it/s]"
     ]
    },
    {
     "name": "stdout",
     "output_type": "stream",
     "text": [
      "error downloading structure for Q03001 HTTP Error 404: Not Found\n",
      "https://alphafold.ebi.ac.uk/files/AF-Q03001-F1-model_v4.pdb\n",
      "error downloading structure for Q99715 HTTP Error 404: Not Found\n",
      "https://alphafold.ebi.ac.uk/files/AF-Q99715-F1-model_v4.pdb\n",
      "error downloading structure for O95613 HTTP Error 404: Not Found\n",
      "https://alphafold.ebi.ac.uk/files/AF-O95613-F1-model_v4.pdb\n"
     ]
    },
    {
     "name": "stderr",
     "output_type": "stream",
     "text": [
      " 49%|██████████████████                   | 5394/11019 [00:06<00:06, 909.18it/s]"
     ]
    },
    {
     "name": "stdout",
     "output_type": "stream",
     "text": [
      "error downloading structure for O15230 HTTP Error 404: Not Found\n",
      "https://alphafold.ebi.ac.uk/files/AF-O15230-F1-model_v4.pdb\n",
      "error downloading structure for Q96RW7 HTTP Error 404: Not Found\n",
      "https://alphafold.ebi.ac.uk/files/AF-Q96RW7-F1-model_v4.pdb\n",
      "error downloading structure for Q9UKN7 HTTP Error 404: Not Found\n",
      "https://alphafold.ebi.ac.uk/files/AF-Q9UKN7-F1-model_v4.pdb\n",
      "error downloading structure for Q8WXH0 HTTP Error 404: Not Found\n",
      "https://alphafold.ebi.ac.uk/files/AF-Q8WXH0-F1-model_v4.pdb\n"
     ]
    },
    {
     "name": "stderr",
     "output_type": "stream",
     "text": [
      " 50%|██████████████████▍                  | 5488/11019 [00:06<00:07, 773.45it/s]"
     ]
    },
    {
     "name": "stdout",
     "output_type": "stream",
     "text": [
      "error downloading structure for Q0VDD8 HTTP Error 404: Not Found\n",
      "https://alphafold.ebi.ac.uk/files/AF-Q0VDD8-F1-model_v4.pdb\n",
      "error downloading structure for P08519 HTTP Error 404: Not Found\n",
      "https://alphafold.ebi.ac.uk/files/AF-P08519-F1-model_v4.pdb\n",
      "error downloading structure for Q02817 HTTP Error 404: Not Found\n",
      "https://alphafold.ebi.ac.uk/files/AF-Q02817-F1-model_v4.pdb\n",
      "error downloading structure for Q96L91 HTTP Error 404: Not Found\n",
      "https://alphafold.ebi.ac.uk/files/AF-Q96L91-F1-model_v4.pdb\n"
     ]
    },
    {
     "name": "stderr",
     "output_type": "stream",
     "text": [
      " 52%|███████████████████▏                 | 5709/11019 [00:06<00:06, 769.75it/s]"
     ]
    },
    {
     "name": "stdout",
     "output_type": "stream",
     "text": [
      "error downloading structure for Q01484 HTTP Error 404: Not Found\n",
      "https://alphafold.ebi.ac.uk/files/AF-Q01484-F1-model_v4.pdb\n",
      "error downloading structure for Q6KC79 HTTP Error 404: Not Found\n",
      "https://alphafold.ebi.ac.uk/files/AF-Q6KC79-F1-model_v4.pdb\n",
      "error downloading structure for Q8NFC6 HTTP Error 404: Not Found\n",
      "https://alphafold.ebi.ac.uk/files/AF-Q8NFC6-F1-model_v4.pdb\n",
      "error downloading structure for Q9Y6R7 HTTP Error 404: Not Found\n",
      "https://alphafold.ebi.ac.uk/files/AF-Q9Y6R7-F1-model_v4.pdb\n"
     ]
    },
    {
     "name": "stderr",
     "output_type": "stream",
     "text": [
      " 54%|████████████████████                 | 5976/11019 [00:06<00:05, 894.87it/s]"
     ]
    },
    {
     "name": "stdout",
     "output_type": "stream",
     "text": [
      "error downloading structure for Q9UQ35 HTTP Error 404: Not Found\n",
      "https://alphafold.ebi.ac.uk/files/AF-Q9UQ35-F1-model_v4.pdb\n",
      "error downloading structure for P55073 HTTP Error 404: Not Found\n",
      "https://alphafold.ebi.ac.uk/files/AF-P55073-F1-model_v4.pdb\n",
      "error downloading structure for P36969 HTTP Error 404: Not Found\n",
      "https://alphafold.ebi.ac.uk/files/AF-P36969-F1-model_v4.pdb\n",
      "error downloading structure for P98161 HTTP Error 404: Not Found\n",
      "https://alphafold.ebi.ac.uk/files/AF-P98161-F1-model_v4.pdb\n"
     ]
    },
    {
     "name": "stderr",
     "output_type": "stream",
     "text": [
      " 56%|████████████████████▊                | 6196/11019 [00:07<00:05, 892.97it/s]"
     ]
    },
    {
     "name": "stdout",
     "output_type": "stream",
     "text": [
      "error downloading structure for Q6ZRS2 HTTP Error 404: Not Found\n",
      "https://alphafold.ebi.ac.uk/files/AF-Q6ZRS2-F1-model_v4.pdb\n",
      "error downloading structure for O94915 HTTP Error 404: Not Found\n",
      "https://alphafold.ebi.ac.uk/files/AF-O94915-F1-model_v4.pdb\n",
      "error downloading structure for Q7Z6Z7 HTTP Error 404: Not Found\n",
      "https://alphafold.ebi.ac.uk/files/AF-Q7Z6Z7-F1-model_v4.pdb\n",
      "error downloading structure for Q9NR99 HTTP Error 404: Not Found\n",
      "https://alphafold.ebi.ac.uk/files/AF-Q9NR99-F1-model_v4.pdb\n"
     ]
    },
    {
     "name": "stderr",
     "output_type": "stream",
     "text": [
      " 59%|█████████████████████▏              | 6483/11019 [00:07<00:03, 1253.45it/s]"
     ]
    },
    {
     "name": "stdout",
     "output_type": "stream",
     "text": [
      "error downloading structure for P15822 HTTP Error 404: Not Found\n",
      "https://alphafold.ebi.ac.uk/files/AF-P15822-F1-model_v4.pdb\n",
      "error downloading structure for Q9UPA5 HTTP Error 404: Not Found\n",
      "https://alphafold.ebi.ac.uk/files/AF-Q9UPA5-F1-model_v4.pdb\n",
      "error downloading structure for Q02224 HTTP Error 404: Not Found\n",
      "https://alphafold.ebi.ac.uk/files/AF-Q02224-F1-model_v4.pdb\n",
      "error downloading structure for Q99698 HTTP Error 404: Not Found\n",
      "https://alphafold.ebi.ac.uk/files/AF-Q99698-F1-model_v4.pdb\n"
     ]
    },
    {
     "name": "stderr",
     "output_type": "stream",
     "text": [
      " 60%|██████████████████████▏              | 6609/11019 [00:07<00:05, 834.78it/s]"
     ]
    },
    {
     "name": "stdout",
     "output_type": "stream",
     "text": [
      "error downloading structure for Q5VT06 HTTP Error 404: Not Found\n",
      "https://alphafold.ebi.ac.uk/files/AF-Q5VT06-F1-model_v4.pdb\n",
      "error downloading structure for Q96Q15 HTTP Error 404: Not Found\n",
      "https://alphafold.ebi.ac.uk/files/AF-Q96Q15-F1-model_v4.pdb\n",
      "error downloading structure for Q6ZR08 HTTP Error 404: Not Found\n",
      "https://alphafold.ebi.ac.uk/files/AF-Q6ZR08-F1-model_v4.pdb\n",
      "error downloading structure for Q15149 HTTP Error 404: Not Found\n",
      "https://alphafold.ebi.ac.uk/files/AF-Q15149-F1-model_v4.pdb\n"
     ]
    },
    {
     "name": "stderr",
     "output_type": "stream",
     "text": [
      " 64%|██████████████████████▉             | 7031/11019 [00:07<00:03, 1173.28it/s]"
     ]
    },
    {
     "name": "stdout",
     "output_type": "stream",
     "text": [
      "error downloading structure for Q63HN8 HTTP Error 404: Not Found\n",
      "https://alphafold.ebi.ac.uk/files/AF-Q63HN8-F1-model_v4.pdb\n",
      "error downloading structure for Q8TCU4 HTTP Error 404: Not Found\n",
      "https://alphafold.ebi.ac.uk/files/AF-Q8TCU4-F1-model_v4.pdb\n",
      "error downloading structure for P20930 HTTP Error 404: Not Found\n",
      "https://alphafold.ebi.ac.uk/files/AF-P20930-F1-model_v4.pdb\n"
     ]
    },
    {
     "name": "stderr",
     "output_type": "stream",
     "text": [
      " 65%|███████████████████████▍            | 7165/11019 [00:08<00:03, 1058.20it/s]"
     ]
    },
    {
     "name": "stdout",
     "output_type": "stream",
     "text": [
      "error downloading structure for Q9NR48 HTTP Error 404: Not Found\n",
      "https://alphafold.ebi.ac.uk/files/AF-Q9NR48-F1-model_v4.pdb\n",
      "error downloading structure for Q9UKN1 HTTP Error 404: Not Found\n",
      "https://alphafold.ebi.ac.uk/files/AF-Q9UKN1-F1-model_v4.pdb\n"
     ]
    },
    {
     "name": "stderr",
     "output_type": "stream",
     "text": [
      " 68%|████████████████████████▌           | 7500/11019 [00:08<00:03, 1056.05it/s]"
     ]
    },
    {
     "name": "stdout",
     "output_type": "stream",
     "text": [
      "error downloading structure for Q5T4S7 HTTP Error 404: Not Found\n",
      "https://alphafold.ebi.ac.uk/files/AF-Q5T4S7-F1-model_v4.pdb\n",
      "error downloading structure for Q8IZQ1 HTTP Error 404: Not Found\n",
      "https://alphafold.ebi.ac.uk/files/AF-Q8IZQ1-F1-model_v4.pdb\n",
      "error downloading structure for Q8N2C7 HTTP Error 404: Not Found\n",
      "https://alphafold.ebi.ac.uk/files/AF-Q8N2C7-F1-model_v4.pdb\n"
     ]
    },
    {
     "name": "stderr",
     "output_type": "stream",
     "text": [
      " 69%|█████████████████████████▌           | 7614/11019 [00:08<00:03, 914.82it/s]"
     ]
    },
    {
     "name": "stdout",
     "output_type": "stream",
     "text": [
      "error downloading structure for Q15911 HTTP Error 404: Not Found\n",
      "https://alphafold.ebi.ac.uk/files/AF-Q15911-F1-model_v4.pdb\n",
      "error downloading structure for O75691 HTTP Error 404: Not Found\n",
      "https://alphafold.ebi.ac.uk/files/AF-O75691-F1-model_v4.pdb\n",
      "error downloading structure for Q8IZT6 HTTP Error 404: Not Found\n",
      "https://alphafold.ebi.ac.uk/files/AF-Q8IZT6-F1-model_v4.pdb\n",
      "error downloading structure for O95714 HTTP Error 404: Not Found\n",
      "https://alphafold.ebi.ac.uk/files/AF-O95714-F1-model_v4.pdb\n"
     ]
    },
    {
     "name": "stderr",
     "output_type": "stream",
     "text": [
      " 72%|█████████████████████████▊          | 7910/11019 [00:08<00:03, 1013.35it/s]"
     ]
    },
    {
     "name": "stdout",
     "output_type": "stream",
     "text": [
      "error downloading structure for Q9NR09 HTTP Error 404: Not Found\n",
      "https://alphafold.ebi.ac.uk/files/AF-Q9NR09-F1-model_v4.pdb\n",
      "error downloading structure for P42858 HTTP Error 404: Not Found\n",
      "https://alphafold.ebi.ac.uk/files/AF-P42858-F1-model_v4.pdb\n",
      "error downloading structure for Q9C0D9 HTTP Error 404: Not Found\n",
      "https://alphafold.ebi.ac.uk/files/AF-Q9C0D9-F1-model_v4.pdb\n",
      "error downloading structure for O60613 HTTP Error 404: Not Found\n",
      "https://alphafold.ebi.ac.uk/files/AF-O60613-F1-model_v4.pdb\n"
     ]
    },
    {
     "name": "stderr",
     "output_type": "stream",
     "text": [
      " 74%|██████████████████████████▊         | 8197/11019 [00:09<00:02, 1000.49it/s]"
     ]
    },
    {
     "name": "stdout",
     "output_type": "stream",
     "text": [
      "error downloading structure for P51587 HTTP Error 404: Not Found\n",
      "https://alphafold.ebi.ac.uk/files/AF-P51587-F1-model_v4.pdb\n",
      "error downloading structure for P24043 HTTP Error 404: Not Found\n",
      "https://alphafold.ebi.ac.uk/files/AF-P24043-F1-model_v4.pdb\n",
      "error downloading structure for P01266 HTTP Error 404: Not Found\n",
      "https://alphafold.ebi.ac.uk/files/AF-P01266-F1-model_v4.pdb\n",
      "error downloading structure for O60494 HTTP Error 404: Not Found\n",
      "https://alphafold.ebi.ac.uk/files/AF-O60494-F1-model_v4.pdb\n"
     ]
    },
    {
     "name": "stderr",
     "output_type": "stream",
     "text": [
      " 77%|███████████████████████████▋        | 8491/11019 [00:09<00:01, 1327.55it/s]"
     ]
    },
    {
     "name": "stdout",
     "output_type": "stream",
     "text": [
      "error downloading structure for Q9Y6V0 HTTP Error 404: Not Found\n",
      "https://alphafold.ebi.ac.uk/files/AF-Q9Y6V0-F1-model_v4.pdb\n",
      "error downloading structure for Q9UPN3 HTTP Error 404: Not Found\n",
      "https://alphafold.ebi.ac.uk/files/AF-Q9UPN3-F1-model_v4.pdb\n",
      "error downloading structure for Q68DQ2 HTTP Error 404: Not Found\n",
      "https://alphafold.ebi.ac.uk/files/AF-Q68DQ2-F1-model_v4.pdb\n",
      "error downloading structure for Q9P225 HTTP Error 404: Not Found\n",
      "https://alphafold.ebi.ac.uk/files/AF-Q9P225-F1-model_v4.pdb\n"
     ]
    },
    {
     "name": "stderr",
     "output_type": "stream",
     "text": [
      " 83%|█████████████████████████████▉      | 9147/11019 [00:09<00:01, 1529.53it/s]"
     ]
    },
    {
     "name": "stdout",
     "output_type": "stream",
     "text": [
      "error downloading structure for Q8TE73 HTTP Error 404: Not Found\n",
      "https://alphafold.ebi.ac.uk/files/AF-Q8TE73-F1-model_v4.pdb\n",
      "error downloading structure for Q12802 HTTP Error 404: Not Found\n",
      "https://alphafold.ebi.ac.uk/files/AF-Q12802-F1-model_v4.pdb\n",
      "error downloading structure for Q2LD37 HTTP Error 404: Not Found\n",
      "https://alphafold.ebi.ac.uk/files/AF-Q2LD37-F1-model_v4.pdb\n",
      "error downloading structure for Q7Z7G8 HTTP Error 404: Not Found\n",
      "https://alphafold.ebi.ac.uk/files/AF-Q7Z7G8-F1-model_v4.pdb\n"
     ]
    },
    {
     "name": "stderr",
     "output_type": "stream",
     "text": [
      " 84%|██████████████████████████████▍     | 9303/11019 [00:09<00:01, 1237.78it/s]"
     ]
    },
    {
     "name": "stdout",
     "output_type": "stream",
     "text": [
      "error downloading structure for Q9BVL4 HTTP Error 404: Not Found\n",
      "https://alphafold.ebi.ac.uk/files/AF-Q9BVL4-F1-model_v4.pdb\n",
      "error downloading structure for A4UGR9 HTTP Error 404: Not Found\n",
      "https://alphafold.ebi.ac.uk/files/AF-A4UGR9-F1-model_v4.pdb\n",
      "error downloading structure for Q6ZNJ1 HTTP Error 404: Not Found\n",
      "https://alphafold.ebi.ac.uk/files/AF-Q6ZNJ1-F1-model_v4.pdb\n"
     ]
    },
    {
     "name": "stderr",
     "output_type": "stream",
     "text": [
      " 88%|███████████████████████████████▊    | 9729/11019 [00:10<00:00, 1386.38it/s]"
     ]
    },
    {
     "name": "stdout",
     "output_type": "stream",
     "text": [
      "error downloading structure for Q14204 HTTP Error 404: Not Found\n",
      "https://alphafold.ebi.ac.uk/files/AF-Q14204-F1-model_v4.pdb\n",
      "error downloading structure for Q9BXT5 HTTP Error 404: Not Found\n",
      "https://alphafold.ebi.ac.uk/files/AF-Q9BXT5-F1-model_v4.pdb\n",
      "error downloading structure for Q92813 HTTP Error 404: Not Found\n",
      "https://alphafold.ebi.ac.uk/files/AF-Q92813-F1-model_v4.pdb\n",
      "error downloading structure for Q8WXI7 HTTP Error 404: Not Found\n",
      "https://alphafold.ebi.ac.uk/files/AF-Q8WXI7-F1-model_v4.pdb\n"
     ]
    },
    {
     "name": "stderr",
     "output_type": "stream",
     "text": [
      " 90%|████████████████████████████████▎   | 9873/11019 [00:10<00:01, 1017.80it/s]"
     ]
    },
    {
     "name": "stdout",
     "output_type": "stream",
     "text": [
      "error downloading structure for Q8IVF4 HTTP Error 404: Not Found\n",
      "https://alphafold.ebi.ac.uk/files/AF-Q8IVF4-F1-model_v4.pdb\n",
      "error downloading structure for P11532 HTTP Error 404: Not Found\n",
      "https://alphafold.ebi.ac.uk/files/AF-P11532-F1-model_v4.pdb\n",
      "error downloading structure for Q9P2P6 HTTP Error 404: Not Found\n",
      "https://alphafold.ebi.ac.uk/files/AF-Q9P2P6-F1-model_v4.pdb\n",
      "error downloading structure for P78559 HTTP Error 404: Not Found\n",
      "https://alphafold.ebi.ac.uk/files/AF-P78559-F1-model_v4.pdb\n"
     ]
    },
    {
     "name": "stderr",
     "output_type": "stream",
     "text": [
      " 91%|█████████████████████████████████▌   | 9991/11019 [00:10<00:01, 798.70it/s]"
     ]
    },
    {
     "name": "stdout",
     "output_type": "stream",
     "text": [
      "error downloading structure for P78527 HTTP Error 404: Not Found\n",
      "https://alphafold.ebi.ac.uk/files/AF-P78527-F1-model_v4.pdb\n",
      "error downloading structure for P59797 HTTP Error 404: Not Found\n",
      "https://alphafold.ebi.ac.uk/files/AF-P59797-F1-model_v4.pdb\n",
      "error downloading structure for Q96JQ0 HTTP Error 404: Not Found\n",
      "https://alphafold.ebi.ac.uk/files/AF-Q96JQ0-F1-model_v4.pdb\n",
      "error downloading structure for Q9Y520 HTTP Error 404: Not Found\n",
      "https://alphafold.ebi.ac.uk/files/AF-Q9Y520-F1-model_v4.pdb\n"
     ]
    },
    {
     "name": "stderr",
     "output_type": "stream",
     "text": [
      " 95%|█████████████████████████████████▏ | 10431/11019 [00:10<00:00, 1319.25it/s]"
     ]
    },
    {
     "name": "stdout",
     "output_type": "stream",
     "text": [
      "error downloading structure for Q9NRC6 HTTP Error 404: Not Found\n",
      "https://alphafold.ebi.ac.uk/files/AF-Q9NRC6-F1-model_v4.pdb\n",
      "error downloading structure for P58107 HTTP Error 404: Not Found\n",
      "https://alphafold.ebi.ac.uk/files/AF-P58107-F1-model_v4.pdb\n",
      "error downloading structure for P49454 HTTP Error 404: Not Found\n",
      "https://alphafold.ebi.ac.uk/files/AF-P49454-F1-model_v4.pdb\n",
      "error downloading structure for Q5T011 HTTP Error 404: Not Found\n",
      "https://alphafold.ebi.ac.uk/files/AF-Q5T011-F1-model_v4.pdb\n"
     ]
    },
    {
     "name": "stderr",
     "output_type": "stream",
     "text": [
      " 96%|█████████████████████████████████▋ | 10589/11019 [00:10<00:00, 1169.41it/s]"
     ]
    },
    {
     "name": "stdout",
     "output_type": "stream",
     "text": [
      "error downloading structure for P35556 HTTP Error 404: Not Found\n",
      "https://alphafold.ebi.ac.uk/files/AF-P35556-F1-model_v4.pdb\n",
      "error downloading structure for P22352 HTTP Error 404: Not Found\n",
      "https://alphafold.ebi.ac.uk/files/AF-P22352-F1-model_v4.pdb\n",
      "error downloading structure for P12111 HTTP Error 404: Not Found\n",
      "https://alphafold.ebi.ac.uk/files/AF-P12111-F1-model_v4.pdb\n"
     ]
    },
    {
     "name": "stderr",
     "output_type": "stream",
     "text": [
      " 98%|███████████████████████████████████▍| 10840/11019 [00:11<00:00, 885.51it/s]"
     ]
    },
    {
     "name": "stdout",
     "output_type": "stream",
     "text": [
      "error downloading structure for Q96PZ7 HTTP Error 404: Not Found\n",
      "https://alphafold.ebi.ac.uk/files/AF-Q96PZ7-F1-model_v4.pdb\n",
      "error downloading structure for Q96JG9 HTTP Error 404: Not Found\n",
      "https://alphafold.ebi.ac.uk/files/AF-Q96JG9-F1-model_v4.pdb\n",
      "error downloading structure for P98160 HTTP Error 404: Not Found\n",
      "https://alphafold.ebi.ac.uk/files/AF-P98160-F1-model_v4.pdb\n",
      "error downloading structure for P08F94 HTTP Error 404: Not Found\n",
      "https://alphafold.ebi.ac.uk/files/AF-P08F94-F1-model_v4.pdb\n"
     ]
    },
    {
     "name": "stderr",
     "output_type": "stream",
     "text": [
      "100%|████████████████████████████████████| 11019/11019 [00:11<00:00, 962.91it/s]"
     ]
    },
    {
     "name": "stdout",
     "output_type": "stream",
     "text": [
      "error downloading structure for Q86XX4 HTTP Error 404: Not Found\n",
      "https://alphafold.ebi.ac.uk/files/AF-Q86XX4-F1-model_v4.pdb\n"
     ]
    },
    {
     "name": "stderr",
     "output_type": "stream",
     "text": [
      "\n"
     ]
    }
   ],
   "source": [
    "\n",
    "#create a struct folder\n",
    "folder = '/home/dmoi/datasets/PPI_antileakage/structures/'\n",
    "import os\n",
    "if not os.path.exists(folder):\n",
    "\tos.mkdir(folder)\n",
    "\n",
    "#download structures\n",
    "from foldtree2.src import AFDB_tools\n",
    "import tqdm\n",
    "for struct in tqdm.tqdm(proteins):\n",
    "\tAFDB_tools.grab_struct( struct, folder )\n",
    "\n",
    "#encode structures\n",
    "\n",
    "#transformer to weighted set\n",
    "\n",
    "#weighted jacccard pairise\n",
    "\n"
   ]
  },
  {
   "cell_type": "code",
   "execution_count": 3,
   "id": "964fb9e4",
   "metadata": {},
   "outputs": [
    {
     "name": "stdout",
     "output_type": "stream",
     "text": [
      "Checking downloaded structures...\n",
      "Number of unique proteins to check: 11019\n",
      "Number of downloaded structures: 10851\n",
      "Number of structures with PDB files: 10851\n",
      "Filtering Intra2_neg_rr with 10851 proteins...\n",
      "Intra2_neg_rr (26024, 2)\n",
      "Intra2_neg_rr (25564, 2)\n",
      "Filtering Intra1_neg_rr with 10851 proteins...\n",
      "Intra1_neg_rr (81596, 2)\n",
      "Intra1_neg_rr (77714, 2)\n",
      "Filtering Intra2_pos_rr with 10851 proteins...\n",
      "Intra2_pos_rr (26024, 2)\n",
      "Intra2_pos_rr (25566, 2)\n",
      "Filtering Intra0_pos_rr with 10851 proteins...\n",
      "Intra0_pos_rr (29630, 2)\n",
      "Intra0_pos_rr (29017, 2)\n",
      "Filtering Intra0_neg_rr with 10851 proteins...\n",
      "Intra0_neg_rr (29630, 2)\n",
      "Intra0_neg_rr (28995, 2)\n",
      "Filtering Intra1_pos_rr with 10851 proteins...\n",
      "Intra1_pos_rr (81596, 2)\n",
      "Intra1_pos_rr (77719, 2)\n"
     ]
    }
   ],
   "source": [
    "#check which structures were downloaded\n",
    "print('Checking downloaded structures...')\n",
    "#clear filtered csv files\n",
    "filtered = glob.glob(f'{datadir}*_filtered.txt')\n",
    "for f in filtered:\n",
    "\tos.remove(f)\n",
    "#recompile non-redundant set of proteins\n",
    "print( f'Number of unique proteins to check: {len(proteins)}' )\n",
    "downloaded = glob.glob(f'{folder}*.pdb')\n",
    "downloaded = [ d.split('/')[-1].split('.pdb')[0] for d in downloaded ]\n",
    "print(f'Number of downloaded structures: {len(downloaded)}')\n",
    "#intersect with proteins\n",
    "proteins = proteins.intersection( set(downloaded) )\n",
    "print(f'Number of structures with PDB files: {len(proteins)}')\n",
    "#filter dfs\n",
    "for k in dfs.keys():\n",
    "\tprint( f'Filtering {k} with {len(proteins)} proteins...' )\n",
    "\tprint( k, dfs[k].shape )\n",
    "\tdfs[k] = dfs[k][ dfs[k]['protA'].isin(proteins) & dfs[k]['protB'].isin(proteins) ]\n",
    "\tprint(k, dfs[k].shape)\n",
    "\t#add label column\n",
    "\tif 'neg' in k:\n",
    "\t\tdfs[k]['label'] = 0\n",
    "\telse:\n",
    "\t\tdfs[k]['label'] = 1\n",
    "\t#add dataset label\n",
    "\tdfs[k]['dataset'] = k.split('_')[0]\n",
    "\t#save filtered dfs\n",
    "\tdfs[k].to_csv(f'{datadir}{k}_filtered.txt', sep=' ', header=False, index=False)\n",
    "\n",
    "#concatenate all filtered dfs\n",
    "all_pairs = pd.concat( [ dfs[k] for k in dfs.keys() ] )\n",
    "all_pairs = all_pairs.drop_duplicates().reset_index(drop=True)\n"
   ]
  },
  {
   "cell_type": "code",
   "execution_count": 4,
   "id": "cb0bdf68",
   "metadata": {},
   "outputs": [
    {
     "name": "stdout",
     "output_type": "stream",
     "text": [
      "label\n",
      "1    132302\n",
      "0    132273\n",
      "Name: count, dtype: int64\n",
      "dataset\n",
      "Intra1    155433\n",
      "Intra0     58012\n",
      "Intra2     51130\n",
      "Name: count, dtype: int64\n",
      "label\n",
      "1    29017\n",
      "0    28995\n",
      "Name: count, dtype: int64\n",
      "label\n",
      "1    77719\n",
      "0    77714\n",
      "Name: count, dtype: int64\n",
      "label\n",
      "1    25566\n",
      "0    25564\n",
      "Name: count, dtype: int64\n"
     ]
    }
   ],
   "source": [
    "print( all_pairs['label'].value_counts() )\n",
    "print( all_pairs['dataset'].value_counts() )\n",
    "\n",
    "valdf = all_pairs[all_pairs['dataset'] == 'Intra0']\n",
    "traindf = all_pairs[all_pairs['dataset'] == 'Intra1']\n",
    "testdf = all_pairs[all_pairs['dataset'] == 'Intra2']\n",
    "print( valdf['label'].value_counts() )\n",
    "print( traindf['label'].value_counts() )\n",
    "print( testdf['label'].value_counts() )"
   ]
  },
  {
   "cell_type": "code",
   "execution_count": 5,
   "id": "fb6ca604",
   "metadata": {},
   "outputs": [
    {
     "name": "stdout",
     "output_type": "stream",
     "text": [
      "/home/dmoi/projects/foldtree2/foldtree2\n"
     ]
    }
   ],
   "source": [
    "cd /home/dmoi/projects/foldtree2/foldtree2"
   ]
  },
  {
   "cell_type": "code",
   "execution_count": null,
   "id": "ebe2837f",
   "metadata": {},
   "outputs": [],
   "source": [
    "from torch_geometric.data import DataLoader\n",
    "from foldtree2.src.pdbgraph import PDB2PyG\n",
    "converter = PDB2PyG( aapropcsv='./config/aaindex1.csv')\n",
    "downloaded = glob.glob(f'{folder}*.pdb')\n",
    "#converter.store_pyg(downloaded, filename='structs_pairwise.h5', foldxdir = None, verbose = False)"
   ]
  },
  {
   "cell_type": "code",
   "execution_count": null,
   "id": "8808c01b",
   "metadata": {},
   "outputs": [],
   "source": [
    "from foldtree2.src.pdbgraph import StructureDataset\n",
    "import torch\n",
    "\n",
    "# Create StructureDataset from the stored PyG file\n",
    "struct_dat = StructureDataset('structs_pairwise.h5')\n",
    "\n",
    "# Create a custom loader that yields pairs of encoded structures\n",
    "class PairwiseStructureLoader:\n",
    "\tdef __init__(self, struct_dataset, pairs_df):\n",
    "\t\tself.struct_dataset = struct_dataset\n",
    "\t\tself.pairs_df = pairs_df\n",
    "\t\t# Create mapping from protein ID to dataset index\n",
    "\t\tself.prot_to_idx = {prot_id: idx for idx, prot_id in enumerate(struct_dataset.structlist)}\n",
    "\t\n",
    "\tdef __getitem__(self, idx):\n",
    "\t\trow = self.pairs_df.iloc[idx]\n",
    "\t\tprot_a, prot_b = row['protA'], row['protB']\n",
    "\t\tif prot_a in self.prot_to_idx and prot_b in self.prot_to_idx:\n",
    "\t\t\tstruct_a = self.struct_dataset[self.prot_to_idx[prot_a]]\n",
    "\t\t\tstruct_b = self.struct_dataset[self.prot_to_idx[prot_b]]\n",
    "\t\t\ty = torch.tensor( row['label'] ) if 'label' in row else None\n",
    "\t\t\treturn { 'struct_a': struct_a, 'struct_b': struct_b, 'label': y }\n",
    "\t\telse:\n",
    "\t\t\traise IndexError(\"Protein ID not found in structure dataset.\")\n",
    "\n",
    "\tdef __iter__(self):\n",
    "\t\tfor _, row in self.pairs_df.iterrows():\n",
    "\t\t\tprot_a, prot_b = row['protA'], row['protB']\n",
    "\t\t\tif prot_a in self.prot_to_idx and prot_b in self.prot_to_idx:\n",
    "\t\t\t\tstruct_a = self.struct_dataset[self.prot_to_idx[prot_a]]\n",
    "\t\t\t\tstruct_b = self.struct_dataset[self.prot_to_idx[prot_b]]\n",
    "\t\t\t\ty = torch.tensor( row['label'] ) if 'label' in row else None\n",
    "\t\t\t\tyield { 'struct_a': struct_a, 'struct_b': struct_b, 'label': y }\n",
    "\n",
    "\tdef __len__(self):\n",
    "\t\treturn len(self.pairs_df)\n"
   ]
  },
  {
   "cell_type": "code",
   "execution_count": null,
   "id": "c03fde55",
   "metadata": {},
   "outputs": [
    {
     "name": "stdout",
     "output_type": "stream",
     "text": [
      "Pairwise structure loaders created for:\n",
      "  train: 155433 pairs\n",
      "  Dataloader created with 4858 batches\n",
      "{'dataset': <__main__.PairwiseStructureLoader object at 0x7fa16b5a0a40>, 'dataloader': <torch_geometric.deprecation.DataLoader object at 0x7fa2a98c8950>}\n",
      "Pairwise structure loaders created for:\n",
      "  valid: 58012 pairs\n",
      "  Dataloader created with 1813 batches\n",
      "{'dataset': <__main__.PairwiseStructureLoader object at 0x7fa2a98cb740>, 'dataloader': <torch_geometric.deprecation.DataLoader object at 0x7fa16bc14920>}\n",
      "Pairwise structure loaders created for:\n",
      "  test: 51130 pairs\n",
      "  Dataloader created with 1598 batches\n",
      "{'dataset': <__main__.PairwiseStructureLoader object at 0x7fa16da35af0>, 'dataloader': <torch_geometric.deprecation.DataLoader object at 0x7fa16c54ee70>}\n"
     ]
    },
    {
     "name": "stderr",
     "output_type": "stream",
     "text": [
      "/home/dmoi/miniforge3/envs/pyg/lib/python3.12/site-packages/torch_geometric/deprecation.py:26: UserWarning: 'data.DataLoader' is deprecated, use 'loader.DataLoader' instead\n",
      "  warnings.warn(out)\n"
     ]
    }
   ],
   "source": [
    "\n",
    "# Create loaders for each dataset split\n",
    "pairwise_loaders = {}\n",
    "for split_name, split_dfs in [('train', traindf), ('valid', valdf), ('test', testdf)]:\n",
    "\tpairwise_loaders[split_name] = {}\n",
    "\tpairwise_loaders[split_name]['dataset'] = PairwiseStructureLoader(struct_dat, split_dfs)\n",
    "\tprint(\"Pairwise structure loaders created for:\")\n",
    "\tprint(f\"  {split_name}: {len(split_dfs)} pairs\")\n",
    "\t#create dataloaders\n",
    "\tpairwise_loaders[split_name]['dataloader'] = DataLoader(pairwise_loaders[split_name]['dataset'], batch_size=32, shuffle=(split_name=='train'), num_workers=4)\n",
    "\tprint(f\"  Dataloader created with {len(pairwise_loaders[split_name]['dataloader'])} batches\")\n",
    "\tprint( pairwise_loaders[split_name] )\n",
    "\t\n",
    "\t\n"
   ]
  },
  {
   "cell_type": "code",
   "execution_count": null,
   "id": "48eeea0e",
   "metadata": {},
   "outputs": [
    {
     "name": "stdout",
     "output_type": "stream",
     "text": [
      "{'struct_a': HeteroDataBatch(\n",
      "  identifier=[32],\n",
      "  AA={\n",
      "    x=[25017, 20],\n",
      "    batch=[25017],\n",
      "    ptr=[33],\n",
      "  },\n",
      "  R_true={\n",
      "    x=[25017, 3, 3],\n",
      "    batch=[25017],\n",
      "    ptr=[33],\n",
      "  },\n",
      "  bondangles={\n",
      "    x=[25017, 3],\n",
      "    batch=[25017],\n",
      "    ptr=[33],\n",
      "  },\n",
      "  coords={\n",
      "    x=[25017, 3],\n",
      "    batch=[25017],\n",
      "    ptr=[33],\n",
      "  },\n",
      "  fourier1di={\n",
      "    x=[25017, 80],\n",
      "    batch=[25017],\n",
      "    ptr=[33],\n",
      "  },\n",
      "  fourier1dr={\n",
      "    x=[25017, 80],\n",
      "    batch=[25017],\n",
      "    ptr=[33],\n",
      "  },\n",
      "  fourier2di={\n",
      "    x=[32, 1300],\n",
      "    batch=[32],\n",
      "    ptr=[33],\n",
      "  },\n",
      "  fourier2dr={\n",
      "    x=[32, 1300],\n",
      "    batch=[32],\n",
      "    ptr=[33],\n",
      "  },\n",
      "  godnode={\n",
      "    x=[32, 5],\n",
      "    batch=[32],\n",
      "    ptr=[33],\n",
      "  },\n",
      "  godnode4decoder={\n",
      "    x=[32, 5],\n",
      "    batch=[32],\n",
      "    ptr=[33],\n",
      "  },\n",
      "  plddt={\n",
      "    x=[25017, 1],\n",
      "    batch=[25017],\n",
      "    ptr=[33],\n",
      "  },\n",
      "  positions={\n",
      "    x=[25017, 256],\n",
      "    batch=[25017],\n",
      "    ptr=[33],\n",
      "  },\n",
      "  res={\n",
      "    x=[25017, 857],\n",
      "    batch=[25017],\n",
      "    ptr=[33],\n",
      "  },\n",
      "  t_true={\n",
      "    x=[25017, 3],\n",
      "    batch=[25017],\n",
      "    ptr=[33],\n",
      "  },\n",
      "  (godnode4decoder, informs, res)={ edge_index=[2, 25017] },\n",
      "  (godnode, informs, res)={ edge_index=[2, 25017] },\n",
      "  (res, backbone, res)={\n",
      "    edge_index=[2, 50002],\n",
      "    edge_attr=[24985],\n",
      "  },\n",
      "  (res, backbonerev, res)={\n",
      "    edge_index=[2, 50002],\n",
      "    edge_attr=[24985],\n",
      "  },\n",
      "  (res, contactPoints, res)={\n",
      "    edge_index=[2, 199070],\n",
      "    edge_attr=[199070],\n",
      "  },\n",
      "  (res, hbond, res)={\n",
      "    edge_index=[2, 21862],\n",
      "    edge_attr=[21862],\n",
      "  },\n",
      "  (res, informs, godnode)={ edge_index=[2, 25017] },\n",
      "  (res, informs, godnode4decoder)={ edge_index=[2, 25017] },\n",
      "  (res, window, res)={\n",
      "    edge_index=[2, 49906],\n",
      "    edge_attr=[49906],\n",
      "  },\n",
      "  (res, windowrev, res)={\n",
      "    edge_index=[2, 24985],\n",
      "    edge_attr=[24985],\n",
      "  }\n",
      "), 'struct_b': HeteroDataBatch(\n",
      "  identifier=[32],\n",
      "  AA={\n",
      "    x=[29300, 20],\n",
      "    batch=[29300],\n",
      "    ptr=[33],\n",
      "  },\n",
      "  R_true={\n",
      "    x=[29300, 3, 3],\n",
      "    batch=[29300],\n",
      "    ptr=[33],\n",
      "  },\n",
      "  bondangles={\n",
      "    x=[29300, 3],\n",
      "    batch=[29300],\n",
      "    ptr=[33],\n",
      "  },\n",
      "  coords={\n",
      "    x=[29300, 3],\n",
      "    batch=[29300],\n",
      "    ptr=[33],\n",
      "  },\n",
      "  fourier1di={\n",
      "    x=[29300, 80],\n",
      "    batch=[29300],\n",
      "    ptr=[33],\n",
      "  },\n",
      "  fourier1dr={\n",
      "    x=[29300, 80],\n",
      "    batch=[29300],\n",
      "    ptr=[33],\n",
      "  },\n",
      "  fourier2di={\n",
      "    x=[32, 1300],\n",
      "    batch=[32],\n",
      "    ptr=[33],\n",
      "  },\n",
      "  fourier2dr={\n",
      "    x=[32, 1300],\n",
      "    batch=[32],\n",
      "    ptr=[33],\n",
      "  },\n",
      "  godnode={\n",
      "    x=[32, 5],\n",
      "    batch=[32],\n",
      "    ptr=[33],\n",
      "  },\n",
      "  godnode4decoder={\n",
      "    x=[32, 5],\n",
      "    batch=[32],\n",
      "    ptr=[33],\n",
      "  },\n",
      "  plddt={\n",
      "    x=[29300, 1],\n",
      "    batch=[29300],\n",
      "    ptr=[33],\n",
      "  },\n",
      "  positions={\n",
      "    x=[29300, 256],\n",
      "    batch=[29300],\n",
      "    ptr=[33],\n",
      "  },\n",
      "  res={\n",
      "    x=[29300, 857],\n",
      "    batch=[29300],\n",
      "    ptr=[33],\n",
      "  },\n",
      "  t_true={\n",
      "    x=[29300, 3],\n",
      "    batch=[29300],\n",
      "    ptr=[33],\n",
      "  },\n",
      "  (godnode4decoder, informs, res)={ edge_index=[2, 29300] },\n",
      "  (godnode, informs, res)={ edge_index=[2, 29300] },\n",
      "  (res, backbone, res)={\n",
      "    edge_index=[2, 58568],\n",
      "    edge_attr=[29268],\n",
      "  },\n",
      "  (res, backbonerev, res)={\n",
      "    edge_index=[2, 58568],\n",
      "    edge_attr=[29268],\n",
      "  },\n",
      "  (res, contactPoints, res)={\n",
      "    edge_index=[2, 220824],\n",
      "    edge_attr=[220824],\n",
      "  },\n",
      "  (res, hbond, res)={\n",
      "    edge_index=[2, 28126],\n",
      "    edge_attr=[28126],\n",
      "  },\n",
      "  (res, informs, godnode)={ edge_index=[2, 29300] },\n",
      "  (res, informs, godnode4decoder)={ edge_index=[2, 29300] },\n",
      "  (res, window, res)={\n",
      "    edge_index=[2, 58472],\n",
      "    edge_attr=[58472],\n",
      "  },\n",
      "  (res, windowrev, res)={\n",
      "    edge_index=[2, 29268],\n",
      "    edge_attr=[29268],\n",
      "  }\n",
      "), 'label': tensor([1, 0, 0, 1, 0, 0, 1, 1, 0, 1, 0, 0, 1, 0, 0, 1, 0, 1, 0, 0, 0, 0, 1, 1,\n",
      "        1, 1, 1, 0, 0, 0, 0, 1])}\n"
     ]
    }
   ],
   "source": [
    "#print a sample from the pairwise loader\n",
    "for sample in pairwise_loaders['train']['dataloader']:\n",
    "\tprint(sample)\n",
    "\tbreak"
   ]
  },
  {
   "cell_type": "code",
   "execution_count": null,
   "id": "efe15af3",
   "metadata": {},
   "outputs": [
    {
     "name": "stdout",
     "output_type": "stream",
     "text": [
      "mk1_Encoder(\n",
      "  (convs): ModuleList(\n",
      "    (0): ModuleDict(\n",
      "      (res_contactPoints_res): TransformerConv(200, 200, heads=8)\n",
      "    )\n",
      "  )\n",
      "  (norms): ModuleList(\n",
      "    (0): GraphNorm(200)\n",
      "  )\n",
      "  (bn): BatchNorm1d(857, eps=1e-05, momentum=0.1, affine=True, track_running_stats=True)\n",
      "  (dropout): Dropout(p=0.01, inplace=False)\n",
      "  (jk): JumpingKnowledge(cat)\n",
      "  (ffin): Sequential(\n",
      "    (0): Linear(in_features=1017, out_features=400, bias=True)\n",
      "    (1): GELU(approximate='none')\n",
      "    (2): Linear(in_features=400, out_features=200, bias=True)\n",
      "    (3): GELU(approximate='none')\n",
      "  )\n",
      "  (lin): Sequential(\n",
      "    (0): Linear(in_features=200, out_features=200, bias=True)\n",
      "    (1): GELU(approximate='none')\n",
      "    (2): Linear(in_features=200, out_features=200, bias=True)\n",
      "    (3): GELU(approximate='none')\n",
      "  )\n",
      "  (out_dense): Sequential(\n",
      "    (0): Linear(in_features=220, out_features=200, bias=True)\n",
      "    (1): GELU(approximate='none')\n",
      "    (2): Linear(in_features=200, out_features=200, bias=True)\n",
      "    (3): GELU(approximate='none')\n",
      "    (4): Linear(in_features=200, out_features=128, bias=True)\n",
      "    (5): Tanh()\n",
      "  )\n",
      "  (vector_quantizer): VectorQuantizerEMA(\n",
      "    (embeddings): Embedding(40, 128)\n",
      "  )\n",
      ")\n"
     ]
    }
   ],
   "source": [
    "#load encoder model\n",
    "import torch\n",
    "import copy\n",
    "from foldtree2.src import mono_decoders\n",
    "from foldtree2.src import foldtree2_ecddcd\n",
    "\n",
    "encoder_modelpath = '/home/dmoi/projects/foldtree2/models/encoder_epoch_0.pt'\n",
    "encoder_model = torch.load(encoder_modelpath ,map_location=torch.device('cpu'), weights_only=False)\n",
    "print(encoder_model)\n",
    "modelname = encoder_modelpath.split('/')[-1].split('.pt')[0]\n",
    "device = torch.device('cuda:1' if torch.cuda.is_available() else 'cpu')\n",
    "encoder_model = encoder_model.to(device)\n",
    "encoder_model.eval()\n",
    "model_embeddings = copy.deepcopy(encoder_model.vector_quantizer.embeddings).cpu()"
   ]
  },
  {
   "cell_type": "code",
   "execution_count": null,
   "id": "7083f2c9",
   "metadata": {},
   "outputs": [
    {
     "name": "stdout",
     "output_type": "stream",
     "text": [
      "tensor([[-0.7388, -0.9996,  0.1334,  ..., -0.2077,  0.7467,  0.6635],\n",
      "        [-0.7388, -0.9996,  0.1334,  ..., -0.2077,  0.7467,  0.6635],\n",
      "        [ 0.2865, -0.9618, -0.9272,  ..., -0.0095, -0.3943,  0.9634],\n",
      "        ...,\n",
      "        [-0.9356,  0.9685,  0.5875,  ...,  0.9847, -0.9964, -0.8249],\n",
      "        [ 0.5804, -1.0000, -0.9405,  ..., -0.9697,  0.9909,  0.9915],\n",
      "        [-0.9877, -0.6546,  0.9579,  ...,  0.9919, -0.9863, -0.9013]],\n",
      "       device='cuda:1', grad_fn=<AddBackward0>) tensor([[-0.7388, -0.9996,  0.1334,  ..., -0.2077,  0.7467,  0.6635],\n",
      "        [-0.7388, -0.9996,  0.1334,  ..., -0.2077,  0.7467,  0.6635],\n",
      "        [-0.9841, -0.9820,  0.9254,  ...,  0.9742, -0.9136, -0.7386],\n",
      "        ...,\n",
      "        [ 0.9367, -1.0000, -0.9927,  ..., -0.9973,  0.9989,  0.9991],\n",
      "        [-0.1546, -0.9997, -0.7879,  ..., -0.6202,  0.8480,  0.9502],\n",
      "        [-0.9877, -0.6546,  0.9579,  ...,  0.9919, -0.9863, -0.9013]],\n",
      "       device='cuda:1', grad_fn=<AddBackward0>)\n",
      "tensor([ 6,  6, 36,  ..., 28, 25, 37], device='cuda:1') tensor([ 6,  6, 27,  ...,  1, 22, 37], device='cuda:1')\n",
      "tensor([[-0.7388, -0.9996,  0.1334,  ..., -0.2077,  0.7467,  0.6635],\n",
      "        [-0.7388, -0.9996,  0.1334,  ..., -0.2077,  0.7467,  0.6635],\n",
      "        [ 0.2865, -0.9618, -0.9272,  ..., -0.0095, -0.3943,  0.9634],\n",
      "        ...,\n",
      "        [-0.9356,  0.9685,  0.5875,  ...,  0.9847, -0.9964, -0.8249],\n",
      "        [ 0.5804, -1.0000, -0.9405,  ..., -0.9697,  0.9909,  0.9915],\n",
      "        [-0.9877, -0.6546,  0.9579,  ...,  0.9919, -0.9863, -0.9013]],\n",
      "       device='cuda:1', grad_fn=<EmbeddingBackward0>) tensor([[-0.7388, -0.9996,  0.1334,  ..., -0.2077,  0.7467,  0.6635],\n",
      "        [-0.7388, -0.9996,  0.1334,  ..., -0.2077,  0.7467,  0.6635],\n",
      "        [-0.9841, -0.9820,  0.9254,  ...,  0.9742, -0.9136, -0.7386],\n",
      "        ...,\n",
      "        [ 0.9367, -1.0000, -0.9927,  ..., -0.9973,  0.9989,  0.9991],\n",
      "        [-0.1546, -0.9997, -0.7879,  ..., -0.6202,  0.8480,  0.9502],\n",
      "        [-0.9877, -0.6546,  0.9579,  ...,  0.9919, -0.9863, -0.9013]],\n",
      "       device='cuda:1', grad_fn=<EmbeddingBackward0>)\n"
     ]
    }
   ],
   "source": [
    "#use the encoder to transform the structures to ords \n",
    "\n",
    "\n",
    "z1, _  = encoder_model.forward( sample['struct_a'].to(device) )\n",
    "z2, _  = encoder_model.forward( sample['struct_b'].to(device) )\n",
    "print( z1, z2 )\n",
    "#discretize\n",
    "z1_q , _ = encoder_model.vector_quantizer.discretize_z( z1 )\n",
    "z2_q , _ = encoder_model.vector_quantizer.discretize_z( z2 )\n",
    "#embeddings \n",
    "print( z1_q , z2_q )\n",
    "z1_e = encoder_model.vector_quantizer.embeddings(z1_q)\n",
    "z2_e = encoder_model.vector_quantizer.embeddings(z2_q)\n",
    "print( z1_e, z2_e )"
   ]
  },
  {
   "cell_type": "code",
   "execution_count": null,
   "id": "16ab6cf9",
   "metadata": {},
   "outputs": [],
   "source": [
    "#autoreload\n",
    "%load_ext autoreload\n",
    "%autoreload 2"
   ]
  },
  {
   "cell_type": "code",
   "execution_count": null,
   "id": "4306b31b",
   "metadata": {},
   "outputs": [
    {
     "name": "stderr",
     "output_type": "stream",
     "text": [
      "Seed set to 42\n"
     ]
    },
    {
     "name": "stdout",
     "output_type": "stream",
     "text": [
      "Using encoder model: mk1_Encoder(\n",
      "  (convs): ModuleList(\n",
      "    (0): ModuleDict(\n",
      "      (res_contactPoints_res): TransformerConv(200, 200, heads=8)\n",
      "    )\n",
      "  )\n",
      "  (norms): ModuleList(\n",
      "    (0): GraphNorm(200)\n",
      "  )\n",
      "  (bn): BatchNorm1d(857, eps=1e-05, momentum=0.1, affine=True, track_running_stats=True)\n",
      "  (dropout): Dropout(p=0.01, inplace=False)\n",
      "  (jk): JumpingKnowledge(cat)\n",
      "  (ffin): Sequential(\n",
      "    (0): Linear(in_features=1017, out_features=400, bias=True)\n",
      "    (1): GELU(approximate='none')\n",
      "    (2): Linear(in_features=400, out_features=200, bias=True)\n",
      "    (3): GELU(approximate='none')\n",
      "  )\n",
      "  (lin): Sequential(\n",
      "    (0): Linear(in_features=200, out_features=200, bias=True)\n",
      "    (1): GELU(approximate='none')\n",
      "    (2): Linear(in_features=200, out_features=200, bias=True)\n",
      "    (3): GELU(approximate='none')\n",
      "  )\n",
      "  (out_dense): Sequential(\n",
      "    (0): Linear(in_features=220, out_features=200, bias=True)\n",
      "    (1): GELU(approximate='none')\n",
      "    (2): Linear(in_features=200, out_features=200, bias=True)\n",
      "    (3): GELU(approximate='none')\n",
      "    (4): Linear(in_features=200, out_features=128, bias=True)\n",
      "    (5): Tanh()\n",
      "  )\n",
      "  (vector_quantizer): VectorQuantizerEMA(\n",
      "    (embeddings): Embedding(40, 128)\n",
      "  )\n",
      ")\n"
     ]
    },
    {
     "data": {
      "text/plain": [
       "signature_transformer(\n",
       "  (encoder): mk1_Encoder(\n",
       "    (convs): ModuleList(\n",
       "      (0): ModuleDict(\n",
       "        (res_contactPoints_res): TransformerConv(200, 200, heads=8)\n",
       "      )\n",
       "    )\n",
       "    (norms): ModuleList(\n",
       "      (0): GraphNorm(200)\n",
       "    )\n",
       "    (bn): BatchNorm1d(857, eps=1e-05, momentum=0.1, affine=True, track_running_stats=True)\n",
       "    (dropout): Dropout(p=0.01, inplace=False)\n",
       "    (jk): JumpingKnowledge(cat)\n",
       "    (ffin): Sequential(\n",
       "      (0): Linear(in_features=1017, out_features=400, bias=True)\n",
       "      (1): GELU(approximate='none')\n",
       "      (2): Linear(in_features=400, out_features=200, bias=True)\n",
       "      (3): GELU(approximate='none')\n",
       "    )\n",
       "    (lin): Sequential(\n",
       "      (0): Linear(in_features=200, out_features=200, bias=True)\n",
       "      (1): GELU(approximate='none')\n",
       "      (2): Linear(in_features=200, out_features=200, bias=True)\n",
       "      (3): GELU(approximate='none')\n",
       "    )\n",
       "    (out_dense): Sequential(\n",
       "      (0): Linear(in_features=220, out_features=200, bias=True)\n",
       "      (1): GELU(approximate='none')\n",
       "      (2): Linear(in_features=200, out_features=200, bias=True)\n",
       "      (3): GELU(approximate='none')\n",
       "      (4): Linear(in_features=200, out_features=128, bias=True)\n",
       "      (5): Tanh()\n",
       "    )\n",
       "    (vector_quantizer): VectorQuantizerEMA(\n",
       "      (embeddings): Embedding(40, 128)\n",
       "    )\n",
       "  )\n",
       "  (embedding): Embedding(40, 128)\n",
       "  (input2transformer): Sequential(\n",
       "    (0): Linear(in_features=384, out_features=256, bias=True)\n",
       "    (1): GELU(approximate='none')\n",
       "    (2): Linear(in_features=256, out_features=128, bias=True)\n",
       "    (3): GELU(approximate='none')\n",
       "    (4): Linear(in_features=128, out_features=64, bias=True)\n",
       "  )\n",
       "  (transformer_encoder): TransformerEncoder(\n",
       "    (layers): ModuleList(\n",
       "      (0-2): 3 x TransformerEncoderLayer(\n",
       "        (self_attn): MultiheadAttention(\n",
       "          (out_proj): NonDynamicallyQuantizableLinear(in_features=64, out_features=64, bias=True)\n",
       "        )\n",
       "        (linear1): Linear(in_features=64, out_features=128, bias=True)\n",
       "        (dropout): Dropout(p=0.1, inplace=False)\n",
       "        (linear2): Linear(in_features=128, out_features=64, bias=True)\n",
       "        (norm1): LayerNorm((64,), eps=1e-05, elementwise_affine=True)\n",
       "        (norm2): LayerNorm((64,), eps=1e-05, elementwise_affine=True)\n",
       "        (dropout1): Dropout(p=0.1, inplace=False)\n",
       "        (dropout2): Dropout(p=0.1, inplace=False)\n",
       "      )\n",
       "    )\n",
       "  )\n",
       "  (bn): BatchNorm1d(128, eps=1e-05, momentum=0.1, affine=True, track_running_stats=True)\n",
       "  (dropout): Dropout(p=0.05, inplace=False)\n",
       "  (vec_out): Sequential(\n",
       "    (0): Linear(in_features=64, out_features=256, bias=True)\n",
       "    (1): GELU(approximate='none')\n",
       "    (2): Linear(in_features=256, out_features=128, bias=True)\n",
       "    (3): GELU(approximate='none')\n",
       "    (4): Linear(in_features=128, out_features=64, bias=True)\n",
       "    (5): Tanh()\n",
       "  )\n",
       "  (attn_agg): AttentionAggregation(\n",
       "    (attn): Linear(in_features=64, out_features=1, bias=True)\n",
       "    (proj): Sequential(\n",
       "      (0): Linear(in_features=64, out_features=64, bias=True)\n",
       "      (1): GELU(approximate='none')\n",
       "      (2): Linear(in_features=64, out_features=64, bias=True)\n",
       "    )\n",
       "  )\n",
       "  (embeddings): Embedding(40, 128)\n",
       ")"
      ]
     },
     "execution_count": 17,
     "metadata": {},
     "output_type": "execute_result"
    }
   ],
   "source": [
    "#create the pairwise transformer model\n",
    "from foldtree2.src import pairwise\n",
    "\n",
    "hidden_channels = [ 256 , 128 , 64]\n",
    "out_channels = 64\n",
    "decoder_hidden = [  256 , 128  , 64]\n",
    "\n",
    "pairwise_model = pairwise.signature_transformer(\n",
    "    encoder=encoder_model, hidden_channels=hidden_channels, out_channels=out_channels, dropout_p=0.05,\n",
    "\t\t\t  decoder_hidden=decoder_hidden, \n",
    "\t\t\t  n_signatures=256,\n",
    "\t\t\t  nheads=8,\n",
    "\t\t\t  nlayers=3,\n",
    "\t\t\t  seed=42\n",
    ")\n",
    "\n",
    "#initialize the model embeddings with the encoder embeddings \n",
    "pairwise_model.embeddings = model_embeddings\n",
    "pairwise_model = pairwise_model.to(device)\n",
    "pairwise_model.train()"
   ]
  },
  {
   "cell_type": "code",
   "execution_count": null,
   "id": "e01a19af",
   "metadata": {},
   "outputs": [],
   "source": [
    "#forward pass\n",
    "figurestack = []\n",
    "reload = False\n",
    "import glob\n",
    "if reload == True:\n",
    "\tpairwise_models = glob.glob('models/pairwise_epoch_*.pth')\n",
    "\tif len(pairwise_models) > 0:\n",
    "\t\tlatest_model = max(pairwise_models, key=os.path.getctime)\n",
    "\t\tprint(f\"Loading model from {latest_model}\")\n",
    "\t\tpairwise_model = torch.load(latest_model)\n",
    "def pairloss(preds, labels):\n",
    "\tloss_fn = torch.nn.BCEWithLogitsLoss()\n",
    "\treturn loss_fn(preds, labels.float())\n",
    "\t"
   ]
  },
  {
   "cell_type": "code",
   "execution_count": null,
   "id": "99ee27c5",
   "metadata": {},
   "outputs": [],
   "source": [
    "#encode structures\n",
    "traindfs = { k: dfs[k] for k in dfs.keys() if 'Intra0' in k }\n",
    "validfs = { k: dfs[k] for k in dfs.keys() if 'Intra1' in k }\n",
    "testdfs = { k: dfs[k] for k in dfs.keys() if 'Intra2' in k }"
   ]
  },
  {
   "cell_type": "code",
   "execution_count": null,
   "id": "e9ea99d7",
   "metadata": {},
   "outputs": [
    {
     "name": "stderr",
     "output_type": "stream",
     "text": [
      "  0%|                                                  | 0/4858 [00:04<?, ?it/s]\n"
     ]
    },
    {
     "ename": "RuntimeError",
     "evalue": "Expected all tensors to be on the same device, but found at least two devices, cuda:1 and cpu! (when checking argument for argument weight in method wrapper_CUDA__native_layer_norm)",
     "output_type": "error",
     "traceback": [
      "\u001b[0;31m---------------------------------------------------------------------------\u001b[0m",
      "\u001b[0;31mRuntimeError\u001b[0m                              Traceback (most recent call last)",
      "Cell \u001b[0;32mIn[23], line 30\u001b[0m\n\u001b[1;32m     27\u001b[0m prot1[\u001b[38;5;124m'\u001b[39m\u001b[38;5;124mzdiscrete\u001b[39m\u001b[38;5;124m'\u001b[39m]\u001b[38;5;241m.\u001b[39mx \u001b[38;5;241m=\u001b[39m z1discrete\n\u001b[1;32m     28\u001b[0m prot2[\u001b[38;5;124m'\u001b[39m\u001b[38;5;124mzdiscrete\u001b[39m\u001b[38;5;124m'\u001b[39m]\u001b[38;5;241m.\u001b[39mx \u001b[38;5;241m=\u001b[39m z2discrete\n\u001b[0;32m---> 30\u001b[0m sig1 \u001b[38;5;241m=\u001b[39m \u001b[43mpairwise_model\u001b[49m\u001b[43m(\u001b[49m\u001b[43m \u001b[49m\u001b[43mprot1\u001b[49m\u001b[43m \u001b[49m\u001b[43m)\u001b[49m\n\u001b[1;32m     31\u001b[0m sig2 \u001b[38;5;241m=\u001b[39m pairwise_model( prot2 )\n\u001b[1;32m     32\u001b[0m jaccard \u001b[38;5;241m=\u001b[39m pairwise\u001b[38;5;241m.\u001b[39mweighted_jaccard_similarity(sig1[\u001b[38;5;124m'\u001b[39m\u001b[38;5;124mjaccard_vec\u001b[39m\u001b[38;5;124m'\u001b[39m], sig2[\u001b[38;5;124m'\u001b[39m\u001b[38;5;124mjaccard_vec\u001b[39m\u001b[38;5;124m'\u001b[39m])\n",
      "File \u001b[0;32m~/miniforge3/envs/pyg/lib/python3.12/site-packages/torch/nn/modules/module.py:1751\u001b[0m, in \u001b[0;36mModule._wrapped_call_impl\u001b[0;34m(self, *args, **kwargs)\u001b[0m\n\u001b[1;32m   1749\u001b[0m     \u001b[38;5;28;01mreturn\u001b[39;00m \u001b[38;5;28mself\u001b[39m\u001b[38;5;241m.\u001b[39m_compiled_call_impl(\u001b[38;5;241m*\u001b[39margs, \u001b[38;5;241m*\u001b[39m\u001b[38;5;241m*\u001b[39mkwargs)  \u001b[38;5;66;03m# type: ignore[misc]\u001b[39;00m\n\u001b[1;32m   1750\u001b[0m \u001b[38;5;28;01melse\u001b[39;00m:\n\u001b[0;32m-> 1751\u001b[0m     \u001b[38;5;28;01mreturn\u001b[39;00m \u001b[38;5;28;43mself\u001b[39;49m\u001b[38;5;241;43m.\u001b[39;49m\u001b[43m_call_impl\u001b[49m\u001b[43m(\u001b[49m\u001b[38;5;241;43m*\u001b[39;49m\u001b[43margs\u001b[49m\u001b[43m,\u001b[49m\u001b[43m \u001b[49m\u001b[38;5;241;43m*\u001b[39;49m\u001b[38;5;241;43m*\u001b[39;49m\u001b[43mkwargs\u001b[49m\u001b[43m)\u001b[49m\n",
      "File \u001b[0;32m~/miniforge3/envs/pyg/lib/python3.12/site-packages/torch/nn/modules/module.py:1762\u001b[0m, in \u001b[0;36mModule._call_impl\u001b[0;34m(self, *args, **kwargs)\u001b[0m\n\u001b[1;32m   1757\u001b[0m \u001b[38;5;66;03m# If we don't have any hooks, we want to skip the rest of the logic in\u001b[39;00m\n\u001b[1;32m   1758\u001b[0m \u001b[38;5;66;03m# this function, and just call forward.\u001b[39;00m\n\u001b[1;32m   1759\u001b[0m \u001b[38;5;28;01mif\u001b[39;00m \u001b[38;5;129;01mnot\u001b[39;00m (\u001b[38;5;28mself\u001b[39m\u001b[38;5;241m.\u001b[39m_backward_hooks \u001b[38;5;129;01mor\u001b[39;00m \u001b[38;5;28mself\u001b[39m\u001b[38;5;241m.\u001b[39m_backward_pre_hooks \u001b[38;5;129;01mor\u001b[39;00m \u001b[38;5;28mself\u001b[39m\u001b[38;5;241m.\u001b[39m_forward_hooks \u001b[38;5;129;01mor\u001b[39;00m \u001b[38;5;28mself\u001b[39m\u001b[38;5;241m.\u001b[39m_forward_pre_hooks\n\u001b[1;32m   1760\u001b[0m         \u001b[38;5;129;01mor\u001b[39;00m _global_backward_pre_hooks \u001b[38;5;129;01mor\u001b[39;00m _global_backward_hooks\n\u001b[1;32m   1761\u001b[0m         \u001b[38;5;129;01mor\u001b[39;00m _global_forward_hooks \u001b[38;5;129;01mor\u001b[39;00m _global_forward_pre_hooks):\n\u001b[0;32m-> 1762\u001b[0m     \u001b[38;5;28;01mreturn\u001b[39;00m \u001b[43mforward_call\u001b[49m\u001b[43m(\u001b[49m\u001b[38;5;241;43m*\u001b[39;49m\u001b[43margs\u001b[49m\u001b[43m,\u001b[49m\u001b[43m \u001b[49m\u001b[38;5;241;43m*\u001b[39;49m\u001b[38;5;241;43m*\u001b[39;49m\u001b[43mkwargs\u001b[49m\u001b[43m)\u001b[49m\n\u001b[1;32m   1764\u001b[0m result \u001b[38;5;241m=\u001b[39m \u001b[38;5;28;01mNone\u001b[39;00m\n\u001b[1;32m   1765\u001b[0m called_always_called_hooks \u001b[38;5;241m=\u001b[39m \u001b[38;5;28mset\u001b[39m()\n",
      "File \u001b[0;32m~/projects/foldtree2/foldtree2/src/pairwise.py:249\u001b[0m, in \u001b[0;36msignature_transformer.forward\u001b[0;34m(self, data, **kwargs)\u001b[0m\n\u001b[1;32m    247\u001b[0m \tout \u001b[38;5;241m=\u001b[39m \u001b[38;5;28mself\u001b[39m\u001b[38;5;241m.\u001b[39mdropout(out)\n\u001b[1;32m    248\u001b[0m \tout \u001b[38;5;241m=\u001b[39m F\u001b[38;5;241m.\u001b[39mgelu(out)\n\u001b[0;32m--> 249\u001b[0m \tout \u001b[38;5;241m=\u001b[39m \u001b[38;5;28;43mself\u001b[39;49m\u001b[38;5;241;43m.\u001b[39;49m\u001b[43mencoder_norms\u001b[49m\u001b[43m[\u001b[49m\u001b[43mi\u001b[49m\u001b[43m]\u001b[49m\u001b[43m(\u001b[49m\u001b[43mout\u001b[49m\u001b[43m)\u001b[49m\n\u001b[1;32m    251\u001b[0m \u001b[38;5;66;03m# Aggregate transformer outputs\u001b[39;00m\n\u001b[1;32m    252\u001b[0m \u001b[38;5;66;03m#copy z\u001b[39;00m\n\u001b[1;32m    253\u001b[0m z \u001b[38;5;241m=\u001b[39m out\u001b[38;5;241m.\u001b[39mclone()\u001b[38;5;241m.\u001b[39mdetach()  \u001b[38;5;66;03m# (batch, hidden_channels)\u001b[39;00m\n",
      "File \u001b[0;32m~/miniforge3/envs/pyg/lib/python3.12/site-packages/torch/nn/modules/module.py:1751\u001b[0m, in \u001b[0;36mModule._wrapped_call_impl\u001b[0;34m(self, *args, **kwargs)\u001b[0m\n\u001b[1;32m   1749\u001b[0m     \u001b[38;5;28;01mreturn\u001b[39;00m \u001b[38;5;28mself\u001b[39m\u001b[38;5;241m.\u001b[39m_compiled_call_impl(\u001b[38;5;241m*\u001b[39margs, \u001b[38;5;241m*\u001b[39m\u001b[38;5;241m*\u001b[39mkwargs)  \u001b[38;5;66;03m# type: ignore[misc]\u001b[39;00m\n\u001b[1;32m   1750\u001b[0m \u001b[38;5;28;01melse\u001b[39;00m:\n\u001b[0;32m-> 1751\u001b[0m     \u001b[38;5;28;01mreturn\u001b[39;00m \u001b[38;5;28;43mself\u001b[39;49m\u001b[38;5;241;43m.\u001b[39;49m\u001b[43m_call_impl\u001b[49m\u001b[43m(\u001b[49m\u001b[38;5;241;43m*\u001b[39;49m\u001b[43margs\u001b[49m\u001b[43m,\u001b[49m\u001b[43m \u001b[49m\u001b[38;5;241;43m*\u001b[39;49m\u001b[38;5;241;43m*\u001b[39;49m\u001b[43mkwargs\u001b[49m\u001b[43m)\u001b[49m\n",
      "File \u001b[0;32m~/miniforge3/envs/pyg/lib/python3.12/site-packages/torch/nn/modules/module.py:1762\u001b[0m, in \u001b[0;36mModule._call_impl\u001b[0;34m(self, *args, **kwargs)\u001b[0m\n\u001b[1;32m   1757\u001b[0m \u001b[38;5;66;03m# If we don't have any hooks, we want to skip the rest of the logic in\u001b[39;00m\n\u001b[1;32m   1758\u001b[0m \u001b[38;5;66;03m# this function, and just call forward.\u001b[39;00m\n\u001b[1;32m   1759\u001b[0m \u001b[38;5;28;01mif\u001b[39;00m \u001b[38;5;129;01mnot\u001b[39;00m (\u001b[38;5;28mself\u001b[39m\u001b[38;5;241m.\u001b[39m_backward_hooks \u001b[38;5;129;01mor\u001b[39;00m \u001b[38;5;28mself\u001b[39m\u001b[38;5;241m.\u001b[39m_backward_pre_hooks \u001b[38;5;129;01mor\u001b[39;00m \u001b[38;5;28mself\u001b[39m\u001b[38;5;241m.\u001b[39m_forward_hooks \u001b[38;5;129;01mor\u001b[39;00m \u001b[38;5;28mself\u001b[39m\u001b[38;5;241m.\u001b[39m_forward_pre_hooks\n\u001b[1;32m   1760\u001b[0m         \u001b[38;5;129;01mor\u001b[39;00m _global_backward_pre_hooks \u001b[38;5;129;01mor\u001b[39;00m _global_backward_hooks\n\u001b[1;32m   1761\u001b[0m         \u001b[38;5;129;01mor\u001b[39;00m _global_forward_hooks \u001b[38;5;129;01mor\u001b[39;00m _global_forward_pre_hooks):\n\u001b[0;32m-> 1762\u001b[0m     \u001b[38;5;28;01mreturn\u001b[39;00m \u001b[43mforward_call\u001b[49m\u001b[43m(\u001b[49m\u001b[38;5;241;43m*\u001b[39;49m\u001b[43margs\u001b[49m\u001b[43m,\u001b[49m\u001b[43m \u001b[49m\u001b[38;5;241;43m*\u001b[39;49m\u001b[38;5;241;43m*\u001b[39;49m\u001b[43mkwargs\u001b[49m\u001b[43m)\u001b[49m\n\u001b[1;32m   1764\u001b[0m result \u001b[38;5;241m=\u001b[39m \u001b[38;5;28;01mNone\u001b[39;00m\n\u001b[1;32m   1765\u001b[0m called_always_called_hooks \u001b[38;5;241m=\u001b[39m \u001b[38;5;28mset\u001b[39m()\n",
      "File \u001b[0;32m~/miniforge3/envs/pyg/lib/python3.12/site-packages/torch/nn/modules/normalization.py:217\u001b[0m, in \u001b[0;36mLayerNorm.forward\u001b[0;34m(self, input)\u001b[0m\n\u001b[1;32m    216\u001b[0m \u001b[38;5;28;01mdef\u001b[39;00m \u001b[38;5;21mforward\u001b[39m(\u001b[38;5;28mself\u001b[39m, \u001b[38;5;28minput\u001b[39m: Tensor) \u001b[38;5;241m-\u001b[39m\u001b[38;5;241m>\u001b[39m Tensor:\n\u001b[0;32m--> 217\u001b[0m     \u001b[38;5;28;01mreturn\u001b[39;00m \u001b[43mF\u001b[49m\u001b[38;5;241;43m.\u001b[39;49m\u001b[43mlayer_norm\u001b[49m\u001b[43m(\u001b[49m\n\u001b[1;32m    218\u001b[0m \u001b[43m        \u001b[49m\u001b[38;5;28;43minput\u001b[39;49m\u001b[43m,\u001b[49m\u001b[43m \u001b[49m\u001b[38;5;28;43mself\u001b[39;49m\u001b[38;5;241;43m.\u001b[39;49m\u001b[43mnormalized_shape\u001b[49m\u001b[43m,\u001b[49m\u001b[43m \u001b[49m\u001b[38;5;28;43mself\u001b[39;49m\u001b[38;5;241;43m.\u001b[39;49m\u001b[43mweight\u001b[49m\u001b[43m,\u001b[49m\u001b[43m \u001b[49m\u001b[38;5;28;43mself\u001b[39;49m\u001b[38;5;241;43m.\u001b[39;49m\u001b[43mbias\u001b[49m\u001b[43m,\u001b[49m\u001b[43m \u001b[49m\u001b[38;5;28;43mself\u001b[39;49m\u001b[38;5;241;43m.\u001b[39;49m\u001b[43meps\u001b[49m\n\u001b[1;32m    219\u001b[0m \u001b[43m    \u001b[49m\u001b[43m)\u001b[49m\n",
      "File \u001b[0;32m~/miniforge3/envs/pyg/lib/python3.12/site-packages/torch/nn/functional.py:2910\u001b[0m, in \u001b[0;36mlayer_norm\u001b[0;34m(input, normalized_shape, weight, bias, eps)\u001b[0m\n\u001b[1;32m   2900\u001b[0m \u001b[38;5;28;01mif\u001b[39;00m has_torch_function_variadic(\u001b[38;5;28minput\u001b[39m, weight, bias):\n\u001b[1;32m   2901\u001b[0m     \u001b[38;5;28;01mreturn\u001b[39;00m handle_torch_function(\n\u001b[1;32m   2902\u001b[0m         layer_norm,\n\u001b[1;32m   2903\u001b[0m         (\u001b[38;5;28minput\u001b[39m, weight, bias),\n\u001b[0;32m   (...)\u001b[0m\n\u001b[1;32m   2908\u001b[0m         eps\u001b[38;5;241m=\u001b[39meps,\n\u001b[1;32m   2909\u001b[0m     )\n\u001b[0;32m-> 2910\u001b[0m \u001b[38;5;28;01mreturn\u001b[39;00m \u001b[43mtorch\u001b[49m\u001b[38;5;241;43m.\u001b[39;49m\u001b[43mlayer_norm\u001b[49m\u001b[43m(\u001b[49m\n\u001b[1;32m   2911\u001b[0m \u001b[43m    \u001b[49m\u001b[38;5;28;43minput\u001b[39;49m\u001b[43m,\u001b[49m\u001b[43m \u001b[49m\u001b[43mnormalized_shape\u001b[49m\u001b[43m,\u001b[49m\u001b[43m \u001b[49m\u001b[43mweight\u001b[49m\u001b[43m,\u001b[49m\u001b[43m \u001b[49m\u001b[43mbias\u001b[49m\u001b[43m,\u001b[49m\u001b[43m \u001b[49m\u001b[43meps\u001b[49m\u001b[43m,\u001b[49m\u001b[43m \u001b[49m\u001b[43mtorch\u001b[49m\u001b[38;5;241;43m.\u001b[39;49m\u001b[43mbackends\u001b[49m\u001b[38;5;241;43m.\u001b[39;49m\u001b[43mcudnn\u001b[49m\u001b[38;5;241;43m.\u001b[39;49m\u001b[43menabled\u001b[49m\n\u001b[1;32m   2912\u001b[0m \u001b[43m\u001b[49m\u001b[43m)\u001b[49m\n",
      "\u001b[0;31mRuntimeError\u001b[0m: Expected all tensors to be on the same device, but found at least two devices, cuda:1 and cpu! (when checking argument for argument weight in method wrapper_CUDA__native_layer_norm)"
     ]
    }
   ],
   "source": [
    "import tqdm\n",
    "\n",
    "# Initialize optimizer and scheduler\n",
    "optimizer = torch.optim.Adam(pairwise_model.parameters(), lr=0.001)\n",
    "scheduler = torch.optim.lr_scheduler.ReduceLROnPlateau(optimizer, mode='min', factor=0.5, patience=10)\n",
    "\n",
    "# Initialize gradients\n",
    "optimizer.zero_grad()\n",
    "\n",
    "# Track running loss for scheduler\n",
    "running_loss = 0.0\n",
    "max_epochs = 100\n",
    "\n",
    "for epoch in range(1, max_epochs + 1):\n",
    "\trunning_loss = 0.0\n",
    "\t# Iterate over training data\n",
    "\tfor data in tqdm.tqdm(pairwise_loaders['train']['dataloader']):\n",
    "\t\tdata = { k: v.to(device) for k, v in data.items() }\n",
    "\t\tprot1, prot2 = data['struct_a'], data['struct_b']\n",
    "\t\ty = data['label'] if data['label'] is not None else None\n",
    "\t\t#forward pass through encoder\n",
    "\t\tz1, _ = encoder_model( prot1 , None )\n",
    "\t\tz1discrete , _ = encoder_model.vector_quantizer.discretize_z(z1)\n",
    "\t\tz2, _ = encoder_model( prot2 , None )\n",
    "\t\tz2discrete , _ = encoder_model.vector_quantizer.discretize_z(z2)\n",
    "\n",
    "\t\tprot1['zdiscrete'].x = z1discrete\n",
    "\t\tprot2['zdiscrete'].x = z2discrete\n",
    "\n",
    "\t\tsig1 = pairwise_model( prot1 )\n",
    "\t\tsig2 = pairwise_model( prot2 )\n",
    "\t\tjaccard = pairwise.weighted_jaccard_similarity(sig1['jaccard_vec'], sig2['jaccard_vec'])\n",
    "\n",
    "\t\tloss = pairloss(jaccard, y)\n",
    "\t\tloss.backward()\n",
    "\t\toptimizer.step()\n",
    "\t\toptimizer.zero_grad()\n",
    "\t\trunning_loss += loss.item()\n",
    "\t\n",
    "\t# divide by number of batches\n",
    "\trunning_loss /= len(pairwise_loaders['train']['PPI'])\n",
    "\tprint(f\"Epoch {epoch}, Training Loss: {running_loss}\")\n",
    "\t# Update running loss\n",
    "\tif epoch % 10 == 0:\n",
    "\t\tprint(f\"Epoch {epoch}, Loss: {running_loss / 10}\")\n",
    "\t\trunning_loss = 0.0\n",
    "\t\t# Save model checkpoint\n",
    "\t\ttorch.save(pairwise_model, f'models/pairwise_epoch_{epoch}.pth')\n",
    "\t\ttorch.save(optimizer.state_dict(), f'models/pairwise_optimizer_epoch_{epoch}.pth')\n",
    "\t\n",
    "\tscheduler.step(running_loss)"
   ]
  },
  {
   "cell_type": "code",
   "execution_count": null,
   "id": "bc9466d0",
   "metadata": {},
   "outputs": [],
   "source": [
    "#train the model for pairwise\n",
    "\n",
    "from foldtree2.src import pairwise\n",
    "\n",
    "\n",
    "\n"
   ]
  },
  {
   "cell_type": "code",
   "execution_count": null,
   "id": "f754ca07",
   "metadata": {},
   "outputs": [],
   "source": [
    "#pr and roc"
   ]
  },
  {
   "cell_type": "code",
   "execution_count": null,
   "id": "76fb7420",
   "metadata": {},
   "outputs": [],
   "source": [
    "#compare to hashed jaccard \n",
    "\n",
    "#pr and roc"
   ]
  }
 ],
 "metadata": {
  "kernelspec": {
   "display_name": "Python 3 (ipykernel)",
   "language": "python",
   "name": "python3"
  },
  "language_info": {
   "codemirror_mode": {
    "name": "ipython",
    "version": 3
   },
   "file_extension": ".py",
   "mimetype": "text/x-python",
   "name": "python",
   "nbconvert_exporter": "python",
   "pygments_lexer": "ipython3",
   "version": "3.12.3"
  }
 },
 "nbformat": 4,
 "nbformat_minor": 5
}
