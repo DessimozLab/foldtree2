{
 "cells": [
  {
   "cell_type": "markdown",
   "id": "182db143",
   "metadata": {},
   "source": [
    "# Information-Theoretic Benchmarking of Species Tree Inference\n",
    "\n",
    "This notebook presents a comparative workflow for species tree inference using two different character sets: traditional amino acid sequences and foldtree-encoded structural features. The goal is to benchmark the phylogenetic signal carried by each character set using information-theoretic approaches.\n",
    "\n",
    "**Workflow Overview:**\n",
    "- Construct a species tree using a standard amino acid-based pipeline (multiple sequence alignment, concatenation, and maximum likelihood inference).\n",
    "- Construct an equivalent species tree using foldtree-encoded data.\n",
    "- For both trees, compute column-wise log-likelihoods and character frequencies.\n",
    "- Quantify the information content and phylogenetic signal of each character set by analyzing the distribution of likelihoods and character frequencies.\n",
    "\n",
    "This approach enables a direct comparison of how much evolutionary information is captured by sequence versus structure-based encodings, providing an objective benchmark for future phylogenomic analyses."
   ]
  },
  {
   "cell_type": "code",
   "execution_count": 95,
   "id": "0b3af69d",
   "metadata": {},
   "outputs": [
    {
     "name": "stdout",
     "output_type": "stream",
     "text": [
      "/home/dmoi/projects/foldtree2\n"
     ]
    }
   ],
   "source": [
    "cd /home/dmoi/projects/foldtree2/"
   ]
  },
  {
   "cell_type": "code",
   "execution_count": 96,
   "id": "b6f08cae",
   "metadata": {},
   "outputs": [],
   "source": [
    "from Bio import AlignIO\n",
    "from Bio.Align import MultipleSeqAlignment\n",
    "from Bio.Seq import Seq\n",
    "from Bio.SeqRecord import SeqRecord\n",
    "import os\n",
    "import requests\n",
    "import random\n",
    "import subprocess\n",
    "from pathlib import Path\n",
    "import concurrent.futures\n",
    "import multiprocessing\n",
    "import pandas as pd\n",
    "import requests\n",
    "from Bio import SeqIO\n",
    "import re\n",
    "import time"
   ]
  },
  {
   "cell_type": "code",
   "execution_count": 97,
   "id": "f0c4a2d9",
   "metadata": {},
   "outputs": [],
   "source": [
    "overwrite = False\n",
    "model = 'mfnew_128mk2'"
   ]
  },
  {
   "cell_type": "code",
   "execution_count": 98,
   "id": "4a210460",
   "metadata": {},
   "outputs": [
    {
     "name": "stdout",
     "output_type": "stream",
     "text": [
      "Found 500 marker genes\n"
     ]
    }
   ],
   "source": [
    "import glob\n",
    "markers = glob.glob( './families/Information_benchmark/marker_genes/marker_genes/*.fa')\n",
    "print( f\"Found {len(markers)} marker genes\" )"
   ]
  },
  {
   "cell_type": "code",
   "execution_count": 99,
   "id": "18c8f2f6",
   "metadata": {},
   "outputs": [],
   "source": [
    "#set up a folder for each marker gene family\n",
    "for marker in markers:\n",
    "\tmarker_name = os.path.basename(marker).split('.')[0]\n",
    "\tPath(f'./families/Information_benchmark/marker_genes/{marker_name}').mkdir(parents=True, exist_ok=True)\n",
    "\t#add a structs folder\n",
    "\tPath(f'./families/Information_benchmark/marker_genes/{marker_name}/structs').mkdir(parents=True, exist_ok=True)"
   ]
  },
  {
   "cell_type": "code",
   "execution_count": 100,
   "id": "164d8947",
   "metadata": {},
   "outputs": [
    {
     "name": "stdout",
     "output_type": "stream",
     "text": [
      "The autoreload extension is already loaded. To reload it, use:\n",
      "  %reload_ext autoreload\n"
     ]
    }
   ],
   "source": [
    "#use autoreload to reload modules\n",
    "%load_ext autoreload\n",
    "%autoreload 2"
   ]
  },
  {
   "cell_type": "code",
   "execution_count": 101,
   "id": "437e9746",
   "metadata": {},
   "outputs": [],
   "source": [
    "# Specify your model and associated matrices\n",
    "from ft2treebuilder import treebuilder\n",
    "model_path = \"./models/\" + model  # Path to your model (without .pkl)\n",
    "mafftmat = model_path + \"_mafftmat.mtx\"\n",
    "submat = model_path + \"_submat.txt\"\n",
    "aapropcsv = './config/aaindex1.csv'  # Path to your amino acid properties CSV file\n",
    "# Initialize the treebuilder class\n",
    "tb = treebuilder(model=model_path, mafftmat=mafftmat, submat=submat , aapropcsv=aapropcsv)"
   ]
  },
  {
   "cell_type": "code",
   "execution_count": 102,
   "id": "4c456e1d",
   "metadata": {},
   "outputs": [
    {
     "name": "stdout",
     "output_type": "stream",
     "text": [
      "Using 31 cores for alignments\n",
      "Using 31 cores for alignments\n"
     ]
    }
   ],
   "source": [
    "def align_fasta_with_mafft(fasta_file):\n",
    "\t\"\"\"\n",
    "\tAlign a single FASTA file using MAFFT\n",
    "\t\n",
    "\tParameters:\n",
    "\t-----------\n",
    "\tfasta_file : str\n",
    "\t\tPath to input FASTA file\n",
    "\t\n",
    "\tReturns:\n",
    "\t--------\n",
    "\ttuple: (input_path, output_path, success_status)\n",
    "\t\"\"\"\n",
    "\t# Create output filename - same directory but with .aligned.fa extension\n",
    "\tinput_path = Path(fasta_file)\n",
    "\toutput_path = input_path.with_name(f\"{input_path.stem}.aligned.fa\")\n",
    "\t\n",
    "\t# Run MAFFT\n",
    "\tcmd = f\"mafft --auto --thread 1 {fasta_file} > {output_path}\"\n",
    "\tprint(f\"Aligning: {fasta_file}\")\n",
    "\t\n",
    "\ttry:\n",
    "\t\tsubprocess.run(cmd, shell=True, check=True, stderr=subprocess.PIPE)\n",
    "\t\treturn (fasta_file, str(output_path), True)\n",
    "\texcept subprocess.CalledProcessError as e:\n",
    "\t\tprint(f\"Error aligning {fasta_file}: {e}\")\n",
    "\t\treturn (fasta_file, str(output_path), False)\n",
    "\n",
    "# Get number of available cores (leave 1 core free for system processes)\n",
    "max_workers = max(1, multiprocessing.cpu_count() - 1)\n",
    "print(f\"Using {max_workers} cores for alignments\")\n",
    "\n",
    "# Process alignments in parallel\n",
    "aligned_files = []\n",
    "failed_files = []\n",
    "\n",
    "def align_fasta_with_mafft(fasta_file):\n",
    "\t\"\"\"\n",
    "\tAlign a single FASTA file using MAFFT\n",
    "\t\n",
    "\tParameters:\n",
    "\t-----------\n",
    "\tfasta_file : str\n",
    "\t\tPath to input FASTA file\n",
    "\t\n",
    "\tReturns:\n",
    "\t--------\n",
    "\ttuple: (input_path, output_path, success_status)\n",
    "\t\"\"\"\n",
    "\t# Create output filename - same directory but with .aligned.fa extension\n",
    "\tinput_path = Path(fasta_file)\n",
    "\toutput_path = input_path.with_name(f\"{input_path.stem}.aligned.fa\")\n",
    "\t\n",
    "\t# Run MAFFT\n",
    "\tcmd = f\"mafft --auto --thread 1 {fasta_file} > {output_path}\"\n",
    "\tprint(f\"Aligning: {fasta_file}\")\n",
    "\t\n",
    "\ttry:\n",
    "\t\tsubprocess.run(cmd, shell=True, check=True, stderr=subprocess.PIPE)\n",
    "\t\treturn (fasta_file, str(output_path), True)\n",
    "\texcept subprocess.CalledProcessError as e:\n",
    "\t\tprint(f\"Error aligning {fasta_file}: {e}\")\n",
    "\t\treturn (fasta_file, str(output_path), False)\n",
    "\n",
    "# Get number of available cores (leave 1 core free for system processes)\n",
    "max_workers = max(1, multiprocessing.cpu_count() - 1)\n",
    "print(f\"Using {max_workers} cores for alignments\")\n",
    "# Process alignments in parallel\n",
    "aligned_files = []\n",
    "failed_files = []"
   ]
  },
  {
   "cell_type": "code",
   "execution_count": 103,
   "id": "7837aa36",
   "metadata": {
    "vscode": {
     "languageId": "ruby"
    }
   },
   "outputs": [],
   "source": [
    "def concatenate_alignments(alignment_files, output_file):\n",
    "\t\"\"\"\n",
    "\tConcatenate multiple alignment files into a single supermatrix alignment.\n",
    "\t\n",
    "\tParameters:\n",
    "\t-----------\n",
    "\talignment_files : list\n",
    "\t\tList of paths to alignment files in FASTA format\n",
    "\toutput_file : str\n",
    "\t\tPath to save the concatenated alignment\n",
    "\t\t\n",
    "\tReturns:\n",
    "\t--------\n",
    "\ttuple\n",
    "\t\t(concatenated_alignment, partition_info)\n",
    "\t\t- concatenated_alignment: The final MultipleSeqAlignment object\n",
    "\t\t- partition_info: Dictionary with gene boundaries for partition file creation\n",
    "\t\"\"\"\n",
    "\tif not alignment_files:\n",
    "\t\tprint(\"No alignment files provided\")\n",
    "\t\treturn None, {}\n",
    "\t\n",
    "\t# Dictionary to store sequences for each species across all genes\n",
    "\tall_species = {}\n",
    "\tpartition_info = {}\n",
    "\tcurrent_position = 1\n",
    "\t\n",
    "\t# Process each alignment file\n",
    "\tfor i, aln_file in enumerate(alignment_files):\n",
    "\t\ttry:\n",
    "\t\t\t# Load the alignment\n",
    "\t\t\tgene_name = Path(aln_file).stem.replace('.aligned', '')\n",
    "\t\t\talignment = AlignIO.read(aln_file, \"fasta\")\n",
    "\t\t\taln_length = alignment.get_alignment_length()\n",
    "\t\t\t\n",
    "\t\t\t# Store partition information\n",
    "\t\t\tpartition_info[gene_name] = {\n",
    "\t\t\t\t'start': current_position,\n",
    "\t\t\t\t'end': current_position + aln_length - 1\n",
    "\t\t\t}\n",
    "\t\t\t\n",
    "\t\t\t# Process each sequence in this alignment\n",
    "\t\t\tfor record in alignment:\n",
    "\t\t\t\t# Extract species identifier from the sequence header\n",
    "\t\t\t\tspecies_id = record.id.split('|')[-1]\n",
    "\t\t\t\t\n",
    "\t\t\t\t# Initialize this species entry if it doesn't exist yet\n",
    "\t\t\t\tif species_id not in all_species:\n",
    "\t\t\t\t\tall_species[species_id] = {}\n",
    "\t\t\t\t\n",
    "\t\t\t\t# Add this gene's sequence for this species\n",
    "\t\t\t\tall_species[species_id][gene_name] = str(record.seq)\n",
    "\t\t\t\n",
    "\t\t\tcurrent_position += aln_length\n",
    "\t\t\tprint(f\"Processed alignment {i+1}/{len(alignment_files)}: {gene_name} ({aln_length} columns)\")\n",
    "\t\t\t\n",
    "\t\texcept Exception as e:\n",
    "\t\t\tprint(f\"Error processing {aln_file}: {str(e)}\")\n",
    "\t\n",
    "\t# Create the concatenated alignment\n",
    "\tconcatenated_records = []\n",
    "\tgene_names = list(partition_info.keys())\n",
    "\t\n",
    "\tfor species_id, genes in all_species.items():\n",
    "\t\t# Build the concatenated sequence for this species\n",
    "\t\tconcat_seq = \"\"\n",
    "\t\tfor gene in gene_names:\n",
    "\t\t\tif gene in genes:\n",
    "\t\t\t\tconcat_seq += genes[gene]\n",
    "\t\t\telse:\n",
    "\t\t\t\t# If this species doesn't have this gene, add gaps\n",
    "\t\t\t\tgene_length = partition_info[gene]['end'] - partition_info[gene]['start'] + 1\n",
    "\t\t\t\tconcat_seq += \"-\" * gene_length\n",
    "\t\t\n",
    "\t\t# Create a SeqRecord for this concatenated sequence\n",
    "\t\trecord = SeqRecord(\n",
    "\t\t\tSeq(concat_seq),\n",
    "\t\t\tid=species_id,\n",
    "\t\t\tdescription=f\"Concatenated {len(gene_names)} genes\"\n",
    "\t\t)\n",
    "\t\tconcatenated_records.append(record)\n",
    "\t\n",
    "\t# Create and save the concatenated alignment\n",
    "\tconcatenated_alignment = MultipleSeqAlignment(concatenated_records)\n",
    "\t\n",
    "\t# Save alignment to file\n",
    "\twith open(output_file, \"w\") as handle:\n",
    "\t\tAlignIO.write(concatenated_alignment, handle, \"fasta\")\n",
    "\t\n",
    "\t# Create a partition file for RAxML-NG\n",
    "\tpartition_file = f\"{output_file}.partition\"\n",
    "\twith open(partition_file, \"w\") as handle:\n",
    "\t\tfor gene, pos in partition_info.items():\n",
    "\t\t\thandle.write(f\"GTR+G, {gene} = {pos['start']}-{pos['end']}\\n\")\n",
    "\t\n",
    "\tprint(f\"Created concatenated alignment with {len(concatenated_records)} species and {concatenated_alignment.get_alignment_length()} columns\")\n",
    "\tprint(f\"Partition file saved to {partition_file}\")\n",
    "\treturn concatenated_alignment, partition_info"
   ]
  },
  {
   "cell_type": "code",
   "execution_count": 104,
   "id": "64369397",
   "metadata": {},
   "outputs": [
    {
     "name": "stdout",
     "output_type": "stream",
     "text": [
      "Extracted 8377 unique OMA IDs from marker genes\n"
     ]
    }
   ],
   "source": [
    "def extract_oma_ids_from_fasta(fasta_file):\n",
    "\t\"\"\"\n",
    "\tExtract OMA identifiers from a FASTA file\n",
    "\tID format example:\n",
    "\n",
    "\t>MOUSE45461 | OMA754554 | COQ5_MOUSE | [Mus musculus]\n",
    "\n",
    "\t\n",
    "\tParameters:\n",
    "\t-----------\n",
    "\tfasta_file : str\n",
    "\t\tPath to FASTA file\n",
    "\t\t\n",
    "\tReturns:\n",
    "\t--------\n",
    "\tlist of str: OMA identifiers\n",
    "\t\"\"\"\n",
    "\toma_ids = []\n",
    "\toma_files = {}\n",
    "\tfor record in SeqIO.parse(fasta_file, \"fasta\"):\n",
    "\t\t# Extract OMA ID from the FASTA header using the pipe-separated format\n",
    "\t\tid = record.description.split('|')[0]\t\n",
    "\t\toma_ids.append(id.strip())\n",
    "\toma_files[id.strip()] = fasta_file\n",
    "\treturn oma_ids , oma_files\n",
    "# Extract OMA IDs from all marker files\n",
    "oma_ids = []\n",
    "oma_files = {}\n",
    "for marker in markers:\n",
    "\tids, files = extract_oma_ids_from_fasta(marker)\n",
    "\toma_ids.extend(ids)\n",
    "\toma_files.update(files)\n",
    "\n",
    "oma_ids = list(set(oma_ids))  # Remove duplicates\n",
    "print(f\"Extracted {len(oma_ids)} unique OMA IDs from marker genes\")\n",
    "oma_files = pd.DataFrame.from_dict(oma_files, orient='index', columns=['fasta_file'])\n",
    "oma_files.index.name = 'oma_id'\n",
    "oma_files.reset_index(inplace=True)\n",
    "oma_files.to_csv(\"oma_markergene_files.csv\", index=False)\n"
   ]
  },
  {
   "cell_type": "code",
   "execution_count": 105,
   "id": "bd5143cb",
   "metadata": {},
   "outputs": [
    {
     "name": "stdout",
     "output_type": "stream",
     "text": [
      "['MOUSE16055', 'CAPO308128', 'PARTE15034', 'ACACA02190', 'TRYB202319', 'PLAF704684', 'CAPO305854', 'CYAME02727', 'PHYPA03750', 'CHLRE08248']\n"
     ]
    }
   ],
   "source": [
    "print( oma_ids[:10] )  # Print first 10 OMA IDs for verification"
   ]
  },
  {
   "cell_type": "code",
   "execution_count": 106,
   "id": "11c6566a",
   "metadata": {},
   "outputs": [],
   "source": [
    "import json\n",
    "import tqdm\n",
    "def bulk_map_oma_to_uniprot(oma_ids, batch_size=100, retry_limit=3 , verbose=True):\n",
    "\t\"\"\"\n",
    "\tMap a list of OMA identifiers to UniProt using the OMA bulk API.\n",
    "\n",
    "\tParameters:\n",
    "\t-----------\n",
    "\toma_ids : list of str\n",
    "\t\tList of OMA identifiers (e.g., OMA123456)\n",
    "\tbatch_size : int\n",
    "\t\tNumber of IDs per batch (max 1000)\n",
    "\tretry_limit : int\n",
    "\t\tNumber of times to retry on failure\n",
    "\n",
    "\tReturns:\n",
    "\t--------\n",
    "\tlist of dict: Mapping information for each OMA ID\n",
    "\t\"\"\"\n",
    "\turl = \"https://omabrowser.org/api/protein/bulk_retrieve/\"\n",
    "\tall_results = []\n",
    "\n",
    "\tfor i in tqdm.tqdm(range(0, len(oma_ids), batch_size)):\n",
    "\t\tbatch = oma_ids[i:i+batch_size]\n",
    "\t\tfor attempt in range(retry_limit):\n",
    "\t\t\ttry:\n",
    "\t\t\t\tresponse = requests.post(url, json={\"ids\": batch})\n",
    "\t\t\t\tif response.ok:\n",
    "\t\t\t\t\tdata = response.json()\n",
    "\t\t\t\t\tdata = json.loads(response.text)  # Ensure we parse the JSON correctly\n",
    "\t\t\t\t\t#transfor data into dataframe\n",
    "\t\t\t\t\tresults = {}\n",
    "\t\t\t\t\tfor query in data:\n",
    "\t\t\t\t\t\tresults[query['query_id']] = query['target']\n",
    "\t\t\t\t\tif verbose:\n",
    "\t\t\t\t\t\tprint(f\"Batch {i//batch_size+1} processed successfully with {len(results)} mappings\")\n",
    "\t\t\t\t\t\tprint(pd.DataFrame.from_dict(results, orient='index').reset_index())\n",
    "\t\t\t\t\tall_results.append(pd.DataFrame.from_dict(results, orient='index').reset_index())\n",
    "\t\t\t\t\tbreak  # Success, break retry loop\n",
    "\t\t\t\telse:\n",
    "\t\t\t\t\tprint(f\"Error fetching batch {i//batch_size+1}: HTTP {response.status_code}\")\n",
    "\t\t\texcept Exception as e:\n",
    "\t\t\t\tprint(f\"Error in batch {i//batch_size+1}: {str(e)}\")\n",
    "\t\t\ttime.sleep(1)\n",
    "\t\telse:\n",
    "\t\t\t# If all retries failed, add minimal info for each ID in the batch\n",
    "\t\t\tfor oma_id in batch:\n",
    "\t\t\t\tall_results.append({'oma_id': oma_id, 'uniprot_id': None})\n",
    "\t\t\tall_results.append(pd.DataFrame([{'oma_id': oma_id, 'uniprot_id': None}]))\n",
    "\t# Concatenate all results into a single DataFrame\n",
    "\tif all_results:\n",
    "\t\tall_results = pd.concat(all_results, ignore_index=True)\n",
    "\t\treturn all_results\n",
    "\telse:\n",
    "\t\treturn pd.DataFrame(columns=['oma_id', 'uniprot_id'])\n",
    "\n",
    "\n",
    "\t"
   ]
  },
  {
   "cell_type": "code",
   "execution_count": 107,
   "id": "624dd96d",
   "metadata": {},
   "outputs": [
    {
     "name": "stdout",
     "output_type": "stream",
     "text": [
      "Mapping file already exists, loading it...\n",
      "Loaded mapping file with 8377 entries\n",
      "        index  entry_nr                                     entry_url  \\\n",
      "0  THAPS04302  20294321  https://omabrowser.org/api/protein/20294321/   \n",
      "1  NAEGR05573   7221363   https://omabrowser.org/api/protein/7221363/   \n",
      "2  CYAME00980  19565914  https://omabrowser.org/api/protein/19565914/   \n",
      "3  TRYB204190   7199379   https://omabrowser.org/api/protein/7199379/   \n",
      "4  CAPO304696   7392554   https://omabrowser.org/api/protein/7392554/   \n",
      "\n",
      "        omaid   canonicalid                      sequence_md5  \\\n",
      "0  THAPS04302        B8BT93  2ff7284c3f9dbc99b3b15eadcbc04312   \n",
      "1  NAEGR05573        D2UXH8  287afcc288060dfa301c0957863755bf   \n",
      "2  CYAME00980       CML272C  63433c408ab217ab86000576cf745a9a   \n",
      "3  TRYB204190    FEN1_TRYB2  e77b1149fd33a4e06e67374ae3b1bbc5   \n",
      "4  CAPO304696  XP_004349858  2df47cf6ca86cbe5ed5282ee7ab20f31   \n",
      "\n",
      "   sequence_length                                            species  \\\n",
      "0              629  {'code': 'THAPS', 'taxon_id': 296543, 'species...   \n",
      "1             1206  {'code': 'NAEGR', 'taxon_id': 744533, 'species...   \n",
      "2              297  {'code': 'CYAME', 'taxon_id': 45157, 'species'...   \n",
      "3              393  {'code': 'TRYB2', 'taxon_id': 185431, 'species...   \n",
      "4              237  {'code': 'CAPO3', 'taxon_id': 595528, 'species...   \n",
      "\n",
      "   oma_group       oma_hog_id  ...  \\\n",
      "0     926837     HOG:E0802081  ...   \n",
      "1    1067390  HOG:E0802659.3a  ...   \n",
      "2    1417310     HOG:E0802449  ...   \n",
      "3    1426798  HOG:E1027304.2b  ...   \n",
      "4    1049443  HOG:E0811202.5a  ...   \n",
      "\n",
      "                                         description  \\\n",
      "0  Predicted protein [Source:UniProtKB/TrEMBL;Acc...   \n",
      "1     jgi|Naegr1|61128|fgeneshNG_pg.scaffold_1000062   \n",
      "2                                                NaN   \n",
      "3  go_function: nuclease activity [goid 0004518];...   \n",
      "4                                 Ptplb-like protein   \n",
      "\n",
      "                                             domains  \\\n",
      "0  https://omabrowser.org/api/protein/20294321/do...   \n",
      "1  https://omabrowser.org/api/protein/7221363/dom...   \n",
      "2  https://omabrowser.org/api/protein/19565914/do...   \n",
      "3  https://omabrowser.org/api/protein/7199379/dom...   \n",
      "4  https://omabrowser.org/api/protein/7392554/dom...   \n",
      "\n",
      "                                                xref  \\\n",
      "0  https://omabrowser.org/api/protein/20294321/xref/   \n",
      "1   https://omabrowser.org/api/protein/7221363/xref/   \n",
      "2  https://omabrowser.org/api/protein/19565914/xref/   \n",
      "3   https://omabrowser.org/api/protein/7199379/xref/   \n",
      "4   https://omabrowser.org/api/protein/7392554/xref/   \n",
      "\n",
      "                                           orthologs homoeologs  \\\n",
      "0  https://omabrowser.org/api/protein/20294321/or...        NaN   \n",
      "1  https://omabrowser.org/api/protein/7221363/ort...        NaN   \n",
      "2  https://omabrowser.org/api/protein/19565914/or...        NaN   \n",
      "3  https://omabrowser.org/api/protein/7199379/ort...        NaN   \n",
      "4  https://omabrowser.org/api/protein/7392554/ort...        NaN   \n",
      "\n",
      "                                       gene_ontology  \\\n",
      "0  https://omabrowser.org/api/protein/20294321/ge...   \n",
      "1  https://omabrowser.org/api/protein/7221363/gen...   \n",
      "2  https://omabrowser.org/api/protein/19565914/ge...   \n",
      "3  https://omabrowser.org/api/protein/7199379/gen...   \n",
      "4  https://omabrowser.org/api/protein/7392554/gen...   \n",
      "\n",
      "                               oma_group_url  \\\n",
      "0   https://omabrowser.org/api/group/926837/   \n",
      "1  https://omabrowser.org/api/group/1067390/   \n",
      "2  https://omabrowser.org/api/group/1417310/   \n",
      "3  https://omabrowser.org/api/group/1426798/   \n",
      "4  https://omabrowser.org/api/group/1049443/   \n",
      "\n",
      "                                     oma_hog_members  \\\n",
      "0  https://omabrowser.org/api/hog/HOG:E0802081/me...   \n",
      "1  https://omabrowser.org/api/hog/HOG:E0802659.3a...   \n",
      "2  https://omabrowser.org/api/hog/HOG:E0802449/me...   \n",
      "3  https://omabrowser.org/api/hog/HOG:E1027304.2b...   \n",
      "4  https://omabrowser.org/api/hog/HOG:E0811202.5a...   \n",
      "\n",
      "                                            isoforms alternative_isoforms_urls  \n",
      "0  https://omabrowser.org/api/protein/20294321/is...                        []  \n",
      "1  https://omabrowser.org/api/protein/7221363/iso...                        []  \n",
      "2  https://omabrowser.org/api/protein/19565914/is...                        []  \n",
      "3  https://omabrowser.org/api/protein/7199379/iso...                        []  \n",
      "4  https://omabrowser.org/api/protein/7392554/iso...                        []  \n",
      "\n",
      "[5 rows x 27 columns]\n"
     ]
    }
   ],
   "source": [
    "import os\n",
    "if not os.path.exists(\"oma_to_uniprot_mapping.csv\"):\n",
    "\tprint(\"Mapping file does not exist, creating it now...\")\n",
    "\t#retreive all OMA IDs from the marker genes\n",
    "\tmapping_df = bulk_map_oma_to_uniprot(oma_ids , verbose=False)\n",
    "\t# Save the mapping results to a CSV file\n",
    "\tmapping_df.to_csv(\"oma_to_uniprot_mapping.csv\", index=True)\n",
    "else:\n",
    "\tprint(\"Mapping file already exists, loading it...\")\n",
    "\tmapping_df = pd.read_csv(\"oma_to_uniprot_mapping.csv\", index_col=0)\n",
    "\tprint(f\"Loaded mapping file with {len(mapping_df)} entries\")\n",
    "\tprint(mapping_df.head())\n",
    "\t"
   ]
  },
  {
   "cell_type": "code",
   "execution_count": 108,
   "id": "17b5c2d5",
   "metadata": {},
   "outputs": [
    {
     "name": "stderr",
     "output_type": "stream",
     "text": [
      "Cannot load SequenceSearch. Any future call to seq_search will fail!\n",
      "Traceback (most recent call last):\n",
      "  File \"/home/dmoi/miniforge3/envs/pyg/lib/python3.12/site-packages/pyoma/browser/db.py\", line 2340, in __init__\n",
      "    self.seq_idx = self.seq_idx()\n",
      "                   ^^^^^^^^^^^^^^\n",
      "  File \"/home/dmoi/miniforge3/envs/pyg/lib/python3.12/site-packages/tables/link.py\", line 427, in __call__\n",
      "    self.extfile = tb.open_file(filename, **kwargs)\n",
      "                   ^^^^^^^^^^^^^^^^^^^^^^^^^^^^^^^^\n",
      "  File \"/home/dmoi/miniforge3/envs/pyg/lib/python3.12/site-packages/pyoma/browser/db.py\", line 137, in synchronized_open_file\n",
      "    return _tables_file._original_open_file(*args, **kwargs)\n",
      "           ^^^^^^^^^^^^^^^^^^^^^^^^^^^^^^^^^^^^^^^^^^^^^^^^^\n",
      "  File \"/home/dmoi/miniforge3/envs/pyg/lib/python3.12/site-packages/tables/file.py\", line 325, in open_file\n",
      "    return File(filename, mode, title, root_uep, filters, **kwargs)\n",
      "           ^^^^^^^^^^^^^^^^^^^^^^^^^^^^^^^^^^^^^^^^^^^^^^^^^^^^^^^^\n",
      "  File \"/home/dmoi/miniforge3/envs/pyg/lib/python3.12/site-packages/pyoma/browser/db.py\", line 127, in __init__\n",
      "    super(ThreadsafeFile, self).__init__(*args, **kargs)\n",
      "  File \"/home/dmoi/miniforge3/envs/pyg/lib/python3.12/site-packages/tables/file.py\", line 811, in __init__\n",
      "    self._g_new(filename, mode, **params)\n",
      "  File \"tables/hdf5extension.pyx\", line 499, in tables.hdf5extension.File._g_new\n",
      "  File \"/home/dmoi/miniforge3/envs/pyg/lib/python3.12/site-packages/tables/utils.py\", line 172, in check_file_access\n",
      "    raise FileNotFoundError(f\"``{path}`` does not exist\")\n",
      "FileNotFoundError: ``/home/dmoi/datasets/OMA/OmaServer.h5.idx`` does not exist\n",
      "\n",
      "During handling of the above exception, another exception occurred:\n",
      "\n",
      "Traceback (most recent call last):\n",
      "  File \"/home/dmoi/miniforge3/envs/pyg/lib/python3.12/site-packages/pyoma/browser/db.py\", line 283, in __init__\n",
      "    self.seq_search = SequenceSearch(self)\n",
      "                      ^^^^^^^^^^^^^^^^^^^^\n",
      "  File \"/home/dmoi/miniforge3/envs/pyg/lib/python3.12/site-packages/pyoma/browser/db.py\", line 2345, in __init__\n",
      "    raise DBConsistencyError(\"Suffix index for protein sequences is not available: \" + str(e))\n",
      "pyoma.browser.exceptions.DBConsistencyError: Suffix index for protein sequences is not available: ``/home/dmoi/datasets/OMA/OmaServer.h5.idx`` does not exist\n"
     ]
    }
   ],
   "source": [
    "\n",
    "import pyoma.browser.db\n",
    "db = pyoma.browser.db.Database(\"/home/dmoi/datasets/OMA/OmaServer.h5\")\n",
    "db.get_release_name()\n",
    "resolver = pyoma.browser.db.IDResolver(db)\n",
    "mapper = db.id_mapper['OMA']\n",
    "linkout = db.id_mapper['Linkout'] \n",
    "\n",
    "\n"
   ]
  },
  {
   "cell_type": "code",
   "execution_count": 109,
   "id": "375aa87c",
   "metadata": {},
   "outputs": [
    {
     "name": "stdout",
     "output_type": "stream",
     "text": [
      "Entry number for CHLRE00910: 20577393\n"
     ]
    }
   ],
   "source": [
    "\n",
    "entry = 'CHLRE00910'  # Example entry number\n",
    "entry_nr = mapper.omaid_to_entry_nr(entry)\n",
    "print(f\"Entry number for {entry}: {entry_nr}\")\n"
   ]
  },
  {
   "cell_type": "code",
   "execution_count": 110,
   "id": "8edc7371",
   "metadata": {},
   "outputs": [
    {
     "name": "stdout",
     "output_type": "stream",
     "text": [
      "[{'source': 'UniProtKB/TrEMBL', 'xref': 'A0A2K3DKT0', 'url': 'http://uniprot.org/uniprot/A0A2K3DKT0'}, {'source': 'EntrezGene', 'xref': '5718125', 'url': 'http://www.ncbi.nlm.nih.gov/gene/5718125'}]\n"
     ]
    }
   ],
   "source": [
    "#try mapping entry\n",
    "entry = 'CHLRE00910'  # Example entry number\n",
    "entry_nr = mapper.omaid_to_entry_nr(entry)\n",
    "xrefs = linkout.iter_xrefs_for_entry_nr(entry_nr)\n",
    "print([ r for r in xrefs])\n"
   ]
  },
  {
   "cell_type": "code",
   "execution_count": 111,
   "id": "3733111a",
   "metadata": {},
   "outputs": [
    {
     "name": "stdout",
     "output_type": "stream",
     "text": [
      "UniProt IDs for CHLRE00910: ['A0A2K3DKT0']\n"
     ]
    }
   ],
   "source": [
    "def get_uniprot_ids_from_oma(oma_id, mapper, linkout):\n",
    "\t\"\"\"\n",
    "\tGet UniProt IDs for a given OMA ID by chaining mapper and xref operations.\n",
    "\t\n",
    "\tParameters:\n",
    "\t-----------\n",
    "\toma_id : str\n",
    "\t\tOMA identifier (e.g., 'CHLRE00910')\n",
    "\tmapper : pyoma.browser.db.OmaIdMapper\n",
    "\t\tOMA ID mapper instance\n",
    "\tlinkout : pyoma.browser.idmapper.LinkoutIdMapper\n",
    "\t\tLinkout mapper instance\n",
    "\t\n",
    "\tReturns:\n",
    "\t--------\n",
    "\tlist: UniProt IDs associated with the OMA ID\n",
    "\t\"\"\"\n",
    "\ttry:\n",
    "\t\t# Convert OMA ID to entry number\n",
    "\t\tentry_nr = mapper.omaid_to_entry_nr(oma_id)\n",
    "\t\t\n",
    "\t\t# Get all xrefs for this entry\n",
    "\t\txrefs = linkout.iter_xrefs_for_entry_nr(entry_nr)\n",
    "\t\t\n",
    "\t\t# Filter for UniProt references\n",
    "\t\tuniprot_ids = [ref['xref'] for ref in xrefs \n",
    "\t\t\t\t\t  if ref['source'] in ['UniProtKB/Swiss-Prot', 'UniProtKB/TrEMBL']]\n",
    "\t\t\n",
    "\t\treturn uniprot_ids\n",
    "\t\n",
    "\texcept Exception as e:\n",
    "\t\tprint(f\"Error processing {oma_id}: {str(e)}\")\n",
    "\t\treturn []\n",
    "\n",
    "# Test the function with the example entry\n",
    "uniprot_ids = get_uniprot_ids_from_oma(entry, mapper, linkout)\n",
    "print(f\"UniProt IDs for {entry}: {uniprot_ids}\")"
   ]
  },
  {
   "cell_type": "code",
   "execution_count": 112,
   "id": "d19e974b",
   "metadata": {},
   "outputs": [
    {
     "name": "stdout",
     "output_type": "stream",
     "text": [
      "        index  entry_nr                                     entry_url  \\\n",
      "0  THAPS04302  20294321  https://omabrowser.org/api/protein/20294321/   \n",
      "1  NAEGR05573   7221363   https://omabrowser.org/api/protein/7221363/   \n",
      "2  CYAME00980  19565914  https://omabrowser.org/api/protein/19565914/   \n",
      "3  TRYB204190   7199379   https://omabrowser.org/api/protein/7199379/   \n",
      "4  CAPO304696   7392554   https://omabrowser.org/api/protein/7392554/   \n",
      "\n",
      "        omaid   canonicalid                      sequence_md5  \\\n",
      "0  THAPS04302        B8BT93  2ff7284c3f9dbc99b3b15eadcbc04312   \n",
      "1  NAEGR05573        D2UXH8  287afcc288060dfa301c0957863755bf   \n",
      "2  CYAME00980       CML272C  63433c408ab217ab86000576cf745a9a   \n",
      "3  TRYB204190    FEN1_TRYB2  e77b1149fd33a4e06e67374ae3b1bbc5   \n",
      "4  CAPO304696  XP_004349858  2df47cf6ca86cbe5ed5282ee7ab20f31   \n",
      "\n",
      "   sequence_length                                            species  \\\n",
      "0              629  {'code': 'THAPS', 'taxon_id': 296543, 'species...   \n",
      "1             1206  {'code': 'NAEGR', 'taxon_id': 744533, 'species...   \n",
      "2              297  {'code': 'CYAME', 'taxon_id': 45157, 'species'...   \n",
      "3              393  {'code': 'TRYB2', 'taxon_id': 185431, 'species...   \n",
      "4              237  {'code': 'CAPO3', 'taxon_id': 595528, 'species...   \n",
      "\n",
      "   oma_group       oma_hog_id  ...  \\\n",
      "0     926837     HOG:E0802081  ...   \n",
      "1    1067390  HOG:E0802659.3a  ...   \n",
      "2    1417310     HOG:E0802449  ...   \n",
      "3    1426798  HOG:E1027304.2b  ...   \n",
      "4    1049443  HOG:E0811202.5a  ...   \n",
      "\n",
      "                                         description  \\\n",
      "0  Predicted protein [Source:UniProtKB/TrEMBL;Acc...   \n",
      "1     jgi|Naegr1|61128|fgeneshNG_pg.scaffold_1000062   \n",
      "2                                                NaN   \n",
      "3  go_function: nuclease activity [goid 0004518];...   \n",
      "4                                 Ptplb-like protein   \n",
      "\n",
      "                                             domains  \\\n",
      "0  https://omabrowser.org/api/protein/20294321/do...   \n",
      "1  https://omabrowser.org/api/protein/7221363/dom...   \n",
      "2  https://omabrowser.org/api/protein/19565914/do...   \n",
      "3  https://omabrowser.org/api/protein/7199379/dom...   \n",
      "4  https://omabrowser.org/api/protein/7392554/dom...   \n",
      "\n",
      "                                                xref  \\\n",
      "0  https://omabrowser.org/api/protein/20294321/xref/   \n",
      "1   https://omabrowser.org/api/protein/7221363/xref/   \n",
      "2  https://omabrowser.org/api/protein/19565914/xref/   \n",
      "3   https://omabrowser.org/api/protein/7199379/xref/   \n",
      "4   https://omabrowser.org/api/protein/7392554/xref/   \n",
      "\n",
      "                                           orthologs homoeologs  \\\n",
      "0  https://omabrowser.org/api/protein/20294321/or...        NaN   \n",
      "1  https://omabrowser.org/api/protein/7221363/ort...        NaN   \n",
      "2  https://omabrowser.org/api/protein/19565914/or...        NaN   \n",
      "3  https://omabrowser.org/api/protein/7199379/ort...        NaN   \n",
      "4  https://omabrowser.org/api/protein/7392554/ort...        NaN   \n",
      "\n",
      "                                       gene_ontology  \\\n",
      "0  https://omabrowser.org/api/protein/20294321/ge...   \n",
      "1  https://omabrowser.org/api/protein/7221363/gen...   \n",
      "2  https://omabrowser.org/api/protein/19565914/ge...   \n",
      "3  https://omabrowser.org/api/protein/7199379/gen...   \n",
      "4  https://omabrowser.org/api/protein/7392554/gen...   \n",
      "\n",
      "                               oma_group_url  \\\n",
      "0   https://omabrowser.org/api/group/926837/   \n",
      "1  https://omabrowser.org/api/group/1067390/   \n",
      "2  https://omabrowser.org/api/group/1417310/   \n",
      "3  https://omabrowser.org/api/group/1426798/   \n",
      "4  https://omabrowser.org/api/group/1049443/   \n",
      "\n",
      "                                     oma_hog_members  \\\n",
      "0  https://omabrowser.org/api/hog/HOG:E0802081/me...   \n",
      "1  https://omabrowser.org/api/hog/HOG:E0802659.3a...   \n",
      "2  https://omabrowser.org/api/hog/HOG:E0802449/me...   \n",
      "3  https://omabrowser.org/api/hog/HOG:E1027304.2b...   \n",
      "4  https://omabrowser.org/api/hog/HOG:E0811202.5a...   \n",
      "\n",
      "                                            isoforms alternative_isoforms_urls  \n",
      "0  https://omabrowser.org/api/protein/20294321/is...                        []  \n",
      "1  https://omabrowser.org/api/protein/7221363/iso...                        []  \n",
      "2  https://omabrowser.org/api/protein/19565914/is...                        []  \n",
      "3  https://omabrowser.org/api/protein/7199379/iso...                        []  \n",
      "4  https://omabrowser.org/api/protein/7392554/iso...                        []  \n",
      "\n",
      "[5 rows x 27 columns]\n"
     ]
    }
   ],
   "source": [
    "print( mapping_df.head() )"
   ]
  },
  {
   "cell_type": "code",
   "execution_count": 113,
   "id": "460d571f",
   "metadata": {},
   "outputs": [
    {
     "name": "stdout",
     "output_type": "stream",
     "text": [
      "Sample OMA IDs: ['DROME06042', 'DROME20126', 'CAEEL04111', 'ARATH16397', 'HUMAN96022', 'CAPO305172', 'DROME20081', 'ECTSI04009', 'CAEEL08520', 'CYAME03712']\n",
      "\n",
      "Sample references:\n",
      "DROME06042: ['Q7KKI0']\n",
      "DROME20126: ['Q9XYZ5']\n",
      "CAEEL04111: ['Q2WF63']\n",
      "ARATH16397: ['A0A1P8B0T2']\n",
      "HUMAN96022: ['A7E261', 'O14841']\n",
      "CAPO305172: ['A0A0D2WK15']\n",
      "DROME20081: ['Q9VD29']\n",
      "ECTSI04009: ['D7G8T7']\n",
      "CAEEL08520: ['P34580']\n",
      "CYAME03712: []\n"
     ]
    }
   ],
   "source": [
    "def ret_refs(oma_ids, mapper, linkout):\n",
    "\t\"\"\"\n",
    "\tRetrieve UniProt references for given OMA IDs from the OMA database.\n",
    "\t\n",
    "\tParameters:\n",
    "\t-----------\n",
    "\toma_ids : list\n",
    "\t\tList of OMA identifiers\n",
    "\tmapper : pyoma.browser.db.OmaIdMapper\n",
    "\t\tOMA ID mapper instance\n",
    "\tlinkout : pyoma.browser.idmapper.LinkoutIdMapper\n",
    "\t\tLinkout mapper instance\n",
    "\t\n",
    "\tReturns:\n",
    "\t--------\n",
    "\tdict: Dictionary mapping OMA IDs to their UniProt references\n",
    "\t\"\"\"\n",
    "\treturn {oma_id: get_uniprot_ids_from_oma(oma_id, mapper, linkout) for oma_id in oma_ids}\n",
    "\n",
    "# Try with some OMA IDs\n",
    "sample_oma_ids = mapping_df['index'].sample(10).tolist()\n",
    "print(f\"Sample OMA IDs: {sample_oma_ids}\")\n",
    "\n",
    "sample_refs = ret_refs(sample_oma_ids, mapper, linkout)\n",
    "print(\"\\nSample references:\")\n",
    "for oma_id, refs in sample_refs.items():\n",
    "\tprint(f\"{oma_id}: {refs}\")"
   ]
  },
  {
   "cell_type": "code",
   "execution_count": 114,
   "id": "2a565e66",
   "metadata": {},
   "outputs": [],
   "source": [
    "from collections import defaultdict\n",
    "import pandas as pd\n",
    "\n",
    "def parse_xref_list_to_row(xref_list):\n",
    "\t\"\"\"\n",
    "\tParse a list of xref dicts into a single DataFrame row.\n",
    "\tEach xref source becomes a column, value is the xref (or list if multiple for same source).\n",
    "\tThe row index is the OMA ID (omaid).\n",
    "\t\n",
    "\tParameters:\n",
    "\t-----------\n",
    "\txref_list : list of dict\n",
    "\t\tList of xref dictionaries as returned by the OMA API.\n",
    "\t\t\n",
    "\tReturns:\n",
    "\t--------\n",
    "\tpandas.DataFrame: Single-row DataFrame with omaid as index and xrefs as columns.\n",
    "\t\"\"\"\n",
    "\n",
    "\tif not xref_list:\n",
    "\t\treturn pd.DataFrame()\n",
    "\n",
    "\tomaid = xref_list[0].get('omaid')\n",
    "\txref_dict = defaultdict(list)\n",
    "\tfor x in xref_list:\n",
    "\t\tsrc = x['source']\n",
    "\t\txref_dict[src].append(x['xref'])\n",
    "\n",
    "\t# Flatten single-item lists\n",
    "\txref_dict = {k: v[0] if len(v) == 1 else v for k, v in xref_dict.items()}\n",
    "\txref_dict['omaid'] = omaid\n",
    "\n",
    "\tdf = pd.DataFrame([xref_dict]).set_index('omaid')\n",
    "\treturn df"
   ]
  },
  {
   "cell_type": "code",
   "execution_count": 115,
   "id": "7dffd542",
   "metadata": {},
   "outputs": [
    {
     "name": "stdout",
     "output_type": "stream",
     "text": [
      "index                                                               THAPS04302\n",
      "entry_nr                                                              20294321\n",
      "entry_url                         https://omabrowser.org/api/protein/20294321/\n",
      "omaid                                                               THAPS04302\n",
      "canonicalid                                                             B8BT93\n",
      "sequence_md5                                  2ff7284c3f9dbc99b3b15eadcbc04312\n",
      "sequence_length                                                            629\n",
      "species                      {'code': 'THAPS', 'taxon_id': 296543, 'species...\n",
      "oma_group                                                               926837\n",
      "oma_hog_id                                                        HOG:E0802081\n",
      "chromosome                                                                   2\n",
      "locus                              {'start': 49583, 'end': 51961, 'strand': 1}\n",
      "is_main_isoform                                                           True\n",
      "roothog_id                                                              802081\n",
      "hog_levels                   ['Thalassiosira', 'Bacillariophyta', 'Ochrophy...\n",
      "sequence                     LPKKEADLFKNVVKFYESKQYKKGLKNADTILKRFPNHGETLCMKG...\n",
      "cdna                         CTCCCCAAAAAAGAAGCCGACCTCTTCAAAAACGTGGTCAAATTCT...\n",
      "description                  Predicted protein [Source:UniProtKB/TrEMBL;Acc...\n",
      "domains                      https://omabrowser.org/api/protein/20294321/do...\n",
      "xref                         https://omabrowser.org/api/protein/20294321/xref/\n",
      "orthologs                    https://omabrowser.org/api/protein/20294321/or...\n",
      "homoeologs                                                                 NaN\n",
      "gene_ontology                https://omabrowser.org/api/protein/20294321/ge...\n",
      "oma_group_url                         https://omabrowser.org/api/group/926837/\n",
      "oma_hog_members              https://omabrowser.org/api/hog/HOG:E0802081/me...\n",
      "isoforms                     https://omabrowser.org/api/protein/20294321/is...\n",
      "alternative_isoforms_urls                                                   []\n",
      "Name: 0, dtype: object\n",
      "Loading xref data from pickle file...\n",
      "{'THAPS04302': ['B8BT93'], 'NAEGR05573': ['D2UXH8'], 'CYAME00980': [], 'TRYB204190': ['Q57WW6'], 'CAPO304696': ['A0A0D2X0Z9'], 'DROME27485': ['Q9W379'], 'ACACA12103': ['L8GLP8'], 'NAEGR15514': ['D2VA89'], 'ECTSI01939': ['D8LQB7'], 'ACACA01795': ['L8HGN2'], 'PHYPA30262': ['A9RI12'], 'MOUSE58583': ['O54984'], 'MOUSE20162': ['A0A3Q4L2Y8', 'Q9DCJ1'], 'PARTE36511': ['A0DQA5'], 'THAPS05895': ['B8CG44'], 'MOUSE47755': ['D3YW60', 'P60122', 'Q3U1C2', 'Q3UJN2'], 'DROME02678': ['Q9VKD3'], 'MOUSE42591': ['Q3UKJ7'], 'MOUSE00386': ['E9Q006', 'F8WIB1', 'P61211', 'Q14AC7', 'Q3TIR2', 'Q9D7H9'], 'CHLRE13829': ['A8IIN4'], 'CAPO306649': ['A0A0D2UH09'], 'DICDI08720': ['P90522'], 'DROME01355': ['Q9U9Q4'], 'MOUSE30432': ['P61514', 'Q3TLC1', 'Q3U8M3', 'Q4VAF2', 'Q9CYW3'], 'ARATH21190': ['A0A178VF52', 'A0A654FAL7', 'A0A7G2ENE8', 'Q9LI77'], 'PHYPA01063': ['A0A2K1KFW3'], 'THAPS02330': ['B8CB96'], 'TRYB204765': ['Q581V4'], 'TRYB201860': ['Q38F34'], 'DICDI03660': ['P36416'], 'AMPQE20849': ['A0A1X7V1T3'], 'NEUCR04549': ['Q1K5B2', 'Q9P3H7'], 'CAPO306502': [], 'ECTSI07222': ['D7G5C6'], 'DICDI12858': ['C7G061'], 'PARTE23522': ['A0DCX5'], 'ARATH30085': ['F4JTH0'], 'HUMAN99960': ['P08559', 'Q53GE3', 'Q5JPU2'], 'CHLRE06645': ['A8HNP3'], 'CHLRE05025': ['A8HYU2'], 'ACACA09940': ['L8GRK2'], 'DICDI11789': ['P34124'], 'PLAF704112': ['Q6LFH8'], 'CYAME01324': [], 'ACACA03688': ['L8HCK7'], 'ECTSI02318': ['D7G6B0'], 'DROME03864': ['Q9VPL0'], 'ACACA01542': ['L8HFY3'], 'ARATH22712': ['A0A178V791', 'Q9STT2'], 'AMPQE27680': ['A0A1X7VW31'], 'CYAME02274': [], 'DICDI12448': ['Q54BC6'], 'NEUCR06752': ['Q9HE25'], 'HUMAN17873': ['Q9NPF4'], 'CHLRE06829': ['A0A2K3E4X9'], 'THAPS04045': ['B8LD76'], 'CHLRE15337': ['A8J588'], 'NAEGR04790': ['D2VGS8'], 'HUMAN99449': ['P68371', 'Q8IWP6', 'Q8IZ29', 'Q8N6N5'], 'DROME03610': ['I0DHK3', 'P12881'], 'PHYPA04305': ['A0A2K1KAJ5'], 'THAPS06442': ['B8BXM4'], 'DICDI05228': ['Q1ZXI6'], 'NAEGR01131': ['D2VCJ0'], 'CAPO305268': ['A0A0D2WLE1'], 'PARTE14097': ['A0EBH5'], 'THAPS02271': ['B8CB37'], 'YEAST03805': ['A0A6A5PU12', 'P36015'], 'CHLRE12228': ['A8HS59'], 'THAPS09013': ['B8C572'], 'AMPQE21311': ['A0A1X7V3D3'], 'HUMAN77950': ['A0A2I6U1K5', 'A0A2I6U1Q3', 'A0A804HK05', 'A0A804HL81', 'A0A804HL84', 'A7UNU5', 'Q16134', 'Q547S8'], 'PARTE33479': ['A0C0M7'], 'MOUSE17870': ['P50247', 'Q3TF14', 'Q3U4D1', 'Q3U5U5', 'Q5M9P0'], 'PHYPA27604': ['A0A2K1K2L2'], 'YEAST06506': ['P22138'], 'NEUCR06424': [], 'ARATH06503': ['A0A178W7C4', 'A0A7G2E1R5', 'Q570X6', 'Q9SSR2'], 'PARTE25057': ['Q8WPW8'], 'CAEEL12092': ['Q18547'], 'HUMAN81124': ['D6RAW0', 'D6RFM0', 'P62837'], 'RETFI24242': ['X6P659'], 'CYAME03135': [], 'THAPS06783': ['B8BYL6'], 'PHYPA21136': ['A9SCS9'], 'MOUSE46569': ['A0A1S6GWI7', 'D3YWZ3', 'D3Z1S2', 'Q148S9', 'Q148T0', 'Q9CY21'], 'DROME12309': ['P53034'], 'NAEGR00019': [], 'AMPQE24201': ['A0A1X7VEE1'], 'ECTSI11328': ['D8LI35'], 'ARATH16083': ['A0A178VV44', 'A0A5S9X637', 'A0A654F268', 'A0A7G2EFD9', 'O22211', 'Q8LG07'], 'PARTE16407': ['A0E3Z9'], 'ARATH27526': ['A0A178V5T1', 'O23515'], 'RETFI30891': ['X6MJN0'], 'PARTE24206': ['A0DBG9'], 'DROME03454': ['M9PCC1', 'O18640'], 'CYAME03021': [], 'YEAST03372': ['P46957'], 'CHLRE14388': ['A8II42'], 'PARTE28242': ['A0CXW2'], 'CAPO303433': [], 'CYAME00799': [], 'TRYB202501': ['Q38D75'], 'CHLRE12902': ['A8IWL4'], 'ACACA14115': ['L8GHG3'], 'ECTSI00888': ['D7FPY6'], 'NAEGR13734': ['D2VA92'], 'CYAME00438': [], 'PHYPA29338': ['A0A2K1KP40'], 'PLAF704168': ['C6KSY6'], 'THAPS08773': ['B8C3R1'], 'DROME21378': ['C6SUV6', 'O16797'], 'CHLRE16424': ['A8JHX0'], 'CHLRE13715': ['A0A2K3DXM2'], 'CAPO301303': ['A0A0D2WLQ1'], 'CYAME00787': [], 'HUMAN98779': ['Q5SRE7', 'X6RCI6', 'X6RFQ9', 'X6RJK6'], 'HUMAN19397': ['P62333', 'V9HW24'], 'PARTE21932': ['A0DJV9'], 'MOUSE06081': ['A0A1S6GWH1', 'P62196'], 'DICDI11475': ['Q54E95'], 'MOUSE17684': ['D3YWH3', 'D3YZ23', 'D3Z1B9', 'P50516'], 'AMPQE08584': ['A0A1X7THB4'], 'HUMAN29517': ['B4DMP4', 'Q08AM6'], 'RETFI39677': ['X6MLI4'], 'NEUCR04506': ['P53659'], 'CAPO306014': [], 'ACACA04542': ['L8H5N4'], 'HUMAN71795': ['Q93099'], 'DICDI07951': ['Q54PN7'], 'YEAST05797': ['P13188'], 'ARATH34782': ['A0A178UJZ9', 'P57742'], 'NAEGR14570': ['D2VQR4'], 'NAEGR01483': ['D2VD54'], 'DROME13036': ['Q9W0M7'], 'MOUSE50204': ['P47856'], 'CAEEL00320': ['G4SRS5', 'Q71JP9'], 'PLAF700224': ['Q8IJV5'], 'NAEGR01366': ['D2V0G9'], 'TRYB202319': ['O15881', 'Q38DR4'], 'YEAST05840': ['P33330'], 'AMPQE24097': [], 'TRYB202549': ['Q38D21', 'Q963F4'], 'RETFI28409': ['X6LVZ1'], 'THAPS03905': ['B5YM58'], 'MOUSE26106': ['Q3U1J4'], 'PLAF700054': ['Q8I280'], 'DROME22468': ['Q9VCA5'], 'NEUCR06544': ['Q7S8V7'], 'MOUSE62490': ['Q91YU8'], 'AMPQE25467': [], 'ARATH21430': ['A0A178UA27', 'A0A178VJE9', 'A0A5S9YA13', 'A0A654G6Q7', 'Q9LSD0'], 'DICDI08420': ['Q54N97'], 'CAPO300828': ['A0A0D2U284'], 'YEAST02978': ['P23968'], 'CYAME00294': [], 'NEUCR03773': ['Q9P748'], 'AMPQE17204': [], 'NEUCR05676': ['Q7RWG7'], 'HUMAN15388': ['Q5JPE4', 'Q9UBQ0'], 'ARATH12644': ['A0A178VU56', 'A0A654EW41', 'O82662', 'Q8LAV0'], 'CYAME03492': [], 'PLAF702511': ['Q8ILG6'], 'CHLRE14763': ['A0A2K3DAG6'], 'ECTSI02349': ['D7G6E1'], 'HUMAN40740': ['B2RAR3', 'Q9BXR0'], 'PARTE33262': ['A0C010'], 'TRYB203650': ['Q57XN7'], 'ECTSI05032': ['D8LJI2'], 'DICDI09503': ['Q54K20'], 'CAPO300487': ['A0A0D2X0E4'], 'YEAST05433': ['P32074'], 'NAEGR04339': ['D2VFL3'], 'NAEGR01540': ['D2UY12'], 'CYAME01940': [], 'DICDI11662': ['Q54DM9'], 'AMPQE25816': ['A0A1X7VL06'], 'CAEEL12773': ['O16999'], 'TRYB206216': ['Q586U4'], 'RETFI39336': ['X6MHP6'], 'PLAF704296': ['C6KTB3'], 'DROME14644': ['P41042', 'X2JGM9'], 'ACACA04415': ['L8HAH1'], 'PARTE18024': ['A0DXT4'], 'NEUCR06783': ['Q1K7X3', 'Q9C2P1'], 'MOUSE50243': ['Q9D1M0'], 'NAEGR10176': ['D2VRL1'], 'CAPO306070': ['A0A0D2X2U8'], 'CAEEL04186': ['Q19328'], 'PHYPA18722': ['A9SJB1'], 'NAEGR15317': ['D2W333'], 'THAPS07483': ['B8BZ96'], 'DROME10344': ['Q9V5P6'], 'CAEEL12511': ['Q9NAM7'], 'AMPQE08053': ['A0A1X7TF19'], 'DROME15098': ['Q9XYU0'], 'MOUSE66080': ['Q8BLQ6', 'Q9DB50'], 'ARATH24386': ['A0A178UAV2', 'A0A654FJ05', 'A0A654FR40', 'A0A654G886', 'P42794'], 'CYAME04256': [], 'PHYPA15748': ['A0A2K1K7M1', 'A0A7I4EEZ1'], 'CYAME01902': [], 'DROME24083': ['A4V391', 'P12613'], 'HUMAN98394': ['P42766'], 'THAPS09733': ['B5YP88'], 'CAPO306796': ['A0A0D2WRL6'], 'HUMAN35618': ['A0A140VJS3', 'J3KRP2', 'J3QLH6', 'J3QSA9', 'P62195'], 'CAEEL05545': ['Q22018'], 'CAPO301778': ['A0A0D2VMP9'], 'NAEGR03050': ['D2VLT0'], 'TRYB202372': ['Q38DK9'], 'DICDI05022': ['Q54YE7'], 'ACACA01311': ['L8HH08'], 'ECTSI05416': ['D8LM67'], 'DICDI03592': ['Q553V1'], 'PHYPA29936': ['A0A2K1IMN2', 'A0A7I4CC45'], 'DROME16294': ['Q9W088'], 'ARATH15017': ['A0A178W1Q6', 'A0A5S9X3Z7', 'O64760'], 'PLAF704049': ['C6KSM5'], 'TRYB204741': ['Q580A4', 'Q8T6C2'], 'THAPS07309': ['B8C1D3'], 'HUMAN90958': ['A4D0V4', 'P47755', 'Q53GC7', 'Q53GE2'], 'PHYPA25487': ['A9RXE2'], 'CHLRE09960': ['A0A2K3DES7'], 'CHLRE10839': ['A8J7U7'], 'PLAF704409': ['C0H4L5'], 'DICDI08052': ['Q54PE0'], 'PLAF702255': ['Q8IM66'], 'CAEEL14680': ['Q22915'], 'NAEGR05538': ['D2VSC7'], 'NAEGR15507': ['D2V591'], 'HUMAN09328': ['A0A7P0T997', 'A0A7P0TAG1', 'A0A7P0TAX2', 'A0A7P0TBE2', 'P10515', 'Q86YI5'], 'YEAST01686': ['Q00578'], 'AMPQE23509': [], 'CAPO306326': ['A0A0D2X307'], 'NEUCR06291': ['Q872D2', 'V5ILA1'], 'PARTE13523': ['A0EE91'], 'PHYPA32331': ['A9RCB8'], 'YEAST04484': ['P53378'], 'CAEEL15436': ['Q19905'], 'ACACA11417': ['L8GQ69'], 'DROME10321': ['A1Z9G2'], 'TRYB200059': ['Q38CG6'], 'YEAST04014': ['Q12309'], 'DROME09051': ['Q9V5C6'], 'DROME22924': ['A0A126GUR6', 'Q95U38'], 'PHYPA22649': ['A0A7I4CYJ0', 'A0A7I4FJ71'], 'MOUSE50560': ['Q3V0N4', 'Q6PGF5', 'Q6ZQH0'], 'AMPQE26059': ['A0A1X7VLV7'], 'DROME07906': ['Q7KN90'], 'CAEEL01230': ['O44985'], 'DROME23422': ['A0A1B2AJC2', 'Q9VI10'], 'HUMAN49537': ['A0A494C0Q8', 'A0A494C0S8', 'A0A494C1D8', 'P06132'], 'YEAST03437': ['P38624'], 'CYAME03693': [], 'NAEGR00288': [], 'CYAME04257': [], 'CAEEL07995': ['P41992'], 'ECTSI07337': ['D8LU79'], 'ACACA02512': ['L8HG23'], 'HUMAN03486': ['A0A384MDW7', 'P30084'], 'ARATH24141': ['A0A1I9LSC8'], 'CAPO302456': ['A0A0D2X2T2'], 'DROME20922': ['A0A0B4KGP8', 'Q24208'], 'CAEEL05739': ['Q09591'], 'CAEEL05075': ['Q09533'], 'CAEEL04378': ['Q09530'], 'NEUCR05764': ['Q1K4R6'], 'PARTE16404': ['A0E3Z6'], 'CAPO306093': ['A0A0D2VQY3'], 'DICDI04147': ['P46793'], 'DROME17849': ['Q9VF56'], 'CHLRE11653': [], 'PARTE37979': ['A0CWR1'], 'THAPS02537': ['B8CBV3'], 'DICDI12910': ['C7G018'], 'CAPO301850': [], 'PARTE31311': ['A0CLF2'], 'ACACA00004': ['L8HKJ5'], 'ECTSI03674': ['D7G9B9'], 'NEUCR04678': ['Q1K4T0', 'Q873K4'], 'ARATH06356': ['A0A178WJ56', 'Q949Y0'], 'HUMAN52326': ['P42677'], 'CAPO301437': ['A0A0D2U7G7'], 'NAEGR04286': ['D2VD79'], 'CAPO308128': ['A0A0D2URY2'], 'MOUSE66250': ['P33609'], 'CYAME01402': [], 'THAPS03022': ['B8CD96'], 'DROME20178': ['Q9VGY8'], 'PLAF701606': ['Q8IEP5'], 'MOUSE58423': ['A0A077K846', 'Q3TZM9'], 'NEUCR05174': ['Q7S7F0'], 'ECTSI09099': ['D7G9H6'], 'RETFI37190': ['X6NGN7'], 'CAPO303458': [], 'YEAST03373': ['P47122'], 'CAEEL11548': ['Q17761'], 'CAPO304377': ['A0A0D2WYN2'], 'DROME25779': ['M9PI14'], 'NAEGR04371': ['D2VV50'], 'CHLRE04755': ['A8HVK4'], 'DROME25329': ['M9PH59', 'Q9VXX8'], 'MOUSE25843': ['A0A494BAJ9', 'P62488'], 'DROME05171': ['Q9VQZ6'], 'AMPQE23327': ['A0A1X7VCR8'], 'ARATH29691': ['A0A178UVV9', 'A0A5S9XXW5', 'A0A654FU08', 'Q9SU94'], 'THAPS07016': ['B8BWG3'], 'NAEGR01063': [], 'PHYPA01156': ['A9U3F0'], 'PHYPA23528': ['A9S3W8'], 'TRYB203229': ['Q57YL6'], 'MOUSE10857': ['E9Q866', 'Q8BU30'], 'ACACA00097': ['L8HJ84'], 'DROME21475': ['A0ANV4', 'A0ANV7', 'A0ANV9', 'A0ANW1', 'Q7KJV5', 'Q7KSM5', 'Q9VG70'], 'PLAF701124': ['Q8I5T4', 'Q8WSL5'], 'HUMAN97947': ['F5H2T0', 'O95163', 'Q4LE38', 'Q8N516'], 'CHLRE00489': ['A0A2K3DHL5'], 'NEUCR03097': [], 'DICDI08173': ['Q54NZ1'], 'PLAF704061': ['C6KSN5'], 'DICDI05457': ['P16168'], 'THAPS09326': ['B8C635'], 'DROME16597': ['Q9VTB3'], 'DICDI06627': ['Q54TN8'], 'PLAF702896': ['Q2PZH3', 'Q8IKF0'], 'ARATH26027': ['A0A178UYD4', 'Q9M0V3'], 'CAEEL05748': ['O17901'], 'RETFI14880': ['X6MZX5'], 'TRYB203021': ['Q580Z5'], 'NAEGR01061': ['D2VAI5'], 'AMPQE23913': ['A0A1X7VEB3'], 'DROME11325': ['Q7K3W2'], 'CHLRE13977': ['A0A2K3DAU6'], 'PHYPA01621': ['A9U1X8'], 'CAEEL06636': ['Q8WTL6'], 'PLAF703979': ['Q8I3J5'], 'ARATH38011': ['A0A178UGS1', 'A0A7G2FJI4', 'Q93ZR1'], 'HUMAN32134': ['P55039'], 'PARTE31513': ['A0CIH2'], 'PHYPA13407': ['A9SZD8'], 'YEAST04541': ['A0A8H4F898', 'P29453'], 'HUMAN76673': ['D6RFE4', 'P11766', 'Q2VIM7', 'Q5U043', 'Q6FI45', 'Q6IRT1'], 'CAEEL04187': ['Q19329'], 'CYAME00652': [], 'CAPO306072': ['A0A0D2UDQ5'], 'ARATH29848': ['A0A178UYG0', 'Q8L517'], 'CHLRE08527': ['A0A2K3CR25'], 'NEUCR06188': ['F5HC37', 'Q7SBZ5'], 'NAEGR15536': ['D2VM36'], 'YEAST02960': ['A0A6A5PTV6', 'P38805'], 'CAEEL15813': ['Q23651'], 'TRYB200091': ['Q38CD4'], 'TRYB206248': ['Q586R0'], 'CYAME03484': [], 'PHYPA10457': ['A9SFY4'], 'ARATH09406': ['A0A178WJL7', 'A0A7G2E5C5', 'Q9SGE9'], 'RETFI39476': ['X6LN33'], 'THAPS07829': ['B8C092'], 'PHYPA02626': ['A0A2K1K275'], 'ARATH33662': ['A0A178UJW9', 'Q9LF33'], 'NAEGR01415': ['D2V5R3'], 'ARATH35441': ['A0A178UAT4', 'A0A5S9Y7Q0', 'A0A654G4M8', 'A0A7G2FAT9', 'Q8VXX4'], 'ACACA11885': ['L8GL73'], 'CAEEL15715': ['Q20797'], 'DROME22043': ['Q9V3J4'], 'HUMAN98501': ['P30050', 'Q76P68'], 'NAEGR05044': ['D2VRX4'], 'THAPS02758': ['B8CCG7'], 'CYAME03514': [], 'HUMAN52746': ['B3KX11', 'E9PQ35', 'P49368', 'Q2TU64', 'Q59H77'], 'CAEEL02354': ['P49029'], 'CAPO304095': ['A0A0D2X5A4'], 'NAEGR15462': ['D2VNH1'], 'THAPS04979': ['B8BV71'], 'THAPS02235': ['B8CB01'], 'PARTE14307': ['A0EB06'], 'DROME16326': ['Q9W0S7'], 'THAPS06188': ['B8BWW6'], 'PLAF702754': [], 'CYAME01250': [], 'THAPS05306': ['B8BW47'], 'NEUCR06136': ['Q7S9Y9'], 'MOUSE45461': ['Q9CXI0'], 'RETFI33497': ['X6MNX8'], 'CAEEL05919': ['Q23451'], 'NAEGR13594': ['D2V6Z7'], 'CAPO300843': ['A0A0D2VHC5'], 'HUMAN73248': ['B3KT11', 'C9IY70', 'C9IZW9', 'C9J0B9', 'C9K0C2', 'Q96D46'], 'AMPQE26376': ['A0A1X7VPF3'], 'DICDI11764': ['Q54DD3'], 'HUMAN60802': ['Q7RTV0'], 'NEUCR06527': ['A7UWE1'], 'YEAST01148': ['P04819'], 'CAEEL08254': ['P34286'], 'CYAME01943': [], 'THAPS01770': ['B8LC61'], 'CAEEL11456': ['Q21926'], 'PHYPA08724': ['A0A2K1IHP1'], 'NEUCR04087': ['Q7RX28'], 'PLAF702591': ['Q549B9', 'Q7KQM2'], 'CAPO301425': ['A0A0D2WLZ0'], 'MOUSE28206': ['G5E866'], 'DROME04985': ['C5WLN8', 'Q9VLT7'], 'CAEEL16015': ['Q9XUP4'], 'PARTE08526': ['A0BRF7'], 'PLAF702435': ['Q8ILP1'], 'HUMAN84473': ['P62906', 'Q1JQ76'], 'CAEEL07499': ['Q18257'], 'CAPO301848': ['A0A0D2X1W9'], 'CAEEL07837': ['P51404'], 'AMPQE22484': ['A0A1X7V8F7'], 'ARATH29311': ['A0A384LFJ0', 'O81826', 'Q0WRA6'], 'THAPS08468': ['B8C2V5'], 'CYAME01506': [], 'AMPQE25036': [], 'NEUCR03590': ['F5HCG6', 'Q9P723'], 'ECTSI12212': ['D7FIW9'], 'TRYB204520': ['Q580K6'], 'MOUSE03513': ['E0CYN1', 'E0CYR7', 'E0CZ27', 'P84244'], 'ARATH19221': ['A0A178VHA2', 'Q9LHP1'], 'CAPO305246': ['A0A0D2U647'], 'THAPS09961': ['B5YMV8'], 'HUMAN89017': ['P60059'], 'CYAME01212': [], 'CAEEL02553': ['O18054'], 'AMPQE20948': ['A0A1X7V288'], 'THAPS00636': ['B8BR45'], 'MOUSE62882': ['Q9JMA2'], 'PLAF703302': ['O97247'], 'CAPO301669': ['A0A0D2U8A3'], 'PARTE27660': ['A0CZU2'], 'CHLRE07165': ['A2PZD3'], 'CYAME01776': [], 'HUMAN86108': ['A8K800', 'Q5VXN0', 'Q9H7B2'], 'NEUCR07269': ['Q7SDH0'], 'ARATH39567': ['A0A178ULL0', 'Q8LF32', 'Q9LST0'], 'DROME06386': ['E2QCG7', 'Q0E940'], 'AMPQE25682': ['A0A1X7VKK6'], 'CAEEL05279': ['Q27527'], 'PLAF703270': ['O97227'], 'CAPO305184': ['A0A0D2X1B5'], 'MOUSE07701': ['Q9CTH6'], 'HUMAN09272': ['P30154'], 'YEAST01080': ['A0A6A5PXN6', 'Q12009'], 'THAPS04955': ['B8BV47'], 'CAPO301335': ['A0A0D2WKQ8'], 'CAEEL08024': ['Q6AHR3'], 'ACACA14701': ['L8GCZ8'], 'ARATH32630': ['A0A178UIZ9', 'Q8LBT7', 'Q9FT93'], 'PLAF701768': ['Q8IE85'], 'PARTE07244': ['A0BVQ2'], 'PLAF705139': ['Q8I2X0'], 'YEAST06260': ['A0A6A5Q2Z5', 'P52917'], 'PLAF701142': ['Q8I5R8'], 'PARTE24628': ['A0D9B8'], 'NEUCR01642': ['Q7S2M9'], 'HUMAN85955': ['Q8WV93'], 'TRYB202052': ['Q38EI9'], 'HUMAN102769': ['A8MWP7'], 'DROME24395': ['H5V8A8', 'Q9VE09'], 'PHYPA19794': ['A0A2K1IFT0'], 'CYAME03371': [], 'NEUCR03611': ['Q8X0S4'], 'NAEGR01754': ['D2V2T6'], 'NEUCR06301': [], 'PHYPA24148': ['A9S2J6'], 'ARATH12214': ['A0A178VV99', 'A0A5S9WYQ9', 'A0A7G2E9R4', 'Q9SHL7'], 'CYAME03488': [], 'HUMAN05808': ['A0A140VK42', 'P17980', 'R4GNH3'], 'HUMAN91174': ['A0A140VK49', 'B2R5U1', 'B3KU67', 'B4E299', 'Q59FF0', 'Q7KZF4'], 'CAPO300898': [], 'ACACA01061': ['L8HGV0'], 'ACACA03018': ['L8HBA2'], 'ECTSI11602': ['D7FZ84'], 'DICDI09806': ['Q54J69'], 'ACACA00302': ['L8HJ08'], 'DICDI02173': ['Q55AR3'], 'AMPQE15656': [], 'THAPS08194': ['B8C231'], 'YEAST06128': ['A0A7I9GU03', 'P15303'], 'DROME17443': ['P54358'], 'PLAF704922': ['Q8IBB6'], 'PHYPA22182': ['A9S9L3'], 'PLAF704127': ['A0A3Q0PQB6', 'C6KSV0'], 'ACACA01554': ['L8HF89'], 'CYAME00811': [], 'PLAF701182': ['Q8I5N0'], 'PLAF703438': ['A0T1H2', 'O97285'], 'ARATH32604': ['A0A178UL96', 'Q9FE62'], 'CHLRE05004': ['A8HYC0', 'D5LB17'], 'DICDI08633': ['Q54MN3'], 'CAPO305853': [], 'CHLRE10559': ['A8I427'], 'NAEGR00658': ['D2UZT4'], 'THAPS08064': ['B8C1Q1'], 'CAPO302683': ['A0A0D2X3B3'], 'TRYB201311': ['Q388I4'], 'CAEEL05372': ['Q09545'], 'AMPQE25772': ['A0A1X7VKW0'], 'TRYB204420': ['Q57V58'], 'THAPS06437': ['B8BXL9'], 'PARTE25206': ['A0D7P3'], 'THAPS02900': ['B8CCW2'], 'CAEEL00435': ['O44991'], 'HUMAN100106': ['P32189'], 'ECTSI01880': ['D8LD80'], 'CHLRE16842': ['A8JGI9'], 'CAEEL06394': ['Q9U2A9'], 'PLAF702305': ['Q8IM19'], 'ARATH39250': ['A0A178UMV6', 'A0A654GC21', 'Q9LVM1'], 'DICDI11433': ['Q54EW8'], 'CAEEL10060': ['P16356'], 'THAPS08058': ['B8C1P5'], 'PLAF700168': ['Q8IK04'], 'NAEGR15478': ['D2VX15'], 'PHYPA27847': ['A0A2K1L373'], 'PHYPA06241': ['A0A7I4FT34', 'A9TMB2'], 'YEAST02659': ['A0A6A5PYF6', 'P39111'], 'NEUCR00031': ['Q7SEP1'], 'ACACA11007': ['L8GQ52'], 'YEAST03635': ['P05740'], 'HUMAN44633': ['M0QYM8', 'M0QYP2', 'M0R054', 'M0R286', 'Q9UBE0'], 'ECTSI06579': ['D8LR22'], 'DICDI10582': ['P14132'], 'DICDI11748': ['Q54DF9'], 'PARTE17683': ['A0E0J0'], 'PHYPA20876': ['A9SCD7'], 'NAEGR05052': ['D2VSB8'], 'CAEEL20059': ['Q20340'], 'CAEEL07714': ['A0A2K5ATU7', 'Q19087'], 'ECTSI01521': ['D7FKE3'], 'MOUSE06794': ['Q9CQW1'], 'HUMAN13868': ['F8VSD9', 'Q9UBP6'], 'PHYPA25511': ['A9RXG2'], 'PARTE04174': ['A0C6S9'], 'ACACA01328': ['L8HFV8'], 'CAPO305801': ['A0A0D2WNY4'], 'ACACA10586': ['L8GR74'], 'NEUCR01534': ['F5HHQ6', 'Q96TZ9'], 'ACACA10276': ['L8GR42'], 'ACACA13575': ['L8GIZ4'], 'HUMAN44676': ['M0R027', 'M0R058', 'P54920'], 'TRYB201124': ['Q389C2'], 'DICDI10060': ['Q54IF7'], 'CYAME03232': [], 'ECTSI02740': ['D8LT18'], 'DROME30572': ['Q8SYD7', 'Q9W3T2'], 'PHYPA07791': ['A9TGA9'], 'DROME00775': ['P15357', 'Q8IGR0'], 'MOUSE41621': ['A2AMU9', 'D6RCI7', 'Q9D0I8'], 'AMPQE23020': [], 'PLAF701482': ['Q8I4U5'], 'PLAF702075': ['Q8IDE7'], 'RETFI35741': ['X6MT54'], 'ARATH21000': ['A0A178VCU6', 'A0A654FAG2', 'Q9LK09'], 'MOUSE64575': ['Q61102'], 'PHYPA23693': ['A9S235'], 'CHLRE14317': ['A0A2K3DAV3'], 'ARATH24310': ['A0A178V6D3', 'A0A5S9XM13', 'Q94K73'], 'CAPO307366': ['A0A0D2WUQ6'], 'CAPO300862': ['A0A0D2VHE3'], 'THAPS08457': ['B8C2U4'], 'PLAF702130': ['C0H5J6'], 'TRYB205608': ['Q586H7'], 'ACACA12908': ['L8GJF0'], 'MOUSE52691': ['Q60676'], 'CYAME03938': [], 'DICDI10202': ['Q54I10'], 'CHLRE08232': ['A8JDZ8'], 'MOUSE57516': ['A0A1B0GSH4', 'Q9DB34'], 'PARTE10025': ['A0BKH2'], 'ACACA05185': ['L8H6B6'], 'HUMAN47820': ['A0A384MR50', 'B1AK87', 'B2R7T8', 'P47756'], 'AMPQE24299': ['A0A1X7VGA0'], 'AMPQE25820': ['A0A1X7VL10'], 'CAPO303711': ['A0A0D2WUC2'], 'NAEGR01610': [], 'MOUSE58364': ['A0A0R4IZW7', 'H3BKV3', 'H3BL70'], 'DICDI10905': ['Q54FX4'], 'MOUSE07458': ['Q9CZ28'], 'CAEEL01019': ['O01422'], 'RETFI29184': ['X6LSP0'], 'DROME11946': ['Q8MSW4'], 'ECTSI01333': ['D7G727'], 'ECTSI08633': ['D7FLX8'], 'ECTSI05757': ['D8LTG2'], 'YEAST00177': ['P38088'], 'DROME11660': ['Q95RV5'], 'ECTSI05597': ['D7FR60'], 'PARTE08334': ['Q3SDI8'], 'ECTSI10010': ['D8LQV4'], 'DROME02549': ['E8NH12', 'P91926'], 'NEUCR03605': ['P11592'], 'ECTSI05955': ['D8LMS2'], 'ARATH15815': ['A0A178VU46', 'A0A654F0F3', 'O04202'], 'MOUSE32349': ['A6PWZ2', 'O55135', 'Q3U740', 'Q3U818', 'Q3UA13', 'Q3UBJ6', 'Q545K4', 'Q9R071'], 'NAEGR00255': ['D2VGS7'], 'NAEGR05455': ['D2VE37'], 'YEAST06598': ['A0A6A5Q2W3', 'P41338'], 'NEUCR02456': ['Q6MFD6', 'Q7RVB2'], 'DROME20081': ['Q9VD29'], 'DROME26840': ['Q7KVX1', 'Q7YU05'], 'MOUSE60765': ['Q8BMF4'], 'NAEGR00316': ['D2VIP5'], 'NAEGR01538': ['D2UXX9'], 'THAPS09475': ['B8C4B1'], 'YEAST04250': ['A0A6A5PTB8', 'P07991'], 'THAPS00313': ['B8BQ72'], 'AMPQE23640': ['A0A1X7VD48'], 'CHLRE10422': ['A8J0N3'], 'NEUCR06586': ['Q6MWS8'], 'NAEGR04617': ['D2V7J7'], 'MOUSE42801': ['Q01853'], 'CHLRE02180': ['A0A2K3CXW0', 'A8HP17'], 'PARTE13110': ['A0EG74'], 'ECTSI00213': ['D8LBD6'], 'NAEGR01539': ['D2UY06'], 'MOUSE45042': ['E9Q9H2', 'P54103', 'Q3TRX6'], 'CAEEL08789': ['Q17389'], 'YEAST03758': ['P35999'], 'MOUSE14207': ['O55234'], 'PLAF704094': ['C6KSR8'], 'TRYB201565': ['Q38FY6', 'Q6KBS8'], 'YEAST01915': ['A0A6A5Q197', 'P40086'], 'THAPS00997': ['B8BS55'], 'PHYPA01635': ['A0A7I4E5U4', 'A9U245'], 'CHLRE13897': ['A8HZ87'], 'HUMAN53043': ['P53621'], 'ARATH10847': ['F4IPA6'], 'CYAME00710': [], 'MOUSE25208': ['Q3THS8', 'Q9JJT0'], 'DROME19413': ['Q0KHZ6', 'Q8MR58'], 'PARTE16039': ['A0E5B9'], 'CAPO305193': ['A0A0D2VKI7'], 'ACACA06347': ['L8H292'], 'YEAST03012': ['P38711'], 'ACACA12818': ['L8GJ54'], 'PARTE26300': ['A0D326'], 'MOUSE03508': ['P62983', 'Q642L7'], 'ACACA00564': ['L8HJP4'], 'NEUCR07308': ['Q9P3R9', 'V5IQA5'], 'DROME04107': ['Q8WSN4', 'Q9VIE7'], 'CAPO302830': [], 'AMPQE08071': ['A0A1X7TF28'], 'DROME21923': ['A0A0B4K5Z8'], 'CHLRE14820': ['A0A2K3DAC8'], 'AMPQE24982': ['A0A1X7VIM7'], 'ACACA11736': ['L8GMJ6'], 'CAPO301566': [], 'HUMAN51530': ['Q5TDG3', 'Q9UNX4'], 'PLAF702025': ['Q8IDJ7'], 'CAEEL02729': ['Q9U332'], 'PHYPA04708': ['A0A2K1IY56'], 'HUMAN96407': ['A0A1W2PPE1', 'A0A1W2PPG0', 'P23378'], 'DICDI05397': ['Q54XB5'], 'NAEGR13536': ['D2V5R0'], 'DICDI05956': ['Q54VN2'], 'THAPS09147': ['B8C5K6'], 'CAEEL14818': ['Q20157'], 'HUMAN25887': ['A6NDG6'], 'PHYPA20162': ['A0A2K1J4T6', 'A9SDV6', 'Q93YB3'], 'CAPO305384': ['A0A0D2VN83'], 'CHLRE10856': ['A0A2K3E3B4'], 'DROME16752': ['P25160'], 'AMPQE17818': ['A0A1X7UNN2'], 'DICDI08752': ['Q54MA6'], 'DICDI11887': ['Q54D07'], 'DICDI08073': ['Q54PB2'], 'CAPO304077': ['A0A0D2WXF7'], 'DROME19898': ['P61857'], 'NAEGR00107': [], 'THAPS07991': ['B8C0Q3'], 'NAEGR05446': ['D2VBF6'], 'ACACA14459': ['L8GF23'], 'MOUSE08250': ['Q99JT9'], 'DROME07281': ['Q7K1Q7'], 'THAPS01544': ['B8C8U6'], 'PLAF700170': ['Q8IK02'], 'DICDI10827': ['Q54G57'], 'NAEGR04389': ['D2W3B5'], 'DROME05784': ['Q7JWD3'], 'NAEGR01533': ['D2VJ29'], 'YEAST02849': ['A0A6A5PXC6', 'P23638'], 'NAEGR04272': ['D2UYF4'], 'PHYPA09492': ['A0A2K1KMW2'], 'NAEGR10089': ['D2VR43'], 'CHLRE02030': ['A8HP55'], 'PHYPA17810': ['A9SL50'], 'CHLRE00703': ['A8I7J8'], 'DROME17519': ['Q9VVI0'], 'AMPQE06992': ['A0A1X7TAX8'], 'CHLRE00599': ['A8IYZ2'], 'CYAME00524': [], 'RETFI28694': ['X6P8M4'], 'PARTE21044': ['A0DM52'], 'HUMAN84576': ['Q9Y3C6'], 'PARTE19879': ['A0DS96'], 'AMPQE17144': ['A0A1X7UKE8'], 'DICDI08454': ['Q54N83'], 'CAPO306132': ['A0A0D2X2W3'], 'ARATH24726': ['A0A178V6R9', 'P42742'], 'THAPS08484': ['B8C2X1'], 'PARTE23358': ['A0DDY7'], 'ARATH01370': ['A0A178WGM6', 'Q8L7N2'], 'NEUCR03925': ['Q7RY56'], 'MOUSE16580': ['P62918', 'Q3THC7', 'Q3UJS0'], 'AMPQE26645': [], 'ECTSI10865': ['D8LRP9'], 'THAPS10744': ['B8C7D6'], 'PARTE32714': ['A0C9U4'], 'ECTSI12167': ['D8LCT6'], 'PLAF702288': ['Q8IM36'], 'NEUCR01883': ['Q7SD84'], 'PARTE10773': ['A0BHN7'], 'MOUSE33750': ['Q6P4T2'], 'ACACA11252': ['L8GND6'], 'ECTSI07273': ['D7FJH0'], 'RETFI34973': ['X6P625'], 'ARATH39398': ['A0A178UBZ0', 'A0A7G2FHB4', 'P38421'], 'PARTE31981': ['A0CH22'], 'THAPS02696': ['B8CCA5'], 'CYAME03883': [], 'CAPO306035': ['A0A0D2WQG6'], 'CAEEL07870': ['P46502'], 'NAEGR00747': ['Q8WSG1'], 'PLAF700869': ['Q8II14'], 'PHYPA06955': ['A0A2K1L0M7', 'A0A7I4D5P3', 'A0A7I4D648'], 'CAEEL11346': ['Q18678'], 'TRYB205724': ['D6XG53', 'Q56TY6'], 'TRYB206720': ['Q4GYA9'], 'CAEEL19228': ['G5EFV8'], 'NEUCR00845': ['A0A0B0E6L8', 'A0A1J0D0Y0', 'A0A1J0D0Y1', 'A0A1J0D0Y3', 'P61859'], 'NEUCR03101': ['Q7S8L0'], 'RETFI35874': ['X6P2Z0'], 'ARATH28391': ['A0A178V001', 'A0A5S9XUK2', 'A0A654FRK7', 'Q8W586'], 'ARATH18142': ['A0A178VJ04', 'A0A5S9XAC6', 'A0A654F4Q7', 'Q9SEE5'], 'CHLRE13688': ['A8IWU0'], 'TRYB201488': ['Q387Q3'], 'THAPS00431': ['B8BQJ0'], 'MOUSE12658': ['P53798', 'Q3TS40'], 'ECTSI08185': ['D8LU47'], 'HUMAN61409': ['P62081'], 'PARTE37118': ['A0DGS3'], 'CAEEL07793': ['P48152'], 'NEUCR02034': ['O93798'], 'THAPS08394': ['B8C2N1'], 'ARATH39046': ['A0A178UUQ9', 'Q9LTR9'], 'ECTSI00525': ['D7FVX8'], 'DICDI12064': ['Q54CP4'], 'PHYPA02596': ['A9TY01'], 'DICDI04719': ['Q8T1V4'], 'TRYB205239': ['Q585F2'], 'MOUSE46672': ['Q3TYI2', 'Q6PI63'], 'CAPO305744': ['A0A0D2WNW1'], 'CYAME00740': [], 'CAPO302727': ['A0A0D2WRW3'], 'CAEEL19399': ['Q09508'], 'CHLRE12611': ['A8IRV6'], 'YEAST01193': ['A0A6A5Q270', 'P34087'], 'NAEGR00835': ['D2V4S3'], 'CAEEL09794': ['L8E6I4'], 'ECTSI06968': ['D7FN52'], 'AMPQE16276': ['A0A1X7UG61'], 'YEAST05575': ['P25847'], 'TRYB202774': ['Q57VM1'], 'DICDI11427': [], 'HUMAN100804': ['A0A384MR33', 'Q14683'], 'NAEGR09781': ['D2VPH9'], 'PARTE15227': ['A0E802'], 'HUMAN09922': ['B3KTV0', 'E9PK54', 'E9PLF4', 'E9PM13', 'E9PN25', 'E9PN89', 'E9PPY6', 'E9PQK7', 'E9PQQ4', 'E9PS65', 'P11142', 'Q53GZ6', 'Q96IS6', 'V9HW22'], 'HUMAN64466': ['F8WDR7', 'P61158'], 'ACACA07808': ['L8H0S1'], 'ACACA10657': ['L8GPW7'], 'ARATH02059': ['A0A5S9U677', 'Q9SAF1'], 'CAEEL08411': ['P30632'], 'PARTE27182': ['A0D0A5'], 'THAPS03292': ['B8LCJ1'], 'PLAF701860': ['A0T1H5', 'Q8IE01'], 'NEUCR04057': ['A7UWK7', 'Q6M986'], 'CAEEL14206': ['O16368'], 'MOUSE46798': ['Q8CD17', 'Q9JKC7'], 'ARATH29965': ['F4JRY2'], 'MOUSE55726': ['A0A1B0GS50', 'P29758', 'Q3TG75', 'Q3UJK5', 'Q3UKT3'], 'YEAST00624': ['A0A6L1AK88', 'P25586'], 'DROME01585': ['Q9VK89'], 'THAPS00477': ['B8BQN6'], 'ARATH33378': ['A0A178UPW5', 'A0A5S9Y482', 'A0A654G0S3', 'A0A7G2F9J8', 'Q9FNA4'], 'THAPS02660': ['B8CC69'], 'PARTE10348': ['A0BJI2'], 'HUMAN66306': ['A0A024R3V4', 'C9K058', 'Q9H2H8'], 'HUMAN102099': ['B7ZLQ5'], 'YEAST04388': ['A0A6A5PV37', 'Q12354'], 'AMPQE19985': ['A0A1X7UYB8'], 'DROME29546': ['O46090', 'Q9GQ87', 'Q9W541'], 'PARTE06992': ['A0BWH6'], 'NAEGR01224': ['D2VG53'], 'ECTSI05139': [], 'NAEGR01556': ['D2V2C9'], 'CHLRE05802': ['A0A2K3DMS1'], 'ACACA00243': ['L8HL75'], 'PHYPA17557': ['A0A2K1JQ66'], 'CHLRE07247': [], 'AMPQE17062': ['A0A1X7UKA2'], 'CAPO302172': ['A0A0D2X2L1'], 'PARTE21738': ['A0DJB3'], 'THAPS05461': ['B8CEV7'], 'CAPO307928': [], 'NAEGR01058': ['D2VAV7'], 'NAEGR01674': ['D2V434'], 'ECTSI10864': ['D8LRP8'], 'DROME18445': ['Q9VGQ9'], 'DROME18366': ['Q9VN50'], 'ACACA07443': ['L8GYW1'], 'MOUSE07740': ['A0A1Y7VJJ0', 'P14576'], 'NEUCR03619': ['Q1K845', 'Q8X0N7'], 'DICDI07945': ['Q54PP4'], 'CAEEL04359': ['P52057'], 'DROME07861': ['Q9W1F5'], 'ECTSI10573': ['D8LTY3'], 'THAPS08844': ['B8C3Y3'], 'CAPO300201': ['A0A0D2VFP8'], 'PARTE12054': ['A0BDD1'], 'PHYPA10106': ['A0A7I4DSW6', 'A9T9F7'], 'MOUSE02133': ['P63323'], 'ACACA01867': ['L8HFL4'], 'PLAF700472': ['Q8IJ69'], 'PHYPA15750': ['A9SSV0'], 'CYAME00386': [], 'DROME25054': ['P55830'], 'PLAF703431': ['O97323', 'Q0ZAF7'], 'NEUCR06171': ['Q7S920'], 'ECTSI09669': ['D8LDX4'], 'ARATH34354': ['A0A1P8BCJ5'], 'CAPO302696': ['A0A0D2VSF9'], 'PHYPA12462': ['A0A7I4E9R2', 'A9T238'], 'MOUSE33362': ['P61202', 'Q3UK65'], 'NEUCR06009': ['Q6MFL6'], 'NAEGR01360': ['D2V067'], 'CHLRE10911': ['A0A2K3E0H7'], 'CAEEL15341': ['Q17426'], 'AMPQE20218': ['A0A1X7UYR8'], 'PLAF701295': ['Q8I5C4'], 'DROME07046': ['A0A0B4LFD9', 'Q8T3U2'], 'DROME05713': ['Q9XZ68'], 'THAPS09618': ['B8C4Q4'], 'HUMAN20863': ['G3V3T7', 'Q9P2I0'], 'CAPO300867': ['A0A0D2U2F1'], 'PARTE34169': ['A0BPX6'], 'NEUCR01674': ['Q96TJ5'], 'HUMAN83003': ['O95363', 'R4GMX6'], 'DROME22871': ['A0A0B4JD11', 'Q9NJH0'], 'PLAF705066': ['C0H531'], 'MOUSE63704': ['A0A0G2JH14', 'Q8VDI4', 'Q9JK91'], 'CAEEL01646': ['Q95005'], 'ACACA06075': ['L8H4P8'], 'THAPS02356': ['B8CBC2'], 'DROME04017': ['M9PFB5', 'Q94899'], 'DICDI04306': ['Q7KWX9'], 'DROME26171': ['Q8SY96'], 'ARATH18811': ['A0A178V904', 'A0A5S9XCD9', 'A0A654FB98', 'Q0WNJ6'], 'CAPO304980': ['A0A0D2X169'], 'NAEGR01652': ['D2VIC3'], 'CAEEL06996': ['G5EBY6'], 'DICDI11659': ['Q54DN6'], 'PHYPA12514': ['A0A2K1ITM5', 'A0A7I4C013', 'A0A7I4C0H0', 'A0A7I4C5Z8', 'A0A7I4FD59'], 'HUMAN13398': ['P62854', 'Q75MH1'], 'PHYPA02258': ['A0A2K1JQD1'], 'DICDI01228': ['Q55DA6'], 'NAEGR14683': ['D2VSP0'], 'AMPQE26474': ['A0A1X7VNC8'], 'CYAME01997': [], 'MOUSE30850': ['A0A087WNX3', 'A0A087WS31', 'A0A087WSE6', 'A0A087WSU0', 'Q3U3I6', 'Q8CAJ7', 'Q9Z2W0'], 'CYAME02496': [], 'PHYPA30165': ['A0A2K1JUQ8'], 'DROME20623': ['P26019'], 'THAPS03958': ['B8LCY9'], 'ARATH10105': ['A0A178WPE4', 'O49048'], 'CHLRE01366': ['A0A2K3DKC3'], 'DICDI05913': ['Q54VT4'], 'PARTE00931': ['A0CRX7'], 'CAEEL12980': ['Q17335'], 'HUMAN11312': ['Q53GJ1', 'Q9H0S4', 'Q9H4E3'], 'DICDI08966': ['Q54LP3'], 'PLAF702037': ['Q8IDI5'], 'PARTE02699': ['A0CBP1'], 'CYAME04445': [], 'MOUSE05313': ['Q5SUR0'], 'PARTE13682': ['A0EDL6'], 'PHYPA08625': [], 'ECTSI06396': ['D8LF70'], 'PLAF703303': ['O97248'], 'PARTE37374': ['A0D6R6'], 'CYAME01681': [], 'ACACA12913': ['L8GJF7'], 'CYAME04727': [], 'AMPQE20367': [], 'CAPO307520': ['A0A0D2WVQ6'], 'CAEEL17888': ['Q9XVF7'], 'NEUCR01036': ['Q7S0H4'], 'PARTE19421': ['A0DTU4'], 'DROME06487': ['Q8T0L3'], 'ACACA02668': ['L8HBT0'], 'NEUCR07338': ['Q6MVN9', 'Q7SH06'], 'CAPO305516': ['A0A0D2WM79'], 'PHYPA10240': ['A0A2K1JCD9'], 'CAPO304691': ['A0A0D2WK48'], 'CYAME03577': [], 'MOUSE19769': ['A0A068BGT0', 'Q3V3A4', 'Q8C754'], 'THAPS05440': ['B8CET5'], 'ARATH22209': ['A0A178VKK0', 'A0A654FE03', 'A0A7G2ERI4', 'Q8W4D0'], 'ACACA09728': ['L8GST2'], 'YEAST04372': ['P32469'], 'CAPO300866': ['A0A0D2WI08'], 'CAPO305172': ['A0A0D2WK15'], 'ARATH10366': ['A0A384LM33', 'O23654', 'Q0WLF6'], 'PHYPA30173': ['A9RIM7'], 'MOUSE00707': ['D3YXU6', 'Q9Z120'], 'NAEGR01573': [], 'ARATH20261': ['A0A178VBY4', 'A0A5S9XDT0', 'A0A654FHI4', 'Q94A52'], 'YEAST06286': ['A0A8H4BUB1', 'P20053'], 'CHLRE09551': ['A8J8A6'], 'CYAME02759': [], 'NEUCR06303': ['A3RNH4'], 'HUMAN53608': ['P30041', 'V9HWC7'], 'ECTSI11059': ['D8LCF0'], 'YEAST02303': ['A0A8H8ULD4', 'P43621'], 'PLAF703892': ['A0A5K1K7U1'], 'YEAST04188': ['P10507'], 'PLAF700173': ['Q8IJZ9'], 'CAEEL14462': ['O17403'], 'YEAST02092': ['A0A6A5PZV5', 'P25515'], 'ECTSI10251': ['D7FJB9'], 'PHYPA30899': ['A9RG76'], 'PHYPA14368': ['A9SWP3'], 'CYAME01393': [], 'PHYPA16230': ['A9SQ72'], 'DICDI04322': ['Q7KWL3'], 'TRYB200286': ['Q38BT5'], 'DROME27089': ['E2QD65', 'P39018'], 'PHYPA06081': ['A0A2K1JKC2'], 'DICDI10315': ['P36967'], 'CAEEL07390': ['Q19311'], 'DICDI00371': ['Q55FU2'], 'HUMAN43826': ['A0A075B6E2', 'B0ZBD0', 'P39019', 'Q8WVX7'], 'ACACA12960': ['L8GIL6'], 'ECTSI10695': ['D7FKF0'], 'ECTSI07710': ['D7FVC8'], 'CAEEL15279': ['Q17820'], 'DROME03730': ['A4V0S1', 'Q24509'], 'CHLRE15488': ['A8IYP2'], 'ACACA02219': ['L8HDW2'], 'ACACA06492': ['L8H2M8'], 'CHLRE03286': ['A0A2K3CT09'], 'AMPQE27755': ['A0A1X7VWB8'], 'PHYPA12100': ['A0A2K1JLW1'], 'DROME27858': ['Q9W555'], 'PARTE24912': ['A0D8H2'], 'THAPS00294': ['B8BQ53'], 'NEUCR01662': ['Q7RV88'], 'CAPO302916': ['A0A0D2VSX2'], 'PLAF704420': ['Q8IC10'], 'DROME26197': ['Q9W401'], 'HUMAN49764': ['P30085'], 'HUMAN19906': ['G3V2S6', 'G3V341', 'G3V5S7', 'Q6PJ05', 'Q8N5Z9', 'Q9H3H0', 'Q9Y5K8'], 'CAEEL15514': ['P54412'], 'ECTSI02110': ['D7FX12'], 'PARTE33039': ['A0C5B8'], 'DICDI08190': ['Q54NZ5'], 'HUMAN98556': ['A0A0D9SEH5', 'A0A0D9SEP9', 'A0A0D9SFQ7', 'A0A0D9SFW6', 'A0A0D9SG72', 'B7Z1V5', 'P61764'], 'CAEEL02725': ['G5EFH0'], 'ECTSI10079': ['D8LH70'], 'PARTE37424': ['A0D6W6'], 'DICDI01584': ['Q55BM5'], 'ARATH23705': ['A0A1I9LME2'], 'ACACA08091': ['L8GWA7'], 'ACACA05678': ['L8H5V0'], 'PHYPA28792': ['A9RMR9'], 'CAPO303633': ['A0A0D2VX34'], 'DICDI12811': ['B0G104'], 'PARTE13954': ['A0EC49'], 'CAPO306730': ['A0A0D2UH95'], 'MOUSE03148': ['Q545G0', 'Q9R1P1'], 'HUMAN41229': ['A8K8L2', 'K7EJX9', 'K7EQY6', 'Q9NXH9'], 'YEAST00567': ['P18759'], 'CAEEL18359': ['Q19162'], 'NEUCR06619': ['Q9P567'], 'CHLRE11114': ['Q84UB2'], 'PARTE11798': ['A0BER0'], 'MOUSE46508': ['Q4KL82', 'Q9D0K3', 'Q9WUK4'], 'DICDI02243': ['Q55AH5'], 'PARTE37422': ['A0D6W4'], 'DICDI06702': ['Q54TR7'], 'CAPO303656': ['A0A0D2X4J7'], 'ACACA04724': ['L8H993'], 'PHYPA05413': ['A9TQQ5'], 'CAPO301319': ['A0A0D2WKP8'], 'HUMAN69139': ['A0A087WX20', 'A0A669KAW3', 'B2R6K0', 'F2Z298', 'H0Y818', 'P40692', 'Q53GX1', 'Q5GJ64'], 'THAPS09408': ['B8C444'], 'AMPQE25308': [], 'ECTSI10552': ['D8LTW2'], 'TRYB202306': ['Q38DS7'], 'NEUCR01481': ['Q1K8L2', 'Q9P665'], 'PARTE36355': ['A0DZD4'], 'ARATH37727': ['A0A178ULI7', 'A0A7G2FL84', 'F4K1S1'], 'CAEEL06444': ['Q17361'], 'YEAST02750': ['P22137'], 'YEAST03019': ['P29704'], 'ACACA05676': ['L8H6N0'], 'ARATH27785': ['A0A178V453', 'P49211'], 'CAEEL08098': ['Q95Y89'], 'CYAME02265': [], 'NAEGR00048': ['D2UY76'], 'CAEEL02603': ['G5EEG7'], 'CAPO305691': ['A0A0D2VP15'], 'TRYB205743': ['Q57VC9'], 'YEAST01493': ['P15436'], 'ARATH26379': ['A0A178UZN3', 'Q9T0G2'], 'CYAME04039': [], 'ARATH07421': ['A0A1P8AQS2'], 'HUMAN50379': ['P32929'], 'NAEGR15492': ['D2UZT5'], 'PHYPA01974': ['A9U0C2'], 'YEAST06222': ['P26637'], 'NEUCR00889': ['Q7SCC7', 'Q873B4'], 'ARATH09368': ['A0A178W221', 'A0A654EPW2', 'Q8W4G0', 'Q9C9D3'], 'ACACA02215': ['L8HG01'], 'MOUSE57466': ['Q8BH95'], 'ACACA11406': ['L8GMH4'], 'ACACA05315': ['L8H5G5'], 'CAEEL07641': ['Q27492'], 'HUMAN25556': ['H3BSH2', 'H3BSJ7', 'I3L2A3', 'Q9H6Q4'], 'AMPQE22719': ['A0A1X7V8H9'], 'CHLRE01426': [], 'CHLRE06435': ['A0A2K3D741'], 'NEUCR06534': ['Q7S869'], 'DROME16740': ['Q9VTP4'], 'CHLRE09178': ['A0A2K3CQM1'], 'ARATH09687': ['A0A5S9WUA2', 'Q9C912'], 'PHYPA15695': ['A0A2K1K7G0'], 'MOUSE37841': ['Q8BHB4'], 'PLAF704216': ['C6KT34'], 'HUMAN09517': ['O75312'], 'CAPO308035': ['A0A0D2X573'], 'ACACA00361': ['L8HI26'], 'NAEGR14015': ['D2VG05'], 'AMPQE17159': ['A0A1X7UJU1'], 'MOUSE45117': ['P62827', 'Q3ULW0'], 'TRYB202581': ['Q38CY8'], 'PLAF703940': ['Q8I3N3'], 'CHLRE16673': ['A0A2K3D2R4'], 'PARTE08041': ['A0BSL5'], 'DICDI09434': ['P20425'], 'YEAST04190': ['A0A8H4BX66', 'Q12220'], 'CYAME04330': [], 'DICDI03838': ['Q553L4'], 'CAPO301063': ['A0A0D2X0T7'], 'CYAME01498': [], 'DICDI01211': ['Q55DE2'], 'NEUCR00643': ['Q1K713', 'Q871F1'], 'CYAME04344': [], 'DICDI05350': ['Q54XI5'], 'PARTE02131': ['A0CEE4'], 'ACACA07893': ['L8GY13'], 'ACACA11390': ['L8GNF5', 'L8HBP0', 'L8HCP2'], 'DICDI07864': ['Q54PX9'], 'CAEEL05847': ['Q17514'], 'HUMAN96355': ['Q9Y2P8'], 'PHYPA20517': ['A9SDP4'], 'DROME29245': ['A0A0F6QCQ6', 'O46096', 'Q7K511'], 'MOUSE17439': ['A0A2I3BQD9', 'Q3TG21', 'Q9D9Z4', 'Q9Z1G3'], 'DROME10786': ['P23380'], 'CAPO303890': [], 'CAEEL14340': ['O45148'], 'CYAME03727': [], 'AMPQE23311': ['A0A1X7VC07'], 'PLAF703291': ['O97241'], 'PLAF705295': ['Q8I2H7'], 'PLAF702822': [], 'CAEEL05689': ['P54002'], 'CAEEL07862': ['Q22797'], 'DICDI04839': ['Q54YZ0'], 'ECTSI10956': ['D8LQA0'], 'DICDI03140': ['Q86A68'], 'ARATH18860': ['A0A178VPF0', 'A0A654F629', 'F4J6A8', 'Q9CAY2'], 'ECTSI11403': ['D7FSK9'], 'PHYPA04904': ['A9TSC0'], 'NAEGR05358': ['D2W323'], 'NEUCR04211': [], 'YEAST06049': ['A0A6A5Q672', 'P33297'], 'DICDI02560': ['Q86IJ1'], 'CAPO308203': ['A0A0D2W0P8'], 'THAPS03166': ['B8CDP0'], 'ECTSI05076': ['D8LJM6'], 'HUMAN27521': ['A0A384ME17', 'P49411'], 'NEUCR02201': ['Q7SAB3'], 'CAPO304030': ['A0A0D2X588'], 'TRYB204567': ['Q582Q0'], 'HUMAN78662': ['Q969S3'], 'MOUSE13355': ['Q3U6C7', 'Q3UCC6', 'Q9Z2I9'], 'NAEGR01447': ['D2V9W9'], 'CAPO308113': ['A0A0D2URW9'], 'CHLRE14978': ['A0A2K3DTX2'], 'ACACA07505': ['L8GY53'], 'PLAF702200': ['Q8ID28'], 'YEAST00347': ['P38203'], 'NEUCR02041': ['Q7SFJ9'], 'CAPO302914': ['A0A0D2X3G6'], 'CAEEL08520': ['P34580'], 'DICDI08721': ['B0M0P5'], 'ARATH39915': ['A0A178UJV6', 'A0A5S9YH05', 'A0A654GDJ8', 'A0A7G2FP89', 'Q9C5Y4'], 'NAEGR13134': ['D2UXZ9'], 'THAPS02625': ['B8CC34'], 'NAEGR04310': ['D2VY23'], 'CAEEL09721': ['Q95XJ0'], 'NEUCR01652': ['Q7S156'], 'DROME15866': ['Q94522'], 'PHYPA01233': ['A0A2K1K8F7'], 'ECTSI10255': ['D7FV53'], 'THAPS02833': ['B8CCP1'], 'HUMAN50580': ['Q9H9Y2'], 'ECTSI09795': ['D7FT02'], 'DICDI02615': ['Q86B14'], 'NAEGR04271': ['D2UXZ1'], 'PARTE20266': ['A0BCG4'], 'NAEGR11239': ['D2VX81'], 'ARATH20560': ['A0A178V7N4', 'A0A5S9XEI9', 'A0A654FBA3', 'A0A7G2ES18', 'Q9LVF2'], 'CAEEL15839': ['Q20822'], 'DROME12583': ['B7Z0G1', 'Q02870'], 'ACACA08458': ['L8GWI1'], 'RETFI15570': ['X6MIX3'], 'PHYPA09632': ['A0A2K1J8W8'], 'DROME06042': ['Q7KKI0'], 'DICDI06697': ['Q54TE7'], 'NEUCR03341': ['P20285'], 'NAEGR00893': [], 'ARATH15770': ['A0A178VW16', 'O22287'], 'CYAME00217': [], 'MOUSE17483': ['O09173', 'Q8CI38'], 'HUMAN49510': ['P62241', 'Q5JR94'], 'DROME11057': ['Q7JYV7'], 'CHLRE12822': ['A0A2K3DX58'], 'CYAME02949': [], 'ARATH40282': ['A0A178UAD2', 'A0A5S9YH32', 'A0A654GE44', 'Q94AH2'], 'CAEEL07667': ['P49196'], 'YEAST06459': ['P05744'], 'PARTE11830': ['A0BEU2'], 'ARATH20009': ['A0A178V732', 'A0A5S9XD98', 'Q9LV21'], 'PLAF703600': ['Q8I1U8'], 'MOUSE48236': ['D3YYA5', 'P56399'], 'CAPO302636': ['A0A0D2WQJ1'], 'ACACA11033': ['L8GNW6'], 'NEUCR00585': ['Q7SCP8'], 'ECTSI06063': ['D7FZ70'], 'YEAST01261': ['P32771'], 'CYAME03726': [], 'CHLRE00524': ['A0A2K3DHY7'], 'ACACA01044': ['L8HHT4'], 'DICDI09677': ['Q54JK4'], 'HUMAN55719': ['A0A2R8Y3W6', 'A0A2R8Y4D6', 'A0A2R8YCC9', 'A0A2R8YEW1', 'B2R6D7', 'B5BUH5', 'P68400', 'Q5U5J2', 'V9GY80', 'V9GYA2', 'V9GYW6'], 'PHYPA10186': ['A9TEP4'], 'ECTSI00883': ['D7FPY1'], 'CHLRE14825': ['A0A2K3D9E8'], 'TRYB201755': ['Q38FD9', 'Q38FE4'], 'DICDI11798': ['Q54DB1'], 'NEUCR04198': [], 'CHLRE15908': ['A8IJQ4'], 'YEAST00734': ['A0A6A5Q5M3', 'P25627'], 'ARATH01232': ['A0A5S9T906', 'A0A654E847', 'F4HW04'], 'AMPQE12042': ['A0A1X7TY60'], 'THAPS09187': ['B8C5P6'], 'AMPQE21582': ['A0A1X7V4L6'], 'THAPS02831': ['B8CCN9'], 'THAPS03596': ['B8CEA4'], 'HUMAN66231': ['Q96GW9'], 'NEUCR04322': [], 'ARATH32216': ['A0A178U8Y5', 'A0A5S9Y1S1', 'A0A7G2FB90', 'Q9FI94'], 'ARATH39849': ['A0A178U844', 'A0A654GEA1', 'Q9FH46'], 'ARATH35422': ['A0A178UHP9', 'A0A7G2FFG5', 'Q9C5Z1'], 'CAPO305397': ['A0A0D2U9I7'], 'MOUSE49147': ['Q9CZD3'], 'YEAST01553': ['P32381'], 'CYAME04896': [], 'CAPO306371': ['A0A0D2X319'], 'MOUSE12762': ['Q9CZX0'], 'PARTE11801': ['A0BER3'], 'YEAST01156': ['A0A8H8UMD1', 'Q12055'], 'TRYB202427': ['Q38DE9', 'Q38DF0', 'Q38DF2', 'Q38DF3'], 'ARATH17914': ['Q8RY11'], 'CAPO307394': ['A0A0D2X4B6'], 'AMPQE21121': ['A0A1X7V3T0'], 'PHYPA26606': ['A0A7I4EH85', 'A9RUJ8'], 'PLAF703802': ['Q8I413'], 'CAEEL14712': ['Q965S3'], 'PARTE36949': ['A0DGA3'], 'PHYPA02895': ['A9TY50'], 'CAEEL09863': ['O44451'], 'TRYB204039': ['Q582L2'], 'PARTE13163': ['A0EF94'], 'ECTSI07775': ['D8LFF2'], 'ECTSI11728': ['D7FM69'], 'CHLRE00566': ['A0A2K3DHP2'], 'MOUSE43105': ['B1AWH6', 'Q3ULS2', 'Q8CG48'], 'DICDI02197': ['Q55AR8'], 'CAEEL06404': ['Q9U294'], 'THAPS01674': ['B8LBW5'], 'CAEEL09323': ['Q69Z13', 'Q86D12', 'Q8WQE5', 'Q9XUS4', 'Q9XUS5', 'Q9XUS6'], 'ARATH17073': ['A0A178VMD4', 'A0A654F412', 'B9DFH4', 'P93033'], 'HUMAN17004': ['A0A2R8Y5P6', 'A0A2R8Y6Y7'], 'ECTSI12001': ['D7FYT6'], 'CHLRE16377': ['A8J597'], 'NEUCR01338': ['Q7S954'], 'ECTSI10048': ['D8LH39'], 'DICDI03861': ['Q553B6'], 'ARATH16842': ['A0A178VYY9', 'O82346'], 'ACACA08664': ['L8GXR0'], 'DROME18953': ['E1JIT4', 'Q9VCZ8'], 'NAEGR01413': ['D2V547'], 'DICDI04975': ['Q54YL9'], 'ARATH39693': ['A0A178UDA4', 'A0A5S9YFX5', 'Q8GY84'], 'DICDI04685': ['Q54ZH1'], 'ACACA06166': ['L8H2P4'], 'HUMAN08255': ['E9PJN9', 'E9PSF4', 'P23396'], 'ECTSI08077': ['D7FZB3'], 'NEUCR03321': ['Q7S8K0'], 'HUMAN30983': ['P28072', 'Q6IAT9'], 'DICDI01777': ['Q55E21'], 'CHLRE05396': ['A0A2K3DQA6'], 'CAEEL00222': ['Q95XN2'], 'TRYB204366': ['Q582T0'], 'CYAME03594': [], 'HUMAN84055': ['A0A024RCN6', 'A0A140T936', 'A0A1U9X9A1', 'A0A1U9X9A3', 'A0A1U9X9C1', 'A0A1U9X9C4', 'A0A1U9X9C7', 'A0A1U9X9C8', 'A0A1U9X9D5', 'A2ABF4', 'P26640'], 'MOUSE57668': ['P62313', 'Q542U7'], 'HUMAN41135': ['B4DEE5', 'O43681'], 'NEUCR04320': ['Q7SBD3'], 'ACACA12187': ['L8GLL4'], 'DROME14638': ['Q9V3G1'], 'DICDI09298': ['Q54KR5'], 'DICDI04165': ['Q551M2'], 'CYAME00801': [], 'DROME01749': ['Q9VK69'], 'CHLRE10056': ['A0A2K3E3W0'], 'PARTE30578': ['A0CNA9'], 'DICDI05236': ['O00835'], 'TRYB200133': ['Q38C91'], 'DROME05724': ['O97121', 'Q7JXZ2'], 'DROME09495': ['Q7K7A9'], 'PARTE29452': ['A0CSS2'], 'PHYPA07116': ['A0A2K1LAK6'], 'THAPS07281': ['B8C1A5'], 'THAPS03891': ['B5YM44'], 'NAEGR10557': ['D2VTI7'], 'NAEGR04951': ['D2VNW1'], 'PARTE37115': ['A0DGS0', 'Q4UJ86', 'Q4UJ87'], 'CHLRE10685': ['A8IAJ1'], 'PHYPA04683': ['A9TS83'], 'DROME03576': ['Q9VJ33', 'X2J935'], 'THAPS05275': ['B8BW16'], 'CAEEL05894': ['G5EE46'], 'CAPO300587': ['A0A0D2WIS8'], 'ECTSI09524': ['D7FMK9'], 'NEUCR03483': ['Q01233'], 'PHYPA25503': ['A9RXF5'], 'NAEGR01909': ['D2V007'], 'PHYPA13626': ['A9SYR9'], 'TRYB202093': ['Q38EE3'], 'HUMAN13592': ['A0A9L9PXM3', 'B2RBY4', 'P49642', 'Q53F98'], 'PARTE10146': ['A0BKU6'], 'ARATH37341': ['A0A178UCC1', 'A0A7G2FKI1', 'Q8LGH4'], 'CYAME04914': ['Q9ZZR2'], 'CAEEL05091': ['P41988'], 'ARATH36956': ['A0A178URC5', 'Q96533'], 'HUMAN37385': ['B2RD79', 'J3KS55', 'J3QQT6', 'P54578'], 'CYAME03668': [], 'AMPQE25917': ['A0A1X7VMT0'], 'TRYB200980': ['Q389R7'], 'DROME27445': ['H0RNM5', 'Q9W3C1'], 'NEUCR05985': ['Q6M936', 'Q7S699'], 'MOUSE57936': ['A1L3B8', 'P26516'], 'TRYB204303': ['Q57ZA2'], 'DROME30512': ['E1UIA5', 'Q9V405'], 'CHLRE08343': ['A8JIJ1'], 'AMPQE18075': ['A0A1X7UQ40'], 'CAEEL17597': ['G5EDY2'], 'CYAME04708': [], 'AMPQE19957': ['A0A1X7UWW9'], 'NEUCR00639': ['O59953'], 'YEAST03365': ['P47117'], 'THAPS00293': ['B8BQ52'], 'AMPQE19546': ['A0A1X7UWS4'], 'THAPS10579': ['B8C6X0'], 'THAPS04778': ['B8BUM0'], 'THAPS04312': ['B8BTA3'], 'AMPQE28206': ['A0A1X7VV84'], 'CAEEL02126': ['O61741'], 'RETFI37974': ['X6P147'], 'ACACA09163': ['L8GUN4'], 'NAEGR04296': ['D2VKF7'], 'HUMAN38449': ['A0A087WWH0', 'A0A087WXM6', 'A0A087WY81', 'J3KRB3', 'J3KRX5', 'J3KSJ0', 'J3QQT2', 'J3QS96', 'P18621'], 'DICDI04503': ['Q76NW2'], 'TRYB203344': ['Q57YR9'], 'ACACA02122': ['L8HET6'], 'CAPO307513': ['A0A0D2UMT6', 'A0A0D2WUH8'], 'TRYB205014': ['Q583H5'], 'PARTE15339': ['A0E8B6'], 'PLAF701648': ['Q8IEK5'], 'NAEGR00020': ['D2V9P0'], 'CHLRE11798': ['A0A2K3CZ51'], 'MOUSE30081': ['P62900', 'Q5M9K9', 'Q9CY93'], 'PLAF703057': ['O96145'], 'THAPS10959': ['B8C801'], 'ARATH02056': ['A0A178WBI5', 'A0A5S9U724', 'A0A654EAG9', 'A0A7G2DQF4', 'Q0WVH7', 'Q9SAE9'], 'NAEGR00573': ['D2UXP0'], 'NEUCR05766': ['Q7RWF9', 'Q871L8'], 'YEAST01227': ['P52490'], 'THAPS01426': ['B8C9L4'], 'CAPO303538': ['A0A0D2WV91'], 'CAPO300996': ['A0A0D2WIA4'], 'PHYPA01734': ['A9U1I5'], 'CAEEL00244': ['O01969'], 'DICDI12081': ['Q54C70'], 'ACACA11160': ['L8GNS0'], 'PHYPA20166': ['A0A2K1JIZ4'], 'ACACA06482': ['L8H2L6'], 'PLAF701861': ['Q8IE00'], 'CYAME04775': [], 'DROME04962': ['Q9VKB4'], 'CHLRE11820': ['A0A2K3D0E5'], 'CAEEL09414': ['Q9TYJ7'], 'CYAME00780': [], 'ACACA03266': ['L8HBG2'], 'DROME06999': ['P21914'], 'CAEEL04819': ['Q23400'], 'PARTE30361': ['A0CPQ1'], 'CAPO304007': ['A0A0D2WWJ7'], 'ACACA02659': ['L8HCQ8'], 'PARTE30770': ['A0CNV3'], 'THAPS07704': ['B8BZW7'], 'PARTE26353': ['A0D379'], 'CAEEL06023': ['Q9NA81'], 'HUMAN46643': ['M0R0F0', 'P46782', 'Q53G25'], 'PLAF702721': ['Q8IKW5'], 'CAPO305585': ['A0A0D2UAA0'], 'PHYPA20454': ['A0A2K1J4Z2'], 'YEAST02047': ['A0A6A5PX41', 'P33331'], 'PLAF705164': ['Q8I2U5'], 'MOUSE57808': ['Q9CXK8'], 'CAPO301384': ['A0A0D2VLJ7'], 'CHLRE10249': ['A8J0P9'], 'DICDI08482': ['Q54N47'], 'NAEGR04298': ['D2VLW4'], 'MOUSE38975': ['Q7TND5'], 'ACACA06698': ['L8H3E1'], 'CYAME03783': [], 'PHYPA10436': ['A9T8M3'], 'PLAF703758': ['Q8I0X1'], 'THAPS01538': ['B8C8U0'], 'AMPQE23525': ['A0A1X7VCM2'], 'ACACA00099': ['L8HMN7'], 'PHYPA07932': ['A0A2K1KZG5'], 'HUMAN47307': ['A0A024R4F1', 'A0A2R8Y6I8', 'A0A2R8Y879', 'A0A2R8YEM5', 'K7EM90', 'K7ERS8', 'P06733'], 'ARATH33515': ['A0A178ULJ1', 'A0A5S9Y4E5', 'Q9LYK7'], 'YEAST02832': ['A0A6A5PXN2', 'P32379'], 'AMPQE26982': ['A0A1X7VQE9'], 'DROME13305': ['Q9VTZ4'], 'HUMAN66820': ['P61513'], 'AMPQE16565': ['A0A1X7UHR3'], 'DROME09609': ['Q4QQB8', 'Q7KK96'], 'PARTE03193': ['A0CAF2'], 'DICDI05844': ['Q54VZ4'], 'PLAF700613': ['Q8IIR8'], 'CAEEL00896': ['O02639'], 'PLAF700881': ['Q8II01'], 'HUMAN64072': ['B2R4C1', 'C9JU56', 'P62899'], 'HUMAN84058': ['Q9Y333'], 'HUMAN06648': ['E9PIU7', 'E9PS03', 'P62487'], 'PARTE37699': ['A0BIC4'], 'TRYB200855': ['Q38A55'], 'CHLRE16156': ['A8IKZ2'], 'MOUSE08238': ['P62082', 'Q4FZE6'], 'PLAF702166': ['Q8ID59'], 'DROME17367': ['Q9VNP8'], 'ECTSI11842': ['D7G402'], 'HUMAN40572': ['Q9NQ55'], 'MOUSE16055': ['Q6PAC3'], 'ARATH36807': ['A0A178UH77', 'A0A654G7H5', 'Q9SEI3'], 'DROME17590': ['Q9VW26'], 'THAPS09201': ['B8C5R0'], 'CHLRE10356': [], 'NAEGR00769': ['D2V2U6'], 'AMPQE18244': ['A0A1X7UQR9'], 'CAPO306631': ['A0A0D2UGZ4'], 'AMPQE18604': ['A0A1X7USN2'], 'ARATH10644': ['A0A178WEZ9', 'Q9M8L4'], 'NAEGR14100': ['D2VHX3'], 'NAEGR01704': [], 'ARATH29160': ['A0A384LIW9', 'Q0WRN2', 'Q9STR1'], 'THAPS04470': ['B8BTR1'], 'AMPQE22109': ['A0A1X7V721'], 'RETFI11462': ['X6LVH5'], 'MOUSE27035': ['Q5M8M3', 'Q9DCG9'], 'AMPQE23789': ['A0A1X7VF60'], 'DICDI09855': ['P15112'], 'ACACA14388': ['L8GEU6'], 'PLAF703433': ['O97282'], 'PLAF700866': ['Q8II17'], 'MOUSE27768': ['Q6ZWV7'], 'YEAST00340': ['A0A6A5Q0P3', 'P23724'], 'NEUCR06879': ['Q7S745'], 'TRYB201871': ['Q38F23'], 'MOUSE51625': ['Q8BFR5'], 'NEUCR06457': ['P31413'], 'PLAF702598': ['Q7KQM1'], 'HUMAN80998': ['A0A384P5G6', 'A0A7I2V2G2', 'A0A7I2YQB2', 'B7Z4V2', 'P38646', 'Q8N1C8', 'V9HW84'], 'MOUSE28905': ['A0A087WNS6', 'A0A087WRD9', 'Q6DFW4'], 'CYAME03575': [], 'YEAST01159': ['P15180'], 'ARATH28543': ['A0A178V4Q2', 'A0A7G2F056', 'O49653'], 'CAEEL04623': ['Q19433'], 'CHLRE16129': ['A0A2K3D1T9'], 'PHYPA09274': ['A0A2K1KPA6', 'A9TBZ2'], 'PARTE19696': ['A0DT77', 'Q3M0W3', 'Q3M0W8'], 'MOUSE39581': ['Q3UZC4', 'Q8C2G3', 'Q8R3H9'], 'TRYB200473': ['Q38B94'], 'CYAME00392': [], 'RETFI37728': ['X6NXT5'], 'ECTSI06461': ['D8LGA9'], 'AMPQE25072': ['A0A1X7VKP0'], 'CAEEL08319': ['Q05036'], 'ARATH01037': ['A0A178W5C0', 'P0DI19', 'Q0WMV8'], 'AMPQE15260': ['A0A1X7UC20'], 'MOUSE03366': ['G3UYV3', 'Q64520'], 'PLAF701938': ['C0H5G3'], 'DROME08959': ['A1Z6H6', 'Q8T8Q1'], 'CAPO307777': ['A0A0D2WWP6'], 'NEUCR01622': ['Q7S2L0'], 'NEUCR05191': ['Q7S0G9'], 'CAPO306354': ['A0A0D2UEG9'], 'ACACA08786': ['L8GVI7'], 'ECTSI08691': ['D7G5I8'], 'DICDI06299': ['P34119'], 'PHYPA21963': ['A9SA41'], 'CYAME01694': [], 'DICDI06736': ['Q54TC2'], 'ACACA10970': ['L8GRI4'], 'DROME09061': ['Q7KMQ0'], 'CAEEL05910': ['Q19130', 'Q95QM8'], 'THAPS02529': ['B8CBU5'], 'PHYPA02655': ['A0A2K1KEY3'], 'DICDI03704': ['Q869N1'], 'PHYPA31970': ['A9RDX1'], 'ACACA03319': ['L8HCZ4'], 'ECTSI02156': ['D7FX58'], 'YEAST05109': ['A0A6A5Q3Z6', 'P51401'], 'YEAST01235': ['A0A6A5PZL3', 'Q03768'], 'PARTE35680': ['A0E607'], 'NEUCR06760': ['Q9C2L8'], 'ARATH15370': ['A0A178VNW7', 'Q9ZUT9'], 'MOUSE52788': ['P35550', 'Q3UJS2'], 'ARATH16850': ['A0A384L026', 'B9DGS3', 'Q0WVZ3', 'Q38884'], 'MOUSE37743': ['P80318', 'Q3U4U6', 'Q3UJP4'], 'DICDI08567': ['Q54MT0'], 'ARATH18927': ['A0A178VGX5', 'Q9SF16'], 'MOUSE39726': ['Q3UJL7', 'Q543H0', 'Q64674', 'Q8BSZ8'], 'NAEGR15482': ['D2W000'], 'CHLRE13286': ['A8J7C8'], 'YEAST04627': ['Q04693'], 'NAEGR01629': ['D2VE33'], 'YEAST03391': ['P42943'], 'HUMAN29070': ['B2R7M1', 'P61421'], 'TRYB200266': ['Q38BV6', 'Q9NDH8'], 'CAPO304104': ['A0A0D2X5A6'], 'CAEEL08017': ['P49197'], 'AMPQE08858': ['A0A1X7TII6'], 'THAPS01252': ['B8C940'], 'MOUSE50095': ['Q9D1K2'], 'MOUSE04335': ['Q9CQ80'], 'THAPS06631': [], 'YEAST01115': ['P19358', 'T2A536'], 'HUMAN41105': ['M0R1T2'], 'DROME28013': ['C5WLN1', 'Q9VYA0'], 'DICDI07097': ['Q54S83'], 'ECTSI02111': ['D7FX13'], 'PLAF703932': ['C0H4F7'], 'HUMAN55417': ['A0A0S2Z4C3', 'P07954'], 'CHLRE02467': ['A8JAP7'], 'TRYB203481': ['Q57TZ7'], 'NEUCR03335': ['Q7SD07'], 'MOUSE39173': ['Q8C483'], 'ARATH20772': ['A0A178V8C4', 'A0A5S9XF62', 'A0A654F9U8', 'A0A7G2ENK8', 'F4J2T9', 'Q9LS91'], 'DICDI00971': ['Q55BM4'], 'CAEEL02904': ['Q9XUV0'], 'CHLRE15986': ['A8J5E0'], 'ARATH20061': ['A0A178VFJ2', 'A0A5S9XEX9', 'A0A654F8E8', 'O24617'], 'CHLRE07733': ['A0A2K3E6E9'], 'PARTE21745': ['A0DJC0'], 'MOUSE12434': ['Q9JKB1'], 'NEUCR06803': ['Q1K7B7', 'Q9C2H7'], 'THAPS06549': ['B8BXY1'], 'THAPS10497': ['B8C6N8'], 'NAEGR01496': ['D2VFE4'], 'ARATH09590': ['A0A178WHG8', 'Q8W117'], 'PHYPA31333': ['A0A2K1ICW0'], 'DICDI04915': ['Q54YW8'], 'CAEEL07488': ['A0A2K5ATU0', 'Q18217'], 'YEAST01153': ['P39078'], 'YEAST03790': ['P22515'], 'THAPS07554': ['B8BZG7'], 'CHLRE03717': ['A0A2K3DJF9'], 'YEAST01688': ['P10363'], 'CHLRE13883': ['A8ID63'], 'YEAST05103': ['P0CX49', 'P0CX50'], 'HUMAN41963': ['A0A140VK73', 'J3QRY0', 'Q9NPH2'], 'YEAST04202': ['P49166'], 'DROME09658': ['A1Z8U0'], 'ECTSI06429': ['D7G3B7'], 'CAEEL04290': ['Q18237'], 'PARTE03335': ['A0CA67'], 'NEUCR06163': ['Q7S929'], 'AMPQE23146': ['A0A1X7VB60'], 'NEUCR06286': [], 'CAPO308150': ['A0A0D2X5G1'], 'PARTE35679': ['A0E606'], 'CAPO301524': ['A0A0D2U7V4'], 'YEAST02638': ['P53202'], 'NAEGR04275': [], 'PHYPA04294': ['A0A2K1KAL0'], 'PHYPA21822': ['A9S8R5'], 'YEAST01033': ['A0A6A5Q7K2', 'P32324'], 'YEAST01404': ['A0A6A5Q2A7', 'P15454'], 'HUMAN44830': ['F8VUA6', 'G3V203', 'Q07020'], 'TRYB202082': ['Q38EF6'], 'HUMAN14228': ['P78371', 'V9HW96'], 'MOUSE46134': ['D3YXP9', 'O70475', 'Q3TJ71', 'Q3TJE8', 'Q3TS38', 'Q3UIZ1'], 'NEUCR06471': [], 'ARATH33392': ['A0A178UMY3', 'Q9FKI4'], 'ACACA08637': ['L8GYZ0'], 'PHYPA11275': ['A0A2K1KJW6'], 'HUMAN79567': ['Q13888', 'R4GMV2'], 'ECTSI02388': ['D7FJX2'], 'CYAME02074': [], 'ARATH19297': ['A8MRZ7'], 'HUMAN16751': ['P40938', 'Q53HK8', 'Q5U0C2'], 'TRYB202342': ['Q38DN9'], 'AMPQE19442': ['A0A1X7UVI1'], 'NAEGR05434': ['D2V522'], 'CAPO308021': ['A0A0D2WWE0'], 'THAPS09934': ['B5YMT1'], 'DROME09778': [], 'MOUSE28950': ['D3Z369', 'Q4V9X1', 'Q9JJA4'], 'PLAF701259': ['Q8I5F9'], 'CHLRE07934': ['A0A2K3E6D5'], 'NEUCR02549': ['Q7S028'], 'MOUSE36457': ['Q3U763', 'Q8CG47'], 'DROME11796': ['Q9W2N0'], 'NEUCR06352': ['Q7S604'], 'YEAST06247': ['Q06106'], 'CAPO305591': ['A0A0D2VNQ6'], 'NAEGR01473': ['D2VC39'], 'CYAME03008': [], 'ACACA10719': ['L8GT20'], 'AMPQE20061': ['A0A1X7UYM2'], 'NEUCR00861': ['Q1K6V2', 'Q871I6'], 'PARTE11922': ['A0BDZ9'], 'HUMAN41156': ['O75792', 'Q6IBG3', 'Q6UQL6'], 'PARTE17097': ['A0E193'], 'NEUCR00917': ['Q8X092'], 'DICDI04767': ['Q86KU2'], 'NEUCR00236': ['Q7SFZ4'], 'ECTSI06555': ['D7FT80'], 'RETFI23702': ['X6LX66'], 'CAPO307447': [], 'DROME14544': ['Q9VSF4'], 'CHLRE07126': ['A0A2K3E539'], 'YEAST03286': ['P0CS90'], 'THAPS04478': ['B8BTR9'], 'CHLRE08745': ['A0A2K3CP32'], 'TRYB206039': ['Q57UF3', 'Q57X54'], 'CAPO304817': ['A0A0D2WKJ9'], 'ACACA03957': ['L8H955'], 'MOUSE06334': ['Q3U8F5', 'Q9D8W5'], 'TRYB205898': ['Q57ZU2'], 'NAEGR01646': ['D2VGU4'], 'PHYPA04290': ['A9TT18'], 'ECTSI07912': ['D7G1V0'], 'NAEGR00881': ['D2V5V4'], 'NAEGR05327': ['D2W225'], 'PARTE33200': ['A0BZU7'], 'CYAME04639': [], 'PLAF702918': ['Q8IKC9'], 'AMPQE25822': ['A0A1X7VNW1'], 'CYAME01827': [], 'PHYPA24927': ['A0A7I4BX43', 'A9RZT5'], 'CAEEL08010': ['P49181'], 'DROME08304': ['Q7K0Y1'], 'NAEGR03145': ['D2VNB2'], 'PHYPA09291': ['A9TC13'], 'NAEGR09268': ['D2VLQ9'], 'NAEGR01372': ['D2V1F4'], 'ARATH35262': ['A0A178UDQ9', 'A0A654G4G7', 'O04905'], 'TRYB202524': ['Q38D47'], 'CAEEL11742': ['Q19366'], 'CHLRE03407': ['A0A2K3CVB0'], 'DICDI06890': ['Q54SV8'], 'PHYPA13424': ['A9SZF6'], 'HUMAN03294': ['A0A140VJQ4', 'P04181'], 'NEUCR01609': ['Q7SD66'], 'PHYPA22709': ['A9S6L9'], 'NEUCR07522': ['Q1K900', 'Q96VU7'], 'PARTE32437': ['A0C915'], 'TRYB203484': ['Q57VV0'], 'MOUSE35842': ['P12970', 'Q58ET1', 'Q5EBG5', 'Q6P1A9', 'Q80UT7'], 'THAPS00063': ['B8BSU9'], 'TRYB204832': ['Q583J8'], 'PARTE10075': ['A0BKM4'], 'THAPS02231': ['B8CAZ7'], 'PHYPA25935': ['A9RWR2'], 'TRYB202898': ['Q57XC5'], 'RETFI38799': ['X6NAG2'], 'NEUCR04492': ['Q873H9'], 'CAEEL10259': ['G5EEH6'], 'NAEGR00717': ['D2V1S6'], 'YEAST00233': ['A0A6A5Q4X6', 'P38219'], 'THAPS07943': ['B8C0K5'], 'PARTE36011': ['A0DYD7'], 'PARTE31354': ['A0CLJ6'], 'AMPQE05281': ['A0A1X7T319'], 'CHLRE00768': ['A8JCG5'], 'YEAST04361': ['A0A6A5PS64', 'P21801'], 'CYAME03260': [], 'AMPQE20837': ['A0A1X7V2D9'], 'ECTSI04658': ['D7FZS1'], 'MOUSE20547': ['O35900', 'Q3U9X2'], 'NAEGR04687': ['D2VBK4'], 'CYAME02549': [], 'PLAF704514': ['Q8IBR6'], 'PHYPA12416': ['A0A2K1IZH8'], 'PLAF702297': ['Q8IM27'], 'CHLRE08969': ['A8J6K9'], 'MOUSE52328': ['Q9R1T2'], 'CHLRE00431': ['A0A2K3DGZ2'], 'MOUSE02736': ['D3YTQ9', 'P62843', 'Q3UK70'], 'CAEEL02073': ['Q95008'], 'NAEGR11440': ['D2VYC2'], 'DICDI09489': ['Q54K47'], 'CYAME00508': [], 'PARTE05376': ['A0C2B5'], 'CHLRE01762': ['A8JC21'], 'YEAST02881': ['A0A6A5PV85', 'P48363'], 'TRYB200601': ['F4NCC2', 'Q38AW2'], 'CYAME04828': [], 'ACACA10108': ['L8GRY6'], 'DICDI09657': ['Q54JM5'], 'PARTE30816': ['A0CM05'], 'PLAF705102': ['Q8I306'], 'PHYPA16518': ['A9SPF1'], 'PHYPA13886': ['A9SYA1'], 'HUMAN62043': ['Q53RZ9'], 'YEAST02314': ['P38989'], 'AMPQE27679': ['A0A1X7VU33'], 'NEUCR03928': ['Q7RY59'], 'CYAME01858': [], 'HUMAN23005': ['H0YND3', 'H0YNR7', 'Q01415'], 'ECTSI03460': ['D8LIZ8'], 'CAEEL07295': ['P50444'], 'ECTSI09226': ['D7G2L4'], 'PARTE13543': ['A0EEB1'], 'ECTSI11989': ['D7FYS4'], 'TRYB201226': ['Q388S0'], 'PARTE10391': ['A0BJM5'], 'DICDI08214': ['Q54NW6'], 'ACACA04995': ['L8H5V8'], 'ACACA02288': ['L8HD25'], 'CHLRE07270': ['A8HQI6'], 'DICDI04873': ['Q54Z24'], 'ACACA13694': ['L8GIQ2'], 'PLAF703912': ['Q8I3Q7'], 'CAEEL08847': ['O17919'], 'HUMAN63501': ['A8K4W7', 'B2R8A1', 'P53597', 'Q6IAL5'], 'MOUSE26731': ['Q1HL32', 'Q6P5E5', 'Q9CW03'], 'CYAME01695': [], 'PARTE05434': ['A0C2H4'], 'MOUSE24822': ['Q9JMA1'], 'NEUCR06582': ['P11593'], 'RETFI27909': ['X6PCH5'], 'CYAME00758': [], 'CHLRE16274': ['A0A2K3D577'], 'CYAME02395': [], 'CYAME03762': [], 'PHYPA24707': ['A9RZ40'], 'NAEGR05021': ['D2VQZ1'], 'THAPS05483': ['B8CEY0'], 'CYAME01715': [], 'YEAST00308': ['A0A6A5Q1M9', 'P38061'], 'CAEEL10706': ['P48156'], 'MOUSE07270': ['Q9CPS7'], 'CAPO303486': ['A0A0D2X4G0'], 'NEUCR06840': ['Q9C270'], 'ARATH38096': ['A0A178UM82', 'A0A654GAS7', 'Q38799'], 'CAEEL02597': ['O62106'], 'YEAST05226': ['Q00955'], 'ACACA10328': ['L8GRZ9'], 'HUMAN92501': ['E9PJG4', 'P37268', 'Q6IAX1'], 'MOUSE12019': ['P49722', 'Q3UWT6', 'Q8BKE0', 'Q9CZ58'], 'RETFI29520': ['X6NJE8'], 'PARTE35936': ['A0DY60'], 'CAEEL15487': ['Q19967'], 'CYAME04251': [], 'ARATH38705': ['F4K1U5'], 'ARATH13571': ['A0A178VUE6', 'A0A1P8AXX7', 'O82808'], 'NEUCR07449': ['Q6MVQ7', 'Q7RV38'], 'YEAST02159': ['A0A6A5Q017', 'P32481'], 'MOUSE57718': ['P61222', 'Q3TIU8', 'Q3TJM9', 'Q3UHY8', 'Q6NXX7'], 'RETFI35299': ['X6LFS5'], 'YEAST04872': ['Q04493'], 'CHLRE11125': ['A0A2K3DF68'], 'NAEGR04307': ['D2VXL3'], 'NAEGR13946': ['D2VEW4'], 'HUMAN88742': ['A0A087WWF6', 'A0A8V8TMJ5', 'A0A8V8TPA6', 'B4DP28', 'C9IZD2', 'H7C1B3', 'P49005'], 'PHYPA20857': ['A9RTN5', 'A9SCC8'], 'ECTSI04337': ['D8LDI0'], 'YEAST05245': ['P38629'], 'CAPO307060': ['A0A0D2X441'], 'THAPS00195': ['B8BT81'], 'PARTE06328': ['A0BYH4', 'Q3SEP7'], 'AMPQE13931': ['A0A1X7U6G0'], 'CYAME04390': [], 'MOUSE37178': ['E0CY23', 'P48722'], 'THAPS05216': ['B8BVV7'], 'TRYB203346': ['Q57YR7'], 'PHYPA21071': ['A9SCL8'], 'DROME18685': ['A0A0B4KHL2', 'Q8I0G5'], 'NEUCR07265': ['Q7SDG6'], 'DICDI08231': ['Q54NU0'], 'MOUSE10410': ['J3QMX2', 'Q3TKD0'], 'PLAF704412': ['C0H4L8', 'Q8IAJ9'], 'PARTE19004': ['A0DVD0'], 'DICDI07601': ['Q54QQ0'], 'CAEEL03541': ['Q9N4J8'], 'PARTE24162': ['A0DBC5'], 'CYAME03775': [], 'ECTSI06353': ['D7FWP4'], 'PHYPA11602': ['A9T4H0'], 'NEUCR07235': ['Q7S0G3'], 'CAEEL05873': ['Q23126'], 'NAEGR04353': ['D2VNS1'], 'PARTE17689': ['A0E0J6'], 'PARTE33919': ['A0BP73'], 'CAEEL00781': ['O44750'], 'CYAME01284': [], 'ECTSI10886': ['D7FWI9', 'D7G4I2'], 'MOUSE23492': ['P49135', 'Q3U3I5'], 'PARTE22029': ['A0DIM8'], 'YEAST05848': ['A0A6A5Q8D3', 'P53549'], 'CYAME01227': [], 'PARTE29833': ['A0CQ28'], 'DICDI12084': ['P90526'], 'CAEEL02713': ['Q9U1Q4'], 'PHYPA07315': ['A0A2K1J6S7', 'A0A7I4B500', 'A0A7I4BBN8'], 'PARTE14719': ['A0E9W6'], 'CYAME02462': [], 'YEAST05230': ['A0A6A5Q3Q1', 'P05750'], 'CAPO307068': ['A0A0D2VVB5'], 'PHYPA14611': ['A9SUY4'], 'CHLRE02491': ['A0A2K3CYC9'], 'NAEGR04456': ['D2V0Z5'], 'CHLRE03749': ['A0A2K3DZN2'], 'THAPS07220': ['B8C145'], 'NEUCR03834': ['U9W2Y4'], 'MOUSE65132': ['Q05DE7', 'Q6PGB8'], 'NEUCR00219': ['Q7SFX7'], 'CAEEL08580': ['P34471'], 'ECTSI08930': ['D8LNE0'], 'DICDI07738': ['Q54QA0'], 'DROME12168': ['P40304'], 'CYAME02868': [], 'NAEGR00795': ['D2V3K8'], 'NEUCR00234': ['Q7SFZ2'], 'HUMAN63077': ['C9J8Q1', 'F8W9P7', 'Q9UMS0'], 'ECTSI07015': ['D7G033'], 'DICDI05149': ['Q54XX3'], 'ACACA05035': ['L8H5Z7'], 'CAEEL18702': ['Q19123'], 'PARTE38392': ['Q6BG32'], 'AMPQE23490': ['A0A1X7VBR7'], 'NAEGR01687': ['D2VBL0'], 'PLAF703278': ['O97231'], 'DICDI11510': ['Q54E49'], 'CAEEL08142': ['P34662'], 'MOUSE61480': ['Q921Y2'], 'DROME14409': ['O76331', 'Q86PD5', 'Q9VRV8'], 'DROME28025': ['M9PGI3', 'Q27884'], 'TRYB205615': ['P19800', 'Q4FKG9'], 'PLAF703980': ['Q8I3J4'], 'CAPO303713': ['A0A0D2UNW7'], 'PLAF702543': ['C6S3I4'], 'ECTSI02847': ['D8LRR0'], 'ECTSI11452': ['D7FGS7'], 'RETFI36930': ['X6MLB2'], 'NEUCR03978': ['Q6M9G5', 'Q7RWB2'], 'MOUSE15073': ['P61924', 'Q542M2', 'Q8R3M1'], 'THAPS00351': ['B8BQB0'], 'DICDI03752': ['Q86IE2'], 'PARTE08724': ['A0BQ90'], 'PHYPA03124': ['A0A2K1LAN4'], 'PARTE18811': ['A0DUT6'], 'CAPO300905': ['A0A0D2U2L5'], 'ARATH23896': ['A0A178VFX8', 'A0A5S9XL54', 'Q9M2T9'], 'MOUSE19045': ['Q545N8', 'Q9D1M5', 'Q9DCE3', 'Q9Z2M7'], 'TRYB201803': ['Q38F91'], 'RETFI13567': ['X6NI65'], 'PHYPA07099': ['A0A2K1LAJ9'], 'MOUSE21699': ['A0A338P7C0', 'O09061', 'Q6RI64'], 'ECTSI03564': ['D7G4W6'], 'PHYPA18811': ['A9SI85'], 'AMPQE21851': [], 'PARTE23559': ['A0BE24'], 'DROME27150': ['Q9W3B2'], 'ACACA01106': ['L8HGY8'], 'DICDI09277': ['Q54KR1'], 'CAEEL01606': ['Q21735'], 'NAEGR01699': ['D2VK78'], 'DROME20126': ['Q9XYZ5'], 'CAEEL05159': ['Q19713'], 'CAEEL01945': ['O02328'], 'TRYB200878': ['Q38A32'], 'ACACA06771': ['L8H0J1'], 'PHYPA00683': ['A0A2K1L8N0'], 'YEAST01890': ['A0A6L0YA22', 'P25451'], 'PHYPA04862': ['A9TRV2'], 'DICDI09390': ['Q54KD8'], 'PHYPA17131': ['A0A2K1IX27'], 'PARTE34607': ['A0BJ79'], 'ECTSI08433': ['D8LKM7'], 'THAPS07381': ['B8BYZ2'], 'YEAST02232': ['P43619'], 'NAEGR04289': ['D2VFR1'], 'CYAME02727': [], 'CYAME04301': [], 'ECTSI04063': ['D7FPB2'], 'CAPO300618': ['A0A0D2U1J8'], 'PLAF701666': ['Q8IEI4'], 'PLAF703163': ['O96236'], 'CAPO301719': ['A0A0D2U8I3'], 'TRYB200437': ['Q38BD0'], 'NAEGR00559': ['D2UXJ4'], 'THAPS08056': ['B8C1P3'], 'PLAF702894': ['Q8IKF2'], 'NAEGR05408': ['D2UXU9'], 'CHLRE10658': ['A0A2K3E0J3'], 'CAPO306008': ['A0A0D2WN75'], 'DROME29341': ['P45888'], 'DICDI08461': ['Q54N72'], 'NAEGR14462': ['D2VP13'], 'TRYB204817': ['Q581Q2'], 'HUMAN48615': ['Q13347', 'Q53HU7', 'Q5TFK1', 'Q5U0F4'], 'PHYPA15737': ['A0A2K1K7K0'], 'THAPS06365': ['B8BXE6'], 'THAPS06721': ['B8BYF4'], 'PHYPA27284': ['A0A2K1KKV4'], 'TRYB202754': ['P17959', 'Q57VP3'], 'CYAME01388': [], 'THAPS06443': ['B8BXM5'], 'CAPO307204': ['A0A0D2X472'], 'CAEEL08933': ['B2FDA8'], 'CYAME02641': [], 'DICDI07992': ['Q54PK4'], 'CHLRE10909': [], 'THAPS09974': ['B5YMD7'], 'PHYPA03244': ['A0A7I4CQ26', 'A0A7I4CU93', 'A9TVZ2'], 'AMPQE13620': ['A0A1X7U5A4'], 'CYAME04500': [], 'YEAST02808': ['A0A8H8UKY7', 'P00924'], 'MOUSE34055': ['P70700', 'Q6P9Q2'], 'MOUSE05753': ['O08847', 'P08775'], 'HUMAN03132': ['J9R021', 'Q14152', 'Q24JU4'], 'THAPS01276': ['B8C964'], 'DICDI05193': ['Q54YG5'], 'TRYB204837': ['Q583J3'], 'CAPO305798': ['A0A0D2X2A6'], 'PLAF704779': ['Q8IAX5'], 'YEAST00329': ['P09436'], 'CHLRE06631': ['A0A2K3DVC2', 'A8J2Z9'], 'DICDI09893': ['Q54IZ9'], 'HUMAN30751': ['Q2NL82'], 'CAPO304328': [], 'ECTSI08580': ['D8LLC4'], 'PARTE14769': ['A0EA16'], 'THAPS06945': ['B8BW92'], 'DROME04138': ['P50882', 'X2JDU0'], 'ARATH36565': ['A0A178UCR1', 'A0A5S9Y9W4', 'Q38861'], 'ECTSI00502': ['D7FVV5'], 'PHYPA07714': ['A9TGT2'], 'HUMAN21192': ['A0A024R6K8', 'G3V227', 'G3V277', 'G3V2C0', 'G3V2F2', 'G3V313', 'G3V339', 'G3V3H8', 'G3V3P2', 'G3V3R3', 'G3V3S7', 'G3V3X0', 'G3V3Y5', 'G3V423', 'G3V456', 'G3V4C7', 'G3V4N8', 'G3V4S4', 'G3V5H5', 'G3V5U1', 'G3V5W1', 'P23381', 'P78534'], 'NEUCR00473': ['Q7S8R8'], 'MOUSE52727': ['P54775', 'Q3TFA5', 'Q3TJ97', 'Q3TUN5', 'Q569X4', 'Q8BKU2'], 'ACACA06235': ['L8H1X4'], 'CAPO300839': ['A0A0D2WHY9'], 'THAPS10914': ['B8C7V6'], 'MOUSE15636': ['Q3U343', 'Q91VY9'], 'RETFI38653': ['X6PDI9'], 'HUMAN24720': ['H0YKI9', 'H0YKY7', 'H0YNW8', 'Q7Z2Z2'], 'DICDI00948': ['P90529'], 'CHLRE14011': ['A8ICJ1', 'Q6V9B2'], 'DICDI06358': ['C5NM72', 'Q54UG4'], 'HUMAN99300': ['A0A994J5K1', 'Q10713'], 'THAPS02123': ['B8CAN7'], 'CAPO305854': ['A0A0D2UB67'], 'PHYPA23003': ['A9S5N6'], 'DROME28632': ['E1JJM9', 'P48149'], 'CAEEL01651': ['Q93339'], 'ARATH32653': ['A0A178UJ45', 'Q9FNN5'], 'CHLRE08426': ['A8JDD2'], 'CHLRE16694': ['A0A2K3D3K4'], 'PARTE09550': ['Q3SDI9'], 'DICDI05371': ['Q54XF2'], 'TRYB202947': ['Q57YZ8'], 'DROME08970': ['P32234'], 'NAEGR04318': ['D2UXJ7'], 'DROME10457': ['A0A0B4K7Z5', 'Q7KLV9'], 'THAPS09642': ['B8C4S8'], 'NAEGR01737': [], 'CAEEL00868': ['O01757'], 'PHYPA26563': ['A9RUF1'], 'DICDI02687': ['Q86A21'], 'PARTE18177': ['Q3SEQ6'], 'DROME29212': ['P46223', 'X2JCS6'], 'ACACA02513': ['L8HDT5'], 'NAEGR01363': ['D2V0B3'], 'PLAF703305': ['O97250'], 'AMPQE21069': ['A0A1X7V2A4'], 'PLAF703170': ['O96243'], 'MOUSE19115': ['P10630', 'Q52KC1'], 'DICDI00947': ['P36415'], 'PARTE03175': ['A0CAD4'], 'ARATH02370': ['A0A178W2A6', 'F4HXZ1'], 'PARTE03287': ['A0CA19'], 'CYAME04761': [], 'THAPS02845': ['B8CCQ3'], 'ARATH35847': ['A0A178UPN0', 'A0A654G5Q1', 'P0DKC3', 'P0DKC4'], 'HUMAN57822': ['P63220', 'Q6FGH5', 'Q8WVC2'], 'CAEEL09633': ['Q95Y25', 'U4PC78'], 'NEUCR06751': ['Q9HE26'], 'NEUCR04682': ['Q1K4S7', 'Q873K9'], 'HUMAN61511': ['P31350'], 'PARTE20173': ['Q3SDT3'], 'DROME00245': ['P23128'], 'YEAST01271': ['Q07478'], 'CHLRE00793': ['A0A2K3DJ87'], 'CHLRE03856': ['A0A2K3DZM1'], 'CHLRE12794': ['A8IXE0'], 'ARATH34637': ['A0A178UA90', 'A0A5S9Y688', 'A0A654G358', 'A0A7G2FCY5', 'F4K9W6', 'Q84W10', 'Q8LE46', 'Q9FK90'], 'DICDI07368': ['Q54RC4'], 'YEAST06219': ['A0A6A5Q3I2', 'P06197'], 'AMPQE22476': ['I1G293'], 'YEAST04017': ['P25039'], 'TRYB200005': ['Q38CM1'], 'ECTSI02754': ['D8LDT2'], 'ECTSI04291': ['D8LQ20'], 'NAEGR12106': ['D2W1Z5'], 'CYAME01875': [], 'THAPS07471': ['B8BZ84'], 'YEAST03386': ['P11986'], 'DROME05560': ['Q9VPY8'], 'RETFI18025': ['X6P7P9'], 'RETFI18992': ['X6P000'], 'MOUSE13251': ['A0A0R4J1Y3', 'E0CYK9', 'E0CYN9', 'E9QMF4', 'Q3UQ67', 'Q58EU1'], 'YEAST03061': ['P0CX35', 'P0CX36'], 'PLAF703562': ['Q9U0J4'], 'CAEEL08798': ['A7LPF3', 'Q20364'], 'ARATH08014': ['A0A178W8M8', 'A0A5S9WT70', 'A0A7G2E2Y0', 'F4I3P5', 'Q84WB8', 'Q9CAD1'], 'NAEGR14974': ['D2VXB4'], 'YEAST00026': ['P39727'], 'YEAST02096': ['A0A6A5PZU3', 'P32628'], 'MOUSE43914': ['Q3THC1', 'Q9CR00'], 'RETFI29755': ['X6MH27'], 'CAPO303858': ['A0A0D2WVD2'], 'YEAST05049': ['A0A6A5PPN4', 'Q04305'], 'CAPO307114': ['A0A0D2WUA0'], 'ECTSI09782': ['D7G0Z3'], 'ECTSI12128': ['D7FT61'], 'DICDI05799': ['Q54W52'], 'NEUCR02205': ['Q7SAB7'], 'TRYB203890': ['Q57X58', 'Q9GU36'], 'CAPO304868': ['A0A0D2WKM0'], 'ECTSI11279': ['D7FT21'], 'DICDI09746': ['Q54JC8'], 'PHYPA20910': ['A9SCG3'], 'CAEEL11405': ['Q21215'], 'NAEGR05116': ['D2VV00'], 'DICDI04521': ['P25870'], 'CYAME01728': [], 'PLAF701496': ['Q8I4T1'], 'CYAME03495': [], 'ECTSI02877': ['D8LRU0'], 'YEAST01520': ['Q12018'], 'DICDI12227': ['Q8I0H7'], 'CAPO300925': ['A0A0D2WJC5'], 'THAPS00528': ['B8BQT7'], 'PARTE28290': ['A0CY10'], 'MOUSE27025': ['Q9D0J4'], 'CAPO302656': ['A0A0D2WQK4'], 'PHYPA29539': ['A0A2K1KNK7'], 'PARTE17473': ['A0E150'], 'NAEGR04299': ['D2VN86'], 'CHLRE01420': ['A8IH03'], 'PLAF700821': ['Q8II62'], 'TRYB200302': ['Q38BR9'], 'ECTSI04354': ['D8LDJ7'], 'CAPO302292': ['A0A0D2WNS7'], 'PHYPA22126': ['A9S9E8'], 'THAPS09927': ['B5YMS4'], 'CAEEL10000': ['O02115'], 'NAEGR02905': ['D2VJC0'], 'CYAME01001': [], 'CHLRE16537': ['A8IVK0'], 'ACACA09341': ['L8GTS5'], 'ECTSI07905': ['D7G1U3'], 'CAPO305241': ['A0A0D2WK76'], 'ECTSI02341': ['D7G6D3'], 'CHLRE06443': ['A0A2K3D701'], 'CYAME03741': [], 'YEAST02449': ['P43636'], 'PHYPA30853': [], 'DICDI00907': ['Q55F01'], 'DROME12019': ['Q9VT33'], 'TRYB200636': ['Q38AS7'], 'HUMAN77671': ['A8K4W0', 'D6R9B6', 'D6RAS7', 'D6RAT0', 'D6RB09', 'D6RED7', 'D6RGE0', 'P61247', 'Q6NXR8'], 'CYAME02942': [], 'ACACA06377': ['L8H2B8'], 'YEAST03966': ['A0A6A5PV22', 'P33299'], 'NAEGR05311': ['D2W1E4'], 'PLAF702868': ['Q8IKH8'], 'CAEEL05190': ['P49405'], 'DICDI05227': ['Q54XV3'], 'NEUCR02769': ['Q1K5Z8', 'Q9P5K8'], 'DICDI04297': ['P14797'], 'DICDI09495': ['Q54K39'], 'YEAST02817': ['P33307'], 'YEAST06001': ['A0A5B9RH60', 'P07143'], 'HUMAN94250': ['A8MUD9', 'C9JIJ5', 'C9JZ88', 'O95036', 'P18124'], 'CAEEL02499': ['P35602'], 'ACACA00471': ['L8HIC0'], 'DICDI08485': ['Q54N44'], 'NEUCR05689': ['P14799'], 'ACACA08964': ['L8GXK0'], 'THAPS00226': ['B8BPY5'], 'HUMAN49522': ['Q9NR50'], 'CAPO301614': ['A0A0D2WMC0'], 'DICDI05031': ['Q54YD4'], 'THAPS07511': ['B8BZC4'], 'PHYPA17846': ['A0A2K1K1I0', 'A0A7I4ENH3'], 'AMPQE16738': ['A0A1X7UHX7'], 'PHYPA07572': ['A0A2K1IXN1'], 'DICDI08184': ['Q54P04'], 'AMPQE08592': ['A0A1X7TI26'], 'ARATH39254': ['A0A178UAH2', 'A0A7G2FH31', 'Q9SEI4'], 'CAEEL06408': ['Q9XW03'], 'NEUCR04415': ['Q1K5W6', 'Q870X5'], 'PARTE04597': ['A0C5S8'], 'TRYB201580': ['Q38FX1'], 'CYAME00759': [], 'AMPQE09256': [], 'CAEEL07307': ['G5EEQ8'], 'AMPQE13621': ['A0A1X7U4N8'], 'DICDI10274': ['Q54HT3'], 'ARATH23871': ['A0A178VDI1', 'A0A178VN71', 'A0A654FFY1', 'P0DKL4', 'P0DKL6'], 'DICDI10444': ['Q54HB2'], 'NEUCR02830': ['Q7RXJ6'], 'THAPS06849': ['B8BYT2'], 'DROME10904': ['B5RJ76', 'Q8MRV9', 'Q9V595'], 'PARTE19720': ['A0DTA1'], 'NAEGR15550': ['D2VUK5'], 'NAEGR10199': ['D2VRP9'], 'CAPO306436': ['A0A0D2WQ12'], 'ACACA04319': ['L8H841'], 'NAEGR14978': ['D2VXC7'], 'CAPO306140': [], 'HUMAN83404': ['A0A0U1RR32'], 'PHYPA25011': ['A0A2K1L769', 'A0A7I4BX55'], 'CAPO303716': [], 'CAEEL01397': ['P90795'], 'DICDI07793': ['Q54Q51'], 'TRYB204518': ['Q580K8'], 'HUMAN51133': ['A0A109NGN6', 'P28066', 'Q5U0A0'], 'TRYB204360': ['Q582T6'], 'CAEEL00741': ['E5QCF5', 'P91040'], 'CHLRE12220': ['A8IWB5'], 'PARTE30584': ['A0CNB5'], 'ARATH23044': ['A0A178VIQ4', 'A0A654FFC7', 'A0A7G2ERG9', 'Q08466'], 'ECTSI01018': ['D7FQB6'], 'CHLRE05484': ['A8HXA2'], 'AMPQE24098': ['I1G756'], 'NAEGR00649': ['D2UZP1'], 'CHLRE05232': ['A8J2G4'], 'HUMAN90610': ['C9IZ83', 'Q99543'], 'ARATH40156': ['A0A178UA08', 'A0A5S9YHB3', 'A0A7G2FIL7', 'Q9LVN7'], 'HUMAN36398': ['Q9UHB9'], 'PHYPA15267': ['A0A2K1KQ84'], 'ECTSI01661': ['D8LN40'], 'RETFI36001': ['X6NZP3'], 'ACACA12596': ['L8GJC9'], 'PLAF702690': ['Q8IKZ5'], 'PLAF703953': ['A0A5K1K870'], 'DICDI06386': ['Q54UD0'], 'CAPO305091': ['A0A0D2WKZ6'], 'DROME20573': ['Q9VHL2'], 'CHLRE07430': ['A8JBC6'], 'PARTE38451': ['A0CK26'], 'PHYPA06194': ['A9TM73'], 'PARTE32208': ['A0CDI7'], 'CAEEL08256': ['P34280'], 'PLAF702141': ['H9U0E6', 'Q8ID85'], 'NAEGR15555': ['D2VYB2'], 'PHYPA07055': ['A0A2K1JPC2'], 'DICDI07339': ['Q54RK5'], 'MOUSE20706': ['G3UXI6', 'Q9Z1N5'], 'ACACA08141': ['L8GWE7'], 'YEAST03874': ['P36160'], 'PLAF701357': ['Q8I0V2'], 'CAPO300541': ['A0A0D2VGH7'], 'CAEEL09587': ['Q9N4A7'], 'CHLRE14005': ['A8I175'], 'RETFI31384': ['X6MN53'], 'YEAST04800': [], 'DICDI08588': ['Q54MQ7'], 'HUMAN48051': ['A0A140VJC9', 'O95372', 'Q5QPN5', 'Q5QPQ0'], 'DROME20919': ['Q06849'], 'ARATH07952': ['A0A178WDG0', 'Q9C8T3'], 'CHLRE09425': ['A0A2K3DRT9'], 'ARATH27691': ['A0A178V2F1', 'A0A654FQE3', 'Q8GWE1'], 'PARTE09781': ['A0BLL5', 'Q3SE63'], 'THAPS05979': ['B8CGC8'], 'PARTE09774': ['A0BLK8'], 'CAEEL09260': ['O62246'], 'AMPQE25322': ['A0A1X7VKG9'], 'ACACA06032': ['L8H388'], 'ACACA09600': ['L8GU91'], 'NAEGR01459': ['D2VAU2'], 'ECTSI03252': ['D8LC25'], 'CAPO305312': ['A0A0D2VKV0'], 'CAEEL11459': ['Q21915'], 'PLAF704827': ['Q8IB24'], 'CAPO306983': ['A0A0D2WRW8'], 'CAEEL04837': ['P49180'], 'NAEGR09534': ['D2VN58'], 'CAEEL03080': ['Q9TYV3'], 'MOUSE29927': ['M0QWJ2', 'Q3UDM8', 'Q8VEE0'], 'THAPS08280': ['B8C2B7'], 'ARATH04658': ['A0A178W2E1', 'Q9SA78'], 'NAEGR14247': ['D2VKN7'], 'ARATH30573': ['A0A178UT28', 'A0A5S9XYM7', 'P53799'], 'CAEEL08937': ['G5EGL2'], 'ARATH12358': ['A0A178VQD7', 'Q9ZPX1'], 'PLAF703190': ['A7U5W7', 'O96264'], 'HUMAN00209': ['P36542', 'Q8TAS0'], 'THAPS09938': ['B5YMT5'], 'PHYPA03661': ['A9TUZ9'], 'ARATH07756': ['A0A178WAY4', 'A0A5S9WRE2', 'A0A654ELW7', 'A0A7G2DZA2', 'Q94A40'], 'PHYPA12783': ['A0A2K1JGF6'], 'PHYPA14273': ['A9SWQ3'], 'YEAST03336': ['P47047'], 'MOUSE35776': ['E9Q023', 'P61600'], 'HUMAN101336': ['O75027'], 'CAPO306261': ['A0A0D2UE57'], 'ECTSI00709': ['D7FNG4'], 'DROME09032': ['D3DMG9', 'Q7KVP9', 'Q9XYZ2'], 'AMPQE25523': [], 'CHLRE16397': ['A8JHU2'], 'HUMAN15698': ['A8K3S0', 'E9PEP3', 'F5H5S0', 'P40937', 'Q59GW7', 'Q6LES9'], 'THAPS09095': ['B8C5F4'], 'NEUCR00461': ['Q7S8Q8'], 'YEAST02670': ['A0A6A5PYC9', 'P21243'], 'HUMAN85863': ['E5RFZ0', 'Q8N3C0'], 'HUMAN66691': ['C9J6A7', 'C9JCL8', 'Q96AT9'], 'DROME11610': ['A1Z9E3', 'Q86NS6'], 'AMPQE28028': ['A0A1X7VVZ2'], 'CHLRE00412': ['A8J493'], 'PARTE01695': ['A0CFU8'], 'ARATH07154': ['A0A178WJT5', 'Q7DLR9'], 'ACACA13931': ['L8GHV5'], 'CHLRE05254': ['A0A2K3DN25'], 'TRYB203104': ['Q57UX1'], 'CYAME04659': [], 'MOUSE60251': ['P51863', 'Q921S5'], 'PARTE17495': ['A0E170'], 'THAPS08485': ['B8C2X2'], 'PARTE08108': ['A0BST3'], 'CAEEL07417': ['P34703'], 'PARTE38020': ['A0CWV2'], 'YEAST06182': ['P48527'], 'MOUSE00021': ['P59470'], 'DROME29199': ['F6J1F4', 'F6J1F7', 'Q9W3M8'], 'CAEEL14194': ['A9D4S6', 'O16376'], 'THAPS07693': ['B8BZV6'], 'MOUSE44764': ['Q3TKD1', 'Q8R323'], 'HUMAN39433': ['K7EM56', 'P62841', 'S4R456'], 'TRYB200354': ['Q382C4'], 'ARATH01124': ['A0A384LKZ7', 'P59259', 'Q6NR90'], 'ACACA05223': ['L8H4P3'], 'DICDI11237': ['P33519'], 'ECTSI01985': ['D8LQG3'], 'ARATH17789': ['A0A178V9J0', 'Q9SR15'], 'PLAF702548': ['Q8ILC8'], 'AMPQE20530': [], 'PARTE13498': ['A0EE66'], 'CAPO306522': [], 'ECTSI01047': ['D7FQE5'], 'ECTSI08136': ['D7G1I0'], 'PHYPA08012': ['A0A2K1JMM8'], 'ARATH37659': ['A0A384LBS2', 'A0A7G2FHL8', 'B9DGQ1', 'Q8S4Y1'], 'ACACA12919': ['L8GJ61'], 'AMPQE27533': [], 'CYAME03934': [], 'THAPS05114': ['B8BVK5'], 'PLAF702061': ['Q8IDG2'], 'DICDI10658': ['Q54GN9'], 'RETFI35331': ['X6P1L5'], 'NAEGR05416': ['D2UYZ3'], 'ACACA04447': ['L8H9Q4'], 'CHLRE02933': ['A8J9F3'], 'ACACA10848': ['L8GNY6'], 'ACACA00445': ['L8HKV9'], 'CYAME04122': [], 'CHLRE11366': ['A0A2K3D047'], 'THAPS00558': ['B8BQW7'], 'DROME13077': ['Q8MSW0'], 'ACACA01762': ['L8HFV5'], 'AMPQE25789': [], 'AMPQE23231': [], 'HUMAN20251': ['A0A024R6G4', 'Q02252', 'Q53FN8', 'Q53H94'], 'CHLRE15805': ['A8IJV1'], 'CYAME02380': [], 'THAPS04493': ['B8BTT5'], 'DICDI07049': ['Q54SE2'], 'ARATH34874': ['A0A178UFG8', 'A0A5S9Y6U0', 'Q9LKF9'], 'YEAST01207': ['Q07648'], 'PARTE13639': ['A0EEK7'], 'HUMAN102024': ['A0A7P0TAQ3', 'A0A804CL36', 'Q13620'], 'PHYPA05942': ['A0A2K1J3K7', 'A0A7I4F7F3'], 'NEUCR00516': ['Q7S9M2'], 'CYAME04572': [], 'CAEEL02677': ['P91917'], 'DROME03314': ['Q5BII9', 'Q9VKR4'], 'ECTSI09527': ['D7FML2'], 'CAEEL06161': ['B4E3X6'], 'CYAME01398': [], 'MOUSE40998': ['Q9WTL7'], 'PARTE32273': ['A0CDQ2'], 'DROME28293': ['Q9XYU1'], 'AMPQE20609': ['A0A1X7V0I2'], 'PARTE11725': ['A0BEI6'], 'MOUSE20601': ['A0A286YCB9', 'A0A2Y9CZM3'], 'CYAME04379': [], 'PLAF703412': ['O77375'], 'AMPQE17965': ['A0A1X7UNN1'], 'AMPQE23749': ['A0A1X7VCS5'], 'PARTE16470': ['A0E462'], 'HUMAN61528': ['A0A8Q3SHT1', 'A0A8Q3SHX7', 'B4DS83', 'Q9BSC4'], 'ACACA06330': ['L8H265'], 'MOUSE58620': ['Q3TXU5'], 'DROME09263': ['Q9W1H4'], 'PARTE24795': ['A0D9T7'], 'ACACA06226': ['L8H455'], 'CAPO300960': ['A0A0D2WI65'], 'CAEEL05790': ['Q17880'], 'HUMAN64023': ['O60841', 'Q8N5A0'], 'ARATH17412': ['A0A178VD19', 'A0A5S9X8H0', 'A0A654FDV5', 'Q6NPS8'], 'CAPO304356': ['A0A0D2X5M4'], 'HUMAN80357': ['B2R4I8', 'Q92572'], 'ACACA09816': ['L8GSF0'], 'YEAST04025': ['P35181'], 'ARATH02551': ['A0A178WAP3', 'A0A5S9URR9', 'A0A654EAD3', 'A0A7G2DV34', 'Q9SA27'], 'NEUCR00024': ['Q7SEN5'], 'THAPS05920': ['B8CG69'], 'YEAST02990': ['P38861'], 'NEUCR04017': ['Q6M9C6', 'Q7RZ60'], 'TRYB202203': ['Q38E30'], 'PHYPA13029': ['A9T1C2'], 'ACACA12992': ['L8GIX6'], 'YEAST05760': ['A0A6A5Q723', 'Q12109'], 'AMPQE23313': [], 'ECTSI04620': ['D8LSF2'], 'DROME05204': ['P15007'], 'DICDI06728': ['Q54TD3'], 'PLAF704498': ['Q8IBT2'], 'NEUCR04819': ['Q7S3Z6'], 'YEAST04177': ['Q06142'], 'CAPO302385': ['A0A0D2VQN7'], 'ARATH32294': ['A0A178URX6', 'A0A7G2F5I9', 'Q8LEF1', 'Q9FNH2'], 'CHLRE03382': ['A8J3R6'], 'DICDI12060': ['Q54CI4'], 'CYAME04562': [], 'PLAF701134': ['Q8I5S6'], 'HUMAN20726': ['A0A590UJC0', 'A0A590UJI2', 'A8K1M2', 'B2RDW0', 'B4DJ51', 'G3V361', 'P0DP23', 'Q96HY3'], 'YEAST02598': ['P53313'], 'TRYB201010': ['Q389N7', 'Q9BLY3'], 'ARATH15907': ['A0A178VTX1', 'Q8LPJ7'], 'ECTSI00210': ['D8LBD3'], 'CHLRE11954': ['A8J914'], 'HUMAN01500': ['B2R679', 'Q5SQT9', 'Q6FID4', 'Q8NG23', 'Q9NR31', 'X1WI22'], 'CYAME01657': [], 'PARTE32858': ['A0C4T6'], 'CAPO307205': ['A0A0D2WT70'], 'PARTE37541': ['A0D783'], 'NEUCR05860': [], 'ACACA06917': ['L8H0U7'], 'ARATH34833': ['A0A178UPV3', 'A0A654G3T1', 'Q9LT02'], 'NAEGR01489': [], 'ECTSI04986': ['D7FKV5'], 'PARTE31392': ['A0CLN5'], 'ACACA02828': ['L8HCK4'], 'CAEEL05119': ['P47208'], 'NEUCR01700': [], 'PARTE36823': ['A0DFX5'], 'MOUSE54748': ['D3YUT3', 'Q5M9P3', 'Q9CZX8'], 'ACACA01104': ['L8HHZ1'], 'CAPO303914': ['A0A0D2UPE0'], 'PHYPA02162': ['A0A2K1IGP5'], 'HUMAN80818': ['O95486'], 'PLAF704587': ['Q8IBJ3'], 'CYAME03763': [], 'PLAF701784': ['C0H5D3', 'Q0ZAG4'], 'PARTE37009': ['A0DGG3'], 'DICDI12321': ['Q54BQ6'], 'TRYB206312': ['Q586C2'], 'PLAF704823': ['C0H4V7'], 'DROME21897': ['Q9VEE9'], 'THAPS01114': ['B8BSH2'], 'NEUCR02593': ['Q7S4P3'], 'THAPS00201': ['B8BPW0'], 'CAPO300128': [], 'DROME20930': ['A4V303', 'P48605'], 'MOUSE43054': ['Q9DBE8'], 'TRYB200922': ['P50885'], 'ACACA03562': ['L8H9J2'], 'YEAST04989': ['A0A6A5PTA5', 'P40217'], 'DROME03511': ['Q4V5E9', 'Q9VPR5'], 'CYAME02682': [], 'HUMAN32989': ['B4E074', 'K7ERN7', 'Q9NVX2'], 'HUMAN86248': ['E5RGQ3', 'E5RGS5', 'E5RJE3', 'Q9H446'], 'PLAF704737': ['Q8IAT2'], 'NAEGR14864': ['D2VVK5'], 'CHLRE12608': ['A0A2K3DYQ4'], 'PLAF703750': ['Q8I463'], 'NEUCR04326': ['Q7SBD8'], 'HUMAN22299': ['A0A0A0MT83', 'A0A384MR53'], 'DICDI10055': ['Q4W6B5'], 'ECTSI06202': ['D7G7G0'], 'NAEGR01606': [], 'NEUCR02460': ['Q6MFE0'], 'NAEGR12652': ['D2VQ12'], 'PARTE28174': ['A0CXP3', 'Q3SDB9'], 'RETFI31973': ['X6MD81'], 'DICDI00937': ['Q55DV9'], 'CAEEL10602': ['Q9GZH5'], 'NEUCR02523': [], 'MOUSE06804': ['Q52KP0', 'Q9JJI8'], 'HUMAN96882': ['A0A7I2YQJ0', 'A0A7P0T8Q5', 'A0A7P0TAW3', 'C9JUP7', 'P55072'], 'YEAST01290': ['A0A6A5Q1P3', 'Q03940'], 'DROME09011': ['Q960Q8'], 'ECTSI10722': ['D7FKH7'], 'PHYPA16654': ['A9SQF1'], 'ARATH03386': ['A0A178WJZ7', 'Q9XI05'], 'ARATH40790': ['A0A178UA55', 'A0A654GEZ2', 'Q9FJW0'], 'DROME24893': ['P49735'], 'DICDI02224': ['Q55AI5'], 'MOUSE00923': ['A2RTT4', 'P61089'], 'DICDI05504': ['Q54X04'], 'HUMAN85597': ['A0A494C1Q4', 'A0A8V8TLT8', 'A0A8V8TMH7', 'B3KN28', 'D6RCQ8', 'D6RIS6', 'O95394', 'S4R390'], 'ARATH32072': ['A0A178UPK5', 'A0A654FYU7', 'B9DGK9', 'Q93Y22'], 'THAPS04133': ['B8LDG4'], 'PHYPA16506': ['A0A2K1IHM2'], 'AMPQE22557': ['A0A1X7V8U4'], 'ECTSI02192': ['D8LGL2'], 'NAEGR01339': ['D2UYP5'], 'MOUSE47055': ['Q6ZPL9'], 'YEAST00399': ['A0A6A5Q1H1', 'P0CX39', 'P0CX40'], 'NEUCR02180': ['Q7S9W6'], 'TRYB200683': ['Q38AM9'], 'PHYPA01893': ['A0A2K1IGN8'], 'CAPO307569': ['A0A0D2VXL7'], 'PLAF700248': ['Q8IJT1'], 'AMPQE23250': ['A0A1X7TM37', 'A0A1X7VBT3'], 'MOUSE28674': ['P33610', 'Q3THK0'], 'CYAME00955': [], 'CHLRE12238': ['A0A2K3CZ67'], 'YEAST01913': ['A0A6A5PY71', 'P39954'], 'ACACA01779': ['L8HFM7'], 'MOUSE07415': ['P67778', 'Q3V2K0', 'Q5SQG5'], 'DROME25950': ['M9PGI6'], 'DICDI06723': ['Q54TD8'], 'AMPQE18916': [], 'PARTE35042': ['A0BD80'], 'PHYPA01205': ['A0A7I4AV15', 'A0A7I4AY44', 'A9U358'], 'PARTE21848': ['A0DJM3'], 'PHYPA13527': ['A9SYX9'], 'PARTE17422': ['A0E0Z9'], 'DROME03091': ['Q9VKJ0'], 'ACACA09077': ['L8GTY7'], 'ARATH06446': ['A0A5S9WP77', 'Q9C820'], 'PARTE00048': ['A0EIG4'], 'TRYB203206': ['D6XM23', 'Q7YXI0'], 'CAPO302070': [], 'PHYPA05455': ['A9TNW0'], 'PARTE06543': ['A0BYB4'], 'PLAF704718': ['Q8IAR3'], 'AMPQE15010': ['A0A1X7UBR2'], 'ECTSI00231': ['D8LBF4'], 'MOUSE32814': ['B7ZCS1', 'Q91YR7'], 'AMPQE22214': ['A0A1X7V859'], 'DICDI08480': ['Q54N49'], 'CAEEL01672': ['Q9XVP0'], 'NAEGR14639': ['D2VRU3'], 'CAEEL05930': ['G5ED01'], 'YEAST06016': ['P07280'], 'CAPO303805': ['A0A0D2VYG0'], 'PLAF702563': ['Q8ILB4'], 'ARATH27934': ['A0A178UYB2', 'Q8VZC9'], 'YEAST04636': ['P38920'], 'TRYB204822': ['D6XFC1', 'Q6PW20'], 'ECTSI09152': ['D8LHG5'], 'CHLRE12742': ['A0A2K3DZ42', 'A8IXB8'], 'PLAF700940': ['Q8IHT9'], 'RETFI32551': ['X6N7S1'], 'MOUSE35798': ['P63154'], 'HUMAN93362': ['Q9BXY0'], 'CAPO305077': ['A0A0D2WKY9'], 'HUMAN18381': ['P28074'], 'DROME14463': ['M9PCV9', 'Q9VVI9'], 'THAPS08439': [], 'MOUSE46791': ['D3Z0J6', 'D3Z2K9', 'D3Z335', 'Q3U4T8', 'Q3UDI8', 'Q3V122', 'Q61881'], 'CYAME04453': [], 'HUMAN55881': ['A8K9K6', 'O00567'], 'ARATH34284': ['A0A178UAI1', 'A0A7G2FDR7', 'Q1G3F7'], 'YEAST05070': ['P13382'], 'THAPS07473': ['B8BZ86'], 'MOUSE55095': ['P62301', 'Q5BLJ7', 'Q921R2'], 'PHYPA01112': [], 'AMPQE15068': ['A0A1X7UBX2'], 'DICDI02513': ['Q75JX0'], 'CAEEL09710': ['A0A9S2'], 'DROME19578': ['Q8IN02'], 'NAEGR05437': ['D2V786'], 'HUMAN34072': ['A8K6J9', 'Q14562', 'Q86X36', 'Q86YB2'], 'PLAF701498': ['A0A144A372'], 'AMPQE27458': [], 'CAEEL04804': ['P80361'], 'CAEEL10089': ['Q966C6'], 'CYAME02369': [], 'CYAME02876': [], 'THAPS02986': ['B8CD60'], 'PARTE27049': ['A0D1R4'], 'ARATH02580': ['A0A178WA13', 'O23708'], 'CAPO301756': ['A0A0D2VMN2'], 'NEUCR01526': ['P23704'], 'ACACA02503': ['L8HDS9'], 'ECTSI11407': ['D7FSL3'], 'YEAST00867': ['P0CX51', 'P0CX52'], 'TRYB206321': ['D7SG81', 'P17843', 'Q7KA49'], 'CAEEL11183': ['L8E917'], 'MOUSE36948': ['Q3TVF4'], 'YEAST02062': ['A0A6A5PXD6', 'P39958'], 'MOUSE55024': ['A0A1B0GST1', 'O35855', 'Q3ULU3'], 'HUMAN87240': ['E7EQR6', 'F5H136', 'F5H676', 'F5H726', 'P17987'], 'CYAME03397': [], 'CAEEL08021': ['Q21993'], 'PLAF700810': ['Q8II73'], 'DICDI06644': ['Q54TL8'], 'DROME07386': ['Q7K2Q8'], 'ARATH35257': ['A0A178UHF4', 'A0A7G2FE44', 'Q84WV1'], 'THAPS06934': ['B8BW81'], 'AMPQE23990': ['A0A1X7VFZ6'], 'HUMAN77608': ['P62312'], 'DICDI04510': ['Q86AQ5'], 'NAEGR05407': ['D2UXT4'], 'DICDI04124': ['Q86HD3'], 'ECTSI08829': ['D7FZW9'], 'CHLRE16155': ['A8JGI0'], 'ARATH17083': ['A0A178VV73', 'A0A5S9X840', 'P49692'], 'MOUSE66177': ['Q64516'], 'PHYPA05998': ['A0A2K1IM18'], 'PARTE20702': ['A0DNY6'], 'PARTE02854': ['A0CBE8'], 'CAPO307899': ['A0A0D2WWX8'], 'NAEGR05265': ['D2VZP7'], 'PHYPA16170': ['A9SR48'], 'YEAST02291': ['A0A8H8ULD3', 'P30657'], 'NEUCR05156': ['Q1K6R7', 'Q871J5'], 'CAPO304167': ['A0A0D2X5C2'], 'CAPO306550': [], 'ACACA07304': ['L8GZM9'], 'DICDI07618': ['Q54QN0'], 'CAPO302241': ['A0A0D2X2M7'], 'TRYB206575': ['Q4GYQ5'], 'CAEEL11871': ['Q21554'], 'AMPQE21273': ['A0A1X7V390'], 'CHLRE11060': ['A0A2K3E0Z8'], 'CAEEL20230': ['O17622'], 'YEAST04231': ['A0A8H4BX09', 'P05748'], 'NEUCR03835': ['Q7RYX6'], 'THAPS11490': ['B8LCY1'], 'MOUSE06273': ['Q5SQ20'], 'MOUSE07799': ['Q9QUM9'], 'MOUSE29964': ['A0A087WQG0', 'Q8CIM3'], 'CAPO301825': ['A0A0D2U8X1'], 'ACACA13040': ['L8GIV8'], 'NEUCR00720': ['Q1K7I9', 'Q96TY2'], 'CAEEL12235': ['O45946'], 'CYAME02550': ['Q84KP6'], 'ACACA10280': ['L8GQP5'], 'PARTE16732': ['A0E2K0'], 'CHLRE16410': ['A0A2K3D2C1'], 'DROME26154': ['A9UNH9', 'D0Z769', 'P04052'], 'PHYPA08892': ['A9TD66'], 'YEAST01756': ['P13517'], 'DICDI04356': ['Q02720'], 'MOUSE05510': ['O70310', 'Q3UJC3'], 'THAPS07588': ['B8BZK1'], 'CYAME00928': [], 'NEUCR07059': ['Q7SBI0'], 'TRYB205466': ['Q584X7'], 'YEAST06421': ['Q02892'], 'RETFI37702': ['X6MDF1'], 'CYAME01719': [], 'MOUSE34900': ['Q9CQS2'], 'CHLRE04594': ['A8J4W8'], 'TRYB205248': ['Q585D3'], 'ECTSI09490': ['D7FMH5'], 'THAPS00176': ['B8BT62'], 'PHYPA18914': ['A9SI54'], 'ACACA06016': ['L8H2E2'], 'DICDI02257': ['Q86KL4'], 'NAEGR01430': [], 'PHYPA25832': ['A9RYA1'], 'ARATH03632': ['A0A178WDJ9', 'A0A654EC95', 'F4I4Q1', 'Q9LR34'], 'CAEEL05050': ['Q09226'], 'NEUCR04476': ['Q1K502', 'Q873J5'], 'MOUSE25921': ['Q4FZK2', 'Q9D8N0'], 'DROME10896': ['D3DMX2', 'Q24311'], 'HUMAN55937': ['A0A0S2Z3W7', 'Q9BY32'], 'MOUSE45624': ['O35286', 'Q3TFE5', 'Q3UKJ6'], 'TRYB206112': ['Q586L6', 'Q8WRU5'], 'ECTSI02910': ['D8LRX3'], 'ECTSI11373': ['D7G7C2'], 'ACACA07774': ['L8GYA2'], 'DROME01606': ['Q9VL96'], 'DROME04632': ['Q9VPR4'], 'AMPQE16473': ['A0A1X7UHS4'], 'DROME07156': ['P41093'], 'ARATH36123': ['A0A178UE40', 'A0A5S9Y913', 'A0A654G6H5', 'A0A7G2FII7', 'Q9FF17', 'W8PUY3'], 'ARATH17685': ['A0A178V993', 'Q94K05'], 'CAPO302301': ['A0A0D2X2P2'], 'NEUCR07345': ['Q7SH14'], 'PHYPA13692': ['A0A2K1L2U3'], 'ACACA00879': ['L8HHD9'], 'PLAF700716': ['Q8IIH2'], 'TRYB206307': ['Q586C5', 'Q9GYZ4'], 'MOUSE01452': ['Q8BGA5'], 'CHLRE14042': ['A8ID84', 'E3SC57'], 'ECTSI07202': ['D7G5A6'], 'ARATH08295': ['A0A178W8K9', 'A0A5S9WS40', 'A8MS85'], 'CYAME01061': [], 'CAPO301776': ['A0A0D2WLJ6'], 'CHLRE07178': ['A8HPU4'], 'DROME26562': ['P41374', 'X2JFR6'], 'PLAF701649': ['Q8I6T7'], 'CHLRE07606': ['A0A2K3DVF7'], 'CAPO304633': ['A0A0D2U3S1'], 'NEUCR02150': ['V5IMH7'], 'CYAME00609': [], 'HUMAN63068': ['Q06210'], 'RETFI31188': ['X6NA19'], 'CAEEL04791': ['Q10920'], 'YEAST02792': ['A0A6A5PWS2', 'Q01939'], 'RETFI24300': ['X6LVG7'], 'CAEEL13010': ['O16305'], 'ARATH29080': ['A0A5S9XVT0', 'A0A654FSY2', 'F4JTD2', 'Q8VZJ4', 'Q9SW10'], 'ARATH34822': ['A0A178UJB9', 'A8MR12', 'Q9LT08'], 'ACACA12800': ['L8GI62'], 'CAEEL06884': ['P50140'], 'HUMAN14652': ['F8VQQ8', 'P61088', 'V9HW41'], 'PHYPA28290': ['A9RMY5'], 'THAPS05245': ['B8BVY6'], 'THAPS10244': ['B5YNP5'], 'AMPQE20697': ['A0A1X7V0U2'], 'AMPQE16315': ['A0A1X7UGV3'], 'AMPQE18887': ['A0A1X7UT60'], 'HUMAN87480': ['A0A140VK45', 'P20618', 'Q53FT8'], 'DICDI10882': ['Q54G06'], 'NAEGR01303': ['D2VIR7'], 'PHYPA27439': ['A9RS79'], 'ACACA05778': ['L8H621'], 'ARATH28379': ['A0A178V2G7', 'P38420'], 'DROME16764': ['Q9V3D9'], 'THAPS02620': ['B8CC29'], 'YEAST05709': ['Q08285'], 'DICDI06675': ['Q54TH8'], 'NAEGR05343': ['D2W2L4'], 'NAEGR01465': ['D2VBI9'], 'DROME11022': ['P56538'], 'PARTE27796': ['A0CYF7'], 'ACACA00859': ['L8HHC6'], 'HUMAN57507': ['A0A0S2Z4Y5', 'O60762'], 'MOUSE45526': ['D3YVM5', 'P14869', 'Q5FWB6', 'Q5M8R8', 'S4R1N1'], 'CAPO303128': ['A0A0D2X3Y2'], 'AMPQE24581': ['A0A1X7VGV1'], 'NAEGR04397': ['D2UXP9'], 'ACACA00275': ['L8HKF8'], 'NAEGR04351': ['D2VMW0', 'Q2MM00'], 'NAEGR05478': ['D2VN48'], 'CAEEL16136': ['P92022'], 'NEUCR06526': ['Q7RVX2'], 'CAPO307934': ['A0A0D2WW71'], 'AMPQE20675': [], 'YEAST01754': ['P39076'], 'NAEGR14295': ['D2VLA6'], 'YEAST00421': ['P38217'], 'DROME09774': ['Q7K569'], 'PHYPA05893': ['A0A7I4F5L7', 'A9TNC7'], 'NEUCR04281': ['Q7SBT9'], 'ARATH25613': ['A0A178V378', 'A0A1P8B7A7', 'A0A5S9XP74', 'A0A654FL92', 'Q941I6'], 'AMPQE16406': ['A0A1X7UGN5'], 'CAEEL16326': ['Q23270'], 'CAEEL15350': ['Q21276'], 'DICDI01981': ['Q55BF2'], 'HUMAN10516': ['Q9NR22'], 'ARATH07929': ['A0A178WFQ7', 'Q9CAM7'], 'MOUSE08791': ['O70435', 'Q58EV4', 'Q9DCD8'], 'TRYB202112': ['Q38EC4'], 'PARTE06410': ['A0BYQ7'], 'PARTE35292': ['A0ED07'], 'PHYPA21445': ['A9SB19'], 'PHYPA05748': ['A0A2K1IM79', 'A0A2K1IZ38', 'A0A7I4CB37'], 'HUMAN62154': ['A8K3Y8', 'C9JSD7', 'Q2VIM3', 'Q9Y316'], 'PARTE30666': ['A0CNJ8'], 'MOUSE43213': ['D3Z645', 'Q9QZ88'], 'HUMAN42054': ['A8K7A1', 'Q9Y6V7'], 'RETFI29800': ['X6MLF3'], 'CYAME02632': [], 'ACACA14702': ['L8GFS4'], 'DROME16508': ['L7EEF9', 'Q8MQI6'], 'HUMAN11218': ['A0A023T6R1', 'F5H6P7', 'Q96A72'], 'MOUSE03832': ['Q9QXB9'], 'DROME02759': ['Q8SZ87'], 'PHYPA10731': ['A0A7I4ETA1'], 'PHYPA22685': ['A0A7I4AUU3'], 'DICDI04093': ['Q8SSN5'], 'DICDI02352': ['O96621'], 'ARATH31424': ['A0A384KRT1', 'B9DGR9', 'P59169'], 'MOUSE43261': ['Q9CQM2'], 'HUMAN102031': ['Q9ULC4'], 'HUMAN29503': ['A8K6V3', 'H3BMB0', 'I3L4G7', 'J3QL37', 'J3QRB2', 'Q15393'], 'AMPQE09221': ['A0A1X7TJW2'], 'ARATH10818': ['A0A178VMV8', 'Q9ZVF6'], 'DICDI04139': ['P11874'], 'ECTSI06337': ['D7FWM8'], 'DICDI08655': ['Q54ML1'], 'ARATH39820': ['A0A178UKN7', 'Q9FLT0'], 'PARTE21020': ['A0DM28'], 'AMPQE12168': ['I1F6H1'], 'CAPO303045': ['A0A0D2WS91'], 'NAEGR01472': ['D2VC22'], 'TRYB200984': ['Q389R3'], 'DROME10706': ['O97477'], 'YEAST01972': ['P39937'], 'NEUCR05902': ['U9W3H6'], 'PHYPA10221': ['A0A2K1IDE8', 'A0A7I4CRN2', 'A0A7I4CRP3'], 'NAEGR07877': ['D2VD00'], 'PHYPA26972': ['A0A2K1LAY1', 'A0A7I4FBQ6'], 'CAPO307143': ['A0A0D2VVH6'], 'PLAF703909': ['Q8I3R0'], 'YEAST05773': ['Q08096'], 'PARTE23872': ['A0D0F9'], 'THAPS04581': ['B8BU23'], 'PHYPA28158': ['A0A2K1J0E2'], 'CYAME02314': [], 'TRYB200093': ['Q38CD1'], 'CAEEL07269': ['P42170'], 'AMPQE14319': ['A0A1X7U854'], 'NAEGR00639': ['D2UYW5'], 'YEAST00384': ['A0A6A5Q221', 'P06787'], 'HUMAN79610': ['A0A7P0TBF0', 'Q92973'], 'ACACA06945': ['L8H0P3'], 'MOUSE36247': ['Q64521'], 'CAPO303053': ['A0A0D2VUD0', 'A0A0D2WTJ3'], 'YEAST04137': ['Q01590'], 'THAPS07874': ['B8C0D6'], 'PARTE15883': ['A0E4W2'], 'HUMAN60645': ['B5MCW2', 'G5E9G0', 'P39023', 'Q8TBW1', 'Q96QL0'], 'NEUCR01928': ['Q1K8P6', 'Q872Q7'], 'PARTE21467': ['A0DLK7'], 'THAPS02703': ['B8CCB2'], 'CAEEL09103': ['Q9XTU6'], 'CHLRE08342': ['A0A2K3CNQ0'], 'CHLRE13352': ['A0A2K3DWZ7'], 'NAEGR10035': ['D2VQT8'], 'YEAST01220': ['P19881'], 'HUMAN48739': ['A0A140VK93', 'F8W1A4', 'P54819'], 'PHYPA22151': ['A0A2K1JYA9'], 'THAPS04287': ['B8LDW8'], 'THAPS11452': ['B8LEX5'], 'PLAF702065': ['Q8IDF8'], 'YEAST01100': ['A0A6A5PYF7', 'P33298'], 'DICDI07670': ['Q54QG6'], 'ECTSI10186': ['D7G5R5'], 'ECTSI09435': ['D7FGY0'], 'DROME21340': ['B5RJL4', 'Q9VGR2'], 'HUMAN89355': ['B5BUD2', 'F8WDC9', 'P35250'], 'CAPO303232': ['A0A0D2VUZ0'], 'ARATH11631': ['A0A178W2C4', 'A0A5S9WXM4', 'Q9SK22'], 'MOUSE09617': ['Q9EQ20'], 'CAPO301151': [], 'AMPQE26810': ['A0A1X7VSA6'], 'NAEGR01679': [], 'CAEEL00156': ['Q9BL19'], 'PHYPA15455': ['A9STM1'], 'DROME00416': ['Q9VL75'], 'ARATH28924': ['A0A178UUL4', 'Q93Y35'], 'RETFI26311': ['X6NWW4'], 'CAEEL12274': ['Q9XUE6'], 'DROME22289': ['Q9N6I4', 'Q9VCD8'], 'DICDI06204': ['Q54UW5'], 'PHYPA12596': ['A9T0H6'], 'PARTE01505': ['A0CHE4'], 'ACACA14523': ['L8GG56'], 'HUMAN97545': ['Q13825'], 'ECTSI06662': ['D8LP25'], 'THAPS02091': ['B8CAK5'], 'MOUSE20922': ['G3UWJ1', 'G3UWL6', 'G3UYP0', 'P63280'], 'CAPO307070': ['A0A0D2X443'], 'PLAF700699': ['Q86G82', 'Q8IIJ0'], 'DROME10435': ['A0AP29', 'A0AP30', 'A0AP31', 'A1ZB29', 'C0MJH3', 'Q8SZQ0'], 'CAPO300368': ['A0A0D2WGZ6'], 'THAPS02812': ['B8CCM0'], 'PHYPA16157': ['A0A2K1J827', 'A0A7I4F629'], 'AMPQE16485': [], 'HUMAN63128': ['P62308', 'Q49AN9'], 'YEAST01291': ['P50623'], 'CHLRE08696': ['A8IR41'], 'ACACA06187': ['L8H1V9'], 'ECTSI06082': ['D7G469'], 'TRYB200697': ['Q38AL5'], 'RETFI16411': ['X6MPW9'], 'THAPS09585': ['B8C4M1'], 'DICDI08657': ['Q54MK8'], 'NAEGR11713': ['D2VZX3'], 'ARATH36873': ['Q9LSW8'], 'NEUCR00539': ['Q7S2S6'], 'TRYB201173': ['Q388X3'], 'CAEEL00813': ['Q9N599'], 'PHYPA12086': ['A0A2K1JLU7', 'A0A7I4AKH8'], 'DROME05640': ['Q9VPU8'], 'HUMAN42196': ['Q9HD20'], 'AMPQE16588': ['A0A1X7UIN3'], 'NAEGR00577': ['D2UXA6'], 'NAEGR14736': ['D2VTG8'], 'AMPQE13461': ['A0A1X7U3G3'], 'MOUSE34894': ['P17918', 'Q542J9', 'Q91ZH2', 'Q9CZD6'], 'YEAST02522': ['P53261'], 'PLAF703315': ['O77323'], 'DROME19325': ['Q95RT3', 'Q9VCB9'], 'TRYB200255': ['Q38BW7'], 'CAPO301030': ['A0A0D2VI40'], 'ARATH34582': ['A0A384LMQ2', 'A0A654G356', 'Q67XN9', 'Q683I1', 'Q9C578'], 'MOUSE25974': ['Q8BJ03'], 'PHYPA12889': ['A9SZH2'], 'HUMAN98701': ['Q9BTM9'], 'DROME21339': ['Q9VD72'], 'DICDI06795': ['Q54T59'], 'THAPS09977': ['B5YMW7'], 'CAPO304679': [], 'NEUCR00743': ['Q1K6U5', 'Q8NIR4'], 'PLAF703782': ['Q8I431'], 'PARTE25461': ['A0D5K8'], 'MOUSE17216': ['P83870'], 'YEAST02989': ['P0CX27', 'P0CX28'], 'PLAF702476': ['Q8ILK1'], 'PLAF702405': ['Q8ILS0'], 'DICDI11868': ['Q8T9W2'], 'CAEEL05969': ['Q23670'], 'PHYPA11011': [], 'THAPS03734': ['B5YLN7'], 'PLAF701348': ['Q8I574'], 'DROME23775': ['A0A1B2AL12', 'P55828'], 'TRYB203518': ['Q57VR6'], 'DICDI11082': ['Q54FE3'], 'CAPO300407': ['A0A0D2VG60'], 'PARTE24948': ['A0D8K9', 'Q3SE64'], 'NAEGR05360': ['D2W352'], 'CYAME02208': [], 'ARATH34616': ['A0A178UK47', 'A0A7G2FBK3', 'Q9FMR9'], 'PHYPA05494': ['A9TP02'], 'NEUCR06466': ['Q1K7U8', 'Q9HEM2'], 'PHYPA01480': ['A0A2K1J476'], 'CYAME03442': [], 'YEAST01213': ['A0A6A5Q114', 'P41940'], 'CAPO305194': ['A0A0D2WL74'], 'PARTE00111': ['A0EIN0'], 'CYAME01403': [], 'ARATH17803': ['A0A178VJP2', 'A0A7G2EME8', 'Q9SR06'], 'NAEGR00073': [], 'TRYB203624': ['Q57V01'], 'ECTSI04930': ['D7FLL6'], 'CHLRE14593': ['A0A2K3DBH2'], 'CYAME04298': [], 'CAPO301723': ['A0A0D2WLF8'], 'CHLRE04098': ['A0A2K3DFC2'], 'CAPO303871': ['A0A0D2WWF8'], 'DROME15547': ['A8JNU6'], 'DROME00680': ['A0ANY9', 'A0ANZ0', 'Q9U5W4', 'Q9VM69'], 'YEAST00994': ['P04050'], 'NEUCR02485': ['Q7RVS7'], 'HUMAN63656': ['B7ZKR9', 'O95602'], 'ECTSI03468': ['D8LJ06'], 'PHYPA23444': ['A9S5I6'], 'HUMAN78465': ['P31040'], 'CAPO306626': ['A0A0D2UGY5'], 'DROME27542': ['O46050', 'Q9UB80'], 'HUMAN29361': ['Q9Y221'], 'MOUSE35980': ['Q9JHI5'], 'TRYB201589': ['Q38FW1'], 'PARTE29387': ['A0CSK6'], 'NEUCR02369': ['Q7S1Y6'], 'PLAF702902': ['Q8IKE4'], 'CHLRE13278': ['A0A2K3DYJ8'], 'CHLRE09805': ['A0A2K3E1B3'], 'ECTSI03008': ['D7FXL4'], 'NAEGR14737': ['D2VTI3'], 'TRYB200688': ['Q38AM4'], 'MOUSE58098': ['Q3UKX8', 'Q8CBB7'], 'AMPQE12753': ['A0A1X7U124'], 'CHLRE02855': ['A8J3F9'], 'NEUCR01560': [], 'ARATH16397': ['A0A1P8B0T2'], 'DICDI11537': [], 'CYAME03537': [], 'PHYPA26133': ['A0A2K1JVY1'], 'TRYB201103': ['Q389E3'], 'CYAME04404': [], 'CAPO303896': [], 'MOUSE03291': ['A2A547', 'P84099', 'Q5I0T8'], 'ECTSI06014': ['D8LMY1'], 'YEAST00068': ['P39730'], 'MOUSE50190': ['A0A0N4SUH8'], 'CAEEL04573': ['Q21962', 'Q86LS6'], 'HUMAN69969': ['A0A0U1RQJ6', 'A8K3A8', 'B4DNN3', 'P47897', 'Q53HS0', 'Q96AW5'], 'CHLRE15108': [], 'NEUCR00619': ['Q7S354'], 'THAPS08179': ['B8C216'], 'MOUSE07576': ['P70168', 'Q3TFE8', 'Q3UHW8', 'Q7TSZ6'], 'DICDI09465': ['Q54K66'], 'ACACA06450': ['L8H2J6'], 'CHLRE01043': ['A8IHB3'], 'CAPO304177': ['A0A0D2WWX7'], 'HUMAN87758': ['A0A8V8TNX6', 'A0A8V8TNY8', 'A0A8V8TP72', 'A0A8V8TPE1', 'A0A8V8TQ50', 'A0A8V8TQG9', 'A0A8V8TQI1', 'A0A8V8TQS5', 'B4DGM0', 'P54278'], 'ARATH38200': ['A0A178UA86', 'A0A654GB00', 'F4KDA5'], 'CYAME00891': [], 'ACACA03144': ['L8HBQ3'], 'THAPS06962': ['B8BWA9'], 'YEAST01762': ['P20967'], 'MOUSE54687': ['D3Z569'], 'CAPO305180': ['A0A0D2X1B4'], 'RETFI32261': ['X6PDZ7'], 'HUMAN89067': ['A1JUI8', 'B2R9K8', 'B4DPJ8', 'P40227', 'Q59ET3'], 'RETFI28347': ['X6LNX9'], 'THAPS02676': ['B8CC85'], 'NEUCR00581': [], 'NEUCR02862': ['Q1K609', 'Q870N5'], 'MOUSE06513': ['Q60692'], 'PARTE39096': ['Q6BG89'], 'CYAME04783': [], 'CYAME02327': [], 'HUMAN11898': ['F5GXJ8', 'Q2NKM7', 'Q96FC9'], 'ECTSI05912': ['D8LJA8'], 'CAPO301767': ['A0A0D2X1V2'], 'ACACA03605': ['L8GZV9', 'L8HB96'], 'HUMAN98417': ['A0A7P0TAI0', 'A0A7P0TB36', 'P11021', 'V9HWB4'], 'RETFI29583': ['X6NJH5'], 'CAPO300360': [], 'CAEEL08584': ['P34475'], 'ARATH10539': ['A0A178WL33', 'A0A7G2E4A3', 'Q9CA92'], 'CHLRE11208': ['A8I263'], 'ARATH02561': ['A0A178WG28', 'Q9SA34'], 'PLAF702919': ['Q8I717'], 'PARTE19813': ['A0DS30'], 'NAEGR15523': ['D2VFG9'], 'PHYPA26921': ['A9RTW1'], 'CAPO301533': ['A0A0D2WM66'], 'CAEEL09285': ['Q9XU10'], 'CAPO308291': ['A0A0D2W1M1'], 'DROME17556': ['Q9VSW1'], 'MOUSE49846': ['A0A1C7ZN09', 'Q3TRW3', 'Q3TW51', 'Q3UZI3', 'Q78PY7'], 'NAEGR01096': ['D2VBJ2'], 'PHYPA29299': ['A9RLI9'], 'CAEEL00818': ['Q9N595'], 'PHYPA08883': ['A9TD58'], 'PHYPA21046': ['A0A2K1KJ59', 'A0A7I4DPS5'], 'CHLRE04942': ['A8HW56'], 'THAPS06704': ['B8BYD7'], 'ACACA08394': ['L8GWY4'], 'HUMAN68927': ['Q02880'], 'ACACA11008': ['L8GNW1'], 'CHLRE07176': ['A0A2K3E794'], 'THAPS10069': ['B5YN70'], 'MOUSE63406': ['Q3TI08', 'Q3TIH8', 'Q3TY03', 'Q62384', 'Q8C8U3', 'Q9JJA1'], 'CAPO308018': ['A0A0D2VZK2'], 'YEAST02575': ['P0CX29', 'P0CX30'], 'MOUSE05471': ['A2AH85'], 'PLAF703871': ['A0A5K1K925'], 'DICDI06770': ['Q54T81'], 'DROME25628': ['C0HKA0', 'C0HKA1', 'X2JCX8'], 'CAPO307345': ['A0A0D2UKW1'], 'DROME17269': ['Q9VZU7'], 'MOUSE28199': ['P25206', 'Q3UI57', 'Q3ULD6', 'Q3UZH2'], 'DROME07991': ['A0A0B4LG52', 'Q9W237'], 'DROME20510': ['Q9VG04'], 'NEUCR04585': ['Q8WZS3'], 'DICDI04100': ['Q86JD4'], 'AMPQE24883': ['A0A1X7VJZ7'], 'NAEGR04276': ['D2V1E8'], 'PLAF704683': ['Q8IAN7'], 'PARTE05529': ['A0C211'], 'HUMAN12958': [], 'MOUSE27293': ['B9EIE9', 'P46664'], 'DROME21024': ['A0A0B4LI86', 'P08266'], 'DICDI08272': ['Q1ZXF1'], 'CYAME04223': [], 'DROME23687': ['P09180'], 'ARATH24241': ['A0A5S9XNF3', 'A0A7G2EXI6', 'Q8LEZ6', 'Q96529'], 'PLAF700612': ['Q8IIR9'], 'RETFI19827': ['X6MET8'], 'ARATH10490': ['A0A7G2E618', 'Q84L33'], 'ARATH01872': ['A0A178WBU4', 'Q94AU2'], 'AMPQE20982': ['A0A1X7V134'], 'NEUCR06824': ['Q1K7A3'], 'AMPQE18908': ['A0A1X7USX3'], 'CYAME01163': [], 'HUMAN33847': ['A0A994J3Z0', 'A0A994J6N3', 'A0A994J728', 'K7ELZ6', 'K7EM24', 'Q5CZH6', 'Q93050'], 'ECTSI06026': ['D7FQV7'], 'DICDI02600': ['Q7KWM5'], 'YEAST06056': ['P02992'], 'CAPO301678': ['A0A0D2WMG6'], 'CYAME02999': [], 'CYAME03955': [], 'HUMAN04471': ['E9PJD9', 'P46776', 'Q6NZ52'], 'RETFI39118': ['X6NKX5'], 'CHLRE14554': ['A8I1A7'], 'CAEEL02720': ['Q9NA26'], 'THAPS07750': ['B8C013'], 'ACACA11641': ['L8GM99'], 'AMPQE28086': ['A0A1X7VW61'], 'NAEGR01562': ['D2V3J1'], 'CAEEL00770': ['Q9BIB8'], 'CHLRE12623': ['A8IXG3'], 'ARATH11421': ['A0A178VUX1', 'O81147'], 'AMPQE16733': ['A0A1X7UIS0'], 'THAPS04386': ['B8BTH7'], 'CAPO306175': ['A0A0D2WQN6'], 'MOUSE45780': ['Q3UDK3', 'Q5HZI8', 'Q9D0F6'], 'PARTE16525': ['A0E352'], 'NAEGR01564': ['D2V465'], 'DROME05914': ['Q94523'], 'HUMAN60068': ['Q9Y295'], 'CHLRE16472': ['A0A2K3D6R4'], 'AMPQE26893': ['A0A1X7VRN9'], 'PLAF704144': ['C6KSW5'], 'CAPO305683': ['A0A0D2WNT4'], 'HUMAN02474': ['Q7KZN9'], 'DROME26929': ['Q9VXY3'], 'DROME14155': ['Q8MYR4', 'Q9VT19'], 'MOUSE22609': ['B9EJX8', 'Q3U0J1', 'Q9D0W5'], 'RETFI36604': ['X6NAZ9'], 'HUMAN50060': ['O95801'], 'PHYPA08020': ['A0A2K1JMK6'], 'THAPS08202': ['B8C239'], 'CAPO303869': ['A0A0D2UPA1'], 'CAEEL07313': ['Q21902'], 'DICDI07186': ['Q54S38'], 'ECTSI04350': ['D8LDJ3'], 'DICDI00102': ['Q27563'], 'PARTE24379': ['A0DAC7'], 'AMPQE24485': ['A0A1X7VGG5'], 'YEAST04125': ['Q12460'], 'CAPO305826': ['A0A0D2UB33'], 'CAPO300129': ['A0A0D2WGE0'], 'DROME16860': ['Q9VP77'], 'DROME18551': ['Q9VH07'], 'PARTE27542': ['A0CZH3'], 'ACACA04198': ['L8H8X2'], 'YEAST02014': ['P06839'], 'NEUCR07448': ['Q6MVQ8', 'Q7SDQ8'], 'THAPS09135': ['B8C5J4'], 'CAPO301701': ['A0A0D2U8G0', 'A0A0D2WLD8'], 'CAPO302208': ['A0A0D2X2M0'], 'CAPO306482': ['A0A0D2WR91'], 'CAPO300212': [], 'ACACA12936': ['L8GL32'], 'DROME16059': ['Q8IRJ9', 'Q9W0U0'], 'NAEGR15499': ['D2V2C4'], 'MOUSE65119': ['Q9CU62'], 'YEAST04359': ['Q12267'], 'ECTSI02191': ['D8LGL1'], 'PLAF704669': ['Q8IAM3'], 'MOUSE32050': ['A2AKU9', 'A2AKV0', 'A2AKV1', 'A2AKV2', 'A2AKV3', 'Q3UD06', 'Q91VR2', 'Q9D9D7', 'Q9ERA8'], 'ACACA07108': ['L8H2N9'], 'CAPO305743': ['A0A0D2VP45'], 'ARATH18188': ['A0A178VL69', 'A0A654F6G8', 'C0Z3C1', 'Q9M7Z1'], 'DICDI05057': ['Q54Y96'], 'NAEGR00138': ['D2V0T5'], 'DROME13075': ['O77285', 'Q9W0B8'], 'CAPO303474': ['A0A0D2WTU0'], 'DICDI08033': ['Q54PF9'], 'DROME10299': ['Q7K4T8'], 'MOUSE57542': ['Q3U4X8', 'Q8R055'], 'HUMAN41874': ['B2R4C0', 'B4DUV3', 'M0R1A7', 'M0R3D6', 'Q02543', 'Q53HD3'], 'ARATH15601': ['A0A178VV92', 'A0A5S9X5S1', 'A0A654F023', 'Q8L5Y4', 'Q9ZVJ8'], 'MOUSE11559': ['Q8BTX6', 'Q9CZU3'], 'PHYPA20084': ['A9SET8'], 'CAPO307615': [], 'DROME19985': ['Q9VE98'], 'PHYPA26748': ['A9RTB7'], 'CAPO307215': ['A0A0D2WT76'], 'NEUCR03132': ['Q7S8Z5'], 'THAPS00959': ['B8BS17'], 'ACACA00472': ['L8HJG4'], 'YEAST05645': ['Q12033'], 'NAEGR05423': ['D2V309'], 'ECTSI04851': ['D8LF08'], 'MOUSE08690': ['A0A3Q4EHJ0', 'P0DP26', 'P0DP27', 'P0DP28'], 'CAPO303757': ['A0A0D2X4V2'], 'NAEGR01264': ['D2VHT6'], 'YEAST05447': ['P53914'], 'DROME16267': ['Q9VV41'], 'ACACA14914': ['L8GCR5'], 'THAPS07670': ['B8BZT3'], 'DICDI08029': ['Q54PG3'], 'THAPS10650': ['B8C741'], 'PLAF700223': ['Q8IJV6'], 'MOUSE22370': ['Q3U561', 'Q5XJF6'], 'YEAST06210': ['A0A6A5Q7H9', 'P20424'], 'PARTE31400': ['A0CLP3'], 'TRYB205261': ['Q585C0'], 'DROME18257': ['Q9V3V6', 'Q9XZC3'], 'DICDI05046': ['Q54YA7'], 'TRYB200661': ['Q38AQ2'], 'YEAST00849': ['A0A6A5Q1Q8', 'P12612'], 'CAEEL07158': ['Q09496'], 'NEUCR00274': ['Q7SD02'], 'CHLRE12588': ['A8IDY0'], 'ARATH39220': ['A0A178UM80', 'A0A7G2FKZ8', 'Q9ZRD6'], 'PLAF702631': ['Q8IL50'], 'THAPS10969': ['B8C811'], 'DICDI08786': ['Q54M70'], 'PHYPA31778': ['A0A2K1J1D8'], 'NEUCR04545': ['Q1K5B6', 'Q9P3I1'], 'CAEEL08233': ['P34369'], 'PARTE38782': ['Q6BFH4'], 'HUMAN09801': ['B2R6Z9', 'B3KY32', 'Q9H3H5'], 'ACACA01054': ['L8HHU3'], 'PLAF704002': ['Q8I3H2'], 'ECTSI00198': ['D8LBC1'], 'CAPO305240': ['A0A0D2WLB7', 'A0A0D2X1C9'], 'ARATH05780': ['A0A178W398', 'Q84WL9'], 'CHLRE13712': ['A0A2K3DYI2'], 'AMPQE20525': ['A0A1X7V197'], 'PHYPA18433': ['A0A7I4C843', 'A9SJQ5', 'Q0P7I1'], 'DICDI00993': ['P36411'], 'ARATH30052': ['A0A178V0J3', 'A0A5S9XYL2', 'O81769'], 'ARATH16140': ['A0A178VX88', 'A0A5S9X667', 'P49688', 'Q8LDY5'], 'TRYB204351': ['Q582U5'], 'RETFI29791': ['X6PGT6'], 'CYAME02325': [], 'CAEEL02024': ['Q93725'], 'PLAF700385': ['Q8IJF3'], 'PARTE05649': ['A0C1M6'], 'PARTE14449': ['A0EA99'], 'ARATH00713': ['A0A178WFT2', 'A0A654E8D0', 'A0A7G2DQF6', 'P42744'], 'PARTE25771': ['A0D4V3'], 'PHYPA23262': ['A0A7I4DD40', 'A9S4L3'], 'DROME20343': ['Q9VDV2'], 'CAEEL09447': ['P91374'], 'AMPQE23930': ['A0A1X7VF37'], 'CAEEL05789': ['P48166'], 'DICDI08644': ['Q54MM7'], 'PLAF701850': ['C0H5F1'], 'CHLRE11803': ['A0A2K3D097', 'A0A2K3D0A2'], 'HUMAN55270': ['A0A2R8YF12', 'A0A2R8YFL4', 'Q15813'], 'ACACA08661': ['L8GXV6'], 'TRYB205010': ['Q583H9'], 'MOUSE51567': ['D3Z1V3', 'Q8C0D5'], 'HUMAN79369': ['A0A384MTS1', 'D6R9Q1', 'Q96BP3'], 'NEUCR01423': ['Q1K6Y9', 'Q871U5'], 'DICDI02439': ['Q559R0'], 'RETFI37528': ['X6MPK0'], 'THAPS05138': ['B8BVM9'], 'PARTE28046': ['A0CXB5'], 'PARTE08173': ['A0BS22'], 'PARTE17648': ['A0E0F5'], 'NAEGR01457': ['D2VAN3'], 'CAPO307603': ['A0A0D2WVV2'], 'PARTE02633': ['A0CC48'], 'THAPS00463': ['B8BQM2'], 'HUMAN06471': ['B4DWZ4', 'F5H1Y3', 'P39748', 'Q6FHX6'], 'CHLRE07121': ['A0A2K3E5Q8'], 'MOUSE20565': ['G3UZ22', 'Q3U3D3', 'Q790I0', 'Q7TPT7', 'Q9Z1Q9'], 'THAPS01849': ['B8C9V9'], 'DICDI11232': ['Q54ER7'], 'ARATH35565': ['A0A178ULT4', 'A0A5S9Y8J1', 'A0A654G5R1', 'A0A7G2FFQ0', 'Q9LKU3'], 'PHYPA14142': ['A9T066'], 'MOUSE61282': ['Q3TFH8', 'Q3U5N1', 'Q8BME1', 'Q8BZ65', 'Q9CYR6'], 'CYAME04620': [], 'NEUCR05525': ['Q7S4F4'], 'NAEGR01423': ['D2V6F0'], 'CAPO301209': ['A0A0D2VL08'], 'NEUCR05688': ['P21772'], 'CHLRE14993': ['A8IT25'], 'PARTE17467': ['A0E144'], 'HUMAN13170': ['F8VXB1', 'F8VYZ4', 'P61923', 'Q53FU3'], 'DICDI12379': ['Q54BH9'], 'DICDI01572': ['Q55BP5'], 'ECTSI08390': ['D8LKI4'], 'MOUSE25330': ['Q91W43'], 'DROME09935': ['Q7K284'], 'CAPO304832': ['A0A0D2WJE0'], 'YEAST03557': ['P34110'], 'HUMAN07838': ['E9PND0', 'E9PNF5', 'Q6IA69'], 'PLAF704679': ['Q8IAN3'], 'YEAST05232': ['P32377'], 'CAPO308142': [], 'MOUSE50980': ['A0A0U1RNT6', 'Q3TED1', 'Q3THS6', 'Q99J57'], 'HUMAN79907': ['A8K517', 'D6RDJ2', 'P62266'], 'PARTE11559': ['A0BF23'], 'CAPO307673': ['A0A0D2VXZ3'], 'DICDI03120': ['Q86A77'], 'HUMAN35609': ['J3KS36', 'J3QKT6', 'J3QRS5', 'J3QSE2', 'Q8IY81'], 'THAPS06178': ['B8BWV6'], 'AMPQE21686': ['A0A1X7V6E2'], 'YEAST01776': ['A0A8H4BZ97', 'P40555'], 'PARTE08146': ['A0BRZ4'], 'HUMAN45499': ['P38117'], 'PLAF703636': ['C0H4B1'], 'NEUCR02642': ['Q7S3Y3'], 'CAPO302661': ['A0A0D2X3A7'], 'ECTSI11837': ['D7G3Z7'], 'DICDI05279': ['Q54XP6'], 'PARTE04435': ['A0C632'], 'HUMAN03998': ['B4DPV7', 'P49589'], 'CHLRE13614': [], 'NEUCR05003': ['Q7S6V7'], 'PHYPA06073': ['A9TN21'], 'ACACA05042': ['L8H567'], 'NEUCR04096': ['Q7RX37'], 'PARTE01658': ['A0CFR1'], 'CYAME03363': ['Q84KP5'], 'AMPQE21496': ['A0A1X7V4C8'], 'CAPO306376': ['A0A0D2WPW6'], 'DICDI08911': ['Q54LV0'], 'PHYPA14290': ['A0A2K1K9P5'], 'HUMAN90774': ['A0A024R713', 'P09622'], 'PARTE38750': ['Q6BFF2'], 'MOUSE30757': ['P97807'], 'YEAST04863': ['P40416'], 'PARTE03408': ['A0DLQ8'], 'ACACA03312': ['L8H9R8'], 'CHLRE04030': ['A8J4X1'], 'NEUCR03123': ['Q7S903'], 'PARTE28214': ['A0CXT3'], 'ACACA09040': ['L8GUJ4'], 'HUMAN36322': ['A0A1X8XL64', 'A8K4Y7', 'B2R4P9', 'B2R6Y1', 'K7EK07', 'P84243'], 'ECTSI06938': ['D8LK43'], 'THAPS07107': ['B8C0T2'], 'CYAME03546': [], 'CYAME03618': [], 'PARTE12725': ['A0EH83'], 'ACACA02858': ['L8HDK5'], 'CHLRE16730': ['A0A2K3D415'], 'RETFI34734': ['X6N3M5'], 'TRYB204432': ['Q57V45'], 'ARATH09283': ['A0A178WKY0', 'A0A7G2E885', 'Q9M9G7'], 'NAEGR03067': ['D2VM26'], 'DICDI09261': ['P54647'], 'YEAST00517': ['P19735'], 'NEUCR03628': [], 'CAEEL02534': ['O18131'], 'HUMAN44734': ['A0A8V8TNZ9', 'A0A8V8TP03', 'A0A8V8TQC4', 'A0A8V8TQQ7', 'P18858'], 'HUMAN93188': ['E5RHR2', 'E5RHY2', 'E5RIC0', 'E5RIZ7', 'Q9H9T3'], 'AMPQE25522': [], 'ACACA14690': ['L8GDT9'], 'HUMAN88814': ['C9J4G7', 'Q02218'], 'PARTE25558': ['Q3SEB8'], 'DICDI01559': ['Q55BS1'], 'DROME10023': ['A0A0B4LFD2', 'P29845'], 'PLAF701195': ['Q8I5L6'], 'HUMAN22991': ['B2R6N0', 'H0YKU5', 'P61201', 'Q53HJ0'], 'PHYPA26846': ['A9RTN8'], 'NEUCR02784': ['Q7RZC1'], 'MOUSE56690': ['P07742', 'Q05DU8', 'Q6NZB3'], 'PHYPA27816': ['A9RQJ3'], 'CAEEL04060': ['O76577'], 'AMPQE18379': [], 'NEUCR01437': ['Q1K6M8', 'Q8X0U5'], 'DROME25466': ['C1C3F8', 'Q8SZ19', 'Q9U7A2', 'Q9W414'], 'TRYB203193': ['Q57X08'], 'ARATH14527': ['A0A178VU31', 'Q9SKZ3'], 'PARTE23049': ['A0DEI2'], 'CAEEL09396': ['Q1XFY9'], 'PLAF703646': ['Q8I1Q2'], 'ARATH07080': ['A0A178WBS0', 'Q9ASR1'], 'RETFI22072': ['X6NW76'], 'HUMAN71589': ['C9JA17', 'C9JVW8', 'P38606'], 'THAPS08843': ['B8C3Y2'], 'THAPS03179': ['B8CDQ3'], 'ARATH19663': ['A0A384LAJ1', 'Q0WW79', 'Q8LEM8'], 'CYAME01685': [], 'ACACA10643': ['L8GQD6'], 'CYAME00873': [], 'HUMAN65607': ['C9JCJ9', 'C9JTK6'], 'AMPQE23500': ['A0A1X7VCJ5'], 'ACACA11763': ['L8GLQ1'], 'NEUCR07180': ['Q7SCP4'], 'NAEGR04273': ['D2UYG7', 'P53440'], 'HUMAN99837': ['A0A0U1RQM9', 'A0A0U1RQW8', 'A0A2K4Z9P8', 'A0A2K4Z9P9', 'A0A2K4Z9Q9', 'A0A2K4Z9R1', 'A0A2K4Z9S0', 'A0A2K4Z9S8', 'A0A2K4Z9T1', 'A0A2K4Z9T4', 'A0A2K4Z9T5', 'A0A2K4Z9T7', 'A0A2K4Z9T8', 'A0A2K4Z9U3', 'A0A2K4Z9V6', 'A0A2K4Z9V8', 'A0A2K4Z9W0', 'A0A2K4Z9W1', 'A0A2K4Z9W2', 'A0A2K4Z9W5', 'A0A2K4Z9W7', 'A0A2K4Z9W8', 'A0A2K4Z9X1', 'A0A2K4Z9X3', 'A0A2K4Z9X8', 'A0A2K4Z9X9', 'A0A2K4Z9Y1', 'A0A2K4Z9Z2', 'A0A2K4Z9Z6', 'A0A2K4Z9Z7', 'A0A2K4Z9Z9', 'A0A2K4ZA02', 'B2RCE0', 'P37287'], 'CAPO307052': ['A0A0D2UJW3'], 'PARTE05658': ['A0C1N5'], 'ARATH00397': ['A0A178W4P7', 'A0A178W6E7', 'A0A7G2DSF9', 'Q8W4M7'], 'CHLRE15173': ['A0A2K3DU33'], 'HUMAN95064': ['A0A024R9I0', 'P21283'], 'MOUSE47942': ['P97310', 'Q3UJN1', 'Q3UK39'], 'YEAST03931': ['P20457'], 'ECTSI06086': ['D7G473'], 'ARATH34870': ['A0A178UKM5', 'P29516'], 'NEUCR05998': ['Q6MFK6', 'Q7S640'], 'PLAF703045': ['A0A143ZWE8'], 'ACACA07494': ['L8H083'], 'PLAF701176': ['A0A144A1F1'], 'TRYB202901': ['Q57XC2'], 'DICDI09672': ['Q54JL0'], 'CAEEL15760': ['Q18786'], 'TRYB201356': ['Q388D6'], 'CYAME00367': [], 'DICDI06972': ['Q27562'], 'YEAST01304': ['P22213'], 'RETFI26979': ['X6N454'], 'PARTE38846': ['Q6BFM8'], 'NAEGR05433': ['D2V4W5'], 'DROME26477': ['C7LA94', 'O02649'], 'RETFI23748': ['X6NZD5'], 'AMPQE18682': ['A0A1X7USZ6'], 'MOUSE66170': ['A2AIH5', 'Q3TU17', 'Q64323'], 'PARTE06257': ['A0BZ55'], 'CHLRE05610': ['A8HVP2'], 'PLAF705135': ['Q8I2X4'], 'ECTSI04258': ['D8LPY7'], 'CHLRE09923': ['A0A2K3DDX8'], 'NEUCR06513': ['Q6MW28', 'Q7S7B6'], 'DROME27557': ['O46069', 'Q9W4Z9'], 'CAEEL11294': ['Q23223'], 'MOUSE49779': ['P80313', 'Q3TET0', 'Q3THH8', 'Q3TIJ7', 'Q3TJN2', 'Q3UIJ0', 'Q8C5Q5'], 'MOUSE07411': ['Q5SWD9'], 'PHYPA24254': ['A9S1S1'], 'ECTSI00706': ['D7FNG1'], 'RETFI36514': ['X6NEB0'], 'PLAF702623': ['Q8IL58'], 'YEAST06136': ['A0A6A5Q1I6', 'Q12074'], 'PHYPA31601': ['A9RE67'], 'PARTE31092': ['A0CKT0'], 'ECTSI02848': ['D8LRR1'], 'MOUSE39594': ['A2AE03', 'Q3T9Y8', 'Q9QZD9'], 'ACACA06857': ['L8H358'], 'HUMAN44535': ['B2R6R6', 'B4DDZ8', 'B4DLP6', 'P53041', 'Q53FR0'], 'NEUCR06472': ['Q9C285'], 'YEAST03384': ['P00830'], 'TRYB204232': ['A0A330LFC8', 'Q57XX1', 'Q9GPE9'], 'PHYPA12052': ['A0A2K1KWA5'], 'YEAST01097': ['P35179'], 'CYAME01853': [], 'PHYPA01748': ['A0A2K1IZ44'], 'AMPQE10699': ['A0A1X7TRV8'], 'PARTE18501': ['A0DWT3'], 'DICDI11437': ['Q54ES8'], 'RETFI24321': ['X6PE80'], 'PLAF700341': ['Q8IJJ5'], 'THAPS07769': ['B8C032'], 'TRYB200608': ['Q38AV5'], 'ACACA09114': ['L8GX59'], 'TRYB201458': ['Q387T3'], 'PARTE04670': ['A0C491'], 'ECTSI11224': ['D7FUM9'], 'CHLRE09728': ['A0A2K3E1Y3', 'A0A2K3E1Z2'], 'ARATH25782': ['A0A178UXT8', 'A0A5S9XQE2', 'A0A7G2EVY2', 'Q9ZT71'], 'AMPQE12813': ['A0A1X7U0N2'], 'HUMAN90241': ['H7C0A0', 'O00189'], 'DICDI03661': ['Q8T7K0'], 'PHYPA31208': ['A0A2K1ICJ6'], 'NAEGR01314': ['D2VIX8'], 'TRYB202164': ['Q386L1'], 'PLAF703146': ['O96220'], 'THAPS02705': ['B8CCB4'], 'MOUSE10958': ['Q8CEC6'], 'TRYB205664': ['Q57VV8'], 'YEAST01329': ['A0A6A5Q4G9', 'Q03390'], 'ACACA07209': ['L8H1I6'], 'DROME29720': ['C6SV02', 'Q8MT59', 'Q9W499'], 'NEUCR00668': ['Q1K772', 'Q871H3'], 'MOUSE58629': ['Q9DAJ4'], 'PHYPA29056': ['A9RKW1'], 'AMPQE12751': ['A0A1X7U070'], 'ARATH00694': ['A0A097PR03', 'A0A178W5Z7', 'Q9ZVN9'], 'TRYB204375': ['Q57ZM9'], 'CYAME03948': [], 'PLAF701070': ['Q8I5Y3'], 'NEUCR06598': ['Q9P4Z0', 'V5IPM8'], 'DICDI02565': ['Q7KWQ2'], 'MOUSE50075': ['P62309'], 'CAEEL00807': ['Q95YD5'], 'AMPQE21728': ['A0A1X7V5Q0'], 'DROME06182': ['Q9V7D2'], 'MOUSE38190': ['P28474', 'Q6P5I3'], 'ACACA06878': ['L8H0X3'], 'THAPS03578': ['B8CE86'], 'MOUSE35715': ['Q9DD18'], 'YEAST06406': ['P08425'], 'CHLRE04383': ['A0A2K3DG23'], 'THAPS02924': ['B8CCZ8'], 'ARATH24013': ['A0A178VBT8', 'A0A5S9XLG4', 'A0A654FH19', 'O49160'], 'ARATH02282': ['A0A178WJB0', 'A0A5S9UEA9', 'A0A654EKM7', 'A0A7G2DVT4', 'P93736'], 'THAPS02293': ['B8CB59'], 'TRYB203850': ['Q57X98'], 'TRYB200010': ['Q38CL5', 'Q9XZG5'], 'DROME10822': ['Q9W2I2'], 'DICDI04740': ['Q86JJ5'], 'MOUSE36626': ['P99026'], 'THAPS01989': ['B8CAA1'], 'NEUCR00790': [], 'MOUSE47058': ['Q3UZR8', 'Q99LC8'], 'DICDI08210': ['Q54NX0'], 'NAEGR05660': ['D2UY77'], 'CAPO307203': ['A0A0D2WUF3'], 'TRYB200356': ['Q38BL4'], 'ECTSI11806': ['D7FXH2'], 'CAEEL05195': ['Q20758'], 'MOUSE41274': ['A0A0A0MQI2', 'A0A0A0MQJ5', 'M0QW50', 'M0QWE4', 'Q3U889', 'Q8JZR5', 'Q91V37', 'Q91VS4'], 'CHLRE11614': ['A8HRS8'], 'ACACA02461': ['L8HEI1'], 'ACACA09472': ['L8GTL5'], 'NEUCR01087': ['Q7S3G1'], 'NAEGR14415': ['D2VN40'], 'NAEGR01242': ['D2VGU7'], 'ARATH34691': ['A0A178USA0', 'A0A5S9Y8M9', 'A0A654G3Q7', 'A0A7G2FBM7', 'Q8LPK4'], 'THAPS05318': ['B8CEG2'], 'AMPQE27656': ['A0A1X7VVZ9'], 'PHYPA00973': ['A0A2K1IYT1', 'A0A7I4BKD3', 'A0A7I4F9T2'], 'NAEGR00036': [], 'MOUSE37140': ['P97351', 'Q3U5P8', 'Q3UAC2', 'Q3UJU5', 'Q564F3', 'Q9D1S3'], 'ACACA08525': ['L8GZW9'], 'CHLRE00987': ['A8I6W9'], 'CAEEL10449': ['O45069'], 'PHYPA07060': ['A9TJW2'], 'ECTSI09741': ['D7G3J4'], 'CHLRE00910': ['A0A2K3DKT0'], 'DICDI02139': ['Q55AQ9'], 'CHLRE00651': ['A8JCS3'], 'DROME30674': ['Q9VXQ5'], 'HUMAN102952': ['A0A8Q3SIS9', 'A0A8Q3SIY6', 'A0A8Q3SJE8', 'A0A8Q3WLC8', 'A0A8Q3WLD1', 'A0A8Q3WLG7', 'O60832'], 'CAPO300938': ['A0A0D2X0Q7'], 'HUMAN59976': ['B2RDF2', 'H7BYY8', 'O00541'], 'ACACA05465': ['L8H4Y1'], 'PLAF702373': ['Q8ILV2'], 'YEAST03704': ['P14742'], 'CAEEL01237': ['Q9N5K2'], 'ACACA11527': ['L8GMK5'], 'DICDI06589': ['P14329'], 'TRYB201457': ['Q19R43', 'Q387T4'], 'TRYB203899': ['Q57ZI7'], 'ARATH36634': ['A0A178UHI7', 'A0A5S9YA07', 'F4JZZ1'], 'HUMAN56711': ['A2TJK5', 'Q9Y282'], 'CAPO302544': [], 'NAEGR10476': ['D2VT50'], 'PARTE29283': ['A0CSA0'], 'HUMAN99874': ['A0A5F9ZHW1'], 'NAEGR02266': ['D2V7A2'], 'PLAF701651': ['Q8IEK3'], 'MOUSE34755': ['Q99LI9'], 'NAEGR05931': ['D2UZV6'], 'CYAME01351': [], 'YEAST01167': ['P32347'], 'NEUCR02428': ['O13396'], 'YEAST01113': ['A0A6A5Q275', 'P0CX53', 'P0CX54'], 'CAEEL05820': ['Q22251'], 'CYAME02695': [], 'PHYPA12737': ['A9T281'], 'NAEGR00157': [], 'ACACA10998': ['L8GNV9'], 'THAPS11206': ['B8C8Q4'], 'ACACA08788': ['L8GUV2'], 'CYAME03603': [], 'PARTE15335': ['A0E8B2'], 'HUMAN73927': ['C9JUF0', 'E7EMV8', 'J3KSN7', 'Q14240'], 'ARATH01149': ['A0A178W5N5', 'A0A384KNV6', 'P42798'], 'ARATH38408': ['A0A178UNZ3', 'A0A7G2FGE6', 'Q9FLX9'], 'NAEGR14479': ['D2VPA1'], 'PHYPA29325': ['A9RLL8'], 'CAEEL01435': ['Q93619'], 'YEAST06300': ['A0A6A5Q6R8', 'Q08962'], 'CHLRE14320': ['A8I0I1'], 'DROME21200': ['Q9VHU1'], 'CAEEL02074': ['Q93572'], 'ACACA08007': ['L8GX50'], 'PARTE08631': ['A0BQW0'], 'PLAF700965': ['Q8IHR6'], 'DROME19710': ['A0A0B4LH53', 'P54351'], 'ACACA07260': ['L8H286'], 'DROME05631': ['Q9VKD2'], 'PARTE23906': ['A0DCA2'], 'CHLRE10997': [], 'YEAST05830': ['A0A6A5Q6J1', 'Q08726'], 'CAEEL12327': ['O17953'], 'PLAF703067': ['O96153'], 'NEUCR02245': ['Q1K6A2', 'Q870V0'], 'ARATH05022': ['A0A178W8D1', 'P49209', 'Q8LCC2'], 'MOUSE19734': ['P62270', 'Q3TW65', 'Q561N5'], 'MOUSE05920': ['P32233', 'Q5NBZ3', 'Q8BNS0', 'Q8CHR8'], 'ARATH27979': ['A0A178UZT9', 'Q8LPJ4'], 'NAEGR04554': ['D2V4Y9'], 'DICDI03639': [], 'THAPS10975': ['B8C817'], 'CAEEL04542': ['A1X3T7', 'Q21053'], 'CHLRE10900': ['A0A2K3E3P6'], 'DICDI09531': ['Q9NGP4'], 'PARTE33999': ['A0BPF5'], 'PHYPA22563': ['A9S7K2'], 'CYAME02282': [], 'PLAF701331': ['Q8I592'], 'CHLRE08499': ['A8IRC0'], 'HUMAN63033': ['B2R823', 'Q9NRX1'], 'TRYB203853': ['Q57X95'], 'CAEEL05368': ['Q18967'], 'DICDI10144': ['Q54I81'], 'CYAME02696': [], 'THAPS11208': ['B8C8Q6'], 'DROME15905': ['Q9VSK9'], 'PLAF704097': ['A8CBI1', 'C6KSS1'], 'ACACA14600': ['L8GES1'], 'MOUSE24450': ['F8WGE7', 'P83877'], 'RETFI27665': ['X6PEX3'], 'ACACA04117': ['L8HB44'], 'PLAF700060': ['Q8I275'], 'PHYPA14459': ['A9SVN1'], 'DROME04841': ['Q27268'], 'NEUCR06809': ['Q1K7B3', 'Q9C2I4'], 'THAPS00948': ['B8BS06'], 'HUMAN55484': ['A0A024R5Q7', 'B4E1L0', 'P30520'], 'THAPS08034': ['B8C1M1'], 'ARATH07089': ['A0A178WNA8', 'Q9SGT7'], 'NAEGR00724': ['D2V1Z2'], 'CAPO304715': ['A0A0D2X104'], 'TRYB202710': ['Q57YG5'], 'ACACA01113': ['L8HKA2'], 'CAPO305821': ['A0A0D2X2B2'], 'CYAME00502': [], 'THAPS01435': ['B8C9M3'], 'TRYB201045': ['Q389K2'], 'NAEGR13343': ['D2V193'], 'DICDI06581': ['O76740'], 'PLAF701074': ['Q8I5X9'], 'ARATH15356': ['A0A178VR43', 'P50883'], 'PHYPA05408': ['A0A7I4BKH8', 'A0A7I4BQY3'], 'TRYB201303': ['Q388J2', 'Q388P2'], 'CYAME02577': [], 'ECTSI07043': ['D7G7Y8'], 'PLAF705178': ['Q7K6A4', 'Q9GN14'], 'DICDI04886': ['Q54Z08'], 'NAEGR01409': ['D2V4W4'], 'NEUCR00012': ['Q7SEM3'], 'TRYB205440': ['Q583M1'], 'NEUCR02406': ['Q7S465'], 'MOUSE07878': ['Q3TUB5', 'Q3UFZ4', 'Q5RJG1'], 'ACACA02838': ['L8HDI9'], 'MOUSE33378': ['B7ZCT5', 'Q8BUU7'], 'NAEGR01669': [], 'PARTE32419': ['A0C8Z6'], 'PLAF702108': ['C0H5I9'], 'AMPQE22416': ['A0A1X7V8W6'], 'NEUCR04265': ['Q9C167'], 'ACACA00533': ['L8HLV1'], 'ACACA11723': ['L8GLK9'], 'THAPS07563': ['B8BZH6'], 'PARTE23624': ['A0DD77'], 'CAPO302643': [], 'DROME21492': ['G3M3A2', 'Q06559', 'Q29QY2'], 'ARATH02656': ['A0A178W2J0', 'A0A654EAJ3', 'A0A7G2DTS6', 'Q9FZ49', 'W8QPA0'], 'MOUSE14817': ['Q99JI4'], 'CAEEL08177': ['P34346'], 'NAEGR11866': ['D2W0P9'], 'PARTE37468': ['Q9TYH0'], 'ARATH21109': ['A0A178VH33', 'Q8VWI1'], 'YEAST04938': ['P49017'], 'CAEEL00420': ['Q9N3C9'], 'CAPO306295': ['A0A0D2WQU4'], 'CHLRE15335': ['A8J633'], 'ARATH28941': ['A0A178UWC4', 'A0A5S9XVK9', 'Q8VY78'], 'MOUSE55249': ['D3YVB4', 'D3Z712', 'F8WJ41', 'P62245', 'Q5M9M4'], 'MOUSE65858': ['Q3TI79', 'Q3TM67', 'Q9ESX5'], 'NEUCR02609': ['Q7S477'], 'THAPS02184': ['B8CAU9'], 'ACACA07575': ['L8GYA6'], 'ACACA07920': ['L8GX68'], 'AMPQE15966': [], 'NAEGR00337': [], 'HUMAN19027': ['B4DDS7', 'G3V346', 'P61011'], 'MOUSE52537': ['A0A0U1RP13', 'A0A0U1RP60', 'Q8VDP6'], 'YEAST01286': ['P12945'], 'PLAF701048': ['Q8I607'], 'PARTE13255': ['A0EFI6'], 'CAEEL08611': ['P34559'], 'DICDI04349': ['Q86L05'], 'PHYPA24644': ['A9S0L2'], 'RETFI28659': ['X6MNZ5'], 'YEAST05939': ['A0A6A5Q4M4', 'P21242'], 'MOUSE36314': ['O35593', 'Q3UD26'], 'AMPQE15468': [], 'AMPQE25200': ['A0A1X7VJX1'], 'CAPO304675': ['A0A0D2WIY2'], 'DROME14590': ['O61613'], 'HUMAN30211': ['P53602'], 'AMPQE24536': ['A0A1X7VGM5'], 'DROME09329': ['A0A1B2AK15', 'Q9V668'], 'CAPO306759': ['A0A0D2VTE6'], 'HUMAN79632': ['D6RF65', 'Q8TED0'], 'THAPS10646': ['B8C737'], 'CAPO307718': ['A0A0D2X4T0'], 'NAEGR14527': ['D2VQA8'], 'PARTE26512': ['A0D3N9'], 'YEAST02997': ['P38795'], 'NEUCR02480': [], 'AMPQE25282': ['A0A1X7VJ36'], 'YEAST02161': ['A0A6A5PXG0', 'P40078'], 'ECTSI11712': ['D7FXX4'], 'RETFI26818': ['X6LZM0'], 'CYAME02094': [], 'THAPS02783': ['B8CCJ1'], 'AMPQE17501': ['A0A1X7UMQ8'], 'CAEEL14139': ['Q22968'], 'CYAME01011': [], 'PARTE19371': ['A0DTP4'], 'HUMAN62057': ['Q9H477'], 'PHYPA19274': ['A0A7I4AXT7', 'A0A7I4B749', 'A9SIW4'], 'PARTE28533': ['A0CVG3'], 'AMPQE25646': ['A0A1X7VLD2'], 'AMPQE20724': ['A0A1X7V1Z9'], 'MOUSE05298': ['G3UZ33', 'Q3THG2', 'Q3UWW9', 'Q497E8', 'Q5BKQ9', 'Q7TMI0', 'Q8BG32', 'Q8BK73'], 'ARATH16084': ['A0A178VMW2', 'A0A7G2EDD2', 'O22212'], 'PARTE04270': ['A0C6C9'], 'CYAME03396': [], 'PLAF703321': ['O77327'], 'PLAF703090': ['O96169'], 'YEAST01931': ['A0A6A5Q0W2', 'P22141'], 'HUMAN06671': ['H7C3X5', 'Q13190'], 'CAEEL08623': ['P34647'], 'DICDI03027': ['Q86AS7'], 'ECTSI00076': ['D8LAZ9'], 'ECTSI00970': ['D7FQ68'], 'NAEGR15567': ['D2VTP7'], 'TRYB204382': ['Q57ZM2'], 'CHLRE00058': ['A8JEW4'], 'MOUSE46486': ['Q4VAB2', 'Q8VCE2'], 'NEUCR00908': ['Q8X082'], 'DICDI04127': ['Q86HX0'], 'MOUSE03264': ['Q99PV0'], 'DROME11195': ['Q9W2P5'], 'ACACA08552': ['L8GYR2'], 'HUMAN30714': ['B4DNK0', 'Q9BZG8'], 'CYAME01626': [], 'NEUCR01713': ['Q7S2J5'], 'ACACA06944': ['L8GZW6'], 'CYAME00471': [], 'CAPO306976': ['A0A0D2UI40'], 'CHLRE14110': ['A8IIA2'], 'CHLRE03057': ['A0A2K3CU77'], 'TRYB204164': ['Q57WZ3'], 'AMPQE21223': ['A0A1X7V277'], 'CAPO307728': ['A0A0D2X4T2'], 'NEUCR06215': ['Q6MWP8', 'Q7SC18'], 'CAPO301724': [], 'NEUCR04046': ['Q9Y756'], 'RETFI36276': ['X6P0L9'], 'CYAME02608': [], 'THAPS07164': ['B8C0Y9'], 'HUMAN23750': ['H3BM89', 'P36578', 'Q53G74', 'Q59GY2'], 'CHLRE08502': [], 'ECTSI06478': ['D8LGC6'], 'NAEGR01090': ['D2VBC9'], 'HUMAN09715': ['B0YIW5', 'P48444'], 'DICDI04164': ['Q551M3'], 'HUMAN65474': ['B8ZZE3', 'Q9NRN9'], 'CYAME01788': [], 'DROME06521': ['O16129'], 'CAPO303060': ['A0A0D2X3W0'], 'CAPO303294': ['A0A0D2VV35'], 'MOUSE63773': ['Q9WU78'], 'CAEEL07548': ['Q10039', 'Q8I711'], 'HUMAN45062': ['M0QZC5', 'P62280'], 'PLAF700221': ['Q7KQL5'], 'ECTSI11175': ['D7FR97'], 'DICDI06057': ['Q54VC8'], 'THAPS00561': ['B8BQX0'], 'ARATH27843': ['A0A654FQP8', 'Q8VZ75'], 'AMPQE18371': ['A0A1X7UQH7'], 'DROME07004': ['A0A023T5E7', 'P49028'], 'CAPO307343': ['A0A0D2X4A4'], 'RETFI39506': ['X6MQI3'], 'CYAME04088': [], 'ECTSI00094': ['D8LB17'], 'DICDI05459': ['P35084'], 'THAPS03569': ['B8CE77'], 'DICDI06805': ['Q54T49'], 'DICDI11306': ['Q54ER6'], 'PHYPA19918': ['A9SF12'], 'NEUCR02617': ['Q7S4E5'], 'HUMAN101232': ['B2R491', 'P62701', 'Q53HV1', 'Q96IR1'], 'DICDI11630': ['Q54DS8'], 'THAPS07908': ['B8C0H0'], 'PARTE39138': ['Q6BGC4'], 'MOUSE00556': ['Q9JJ80'], 'CAEEL00939': ['P91341'], 'HUMAN39320': ['E5KT65', 'P19388'], 'PARTE23596': ['P07463'], 'CAEEL08713': ['Q09644'], 'CAPO307979': ['A0A0D2UQG3'], 'CAPO302314': ['A0A0D2WPZ5'], 'YEAST06370': ['A0A8H4BV16', 'Q06504'], 'ACACA07863': ['L8GY58'], 'HUMAN48048': ['Q9GZP4', 'X6R8S9', 'X6RHB9'], 'CAEEL07841': ['Q18037'], 'CAPO304797': ['A0A0D2X124'], 'DROME03459': ['M9MRF2', 'Q9VMU4'], 'DROME02020': ['A4V0N4', 'Q27331'], 'ARATH16512': ['A0A178VSJ6', 'A0A7G2EDK6', 'Q96254'], 'MOUSE44519': ['Q8CFI7'], 'CHLRE09979': ['A0A2K3E3F4'], 'PHYPA03237': ['A9TVY3'], 'PARTE11698': ['Q3SE31', 'Q3SE32'], 'ECTSI00453': ['D8LD02'], 'PARTE30033': ['A0CQM8'], 'PHYPA13585': ['A9SYM5'], 'CYAME04588': [], 'MOUSE44581': ['Q80XH7', 'Q9WVF7'], 'THAPS00963': ['B8BS21'], 'NAEGR00624': ['D2UXA1'], 'DROME10147': ['P18053'], 'HUMAN56587': ['A0A384MTQ3', 'P23526'], 'CHLRE10743': ['A8J073'], 'ARATH11162': ['A0A178W111', 'Q93ZV6', 'Q9SI58'], 'HUMAN20306': ['G3V2M5', 'Q4FZ45', 'Q9Y324'], 'NAEGR00080': ['D2V4E6'], 'CHLRE07296': ['A8HNG4'], 'DROME09207': ['Q9W229'], 'ACACA00702': ['L8HK40'], 'MOUSE14843': ['Q9D051'], 'ARATH30115': ['A0A5S9XXU3', 'A0A654FUU6', 'Q500X1', 'Q56XA4'], 'NEUCR06725': ['Q9P6V8'], 'PARTE22390': ['A0DIB1'], 'AMPQE21123': ['A0A1X7V344'], 'DICDI01105': ['Q55DY7'], 'ECTSI07913': ['D7G1V1'], 'PHYPA21440': ['A9SB15'], 'THAPS04318': ['B8BTA9'], 'DROME15672': ['F3YDP0', 'Q9W0C5'], 'CHLRE06280': ['Q9FQ96'], 'CAPO307509': ['A0A0D2WUH7'], 'AMPQE27491': [], 'ARATH02654': ['A0A654ECH4', 'Q9FZ48'], 'CAEEL06744': ['O02642'], 'PHYPA23176': ['A0A7I4DG10', 'A9S4A7'], 'CAEEL10919': ['O61219'], 'ECTSI02019': ['D8LQJ7'], 'PHYPA18807': ['A0A2K1J923', 'A0A7I4B1D4', 'A0A7I4B4B4'], 'DROME04486': ['O76994'], 'DICDI05691': ['Q54WG6'], 'MOUSE40515': ['A0A0R4J093'], 'THAPS04784': ['B8BUM6'], 'ACACA14913': ['L8GFB0'], 'PLAF701650': ['Q8IEK4'], 'AMPQE21150': ['A0A1X7V3W4'], 'ACACA12647': ['L8GI40'], 'PARTE08427': ['A0BR58'], 'HUMAN47384': ['B4E2U0', 'K7EM49', 'K7EMN2', 'P52209'], 'DROME16834': ['M9PHM6', 'Q9VS34'], 'HUMAN01884': ['A0A8V8TNX3', 'B7Z6H4', 'O14802'], 'CYAME02184': [], 'CYAME04648': [], 'AMPQE14679': [], 'PHYPA17792': ['A0A2K1KKE7'], 'CHLRE00080': ['A0A2K3DIA7'], 'MOUSE65961': ['A3KMJ8', 'P61759'], 'CAEEL17822': ['Q9U2Z1'], 'NEUCR00976': ['Q873C7'], 'ECTSI12008': ['D7FYU3'], 'CAPO301072': ['A0A0D2WJR4'], 'NEUCR06591': ['Q6MWT3', 'Q7SC94'], 'NEUCR04064': ['Q6M980', 'Q7RWR0'], 'THAPS07408': ['B8BZ19'], 'ECTSI00411': ['D7FQS5'], 'YEAST00080': ['P39729'], 'CAEEL02135': ['Q9N5R9'], 'YEAST01824': ['P0CX31', 'P0CX32'], 'THAPS08075': ['B8C1R2'], 'NAEGR10922': ['D2VVJ8'], 'MOUSE60368': ['A0A1D5RLW5', 'A0A1D5RM79', 'P62717', 'Q3THJ0'], 'DICDI11639': ['Q54DR1'], 'RETFI38959': ['X6P7X9'], 'NEUCR03117': ['Q7S908'], 'HUMAN50452': ['P53611', 'Q6IB63'], 'PLAF700605': ['Q8IIS5'], 'YEAST03026': ['A0A6A5PVE9', 'P38701'], 'THAPS05730': ['B8CFM9'], 'CHLRE13605': ['A8J7J2'], 'TRYB205016': ['Q583H3'], 'PARTE32461': ['A0C939'], 'MOUSE51519': ['A0A0U1RNR3', 'Q9DCW4'], 'HUMAN40283': ['Q8IUR0'], 'ARATH20411': ['A0A178VC00', 'A0A5S9XE88', 'A0A654FB00', 'A0A7G2ERF1', 'Q8L6Y1'], 'ECTSI04643': ['D8LSH5'], 'ECTSI09685': ['D8LDZ0'], 'PLAF702138': ['P61074'], 'NAEGR05072': ['D2VT72'], 'HUMAN13481': ['F8VPA1', 'F8VPF9', 'F8VRP1', 'F8VX07', 'F8VX68', 'F8VZK9', 'F8W4S1', 'F8W642', 'O75390'], 'ARATH29988': ['A0A178V038', 'Q8H1G5'], 'HUMAN17290': ['A0A140VJZ4', 'P15374'], 'ARATH01943': ['A0A178WAJ7', 'A0A178WB72', 'A0A654EJW9', 'Q9C5X3'], 'PARTE38927': ['Q6BFU7'], 'YEAST00831': ['A0A6A5Q0S8', 'P39517'], 'CHLRE04891': ['A0A2K3DQK9'], 'TRYB200841': ['Q38A69'], 'PHYPA18756': ['A9SJE5'], 'THAPS04789': ['B8BUN1'], 'CAEEL06224': ['Q9XV52'], 'RETFI35231': ['X6MDQ2'], 'CHLRE16504': ['A8JDR3', 'Q65Z21'], 'PHYPA17673': ['A0A7I4CCX7', 'A9SLV6'], 'NEUCR04976': ['A7UWM6'], 'NEUCR04323': ['Q7SBD5'], 'YEAST04321': ['A0A6A5PUM4', 'P33750'], 'CAEEL05937': ['P52713'], 'RETFI26958': ['X6MG10'], 'CHLRE16319': [], 'AMPQE20962': [], 'CAPO306228': ['A0A0D2WQR3'], 'THAPS00993': ['B8BS51'], 'CAEEL15242': ['O17606'], 'PARTE28825': ['A0CUJ6'], 'CHLRE10607': ['A0A2K3E365'], 'ACACA04806': ['L8H8Q0'], 'CAEEL08671': ['P34552'], 'CAEEL02984': ['O17071'], 'CYAME04818': [], 'THAPS05039': ['B8BVD1'], 'DICDI01340': ['Q55CQ6'], 'HUMAN17181': ['A0A3B3IS90', 'Q2TAA5'], 'PHYPA03463': ['A0A2K1JG38'], 'NEUCR04027': ['Q6M9B6', 'Q7RZ70'], 'NAEGR15521': ['D2VEA4'], 'AMPQE27754': ['A0A1X7VTN2'], 'CAEEL00155': ['Q8T874'], 'DICDI08508': ['Q54N17'], 'CAPO302296': ['A0A0D2VQG0'], 'NEUCR06137': ['V5INR2'], 'CYAME02901': [], 'DROME26787': ['B4F5L6', 'Q9W328'], 'CAEEL14108': ['O44156'], 'PHYPA13256': ['A0A2K1KMK5'], 'THAPS08311': ['B8C2E8'], 'AMPQE24084': ['A0A1X7VEV8'], 'CAPO306416': ['A0A0D2X330'], 'HUMAN25767': ['E9PMM9', 'H3BNG3', 'P15880', 'Q3KQT6', 'Q6IPX5', 'Q8N5L9'], 'HUMAN33178': ['A0A087X0W4', 'A0A0C4DGT1', 'Q13085'], 'ACACA07506': ['L8GYX4'], 'ECTSI08254': ['D7FPM0'], 'DROME14826': ['Q9VSS1'], 'THAPS08995': ['B8C553'], 'DICDI00280': ['Q55G91'], 'NAEGR13383': ['D2V2P3'], 'DROME05317': ['O96794', 'Q9VJG0'], 'THAPS08302': ['B8C2D9'], 'PHYPA31819': ['A0A2K1J1B5'], 'ARATH17456': ['A0A654F3F3', 'Q9M888'], 'CHLRE09774': ['A0A2K3E0J5'], 'ARATH12291': ['A0A178VQN7', 'B9DHU5', 'Q9SL48'], 'CHLRE12153': ['A8J8V5'], 'ARATH01600': ['A0A178WGR0', 'A0A7G2DUG2', 'Q9XIK4'], 'TRYB202765': ['Q57VN1'], 'NEUCR03488': [], 'CAEEL18143': ['H2KYN0'], 'CAPO303402': ['A0A0D2ULB6'], 'NAEGR05410': ['D2UYC4'], 'NEUCR04507': ['Q8X066'], 'CYAME04452': [], 'CHLRE03698': ['Q8GUQ9'], 'RETFI28813': ['X6N9R1'], 'DROME22064': ['Q7KSN8'], 'YEAST01502': ['Q03919'], 'CYAME04685': [], 'YEAST02552': ['P32558'], 'ARATH08035': ['A0A178WDJ3', 'A0A7G2E270', 'Q9S826'], 'PHYPA14745': ['A0A2K1K4E8'], 'HUMAN10312': ['Q4G0F5'], 'CHLRE08874': ['A0A2K3CQD8'], 'ACACA11002': ['L8GQ47'], 'ECTSI02197': ['D8LGL7'], 'PARTE22350': ['A0DI71'], 'MOUSE29761': ['Q3UM45'], 'MOUSE36369': ['Q3UJZ7', 'Q3USZ5', 'Q9D6Z1'], 'THAPS11204': ['B8C8Q2'], 'NAEGR13703': ['D2V932'], 'HUMAN05339': ['E9PJN6', 'Q9H0A0'], 'DROME13177': ['C6SUW3', 'P55935', 'Q95RG1'], 'THAPS06864': ['B8BYU7'], 'NAEGR04370': ['D2VU93'], 'CYAME04660': [], 'THAPS06557': ['B8BXY9'], 'PHYPA24164': ['A0A2K1L8W6'], 'CAEEL07951': ['Q20938'], 'HUMAN29589': ['A0A140VJE7', 'H3BN71', 'H3BN75', 'H3BPN9', 'H3BR36', 'H3BRM7', 'H3BS13', 'H3BV30', 'O43747', 'Q8IY97'], 'DROME03468': ['Q9Y134'], 'CAPO302349': ['A0A0D2WNX2'], 'PARTE14262': ['A0EAW1'], 'DICDI12023': ['Q54CL2'], 'HUMAN91382': ['A0A140VK12', 'Q9H9B7', 'Q9UBF2'], 'PLAF702829': ['Q8IKL5'], 'AMPQE27743': ['A0A1X7VWA4'], 'PARTE05753': ['A0C187'], 'ACACA09589': ['L8GTE0'], 'ECTSI01273': ['D7G6W7'], 'AMPQE12505': [], 'CYAME03302': [], 'CYAME02547': [], 'PHYPA26528': ['A0A7I4ENY3', 'A9RUB6'], 'TRYB203286': ['Q57TU5'], 'DICDI08369': ['Q54NG2'], 'DICDI03017': ['P13023'], 'TRYB201874': ['Q19R42', 'Q38F20'], 'YEAST03390': ['P47037'], 'HUMAN91195': ['P20839'], 'HUMAN68890': ['A0A2R8Y738', 'A0A2R8YEM3', 'E7EQV9', 'E7EX53', 'P61313'], 'CYAME01459': ['Q84KQ2'], 'ARATH13383': ['A0A178VQT4', 'P40940'], 'CAEEL06502': ['Q9XWI1'], 'AMPQE25786': ['A0A1X7VMC3'], 'PARTE19793': ['A0DS10'], 'CYAME01114': [], 'HUMAN67206': ['A8K666', 'Q9BR63', 'Q9NSD9'], 'YEAST02669': ['A0A7I9ETF9', 'P48234'], 'CYAME00625': [], 'YEAST00239': ['A0A6A5Q0Z9', 'P38074'], 'NAEGR01554': ['D2V249'], 'NAEGR04953': ['D2VNX5'], 'CHLRE10085': ['A8I232'], 'HUMAN85169': ['A0A0S2Z4T1', 'B2R7C5', 'B4DS46', 'Q53HJ4'], 'YEAST02983': ['A0A6A5PXI3', 'P32899'], 'ARATH24247': ['A0A1I9LME9', 'A0A654FIP6'], 'CAEEL01640': ['P90868'], 'ARATH12115': ['Q8H0U4'], 'TRYB200719': ['Q38AJ3'], 'DICDI09637': ['Q54JP5'], 'MOUSE42602': ['Q9D7S9'], 'PARTE06860': ['A0BWV5'], 'THAPS07277': ['B8C1A1'], 'PHYPA25619': ['A9RXS6'], 'CAPO301957': ['A0A0D2WLX1'], 'PARTE27841': ['A0CYK3'], 'ARATH26567': ['A0A178V400', 'A0A5S9XRA6', 'A0A654FN84', 'A0A7G2EXD6', 'Q0WW10', 'Q9LD55'], 'NEUCR02735': ['Q7RXH5'], 'PHYPA19414': ['A9SGM2'], 'PLAF704866': ['C0H4X1'], 'CYAME01732': [], 'ARATH24535': ['A0A178VIS0', 'A0A5S9XMH3', 'Q9M1A8'], 'ACACA03274': ['L8HB34'], 'PARTE01948': ['A0CF81'], 'CAEEL10408': ['P50305'], 'PLAF701578': ['Q8IES4'], 'PARTE25723': ['A0D4Q5'], 'MOUSE46109': ['P51410', 'Q5EBQ6', 'Q5M9J5'], 'DICDI07627': ['P42528'], 'TRYB202890': ['Q57XD3'], 'HUMAN79478': ['A0A087WVD7', 'Q9Y3D8'], 'TRYB203140': ['Q57UJ7'], 'DICDI08444': ['P21900'], 'CAEEL09402': ['O44411'], 'CAEEL14759': ['Q18921'], 'PLAF704553': ['Q8IBM9'], 'AMPQE24890': ['A0A1X7VIB8'], 'PARTE24090': ['A0DB52'], 'NEUCR02076': ['Q7SCW3'], 'RETFI27548': ['X6NCI4'], 'CAPO307360': ['A0A0D2UKX0'], 'ARATH25941': ['A0A178UTB9', 'A0A654FM63', 'A0A7G2F087', 'Q9M0Y8'], 'CAPO308308': ['A0A0D2X5Q9'], 'MOUSE61213': ['E9PW69', 'E9Q0X0', 'Q3TL95', 'Q3UCF0', 'Q9R1P0'], 'CAPO304400': ['A0A0D2WXU8'], 'DICDI02361': ['Q86JE5'], 'PLAF704400': ['Q8IC16'], 'PLAF703184': ['O96258'], 'HUMAN14922': ['F8VP99', 'P40616'], 'ARATH01890': ['A0A178WC32', 'O65381'], 'ARATH20313': ['A0A178VBD4', 'A0A654FE88', 'P28769'], 'PLAF702814': ['Q8IKM8'], 'RETFI25885': ['X6LC74'], 'DROME21892': ['Q8IGT5', 'Q95WY3'], 'NEUCR04230': ['Q7S5R6'], 'ARATH24986': ['A0A178VAA9', 'A0A7G2EVT7', 'Q9LZQ9'], 'ACACA06726': ['L8H0D3'], 'HUMAN68626': ['D3YTB1', 'D3YTI8', 'P62910'], 'AMPQE21817': ['A0A1X7V614'], 'MOUSE10611': ['Q8VCP8'], 'THAPS04170': ['B8LDK1'], 'CAPO307927': ['A0A0D2VZC8'], 'HUMAN20717': ['G3V4X1', 'P62191', 'Q53HB3', 'Q53XL8'], 'CAEEL07067': ['G5ECM6', 'Q7JQD2'], 'RETFI30801': ['X6LX77'], 'THAPS02822': ['B8CCN0'], 'NAEGR14171': ['D2VJJ6'], 'ECTSI04375': ['D8LDL8'], 'HUMAN65232': ['A0A140VKF2', 'C9JW37', 'O00487'], 'CAPO306271': ['A0A0D2WQT4'], 'AMPQE27969': ['A0A1X7VVR2'], 'MOUSE45719': ['A0A0J9YU58', 'A0A0R4J0B7'], 'DICDI10333': ['Q54HL6'], 'ARATH13507': ['A0A178W1L2'], 'DICDI03462': ['P46800'], 'ECTSI01030': ['D7FQC8'], 'PHYPA28573': ['A9RPH2'], 'THAPS09142': ['B8C5K1'], 'PARTE23958': ['A0DCF4'], 'PLAF704668': ['Q8IAM2', 'Q9XXW9'], 'DROME19504': ['C7LA75', 'P11147'], 'CAPO305078': ['A0A0D2X192'], 'PHYPA11874': ['A0A7I4DJY1', 'A9T3P5'], 'NAEGR00687': ['D2V102'], 'HUMAN85321': ['A8K7A0', 'P49643'], 'CAEEL01824': ['Q93638'], 'ARATH36644': ['A0A178UP13', 'A0A5S9YB81', 'A0A7G2FHM3', 'F4K000', 'Q94A80', 'Q9FHY6'], 'ACACA12947': ['L8GIT7'], 'NEUCR07470': [], 'AMPQE23168': [], 'ARATH23622': ['A0A178VA59', 'Q9M352'], 'YEAST03516': ['Q00381'], 'DROME01668': ['P84029', 'X2J6D4'], 'ARATH30862': ['A0A178V463', 'A0A5S9XZI3', 'A0A654FW45', 'O23240'], 'HUMAN65116': ['A0A140VJK2', 'A8K1Z2', 'E7EM56', 'F5GYK7', 'P43304', 'Q53T76'], 'AMPQE14397': ['A0A1X7U7P6'], 'YEAST00124': ['A0A6A5Q3W0', 'P10664'], 'DICDI07243': ['Q54RU0'], 'DROME15139': ['A4V2B8', 'P08181'], 'MOUSE11162': ['Q3TIY6', 'Q3UUX9', 'Q61598'], 'CAEEL02502': ['O02334'], 'ECTSI07366': ['D8LUA8'], 'DROME08778': ['A0A0B4LEY9', 'C5WLT8', 'Q9V411'], 'NAEGR01633': ['D2VEL9'], 'NAEGR01686': ['D2VBD1'], 'PLAF700783': ['Q8IIA2'], 'PLAF700610': ['Q8IIS0'], 'NEUCR03826': ['Q7RV74'], 'THAPS09203': ['B8C5R2'], 'CAEEL10119': ['Q23445'], 'MOUSE08110': ['P11157', 'Q3THV8'], 'RETFI34135': ['X6MP60'], 'CAEEL12411': ['O62431'], 'MOUSE16414': ['P97452', 'Q3THV0', 'Q3TJZ5'], 'YEAST01670': ['A0A7I9BTX5', 'P40482'], 'PARTE38031': ['A0CWW3'], 'DICDI03454': ['Q869Y7'], 'TRYB205527': ['Q585X3'], 'PHYPA25555': ['A0A7I4AXY8', 'A9RXK5'], 'CYAME03408': [], 'THAPS10078': ['B5YN79'], 'CHLRE03031': ['A0A2K3CUX2'], 'MOUSE40098': ['B1ARR6', 'B1ARR7', 'P17182', 'Q5FW97'], 'THAPS11080': ['B8C8C2'], 'DICDI09322': ['Q54KM7'], 'DROME08046': ['Q07886'], 'CHLRE15574': ['A0A2K3D4R2'], 'ACACA14083': ['L8GFE1'], 'ECTSI09042': ['D7FIH9'], 'TRYB201818': ['Q38F76'], 'TRYB206095': ['Q585S5'], 'ACACA07171': ['L8H014'], 'CAPO300279': ['A0A0D2VFY2'], 'ACACA00479': ['L8HJF7'], 'AMPQE09594': ['I1EYW3'], 'CYAME02069': [], 'CAPO300216': ['A0A0D2WI59'], 'CAEEL01263': ['Q95YE1'], 'TRYB201300': ['Q388J5'], 'ARATH40471': ['A0A178UD18', 'A0A5S9YI34', 'O49541', 'Q9FLH2', 'Q9ZRQ2'], 'CAEEL01757': ['P29691'], 'ECTSI10935': ['D7FWI5', 'D7G188'], 'AMPQE27727': ['A0A1X7VUX8'], 'CYAME02675': [], 'DICDI06693': ['Q54TF6'], 'CYAME03821': [], 'PLAF704864': ['Q8IB60'], 'PHYPA11963': ['A9T458'], 'PARTE30382': ['A0CPS2'], 'NEUCR03278': ['V5INX3'], 'TRYB203663': ['D6XKG7', 'Q9NCA0'], 'DROME05720': ['Q7JZW2'], 'PLAF702430': ['Q8ILP6'], 'ACACA07698': ['L8GYR7'], 'TRYB202545': ['Q38D26', 'Q9BLY2'], 'YEAST03388': ['A0A6A5PTZ9', 'P40413'], 'HUMAN12947': ['Q99471'], 'CAPO304952': ['A0A0D2VJS8'], 'HUMAN101536': [], 'ECTSI03316': ['D7FIR4'], 'ARATH17479': ['A0A178VAQ8', 'A0A5S9X8K8', 'A0A7G2EHU6', 'Q9M876'], 'DROME12632': ['Q9VSL9'], 'DROME20650': ['Q9VB05'], 'ARATH33935': ['A0A178UCA6', 'A0A5S9Y772', 'P57751'], 'CHLRE16378': ['A0A2K3D634'], 'AMPQE17595': ['A0A1X7UN12'], 'YEAST04813': ['P32497'], 'PHYPA20393': ['A9SDD3'], 'CHLRE16464': ['A8JHC3'], 'TRYB202405': ['Q38DH5'], 'CHLRE15822': ['A8JDP4'], 'HUMAN95093': ['A0A087X1F8'], 'HUMAN87239': ['A8K4W5', 'Q59GW6', 'Q9BWD1'], 'DROME01667': ['H0RNE1', 'Q95SB0', 'Q9GPQ2', 'Q9VQI7'], 'HUMAN87793': ['P33947'], 'NAEGR01535': ['D2UXM2'], 'YEAST00252': ['A0A6A5Q1V3', 'P02309'], 'DICDI03976': ['Q552D9'], 'ACACA01297': ['L8H7G3', 'L8HJ59'], 'NAEGR01596': [], 'ECTSI06124': ['D7G4B1'], 'DICDI07074': ['Q54SA7'], 'PHYPA22761': ['A0A2K1JL69'], 'DROME08715': ['A0AQH0', 'Q8SYQ2', 'Q95SA6'], 'HUMAN73170': ['C9IYK2', 'C9J578', 'C9J9E4', 'C9JJ64', 'C9JR83', 'C9JVD8', 'C9JWF0', 'Q9NTJ3'], 'CHLRE13334': ['A8IWJ8'], 'YEAST03419': ['A0A6A5PSE9', 'P0C0W1'], 'CHLRE05045': ['A8IPE0'], 'DROME27216': ['Q9VR89'], 'MOUSE59641': ['Q544R1', 'Q6P8V7', 'Q9Z2Y8'], 'CYAME01723': [], 'ACACA01622': ['L8HI96'], 'PHYPA26948': ['A9RTY7'], 'MOUSE11504': ['Q99ME9'], 'NAEGR01505': ['D2VG67'], 'DICDI00762': ['Q55ET7'], 'MOUSE15771': ['E0CZA1', 'P80316'], 'THAPS09949': ['B5YMU6'], 'CYAME00983': [], 'CAPO304098': ['A0A0D2VZZ9'], 'PARTE05428': ['A0C2G7'], 'YEAST03404': ['P00572'], 'THAPS10297': ['B5YNU8'], 'AMPQE05233': ['A0A1X7T281'], 'ARATH39201': ['A0A178U8W0', 'A0A5S9YEZ1', 'A0A7G2FKY9', 'Q8LAJ4'], 'PHYPA29183': ['A9RL78'], 'NEUCR06213': ['P10857'], 'ECTSI04621': ['D8LSF3'], 'YEAST03119': ['Q6Q547'], 'CAEEL00089': ['Q9BL61'], 'NAEGR02287': ['D2V7T0'], 'ARATH24771': ['A0A654FJQ0', 'B3H7G2'], 'HUMAN33926': ['K7ENE3', 'Q9BRG1'], 'DICDI05674': ['Q54WI8'], 'PHYPA13930': ['A0A2K1JKU5'], 'CAPO307211': ['A0A0D2UKE3'], 'PLAF700770': ['Q8IIB4', 'Q9U935'], 'HUMAN15131': ['F8VRU2', 'Q7Z3R8', 'Q9NW08'], 'MOUSE25275': ['P23116'], 'CYAME03240': [], 'AMPQE27439': ['A0A1X7VTX4'], 'HUMAN15647': ['Q9Y4C8'], 'CHLRE05047': ['A8INY3', 'Q39582'], 'TRYB202824': ['D6XKS6', 'O97134'], 'NAEGR01165': ['D2VDW6'], 'DROME09446': ['E4NKN3', 'Q9W1V3'], 'NEUCR07564': ['Q7RVL0'], 'CYAME04670': [], 'AMPQE21076': ['A0A1X7V2G1'], 'DICDI12909': ['C7G054'], 'HUMAN78810': ['A0JLQ5', 'Q8TDN6'], 'CYAME01812': [], 'HUMAN42045': ['O14579', 'Q53HJ6', 'Q7Z4Z1'], 'NAEGR11918': ['D2W119'], 'YEAST01977': ['P89886'], 'DROME04689': ['Q9VQL1'], 'NAEGR01729': [], 'ARATH05369': ['A0A178W9L7', 'A0A654EFI3', 'A0A7G2DVG6', 'Q9C8W1'], 'CAPO305666': ['A0A0D2VNY2'], 'NEUCR04605': ['Q8X0H8'], 'CHLRE00210': ['A8J3Y6'], 'CHLRE11197': ['A0A2K3E3R4'], 'TRYB205405': ['Q583Q6'], 'NAEGR01445': ['D2V9T9'], 'CHLRE00616': ['A0A2K3E8F6'], 'NEUCR02640': ['Q8X132'], 'CAPO300364': ['A0A0D2X0B6'], 'CAPO306285': ['A0A0D2VRE4'], 'ARATH22999': ['B3H658'], 'DICDI11540': ['Q54E24'], 'PLAF701506': ['Q8I4S1'], 'NAEGR00108': ['D2UXL6'], 'DICDI04716': ['Q54ZD1'], 'PLAF704996': ['Q8I3B0'], 'CYAME03739': [], 'DROME01038': ['P84051'], 'THAPS05007': ['B8BV99'], 'AMPQE04896': ['A0A1X7T0T9'], 'PLAF703620': ['C0H4A6'], 'CAPO305770': ['A0A0D2WMQ8'], 'HUMAN66438': ['Q9Y2X3'], 'ACACA02988': ['L8HB77'], 'CHLRE04101': ['A0A2K3DDD4'], 'THAPS10637': ['B8C728'], 'PLAF704581': ['Q8IBJ9'], 'ARATH07396': ['A0A178W5A1', 'A0A654EKU7', 'Q9XIF2'], 'THAPS03686': ['B5YLI9'], 'YEAST05739': ['Q12024'], 'ARATH12677': ['A0A178VZC8', 'Q9SIV2'], 'TRYB202518': ['Q38D53'], 'CYAME00583': [], 'AMPQE24586': [], 'ACACA05719': ['L8H3S2'], 'DICDI10102': ['Q54I90'], 'RETFI22795': ['X6MAK3'], 'THAPS09386': ['B8C695'], 'ECTSI01282': ['D7G6X6'], 'DROME12066': ['O02373'], 'CAEEL01988': ['Q9XVR8'], 'DICDI08167': ['Q54P27'], 'PHYPA06736': ['A0A2K1L957'], 'CYAME01015': [], 'AMPQE25013': ['A0A1X7VJ27'], 'ECTSI10858': ['D8LRP2'], 'PARTE03679': ['A0C8K3'], 'DICDI10659': ['Q54GN8'], 'HUMAN31476': ['A0A0S2Z4W8', 'A0A291FGC8', 'A0A291FGE0', 'B2RB74', 'J3KTK8', 'O75352'], 'NEUCR02054': ['Q7SFL1'], 'YEAST00539': ['P38344'], 'CYAME01346': [], 'YEAST04721': ['A0A6A5PQ18', 'P23248'], 'CAEEL00390': ['Q9N4I4'], 'CHLRE02822': [], 'AMPQE22783': ['A0A1X7VAC7'], 'TRYB203451': ['Q57U27'], 'CAEEL07943': ['P27639'], 'NAEGR00545': ['D2UXG9'], 'DROME12432': ['Q24317'], 'HUMAN88645': ['A0A024RA52', 'A0A7I2YQP7', 'P25787', 'Q53GF5'], 'CAPO305960': ['A0A0D2VPK1'], 'YEAST02286': ['P40204'], 'NAEGR14554': ['D2VQH3'], 'NAEGR05473': ['D2VKB5'], 'CAPO304921': ['A0A0D2VJQ0'], 'PARTE36759': ['A0DR06'], 'CAPO308249': ['A0A0D2WYA7'], 'RETFI10723': ['X6MPS8'], 'DROME03988': ['Q9V3P2'], 'NEUCR00029': ['Q7SEN9'], 'NAEGR12013': ['D2W1H9'], 'ECTSI05091': ['D8LJP1'], 'AMPQE22698': ['A0A1X7V9A9'], 'MOUSE59887': ['P49718', 'Q8BQ03'], 'CAEEL17598': ['Q9U1Q7'], 'THAPS10161': ['B5YNG2'], 'HUMAN28884': ['J3QRA5', 'Q13564'], 'CHLRE12084': ['A8HSU7'], 'ECTSI06953': ['D8LK58'], 'PHYPA16953': ['A9SN53'], 'HUMAN33309': ['J3KTE4', 'P84098', 'Q53G49'], 'NEUCR02611': ['V5IKL0', 'V5IL05'], 'PHYPA26283': ['A9RVN5'], 'PARTE25116': ['A0D928'], 'NEUCR06537': ['Q7S8V0'], 'PHYPA09599': ['A0A7I4B1A9'], 'CAPO301658': ['A0A0D2WLA8'], 'NEUCR01333': ['Q7S949'], 'DICDI11539': ['P34113'], 'PHYPA32381': ['A0A2K1KBX7'], 'PHYPA29427': ['A0A2K1KNV1', 'A0A7I4FNU8'], 'DROME12457': ['Q9VRJ6'], 'CYAME00844': [], 'DICDI11792': ['P48160'], 'ECTSI11376': ['D7G7C5'], 'CAPO305237': [], 'ECTSI05272': ['D8LHZ3'], 'RETFI20651': ['X6MEY8'], 'NAEGR00032': [], 'RETFI18524': ['X6ND47'], 'AMPQE16002': ['A0A1X7UF06'], 'HUMAN41087': ['Q9BRX9'], 'THAPS01859': ['B8C9W9'], 'PHYPA01085': ['A0A2K1IRD9'], 'TRYB200230': ['Q38BZ2'], 'MOUSE39850': ['Q3UAG2', 'Q91V28', 'Q9DCD0'], 'TRYB200562': ['Q38B02'], 'ECTSI11442': ['D7FGR7'], 'ACACA07428': ['L8GYU7'], 'PLAF703442': ['O97321'], 'DROME18574': ['Q7K5K3'], 'AMPQE17317': ['A0A1X7UM21'], 'RETFI39471': ['X6LJK5'], 'NEUCR02093': [], 'CHLRE16541': ['A8J5W3'], 'ARATH23775': ['A0A097PJ95', 'A0A178V8X8', 'A0A178VBK0', 'A0A654FHX4', 'Q6Q1P4'], 'ARATH21698': ['A0A178VC13', 'A0A5S9XGJ7', 'A0A654FI28', 'A0A7G2EU21', 'Q1JPN1'], 'CHLRE15716': ['A0A2K3D371'], 'AMPQE18284': ['A0A1X7UQ65'], 'PLAF702271': ['Q8IM53'], 'PHYPA04006': ['A9TUU6'], 'CHLRE04204': ['A8J1K0'], 'ACACA03014': ['L8HC77'], 'ACACA08567': ['L8GYS4'], 'NEUCR06969': ['U9W4P8'], 'AMPQE25296': ['A0A1X7VJ54'], 'THAPS08765': ['B8C3Q3'], 'HUMAN48042': ['P62913', 'Q5VVD0'], 'CAEEL00017': ['O01802'], 'MOUSE48139': ['O35134', 'Q3UHI3', 'Q3UZ02'], 'DICDI01336': ['Q55CR0'], 'HUMAN01888': ['A0A2R8Y849', 'P62847'], 'YEAST02981': ['P38821'], 'AMPQE27525': [], 'DICDI11664': ['Q54DM7'], 'ARATH25453': ['A0A178V1M1', 'Q9M125'], 'ECTSI09081': ['D7G9F8'], 'CYAME04592': [], 'HUMAN00918': ['Q14692'], 'CAEEL05745': ['Q09580'], 'ECTSI04994': ['D7FKW3'], 'NAEGR01316': ['D2VIY7'], 'NAEGR01575': ['D2V681'], 'CAEEL11038': ['G5EE80'], 'HUMAN73099': ['C9JA25', 'E5KND5', 'E5KND7', 'Q96RP9'], 'AMPQE26625': ['A0A1X7VQF8'], 'PARTE24817': ['Q4UJ82'], 'ECTSI10588': ['D8LTZ8'], 'CYAME01642': [], 'YEAST03698': ['P15700'], 'CAEEL00397': ['Q9N4H7'], 'CAPO302023': ['A0A0D2WNC7'], 'MOUSE24091': ['Q6ZPT2', 'Q7TSZ3', 'Q8BMJ2'], 'CAPO302140': ['A0A0D2UCG3'], 'TRYB203244': ['Q57YK0'], 'PLAF701721': ['Q8IED2'], 'MOUSE53851': ['P62281', 'Q3UC02'], 'ECTSI06387': ['D8LF61'], 'ARATH40199': ['A0A178UBP3', 'A0A5S9YGW5', 'A0A654GF01', 'Q9FMF9'], 'NAEGR00960': ['D2V7T3'], 'HUMAN28739': ['A8K482', 'P00505'], 'HUMAN91247': ['A4D1K0', 'Q16864'], 'PLAF702602': ['Q8IL78'], 'DICDI11000': ['P0CD61'], 'CAEEL17427': ['Q9GRZ2'], 'PLAF701619': ['Q8IEN2'], 'HUMAN35801': ['A0A0S2Z489', 'O00232'], 'NEUCR03515': ['Q7S1U1'], 'ECTSI05085': ['D8LJN5'], 'DROME19419': ['A0A0B4K6N1', 'Q8MLY8'], 'PLAF703994': ['Q8I3I0'], 'NEUCR01110': ['V5IKS7'], 'THAPS00282': ['B8BQ41'], 'ACACA06464': ['L8H1U2'], 'ACACA02545': ['L8HGZ9'], 'CHLRE05558': ['A8HY08'], 'THAPS08287': ['B8C2C4'], 'PARTE03399': ['A0DLP9'], 'CHLRE03011': ['A0A2K3CV27'], 'MOUSE10142': ['Q3TN42', 'Q8C7V3'], 'ARATH26170': ['A0A178V304', 'A0A5S9XQI3', 'Q8H1F4'], 'CHLRE02204': ['A8JAI8'], 'ACACA11150': ['L8GPQ8'], 'NEUCR01568': ['Q7RW15'], 'PHYPA15456': ['A9STM2'], 'YEAST01887': ['P24384'], 'CAPO301697': ['A0A0D2X1T6'], 'ACACA02666': ['L8HCL9'], 'PLAF700898': ['Q8IHY3'], 'CAEEL08311': ['Q95ZI6'], 'PARTE13779': ['A0E3T0'], 'CHLRE08248': ['A0A2K3DSK9'], 'CAPO307620': ['A0A0D2UN70'], 'YEAST01225': ['P20604'], 'THAPS07236': ['B8C161'], 'CYAME04542': [], 'MOUSE37550': ['A0A0A6YXF4', 'G3X8Y3'], 'ECTSI04717': ['D8LEJ8'], 'NEUCR02908': ['Q7RZF5'], 'PLAF703629': ['Q8I1S0', 'Q9U8B7'], 'AMPQE16517': [], 'ARATH18497': ['A0A178VHF3', 'Q42112'], 'PLAF702876': ['Q8IKH0'], 'MOUSE55642': ['D3YYM6', 'D3Z1S8', 'P97461'], 'THAPS09274': ['B8C5Y3'], 'HUMAN52084': ['A0A140VK46', 'P28070'], 'AMPQE22000': [], 'THAPS10148': ['B5YNE9'], 'ARATH30729': ['A0A178UW75', 'Q96255'], 'DROME24166': ['A0A0B4KFR6'], 'PLAF700460': ['C6S3E1'], 'YEAST00953': ['P05756'], 'MOUSE02896': ['P58252', 'Q3TJZ1', 'Q3TK17', 'Q3TLB1', 'Q3TW58', 'Q3TWX1', 'Q3TX47', 'Q3UBL9', 'Q3UDC8', 'Q3UMI7', 'Q3UZ14', 'Q6P9L9', 'Q8BMA8', 'Q8C153'], 'YEAST06326': ['A0A6A5Q1K7', 'Q06835'], 'CAEEL04111': ['Q2WF63'], 'DROME18661': ['E2QCZ9', 'Q7JZB4'], 'PHYPA05148': ['A0A2K1IQ84'], 'MOUSE25819': ['H3BJ89', 'H3BJE3', 'H3BKD6', 'Q8K1E0'], 'DICDI01600': ['Q55E94'], 'YEAST00795': ['A0A6L0YP93', 'Q12377'], 'HUMAN72086': ['B7Z8Z6', 'C9J013', 'C9JZ21', 'P49736'], 'NAEGR00194': ['D2UXG0'], 'MOUSE61168': ['Q6P3A8'], 'MOUSE47251': ['Q3TI05', 'Q3TI62', 'Q3TIX8', 'Q3TW97', 'Q52KG9'], 'HUMAN82843': ['D6RFX4', 'E9KL35', 'P63244'], 'ACACA05508': ['L8H5A2'], 'AMPQE13406': ['A0A1X7U371'], 'ECTSI10473': ['D8LS39'], 'RETFI28783': ['X6NU42'], 'DROME15986': [], 'NAEGR12274': ['D2W2X2'], 'NAEGR01370': ['D2V0Q9'], 'CAPO301404': ['A0A0D2WLX3'], 'YEAST02950': ['P33334'], 'ARATH16772': ['A0A178W2D7', 'A0A7G2EHQ0', 'O80840'], 'RETFI24779': ['X6NTS1'], 'TRYB205949': ['Q57UB5', 'Q9GRG5'], 'MOUSE53028': ['P14115'], 'CAPO301726': ['A0A0D2WMJ6'], 'CAPO304021': ['A0A0D2X586'], 'THAPS04315': ['B8BTA6'], 'CAEEL02716': ['Q9U1Q3'], 'CYAME03054': [], 'PARTE07213': ['A0BVM1'], 'AMPQE26705': ['A0A1X7VQK8'], 'CAEEL01782': ['P91856'], 'CAPO306726': ['A0A0D2VTB7'], 'CAEEL10653': ['Q18445'], 'CHLRE04392': ['A0A2K3DCQ1'], 'DICDI00974': ['P32256'], 'PLAF700260': ['Q8IJR9'], 'ARATH36299': ['A0A178UJU5', 'A0A654G6Y6', 'P49227'], 'DROME05215': ['P48591'], 'ECTSI02075': ['D7FNY1'], 'CHLRE13806': ['A0A2K3DBD9'], 'CAPO306745': ['A0A0D2WSP3'], 'ARATH09245': ['A0A178VZZ6', 'A0A654EN45', 'Q8GRL7'], 'MOUSE28307': ['P97311', 'Q3UC10', 'Q542I2'], 'YEAST03784': ['P32860'], 'MOUSE17115': ['P27659', 'Q3T9U9', 'Q3U9L3', 'Q3UB15', 'Q3UB67', 'Q3UB90'], 'YEAST02275': ['P02557'], 'DICDI05351': ['Q54XH6'], 'HUMAN04429': ['B3KSH1', 'O00303'], 'AMPQE27538': ['A0A1X7VUA7'], 'ECTSI07399': ['D8LI71'], 'PLAF701202': ['Q8I5L3'], 'CYAME00452': [], 'THAPS02879': ['B8CCT7'], 'CAPO303953': ['A0A0D2VYU9'], 'CAEEL16720': ['O17570'], 'PHYPA24938': ['A9RZU5'], 'HUMAN16175': ['Q14232'], 'ARATH26994': ['F4JTV4'], 'ACACA02845': ['L8HCB3'], 'NAEGR13219': ['D2UZQ6'], 'HUMAN64848': ['Q14566', 'Q4ZG57'], 'CAPO300790': ['A0A0D2VH75'], 'TRYB205689': ['Q57W56'], 'PLAF700624': ['Q8IIR0'], 'THAPS01337': ['B8C9C5'], 'NAEGR13197': ['D2UZ85'], 'CAEEL06428': ['A0A131MBF9', 'O62332'], 'DICDI03070': ['Q8T295'], 'NEUCR02719': ['Q7RW75'], 'MOUSE60937': ['Q3TTF6'], 'DROME17992': ['Q9VGQ1'], 'CAPO307638': ['A0A0D2X4R0'], 'DROME16767': ['M9MSL3'], 'MOUSE66752': ['P62702', 'Q3UXQ6', 'Q3V1Z5', 'Q545F8', 'Q545X8'], 'ARATH08611': ['A0A384L9X3', 'P51413', 'Q0WRE5'], 'PLAF702358': ['Q8ILW6'], 'NEUCR03583': ['Q9P735'], 'CHLRE08008': ['A0A2K3E5K0'], 'TRYB203672': ['Q57XL5'], 'HUMAN18673': ['F8VSA6', 'Q15843'], 'PARTE24134': ['A0DB97'], 'CHLRE10102': ['A8I1Y7'], 'DROME00042': ['Q9Y0Y5'], 'CYAME03334': [], 'ACACA12937': ['L8GIS8'], 'MOUSE46017': ['Q8R3C6'], 'MOUSE24377': ['Q505B1', 'Q6PHZ1', 'Q80V08', 'Q9CPR4'], 'PHYPA16300': ['A0A2K1KQ57'], 'THAPS00638': ['B8BR47'], 'YEAST04344': ['Q06217'], 'DICDI07124': ['Q54S43'], 'CAEEL05991': ['Q9XXJ0'], 'AMPQE26700': ['A0A1X7VQK5'], 'DICDI03672': ['Q75K27'], 'PHYPA24705': ['A9RZ38'], 'THAPS01531': ['B8C8T3'], 'PHYPA04726': ['A9TRZ5'], 'CAPO300159': ['A0A0D2U010'], 'ARATH15868': ['A0A178VYF4', 'Q9SIZ2', 'Q9XEF6'], 'NAEGR05487': ['D2VRL5'], 'CYAME02246': [], 'CYAME00791': [], 'MOUSE34476': ['A0A140LHJ4', 'O08599'], 'MOUSE66643': ['A0A1S6GWH5', 'B9EHN0', 'Q02053'], 'PLAF700823': ['Q8II60'], 'PHYPA01241': ['A0A2K1L3R6'], 'CAPO303382': ['A0A0D2WUX5'], 'MOUSE46937': ['Q8JZQ9'], 'ECTSI11316': ['D8LI23'], 'CAEEL17648': ['Q9NES8'], 'PARTE07866': ['A0BT07'], 'ARATH17822': ['A0A384KPV3', 'A0A5S9X936', 'A0A654F5B2', 'Q5XVC2'], 'ECTSI09166': ['D8LHH9'], 'YEAST03440': ['P47064'], 'CAPO304449': [], 'CHLRE04966': ['A0A2K3DQE4'], 'TRYB206188': ['Q586X2'], 'CHLRE03525': ['A0A2K3CVD9'], 'HUMAN63556': ['A0A140VJP5', 'B4DEX8', 'P31153'], 'TRYB203383': ['Q57V72'], 'ARATH16298': ['A0A178VPU7', 'Q84XU2'], 'PLAF701787': ['Q8IE68'], 'PARTE22981': ['A0DEB3'], 'NEUCR05749': ['Q7RWH9', 'Q871N3'], 'AMPQE20615': [], 'ACACA01123': ['L8HKB3'], 'PHYPA08855': ['A0A2K1KAC4'], 'YEAST02325': ['P53152'], 'CYAME04012': [], 'PARTE37781': ['A0CW62'], 'HUMAN64390': ['C9JJG2', 'C9JS83', 'Q9H9Y6'], 'MOUSE29939': ['P97930', 'Q6GRA7'], 'ECTSI05671': ['D7G2V5'], 'ACACA14719': ['L8GEB3'], 'ACACA00247': ['L8HIT8'], 'PARTE36801': ['A0DR49'], 'YEAST06483': ['A0A8H4BWD9', 'P20133'], 'YEAST03362': ['A0A6A5PWU9', 'P20459'], 'YEAST01526': ['P32501'], 'ACACA00727': ['L8HIH2'], 'CHLRE15537': ['A8JHX9'], 'AMPQE16503': ['A0A1X7UIE3'], 'CAEEL01499': ['Q21225'], 'CAEEL16403': ['Q19749'], 'HUMAN95261': ['Q53HG0', 'Q53HR0', 'Q6IB98'], 'DROME28366': ['Q8SX37'], 'CAEEL17634': ['Q9NEU2'], 'TRYB205449': ['Q584Z4'], 'NEUCR05841': [], 'DROME19384': ['Q9V3G7'], 'TRYB203594': ['Q57V38'], 'HUMAN51824': ['B2R4R0', 'P62805'], 'PHYPA23199': ['A0A2K1KVN8'], 'CAPO306280': ['A0A0D2VRE1'], 'DICDI08427': ['Q54NC5'], 'THAPS08079': ['B8C1R6'], 'ACACA08334': ['L8GWS2'], 'CYAME03472': [], 'CAEEL00671': ['O01974'], 'THAPS06554': ['B8BXY6'], 'MOUSE05559': ['Q3TC83', 'Q3URT5', 'Q8VEJ4'], 'ARATH17948': ['A0A178VEP3', 'A0A5S9XA09', 'A0A7G2EFU3', 'Q9SEI2'], 'DROME06054': ['Q7K3M5'], 'ARATH02424': ['A0A178WGT8', 'A0A5S9UJ78', 'A0A654EB48', 'A0A7G2DTX9', 'Q8VYZ5'], 'YEAST00423': ['A0A6A5Q1S9', 'P29469'], 'THAPS10332': ['B5YNY5'], 'TRYB203162': ['Q57UH5'], 'TRYB206335': ['Q4GZE8'], 'PARTE19145': ['A0DUF0'], 'AMPQE19636': ['A0A1X7UX49'], 'CYAME00403': [], 'CAPO306142': ['A0A0D2X2W5'], 'HUMAN16357': ['Q07864', 'Q9UNF3', 'Q9Y5S4', 'Q9Y5S5'], 'NEUCR06258': ['Q1K6H7', 'Q8NIK7'], 'HUMAN70848': ['Q15008'], 'CAEEL11170': ['Q20585'], 'AMPQE28127': ['A0A1X7VVM2'], 'ARATH19166': ['A0A384LLP8', 'Q9LTU6'], 'PARTE07330': ['A0BVY9'], 'NEUCR04129': [], 'THAPS08032': ['B8C1L9'], 'CAEEL10167': [], 'MOUSE26845': ['D3YXX5', 'D3Z0K1', 'Q91YT0'], 'THAPS10242': ['B5YNP3'], 'CAEEL11400': ['A0A061ACR1', 'F5GUA3', 'Q2XN02'], 'CHLRE01686': ['A8JEL2'], 'PARTE36687': ['A0DQT3'], 'MOUSE42267': ['P54728', 'Q3U041', 'Q3UQN3', 'Q6NVC3'], 'YEAST00207': ['P33313'], 'PARTE25770': ['A0D4V2'], 'CAEEL00394': ['Q9N4I0'], 'NAEGR07105': ['D2V7Z8'], 'CAPO302031': ['A0A0D2WND3'], 'HUMAN25629': ['A8K503', 'H3BPC4', 'P63279'], 'ECTSI12090': ['D7G8B4'], 'AMPQE23535': ['A0A1X7VCS1'], 'ACACA08589': ['L8GXJ1'], 'PARTE07616': ['A0BU06'], 'ARATH21420': ['A0A178V6E1', 'Q9LSD6'], 'NAEGR05406': [], 'CAEEL10448': ['Q8MXH7'], 'PLAF702112': ['Q8IDB6'], 'NAEGR01524': ['D2VID1'], 'PLAF703615': ['Q8I1T3'], 'PHYPA05970': ['A9TN64'], 'YEAST04237': ['P33322'], 'CHLRE10542': ['A0A2K3E1W3'], 'PLAF704424': ['Q8IC06'], 'PLAF701788': ['Q8IE67'], 'AMPQE20555': ['A0A1X7V1D3'], 'NAEGR00035': [], 'YEAST06140': ['P32363'], 'PARTE03300': ['A0CA32'], 'MOUSE34410': ['Q543M9'], 'PARTE17345': ['A0E0S2'], 'AMPQE19758': [], 'CAPO307269': ['A0A0D2WUJ6'], 'YEAST06577': ['Q12028'], 'CAEEL00998': ['O01426'], 'HUMAN02940': ['B0AZQ4', 'Q86VX4', 'Q9UQE7'], 'PHYPA26333': ['A9RUX1'], 'ECTSI07209': ['D7G5B3'], 'CHLRE10185': ['A0A2K3E0I1'], 'CHLRE05470': ['A8IM74', 'P49213'], 'CAEEL04839': ['Q19302'], 'YEAST02648': ['A0A6A5PWF7', 'P25443'], 'TRYB202833': ['Q581Y4'], 'CAEEL17975': ['Q9XXD8'], 'ARATH31750': ['A0A178UNB4', 'P49201'], 'PARTE09056': ['A0BN58'], 'YEAST03252': ['A0A6A5PYT3', 'P47119'], 'CAEEL08097': ['Q95Y90'], 'RETFI30094': ['X6NCJ0'], 'ACACA08159': ['L8GW95'], 'PLAF703408': ['O77379'], 'HUMAN29167': ['H3BRV9', 'P61970'], 'THAPS07289': ['B8C1B3'], 'DROME11122': ['A0A0B4LGZ5', 'P46222'], 'DICDI07632': ['Q54QI4'], 'THAPS02401': ['B8CBG7'], 'CYAME03462': [], 'YEAST05788': ['Q99216'], 'ECTSI03253': ['D8LC26'], 'DROME24260': ['Q9VA97'], 'DROME00950': ['Q9VMW7'], 'ARATH11461': ['A0A178VT12', 'Q9SKI2'], 'ACACA02386': ['L8HE96'], 'RETFI19161': ['X6NU62'], 'CAPO307677': ['A0A0D2VXZ9'], 'DROME07050': ['Q8SYS7'], 'PARTE19253': ['A0DUQ8'], 'CHLRE00269': [], 'PARTE21998': ['A0DIJ7'], 'TRYB200423': ['Q38BE4'], 'AMPQE22291': ['A0A1X7V716'], 'ACACA07005': ['L8H0K7'], 'THAPS09233': ['B8C5U2'], 'AMPQE19501': ['A0A1X7UWM8'], 'NAEGR15474': ['D2VUT2'], 'DICDI03906': ['Q86JC5'], 'CYAME03901': [], 'PARTE19299': ['A0DTH2'], 'MOUSE60257': ['Q4FZF3'], 'CAEEL06992': ['G5EGT7'], 'MOUSE59323': ['Q9CQA1'], 'ACACA05041': ['L8H7F1'], 'DROME00430': ['C8VV33', 'C9QP42', 'D3DMH8', 'Q02748'], 'MOUSE21337': ['P11983'], 'ARATH10579': ['A0A178W7J7', 'A0A654EQI9', 'A0A7G2E656', 'Q9SSD2'], 'TRYB202798': ['Q580G3'], 'CHLRE16815': ['A8J5U1'], 'ARATH13771': ['A0A1P8AZX9'], 'HUMAN26463': ['A0A804HJL6', 'A0A804HKX7', 'K7EID2', 'Q9BT22'], 'THAPS05192': ['B8BVT3'], 'YEAST00660': ['A0A6A5Q1D2', 'P25382'], 'HUMAN69086': ['Q8WUM4'], 'YEAST02242': ['P32908'], 'PARTE17225': ['A0E1M1'], 'THAPS05651': ['B8CFF0'], 'PLAF700841': ['Q8II43'], 'PARTE18228': ['A0DX97'], 'PLAF701943': ['Q8IDS0'], 'PLAF704861': ['Q8IB57'], 'AMPQE22718': ['A0A1X7VA21'], 'NEUCR02090': ['Q7SCR7'], 'HUMAN50771': ['A0A2R8Y6J3', 'A2RUM7', 'P46777', 'Q59GX9', 'Q5T7N0', 'R4GNJ2'], 'MOUSE52958': ['A4FUS1', 'P14131', 'Q641N3'], 'TRYB203245': ['Q57YJ9'], 'CAPO305776': ['A0A0D2UAY7'], 'MOUSE36113': ['A0A0N4SW66', 'Q9CQR6'], 'DICDI10507': ['Q54H39'], 'TRYB204748': ['Q57ZZ7'], 'MOUSE05664': ['G3UX86', 'P46460'], 'ACACA06495': ['L8H2Q1'], 'PLAF702464': ['Q8ILL3'], 'PHYPA23995': ['A9S3C9'], 'AMPQE14038': [], 'CHLRE01492': ['A8IHM8'], 'DROME11104': ['Q8MS45', 'Q9W247'], 'DICDI11882': ['Q54D13'], 'NAEGR15554': ['D2VYA7'], 'NEUCR02803': ['Q6M914', 'Q7RZA7'], 'CAEEL11977': ['O62518'], 'DICDI05702': ['Q54WF2'], 'TRYB203668': ['Q57XL9', 'Q9NC96'], 'HUMAN06555': ['P26641', 'Q53YD7'], 'YEAST04194': ['P19882'], 'PHYPA23814': ['A0A2K1IVD6'], 'YEAST05870': ['A0A6A5Q8C2', 'P20436'], 'HUMAN70043': ['A0A1B0GVD0', 'P48728'], 'AMPQE16602': ['A0A1X7UHB3'], 'MOUSE16485': ['Q9D1C8'], 'DROME06902': ['Q9W1B9'], 'MOUSE12546': ['A6H611'], 'DICDI10694': ['Q1ZXC6'], 'PARTE10580': ['A0BI31'], 'NAEGR02640': ['D2VED0'], 'MOUSE41018': ['Q8VC94', 'Q9CXW4'], 'PLAF705272': ['Q8I0U7'], 'HUMAN43474': ['A8K2M0', 'P43686'], 'AMPQE23942': ['A0A1X7VEA1'], 'NAEGR12523': ['D2VC97'], 'CAEEL12380': ['G5EBR1', 'Q2V4S2'], 'PARTE16845': ['A0E2W4'], 'CHLRE04365': ['A0A2K3DD34'], 'PHYPA26390': ['A0A7I4CYD8'], 'HUMAN62562': ['B4DN49', 'P43246'], 'TRYB201263': ['Q388N2', 'Q9GPZ6'], 'CAEEL09800': ['Q95XX0'], 'MOUSE04484': ['Q91VC3'], 'NAEGR04369': ['D2VU51'], 'PHYPA24001': ['A9S3D7'], 'ECTSI04492': ['D7FKS7'], 'CAEEL02918': ['O45499'], 'PARTE17612': ['A0E0B8'], 'AMPQE14845': ['A0A1X7UB24'], 'NEUCR04640': ['Q19K46', 'Q9UW15'], 'AMPQE25972': ['A0A1X7VN48'], 'CAPO306737': ['A0A0D2X3L0'], 'NAEGR04911': ['D2VMI7'], 'THAPS09485': ['B8C4C1'], 'HUMAN68105': ['B5MCV2', 'Q8N465'], 'TRYB200142': ['Q38C82'], 'RETFI38934': ['X6M4R8'], 'NEUCR06248': ['Q8NIZ4'], 'HUMAN68093': ['P23919', 'Q53F55', 'Q6FGU2'], 'CAEEL06377': ['Q9XVH6'], 'PLAF702680': ['Q8IL02'], 'ECTSI04863': ['D8LF20'], 'DROME23169': ['Q9VE18'], 'MOUSE07994': ['Q01405', 'Q8C1E4'], 'CAPO308118': ['A0A0D2URX4'], 'CAEEL02924': ['O45495'], 'CYAME03143': [], 'PHYPA27138': ['A0A2K1J2Q4'], 'DROME19168': ['Q9VC28'], 'TRYB206639': ['Q4GYJ5'], 'HUMAN15984': ['O00233'], 'TRYB204823': ['Q583K7'], 'CYAME01819': [], 'DROME08592': ['A1ZA22', 'Q8MPP2', 'Q8MSR4', 'Q95SC4', 'Q9GQ88'], 'TRYB200935': ['Q389X5'], 'CYAME02160': [], 'CYAME03991': [], 'CAEEL15473': ['Q27474'], 'YEAST02957': ['A0A7I9FE22', 'P38719'], 'CAEEL19245': [], 'ARATH03902': ['A0A2Z5WH65', 'A0A454XVD1', 'A0A7G2DX83', 'Q94AK8', 'Q9FRH5'], 'CAPO303902': ['A0A0D2VYQ3'], 'PHYPA16890': [], 'DROME26632': ['Q27580', 'X2JF40'], 'HUMAN34272': ['A8KAP3', 'B3KX19', 'B4DZB1', 'K7EIT3', 'K7EIV5', 'Q15029', 'Q6IBM8'], 'DROME28513': ['A0A0F6T1J9', 'M9PIS3'], 'MOUSE03770': ['Q8BMA6'], 'NEUCR04286': ['Q7SBU3'], 'AMPQE26905': ['A0A1X7VQ62'], 'ECTSI11613': ['D8LN25'], 'DICDI01304': ['Q55CW0'], 'DICDI05767': ['Q54W88'], 'DICDI03823': ['Q553E0'], 'PARTE07451': ['A0BUC8'], 'TRYB202148': ['Q38E85'], 'YEAST03255': ['P47079'], 'AMPQE25771': ['A0A1X7VMF0'], 'CYAME04168': [], 'ARATH36621': ['A0A178UB17', 'A0A5S9YB62', 'A0A7G2FCX7', 'F4JZX8', 'Q8GTX9', 'Q9FJ37'], 'DICDI08108': ['Q54P82'], 'CAPO303272': ['A0A0D2WU07'], 'YEAST04843': ['A0A6A5PTI8', 'P38625'], 'MOUSE50391': ['Q9QXK3'], 'DROME03037': ['P20028'], 'DROME16264': ['M9PFN1', 'Q9V3K3'], 'HUMAN28086': ['Q53FR4', 'Q96QK1'], 'CHLRE15550': ['A8J593'], 'PHYPA01613': ['A9U1X3'], 'CAEEL08026': ['Q21997'], 'CAEEL07500': ['Q18258'], 'CHLRE10273': ['A8IA47'], 'HUMAN06379': ['A0A7P0T870', 'A0A7P0T965', 'A0A7P0TAK7', 'A0A7P0TB30', 'A0A7P0Z3Z5', 'A0A7P0Z4B9', 'F5GZY8', 'F5H2L3', 'Q16531'], 'YEAST06554': ['A0A6A5Q7I9', 'P0C0W9'], 'HUMAN78613': ['B4DXI1', 'B4DZT5', 'B7ZAR1', 'P48643', 'Q9BU08', 'V9HW37'], 'DROME09906': ['P48592'], 'MOUSE49949': ['E0CZC7', 'P50096'], 'CAPO304970': ['A0A0D2X167'], 'AMPQE17109': [], 'TRYB205543': ['Q587E4'], 'ECTSI02187': ['D8LLU7'], 'ARATH17947': ['A0A178VDQ1', 'Q541X2'], 'AMPQE12380': ['A0A1X7TYW4'], 'THAPS01812': ['B8LBI2'], 'TRYB200039': ['Q38CI6'], 'THAPS00951': ['B8BS09'], 'ARATH02597': ['A0A178WE85', 'A0A5S9UQL6', 'Q8L7M0'], 'PLAF702368': ['Q8ILV7'], 'PHYPA01133': ['A0A7I4BC51', 'A9U3H0'], 'PHYPA27109': ['A9RSR8'], 'CAEEL02866': ['Q8WQA8'], 'MOUSE59278': ['Q3UKP5', 'Q9DCD2'], 'ARATH16182': ['A0A178VVT6', 'A0A5S9X6C4', 'A0A654F2D3', 'A0A7G2EDI2', 'O48520'], 'TRYB202600': ['Q38CW9'], 'PHYPA20559': ['A0A2K1J5A1'], 'CAPO305670': [], 'MOUSE08868': ['O35218'], 'CAPO301320': ['A0A0D2U6V9'], 'MOUSE16879': ['E9Q093', 'E9Q5Q8', 'Q6ZWY7', 'Q9WU28'], 'PARTE31277': ['A0CLB8'], 'ACACA11995': ['L8GNF0'], 'NAEGR05420': ['D2V1H4'], 'CAEEL18987': ['Q17994'], 'MOUSE18748': ['H3BKG2', 'H3BLL1', 'P42932', 'Q3UKQ2', 'Q3UL22', 'Q6A0F1', 'Q8BVY8', 'Q9WVS5'], 'PHYPA07379': ['A0A2K1K4D2', 'A9TIK2'], 'TRYB205573': ['Q587B4'], 'DICDI08565': ['Q54MT2'], 'ECTSI09736': ['D7G3I9'], 'CYAME01967': [], 'HUMAN41607': ['K7ENA7', 'K7EPJ8', 'K7EQ90', 'K7ER75', 'Q59EK3', 'Q9BXS5'], 'CAEEL12005': ['Q9XU67'], 'HUMAN15832': ['F8VP53', 'F8VVX6', 'Q5HYK3'], 'TRYB200970': ['Q389T9'], 'MOUSE46504': ['Q8R1Q9'], 'MOUSE32975': ['A0A0A0MQG9', 'Q9DB26'], 'THAPS01556': ['B8C8V8'], 'NEUCR00966': ['P59671'], 'NEUCR03874': ['Q7RYJ3'], 'NAEGR00823': ['D2V498'], 'PHYPA16187': ['A0A2K1J7Y6'], 'MOUSE60864': ['Q8VDI9'], 'CAPO304478': ['A0A0D2WYV3'], 'HUMAN19579': ['A0A140VK43', 'G3V4X5', 'P25788', 'Q6IB71'], 'PARTE29984': ['A0CQH9'], 'YEAST03550': ['A0A1L4AA68', 'P26783'], 'AMPQE13609': ['A0A1X7U4M5'], 'ARATH20888': ['A0A178VDC5', 'A0A7G2EKV3', 'Q9LUG5'], 'YEAST01695': ['A0A6A5Q2X6', 'P15790'], 'AMPQE08054': [], 'CAPO306637': ['A0A0D2VT40'], 'NAEGR05175': ['D2VX54'], 'DROME13792': ['Q9VVC9'], 'PARTE30779': ['A0CNW2'], 'HUMAN100076': ['A6NMQ1'], 'CYAME04231': [], 'DROME07012': ['H0RNB9', 'Q7PLE6', 'Q8SZ03'], 'CAPO303638': ['A0A0D2X4J3'], 'CAEEL11380': ['Q17632'], 'HUMAN90230': ['A0A0S2Z4A5', 'B2RBA6', 'C6EMX8', 'P33993'], 'DROME16825': ['Q23983'], 'ARATH24871': ['A0A178VJV9', 'P38557'], 'NAEGR04799': ['D2VGZ5'], 'ECTSI07199': ['D7G5A3'], 'YEAST01079': ['P19262'], 'MOUSE06917': ['Q5SVY0', 'Q5SVY1', 'Q60597'], 'YEAST05633': ['P53598'], 'PARTE21749': ['A0DJC4'], 'AMPQE12342': ['A0A1X7TZ57'], 'ARATH17090': ['A0A178VDI0', 'A0A384KAB2', 'Q8L3W7', 'Q8RUH0'], 'NAEGR09022': ['D2VKF0'], 'AMPQE19276': ['A0A1X7UUG5'], 'YEAST02793': ['P42940'], 'CHLRE12545': ['A0A2K3DWX2', 'Q948T5'], 'NAEGR01262': ['D2VHI9'], 'DICDI08340': ['Q54NJ4'], 'CYAME00288': [], 'RETFI18138': ['X6NTZ8'], 'MOUSE10572': ['Q91YN8'], 'PHYPA09434': ['A0A2K1K236'], 'NAEGR13547': ['D2V5Z8'], 'NEUCR06499': ['Q1K6T3', 'Q86ZH4'], 'CHLRE09090': ['A0A2K3CQS9'], 'NEUCR05684': ['Q7RWE3'], 'CHLRE16259': ['Q4JLR9'], 'ACACA00395': ['L8HKR4'], 'AMPQE26179': ['A0A1X7VQ20'], 'ACACA02343': ['L8HD92'], 'ARATH39099': ['A0A178U865', 'Q9LVC8'], 'ACACA08099': ['L8GW32'], 'HUMAN04760': ['F5H112', 'P25786'], 'PHYPA28813': ['A0A7I4BIL2', 'A0A7I4BN55', 'A9RMT8'], 'DROME09884': ['A1Z784', 'Q7JV23'], 'YEAST04804': ['Q03677'], 'DROME15084': ['Q9VUV9'], 'DICDI07544': ['Q54QV4'], 'CAEEL07198': ['P49958'], 'CYAME00644': [], 'MOUSE11285': ['A0A286YCZ4', 'Q99M01'], 'CYAME04909': [], 'MOUSE19398': ['O55142', 'Q6ZWX1', 'Q8BQV7', 'Q9DC85'], 'ECTSI05761': ['D8LTG6'], 'ACACA01555': ['L8HGA7'], 'DICDI09572': ['Q54JV6'], 'NEUCR07193': ['Q7SD48'], 'MOUSE62539': ['Q3TIN2', 'Q8BML9'], 'THAPS01885': ['B8C9Z5'], 'DICDI00412': ['Q55FM7'], 'DICDI02339': ['Q86B20'], 'PLAF703883': ['Q8I3T4'], 'ARATH13739': ['A0A178VSH3', 'Q8W207'], 'TRYB203153': ['Q57UI4'], 'CYAME02828': [], 'YEAST05561': ['P22276'], 'HUMAN99118': ['P62424'], 'DICDI03638': ['Q553S2'], 'HUMAN78988': ['D6RG19'], 'CAPO304280': [], 'ECTSI02838': ['D8LS34'], 'TRYB203593': ['Q57V39'], 'NAEGR08833': ['D2VJD6'], 'CHLRE15940': ['A0A2K3D2B0'], 'ARATH35172': ['A0A178U9L8', 'A0A5S9Y9K6', 'A0A654G4A9', 'A0A654G4E5', 'A0A7G2FAD3', 'F4JY76', 'Q56XB4', 'Q8H152'], 'TRYB202397': ['Q38DI4'], 'DROME11781': ['A0A0B4KF06'], 'CYAME03196': [], 'PHYPA09642': ['A9TB38'], 'ACACA00035': ['L8HM38'], 'TRYB200494': ['Q38B73'], 'PARTE13512': ['A0EE80'], 'CAPO306855': ['A0A0D2UHS0'], 'HUMAN34774': ['A8K401', 'C9JW96', 'P35232', 'Q53FV0', 'Q6FHP5', 'Q6PUJ7'], 'CAPO306968': ['A0A0D2VTX0'], 'CAPO301772': ['A0A0D2WLJ2'], 'DROME16339': ['Q9VW54'], 'ARATH10638': ['F4HS68'], 'TRYB205700': ['Q57W45'], 'CAEEL00044': ['Q965V4'], 'ARATH26252': ['A0A097PJL1', 'A0A178V4Z9', 'A0A5S9XQY7', 'A0A654FML5', 'A0A7G2F1P3', 'Q9ZRV4'], 'ACACA03595': ['L8H9I7'], 'ECTSI09664': ['D8LDW9'], 'HUMAN52035': ['A6PVX3', 'P55036'], 'NAEGR10200': ['D2VRQ1'], 'NAEGR06073': ['D2V0T9'], 'ACACA02937': ['L8HD87'], 'RETFI18066': ['X6NZU3'], 'PLAF704929': ['Q8IBC3'], 'NEUCR02889': ['P24917'], 'ACACA01916': ['L8HGI8'], 'DROME30560': ['Q9VWI2'], 'THAPS09276': ['B8C5Y5'], 'NEUCR00816': ['Q7S7U0', 'Q9C2F7'], 'CHLRE13779': ['A8IDE6'], 'THAPS10629': ['B8C720'], 'DROME13114': ['Q9W0Q2'], 'DROME05695': ['Q7KLW6', 'Q9U9Q1'], 'YEAST03729': ['A0A6A5PW50', 'Q00711'], 'YEAST00172': ['A0A6A5Q493', 'P38077'], 'MOUSE07361': ['P61161', 'Q5SW83'], 'THAPS07509': ['B8BZC2'], 'TRYB200146': ['Q38C78', 'Q8MYK1'], 'NAEGR01597': ['D2V9R9'], 'HUMAN31425': ['A0A6Q8PGB0'], 'HUMAN73807': ['C9JJJ9', 'C9JLU1', 'P52434'], 'TRYB200537': ['O44008', 'Q38B27'], 'DICDI10338': ['Q54HL0'], 'THAPS08901': ['B8C4V9'], 'ECTSI06153': ['D7G0B9'], 'CYAME00883': ['B3XXQ4'], 'PHYPA04162': [], 'YEAST00236': ['P0CX82', 'P0CX83'], 'MOUSE54438': ['A0A1B0GS70', 'Q3TS44', 'Q8BTU5', 'Q9R1P4'], 'CAPO302380': ['A0A0D2UD59'], 'DROME02658': ['A0A023GQA5', 'P24156'], 'MOUSE58525': ['D3YWG3', 'D3Z6L4', 'Q05C51', 'Q9CWY8'], 'PLAF704491': ['Q8IBT9'], 'NEUCR05763': ['A7UWZ4'], 'CYAME04215': [], 'ECTSI07993': ['D7FXG1'], 'AMPQE20958': ['A0A1X7V108'], 'DROME19754': ['Q9VEU2'], 'PLAF700959': ['Q8IHS2'], 'HUMAN91899': ['A0A090N7U0', 'A0A590UJ56', 'Q13616'], 'PHYPA15193': ['A0A2K1JVB5', 'A0A7I3ZK80'], 'PLAF702301': ['Q8IM23'], 'HUMAN07615': ['E5KNH5', 'E9PJL9', 'E9PPD6', 'P49821', 'Q53G70'], 'CHLRE04972': ['A0A2K3DNR0'], 'THAPS04390': ['B8BTI1'], 'RETFI32411': ['X6NTT0'], 'CAPO307530': ['A0A0D2WVR1'], 'PARTE06557': ['A0BXM4'], 'DICDI03795': ['Q552U1'], 'CHLRE02158': ['A0A2K3CYX5'], 'HUMAN44874': ['B3KSI3', 'M0R2K7', 'O15382', 'Q53EW7'], 'AMPQE24539': ['A0A1X7VHG1'], 'CAPO304854': ['A0A0D2WKL4'], 'NAEGR15403': ['D2W0N1', 'D2W522'], 'RETFI26888': ['X6MFC7'], 'YEAST00348': ['P15731'], 'MOUSE28266': ['A2RT28', 'Q499X9'], 'PLAF703107': ['O96183'], 'HUMAN96167': ['E9PKZ0', 'G3V1A1', 'P62917'], 'DROME08971': ['A1Z9L3'], 'NAEGR05432': ['D2V4W2'], 'ARATH25933': ['A0A178UZK9', 'A0A7G2EXF1', 'Q9ZS88'], 'NAEGR01536': ['D2UXP1'], 'CHLRE00824': ['A8JCF0'], 'ACACA00110': ['L8HKB0'], 'PHYPA04333': ['A0A2K1KE97'], 'AMPQE25788': ['A0A1X7VKX8'], 'YEAST06073': ['P26786'], 'NEUCR02182': ['V5IM93', 'V5IMJ3'], 'CHLRE08376': ['A8J6H8'], 'PHYPA16804': ['A9SP56'], 'AMPQE24906': ['A0A1X7VHL9'], 'PLAF701600': ['Q8IEQ1'], 'PARTE25169': ['A0D7K6'], 'PARTE00072': ['A0EII8'], 'ACACA12911': ['L8GL08'], 'THAPS01305': ['B8C993'], 'CAPO306705': [], 'YEAST02249': ['P25808'], 'ACACA11168': ['L8GNZ1'], 'PARTE29046': ['A0CTG7'], 'HUMAN67116': ['C9J1E2', 'C9JRG3', 'E5RJ35', 'E7EMB6', 'F8WAN0', 'Q53SB6', 'Q9ULA0'], 'DROME01912': ['Q9VMI3'], 'AMPQE26275': ['A0A1X7VP63'], 'CAPO305648': ['A0A0D2WNQ0'], 'THAPS06972': ['B8BWB9'], 'NEUCR01454': ['Q7RV85'], 'TRYB200698': ['Q38AL4'], 'CYAME00920': [], 'ARATH15905': ['A0A178VZD6', 'A0A5S9X5S0', 'O22886', 'Q94C92'], 'NEUCR04736': ['Q7S1D7'], 'CYAME02217': [], 'HUMAN00034': ['D2CFK9', 'Q53GS0', 'Q5T3R7', 'Q8N4P8', 'Q9BZE4'], 'DROME24784': ['A0A0B4KHE9', 'A0A0B4KI10', 'Q9V3P6'], 'NEUCR05641': [], 'YEAST01936': ['P32317'], 'YEAST05316': ['P23503'], 'CAEEL00624': ['O61792'], 'CYAME02767': [], 'TRYB200323': ['Q38BP7', 'Q9NC97'], 'YEAST05132': ['A0A8H4BXW5', 'P53942'], 'PLAF700794': ['Q8II90'], 'TRYB201212': ['D3HTY9', 'Q388T4'], 'DICDI12192': ['Q54C28'], 'PARTE26993': ['A0D1K8'], 'MOUSE05854': ['Q5SWU9', 'V9GWR9', 'V9GWS0', 'V9GWS1'], 'MOUSE11641': ['P62267', 'Q497E1', 'Q9CSN9', 'Q9CWI9', 'Q9CZI5'], 'CAEEL09095': ['Q9XTT9'], 'YEAST02844': ['A0A6A5PW70', 'P53295'], 'CAEEL04447': ['Q09974'], 'HUMAN04103': ['B4DNN4', 'P23921', 'Q53GZ5'], 'DROME10374': ['Q9W277'], 'NEUCR04203': ['Q7S5N9'], 'MOUSE39112': ['Q3TUI9', 'Q3TUX3', 'Q3UPK6', 'Q9Z2U1'], 'PLAF701835': ['A0A143ZY44', 'Q8IE26'], 'AMPQE27017': ['A0A1X7VRY0'], 'PHYPA29130': ['A0A7I4B0A6'], 'THAPS00013': ['B8BSP9'], 'CAPO308095': ['A0A0D2WXX9'], 'ACACA06496': ['L8H4W8'], 'TRYB204273': ['Q57ZD2'], 'DROME18725': ['Q9VDE5'], 'CAEEL08144': ['P34666'], 'MOUSE65522': ['P35486', 'Q3UFJ3'], 'ACACA10842': ['L8GQH0'], 'PARTE27804': ['A0CYG6'], 'CYAME02893': [], 'ARATH06126': ['A0A178WN52', 'A0A654EIU8', 'A0A7G2DZW7', 'Q9FR53'], 'AMPQE19150': ['A0A1X7UTZ3'], 'CHLRE09115': ['A8JD99'], 'HUMAN45323': ['A0A2R8Y705', 'M0R2B7', 'M0R2J2', 'Q308M6'], 'NAEGR01555': ['D2V2A3'], 'CAPO301191': ['A0A0D2U6H7', 'A0A0D2WKG7'], 'PHYPA26630': ['A0A2K1K2V4'], 'PLAF703597': ['Q8I1V1'], 'NEUCR00838': ['Q9C2D4'], 'PHYPA10783': ['A9T794'], 'PLAF703106': ['A7U5W6', 'Q9TY94'], 'YEAST01300': ['P0CX55', 'P0CX56'], 'PHYPA23342': ['A0A2K1IK55'], 'MOUSE61930': ['Q8BTZ7'], 'MOUSE28526': ['A0A087WP41', 'A0A087WPZ6', 'Q9D6L8'], 'MOUSE14750': ['B8JKK2', 'Q3U7D2', 'Q5M8Q0', 'Q9CZM2'], 'NAEGR01685': ['D2V9X4'], 'CHLRE16188': ['A8IY04'], 'ACACA09133': ['L8GUK8'], 'ARATH07444': ['A0A178WJ22', 'A0A5S9WR45', 'A0A654ELA2', 'A0A7G2E5G9', 'Q9ZUI6'], 'HUMAN98087': ['O43172', 'Q59EL4', 'Q5T1M7', 'Q6IAP9'], 'PLAF701801': ['A0A5K1K977'], 'ACACA04459': ['L8H8H4'], 'PLAF702024': ['Q8IDJ8'], 'YEAST05507': ['P10964'], 'DROME27672': ['P56175'], 'PHYPA12308': ['A0A2K1L2H1'], 'ECTSI00524': ['D7FVX7'], 'PARTE37421': ['A0D6W3'], 'MOUSE51999': ['Q9CXX1', 'Q9DB05'], 'ECTSI06025': ['D7FQV6'], 'HUMAN51114': ['P49591', 'Q0VGA5', 'Q53HA4'], 'NAEGR04361': ['D2VQJ9'], 'ACACA03238': ['L8HAJ3'], 'PLAF700438': ['Q8IJ99'], 'DICDI08107': ['Q23924'], 'PHYPA07128': ['A9TKA7'], 'CAEEL09522': ['Q9N358'], 'THAPS09390': ['B8C426'], 'AMPQE27618': ['A0A1X7VT46'], 'RETFI21568': ['X6M2P2'], 'ARATH25962': ['A0A178V397', 'A0A654FLU4', 'A0A7G2F0P8', 'Q9S9T7'], 'DICDI11375': ['Q54EG3'], 'THAPS03576': ['B8CE84'], 'PLAF703903': ['Q8I3R6'], 'DROME11944': ['M9PEL1', 'Q07327'], 'YEAST03631': ['P36108'], 'THAPS11072': ['B8C8B4'], 'NEUCR06142': ['Q7S9Y2'], 'PLAF700099': ['Q8I236'], 'TRYB206517': ['Q4GYW5'], 'DROME29177': ['A4V4A5', 'Q9VZ23'], 'ACACA06967': ['L8H2Y9'], 'DICDI10385': ['Q54HG7'], 'NAEGR01183': ['D2VEN8'], 'MOUSE06770': ['A8Y5G7', 'O35654'], 'CAPO307238': ['A0A0D2WUH5'], 'DROME00685': ['C9QP20', 'Q9VIU7'], 'DROME26351': ['A0A2Z1YXZ9', 'Q9W4P5'], 'ACACA01815': ['L8HGQ4'], 'ACACA00530': ['L8HL46'], 'HUMAN10800': ['A0A140VJZ1', 'P45974'], 'DICDI03145': ['P54642'], 'CAPO304738': ['A0A0D2U494'], 'CAPO300215': ['A0A0D2VFR5'], 'CHLRE10010': ['A0A2K3E2B8'], 'THAPS03752': ['B5YLQ5'], 'CAEEL00483': ['Q9N3T2'], 'HUMAN18890': ['Q53GW1', 'Q8WVM8'], 'HUMAN97556': ['A0A0A0MSX9', 'A0A804HHW9', 'A0A804HJN6', 'A0A804HL54', 'P41252', 'Q59G75', 'Q7Z355', 'Q7Z3U5'], 'HUMAN92811': ['A0A140VK65', 'P21281'], 'PHYPA07647': ['A0A2K1IDJ0', 'A0A7I4CZP8'], 'YEAST03394': ['A0A8H4FAP6', 'P35127'], 'ARATH06979': ['A0A178W102', 'Q9SAV3'], 'ARATH28039': ['A0A178UY34', 'A0A654FQX7', 'F4JT92'], 'CHLRE03969': ['A0A2K3DFI2'], 'YEAST05602': ['Q12330'], 'ARATH37314': ['A0A5S9YBE7', 'A0A654G8Y0', 'Q8LEF3'], 'CAPO305802': ['A0A0D2X2A7'], 'CAEEL05616': ['Q23680'], 'PHYPA16341': ['A0A2K1J3G7'], 'ACACA00531': ['L8HIH5'], 'CHLRE05372': ['A0A2K3DPH8'], 'DICDI00105': ['Q55G81'], 'YEAST05493': ['A0A6A5Q2S8', 'P32836'], 'AMPQE23227': ['A0A1X7VAU0'], 'CAPO307634': ['A0A0D2WUV1'], 'ARATH20000': ['A0A178VME6', 'A0A7G2ER47', 'F4J7K1', 'Q9LV27'], 'NAEGR01381': ['D2V2D6'], 'ACACA05316': ['L8H7G0'], 'PHYPA10816': ['A9T7C2'], 'PHYPA09669': ['A9TB60'], 'CAPO305114': [], 'THAPS10486': ['B8C6M7'], 'CHLRE13815': ['A0A2K3D9H9'], 'HUMAN58857': ['Q15269'], 'NAEGR01084': ['D2VBR0'], 'NEUCR03648': [], 'CYAME04059': [], 'PLAF700185': ['Q8I716'], 'MOUSE27328': ['A0A087WPV4', 'Q3TG12', 'Q3TI98', 'Q8C644', 'Q9CZU5', 'Q9WUA2'], 'NAEGR04363': ['D2VRR1'], 'ACACA11227': ['L8GNB3'], 'PHYPA04888': ['A9TSA3'], 'CAEEL10145': ['Q95017'], 'CYAME04187': [], 'YEAST05786': ['P04051'], 'DROME05495': ['A0A1B2AJY7', 'Q9VLV5'], 'NEUCR01715': ['Q7S0B8'], 'HUMAN57989': ['O94906'], 'ECTSI09773': ['D7FRW0'], 'RETFI19278': ['X6N6Z7'], 'CYAME01991': [], 'PHYPA06280': ['A9TL22'], 'PARTE18112': ['A0DY23'], 'MOUSE14768': ['Q64511'], 'PHYPA22763': ['A0A2K1JL39'], 'HUMAN75102': ['B4E0S6', 'O43143'], 'MOUSE52371': ['D3YVY8', 'P52431', 'Q8C2N0', 'Q91VT0'], 'CAPO303497': [], 'NEUCR05867': ['Q7S2Z6'], 'YEAST06055': ['P08518'], 'HUMAN93391': ['A8K520', 'E5RFX7', 'E5RG77', 'O94903'], 'PLAF701853': ['Q0ZAF3', 'Q8IE08'], 'ECTSI03507': ['D7G4Q9'], 'THAPS02178': ['B8CAU3'], 'PHYPA25256': ['A9RW21'], 'DICDI01188': ['Q55DJ3'], 'MOUSE09165': ['Q8BRF7'], 'DROME15728': ['M9PIG8', 'P55035'], 'ARATH30833': ['A0A178UYN8', 'Q42064'], 'DROME28971': ['O77263'], 'DROME17544': ['P32392'], 'CYAME03170': [], 'HUMAN62898': ['A8K3C3', 'P50991'], 'CHLRE05553': ['A8IMP0'], 'NAEGR00934': ['D2V735'], 'YEAST04974': ['Q03557'], 'PLAF701315': ['Q8I5A5'], 'TRYB206512': ['Q4GYY6'], 'NAEGR04291': [], 'CAPO304115': ['A0A0D2X5A9'], 'ECTSI00290': ['D8LBL3'], 'CYAME00566': [], 'THAPS05143': ['B8BVN4'], 'ECTSI08572': ['D8LLB6'], 'HUMAN97417': ['Q5T6V5', 'Q5T6V7'], 'MOUSE10091': ['B2RTM0', 'P62806'], 'PLAF704286': ['C6KTA3'], 'MOUSE66304': ['Q3TML6', 'Q3UDF8', 'Q3UIJ2', 'Q9Z0N1'], 'MOUSE27901': ['P14148', 'Q3TK73', 'Q3UBI6', 'Q5M9N8'], 'PARTE14574': ['A0EAM6'], 'PARTE05819': ['A0C1F3', 'Q3SE62'], 'HUMAN29349': ['Q9UN37'], 'DROME28884': ['Q9V3R3'], 'RETFI08056': ['X6MTZ2'], 'DICDI02953': ['Q86K01'], 'PARTE05943': ['A0C103'], 'TRYB204163': ['Q57WZ4'], 'ECTSI03535': ['D7G4T7'], 'PLAF700359': ['Q8I6U7'], 'DROME27533': ['Q9W445'], 'CYAME00936': [], 'THAPS09849': ['B5YMJ6'], 'PHYPA29571': ['A0A2K1KNH7'], 'CAPO300654': ['A0A0D2VGW4'], 'PLAF700304': ['Q7KQL4'], 'ARATH10796': ['F4INA0'], 'DROME00910': ['A0AP92', 'A0AP93', 'A0AP95', 'A0AP98', 'A0APA0', 'A0APA1', 'C0MJM8', 'C0MJN4', 'C0MJN5', 'C0MJN7', 'Q9VPP5'], 'CHLRE04715': ['A8HVQ1'], 'NAEGR14400': ['D2VMU8'], 'NAEGR01102': ['D2VC23'], 'CYAME01780': [], 'ECTSI09646': ['D7FYI4'], 'CHLRE14716': ['A8I074'], 'ARATH30275': ['A0A178UTF1', 'A0A7G2F5N5', 'Q94B78'], 'MOUSE38628': ['B2RRH9', 'Q3THK7'], 'NEUCR04321': ['Q7SBD4'], 'ACACA00814': ['L8HH61'], 'ACACA08219': ['L8GWF7'], 'NAEGR01516': ['D2VH49'], 'CAEEL12687': ['P09446'], 'CAPO300992': ['A0A0D2WI98'], 'ACACA01385': ['L8HGP2'], 'THAPS10035': ['B5YN36'], 'NAEGR01681': ['D2V7C4'], 'AMPQE13120': ['A0A1X7U2E0'], 'NAEGR15145': ['D2W098'], 'RETFI25735': ['X6NST9'], 'DICDI00153': ['Q55GU1'], 'AMPQE16781': ['A0A1X7UIQ5'], 'ARATH21214': ['A0A178VIW5', 'Q38950'], 'TRYB204553': ['Q582R7'], 'PARTE12258': ['A0EHZ7'], 'CHLRE15751': ['A0A2K3D581'], 'ACACA13683': ['L8GGB5'], 'ACACA04981': ['L8H783'], 'NEUCR04775': ['V5IN23'], 'TRYB200363': ['Q38BK6', 'Q38BK7'], 'CAEEL00561': ['P91175'], 'MOUSE13709': ['G3X956'], 'DICDI01458': ['Q55C75'], 'CAPO300703': [], 'NEUCR05775': ['Q871N9'], 'CAEEL16382': ['Q9XW92'], 'PLAF700433': ['Q8IJA4'], 'PLAF702711': ['F2X1X8', 'Q8IKX4'], 'ARATH05946': ['A0A178WGF0', 'Q9C514'], 'CHLRE15825': ['A8IJ00'], 'CAPO306330': ['A0A0D2WQW8'], 'PHYPA13515': ['A0A2K1L7M1'], 'YEAST03477': ['A0A6A5PV20', 'P39077'], 'PLAF704661': ['Q8IAL3'], 'CAEEL02013': ['Q23312'], 'NEUCR06133': ['Q7S9Z2'], 'CYAME01863': ['Q84KP2'], 'DROME12452': ['Q9W0H6', 'T1W0I3'], 'NEUCR03588': ['Q9P727'], 'AMPQE14596': ['A0A1X7U9Z2'], 'PHYPA22579': ['A9S7M1'], 'THAPS05417': ['B8CER2'], 'ARATH18541': ['A0A178V980', 'Q9SF53'], 'YEAST03140': ['P38789'], 'DICDI04893': ['Q54YZ4'], 'DICDI07037': ['Q54SF7'], 'CHLRE09597': ['A0A2K3DRT1'], 'MOUSE42219': ['Q9WTP6'], 'YEAST00966': ['A0A6A5Q382', 'P40327'], 'YEAST03554': ['A0A6A5PXJ8', 'P47142'], 'CYAME03624': [], 'MOUSE34151': ['A2BH46', 'E9Q498', 'Q8K224'], 'TRYB206475': ['Q4GZ23'], 'CYAME03676': [], 'NAEGR01424': ['D2V6I7'], 'CAPO307015': ['A0A0D2WU46'], 'YEAST02214': ['A0A6A5PZC5', 'P07283'], 'PARTE35951': ['A0DY77'], 'DROME21190': ['Q9VAX8'], 'CHLRE08877': ['A0A2K3CPH6'], 'AMPQE23690': ['A0A1X7VE14'], 'ACACA01586': ['L8HII7'], 'PHYPA29905': ['A9RJ06'], 'TRYB203595': ['Q57V35', 'Q57V37'], 'ACACA00578': ['L8HM08'], 'ECTSI03794': ['D8LCK6'], 'CAPO307938': [], 'ARATH05801': ['A0A178W162', 'A0A5S9WML4', 'Q9M5K3'], 'CAEEL13877': ['Q9N306'], 'DICDI01608': ['Q55E52'], 'CHLRE04323': ['A0A2K3DCJ3'], 'HUMAN70104': ['Q9Y5P6'], 'MOUSE58843': ['A0A1S6GWG6', 'P62814'], 'CHLRE13043': ['A8IEP3'], 'TRYB206110': ['Q586L8'], 'ACACA11209': ['L8GNP5'], 'CYAME00391': [], 'ACACA11140': ['L8GPQ3'], 'NAEGR05456': [], 'CAPO306106': ['A0A0D2VQY7'], 'PHYPA29166': ['A0A2K1J8F2'], 'PLAF703398': ['O77395'], 'ECTSI01520': ['D7FKE2'], 'MOUSE34174': ['G3UZR1', 'P68372'], 'PHYPA32277': ['A0A2K1KC90'], 'CAPO301709': [], 'PARTE06111': ['A0BZJ9'], 'ECTSI02332': ['D7G6C4'], 'CHLRE07110': ['A0A2K3E5A0'], 'THAPS09106': ['B8C5G5'], 'TRYB201582': ['Q38FW8'], 'YEAST00995': ['P15565'], 'THAPS04971': ['B8BV63'], 'ECTSI01006': ['D7FQA4'], 'PHYPA10780': ['A0A2K1KFF8'], 'CHLRE13003': ['A8J2N5'], 'HUMAN67984': ['A0A140VK83', 'Q15435'], 'PHYPA29693': ['A9RKD8'], 'DROME17317': ['M9PEW1'], 'NAEGR04297': ['D2VL47'], 'HUMAN31104': ['Q9GZP9'], 'CAEEL15458': ['Q27488'], 'MOUSE08536': ['O08749', 'Q3TIE8'], 'AMPQE11385': ['A0A1X7TUV2'], 'ARATH07495': ['A0A178WJJ6', 'A0A5S9WNA7', 'A0A654EL98', 'Q8GYN9'], 'CAPO302993': [], 'CAEEL03246': ['H2L0M0', 'Q9GZI3'], 'RETFI20867': ['X6MHG7'], 'CAEEL04824': ['P55216'], 'HUMAN66198': ['A0A024R3X4', 'B3GQS7', 'B7Z4F6', 'B7Z597', 'B7Z5E7', 'P10809'], 'THAPS02080': ['B8CAJ4'], 'YEAST04379': ['A0A6A5PSY8', 'P22214'], 'HUMAN73746': ['B4DM22', 'Q13200', 'Q59EG8'], 'TRYB202065': ['Q38EH6'], 'MOUSE20273': ['P47964', 'Q5M9L1'], 'PLAF700974': ['Q8IHQ8'], 'PLAF701424': ['Q8I501'], 'DICDI02720': ['Q86KI1'], 'YEAST05208': ['A0A8H4BW10', 'P53941'], 'CHLRE03182': ['A8J3L9'], 'ARATH39439': ['A0A178UQB6'], 'RETFI38926': ['X6NPX8'], 'CYAME01905': [], 'THAPS07858': ['B8C0C0'], 'PARTE15745': ['Q3SEA6'], 'DICDI03663': ['Q75K18'], 'ARATH13449': ['A0A178VYU4', 'A0A654EVZ6', 'Q9SIR5'], 'TRYB203607': ['Q57V19'], 'CYAME04312': [], 'AMPQE27620': ['A0A1X7VVV6'], 'NAEGR04321': ['D2UZW5'], 'ACACA12687': ['L8GI71'], 'NEUCR03912': ['Q7RY44'], 'NAEGR01443': ['D2V948'], 'PLAF700915': ['Q8IHW4'], 'PHYPA01204': ['A0A2K1JHT7'], 'CYAME02392': [], 'PARTE01410': ['A0CHL2'], 'CAEEL07567': ['P46561'], 'AMPQE13672': ['A0A1X7U4W6'], 'DROME05130': ['A0A024E347', 'M9ND86', 'P43248', 'Q0IGW6'], 'NAEGR10774': ['D2VUQ2'], 'AMPQE26083': ['A0A1X7VLY2'], 'CHLRE16624': ['A0A2K3D482'], 'DROME17338': ['Q8IRG6'], 'HUMAN85918': ['B2RBJ8', 'Q9H0R6'], 'DICDI06219': ['Q54UU6'], 'NAEGR00790': ['D2V361', 'Q8TA06'], 'MOUSE58535': ['Q3TIV6', 'Q8C1V4', 'Q8C292', 'Q99MN1'], 'DROME27970': ['A8JUY3', 'A9UN86', 'I0EZ84'], 'NAEGR10171': ['D2VRJ9'], 'RETFI38906': ['X6P085'], 'MOUSE23304': ['A0A494BAS4', 'D3YVF4', 'D3Z7I1', 'O70569', 'P62264', 'Q3UJS5'], 'PLAF702353': ['Q8ILX1'], 'DICDI05535': ['Q54WW9'], 'CAEEL08043': ['P53993'], 'AMPQE27846': [], 'ACACA09315': ['L8GWF5'], 'AMPQE21077': ['A0A1X7V3L7'], 'CAEEL00310': ['Q9TXI4'], 'CYAME00448': [], 'PHYPA31940': ['A9RDU9'], 'ARATH07536': ['A0A654EJU4', 'O22715'], 'CAPO303598': ['A0A0D2WVE1'], 'NAEGR01495': ['D2VFE3'], 'CYAME00269': [], 'DICDI06467': ['Q54UB5'], 'ECTSI02404': ['D7FJ40'], 'MOUSE39904': ['P61327'], 'CAEEL07771': ['Q95ZN7'], 'DROME10910': ['Q7JUM3'], 'CYAME03007': ['Q84KP3'], 'DICDI00960': ['Q55CA0'], 'DROME20148': ['Q9VFB5'], 'NAEGR01593': ['D2V9G7'], 'PLAF704989': ['C0H516', 'Q9NFG0'], 'AMPQE17355': ['A0A1X7UM67'], 'PARTE15846': ['A0E4S5'], 'RETFI30810': ['X6MAX9'], 'ACACA01781': ['L8HEW0'], 'ACACA02722': ['L8HE64'], 'AMPQE16364': ['A0A1X7UGH0'], 'THAPS08402': ['B8C2N9'], 'NAEGR01080': ['D2VBB3'], 'MOUSE41611': ['Q3TAE8'], 'ARATH20944': ['A0A178VEN0', 'P29197'], 'AMPQE14324': ['A0A1X7U8S2'], 'CAPO301472': [], 'TRYB201231': ['Q1XEE6', 'Q388R5'], 'CAPO301715': [], 'CAEEL06424': ['Q9XVZ8'], 'AMPQE23359': ['A0A1X7VCV0'], 'CAPO302671': [], 'PHYPA26838': ['A9RTN1'], 'CYAME03922': [], 'ARATH23359': ['A0A178VE18', 'Q38859'], 'CYAME03406': [], 'NEUCR05542': ['Q7S503'], 'MOUSE09401': ['P32921', 'Q3U6U7', 'Q4FJZ4'], 'YEAST03725': ['A0A6L1BCK9', 'P28495'], 'RETFI09910': ['X6LUY7'], 'ARATH16901': ['A0A178VTU6', 'Q9ZPY7'], 'CYAME04801': [], 'ECTSI02255': ['D8LGI0'], 'CAEEL19851': ['Q19211'], 'CAEEL11342': ['C1P636', 'Q27481', 'Q3S1J5'], 'MOUSE49641': ['Q4VBG1', 'Q9CWX9'], 'NEUCR06694': ['Q9C2B9'], 'NEUCR05879': ['Q7S2Y4'], 'ACACA11132': ['L8GNH8', 'Q3T2L8'], 'PLAF703313': ['O77321'], 'DROME01858': ['Q7KNM2'], 'NEUCR03790': ['Q1K8E3', 'Q872A2'], 'PHYPA13449': ['A9SYE1'], 'CHLRE14680': ['A8I164'], 'ACACA01857': ['L8HFK2'], 'NAEGR00530': [], 'ACACA10735': ['L8GQV1'], 'HUMAN96110': ['A0A0S2Z5H5', 'E9PLM9', 'E9PQR7', 'E9PR04', 'Q548N1', 'Q9UK41'], 'PARTE27195': ['A0D0B8'], 'NEUCR02824': [], 'PHYPA01977': ['A9U0C7'], 'AMPQE20522': ['A0A1X7V001'], 'CAEEL11935': ['Q19877'], 'HUMAN59160': ['P53675'], 'PHYPA09321': ['A0A2K1IG24'], 'ACACA04817': ['L8H6J0'], 'HUMAN45944': ['P46781'], 'CAEEL07578': ['Q9GYG4'], 'CYAME01016': [], 'THAPS05159': ['B8BVQ0'], 'PHYPA18128': ['A0A2K1I9Y6'], 'NEUCR00420': ['Q6MFR9', 'Q7SAN2'], 'CHLRE10644': ['A0A2K3E1J5'], 'PLAF700568': ['Q8IIW2'], 'CYAME04458': [], 'PLAF700621': ['Q8I713'], 'ACACA08890': ['L8GUQ8'], 'CAEEL08413': ['P30628'], 'ECTSI12113': ['D7G8D7'], 'RETFI16501': ['X6N6K0'], 'TRYB202371': ['Q38DL0'], 'HUMAN47805': ['Q9UKD2'], 'HUMAN88344': ['A0A6Q8PFV5', 'A0A6Q8PGW4', 'A0A6Q8PGZ9', 'P41250'], 'PLAF701841': ['Q8IE20'], 'PLAF700479': ['Q8IJ63', 'Q9U464'], 'CHLRE14834': [], 'NEUCR07532': ['Q6MVL0', 'Q7SF71'], 'DICDI05281': ['Q54XP4'], 'DICDI11542': ['Q54E21'], 'HUMAN97936': ['B7Z4W4', 'B7ZA74', 'P54727', 'Q53F10', 'Q5W0S5'], 'CAPO306094': ['A0A0D2WQJ5'], 'AMPQE19508': [], 'DROME15060': ['Q9VUK8'], 'THAPS07298': ['B8C1C2'], 'ARATH33100': ['A0A178UQS1', 'Q8LA72', 'Q94K26', 'Q9LYE1'], 'NAEGR13977': ['D2VFD6'], 'CAPO300350': ['A0A0D2WGY2'], 'HUMAN26529': ['A0A0S2Z4J6', 'A0A291FGD1', 'B2R6D4', 'O15305'], 'ARATH23649': ['A0A178VG46', 'Q8LCB7', 'Q9M337'], 'PHYPA13905': ['A9SYB7'], 'DROME03240': ['M9PEA6', 'O76927'], 'PHYPA07124': ['A0A2K1LAM1'], 'CAEEL16538': ['Q22053'], 'PLAF700930': ['Q8IHU9'], 'PHYPA08689': ['A9TE20'], 'ARATH05596': ['F4HPK7'], 'AMPQE07795': ['A0A1X7TDU2'], 'YEAST06575': ['A0A6A5Q5Y9', 'Q12522'], 'CAPO302226': ['A0A0D2VQB2'], 'ARATH37095': ['A0A178UK72', 'A0A5S9YBL0', 'A0A7G2FGP9', 'F4KAB8'], 'PLAF703108': ['O96184'], 'MOUSE24189': ['Q3U8S0', 'Q9DCR2'], 'NEUCR01373': ['Q1K6X9', 'Q86ZH0'], 'ACACA11818': ['L8GLW9'], 'DICDI09712': ['P90532'], 'CAPO304778': ['A0A0D2VJ98'], 'MOUSE04996': ['Q3U2P1'], 'NEUCR04091': ['Q7RX32'], 'TRYB202840': ['B9WNA1', 'Q581X7'], 'YEAST06581': ['P22516'], 'AMPQE27065': ['A0A1X7VTE3'], 'YEAST00440': ['P32473'], 'ARATH20642': ['A0A178VJ65', 'A0A5S9XSS7', 'O81148'], 'DICDI12824': ['B0G0Z6'], 'MOUSE15434': ['Q9DCA5'], 'NEUCR02832': ['Q7RXJ4'], 'ACACA13447': ['L8GJK6'], 'ARATH38608': ['A0A178UDA7', 'A0A5S9YG53', 'Q9ZRA2'], 'DICDI02971': ['P42521'], 'YEAST00320': ['P16661'], 'PLAF701715': ['C0H5C2'], 'HUMAN57432': ['A0A384NKW7', 'P55060'], 'YEAST02626': ['P53312'], 'PHYPA23563': ['A9S3Z6'], 'CHLRE00436': [], 'PARTE09082': ['A0BN84'], 'CYAME03316': [], 'ECTSI00635': ['D7FW88'], 'NAEGR04328': ['D2V9D2'], 'DROME28455': ['B6IDH0', 'N0D8I3', 'Q9W420'], 'CYAME03983': ['Q6Q765'], 'PLAF703373': ['O97259'], 'CAPO307679': ['A0A0D2WV07'], 'ACACA12118': ['L8GLR0'], 'CAPO304839': ['A0A0D2VJJ5'], 'CHLRE12787': ['A0A2K3DTG4'], 'THAPS09577': ['B8C4L3'], 'PLAF702107': ['Q8IDB0'], 'PHYPA23622': ['A0A2K1KB25', 'A0A7I4FU63'], 'DICDI04126': ['Q869U7'], 'AMPQE14664': ['A0A1X7UA92'], 'PHYPA17995': ['A9SKS5'], 'CAPO301094': ['A0A0D2U3A9'], 'DROME22039': ['Q9VGW6'], 'AMPQE19113': [], 'DICDI12443': ['P27685'], 'MOUSE47676': ['A0A0N4SVG9', 'P51150', 'Q4FJQ0'], 'CAEEL07069': ['Q9BL28'], 'CAPO301053': ['A0A0D2WIH6'], 'PARTE35496': ['Q6BFE0'], 'THAPS00599': ['B8BR08'], 'NEUCR03841': ['Q7RYW9'], 'ECTSI07940': ['D7G1X8'], 'PARTE23799': ['Q3SD10'], 'CHLRE05197': [], 'DROME07573': ['A1ZA03', 'O76417', 'Q8T9C0'], 'RETFI30522': ['X6NMZ8'], 'ARATH17419': ['A0A178VEZ9', 'A0A5S9X8Q3', 'A0A7G2EIJ8', 'Q9SRU7'], 'DICDI10745': ['Q54GE3'], 'ECTSI07597': ['D8LGX2'], 'ECTSI06972': ['D7FN56'], 'PARTE38354': ['A0CJS9'], 'CHLRE08179': ['A8J1T4'], 'ECTSI09648': ['D7FYI6'], 'NAEGR01589': ['D2V8Q0'], 'CAEEL07839': ['Q18035'], 'ARATH02693': ['A0A178WMA8', 'A0A5S9UTV8', 'A0A654EC40', 'A1A6H3'], 'ECTSI10640': ['D8LJR2'], 'THAPS03989': ['B8LD20'], 'HUMAN54281': ['P62304'], 'DICDI05354': ['Q54XD8'], 'TRYB202779': ['Q580I2'], 'CHLRE16251': ['A0A2K3D4E7'], 'PARTE08111': ['A0BST6'], 'YEAST01364': ['Q07381'], 'CAEEL04369': ['Q19265'], 'CAEEL15773': ['P90829'], 'PHYPA18063': ['A9SK61'], 'YEAST04268': ['A0A6A5PUY8', 'P29496'], 'AMPQE26927': ['A0A1X7VR23'], 'ARATH26959': ['A0A5S9XTT2'], 'ARATH10040': ['A0A178WEC7', 'A0A5S9WUY9', 'A0A654EUP8', 'A0A7G2E3C9', 'Q9SRE1'], 'HUMAN25868': ['H3BN58', 'H3BQ74', 'Q9BVC4'], 'PLAF702104': ['Q8IDC0'], 'PHYPA32152': ['A0A2K1KCK2', 'A0A7I4E6G5'], 'CAPO303955': ['A0A0D2X4Z8'], 'PLAF703191': ['O96265'], 'CAPO303485': ['A0A0D2WV45'], 'DICDI09862': ['Q54J08'], 'ECTSI00691': ['D8LFB8'], 'PARTE12203': ['A0EHU2'], 'DROME30249': ['A0A1B2AJF9', 'Q9VXE0'], 'CAPO305932': ['A0A0D2VPI0'], 'ACACA14900': ['L8GDR3'], 'AMPQE25830': ['A0A1X7VMH8'], 'PARTE37945': ['A0BIZ4'], 'PARTE11249': ['A0BG27'], 'PARTE25790': ['A0BNY3'], 'MOUSE08313': ['P83882', 'Q5M9P1'], 'PLAF704545': ['Q8IBN5'], 'YEAST05563': ['A0A6A5Q7A1', 'P38902'], 'AMPQE13462': ['A0A1X7U424'], 'THAPS10866': ['B8C7Q8'], 'DICDI05687': ['Q54WH0'], 'CAPO300475': [], 'RETFI37240': ['X6MC44'], 'MOUSE57291': ['A0A140LIB6', 'Q3UXN3', 'Q9ER72'], 'MOUSE39198': ['Q6ZWU9'], 'YEAST05270': ['A0A6A5Q5D0', 'P41318'], 'THAPS00423': ['B8BQI2'], 'THAPS00683': ['B8BR92'], 'ECTSI11901': ['D8LDN2'], 'CAPO301346': ['A0A0D2X1J9'], 'NAEGR05472': ['D2VK04'], 'AMPQE19843': ['A0A1X7UXK2'], 'CAPO300014': ['A0A0D2TZH7'], 'NAEGR00469': ['D2VB94'], 'ARATH39215': ['A0A178UEK1', 'Q9FGU1'], 'ACACA09433': ['L8GW47'], 'CYAME02523': ['A4L9S2'], 'YEAST01703': ['P40487'], 'YEAST00448': ['P0CX47', 'P0CX48'], 'YEAST00989': ['A0A6A5Q259', 'Q03195'], 'DICDI05584': ['Q54WT4'], 'YEAST04203': ['P15624'], 'DICDI08300': ['Q54NN1'], 'TRYB202111': ['Q38EC5', 'Q967R7'], 'ACACA02916': ['L8HER6'], 'DICDI07782': ['Q54Q71'], 'DICDI05505': ['Q54X03'], 'DICDI02919': ['Q556Q0'], 'MOUSE47961': ['D3YUS8', 'D3Z2H3', 'Q3TPM3', 'Q3UIA5', 'Q9WTX6'], 'PARTE23503': ['Q3SEA9'], 'AMPQE25968': ['A0A1X7SJ97'], 'PARTE07893': ['A0BT35'], 'TRYB200138': ['Q38C86', 'Q8WRS9'], 'ARATH03263': ['A0A178W7K6', 'A0A5S9VEI8', 'A0A654EBP4', 'Q9SYP1'], 'THAPS04428': ['B8BTL9'], 'THAPS02824': ['B8CCN2'], 'MOUSE40482': ['Q8VEJ1'], 'CHLRE06016': ['A0A2K3CS00'], 'HUMAN67240': ['Q13618'], 'CYAME02304': [], 'DROME17331': ['Q9VU67'], 'PARTE14034': ['A0ECD1'], 'DICDI08888': ['Q54LV1'], 'DROME11491': ['A1Z7C1', 'O61917'], 'CAPO300493': ['A0A0D2VGC7'], 'CHLRE07435': ['A8J3B0'], 'HUMAN39979': ['Q9Y3U8'], 'PHYPA22703': ['A0A2K1JL86'], 'CHLRE15325': ['A0A2K3D5N3'], 'DICDI03342': ['Q555Z2'], 'CYAME02250': [], 'CAEEL13148': ['Q9TZS5'], 'CYAME04158': [], 'MOUSE41033': ['P70697'], 'ACACA10916': ['L8GNX7'], 'YEAST02324': ['P43588'], 'NEUCR01522': ['Q9P5N9'], 'CYAME01059': [], 'MOUSE34600': ['O70152'], 'THAPS01200': ['B8C8Y8'], 'ECTSI10090': ['D8LH81'], 'DICDI02086': ['Q86AD9'], 'HUMAN75683': ['B4DH29', 'C9JMN3', 'P30876'], 'CYAME00671': [], 'PHYPA28270': ['A0A2K1J0N5', 'A0A7I4F8L5'], 'CYAME02848': [], 'AMPQE12536': ['A0A1X7U030'], 'ECTSI07560': ['D8LM18'], 'NEUCR07192': ['Q7SD47'], 'HUMAN79121': ['B3KPC1', 'Q9BRX2'], 'TRYB202334': ['Q38DP9'], 'DICDI04604': ['Q76NU1'], 'CYAME04351': [], 'HUMAN76023': ['Q9NVU7'], 'HUMAN40958': ['P60002'], 'ACACA10748': ['L8GQN5', 'V9NC98'], 'ARATH32917': ['F4KGW0'], 'ACACA13871': ['L8GI72'], 'NAEGR13256': ['D2V0E1'], 'ARATH00159': ['A0A178WPT5', 'Q949M9', 'Q9LPD0'], 'HUMAN47760': ['P21912'], 'NAEGR00604': ['D2UYC9'], 'NEUCR06828': ['Q9C256', 'V5IL63'], 'CYAME02782': [], 'CAPO301521': ['A0A0D2WM58'], 'TRYB201317': ['Q388H8'], 'MOUSE12362': ['Q9CSH3'], 'TRYB205737': ['Q57VD5'], 'ACACA03786': ['L8H9V1'], 'CAPO303810': ['A0A0D2VYG4'], 'YEAST03066': ['P38764'], 'ARATH25550': ['A0A178V5S8', 'O04834'], 'MOUSE45195': ['Q91VU7'], 'CAPO301774': ['A0A0D2WMM3'], 'MOUSE53114': ['P62317', 'Q14AF6'], 'ARATH25544': ['A0A178V048', 'A0A654FL69', 'P43299'], 'PARTE06398': ['A0BYP5', 'Q3SE61'], 'AMPQE15905': ['A0A1X7UFX9'], 'CAEEL06147': ['Q9U2G0'], 'CAPO302700': ['A0A0D2WRT9'], 'MOUSE13684': ['Q8K0W9'], 'AMPQE15732': ['A0A1X7UF89'], 'CYAME01739': [], 'AMPQE21372': ['A0A1X7V2W4'], 'ACACA07779': ['L8GYA7'], 'NEUCR06201': ['Q7RVI1'], 'ECTSI05243': ['D8LHW4'], 'HUMAN29689': ['B2RD27', 'H3BNT7', 'P51665'], 'PARTE14149': ['A0BS60'], 'DROME25442': ['A0A4D6K4F6', 'E6PBV6', 'Q8SWU7'], 'DICDI12867': ['C7FZX3'], 'CAPO308286': [], 'CHLRE06491': ['A8HN50'], 'THAPS07213': ['B8C138'], 'DICDI05419': ['Q54X97'], 'PHYPA19674': ['A0A2K1KTW3', 'A0A7I4FLH4'], 'ARATH27471': ['A0A178V110', 'Q94CL6'], 'ACACA11703': ['L8GLJ4'], 'NAEGR05632': ['D2UXY3'], 'NEUCR02166': ['Q7S9V2'], 'DROME20112': ['Q9VH09'], 'HUMAN64721': ['B9A008', 'Q96G21'], 'YEAST01228': ['P30619'], 'MOUSE35569': ['Q8CFQ3'], 'ECTSI03517': ['D7G4R9'], 'AMPQE22597': [], 'NEUCR01226': ['Q7S9R0'], 'CYAME03685': [], 'CYAME04337': [], 'YEAST06196': ['Q06624'], 'PARTE02583': ['A0CBZ8'], 'YEAST00863': ['P41810'], 'THAPS09433': ['B8C469'], 'ECTSI04817': ['D8LEX4'], 'HUMAN100057': ['P41091'], 'PLAF703813': ['Q8I402'], 'RETFI05093': ['X6LFT6'], 'HUMAN04810': ['P62277'], 'AMPQE14398': ['A0A1X7U8H2'], 'HUMAN56261': ['Q8IXG0', 'Q9BZJ0'], 'CAPO302786': ['A0A0D2UGE9'], 'RETFI27268': ['X6M286'], 'NEUCR03587': ['Q1K825', 'Q9P729'], 'MOUSE60307': ['A0A1B0GSW6', 'Q9JHU9'], 'PLAF700822': ['Q8II61'], 'DICDI06528': ['Q54TY4'], 'DICDI10028': ['Q54II8'], 'ACACA08103': ['L8GVG9'], 'PHYPA04772': ['A9TR32'], 'PHYPA30767': ['A9RFW2'], 'DROME04579': ['M9PBN7', 'P48603'], 'HUMAN04754': ['E9PKQ1', 'E9PP63', 'E9PP73', 'P53618'], 'CHLRE08548': ['A8JCA8'], 'HUMAN61401': ['Q9BV57'], 'PARTE38230': ['A0CJF4'], 'DROME04788': ['C0HL66', 'C0HL67'], 'MOUSE42158': ['Q8BJX0', 'Q9R1P3'], 'CHLRE00254': ['A0A2K3DH85'], 'MOUSE34511': ['P35979', 'Q3TIQ2', 'Q5BLK0', 'Q8C2K0'], 'PHYPA31046': ['A9RGL6'], 'RETFI16997': ['X6M1E7'], 'ACACA04353': ['L8H752'], 'MOUSE54434': ['Q9JIF7'], 'YEAST02194': ['P09624'], 'MOUSE00011': ['A0A1W2P7B7', 'A0A1W2P828', 'A0A1W2P871', 'P80314', 'Q542X7', 'Q9JJD8'], 'NEUCR01377': ['Q1K6Y2', 'Q871Q9'], 'MOUSE20149': ['Q8CHP8'], 'CAPO303429': ['A0A0D2ULD9'], 'PHYPA19938': ['A0A2K1KI35', 'A0A7I4DRL6'], 'CHLRE01316': ['A8ITS8'], 'DROME16554': ['Q9VTZ6'], 'DROME20577': ['Q0KI98', 'Q9U4Y0', 'Q9U4Y1'], 'TRYB204632': ['Q580S3', 'Q8WRU8'], 'TRYB204015': ['Q57VI8'], 'DROME00569': ['Q86NL4', 'Q9VMQ8'], 'ACACA02486': ['L8HEJ9'], 'ARATH02011': ['A0A384KX64', 'C0SUV0', 'Q9SDS7'], 'MOUSE14995': ['B2RXC6'], 'PARTE21036': ['A0DM44'], 'ECTSI04439': ['D7FTH9'], 'PLAF700702': ['Q8III7'], 'AMPQE26461': ['A0A1X7VP88'], 'ACACA14164': ['L8GF16'], 'NAEGR04520': ['D2V3J3'], 'ECTSI09322': ['D8LG41'], 'HUMAN44450': ['P62316'], 'CYAME03420': [], 'CAEEL14876': ['O16458'], 'HUMAN19917': ['G3V4T5', 'P05198', 'Q53XC0'], 'DICDI01742': ['Q55BV5'], 'TRYB206568': ['Q4GYR2'], 'PLAF702905': ['Q8IKE1'], 'AMPQE20306': ['A0A1X7V053'], 'YEAST06123': ['Q12213'], 'ARATH16461': ['A0A178VUX9', 'A0A5S9X6Q6', 'O22826'], 'NEUCR05883': ['Q7S2Y0'], 'MOUSE21924': ['Q9CWG8'], 'NAEGR01143': ['D2VD51', 'Q3SAE1'], 'PLAF701413': ['Q8I512', 'Q8WSL8'], 'PLAF700308': ['Q8IJM5'], 'DROME20630': ['Q9VNA5'], 'DICDI07723': ['Q54QC1'], 'MOUSE36682': ['Q6PF96', 'Q921G7'], 'THAPS07079': ['B8BWM8'], 'PLAF702856': ['Q8IKJ0'], 'CHLRE14673': ['A8II71'], 'YEAST04389': ['P0C2H9'], 'AMPQE12806': ['A0A1X7U0X6'], 'AMPQE12009': ['A0A1X7TX12'], 'RETFI35671': ['X6NDB8'], 'AMPQE23370': ['A0A1X7VDJ5'], 'DICDI07266': ['B0G141'], 'MOUSE10969': ['A0A0R4J023'], 'CHLRE04846': ['I2FKQ9'], 'PLAF704205': ['C6KT23'], 'PHYPA21137': ['A0A2K1JEB0'], 'CAEEL07711': ['P46550'], 'THAPS09141': ['B8C5K0'], 'NEUCR04821': ['Q7SCT0'], 'ACACA11953': ['L8GL93'], 'NEUCR01358': ['Q9Y8H7'], 'NAEGR15564': ['D2W2H0'], 'ACACA01178': ['L8HKH2'], 'AMPQE28068': ['A0A1X7VUQ9'], 'MOUSE41817': ['Q3TE45', 'Q9CQA3'], 'PLAF703406': ['O77381'], 'YEAST01307': ['A0A6L1AFY5', 'P39079'], 'DICDI00093': ['Q55GJ6'], 'YEAST02409': ['P53327'], 'DICDI10977': ['Q54FQ8'], 'PHYPA08151': ['A9TFW5'], 'MOUSE10790': ['Q8K2B3'], 'TRYB204177': ['Q57WX9'], 'THAPS07949': ['B8C0L1'], 'PHYPA13253': ['A9SZV0'], 'MOUSE37720': ['O08547'], 'DROME21044': ['C0MJU2', 'Q9XYN7'], 'RETFI39274': ['X6M6X9'], 'HUMAN97070': ['Q9NQT5'], 'HUMAN73009': ['A0A140VJK6', 'B4DUT7', 'P49915', 'Q53F90'], 'CYAME03139': [], 'PHYPA23658': ['A9S1Z1'], 'PHYPA18651': ['A0A2K1L0S6'], 'CHLRE15357': ['A0A2K3D1W3'], 'YEAST01704': ['P32191'], 'NEUCR00890': ['Q1K8T5', 'Q873B5'], 'ACACA09479': ['L8GTU7'], 'CHLRE11142': ['A8I901'], 'DICDI00251': ['Q55GD9'], 'CAPO307476': ['A0A0D2WUF9'], 'HUMAN60236': ['A8K521', 'B1AHB0', 'B1AHB2', 'P33992', 'Q53FG5'], 'ARATH08469': ['A0A178W7N6', 'Q93W22'], 'CAPO300385': [], 'ECTSI10268': ['D7FV66'], 'ACACA06004': ['L8H325'], 'NEUCR06957': ['Q7RVT3', 'Q872K3'], 'ECTSI10969': ['D8LQB3'], 'RETFI35320': ['X6MA97'], 'DICDI10312': ['Q54HP3'], 'PARTE07317': ['A0BVX6'], 'CAEEL12139': ['Q95PY9'], 'DICDI10502': ['Q54H44'], 'CYAME04836': [], 'NEUCR02067': ['Q7SCN3'], 'PARTE03385': ['A0CD29'], 'CAEEL06462': ['O45241'], 'PARTE14757': ['A0EA04'], 'PLAF701322': ['Q8I5A0'], 'CYAME04696': [], 'DICDI05678': ['Q54WI4'], 'PLAF701782': ['Q8IE72'], 'ARATH36465': ['Q9FKS5'], 'NAEGR05431': ['D2V4G6'], 'MOUSE60086': ['Q3UK27', 'Q8VBW6'], 'ACACA03582': ['L8H9K6'], 'DICDI11527': ['Q54E36'], 'ECTSI06615': ['D8LR58'], 'YEAST06553': ['A0A8H4BWC8', 'Q12181'], 'PLAF700222': ['Q8IJV7'], 'CHLRE12005': ['A8HRP7'], 'AMPQE25614': ['A0A1X7VLY0'], 'RETFI36171': ['X6NWK4'], 'ARATH01251': ['A0A178W6A5', 'Q8VZB9'], 'NAEGR14407': ['D2VN06'], 'HUMAN35988': ['J3KSP2', 'P63173'], 'DROME06492': ['B6IDS9', 'Q6NN46', 'Q8MKJ6'], 'YEAST05077': ['P00890'], 'AMPQE08007': ['A0A1X7TF67'], 'PHYPA22575': ['A9S7L5'], 'CHLRE04915': ['A8HWM8'], 'CYAME00881': [], 'DICDI12423': ['Q54BN3'], 'CAPO300090': ['A0A0D2VFC9'], 'CYAME00441': [], 'DICDI07784': ['Q54Q66'], 'PHYPA18448': ['A9SJS2'], 'YEAST03793': ['A0A6A5PVB7', 'P33201'], 'DROME08306': ['Q7JXV9'], 'PARTE29832': ['A0CQ27'], 'AMPQE16549': [], 'CHLRE16137': ['A8ILR9'], 'PHYPA19019': ['A0A2K1K3B7'], 'NEUCR02407': ['Q7S464'], 'RETFI32784': ['X6N310'], 'YEAST02831': ['A0A6A5Q2N7', 'P0CX43', 'P0CX44'], 'PHYPA23023': ['A9S5R5'], 'CAEEL10604': ['Q9GZH3', 'V6CLC6'], 'DROME18648': ['P40301'], 'CAEEL05153': ['Q19705'], 'NEUCR06977': ['P23955'], 'CHLRE16628': ['A8J5F7'], 'PHYPA26392': ['A9RV22'], 'RETFI20504': ['X6NNN8'], 'CAEEL08965': ['Q95PZ4'], 'THAPS09003': ['B8C562'], 'HUMAN90605': ['A0A9L9PWW3', 'A0A9L9PXH0', 'A0A9L9PY03', 'A8K1E9', 'B3KM34', 'O75439', 'Q96CP5'], 'RETFI33550': ['X6NKW3'], 'ACACA01192': ['L8HI86'], 'ACACA00189': ['L8HIN1'], 'PLAF703532': ['Q25691', 'Q6ZMA8'], 'NEUCR01955': ['V5IQA2'], 'THAPS09123': ['B8C5I2'], 'TRYB203766': ['Q57WF3'], 'DROME30065': ['A0A4D6K3W6', 'A4V488', 'Q07152'], 'ARATH03460': ['A0A178WGJ7', 'Q8LFJ5'], 'PLAF700706': ['Q8III3'], 'PLAF701937': ['Q8IDS6'], 'DROME22425': ['Q8INP9'], 'NEUCR03219': ['V5IQK1'], 'CYAME02262': [], 'ACACA03674': ['L8HA21'], 'HUMAN81524': ['B2RCM2', 'Q9P2J5'], 'DROME08106': ['A0A0B4KED0', 'Q9W5N2'], 'THAPS00178': ['B8BT64'], 'HUMAN24842': ['H0YNX5', 'P67812', 'Q6IAM7'], 'NAEGR00817': ['D2V432'], 'ECTSI01604': ['D8LE03'], 'CAPO301141': ['A0A0D2VIC5'], 'THAPS01017': ['B8BS75'], 'THAPS04662': ['B8BUA4'], 'PHYPA32522': ['A0A2K1KSV0'], 'NAEGR04888': ['D2VL67'], 'CYAME04522': [], 'DROME03253': ['M9MRD0', 'P35122'], 'ACACA05052': ['L8H574'], 'YEAST01632': ['A0A6A5Q056', 'P15367'], 'DICDI07979': ['P54648'], 'CYAME01806': [], 'PHYPA12324': ['A0A2K1L2G4'], 'MOUSE11953': ['Q8CIV8'], 'THAPS01112': ['B8BSH0'], 'THAPS02557': ['B8CBX3'], 'YEAST03743': ['P32600'], 'CAEEL03766': ['Q9TYL9'], 'MOUSE14658': ['P29595', 'Q3UI46'], 'PHYPA23552': ['A9S3Y9'], 'TRYB204820': ['Q583L0'], 'YEAST05638': ['Q12001'], 'PHYPA12556': ['A0A2K1ITQ6'], 'PLAF701693': ['C0H5B7'], 'CAPO306635': [], 'DICDI01561': ['Q55BR9'], 'NAEGR13285': ['D2V104'], 'PLAF703886': ['Q8I3T1'], 'MOUSE06070': ['Q9DBE9'], 'PARTE23974': ['A0DCH0'], 'DROME25534': ['Q9VYF8', 'X2JES4'], 'PLAF702356': ['Q8ILW8'], 'THAPS01793': ['B8LBG3'], 'AMPQE24466': ['A0A1X7VGP2'], 'NEUCR01850': ['Q7S0Q9'], 'DROME13283': ['Q9VUM3'], 'HUMAN74371': ['C9K025', 'P18077'], 'CAEEL05680': ['P54811'], 'HUMAN56751': ['A2A2M1', 'B2R5S3', 'Q53FP3', 'Q9Y697'], 'CYAME00767': [], 'DROME17828': ['P46415'], 'ECTSI00909': ['D7FQ07'], 'AMPQE20044': ['A0A1X7UX89'], 'DROME06171': ['A0A0B4LFL2', 'A1ZAX1'], 'THAPS04849': ['B8BUU1'], 'HUMAN44358': ['A0A804HK53', 'A8MX75', 'K7EIT8', 'P18074'], 'CHLRE14563': ['A8IIP7'], 'PHYPA06887': ['A9TJ27'], 'HUMAN36790': ['P38919'], 'CYAME00307': [], 'HUMAN86589': ['P25398'], 'TRYB200347': ['Q38BM3'], 'CHLRE08616': ['A8IRE2'], 'HUMAN11982': ['Q9Y2Z4'], 'AMPQE17613': ['A0A1X7UMD9'], 'NAEGR11237': ['D2VX76'], 'HUMAN18086': ['Q9Y5B9'], 'ARATH19363': ['A0A178VCX2', 'A0A654F8R2', 'Q42134'], 'CAEEL07845': ['Q18040'], 'RETFI39075': ['X6NCC1'], 'MOUSE29236': ['P62305'], 'YEAST05240': ['P53893'], 'ACACA06509': ['L8H1Z5'], 'CHLRE16734': ['A0A2K3D261'], 'YEAST00755': ['P25582'], 'AMPQE25921': ['A0A1X7VP75'], 'CAPO301888': ['A0A0D2X1X8'], 'YEAST03678': ['A0A6A5PXV8', 'P36149'], 'TRYB204453': ['Q57WD6'], 'TRYB205609': ['Q586H6'], 'DICDI09798': ['Q54J75'], 'DROME01678': ['Q2XYI2', 'Q9VPX5'], 'CYAME02850': [], 'ECTSI06288': ['D7G7V1'], 'TRYB204891': ['Q584D3'], 'PHYPA09611': ['A0A2K1J8Z5'], 'PHYPA01755': ['A9U1A6'], 'YEAST00113': ['A0A6A5PUB8', 'P31373'], 'HUMAN57779': ['A0A0K0K1K4', 'O14818', 'Q05DH1'], 'PLAF704507': ['A0A5J6C8E2', 'A0A5J6C8Z5', 'Q8IBS3'], 'PLAF702286': ['Q8IM38'], 'PHYPA10558': ['A9T892'], 'THAPS02735': ['B8CCE4'], 'AMPQE18676': ['A0A1X7UR81'], 'CHLRE01629': ['A0A2K3DIL4'], 'DICDI09737': ['Q54JE4'], 'PARTE37478': ['A0D720'], 'ACACA04559': ['L8H8P1'], 'CYAME04299': [], 'ACACA02198': ['L8HCT6'], 'DICDI05990': ['Q54VI9'], 'MOUSE14508': ['P62334', 'Q14AQ1'], 'CHLRE07562': ['A8J304'], 'ARATH27544': ['A0A178V3H9', 'A0A5S9XT45', 'A0A654FQ06', 'F4JML5'], 'ECTSI06442': ['D8LM46'], 'AMPQE27871': ['A0A1X7VU14'], 'DICDI11239': [], 'HUMAN22155': ['A8K6F0', 'B0AZM4', 'O60306'], 'ACACA06069': ['L8H387'], 'RETFI29900': ['X6NQP0'], 'HUMAN48852': ['A0A087WWM0'], 'DICDI07874': ['Q54PW5'], 'TRYB200467': ['Q38BA0'], 'AMPQE20580': ['A0A1X7V072'], 'ARATH08591': ['A0A5S9WSR2', 'A0A654EXI4', 'Q84WJ2'], 'TRYB201235': ['Q388R1'], 'AMPQE21713': ['A0A1X7V6I8'], 'NEUCR02355': ['Q7S024'], 'CYAME04494': [], 'CAEEL04794': ['P52017'], 'CAPO307853': ['A0A0D2WW10'], 'TRYB200587': ['Q38AX7'], 'ECTSI05904': ['D8LJA0'], 'DICDI10281': ['Q54HS9'], 'MOUSE41071': ['B1AUN2', 'B1AUN3'], 'NAEGR12131': ['D2W234'], 'DICDI08629': ['Q1ZXE8'], 'AMPQE27692': ['A0A1X7VU53'], 'NAEGR15553': ['D2VX84'], 'ACACA00584': ['L8HJR5'], 'NAEGR13108': ['D2UXD8'], 'YEAST06492': ['Q12464'], 'PLAF704550': ['Q8I6Z3'], 'DICDI12205': ['Q54C49'], 'CAPO306256': ['A0A0D2VRC1'], 'PARTE16754': ['A0BKH7'], 'PLAF701963': ['C0H5G7'], 'ARATH03920': ['F4ICG2'], 'PHYPA26175': ['A0A7I4AEC5', 'A0A7I4F0K3'], 'ARATH32144': ['A0A178UTE0', 'Q9FLB0'], 'ACACA00683': ['L8HMD9'], 'RETFI16148': ['X6NAM2'], 'CHLRE15713': ['A0A2K3D694'], 'HUMAN43409': ['P62249'], 'CYAME01489': [], 'YEAST03872': ['A0A6A5PTP1', 'P31412'], 'CAEEL08487': ['Q03604'], 'PHYPA17094': ['A9SRQ9'], 'CAPO302605': ['A0A0D2WQG0'], 'THAPS02224': ['B8CAZ0'], 'THAPS01601': ['B8LBP1'], 'HUMAN97868': ['A8K984', 'B3KMB1', 'B7ZLZ7', 'O95347', 'Q5T821'], 'DICDI09627': ['Q54JS8'], 'YEAST02507': ['A0A6A5PWD5', 'P53323'], 'PHYPA18820': ['A0A7I4B773'], 'THAPS00281': ['B8BQ40'], 'AMPQE22097': [], 'YEAST01059': ['A0A6A5PXX3', 'Q12154'], 'NEUCR02363': ['Q7S1Z1'], 'CYAME01832': [], 'DROME09855': ['P25167'], 'ARATH16580': ['A0A7G2EGW2', 'A8MQM3'], 'DICDI07730': ['Q54QB2'], 'DROME29520': ['E1JJN1', 'P35128'], 'PLAF705223': ['Q8I2P2'], 'YEAST02454': ['A0A6A5PYW6', 'P53303'], 'CAPO302791': ['A0A0D2X3D8'], 'DICDI09816': ['Q54J50'], 'ARATH06240': ['A0A178WGN9', 'Q9C6I8'], 'CAEEL10684': ['P34685'], 'MOUSE18893': ['A0A338P6B4', 'Q923G2'], 'ARATH31279': ['A0A178V3A8', 'A0A5S9XZZ4', 'A0A654FXD2', 'A0A7G2F4B5', 'Q8W4S4'], 'DICDI01253': ['Q55D66'], 'DICDI02233': ['Q869N9'], 'CYAME03280': [], 'YEAST05818': ['Q08723'], 'ARATH22285': ['A0A178V9U8', 'P49200', 'Q8H189'], 'DROME02799': ['Q9U6I2', 'Q9V3A7'], 'YEAST03566': ['P40335'], 'CAEEL01250': ['O01513'], 'PHYPA02248': ['A0A2K1JQD8'], 'CAPO305031': ['A0A0D2X181'], 'CYAME00668': [], 'AMPQE21147': [], 'THAPS00399': ['B8BQF8'], 'NAEGR15505': ['D2V3Y4'], 'CHLRE11769': ['A8JAY5'], 'DROME02250': ['Q8IPX7'], 'YEAST01897': ['A0A6A5Q0E8', 'P39939'], 'CAEEL01046': ['A0A8D9I6U5', 'P91502'], 'CAEEL15761': ['Q18787'], 'ECTSI02940': ['D7FZQ6'], 'NAEGR00886': ['D2V5N9'], 'ACACA08221': ['L8GWL6'], 'HUMAN24370': ['Q9NV31'], 'ARATH01881': ['A0A178W250', 'O65386'], 'HUMAN45162': ['O95782'], 'CYAME02493': [], 'CYAME04029': [], 'CYAME04637': [], 'MOUSE18721': ['Q3TI61', 'Q3TIP0', 'Q3TKV1', 'Q3TW71', 'Q3TWL6', 'Q3TXV1', 'Q3U9Y8', 'Q8VDM4'], 'ECTSI04836': ['D8LEZ3'], 'TRYB206022': ['Q57Z16'], 'THAPS07558': ['B8BZH1'], 'CHLRE10914': ['A8I274'], 'DROME13612': ['P80455'], 'PARTE10989': ['A0BGC6'], 'YEAST05309': ['P21951'], 'CHLRE08911': ['A8IQ05'], 'THAPS08204': ['B8C241'], 'MOUSE65845': ['Q3TI27', 'Q3UPD5', 'Q9D7G0'], 'RETFI19883': ['X6LK34'], 'CAPO308310': ['A0A0D2UTD3'], 'MOUSE04674': ['Q62383'], 'NEUCR02184': ['Q7S9X0'], 'MOUSE21236': ['A0A3B2WCC1', 'Q3TWT2', 'Q91VH6'], 'PHYPA31615': ['A9RE82'], 'CHLRE03205': ['A8ISK2'], 'DICDI11886': ['Q54D08'], 'AMPQE27619': ['A0A1X7VTW3'], 'DROME22899': ['Q9VFS8'], 'YEAST06109': ['A0A6A5Q5W3', 'P30656'], 'DROME22129': ['B5RJN7', 'Q9VEB3'], 'RETFI39244': ['X6MFX4'], 'ECTSI11840': ['D7G400'], 'CYAME00344': [], 'PARTE01900': ['A0CF33'], 'MOUSE27447': ['Q6ZQ84', 'Q9JLV5'], 'DICDI05094': ['Q54Y41'], 'CHLRE14346': [], 'ACACA04821': ['A0A0U3T8U3', 'L8H8R1'], 'HUMAN101755': ['A0A6Q8PG31', 'P60891', 'Q15244', 'Q53FW2'], 'ECTSI08033': ['D8LQX5'], 'DROME04858': ['M9PB91', 'Q9VKX7'], 'NAEGR01577': ['D2V6E0'], 'MOUSE18999': ['Q921Q3'], 'ARATH24022': ['A0A384LGX0', 'Q29Q46', 'Q9SPE6'], 'ACACA00615': ['L8HLD2'], 'PARTE18023': ['A0DXT3'], 'CAEEL17792': ['G5ECI8', 'G5EEN1'], 'AMPQE28162': ['A0A1X7VVR1'], 'YEAST02762': ['P53091'], 'ACACA00625': ['L8HLE5'], 'RETFI16483': ['X6MEA2'], 'ARATH00899': ['A0A178WHI8', 'A0A5S9SW58', 'A0A654E776', 'A0A7G2DNV2', 'Q9LNC5'], 'HUMAN22141': ['A0A8V8TQE5', 'A0A8V8TQT0', 'Q9NPE3'], 'CAPO308174': ['A0A0D2US30', 'A0A0D2WXA5'], 'HUMAN43464': ['B4DLD4', 'M0R299', 'P22087'], 'DROME08856': ['P41094'], 'YEAST02799': ['P38972'], 'CYAME03300': [], 'NAEGR11278': ['D2VXF4'], 'THAPS09056': ['B8C5B5'], 'ARATH00554': ['A0A384KBB6', 'O64490', 'Q8LAP5'], 'DICDI11830': ['Q54D60'], 'TRYB204855': ['Q584G9'], 'THAPS00649': ['B8BR58'], 'RETFI30097': ['X6P7R8'], 'PLAF700582': ['Q8IIU8'], 'ACACA06974': ['L8GZR0'], 'PARTE14930': ['A0E9C2'], 'PARTE23431': ['A0DE61'], 'NEUCR03875': ['Q7RYJ2'], 'ECTSI09647': ['D7FYI5'], 'AMPQE15520': ['A0A1X7UCU3'], 'DICDI00085': ['P13021'], 'YEAST00287': ['P38237'], 'PHYPA08650': ['A0A7I4AYD3', 'A0A7I4B1E3', 'A9TDX8'], 'DROME19022': ['Q9VN25'], 'ARATH39095': ['A0A178UNY0', 'A0A5S9YEU4', 'A0A7G2FJW7', 'Q9LVD0'], 'TRYB206515': ['Q4GYX7'], 'CAPO301342': ['A0A0D2X1J8'], 'ACACA09169': ['L8GXA5'], 'PARTE04092': ['A0C766', 'Q962X1'], 'DICDI12337': ['Q8T662'], 'THAPS06617': ['B8BY49'], 'MOUSE59741': ['D3YZ71', 'P35585', 'Q3UG16', 'S4R1Q4'], 'PHYPA27064': ['A0A2K1J2X9'], 'ARATH33707': ['A0A178UMN1', 'A0A654G1I1', 'Q683D4', 'Q8LCM3'], 'THAPS03743': ['B5YLP6'], 'CAPO302852': ['A0A0D2WQY6'], 'DICDI09755': ['Q54JB7'], 'NAEGR08990': ['D2VK87'], 'AMPQE18979': ['A0A1X7UTK6'], 'TRYB202332': ['Q38DQ1'], 'CAEEL09363': ['Q8MXT1'], 'ACACA03313': ['L8HAP6'], 'YEAST03802': ['A0A6A5PTZ1', 'P14741'], 'ARATH14651': ['A0A178VZ49', 'A0A5S9X3M3', 'A0A654F8W6', 'O48844'], 'AMPQE27872': ['A0A1X7VUQ3'], 'NAEGR01619': ['D2VBW3'], 'AMPQE21145': ['A0A1X7V2Q5'], 'ARATH18906': ['A0A178VAG3', 'Q9ZPI1'], 'PLAF701135': ['Q8I5S5', 'Q94652'], 'ARATH09423': ['A0A178W3F4', 'A0A1P8AMQ3', 'A0A654EZ50', 'Q9CAI1'], 'RETFI37819': ['X6NUS9'], 'CAPO301875': ['A0A0D2X1X5'], 'THAPS02050': ['B8CAG2'], 'NAEGR15485': ['D2V0D9'], 'PLAF700578': ['Q7JSX6', 'Q8IIV2'], 'CYAME04839': [], 'ACACA08769': ['L8GVA0'], 'THAPS02100': ['B8CAL4'], 'NEUCR00903': [], 'YEAST06121': ['P20606'], 'CAEEL11837': ['Q23623'], 'CAPO301792': ['A0A0D2VMQ9'], 'CAEEL05447': ['Q09527'], 'YEAST03533': ['A0A6A5PVK4', 'P10081'], 'THAPS04839': ['B8BUT1'], 'ACACA08097': ['L8GXB4'], 'AMPQE24135': ['A0A1X7VF19'], 'CYAME02013': [], 'CAEEL14207': ['O16369'], 'DICDI01386': ['Q55CI8'], 'NAEGR01662': ['D2UX76'], 'ECTSI03703': ['D7FHC8'], 'ACACA06539': ['L8H230'], 'NAEGR01377': ['D2V160'], 'MOUSE58652': ['Q3TJ43', 'Q3TKU6', 'Q3TRJ1', 'Q3UQJ1', 'Q9EQH3'], 'CHLRE12406': [], 'CAEEL07901': ['P41877'], 'ECTSI04015': ['D7G8U3'], 'YEAST00136': ['A0A6A5Q258', 'P07286'], 'DROME17546': ['Q9VNZ3'], 'DICDI11985': ['Q54CS2'], 'NAEGR05166': ['D2VWS4'], 'THAPS08988': ['B8C546'], 'DROME10129': ['A1Z813'], 'ACACA10649': ['L8GSV9'], 'RETFI37221': ['X6NI10'], 'CYAME01028': [], 'CAPO301152': ['A0A0D2WJU9'], 'PARTE20087': ['A0DRF0'], 'CAEEL10158': ['O61199'], 'PHYPA09612': ['A0A2K1J8Y9'], 'NEUCR01516': ['P49365'], 'NEUCR01587': ['Q7SGQ2'], 'NAEGR01428': ['D2V782'], 'AMPQE16880': [], 'PLAF700411': ['Q8IJC6'], 'CYAME00940': [], 'AMPQE21210': [], 'AMPQE25669': ['A0A1X7VLF0'], 'DICDI09006': ['Q54LK1'], 'CAPO307795': ['A0A0D2WWQ9'], 'NAEGR01664': ['D2UZU0'], 'CAEEL05277': ['P47207'], 'DROME00411': ['Q9VKW3'], 'PARTE11636': ['A0BFA0'], 'PLAF704109': ['C6KST3'], 'PLAF705085': ['Q8I323'], 'CHLRE02012': [], 'PHYPA18034': ['A0A2K1K3N1'], 'YEAST05674': ['Q08647'], 'YEAST00974': ['P53622'], 'PARTE03173': ['A0CAD2'], 'PLAF702336': ['Q8ILY9'], 'CHLRE07544': ['A8J3C7'], 'TRYB205654': ['B2ZWD5', 'Q57VW8'], 'CAEEL12390': ['O18240'], 'ECTSI05144': ['D8LG69'], 'TRYB205621': ['Q586F9', 'Q586G1', 'Q586G3'], 'THAPS09253': ['B8C5W2'], 'NEUCR00728': ['Q1K7J4', 'Q9HEH0'], 'TRYB205260': ['Q585C1'], 'PARTE21250': ['A0DKY9'], 'TRYB202741': ['F4NCC3', 'Q57XH7'], 'NEUCR06329': ['Q872G8', 'V5INS7'], 'CAEEL08558': ['P34604'], 'DICDI05296': ['Q54XM6'], 'DROME14417': ['Q9VP65'], 'CAPO300928': ['A0A0D2U2P5'], 'CAEEL07289': ['Q09996'], 'NEUCR06246': ['Q8NIZ2', 'V5INQ7'], 'CHLRE12947': ['A0A2K3DZD2'], 'CAPO302128': ['A0A0D2X2K1'], 'THAPS08957': ['B8C515'], 'CYAME00351': [], 'MOUSE02691': ['Q3V214', 'Q80UW8'], 'HUMAN50950': ['Q9H2P9'], 'YEAST01310': ['P07170'], 'MOUSE05688': ['Q8C9V6', 'Q8R0J2'], 'CHLRE09787': ['A8IA86'], 'MOUSE64965': ['A2A432'], 'PHYPA13047': ['A9T079'], 'NAEGR01212': ['D2VFT0'], 'DROME04062': ['P35421'], 'THAPS01773': ['B8LC64'], 'ECTSI04055': ['D7FPA4'], 'NEUCR05862': ['Q7SEH8'], 'MOUSE17399': ['A0A2R8VHK1', 'A0A2R8VK14', 'Q9D0M3'], 'ACACA09494': ['L8GTV8'], 'DICDI04141': ['Q8T869'], 'DROME08125': ['C0P8M5', 'E1JGV6', 'H5V894', 'O44081'], 'ARATH00966': ['A0A5S9T0H1', 'A0A654E7N7', 'F4IDR3', 'Q9M9Y0'], 'CHLRE11877': ['A8HSB0'], 'THAPS01602': ['B8LBP2'], 'NAEGR01323': ['D2UXR9'], 'DROME15459': ['Q9VT75'], 'ARATH00547': ['A0A178W7K7', 'A0A654E6Y2', 'A0A7G2DPU3', 'F4I456'], 'NEUCR05184': ['Q7S051'], 'PLAF704826': ['Q8IB23'], 'HUMAN96035': ['P08574', 'Q8TBT6'], 'NAEGR00631': ['D2UZC7'], 'CAPO306723': ['A0A0D2X3K7'], 'THAPS01986': ['B8CA96'], 'NAEGR05462': ['D2VG35'], 'YEAST01876': ['P32639'], 'NEUCR00270': ['Q7SCS6'], 'DICDI02639': ['P34120'], 'CYAME00765': [], 'AMPQE10592': ['A0A1X7TR22'], 'CHLRE10158': ['A8I7Y8'], 'YEAST06045': ['Q08773'], 'ARATH27173': ['A0A178UVU0', 'O24633'], 'CAPO307662': ['A0A0D2X4R7'], 'ECTSI09137': ['D8LIP1'], 'HUMAN27664': ['A8K3L7', 'O14735', 'Q53HA5'], 'HUMAN29809': ['J3KRL2', 'Q15046'], 'ARATH34622': ['A0A178UBM9', 'A0A5S9Y685', 'A0A7G2FEA0', 'Q56XY2'], 'PLAF705132': ['Q8I2X7'], 'ARATH23454': ['P42036'], 'NEUCR00213': [], 'NAEGR01584': ['D2V7V0'], 'DICDI07552': ['Q54QR9'], 'CAEEL08846': ['O17915'], 'DICDI11211': ['Q54F05'], 'NAEGR14972': ['D2VXB2'], 'NAEGR05507': ['D2VVJ6'], 'NAEGR01620': ['D2VD05'], 'ECTSI09290': ['D7FWL0'], 'YEAST06579': ['P32589'], 'ARATH01212': ['A0A178W5M1', 'A0A7G2DTV7', 'Q42572'], 'PHYPA31061': ['A0A7I4EFY2', 'A0A7I4EKW2', 'A9RGM9'], 'DROME22421': ['A0A0B4LIJ0', 'P48601'], 'MOUSE52890': ['Q3U8X1', 'Q3UVY8', 'Q6IRT4', 'Q8BTW2', 'Q9DCH4'], 'CHLRE13939': ['A0A2K3DBT0'], 'MOUSE14999': ['A0A286YEB7', 'P62849', 'Q3TIF8', 'Q5M9M7', 'Q9CQK2', 'Q9CY61'], 'TRYB203246': ['Q57YJ8'], 'DROME04756': [], 'RETFI16478': ['X6NID1'], 'MOUSE58176': ['Q80WQ2'], 'DICDI04558': ['Q550D2'], 'MOUSE59812': ['Q8BGS0'], 'CAEEL10540': ['Q94216'], 'ACACA04584': ['L8H8R6'], 'CHLRE12653': ['A0A2K3DWB6'], 'YEAST02937': ['P32190'], 'HUMAN84290': ['B4DS44', 'Q4VXZ2', 'Q8N1B4'], 'PLAF702872': ['Q8IKH3'], 'NAEGR05320': ['D2W1W8'], 'DICDI06806': ['Q54T48'], 'DICDI11194': ['Q54F30'], 'NAEGR01474': ['D2VC42'], 'ECTSI06962': ['D7FN46'], 'MOUSE52645': ['Q91X91'], 'DROME24324': ['Q9VFE3'], 'CAPO303913': ['A0A0D2WVK0'], 'AMPQE26976': ['A0A1X7VRZ0'], 'PLAF702060': ['Q8IDG3'], 'NAEGR12059': ['D2W1N0'], 'CYAME01048': [], 'AMPQE28048': ['A0A1X7VVB2'], 'CAEEL05571': ['Q09583'], 'DROME18342': ['Q9V3D6'], 'YEAST05184': ['P12695'], 'DICDI04131': ['Q86HW7'], 'DICDI02961': ['Q556K0'], 'ARATH29384': ['A0A178V176', 'A0A5S9XX52', 'Q9ZT87'], 'PARTE16437': ['A0E429'], 'PHYPA18694': ['A0A2K1L0X0'], 'ARATH29596': ['A0A178V2A7', 'A0A654FTS8', 'A0A7G2F6Z0', 'Q84TF1'], 'THAPS07328': ['B8C1F2'], 'PHYPA09393': ['A9TBI7'], 'PARTE27738': ['A0CY99'], 'TRYB204709': ['Q580D6'], 'AMPQE23302': ['A0A1X7VB39'], 'PLAF700407': ['Q8IJC9'], 'PLAF702058': ['Q76NM1'], 'HUMAN55065': ['Q16774', 'Q6IBG8', 'Q96IN2'], 'NEUCR06404': ['Q1K6Z6', 'Q871X5'], 'PARTE02771': ['A0CBW3'], 'YEAST03280': ['A0A6A5PXE3', 'P00044'], 'CAPO307474': ['A0A0D2WVM9'], 'DROME15894': ['A8Y560', 'O17445'], 'CYAME01423': [], 'DICDI00405': ['Q55FN7'], 'ACACA06568': ['L8H4E2'], 'CYAME03790': [], 'ACACA09474': ['L8GTU3'], 'AMPQE15023': [], 'DROME21714': ['A0A0B4KHB7'], 'PHYPA08546': ['A0A2K1K7R5', 'A0A7I3ZMU7'], 'DICDI07766': ['Q54Q39'], 'ACACA00304': ['L8HIY3'], 'ARATH36443': ['A0A178UNP1', 'A0A1P8BFU4', 'A0A5S9YC30', 'Q8LB02'], 'THAPS01649': ['B8LBU0'], 'ACACA08310': ['L8GZ94'], 'RETFI32964': ['X6MN49'], 'TRYB204860': ['Q584G4'], 'THAPS06576': ['B8BY08'], 'CAPO306527': ['A0A0D2X354'], 'DROME17203': ['Q9VTW6'], 'DROME13055': ['L7X6D0', 'M9WSU4', 'Q494K9', 'Q9NJH7', 'Q9VZP5', 'R4TCQ6'], 'TRYB206193': ['Q586W7'], 'MOUSE43384': ['P54279', 'Q3UJP0'], 'CAEEL19293': ['Q10453'], 'AMPQE17709': ['A0A1X7T069', 'A0A1X7UMH9'], 'MOUSE61840': ['D3Z5E2', 'P63017', 'Q3TEK2', 'Q3TF16', 'Q3TH56', 'Q3TQ13', 'Q3TRH3', 'Q3TZJ3', 'Q3U9L2', 'Q3UBA6', 'Q3ULM1'], 'PARTE38778': ['Q6BFH1'], 'CAPO305564': ['A0A0D2VNN6'], 'PLAF702067': ['Q8IDF6'], 'PARTE22563': ['A0DHD6'], 'MOUSE31639': ['Q3TN31', 'Q3UIT9', 'Q542H2', 'Q9Z2U0'], 'NAEGR05458': ['D2VEP8'], 'CAPO307843': ['A0A0D2WVZ3', 'A0A0D2X525'], 'HUMAN97230': ['Q8IY18'], 'CHLRE09875': ['A0A2K3E191'], 'PLAF705107': ['Q8I301'], 'RETFI20174': ['X6NCY6'], 'NAEGR13509': ['D2V4X0'], 'HUMAN48533': ['A0MNP2', 'B2R9I9', 'Q96DI7'], 'CAEEL15345': ['P53489'], 'ARATH11809': ['A8MQR6'], 'PHYPA30543': ['A0A2K1IU91'], 'PLAF702066': ['Q8IDF7'], 'ARATH38771': ['A0A178UD71', 'Q8H156'], 'PARTE03286': ['A0CA18'], 'MOUSE39905': ['Q6PE01'], 'DROME14582': ['Q8IGH9', 'Q8IQ53', 'Q9VRL1'], 'MOUSE52412': ['P62743', 'Q3UJ76', 'Q7TT10'], 'MOUSE50363': ['P62911', 'Q5PR09'], 'PARTE36805': ['Q3SE81'], 'YEAST00424': ['A0A6A5Q585', 'P16140'], 'PARTE16652': ['A0E3I1'], 'CYAME00930': [], 'CAEEL05746': ['P34686'], 'MOUSE37158': ['Q8VCN5'], 'PLAF703918': ['P50250'], 'DICDI01828': [], 'PARTE19882': ['A0DS99'], 'HUMAN88767': ['A4D2J0', 'B5BU81', 'O15498', 'Q9UES0'], 'CYAME01100': [], 'MOUSE48484': ['Q9WUM5'], 'NAEGR04890': ['D2VLC1'], 'DICDI02338': ['Q86LA2'], 'MOUSE45054': ['Q3U5V3', 'Q3UIH5'], 'CAEEL18151': ['Q94241'], 'PLAF701862': ['Q8IDZ9'], 'DROME02625': ['P40320'], 'HUMAN79173': ['A8K6I4', 'P42285'], 'NAEGR15509': ['D2V6B3'], 'CAEEL06305': ['G5ED21'], 'HUMAN70754': ['A0A384MDR8', 'P11177'], 'THAPS07788': ['B8C051'], 'PHYPA12511': ['A0A2K1ITL0'], 'PHYPA31239': ['A9RQN3'], 'NAEGR14860': ['D2VVI3'], 'CYAME02796': [], 'NAEGR08690': ['D2VIG6'], 'CAEEL04453': ['A0A1N7SYP6', 'A0A1N7SYP7', 'A0A1N7SYR1', 'Q95QW0'], 'CAPO300550': ['A0A0D2U198'], 'DROME17975': ['Q9VH81'], 'YEAST03312': ['Q3E754'], 'CAEEL00295': ['Q95XR0'], 'THAPS10753': ['B8C7E5'], 'ARATH35277': ['A0A7G2FGQ6', 'O65251'], 'ECTSI02158': ['D7FX60'], 'YEAST05203': ['A0A6A5Q8J8', 'P53738'], 'ECTSI09580': ['D7FXU6'], 'YEAST01268': ['Q03337'], 'PLAF703525': ['Q8I1X5'], 'AMPQE12446': [], 'ACACA08179': ['L8GWB5'], 'YEAST06330': ['Q06819'], 'PHYPA00746': ['A0A2K1L8V8', 'A9U4V4'], 'PHYPA01375': ['A0A2K1KED1', 'A0A7I4EAB5'], 'CYAME02985': [], 'DROME13512': ['Q95SA2', 'Q9VZU8'], 'CAPO307857': ['A0A0D2X529'], 'PLAF702201': ['Q8I6Z4'], 'YEAST00066': ['P10591'], 'CAEEL01439': ['Q09EE7', 'Q94392'], 'CHLRE16159': ['A8J576'], 'TRYB204566': ['Q582Q1'], 'MOUSE53499': ['P17426'], 'AMPQE11079': ['A0A1X7TSZ5'], 'CAPO300955': ['A0A0D2WI63'], 'PHYPA13411': ['A9SZE5'], 'CAEEL07362': ['P48154'], 'HUMAN84291': ['J3JS69', 'P62269'], 'NAEGR13250': ['D2V097'], 'CYAME03441': [], 'CAEEL20590': ['Q93878'], 'PARTE23191': ['A0DEX4'], 'YEAST05737': ['A0A6A5Q6Y6', 'Q08685'], 'PARTE37756': ['A0CW37'], 'RETFI39399': ['X6NGE5'], 'THAPS09242': ['B8C5V1'], 'NEUCR05753': ['O14428', 'Q1K4R9'], 'THAPS02678': ['B8CC87'], 'ECTSI10866': ['D8LRQ0'], 'PHYPA24742': ['A9RZ63'], 'DICDI07437': ['Q54R72'], 'THAPS07124': ['B8C0U9'], 'DICDI11754': ['Q54DF1'], 'YEAST03906': ['P36047'], 'MOUSE23622': ['P38647'], 'ECTSI03085': ['D8LTN8'], 'RETFI23863': ['X6LPE0'], 'NAEGR00651': ['D2UYW7'], 'THAPS05177': ['B8BVR8'], 'NEUCR02815': ['Q7RZ97'], 'PHYPA30734': ['A9RFS8'], 'HUMAN57389': ['B2RCM6', 'Q96S44'], 'DICDI06437': ['Q54U61'], 'TRYB206093': ['Q585S7'], 'ACACA03349': ['L8HD26'], 'MOUSE42135': ['O55013', 'Q3U9K9'], 'PHYPA31887': ['A9RDQ2'], 'DROME00148': ['Q9VM33'], 'NEUCR00441': ['Q6MFT5', 'Q7SAL1'], 'CHLRE06457': ['A0A2K3CYU3'], 'PHYPA26372': ['A0A2K1L1G0'], 'PARTE09912': ['A0BL34'], 'DROME04565': ['Q9VKJ6', 'Q9Y139'], 'MOUSE15019': ['Q9D823'], 'CAPO305320': ['A0A0D2VKV7'], 'PLAF703683': ['A0T1H4', 'Q8IFN9'], 'THAPS03343': ['B8LCP2'], 'NEUCR00447': ['Q7SAK5'], 'PHYPA21274': ['A0A7I4EB66'], 'ACACA00654': ['L8HJZ3'], 'CYAME01781': [], 'CAPO303807': ['A0A0D2X4W3'], 'THAPS10538': ['B8C6S9'], 'CHLRE06082': ['A0A2K3CRZ5'], 'ECTSI00581': ['D7FW34'], 'DROME09537': ['Q95083'], 'PLAF701734': ['Q8IEB9'], 'PLAF700812': ['Q8II71'], 'THAPS05741': ['B8CFP0'], 'ARATH28938': ['A0A178UWJ6', 'P0DI74', 'P0DI75'], 'PARTE24687': ['Q3SE95', 'Q3SEA2', 'Q3SEB3'], 'HUMAN32579': ['J3QS64', 'Q7KZ85'], 'YEAST05003': ['Q04660'], 'HUMAN99435': ['Q9UHB4'], 'ECTSI00424': ['D8LNZ8'], 'CYAME00444': [], 'CAEEL02859': ['Q8WQB3'], 'NEUCR00141': ['V5IPW0', 'V5IRK9'], 'THAPS00451': ['B8BQL0'], 'PHYPA11324': ['A0A2K1KJQ6'], 'ECTSI05072': ['D8LJM2'], 'TRYB200595': ['Q38AW9'], 'PHYPA29854': ['A0A2K1IMX0'], 'TRYB200908': ['Q38A02', 'Q9NC95'], 'THAPS09361': ['B8C670'], 'CHLRE05422': ['A8HX04'], 'RETFI36824': ['X6LAV9'], 'YEAST05994': ['A0A6A5Q6F2', 'Q01855'], 'ARATH24150': ['A0A1I9LQK7'], 'CAEEL00268': ['Q9BKU4'], 'DICDI05714': ['Q54WD9'], 'DICDI06463': ['Q54UF1'], 'AMPQE26266': ['A0A1X7VP53'], 'ACACA06001': ['L8H2D3'], 'DICDI11888': ['Q54D06'], 'PLAF703053': ['O96142'], 'NEUCR04865': ['Q7S202'], 'DROME15147': ['I1WYG8', 'Q9VPH2'], 'TRYB201241': ['Q388Q5'], 'YEAST00444': ['A0A6A5Q456', 'P20434'], 'ACACA10573': ['L8GQ83'], 'NAEGR01402': [], 'PHYPA17897': ['A9SLD4'], 'DROME07360': ['A1Z6J5'], 'NAEGR04947': ['D2VNT4'], 'MOUSE41603': ['A0A0A0MQI9', 'F7CAZ6', 'P47757', 'Q3TVK4', 'Q923G3'], 'ECTSI00121': ['D8LB44'], 'CHLRE01221': ['A0A2K3DK28'], 'CYAME01404': [], 'DROME12454': ['M9PIM0', 'O61231'], 'PARTE26029': ['A0D3X5'], 'NEUCR04567': ['Q01290'], 'NEUCR05130': ['Q7SCL0'], 'CYAME00435': [], 'MOUSE32111': ['Q9D2P4'], 'THAPS02624': ['B8CC33'], 'DICDI01089': ['Q55E13'], 'CHLRE14295': ['A0A2K3D9X5'], 'CAPO307149': ['A0A0D2WUB9'], 'YEAST02528': ['P07806'], 'ARATH32754': ['A0A5S9Y3J7', 'Q9LDZ0'], 'YEAST03532': ['A0A6A5PTK5', 'P46969'], 'NAEGR00974': ['D2V7T6'], 'PHYPA08161': ['A0A2K1IJQ8'], 'DROME23844': ['Q9VFL5'], 'PHYPA05366': ['A9TPQ8'], 'ARATH18675': ['A0A178VGW1', 'Q9SS48'], 'HUMAN27605': ['Q15274', 'V9HWJ5'], 'CYAME01141': [], 'MOUSE32602': ['Q921V3', 'Q9Z1J3'], 'AMPQE20946': ['A0A1X7V2X3'], 'PHYPA22577': ['A9S7L6'], 'NAEGR15208': ['D2W197'], 'ACACA05014': ['L8H836'], 'CYAME01424': [], 'CAPO305555': ['A0A0D2UA64'], 'CYAME01038': [], 'PARTE28867': ['A0CUN8'], 'CAEEL05057': ['Q8I111'], 'AMPQE18256': ['A0A1X7UQD0'], 'AMPQE14940': ['A0A1X7UAW5'], 'HUMAN33895': ['A0A7P0T9G6', 'P23258'], 'MOUSE32753': ['Q3TJF2', 'Q3TW21', 'Q9CZ30'], 'PLAF703992': ['Q8I3I2'], 'MOUSE42285': ['Q7TT37'], 'CAPO303692': ['A0A0D2UMD4'], 'PARTE20823': ['A0DMX1'], 'DROME00785': ['O76767'], 'YEAST01369': ['P25694'], 'PARTE15192': ['A0E905'], 'CAPO302327': ['A0A0D2UCZ1'], 'AMPQE22330': ['A0A1X7V9D4'], 'NEUCR03311': ['Q7S8J0'], 'CHLRE05780': ['A0A2K3DRM7'], 'NEUCR06852': ['P08978'], 'AMPQE14405': ['A0A1X7U8Z2'], 'MOUSE07761': ['Q9D2G2'], 'DICDI07716': ['Q54QC8'], 'CYAME00895': [], 'ACACA06416': ['L8H4M6'], 'AMPQE26393': ['A0A1X7VPH7'], 'ARATH10350': ['A0A178WER5', 'F4IBV4', 'Q8LPF7', 'Q9ZV98'], 'PARTE13642': ['A0EEL0'], 'HUMAN56255': ['P61599'], 'PLAF704111': ['C6KST5'], 'CHLRE04838': ['A8IMP6'], 'ARATH12401': ['A0A5S9WZ35', 'A0A654EU18', 'Q9ZV45'], 'DROME05698': ['Q9VM14'], 'ACACA06669': ['L8H109'], 'NAEGR04278': ['D2V5W7'], 'AMPQE21603': ['A0A1X7V3U7'], 'CHLRE00382': ['A0A2K3DH79', 'A8JET7'], 'CHLRE04762': ['A0A2K3DM01'], 'NAEGR01547': ['D2V0X6'], 'NAEGR03166': ['D2VNK8'], 'CYAME01415': [], 'NEUCR01368': ['Q870U4'], 'ACACA01458': ['L8HHS6'], 'CHLRE13726': ['A0A2K3DXC5'], 'CYAME04835': [], 'YEAST03168': ['P07347'], 'ARATH15191': ['A0A654F9X6', 'Q9SIH1'], 'PARTE04360': ['A0C6M0'], 'NEUCR00909': ['Q1K8Z8', 'Q8X083'], 'CAEEL18954': ['P27420'], 'ACACA13241': ['L8GHE6'], 'ACACA08318': ['L8GW30'], 'PARTE33713': ['A0BV61'], 'PARTE07321': ['A0BVY0'], 'TRYB200094': ['Q38CD0'], 'CAPO301258': ['A0A0D2X1H8'], 'ECTSI09572': ['D7FMQ7'], 'PHYPA05483': ['A0A2K1IAS1', 'A0A7I4CW75', 'A0A7I4CW95', 'A0A7I4CX59', 'A0A7I4CYK9', 'A0A7I4CZ63', 'A0A7I4D176', 'A0A7I4D321', 'A0A7I4FJB7', 'A0A7I4FJF2'], 'DROME22035': ['I1WYH0', 'Q960A7', 'Q9BI20', 'Q9VC93'], 'CYAME02256': [], 'PHYPA08234': ['A9TF96'], 'HUMAN48321': ['Q9H9Y4'], 'NEUCR06810': ['Q9C2I5'], 'CAEEL05033': ['Q23571'], 'AMPQE23964': ['A0A1X7VEG6'], 'YEAST04683': ['P40206'], 'AMPQE27584': ['A0A1X7VUF4'], 'RETFI30003': ['X6P5D0'], 'ECTSI02569': ['D7FU40'], 'DICDI11590': ['O60999'], 'PHYPA03515': ['A9TVK1'], 'PHYPA24717': ['A0A2K1JQ74', 'A9RZ45'], 'DICDI04802': ['Q54Z69'], 'NAEGR03709': ['D2VY43'], 'NAEGR00277': ['D2VBT5'], 'ACACA02767': ['L8HEC2'], 'CAPO303694': ['A0A0D2WVJ0'], 'HUMAN44925': ['B3KNL2', 'M0QXI6', 'Q9Y230'], 'CYAME04726': [], 'DROME17103': ['D2NUJ2', 'Q9VV89'], 'DICDI07361': ['Q54RD4'], 'YEAST00130': ['P38065'], 'CAEEL05489': ['O18216'], 'DROME07416': ['Q7K3J0'], 'ARATH04264': ['A0A178W1S4', 'Q8LC75', 'Q9C7F5'], 'NAEGR01514': ['D2VGW1'], 'CAPO303820': ['A0A0D2VYH2'], 'CAEEL10640': ['Q9N3X2'], 'PHYPA27812': ['A9RQI9'], 'PARTE29631': ['A0CRB8'], 'MOUSE26730': ['A0A1D5RLR1', 'P61971', 'Q3U8H8'], 'ECTSI11541': ['D7FTA4'], 'MOUSE07205': ['P60060', 'Q5SWJ8'], 'ECTSI10499': ['D8LS65'], 'NAEGR04365': ['D2VSC1'], 'ARATH15882': ['A0A178VNE0', 'A0A5S9X5P4', 'A0A7G2EF90', 'F4IH25'], 'HUMAN100375': ['A0A024R1A3', 'P22314', 'Q5JRR9'], 'CAEEL05017': ['P45969'], 'PHYPA04963': ['A9TQZ4'], 'NAEGR14713': ['D2VT60'], 'NAEGR01611': ['D2VAZ8'], 'ECTSI06497': ['D8LR91'], 'PHYPA20463': ['A0A7I4F888', 'A9SDJ1'], 'RETFI22271': ['X6MQB1'], 'ECTSI05002': ['D7FKX1'], 'HUMAN19088': ['G3V5Z7'], 'THAPS06743': ['B8BYH6'], 'PHYPA30890': ['A0A2K1L0B5', 'A0A7I4D7E7'], 'PLAF704602': ['Q8IBH9'], 'AMPQE05579': ['I1EH13'], 'ECTSI04341': ['D8LDI4'], 'RETFI38332': ['X6M685'], 'MOUSE20414': ['P25444', 'Q3TI78', 'Q3TL20', 'Q3TLE5', 'Q3TXS9', 'Q3UB36', 'Q58EU3'], 'ARATH03538': ['A0A178W302', 'A0A384KT69', 'A0A654FMU5', 'P34788', 'Q5PNZ9'], 'ARATH40547': ['A0A178UMI1', 'A0A654GEJ7', 'O24616'], 'ARATH29060': ['A0A178UZ20', 'Q94AH9'], 'HUMAN62275': ['B4DXV9', 'C9J236', 'C9JEL7', 'C9JP36', 'C9JS27', 'Q7L592'], 'PHYPA24895': ['A0A2K1L7K2'], 'CHLRE16013': ['A0A2K3D4Q6'], 'DROME08517': ['D0IQG4', 'Q7KN62'], 'PHYPA26882': ['A0A2K1LB79', 'A0A7I4C0Y7'], 'DICDI06911': ['Q54ST4'], 'CAEEL07100': ['Q5CCJ2', 'Q9N5N9'], 'YEAST03632': ['P36048'], 'PLAF705290': ['Q8I2I2', 'Q8MTV6'], 'ACACA01590': ['L8HGD1', 'Q102R4'], 'RETFI39436': ['X6NNH8'], 'NAEGR01304': ['D2VIP0'], 'MOUSE36747': ['O35226', 'Q9CY29'], 'DROME02607': ['O02195'], 'TRYB200916': ['Q389Z4'], 'CAEEL05174': ['Q9U6P6'], 'PARTE01623': ['A0CG36'], 'NEUCR03640': ['Q1K862', 'Q8X0Y2'], 'PHYPA05713': ['A0A2K1IFJ5'], 'CYAME00568': [], 'AMPQE15301': ['A0A1X7UCK8'], 'ECTSI02482': ['D7FU80'], 'ACACA05058': ['L8H694'], 'CAPO303489': ['A0A0D2VWP0'], 'NEUCR00690': ['Q1K788', 'Q9HEA6'], 'NEUCR00016': ['Q7SEM7'], 'CAEEL06148': ['Q9U2G1'], 'DROME11866': ['Q7YU66', 'Q8IPT2'], 'DROME24697': ['Q9V3Z4'], 'THAPS09975': ['B5YMD6'], 'PHYPA03551': ['A0A2K1KW30'], 'NEUCR01363': ['Q1K6W9', 'Q870U0'], 'MOUSE34222': ['A2AI05'], 'DROME01015': ['M9PFS0'], 'CHLRE14420': ['A8IIP9'], 'CAEEL05308': ['Q22716'], 'CAEEL07616': ['Q09543', 'V5XY55'], 'NEUCR04404': ['Q1K5V9', 'Q86ZG1'], 'PLAF702841': ['Q8IKK4', 'Q9GR09'], 'YEAST06495': ['O14455'], 'PHYPA08573': ['A9TE60'], 'CYAME03761': [], 'CAPO307478': ['A0A0D2VXD6'], 'CAEEL04262': ['Q23237'], 'CAPO305051': ['A0A0D2WKX0'], 'THAPS02734': ['B8CCE3'], 'DROME00905': ['Q9VK30'], 'MOUSE16886': ['A0A2R8VH97', 'Q8QZY1'], 'PARTE13406': ['A0EEX5'], 'YEAST05748': ['P06103'], 'CYAME02412': [], 'YEAST04207': ['Q07825'], 'CAPO307310': ['A0A0D2UKT9'], 'NAEGR01038': ['D2VA51'], 'DROME03906': ['G2J5V6', 'G2J5W1', 'Q9VJE4'], 'NAEGR04832': ['D2VIZ8'], 'TRYB203736': ['Q57WI3'], 'DICDI06020': ['Q54VT8'], 'PLAF700290': ['Q8IJN9'], 'DROME26525': ['Q9VX08'], 'CYAME01867': [], 'THAPS01717': ['B8LC08'], 'PARTE15034': ['A0E8J5'], 'CHLRE07410': ['A0A2K3CW67'], 'CAEEL00443': ['Q9N3F0'], 'ECTSI02366': ['D7FJV0'], 'CAPO303448': ['A0A0D2ULG3'], 'CAEEL05799': ['Q20228'], 'CYAME02171': [], 'NEUCR04499': ['Q1K5G2', 'Q873H3'], 'PARTE27712': ['A0CZZ4'], 'MOUSE16888': ['Q8R038', 'Q9JK81'], 'PARTE05309': ['A0C2X4'], 'YEAST00437': ['P04385'], 'DROME28422': ['A8JUT4'], 'CHLRE09290': ['A0A2K3DS60'], 'DICDI08954': ['Q54LQ6'], 'NAEGR14813': ['D2VUU1'], 'THAPS08799': ['B8C3T8'], 'CYAME00864': [], 'NAEGR15512': ['D2V8N2'], 'ARATH33674': ['A0A178UL95', 'A0A654G1Z1', 'Q9LF27'], 'NAEGR15477': ['D2VVQ2'], 'RETFI21228': ['X6MUZ7'], 'PARTE18109': ['A0DY20'], 'CHLRE14806': ['A0A2K3D8Y8'], 'CHLRE06553': ['A0A2K3E6P1'], 'HUMAN63849': ['A0A494C1A5', 'O75643'], 'ARATH01862': ['A0A178WFZ3', 'O65396'], 'CAPO307798': ['A0A0D2UPT6'], 'CYAME03415': [], 'NAEGR14543': ['D2VQD0'], 'RETFI21067': ['X6M7Y0'], 'DROME06001': ['P17917'], 'CYAME02960': [], 'THAPS02671': ['B8CC80'], 'ECTSI07528': ['D8LLY6'], 'HUMAN77572': ['D6R9I9', 'D6RGF4', 'P61221'], 'CAEEL04182': ['Q19324'], 'NEUCR00548': ['Q7S2R7'], 'NEUCR03116': ['Q7S909'], 'HUMAN97363': ['Q9Y617'], 'HUMAN13560': ['P06576', 'V9HW31'], 'ARATH36023': ['A0A178UMY9', 'A0A5S9Y8X1', 'A0A654G5T7', 'A0A7G2FBU3', 'Q9FIZ7'], 'PHYPA18113': ['A0A2K1KBB7', 'A0A7I4E3Q6'], 'HUMAN34739': ['D6RJ86', 'Q96H20'], 'AMPQE25709': [], 'THAPS09064': ['B8C5C3'], 'CHLRE07926': ['A0A2K3E4M5'], 'THAPS07534': ['B8BZE7'], 'CYAME02854': [], 'NEUCR02899': ['P05220'], 'MOUSE09248': ['Q6ZWX6'], 'ARATH22328': ['A0A178VF82', 'A0A654FEA8', 'Q0WPE4', 'Q9SWG0'], 'DICDI11605': ['Q54DW2'], 'CHLRE13314': ['A0A2K3DX78'], 'AMPQE13415': ['A0A1X7U3U7'], 'CAEEL17820': ['G5EGH9', 'M1ZMI3'], 'HUMAN75266': ['H0Y9V9', 'P32969', 'Q53Z07'], 'NAEGR04269': ['D2UXR2'], 'NAEGR14875': ['D2VVQ6'], 'HUMAN48825': ['A0A140VJS6', 'P49721'], 'CAEEL11903': ['A3QMC8'], 'PHYPA26812': ['A9RTI6'], 'AMPQE16286': ['A0A1X7UH37'], 'CYAME02180': [], 'PARTE34504': ['A0BIX4'], 'TRYB204679': ['D6XEX9', 'Q9BMX8'], 'CAPO302936': ['A0A0D2WT87'], 'NAEGR05380': ['D2W3Z0'], 'CAEEL08042': ['Q9TXZ9'], 'HUMAN62963': ['A0A7I2V4T0', 'B2RAN1', 'C9J3M0', 'C9J6Q0', 'C9JNZ1', 'C9JTZ5', 'C9JUW1', 'C9JVG3', 'C9JWG0', 'Q16851'], 'CYAME02317': [], 'DROME12373': ['M9PG76', 'P19889'], 'CAEEL08553': ['P34605'], 'DICDI00984': ['Q9NI62'], 'ARATH35398': ['A0A178UKV3', 'A0A654G4I5', 'Q39230'], 'NAEGR13735': ['D2VA93'], 'PARTE18300': ['A0DXG9'], 'YEAST01099': ['A0A6A5Q212', 'P07284'], 'AMPQE16365': ['A0A1X7UHD1'], 'CAEEL18648': ['Q19626'], 'CAEEL09568': ['O44175'], 'NEUCR03035': ['V5IP38'], 'PLAF700456': ['Q8IJ83'], 'NAEGR01458': ['D2VAR7'], 'PHYPA22112': ['A9S9D3'], 'DICDI10174': ['Q54I41'], 'MOUSE65131': ['B1AUZ1'], 'TRYB200767': ['Q38AE5'], 'ECTSI11357': ['D7G7A6'], 'CAEEL05993': ['Q9XXI9'], 'DROME27767': ['Q9VXQ3'], 'MOUSE54624': ['A0A1B0GSR4', 'Q3TXT7', 'Q3UXP2', 'Q9WTM5'], 'CYAME04755': [], 'NEUCR02430': ['Q7S4G2'], 'PARTE34252': ['A0BQ60'], 'PHYPA30997': ['A9RGH4'], 'AMPQE20244': ['A0A1X7UZX5'], 'PLAF700417': ['Q8IJC0'], 'NEUCR07514': ['Q7SE23'], 'THAPS02693': ['B8CCA2'], 'CYAME04808': [], 'ECTSI01125': ['D7FQL1'], 'YEAST03177': ['A0A6A5PUA1', 'P38886'], 'TRYB200368': ['Q38BK1'], 'THAPS09117': ['B8C5H6'], 'DROME28403': ['Q9Y162'], 'YEAST02698': ['A0A6A5PW04', 'P40961'], 'PHYPA30515': ['A0A2K1IU67'], 'DROME09696': ['A0A1B2AJL4', 'L0CPD9', 'L0CPE3', 'L0CPK9', 'L0CPL5', 'L0CPM0', 'L0CQQ8', 'L0CQR2', 'L0CR44', 'L0CR49', 'L0CRF4', 'L0CRF8', 'Q0E9B6'], 'AMPQE25187': ['A0A1X7VLA3'], 'MOUSE28060': ['A0A087WP86', 'A0A087WQ14', 'A0A087WQ83', 'A0A087WRA1', 'A0A087WS98', 'Q3TGE1', 'Q3TGW0', 'Q3TWJ4', 'Q3ULF7', 'Q99JY9'], 'HUMAN93157': ['Q86WR0'], 'CYAME03189': [], 'AMPQE07839': [], 'THAPS08633': ['B8C3C1'], 'PHYPA22084': ['A9S9B1'], 'NEUCR06870': ['Q6MW39', 'Q7S7R7'], 'THAPS06526': ['B8BXV8'], 'DICDI07090': ['Q54S90'], 'CHLRE16367': ['A0A2K3D598'], 'ARATH28867': ['A0A178UX13', 'Q9SB50'], 'YEAST04591': ['A0A6A5PTL3', 'P32939'], 'ACACA11083': ['L8GRD1'], 'NEUCR00451': ['Q6MFP9', 'V5INP8', 'V5IQD6'], 'DROME15282': ['M9PEU5', 'Q9VTE9'], 'CAPO305659': ['A0A0D2WMK0'], 'CAEEL01919': ['O17944'], 'CYAME02845': [], 'MOUSE19790': ['P43247', 'Q3TZI5', 'Q80V79'], 'DICDI08481': ['Q54N48'], 'CAPO306960': ['A0A0D2X3R4'], 'ECTSI04961': ['D7FLP7'], 'NEUCR02757': ['F5HID6', 'Q96U61'], 'DICDI05362': ['Q54XG2'], 'TRYB206251': ['Q586Q7'], 'CYAME03839': [], 'AMPQE21662': ['A0A1X7V5F0'], 'ARATH24568': ['A0A178V8R3', 'A0A654FJB4', 'Q9M1Z3'], 'YEAST01020': ['P0CX84', 'P0CX85'], 'CAPO301608': ['A0A0D2VM95'], 'PLAF700627': ['Q8IIQ6'], 'DROME06421': ['Q7JZF5'], 'CHLRE07927': ['A0A2K3E5T4'], 'PARTE03861': ['A0C7V0'], 'AMPQE24967': [], 'PLAF702195': ['Q8ID32'], 'DROME23611': ['Q9VAN0'], 'ECTSI08912': ['D8LNC2'], 'HUMAN00131': ['B4DLV7', 'P50395', 'Q6IAT1', 'V9GYF8'], 'DROME05439': ['H5V8B8'], 'HUMAN96055': ['A8K3R2', 'B2RDN4', 'Q14137'], 'TRYB200006': ['A0A161CM65', 'A0A1B3IZ95', 'A0A1B3IZ99', 'A0A330LJA8', 'B0Z0F6', 'Q38CM0'], 'CYAME00453': [], 'DICDI01575': ['Q55BN7'], 'CYAME04444': [], 'ECTSI08220': ['D7FQT3'], 'CAPO300480': ['A0A0D2X0E2'], 'HUMAN17269': ['A8QI98', 'G3V1J5', 'Q9Y2L1'], 'CYAME00559': [], 'ARATH17423': ['A0A178VK18', 'Q9FWA3'], 'ACACA10067': ['L8GRC7'], 'ACACA03143': ['L8HAU5'], 'ACACA09861': ['L8GSE6'], 'NAEGR13698': ['D2V9Q6'], 'ARATH17148': ['A0A178VXZ3', 'A0A654F2X7', 'O82266'], 'DICDI11256': ['Q54EY1'], 'HUMAN16169': ['A0A384N652', 'Q8NHQ9'], 'CYAME01242': [], 'ECTSI06438': ['D8LM42'], 'MOUSE04202': ['A2A599', 'Q9Z1G4'], 'YEAST06522': ['A0A6A5Q735', 'P29547'], 'ACACA01827': ['L8HFG7'], 'ECTSI05857': ['D8LJ53'], 'ACACA00670': ['L8HLJ3'], 'PLAF703878': ['Q8I3T9'], 'DROME22658': ['Q9VHW6'], 'HUMAN68472': ['Q53GB2'], 'CHLRE11937': ['A0A2K3CZA0'], 'NAEGR15481': ['D2VZT7'], 'DROME19212': ['Q9VGP6'], 'PHYPA07033': ['A0A2K1JPE3'], 'YEAST04213': ['P50095'], 'DICDI12422': ['Q54BN4'], 'NEUCR07561': ['Q6MVI1', 'Q7SF44'], 'MOUSE25983': ['Q3TGH6', 'Q8C5X6', 'Q8C952', 'Q8R069', 'Q91Z50', 'Q99M86'], 'HUMAN14371': ['Q13601'], 'CAPO302748': ['A0A0D2VSK4'], 'CYAME04372': [], 'ARATH25286': ['A0A178UXT2', 'A0A5S9XNY2', 'A0A7G2EV33', 'Q8RXK6'], 'ECTSI08031': ['D8LQX3'], 'NAEGR00630': ['D2UZM0'], 'DICDI04943': ['Q54YR9'], 'NAEGR04327': ['D2V7C2', 'Q4VHC1'], 'YEAST06341': ['Q02767'], 'RETFI14990': ['X6MLZ9'], 'ARATH09642': ['A0A178WLX2', 'A0A5S9WU78', 'Q9C9C4'], 'NEUCR04897': ['Q7S793', 'Q8X0R4'], 'ACACA07799': ['L8GYC6'], 'PLAF703460': ['O97313'], 'MOUSE17387': ['E9PZB8', 'E9Q484', 'Q8K010'], 'PARTE22632': ['A0DHK5'], 'ARATH38911': ['A0A178UUI8', 'A0A654GBW3', 'A0A7G2FH77', 'Q9FKT8'], 'HUMAN34450': ['A0A0G2JRU0', 'A0A384MTI6', 'A0A994J5K9', 'A0A994J5X2', 'A0A994J5X9', 'B4DGR3', 'B4DSK5', 'I3L0L3', 'I3L2G1', 'K7EQD6', 'P46459'], 'CAEEL08707': ['P34567'], 'HUMAN30674': ['A0A994J6E8', 'I3L3Z8', 'Q6P2Q9'], 'YEAST01318': ['Q12250'], 'AMPQE24482': ['A0A1X7VI49'], 'THAPS06765': ['B8BYJ8'], 'NAEGR03071': ['D2VM43'], 'HUMAN58181': ['P50990', 'Q53HU0'], 'ECTSI08650': ['D7FLZ5'], 'ARATH06899': ['A0A178W7V9', 'Q9C723'], 'ACACA11131': ['L8GNS3'], 'RETFI30424': ['X6N8A9'], 'THAPS02614': ['B8CC23'], 'CHLRE12878': ['A0A2K3DYI9'], 'PHYPA14167': ['A9SW41'], 'MOUSE00331': ['Q9CQK7'], 'MOUSE34428': ['Q9ERK4'], 'NAEGR11786': ['D2W092'], 'DROME01537': ['Q9VKQ3'], 'NAEGR01649': ['D2VHR1'], 'ARATH27363': ['A0A178UZN8', 'A0A654FPL9', 'Q6NM52'], 'DICDI00200': ['Q55GM5'], 'HUMAN88135': ['C9JFR7', 'G4XXL9', 'P99999'], 'RETFI35315': ['X6MGV5'], 'PHYPA02616': ['A9TY87'], 'THAPS04759': ['B8BUK1'], 'CYAME04077': [], 'CYAME01161': [], 'CAPO302621': ['A0A0D2WQH8'], 'DROME10738': ['P36241'], 'THAPS09204': ['B8C5R3'], 'TRYB200527': ['Q38B37', 'Q9NFL7'], 'THAPS09090': ['B8C5E9'], 'ECTSI10082': ['D8LH73'], 'CAPO307501': ['A0A0D2UMR8'], 'MOUSE09247': ['P57746', 'Q3U684', 'Q3U861', 'Q3UJH5'], 'CYAME04531': [], 'PHYPA04313': ['A0A2K1KAK0'], 'PLAF703680': ['Q8IFP2'], 'DICDI08290': ['Q54NP6'], 'NAEGR13835': ['D2VCM6'], 'CYAME02597': [], 'DROME07223': ['Q5BI50'], 'ARATH29515': ['A0A178UZJ7', 'A0A5S9XWN6', 'A0A654FTN4', 'A0A7G2F4C7', 'Q8W4D9', 'Q93VK1'], 'DROME19745': ['A0A1B3Q3R0', 'P04359'], 'PLAF701913': ['A0A5K1K967'], 'ACACA08254': ['L8GWJ2'], 'ARATH23165': ['A0A1I9LRX6'], 'ARATH12053': ['A0A178VXD8', 'P0DH92', 'P0DH93', 'P0DH94'], 'YEAST04919': ['A0A8H4BYN2', 'P39110'], 'PHYPA20977': ['A0A2K1KIX8', 'A0A7I4DW74'], 'PHYPA15247': ['A0A2K1KQ50'], 'HUMAN16295': ['P62826'], 'THAPS07868': ['B8C0D0'], 'CYAME02223': [], 'NEUCR00844': ['Q1K7M9', 'Q9C2C8'], 'DROME09023': ['E1JGZ9', 'Q9XZJ4'], 'ACACA00819': ['L8HH66'], 'RETFI19771': ['X6PEB5'], 'DICDI02123': ['Q86JH5'], 'DROME02097': ['Q8IPY3'], 'THAPS04692': ['B8BUD4'], 'ECTSI10572': ['D8LTY2'], 'NAEGR01697': ['D2VIH0'], 'DICDI08009': ['Q54PH8'], 'AMPQE23038': ['A0A1X7VC86'], 'NAEGR05322': ['D2W1P3'], 'CHLRE05093': ['A0A2K3DN40'], 'MOUSE32460': ['Q9CQE7'], 'DICDI03815': ['Q86H36'], 'DROME05488': ['Q24179'], 'AMPQE12216': ['A0A1X7TXX6'], 'NAEGR13189': ['D2UZ11'], 'THAPS00999': ['B8BS57'], 'TRYB205556': ['Q587D1'], 'PLAF700867': ['Q8II16', 'Q8MV47'], 'ACACA10821': ['L8GPT9'], 'HUMAN15776': ['A8K4Z4', 'F8VU65', 'P05388', 'Q53HK9', 'Q53HW2'], 'PHYPA17474': ['A9SNH9'], 'TRYB200705': ['Q38AK7'], 'PHYPA09346': ['A0A2K1IG57'], 'DROME10673': ['Q5U0X8'], 'PARTE24686': ['A0D9H6'], 'MOUSE53439': ['O08811', 'Q3UKK7'], 'YEAST02959': ['P38712'], 'NEUCR05321': ['Q7SBL5'], 'CYAME01447': [], 'NEUCR05549': ['Q7S4Z6', 'V5ILG1'], 'DROME01907': ['P23257'], 'HUMAN06067': ['E9PJM4', 'E9PL17'], 'DROME23004': ['Q32KF3', 'Q7PLC7', 'Q9Y093'], 'PARTE07293': ['A0BVV2'], 'MOUSE37360': ['P97390', 'Q3THX4'], 'NAEGR05161': ['D2VWJ8'], 'ECTSI10371': ['D7FI10'], 'NAEGR14633': ['D2VRR5'], 'DROME00310': ['M9NDC3', 'O18388'], 'HUMAN44613': ['P53680'], 'DICDI08602': ['Q54MZ8'], 'HUMAN66189': ['F8WC19', 'O75533'], 'ACACA13716': ['L8GGC8'], 'NEUCR03244': ['Q7S995'], 'ARATH22299': ['A0A178VAH7', 'A0A7G2EUR9', 'Q94BX4'], 'AMPQE19263': ['A0A1X7UUQ6'], 'ARATH05381': ['A0A178W1F6', 'A0A654ERB2', 'A0A7G2DVH3', 'Q38970'], 'CAEEL19774': ['P53588'], 'AMPQE24755': ['A0A1X7VIL9'], 'ARATH32812': ['F4KFD7'], 'NEUCR07142': ['Q7SG33'], 'CAEEL00958': ['O76371'], 'PHYPA06702': ['A0A2K1ILS8', 'Q45RT1'], 'ECTSI02805': ['D8LS01'], 'CHLRE16580': ['A0A2K3D318', 'A0A2K3D340'], 'ARATH34049': ['A0A178UCC9', 'A0A654G250', 'P57750'], 'DROME25001': ['L0MQ04'], 'CYAME03809': [], 'HUMAN96022': ['A7E261', 'O14841'], 'NAEGR14722': ['D2VT83'], 'HUMAN97803': ['Q9H553'], 'DROME30147': ['P45437'], 'CAEEL08080': ['O17214'], 'PLAF700506': ['A0A0X8MP39', 'Q8IJ31'], 'ACACA05667': ['L8H4F5'], 'YEAST05490': ['A0A8H4BWX1', 'P53868'], 'PHYPA14610': ['A0A7I4EDH8'], 'MOUSE62817': ['Q3U4S9', 'Q5XJY5'], 'PHYPA23386': ['A9S5C6'], 'ARATH09902': ['A0A178WDK6', 'A0A1P8AQF4', 'A0A5S9WUP7', 'F4I0P8'], 'CAEEL04828': ['Q95ZQ3'], 'CHLRE03056': ['A8JBG7'], 'CHLRE16297': ['A0A2K3D6S1'], 'AMPQE19010': ['A0A1X7UTD0'], 'ECTSI00996': ['D7FQ94'], 'PLAF701745': ['Q8IEA6'], 'NEUCR06965': ['Q1K6J6', 'Q872L2'], 'NAEGR14724': ['D2VT99'], 'PLAF703828': ['Q8I3Y8'], 'CAEEL11412': ['Q9XXK6'], 'MOUSE58200': ['B2RSV4', 'Q921M3'], 'NAEGR14962': ['D2VX57'], 'DICDI09843': ['Q54J23'], 'ECTSI08432': ['D8LKM6'], 'CAPO303104': ['A0A0D2VUN1'], 'NEUCR06049': ['Q7S6L8'], 'NAEGR00540': ['D2UXW3'], 'THAPS08176': ['B8C213'], 'NEUCR02826': ['P78695'], 'NEUCR02233': ['Q7SAE6'], 'MOUSE41006': ['B1AV57', 'B1AV58', 'Q8BWR2'], 'THAPS04481': ['B8BTS3'], 'CYAME01129': [], 'ACACA07420': ['L8GXZ0'], 'ARATH20929': ['B3H4G2'], 'PHYPA22297': ['A9S873'], 'NAEGR01368': ['D2V0J8'], 'TRYB203491': ['Q57VU3'], 'PHYPA10310': ['A0A2K1J033'], 'YEAST05933': ['A0A8H4FA39', 'Q08235'], 'CAPO301532': ['A0A0D2VM36'], 'CAPO307560': [], 'AMPQE23674': ['A0A1X7VD89'], 'CHLRE13051': ['A0A2K3DXN0'], 'ARATH20846': ['A0A178VAG2', 'O23290'], 'PARTE09784': ['A0BLL8'], 'MOUSE36487': ['A0A0G2JGU0', 'P53395', 'Q7TND9'], 'CHLRE10698': ['A0A2K3E190'], 'ARATH21343': ['A0A178VG88', 'A0A654FAW1', 'A0A7G2EPW2', 'Q38953'], 'MOUSE62133': ['A2RSW6', 'Q8CFA2'], 'CAPO306136': [], 'ACACA08775': ['L8GXY2'], 'CHLRE15490': [], 'CHLRE00528': ['A0A2K3DHX3'], 'PLAF701686': ['Q8IEG6'], 'THAPS00054': ['B8BSU0'], 'CAPO308122': ['A0A0D2WX75'], 'AMPQE26549': ['A0A1X7VQ42'], 'DROME17024': ['Q9VTU4'], 'AMPQE15409': ['A0A1X7UCT1'], 'YEAST05570': ['Q08204'], 'HUMAN39130': ['K7ESL1', 'P83876'], 'THAPS09039': ['B8C598'], 'ARATH17869': ['A0A178VAY0', 'Q9MAB3'], 'THAPS08154': ['B8C1Z1'], 'YEAST01718': ['A0A8H4C1K9', 'P32565'], 'CYAME02640': [], 'PHYPA19464': ['A9SG84'], 'YEAST04737': ['P49095'], 'NEUCR01841': [], 'CAEEL11923': ['Q23368'], 'MOUSE51712': ['M0QWV3', 'Q8R1B4'], 'HUMAN20324': ['P36957', 'Q6IBS5'], 'NEUCR01985': ['Q7S5Z2'], 'CAEEL00718': ['O02056'], 'NEUCR03822': ['Q7RYY7'], 'ECTSI10021': ['D7G3M9'], 'THAPS01985': ['B8CA95'], 'CHLRE02965': ['A8J3U8'], 'DROME21880': ['Q9XZ10'], 'PHYPA32310': ['A9RC85'], 'CYAME01131': [], 'CYAME03336': [], 'THAPS05906': ['B8CG55'], 'CAPO303330': [], 'PLAF704258': ['C6KT75'], 'PHYPA06614': ['A9TLL0'], 'RETFI38899': ['X6NT04'], 'DICDI08957': ['P22685'], 'PHYPA08568': ['A0A2K1K7T4'], 'CAEEL00647': ['P91154'], 'CHLRE02893': ['A0A2K3CT30'], 'THAPS07600': ['B8BZL3'], 'CAPO306808': [], 'CAEEL09475': ['O45106'], 'ECTSI04009': ['D7G8T7'], 'CAEEL00322': ['Q965S8'], 'PARTE02157': ['A0CEH0'], 'PARTE08618': ['A0BQU7'], 'YEAST01922': ['P21524'], 'THAPS01545': ['B8C8U7'], 'DROME27041': ['P22769'], 'DROME11630': ['I1V4Y8', 'Q24368'], 'YEAST02973': ['A0A6A5PY61', 'P11914'], 'ACACA05094': ['L8H8A6'], 'PHYPA14102': ['A0A2K1J6N3'], 'PLAF703981': ['Q8I3J3'], 'CYAME03131': [], 'PARTE06490': ['A0BY61'], 'ECTSI02314': ['D7G6A6'], 'CHLRE14972': [], 'CHLRE13557': ['A8IF08'], 'HUMAN90616': ['A0A140VK70', 'C9JLS9', 'P35998', 'Q75L23'], 'PHYPA20637': ['A9SEF8'], 'HUMAN47442': ['P19623'], 'NAEGR15459': ['D2VKR9'], 'DROME07174': ['A1Z6M6'], 'NAEGR01365': ['D2V0D5'], 'NEUCR04309': ['Q7SBW5'], 'CHLRE16174': ['A8IK52'], 'CAPO303940': ['A0A0D2UPH1'], 'HUMAN87630': ['A4D210', 'B4DV79', 'C9JQN7', 'P55884'], 'MOUSE00739': ['Q3V384'], 'CHLRE01884': ['A8J768', 'P46295'], 'AMPQE16912': [], 'CAEEL11728': ['P90747'], 'PARTE07735': ['A0BTH5'], 'NAEGR03764': ['D2VZ30'], 'PLAF702719': ['Q8IKW7'], 'PARTE10807': ['A0BHS1'], 'PARTE15876': ['A0E4V5'], 'AMPQE13286': ['A0A1X7U306'], 'TRYB203688': ['Q57YC8', 'Q8T6C3'], 'CAPO305058': ['A0A0D2U5F9'], 'ACACA06863': ['L8H0V8'], 'DROME16841': ['F3YDM3', 'Q6AWN0'], 'CAEEL07366': ['P47209'], 'DICDI06781': ['Q8I8U2'], 'CAEEL10661': ['Q18566'], 'PHYPA14425': ['A0A2K1JP58'], 'PARTE26703': ['Q7Z104'], 'ARATH40711': ['A0A178UHA5', 'A0A5S9YIV3', 'A0A7G2FL28', 'Q9FHA3'], 'ARATH05818': ['A0A178W968', 'A0A5S9WMM6', 'O04005'], 'CAEEL08546': ['P34462'], 'PARTE28248': ['A0CXW8'], 'HUMAN85569': ['A0A0K2GN21', 'A0A140VKB3', 'P21953'], 'CAPO302635': ['A0A0D2X3A2'], 'ECTSI09051': ['D7FII8'], 'YEAST06204': ['Q06103'], 'NEUCR06494': ['A7UWD6', 'Q86ZH3'], 'CYAME00877': [], 'NAEGR00644': ['D2UZR6'], 'NAEGR01498': ['D2VFN2'], 'NAEGR00775': ['D2V2R9'], 'PARTE26548': ['Q3SDT0'], 'ECTSI10266': ['D7FV64'], 'CAEEL08056': ['Q95ZW2'], 'NEUCR03275': ['Q7SA76'], 'PARTE11008': ['A0BGE5'], 'ACACA07119': ['L8H0B4'], 'ARATH39717': ['A0A384KY83', 'Q67ZX8', 'Q9FNP8'], 'DICDI05562': ['P02599'], 'DICDI11390': ['Q54EF2'], 'TRYB203055': ['Q57W07'], 'DICDI04479': ['Q86K94'], 'ARATH29624': ['A0A178V3V3', 'Q9SZD4'], 'PARTE27411': ['A0D0Y9'], 'HUMAN77440': ['A0A8V8TQ34', 'B2RBE5', 'Q9BXJ9'], 'PARTE20438': ['Q3SEA7', 'Q3SEB6'], 'PLAF703304': ['O97249'], 'YEAST00322': ['P38197'], 'ACACA01585': ['L8HGC7'], 'NAEGR08999': ['D2VKA4'], 'HUMAN31658': ['A8K8N7', 'A8K9T9', 'J3KTL4', 'J3QL39', 'J3QSH6', 'O15067'], 'CAEEL13825': ['O16297'], 'PHYPA15422': ['A9STI4'], 'CYAME01741': [], 'CHLRE05463': ['A0A2K3DMA3'], 'MOUSE31941': ['A0A087WPH7', 'O88685', 'Q3THI5', 'Q3TKC2', 'Q3U8Y7'], 'CAPO304499': ['A0A0D2WYX2'], 'CAEEL17798': ['Q9U1Z2'], 'MOUSE64970': ['Q9DB27'], 'CAPO304667': ['A0A0D2X0Z2'], 'CYAME02556': [], 'HUMAN02891': ['Q5T6H2', 'Q9NQW7'], 'DICDI08076': ['Q54PA9'], 'ACACA02188': ['L8HCS6'], 'AMPQE24479': ['A0A1X7VI42'], 'TRYB200722': ['Q38AJ0'], 'PARTE30648': ['A0CNI0'], 'ECTSI00589': ['D7FW42'], 'CAEEL00554': ['A5HU98', 'P91425'], 'MOUSE01190': ['P20664', 'Q3UZF0', 'Q5FW94'], 'THAPS09368': ['B8C677'], 'ARATH37354': ['A0A1P8BGQ2'], 'YEAST04271': ['P05317'], 'TRYB204195': ['D6XCY8', 'Q9NDA3'], 'ARATH00168': ['A0A654E794', 'Q9LPC7'], 'DICDI05834': ['Q54W07'], 'CYAME03167': [], 'ARATH39541': ['A0A178UF03', 'A0A5S9YGT2', 'F4JXF9'], 'DROME22611': ['Q9VHB5'], 'CHLRE07507': ['A8HQ81'], 'ECTSI04272': ['D8LQ01'], 'THAPS06003': ['B8CGF2'], 'ARATH12963': ['A0A1P8B151'], 'YEAST05484': ['P80210'], 'YEAST00982': ['Q05498'], 'CAEEL06514': ['O62388'], 'CYAME00592': [], 'ECTSI04787': ['D8LEU4'], 'CAEEL04280': ['Q19986'], 'ECTSI02727': ['D8LT05'], 'ECTSI03967': ['D7FUE0'], 'DICDI09762': ['Q54J97'], 'NEUCR04649': ['Q1K4M0', 'Q8WZV6'], 'YEAST00176': ['A0A6A5Q146', 'P38251'], 'DICDI04650': ['Q76NU3'], 'DICDI01260': ['Q55D55'], 'DROME12590': ['Q7KU86'], 'PLAF704750': ['Q8IAU5'], 'THAPS03160': ['B8CDN4'], 'AMPQE22108': ['A0A1X7V8E5'], 'CYAME02024': [], 'ACACA07365': ['L8GZH9'], 'MOUSE59012': ['Q3UYC1', 'Q99JF5'], 'DROME02689': ['Q9VJJ0'], 'AMPQE26262': ['A0A1X7VMK2'], 'CAPO300624': ['A0A0D2VGR9'], 'PHYPA13589': ['A0A2K1JWB4'], 'MOUSE42985': ['A0A1S6GWI6', 'Q7TQK4'], 'MOUSE01550': ['P62855', 'Q497N1'], 'DICDI05126': ['Q54Y03'], 'CAEEL01731': ['Q9Y041'], 'THAPS05147': ['B8BVN8'], 'PHYPA17881': ['A9SLC0'], 'AMPQE22999': ['A0A1X7VBG1'], 'DICDI02358': ['Q9U9A3'], 'YEAST03656': ['P36132'], 'PLAF705277': ['Q8I2J3'], 'AMPQE17522': [], 'THAPS02836': ['B8CCP4'], 'ECTSI02852': ['D8LRR5'], 'AMPQE27670': [], 'AMPQE18369': ['A0A1X7UQT3'], 'ACACA02876': ['L8HEM5'], 'THAPS02536': ['B8CBV2'], 'PHYPA13921': ['A0A2K1JKT8'], 'THAPS01139': ['B8BSJ7'], 'CAEEL07145': ['P52874'], 'PARTE12292': ['A0EI31'], 'ACACA14172': ['L8GG17'], 'AMPQE13751': ['A0A1X7U4R6'], 'MOUSE48906': ['Q6PAK3'], 'TRYB200966': ['Q389U3'], 'NEUCR04628': ['Q9P3F1'], 'YEAST05330': ['P06786'], 'THAPS08251': ['B8C288'], 'YEAST01946': ['P16387'], 'NAEGR15467': ['D2VRI5'], 'HUMAN25948': ['P27449'], 'DICDI02802': ['P54641'], 'DICDI01339': ['Q55CQ7'], 'PARTE33439': ['Q3M0W7', 'Q3M0X2'], 'CYAME01262': [], 'YEAST02604': ['P23615'], 'PLAF704247': ['C6KT64'], 'ACACA03737': ['L8HAD3'], 'PARTE28247': ['A0CXW7'], 'ECTSI03461': ['D8LIZ9'], 'CHLRE02950': ['A8HSA7', 'A8J9M0'], 'PHYPA27710': ['A0A2K1L3L4'], 'ACACA02782': ['L8HEU0'], 'ARATH32677': ['A0A178UFZ5', 'Q9C5A9'], 'ECTSI09268': ['D7G2Q6'], 'CAEEL06933': ['O17218'], 'DICDI01323': ['Q55CS9'], 'ECTSI03187': ['D8LBW0'], 'HUMAN34562': ['B2RBR9', 'J3QRG4', 'Q14974'], 'ARATH27145': ['F4JIE0'], 'TRYB200563': ['Q38B01', 'Q95Z06'], 'MOUSE01434': ['Q9CZU6'], 'MOUSE16228': ['Q3THW7', 'Q3TII2', 'Q3TIK5', 'Q5M9L0', 'Q8BTX5', 'Q91WK2'], 'AMPQE19217': ['A0A1X7UV01'], 'ECTSI05079': ['D8LJM9'], 'DROME16199': ['Q9VVU6'], 'ECTSI06988': ['D7FTL1'], 'NAEGR01666': ['D2V0C2'], 'YEAST05976': ['Q08822'], 'CHLRE13496': ['A0A2K3DYD5'], 'DROME00753': ['Q9V3H2'], 'YEAST03201': ['A0A6A5PY45', 'P38720'], 'RETFI35075': ['X6NY82'], 'NAEGR05512': ['D2VXB0'], 'YEAST06200': ['O13516'], 'AMPQE19261': ['I1FSL1'], 'PLAF700313': ['Q8IJM0'], 'YEAST02461': ['P53131'], 'NAEGR01319': ['D2VJ17'], 'DROME26664': ['O18413'], 'MOUSE63434': ['P60003', 'Q545S6'], 'CYAME03939': [], 'TRYB205479': ['Q584W4'], 'YEAST00729': ['P25374'], 'NAEGR05452': ['D2VDQ7'], 'PARTE38633': ['A0CKK9'], 'CAEEL07383': ['Q20060'], 'NEUCR06557': ['Q7S8P0'], 'THAPS07348': ['B8C1H2'], 'CAPO302378': ['A0A0D2X2R1'], 'DROME26646': ['Q9XZS9'], 'MOUSE30460': ['F8WHL2'], 'PHYPA25008': ['A9S013'], 'DROME19772': ['Q9VFF0'], 'DROME29483': ['Q8SXM1', 'Q9W3X6'], 'THAPS09110': ['B8C5G9'], 'CAEEL04127': ['Q23494'], 'PLAF703879': ['Q8I3T8'], 'NAEGR15490': ['D2UX91'], 'CHLRE15566': ['A0A2K3D3V0'], 'CYAME03610': [], 'MOUSE31731': ['Q8C1L7', 'Q9CQR2'], 'MOUSE29094': ['Q8VHZ7'], 'CHLRE08211': ['A8JDZ2'], 'DICDI08001': ['Q54PJ1'], 'PHYPA30387': ['A0A2K1IIE6'], 'HUMAN62708': ['A0A248RGE3', 'B2RDW1', 'F5GZ39', 'J3QSA3', 'J3QTR3', 'M0R1V7', 'P62979', 'Q5RKT7'], 'HUMAN32908': ['J3KSW3', 'O00231'], 'DICDI08837': ['Q54M20'], 'DROME11603': ['Q7K148', 'Q9NHX7'], 'CAEEL08009': ['P48150'], 'ECTSI00294': ['D8LBL7'], 'YEAST01724': ['P40554'], 'CAPO307276': ['A0A0D2WUK1', 'A0A0D2X489'], 'THAPS00170': ['B8BT56'], 'YEAST01346': ['P46681'], 'NAEGR01532': ['D2VJ06'], 'PHYPA18776': ['A0A7I4CXJ1', 'A9SJG1'], 'MOUSE26504': ['E9Q6P1', 'Q3ULZ3', 'Q543K5', 'Q8BTJ1', 'Q99K85'], 'YEAST05927': ['Q08162'], 'PARTE16600': ['A0E3C9'], 'CAEEL02957': ['O62218'], 'HUMAN102995': ['P61758'], 'AMPQE19633': ['A0A1X7UWN4'], 'DROME21661': ['Q9Y105'], 'NEUCR03985': ['F5HEX6', 'Q7RWB8'], 'AMPQE16368': ['A0A1X7UHW6'], 'PARTE02438': ['A0CCR3'], 'CAEEL10605': ['Q9GZH2'], 'CAPO306452': ['A0A0D2VRU6'], 'CYAME02817': [], 'YEAST06309': ['A0A6A5Q586', 'Q12483'], 'YEAST03984': ['A0A6A5PUZ5', 'P41805'], 'MOUSE39867': ['Q059T9', 'Q8BTJ0', 'Q9DAW6'], 'CAPO307035': ['A0A0D2WST7'], 'CAPO300768': ['A0A0D2WHU4'], 'CAEEL05023': ['G5EDB8'], 'NAEGR00620': ['D2UXY5'], 'CYAME03250': [], 'DICDI11297': ['Q54ES9'], 'TRYB205892': ['Q57ZU8'], 'DROME30508': ['H0RNH8', 'Q24098', 'Q494K8', 'Q9VXE9'], 'HUMAN60467': ['B4DQF6', 'C9JHP4', 'Q9Y262'], 'CAEEL01491': ['Q18853'], 'AMPQE14595': ['A0A1X7U942'], 'PHYPA25637': ['A0A2K1JIV7'], 'ACACA00473': ['L8HLP2'], 'HUMAN26914': ['A8K7H3', 'B2R4W8', 'I3L3P7', 'P62244'], 'MOUSE07460': ['Q5NCQ5'], 'THAPS09346': ['B8C655'], 'YEAST05903': ['A0A8H4FAH9', 'Q12499'], 'ACACA07267': ['L8H161'], 'ACACA11228': ['L8GPA4'], 'PLAF704801': ['Q8IAZ9'], 'CHLRE11743': ['A0A2K3DP68'], 'RETFI19425': ['X6NB13'], 'ARATH11619': ['A0A097PJP3', 'A0A178U732', 'A0A5S9XQ83', 'A0A7G2E5S7', 'O80786'], 'TRYB201862': ['Q38F32'], 'DROME14500': ['Q9VP47'], 'NAEGR01506': ['D2VG74'], 'YEAST02143': ['P40093'], 'NAEGR14628': ['D2VRM8'], 'CAEEL11750': ['Q20206'], 'CHLRE02987': ['A8ISF0'], 'PHYPA09217': ['A0A2K1IQC8'], 'NAEGR04316': ['D2W1F1'], 'NAEGR00905': ['D2V6Q8'], 'PHYPA31941': ['A9RDV0'], 'PHYPA13929': ['A0A2K1JKR7', 'A0A7I4F388'], 'DROME01089': ['E1JHG8', 'Q9VK68'], 'ECTSI01410': ['D7FL41'], 'ECTSI05626': ['D7FR02'], 'PHYPA07182': ['A0A2K1KFW6'], 'ECTSI09254': ['D7G2P2'], 'ECTSI10256': ['D7FV54'], 'CYAME00693': [], 'PLAF703885': ['Q8I3T2'], 'MOUSE45023': ['D3Z1T9', 'Q3TET5', 'Q9CXT8'], 'ARATH18780': ['A0A5S9XCB4', 'A0A7G2EP20', 'Q9SRK6'], 'DICDI12462': ['Q54BC8'], 'ARATH01674': ['A0A178WN13', 'A0A7G2DVV7', 'Q9C5Z2'], 'PHYPA32610': ['A0A2K1KT22'], 'PHYPA27672': ['A0A2K1K2D9'], 'NEUCR06595': ['Q7SC98'], 'YEAST05033': ['P49955'], 'NAEGR04376': ['D2VXA2'], 'THAPS06277': ['B8BX57'], 'HUMAN00434': ['B0YJ81', 'J3KT94'], 'RETFI38000': ['X6P1H9'], 'MOUSE32484': ['B9EHK9'], 'DICDI01097': ['Q55DZ8'], 'ECTSI00387': ['D7FQQ1'], 'HUMAN64613': ['A0A2R8Y6W8'], 'NAEGR05089': ['D2VTX0'], 'YEAST04338': ['A0A6A5PX09', 'P32366'], 'MOUSE28751': ['Q53ZU7', 'Q6A0D0', 'Q6GT24'], 'AMPQE27800': ['A0A1X7VV61'], 'CAEEL08731': ['P34574'], 'DICDI07215': ['Q54RX0'], 'TRYB200669': ['Q38AP4'], 'CAPO302219': ['A0A0D2X2M2'], 'HUMAN66463': ['Q53T99', 'Q9GZL7'], 'ACACA14076': ['L8GF06'], 'HUMAN89280': ['O43709'], 'CAEEL09206': ['Q9U2K8'], 'YEAST05536': ['A0A6A5Q273', 'P40303'], 'HUMAN09280': ['Q9H6U8'], 'ARATH33201': ['A0A178UAX0', 'F4JZH8'], 'ACACA11740': ['L8GLT4'], 'YEAST03518': ['P09938'], 'CAEEL02869': ['B3KYC0', 'Q7Z260'], 'NEUCR03510': ['Q7S1T6'], 'YEAST06259': ['A0A6A5Q2E7', 'P53600'], 'PLAF700859': ['Q8II24'], 'PHYPA21563': ['A0A2K1KPT1'], 'ACACA08330': ['L8GZB3'], 'THAPS07030': ['B8BWH7'], 'DICDI00972': ['Q55D61'], 'PLAF702585': ['Q8IL94'], 'CAEEL07791': ['Q18115'], 'TRYB205618': ['Q586G7'], 'AMPQE24879': ['A0A1X7VIN6'], 'ACACA08297': ['L8GXX4'], 'THAPS05201': ['B8BVU2'], 'CAEEL07756': ['Q23463'], 'CHLRE09843': ['A8IA45'], 'CAEEL02555': ['Q9U354'], 'DROME21179': ['Q8SXB1', 'Q9VBI3'], 'ARATH25640': ['A0A178V4M8', 'Q9ZQX4'], 'PARTE35592': ['A0E5R7'], 'CAPO306101': ['A0A0D2UDS7'], 'THAPS00721': ['B8BRD0'], 'NAEGR01136': ['D2VD83'], 'ACACA00930': ['L8HJ01'], 'PARTE15007': ['A0E9J9'], 'PLAF703298': ['O97245'], 'CHLRE06170': ['A0A2K3CWM0', 'A0A2K3CWM1'], 'CAEEL01862': ['O18650'], 'CAPO302808': ['A0A0D2VSQ3'], 'TRYB205243': ['D6XHJ3', 'Q9NC98'], 'CYAME03323': [], 'PARTE04441': ['A0C638'], 'HUMAN98407': ['A0A024R861', 'O00743'], 'PARTE09115': ['A0BNB7'], 'ARATH39712': ['A0A178UNQ0', 'A0A5S9YG71', 'A0A654GD05', 'A0A7G2FLX9', 'Q9FNQ1'], 'PARTE11065': ['A0BGK3'], 'ARATH09686': ['A0A178WJP3', 'A0A5S9WU93', 'A0A654ENU4', 'A0A7G2E4I6', 'Q9M8D3'], 'CHLRE02680': ['A0A2K3CTP8'], 'HUMAN24555': ['B2RDG0', 'H0YKT8', 'H0YL69', 'H0YMA1', 'H0YMZ1', 'P25789'], 'CAEEL07232': ['P50880'], 'ECTSI05911': ['D8LJA7'], 'CAPO302515': ['A0A0D2WQA2'], 'TRYB205086': ['Q583F0'], 'DROME01299': ['Q24349', 'Q9VLB7'], 'ARATH39406': ['A0A384LK73', 'Q0WSK1', 'Q9FIF3'], 'NEUCR07485': ['Q7SEL5'], 'CYAME04567': [], 'ACACA13801': ['L8GG24'], 'ACACA00204': ['L8HIP6'], 'PHYPA16799': ['A0A2K1INW7'], 'ACACA05083': ['L8H6B5'], 'NAEGR01418': [], 'DICDI05466': ['Q54X51'], 'PHYPA17968': ['A0A2K1K3U1'], 'MOUSE01942': ['A0A1W2P6N3', 'A0A1W2P6R1', 'A0A1W2P720', 'Q3TXJ4', 'Q99JZ4'], 'MOUSE04254': ['P83887', 'Q6F4J1'], 'CYAME03426': [], 'PHYPA23050': ['A9S5X9'], 'AMPQE13920': ['A0A1X7U708'], 'NAEGR01095': [], 'RETFI25172': ['X6NYX8'], 'CYAME01742': [], 'ARATH14208': ['A0A178VN59', 'A0A5S9X2H8', 'A0A654EYY3', 'P93028'], 'DROME01999': ['P48612'], 'ARATH34496': ['A0A178UL10', 'Q940P8'], 'NAEGR01628': ['D2VE28'], 'HUMAN79663': ['O95478', 'Q5J7U2'], 'AMPQE24878': ['A0A1X7VIA6'], 'YEAST00587': ['P25332'], 'MOUSE32146': ['Q8K1A0'], 'DICDI07550': ['Q54QW1'], 'DICDI03983': ['Q75JG8'], 'THAPS11037': ['B8C879'], 'DICDI01331': ['Q55CR6'], 'ECTSI08551': ['D8LL95'], 'PARTE12747': ['A0EG83'], 'MOUSE62486': ['P42867'], 'NEUCR03098': ['Q7S829'], 'THAPS06795': ['B8BYM8'], 'NEUCR03929': ['Q7RY60'], 'ACACA03756': ['L8H9V7'], 'MOUSE07505': ['P80315', 'Q3TII0', 'Q3UJZ8', 'Q564F4'], 'DROME29454': ['I0B1N8', 'Q7KW39'], 'THAPS06751': ['B8BYI4'], 'YEAST02129': ['P32610'], 'CAEEL07495': ['Q10578'], 'CAEEL08735': ['P34575'], 'PARTE18523': ['A0DWV5'], 'NAEGR15495': ['D2V116'], 'PARTE15444': ['A0E7G4'], 'DROME03088': ['Q9VJL9'], 'YEAST06475': ['A0A6A5Q660', 'Q02908'], 'YEAST02692': ['P53043'], 'DICDI02420': ['Q55A19'], 'ECTSI04217': ['D7G927'], 'NEUCR06968': ['Q7SB62'], 'ACACA06695': ['L8H2F9'], 'DROME04473': ['Q9VKZ8'], 'PARTE12862': ['A0EGJ8'], 'THAPS01970': ['B8CA80'], 'NEUCR01613': ['V5IQT8'], 'DROME26624': ['P29742', 'X2JC31'], 'HUMAN96717': ['A0MNN4', 'Q2TAY7'], 'NEUCR04210': ['Q7S5P6'], 'DICDI02289': ['Q55AB5'], 'NEUCR00400': ['Q7SAQ1'], 'ARATH17014': ['A0A178VYW3', 'P59232'], 'YEAST05658': ['A0A6A5Q8I3', 'P48589'], 'CAPO300850': ['A0A0D2WJ87'], 'DROME23724': ['Q9VBV8'], 'YEAST05011': ['A0A6A5PTH4', 'P40302'], 'CYAME02994': [], 'THAPS11437': ['B8LEG9'], 'THAPS06373': ['B8BXF4'], 'NAEGR06187': ['D2V1V4'], 'AMPQE24027': ['A0A1X7VG44'], 'NAEGR01462': ['D2VB37'], 'ACACA00695': ['L8HLL6'], 'YEAST00394': ['P38132'], 'ECTSI10354': ['D7FHZ3'], 'NEUCR00133': ['Q7SGW5'], 'PLAF704045': ['C6KSM1'], 'CAPO308099': ['A0A0D2WXY4'], 'NEUCR05900': ['Q7S2W6'], 'CYAME03394': [], 'YEAST03607': ['A0A6A5PSM4', 'P40857'], 'CAPO303782': ['A0A0D2UP26'], 'TRYB204182': ['D6XD01', 'Q94771'], 'ECTSI04988': ['D7FKV7'], 'DROME27880': ['O77425'], 'THAPS01400': ['B8C9I8'], 'ECTSI03021': ['D7FXM7'], 'PLAF700293': ['Q8IJN7'], 'CHLRE03781': ['A0A2K3DZS7', 'A0A2K3DZU1'], 'DROME20382': ['Q86P04', 'Q9VHA1'], 'CYAME04674': [], 'PLAF702757': ['Q8IKT2'], 'CAPO306982': ['A0A0D2UI43'], 'HUMAN06887': ['Q9UI30'], 'ARATH03835': ['A0A178WF65', 'O04450'], 'AMPQE15399': ['A0A1X7UDJ5'], 'ACACA11745': ['L8GLU0'], 'THAPS01883': ['B8C9Z3'], 'CYAME02503': [], 'ARATH08109': ['A0A178WCS7', 'Q94F47'], 'CYAME01660': [], 'CAPO305630': ['A0A0D2WMH7'], 'YEAST02539': ['P38932'], 'THAPS04589': ['B8BU31'], 'HUMAN63003': ['A0A1B0GWD0', 'P61160'], 'CAPO306143': ['A0A0D2WPG5'], 'DICDI05176': ['Q54YQ9'], 'ECTSI03707': ['D7FHD2'], 'NEUCR02304': ['Q7S0W0'], 'MOUSE28054': ['Q3TXS7'], 'THAPS01912': ['B8CA22'], 'PARTE38203': ['A0CJC7'], 'DICDI06338': ['Q54UJ0'], 'DICDI09663': ['Q54JM3'], 'MOUSE02501': ['A1A596', 'Q2M1K2', 'Q8BU03', 'Q8R538'], 'DICDI09140': ['Q54L63'], 'ECTSI11244': ['D7G6R8'], 'CAPO306305': ['A0A0D2VRG4'], 'CHLRE09961': ['A8I3E4'], 'HUMAN73696': ['A0A3B3IUB1', 'C9JRD9'], 'CAEEL07651': ['G8JY03', 'Q20875'], 'CHLRE02719': ['A0A2K3CVC5'], 'DICDI10732': ['Q6TMK3'], 'MOUSE41129': ['P62242', 'Q497E9', 'Q5M9L9'], 'ACACA02190': ['L8HFX6'], 'CAPO304606': ['A0A0D2VIL0'], 'TRYB203971': ['Q582H1'], 'CAEEL13927': ['P11141'], 'CAEEL14477': ['O16311'], 'CYAME02558': [], 'CAPO303848': ['A0A0D2X4X2'], 'YEAST00661': ['P25635'], 'CAPO301645': ['A0A0D2WLA1'], 'RETFI22993': ['X6P6E1'], 'AMPQE21118': ['A0A1X7V339'], 'CAPO301859': [], 'ECTSI09740': ['D7G3J3'], 'ACACA07564': ['L8H0E6'], 'THAPS08900': ['B8C4V8'], 'CAPO303229': ['A0A0D2X405'], 'DICDI04578': ['Q54ZW5'], 'YEAST00345': ['P18414'], 'MOUSE55037': ['P62908', 'Q3UCL7', 'Q3UK56', 'Q5YLW3', 'Q9CZP6', 'Q9D0A2'], 'YEAST04477': ['A0A6A5PUS3', 'Q04491'], 'HUMAN49437': ['E9PMR1', 'Q99437'], 'ECTSI05905': ['D8LJA1'], 'MOUSE63687': ['Q8C0E2'], 'PHYPA01934': ['A0A2K1J7T7'], 'TRYB201359': ['Q388D3'], 'CYAME00876': [], 'CAPO305088': [], 'PARTE36064': ['A0DYJ1'], 'DROME30482': ['P49630', 'X2JC35'], 'PHYPA08374': ['A0A2K1ICA9'], 'ARATH15854': ['A0A384LKU0', 'A0A5S9X5N1', 'Q9XEE9', 'W8PUX5'], 'CAEEL08198': ['P34429'], 'ARATH30686': ['A0A654FVR1', 'O23685'], 'ACACA03665': ['L8HBG6'], 'PHYPA04452': ['A9TSP4'], 'THAPS00844': ['B8BRQ2'], 'PARTE03157': ['A0CAB5'], 'ECTSI01159': ['D8LKA1'], 'DICDI11509': ['Q54E51'], 'TRYB201248': ['Q383V8'], 'DROME01527': ['Q03334', 'X2J950'], 'CAPO304596': [], 'NEUCR06739': ['Q1K804', 'Q9HE41'], 'CAPO302316': [], 'DROME06388': ['Q7JWF1'], 'THAPS02335': ['B8CBA1'], 'CHLRE14702': [], 'CHLRE01848': ['A0A2K3E1V4'], 'PHYPA24509': ['A0A2K1JSW3', 'A0A7I4A8S7'], 'ARATH29997': ['A0A5S9XYC2'], 'PHYPA11316': ['A0A7I4DR74', 'A0A7I4DTG8', 'A9T5P4'], 'MOUSE53418': ['D3YUV6', 'D3YWH9', 'Q6ZWN5'], 'AMPQE17979': ['A0A1X7UPE1'], 'CAPO305947': ['A0A0D2X2E3'], 'NEUCR05410': ['A7UX64', 'B5MEL5'], 'CAEEL09654': ['B5WWL2'], 'HUMAN47451': ['A0A8V8TRG9', 'P42345'], 'RETFI38634': ['X6MBY9'], 'YEAST00228': ['A0A6A5Q536', 'P61830'], 'CYAME01093': [], 'ACACA07003': ['L8H1X9'], 'NEUCR07565': ['A7UXB9'], 'DICDI05295': ['Q54XM7'], 'PLAF701565': ['Q8IET7'], 'DROME15738': ['D0IQG3', 'Q961A7', 'Q9VSJ5'], 'DROME18216': ['A0ANP8', 'C0MJ37', 'Q9VGW7'], 'ECTSI04767': ['D8LES4'], 'ARATH17956': ['A0A178V8M9', 'A0A1I9LT16', 'A0A654F4G0', 'P42791'], 'NAEGR00898': ['D2V6Q9'], 'CYAME01265': [], 'THAPS09529': ['B8C4G5'], 'PHYPA12794': ['A9T1E8'], 'PHYPA14712': ['A9SUU6'], 'ECTSI00503': ['D7FVV6'], 'HUMAN68784': ['Q96FX2'], 'CAPO302320': ['A0A0D2X2P6'], 'PLAF700826': ['Q8II57'], 'AMPQE16373': [], 'DICDI04543': ['Q86K32'], 'THAPS06251': ['B8BX31'], 'MOUSE34360': ['Q60I30', 'Q9D892'], 'CHLRE05137': ['A0A2K3DR41'], 'THAPS05753': ['B8CFQ2'], 'NAEGR04343': ['D2VJ07'], 'TRYB201932': ['Q38EW1'], 'PLAF702097': ['C0H5I7'], 'DROME27480': ['G7H7Z0', 'Q9W327'], 'ACACA11750': ['L8GLU8'], 'THAPS00647': ['B8BR56'], 'ECTSI11188': ['D7FRB0'], 'PARTE34769': ['A0BCF6'], 'DROME01879': ['Q8MRB7', 'Q9VIF6'], 'AMPQE25650': ['A0A1X7VLD8'], 'CAPO308214': ['A0A0D2WY73'], 'YEAST04479': ['A0A6L0ZMK2', 'Q04673'], 'THAPS06959': ['B8BWA6'], 'ARATH01450': ['A0A654EA84', 'A0A7G2DT68', 'F4I116', 'O04485'], 'PARTE35054': ['A0BD92'], 'CAPO305673': ['A0A0D2X278'], 'PHYPA26655': ['A0A2K1K2T2', 'A0A7I4EGV0', 'A0A7I4ELX0'], 'YEAST00014': ['P10962'], 'DICDI03476': ['Q869X1'], 'AMPQE22615': ['A0A1X7V855'], 'NAEGR15508': ['D2V5R6'], 'CAEEL08619': ['C0HLB3', 'C0HLB4'], 'NAEGR04292': ['D2VHT8'], 'DROME13489': ['Q9VVL5'], 'CYAME01400': [], 'PLAF702956': ['Q8IK90'], 'NAEGR01645': ['D2VGQ5'], 'DROME11240': ['A0A0B4KFH4', 'A0A0B4KGE6', 'P26270'], 'MOUSE07444': ['Q3U548', 'Q91ZJ5'], 'NAEGR00922': ['D2V752'], 'YEAST03456': ['A0A8H4BYJ9', 'P16474'], 'NAEGR15079': ['D2VZ24'], 'ARATH05453': ['A0A178WDI7', 'A0A5S9WJG8', 'A0A654EGI8', 'A0A7G2DZV1', 'Q9ASU6', 'Q9SHN6'], 'AMPQE21287': ['A0A1X7V3R8'], 'CYAME01883': [], 'ECTSI08019': ['D8LQW1'], 'CAEEL08083': ['Q95YF3'], 'ARATH34312': ['A0A178UK18', 'Q84WJ9'], 'ECTSI00420': ['D8LNZ4'], 'DICDI11709': ['Q54DJ0'], 'ACACA05507': ['L8H3V5'], 'PHYPA06712': ['A0A2K1JCJ8'], 'PARTE12289': ['A0EI28'], 'CAEEL07575': ['P46577'], 'MOUSE43985': ['D3YYV8', 'P47962', 'Q3TKR5', 'Q3U850', 'Q58EU6'], 'TRYB203111': ['Q57UW4'], 'CAPO300503': ['A0A0D2WH88'], 'CHLRE07238': ['A8JBC8'], 'PARTE18292': ['P33188'], 'ECTSI08536': ['D7FZE6'], 'HUMAN90673': ['B3KRB2', 'B3KY42', 'Q96PZ0'], 'HUMAN63250': ['F8WAM2', 'Q53HV2', 'Q6IBT3', 'Q99832'], 'CYAME01103': [], 'PHYPA18164': ['A9SKH1'], 'YEAST00565': ['P32602'], 'PARTE15307': ['Q3SDB7'], 'ARATH24393': ['A0A384KB73', 'Q0WWD3', 'Q9XGM1'], 'DICDI00387': ['Q55FR9'], 'PHYPA16626': [], 'TRYB200747': ['Q38AG5'], 'CHLRE08824': ['A0A2K3CR84', 'A8IW34'], 'CAPO303854': [], 'NEUCR04026': ['Q6M9B7'], 'PARTE31185': ['A0CL25'], 'ARATH19415': ['A0A178VLB6', 'Q9LUD4'], 'DICDI06136': ['Q54V55'], 'HUMAN51585': ['O75396'], 'AMPQE17838': ['A0A1X7UN08'], 'ARATH10152': ['A0A178WIQ9', 'A0A7G2E6K0', 'Q9CAQ8'], 'PARTE24324': ['A0BRV5'], 'DICDI01424': ['Q55CC2'], 'MOUSE17658': ['Q8BYL4'], 'PARTE33993': ['A0BPE8'], 'PHYPA09573': ['A0A2K1KX43'], 'CAPO304064': ['A0A0D2UQX7'], 'MOUSE57800': ['Q3TDX2', 'Q8VEJ9'], 'CAPO300650': [], 'DICDI04823': ['P36413'], 'DICDI02472': ['Q86KZ2'], 'MOUSE34972': ['P20029', 'Q3TI47', 'Q3TKF8', 'Q3TWF2', 'Q3U6V3', 'Q3U7T8', 'Q3U9G2', 'Q9DC41'], 'TRYB200401': ['Q4FKP5'], 'CAEEL05218': ['Q18993'], 'DICDI00817': ['Q55EJ3'], 'DROME18310': ['Q95SD3', 'Q9VBY2'], 'MOUSE18570': ['Q8CHW4'], 'CAEEL11116': ['Q23295'], 'AMPQE24873': ['A0A1X7VIA2'], 'MOUSE06974': ['Q3U957', 'Q8BNI4'], 'DICDI12353': ['Q54BM1'], 'CAEEL01232': ['P27604'], 'THAPS10967': ['B8C809'], 'CHLRE15007': ['A8ITF3'], 'YEAST03996': ['A0A6A5PU37', 'P05759'], 'PHYPA06438': ['A0A2K1L907'], 'CYAME03242': [], 'NEUCR02797': ['P53377'], 'NEUCR02736': ['Q7RXH4'], 'PARTE14818': ['A0EA65'], 'ARATH06166': ['A0A178W0C4', 'Q9SX52'], 'CAEEL19534': ['Q22601'], 'CAEEL09698': ['Q9XXU9'], 'PHYPA23547': ['A9S3Y5'], 'YEAST02156': ['A0A6A5Q0C0', 'P38620'], 'PLAF702529': ['Q8ILE9'], 'NEUCR02342': ['Q7S306'], 'TRYB204638': ['Q580R7'], 'RETFI29873': ['X6NSV1'], 'PLAF702765': ['Q8IKS3'], 'YEAST00518': ['A0A6B7JGY6', 'P15873'], 'PHYPA26827': ['A9RTM0'], 'DICDI07349': ['Q54RH6'], 'CAPO305161': ['A0A0D2X1B0'], 'ECTSI08687': ['D7G5I4'], 'NAEGR14139': ['D2VIZ9'], 'CYAME00295': [], 'MOUSE28238': ['D3Z2F2', 'D3Z7J9', 'P63038'], 'DICDI03812': ['Q552Y8'], 'ARATH23928': ['A0A178VEN3', 'Q9M060'], 'ARATH09223': ['A0A178WP63', 'A0A5S9WTQ9', 'A0A654EPM2', 'A0A7G2E487', 'Q94KD3'], 'RETFI38566': ['X6M8H3'], 'CYAME00349': [], 'CAEEL10767': ['Q19974'], 'CYAME01526': [], 'AMPQE17737': [], 'YEAST00420': ['P38249'], 'ARATH29290': ['A0A178V291', 'A0A654FT70', 'Q5M759'], 'ACACA10710': ['L8GQT3'], 'CYAME04392': [], 'ACACA02303': ['L8HD42'], 'NAEGR15202': ['D2W171'], 'CYAME02525': [], 'MOUSE21372': ['G3XA25', 'Q8CAY6'], 'NEUCR05741': ['Q7S234'], 'CYAME00830': [], 'NEUCR01714': [], 'TRYB201350': ['Q385T6'], 'NEUCR02219': ['Q7SAD0'], 'CAPO308012': [], 'PLAF700954': ['Q8IHS5'], 'PARTE12989': ['A0EFV1'], 'MOUSE00799': ['Q9CZN8'], 'CYAME01360': [], 'HUMAN57472': ['Q13404'], 'ECTSI10393': ['D8LT74'], 'ACACA12807': ['L8GIG1'], 'THAPS01964': ['B8CA74'], 'THAPS01957': ['B8CA67'], 'CAEEL09625': ['Q966I8'], 'DICDI06081': ['Q54VA2'], 'PARTE26715': ['A0D2I7'], 'TRYB203351': ['Q57YR2'], 'DICDI04039': ['Q552J0'], 'CAEEL16397': ['O17586'], 'ACACA08296': ['L8GWT6'], 'CHLRE14632': ['A8I0Y2'], 'CAPO306879': ['A0A0D2VTP8'], 'ACACA02130': ['L8HFS1'], 'AMPQE26499': ['A0A1X7VQ14'], 'DROME00355': ['A0A0B4KFZ9', 'P84040'], 'AMPQE20692': [], 'DROME00722': ['P15348'], 'PLAF704684': ['Q7K6A9', 'Q9U570'], 'THAPS03350': ['B8LCP9'], 'DICDI10164': ['P34123'], 'DROME01040': ['P13060'], 'DICDI10873': ['Q8T8P2'], 'ARATH38515': ['A0A178UKY5', 'Q9FJD4'], 'TRYB204113': ['Q57XR3'], 'TRYB203276': ['Q57TV5'], 'DROME09904': ['A0A1B2AK09', 'Q24583'], 'AMPQE23617': ['A0A1X7VC59'], 'PHYPA05428': ['A9TPG1'], 'CYAME04086': [], 'CYAME03614': [], 'DICDI10358': ['Q54HJ2'], 'CYAME03897': [], 'CAEEL10921': ['Q20068'], 'CYAME00635': [], 'ARATH06361': ['A0A178W8Z8', 'Q9C8I1'], 'ECTSI09136': ['D8LIP0'], 'NEUCR03825': ['Q7RV75'], 'DICDI00734': ['Q55EZ6'], 'CAPO305797': ['A0A0D2WNY2'], 'HUMAN75290': ['D6RHF4', 'E7ER83', 'E7ER95', 'E7ETF4', 'O60701', 'Q9NY20'], 'ARATH04424': ['A0A178WAE7', 'A0A5S9WBS8', 'Q9LP45'], 'HUMAN50919': ['A0A7P0Z494', 'P11182'], 'YEAST02715': ['P02406'], 'CYAME01355': [], 'CHLRE14882': ['A0A2K3DTA6'], 'PHYPA30303': ['A9RI50'], 'DROME23697': ['G3M399', 'Q9GV40', 'Q9VCN1'], 'AMPQE28099': ['A0A1X7VVJ2'], 'CAPO302272': ['E9C627'], 'CYAME01553': [], 'THAPS10626': ['B8C717'], 'THAPS11312': ['B8LE79'], 'DICDI10026': ['Q54IJ1'], 'MOUSE21088': ['Q7TMW6'], 'ARATH34774': ['A0A178UAS6', 'A0A5S9Y6V8', 'Q8LAD2'], 'DICDI02468': ['Q55A48'], 'PARTE34523': ['A0BIZ5'], 'CHLRE13795': ['A0A2K3DAI9'], 'DICDI00700': ['Q9XY92'], 'PLAF702173': ['Q8I6T0'], 'ARATH03191': ['A0A178WDF9', 'A0A5S9VCC2', 'A0A7G2DXP8', 'Q9LM93'], 'PARTE36377': ['A0DPX0'], 'NAEGR00865': ['D2V5R1'], 'ECTSI03290': ['D8LC63'], 'ARATH13743': ['A0A178VXR9', 'O23715'], 'NAEGR02557': ['D2VCV3'], 'YEAST00002': ['A0A7I9CBP3', 'P31383'], 'CYAME03921': [], 'PHYPA25994': ['A9RWY6'], 'AMPQE28435': ['A0A1X7VYU5'], 'DROME15558': ['Q9VRL0'], 'CAPO302647': ['A0A0D2UFQ5'], 'YEAST00888': ['Q04048'], 'DICDI01960': ['Q55BC4'], 'PHYPA28835': ['A9RMX0'], 'ARATH28479': ['A0A178V3R8', 'A0A5S9XUS4', 'Q8GYK2'], 'CAEEL16553': ['Q9XVR7'], 'CAPO305500': ['A0A0D2U9Y3'], 'TRYB204585': ['Q582N2'], 'CAPO305573': [], 'CAPO308156': ['A0A0D2US11'], 'DROME05950': ['A1Z934'], 'THAPS07646': ['B8BZQ9'], 'PLAF702555': ['P62203'], 'DROME12818': ['Q9VTM2'], 'DICDI07917': ['Q54PT2'], 'ARATH24276': ['A0A178V9H0', 'Q42551'], 'YEAST04716': ['A0A6L1BIF8', 'P23639'], 'CAEEL08913': ['C7IVS4', 'Q9NAH1'], 'NAEGR15441': ['D2VAL1'], 'DICDI04385': ['Q9GPF0'], 'THAPS05897': ['B8CG46'], 'RETFI26625': ['X6MYF2'], 'THAPS04249': ['B8LDT0'], 'ARATH04546': ['A0A178W5B4', 'A0A5S9WF57', 'F4I366'], 'NAEGR15455': ['D2VJG9'], 'ECTSI04098': ['D7FN81'], 'CYAME01373': [], 'DROME26435': ['Q9VXK5'], 'ACACA02527': ['L8HG36'], 'YEAST03927': ['Q01802'], 'NAEGR00709': ['D2V0P6'], 'CAPO304059': ['A0A0D2UQX2'], 'AMPQE26674': ['A0A1X7VQM3'], 'MOUSE00900': ['A0A1W2P6I6', 'E9PZJ8'], 'ECTSI07727': ['D7FVE5'], 'HUMAN72120': ['A0A384MTR5', 'B5BUB1', 'J3QLR1', 'Q9Y265'], 'NAEGR01651': ['D2VI61'], 'CAEEL08205': ['P34524'], 'YEAST04256': ['P14743'], 'CYAME02765': [], 'NAEGR08659': ['D2VI96'], 'MOUSE37412': ['B2RWH3', 'Q6GSS7'], 'ARATH32202': ['A0A654FYV3', 'O24412'], 'PHYPA01633': ['A9U247'], 'CYAME01880': [], 'CYAME04373': [], 'AMPQE14318': ['A0A1X7U7E2'], 'CYAME03044': [], 'PLAF700684': ['Q8IIK3'], 'PHYPA31278': ['A0A2K1ICP8'], 'DROME25790': ['C6SUY3', 'Q9V461'], 'ACACA12094': ['L8GLD4'], 'MOUSE65527': ['A2AM97', 'I7HLV2', 'Q6ZWV3'], 'ARATH09107': ['A0A384KVB6', 'P49637', 'Q7G923'], 'AMPQE27784': ['A0A1X7VTR8'], 'CAEEL11031': ['Q19680'], 'PHYPA12126': ['A0A2K1JLZ0', 'A0A7I4F2N6'], 'MOUSE29961': ['Q05D44'], 'MOUSE38844': ['Q8K0D5'], 'NEUCR01783': ['Q1K688', 'Q9C2R7'], 'MOUSE24870': ['Q8CG46'], 'CHLRE15299': ['A8J5P7'], 'NAEGR14834': ['D2VV49'], 'NAEGR01568': ['D2V4M4'], 'NEUCR00494': ['Q96X45'], 'CAEEL00269': ['Q9BKU3'], 'THAPS11576': ['B8LEN1'], 'DROME20829': ['O01666'], 'DICDI06591': ['Q86C65'], 'NAEGR04279': ['D2V6M2'], 'PARTE14086': ['A0EBG4'], 'NEUCR03025': ['Q6M963', 'Q7S9D8'], 'MOUSE60258': ['O89079', 'Q9D1J2'], 'PLAF703263': ['O77313'], 'PARTE26338': ['A0D364'], 'PARTE27925': ['A0CYT8'], 'CYAME00981': [], 'CHLRE02726': ['A0A2K3CTN1'], 'ARATH39591': ['A0A178UB10', 'A0A5S9YFX2', 'Q9FJI1'], 'HUMAN72134': ['A0A158RFU6', 'B4DPH9', 'C9J592', 'P51149'], 'AMPQE14582': ['A0A1X7U924'], 'YEAST05468': ['P53852'], 'MOUSE04386': ['P68040'], 'THAPS07872': ['B8C0D4'], 'YEAST03354': ['P0CX25', 'P0CX26'], 'TRYB202163': ['Q38E70'], 'MOUSE26696': ['Q3UKF5', 'Q6P1B1', 'S4R228'], 'DICDI07101': ['Q54S79'], 'CYAME03852': [], 'ECTSI00052': ['D8LAX5'], 'ACACA01553': ['L8HHJ1'], 'TRYB205854': ['Q582B4'], 'CAEEL11264': ['Q21102'], 'PHYPA10492': ['A0A2K1JZF8'], 'ARATH24528': ['A0A178VC46', 'O22860'], 'YEAST04878': ['P38011'], 'NEUCR07303': ['Q1K937', 'Q9P3R3'], 'HUMAN56244': ['A0A087WZV9'], 'MOUSE55117': ['P35980', 'Q58EW0', 'Q642K1'], 'CHLRE04976': ['A0A2K3DML6'], 'CAEEL15238': ['O17607'], 'CAPO301146': ['A0A0D2VIC9'], 'DROME10359': ['Q7KKH3'], 'NAEGR00047': [], 'PHYPA03341': ['A9TW56'], 'THAPS06456': ['B8BXN8'], 'NEUCR04834': ['Q7RW10'], 'ACACA09340': ['L8GT97'], 'THAPS10534': ['B8C6S5'], 'AMPQE23274': ['A0A1X7VD82'], 'THAPS07524': ['B8BZD7'], 'TRYB205397': ['D6XI03', 'Q9GYZ3'], 'HUMAN40256': ['Q71SV8', 'Q9HCS7'], 'PHYPA13305': ['A9SZ35'], 'CAEEL01776': ['Q27493'], 'DROME01210': ['Q9VMW8'], 'THAPS08940': ['B8C4Z8'], 'CAPO300638': ['A0A0D2X0H9'], 'CHLRE06676': ['A0A2K3CVU3'], 'CYAME04561': [], 'HUMAN96730': ['Q9NZZ3'], 'PARTE10653': ['A0BHB6'], 'CAEEL19661': ['P48583'], 'PARTE10178': ['A0BJZ2'], 'PLAF705153': ['Q8I2V6'], 'THAPS06737': ['B8BYH0'], 'PARTE22333': ['A0DI54'], 'AMPQE19234': ['A0A1X7UV19'], 'ARATH22100': ['A0A1I9LPJ1', 'A0A384LJK0', 'A8Y7S8', 'P59220', 'Q1H5F3'], 'NEUCR07472': [], 'PARTE37689': ['A0CVX0'], 'AMPQE14039': ['A0A1X7U6N0'], 'PARTE14435': ['A0EA85'], 'THAPS10540': ['B8C6T1'], 'MOUSE35582': ['Q3TTM6', 'Q3TY06', 'Q9DC61'], 'YEAST04478': ['Q12102'], 'ARATH19558': ['A0A5S9XCE6', 'Q9LE16'], 'AMPQE22328': ['A0A1X7V8L4'], 'CYAME00465': [], 'CAPO306331': ['A0A0D2X308'], 'TRYB205547': ['Q587E0'], 'NAEGR01254': ['D2VH61'], 'YEAST05648': ['A0A6A5Q7X4', 'P40339'], 'YEAST04470': ['Q06708'], 'PHYPA03517': ['A0A2K1L298', 'A0A7I4CZG1'], 'ARATH14457': ['A0A178VT49', 'Q9SIP7'], 'NEUCR01035': ['Q7S0H3'], 'YEAST06592': ['Q00776'], 'PHYPA13055': [], 'CAPO306103': [], 'DROME07457': ['A0A0B4KF05', 'Q9V359'], 'NAEGR04835': ['D2VJ19'], 'TRYB200901': ['Q38A09'], 'ACACA00532': ['L8HJL5'], 'PARTE11995': ['A0BE73'], 'HUMAN56023': ['P12004', 'Q6FHF5', 'Q6FI35'], 'DROME14698': ['Q95U34'], 'MOUSE57310': ['Q711T7'], 'THAPS07014': ['B8BWG1'], 'CHLRE16241': ['A8IVM9'], 'ARATH26079': ['A0A178U8K0', 'A0A5S9XQ99', 'A0A654FM59', 'Q8VY63'], 'NEUCR07456': ['Q7SCR9'], 'ECTSI02787': ['D8LRY3'], 'PARTE00134': ['A0EIQ3'], 'NEUCR03784': ['Q1K8D9', 'Q872A8'], 'NEUCR06211': ['Q7SC15'], 'NEUCR03951': ['Q7RYC6'], 'CYAME01170': [], 'YEAST05521': ['A0A6A5Q8D9', 'P32563'], 'YEAST01053': ['P48015'], 'NAEGR02984': ['D2VKN5'], 'ACACA07495': ['L8GY46'], 'DICDI12841': ['B0G185'], 'AMPQE14447': [], 'TRYB200016': ['Q38CK9', 'Q9U793'], 'AMPQE10431': ['A0A1X7TQQ2'], 'CHLRE13514': ['A0A2K3DYK1'], 'PHYPA31546': ['A9RF36'], 'NAEGR05445': ['D2VB79'], 'MOUSE12773': ['A0PK78', 'Q78PG9'], 'YEAST02984': ['A0A6A5PXP0', 'P38891'], 'MOUSE36400': ['A0A0G2JE69', 'Q9CWQ0', 'V9GXP1'], 'DICDI12013': ['Q54CQ1'], 'NEUCR05988': [], 'CYAME03849': [], 'HUMAN33267': ['A0A087WUL2', 'A0A384NL22', 'P49720'], 'AMPQE11598': ['A0A1X7TV79'], 'ACACA02925': ['L8HCJ0'], 'CAEEL10168': ['O44480'], 'PHYPA13278': ['A0A2K1KMM8'], 'AMPQE26985': ['A0A1X7VRU1'], 'THAPS06252': ['B8BX32'], 'ECTSI05352': ['D8LPP2'], 'DROME25997': ['P17886'], 'CAPO300440': ['A0A0D2X0D4'], 'ACACA07500': ['L8GY50'], 'PLAF702785': ['Q8IKQ5'], 'ACACA10025': ['L8GRX7'], 'CAPO303568': ['A0A0D2WU30', 'A0A0D2WUM1'], 'DICDI04372': ['Q86JA1'], 'DICDI00653': ['Q55G04'], 'CHLRE13494': ['A8J2L7'], 'DICDI08700': ['Q54MG6'], 'PHYPA10531': ['A0A2K1JZK4'], 'CYAME03695': [], 'RETFI24997': ['X6MPA0'], 'DICDI00107': ['P10819'], 'PLAF703681': ['Q8IFP1'], 'CYAME00843': [], 'ECTSI02056': ['D8LQN4'], 'TRYB200440': ['Q38BC7'], 'PHYPA32625': ['A9RBJ1'], 'CYAME03712': [], 'AMPQE23807': ['A0A1X7VF79'], 'MOUSE31178': ['Q60737', 'Q61177', 'Q6NSS6'], 'ARATH00418': ['A0A178W785', 'Q1H595'], 'PLAF704905': ['Q8IBA0'], 'DROME01473': ['A0A1B2AJZ5', 'Q9VMC8'], 'NEUCR01134': ['V5INF5'], 'CAPO305213': ['A0A0D2X1C2'], 'PLAF704480': ['Q8IBV0'], 'YEAST03580': ['P39516'], 'ARATH11989': ['A0A384KVY1', 'A0A7G2E8S0', 'Q8GY44'], 'RETFI23843': ['X6MMI4'], 'CHLRE11793': ['A8HUE0'], 'DROME16585': ['Q9VSS2'], 'YEAST06093': ['Q08965'], 'ECTSI00061': ['D8LAY4'], 'MOUSE36491': ['D3YYX2', 'Q99L48'], 'PLAF700073': ['Q8I261'], 'MOUSE59908': ['P05202'], 'PHYPA30050': ['A9RJF1'], 'AMPQE23821': [], 'CYAME01540': [], 'ARATH37168': ['A0A178UEB4', 'F4KD38'], 'CAPO300607': ['A0A0D2X0H1'], 'ACACA02123': ['L8HCL2'], 'MOUSE09876': ['Q5M9P2', 'Q9CR47'], 'DROME10295': ['Q9V597'], 'MOUSE23697': ['P62838', 'Q3UT95'], 'THAPS07885': ['B8C0E7'], 'PLAF705174': ['C0H549'], 'NAEGR00736': ['D2V1T0'], 'PLAF702629': ['Q8IL52'], 'AMPQE16453': ['A0A1X7UI89'], 'MOUSE58886': ['Q69Z96', 'Q9EPE9'], 'PHYPA07096': ['A9TK71'], 'CHLRE04655': ['A0A2K3DR83'], 'CAEEL07440': ['Q18511'], 'HUMAN50217': ['Q9Y672', 'S4R350'], 'PLAF702316': ['Q8IM10'], 'DROME13143': ['Q9VVL7'], 'DROME20411': ['O62531'], 'CAPO305159': ['A0A0D2VKF1'], 'PLAF702038': ['Q8IDI4'], 'CYAME02593': [], 'DROME21857': ['Q9VBI2'], 'CAPO303027': ['A0A0D2WTH4'], 'AMPQE16382': [], 'YEAST03719': ['A0A6A5PSL8', 'P32861'], 'RETFI26946': ['X6NSC7'], 'CYAME03896': [], 'PHYPA03750': ['A9TVD5'], 'ECTSI00739': ['D7FNJ4'], 'CYAME04859': [], 'ECTSI04849': ['D8LF06'], 'YEAST00249': ['P04912'], 'NAEGR00413': ['D2VFI1'], 'ACACA08095': ['L8GYM5'], 'CAEEL07897': ['Q09236'], 'DICDI12189': ['Q54C25'], 'PLAF704791': ['Q8IAY9'], 'DROME26930': ['Q9W392'], 'PHYPA19373': ['A0A2K1L4A6'], 'DROME04058': ['Q8IP45'], 'THAPS02067': ['B8CAH9'], 'NAEGR00489': [], 'ARATH33733': ['A0A178UQP3', 'A0A5S9Y6U5', 'A0A654G1K0', 'A0A7G2F7Y4', 'Q9LFS8'], 'AMPQE21477': ['A0A1X7V4P9'], 'PLAF700476': ['Q8IJ66'], 'CYAME02717': [], 'HUMAN81728': ['A0A2R8Y811', 'P62263'], 'THAPS01247': ['B8C935'], 'DICDI06261': ['Q54UQ4'], 'PLAF704200': ['C6KT18', 'P40282'], 'CAPO304103': ['A0A0D2WXI1'], 'NAEGR00920': ['D2V7D8'], 'DICDI09842': ['Q54J26'], 'MOUSE63292': ['Q564E8', 'Q9D8E6'], 'YEAST05904': ['A0A6A5Q627', 'P14126'], 'ARATH37622': ['A0A178UDN6', 'Q8L953'], 'ARATH17825': ['A0A178VBG6', 'Q9CAV0'], 'MOUSE08676': ['P62192', 'Q542I9'], 'DROME23284': ['Q8T989', 'Q9VG59'], 'THAPS05207': ['B8BVU8'], 'YEAST04322': ['Q06706'], 'PHYPA32539': ['A9RCY9'], 'HUMAN56670': ['B7ZBH1', 'P56537'], 'CYAME00789': [], 'ECTSI03028': ['D7FXN4'], 'CAEEL08774': ['Q21489'], 'YEAST02164': ['P38628'], 'YEAST03099': ['A0A6A5PX69', 'P38791'], 'CAPO305039': ['A0A0D2X183'], 'DICDI02351': ['P13022'], 'ECTSI06553': ['D7FT78'], 'DROME23708': ['A0A0B4LH54', 'Q9VGP0'], 'DROME27458': ['F3YDH0', 'P29844'], 'THAPS06164': ['B8BWU2'], 'PHYPA01937': ['A9U0G7'], 'PHYPA28830': ['A0A7I4BCL5', 'A9RMW2'], 'HUMAN51854': ['A0A1B0GXI6', 'A0A8V8TLU0', 'A0A8V8TLW3', 'A0A8V8TLX3', 'A0A8V8TM05', 'A0A8V8TMD1', 'A0A8V8TMF8', 'A0A8V8TMG7', 'A0A8V8TMH2', 'A0A8V8TNB6', 'A0A8V8TNG0', 'A0A8V8TNM6', 'A0A8V8TNR0', 'Q9NRW7'], 'NEUCR02347': ['Q7S302'], 'NAEGR00454': ['D2VIF1'], 'MOUSE04724': ['A2A4P0', 'Q3UQQ4', 'Q5DTN5'], 'THAPS06341': ['B8BXC2'], 'ECTSI10937': ['D7FWI7', 'D7G4I9', 'D8LFG7'], 'DROME24596': ['Q9VNB9'], 'THAPS08956': ['B8C514'], 'PHYPA21249': ['A0A2K1K6V1'], 'CAPO302876': ['A0A0D2WQZ7'], 'ECTSI02684': ['D7FWW3'], 'ECTSI08833': ['D7FZX3'], 'CAPO303256': [], 'THAPS01547': ['B8C8U9'], 'DICDI10966': ['B0G172'], 'CHLRE16772': ['A8JGX0'], 'CAEEL12783': ['A0A0K3AY70', 'Q17391'], 'PARTE25189': ['A0D7M6'], 'CAPO300476': ['A0A0D2WH66'], 'AMPQE17335': ['A0A1X7UKI1'], 'DROME18183': ['Q9GQ89', 'Q9VAD4'], 'NEUCR02045': ['O74633'], 'DROME08956': ['Q9W107'], 'CAPO306431': ['A0A0D2X333'], 'DROME23952': ['Q9GQM7', 'Q9VDC3'], 'CAPO307445': ['A0A0D2WVL4'], 'DROME07690': ['Q7JZ53'], 'MOUSE11805': ['G3X8U3'], 'PARTE28173': ['A0CXP2'], 'DICDI07652': ['Q54QJ9'], 'PHYPA18692': ['A0A2K1L0W1'], 'ECTSI10464': ['D7FV44'], 'ACACA11444': ['L8GNH7'], 'AMPQE26707': ['A0A1X7VQ23'], 'CAEEL06153': ['Q9U2F6'], 'CAPO302871': ['A0A0D2VST9'], 'DICDI02478': ['Q55A15'], 'CAEEL06508': ['Q9XWI6'], 'DICDI06101': ['Q9U3X4'], 'YEAST03752': ['P26793'], 'CAPO300556': ['A0A0D2VGI8'], 'THAPS01965': ['B8CA75'], 'CAEEL07858': ['Q11190'], 'HUMAN46690': ['M0QXX8', 'M0R1L7', 'O43633'], 'PARTE26808': ['A0D2T0'], 'ACACA11129': ['L8GNZ5'], 'DICDI11209': ['Q54F07'], 'MOUSE48806': ['P47754', 'Q3UBZ3', 'Q3UCD2', 'Q5DQJ3'], 'NAEGR04933': ['D2VNA0'], 'PARTE13184': ['A0EFB5'], 'DROME00681': ['Q8MRF8', 'Q9VQR8', 'T2FFJ2'], 'MOUSE34573': ['Q569Y6', 'Q9CZY3'], 'MOUSE39706': ['Q9JLN9'], 'ARATH35046': ['A0A178UGS9', 'A0A654G3U5', 'A0A7G2FCX0', 'Q8GXB7'], 'ECTSI07951': ['D7G1Y9'], 'RETFI18636': ['X6LWQ2'], 'PLAF700218': ['Q8IJW0'], 'NEUCR00808': ['Q1K7K3', 'Q9C227'], 'HUMAN16543': ['Q99797'], 'THAPS04830': ['B8BUS2'], 'ACACA00261': ['L8HHU6'], 'PHYPA07490': ['A9TJC3'], 'CHLRE09922': ['A0A2K3E3H5'], 'DROME15377': ['E5KYS9', 'E5KYT3', 'Q9VUN7'], 'PARTE28763': ['A0CUD4'], 'CYAME03593': [], 'ARATH31345': ['A0A178UVT9', 'Q9SVA6'], 'CAEEL15673': ['G5EFG5'], 'THAPS09424': ['B8C460'], 'CYAME01906': [], 'NAEGR00398': ['D2UXI1'], 'CYAME03915': [], 'PLAF701655': ['Q76NM6'], 'ARATH18229': ['A0A178V9J3', 'Q9SFU0'], 'THAPS08160': ['B8C1Z7'], 'HUMAN67422': ['B2R6D0', 'Q99460'], 'DROME06234': ['Q7JR58'], 'PHYPA29553': ['A0A7I4DKM1'], 'PLAF700759': ['Q8IIC5'], 'MOUSE11680': ['Q3THL5', 'Q80X73'], 'ECTSI04765': ['D8LES2'], 'PARTE06384': ['A0BYN1'], 'ARATH13419': ['A0A178VWK2', 'Q9SEZ6'], 'ECTSI05345': ['D8LPN5'], 'CYAME04099': [], 'PLAF700698': ['P38545', 'Q7KQK6'], 'PHYPA23106': ['A0A2K1JIT6'], 'DROME14083': ['Q9VSY8'], 'TRYB202702': ['Q57YH3', 'Q8WRU1'], 'PARTE05300': ['A0C2W5'], 'CHLRE08460': ['A0A2K3CNY2', 'A0A2K3CNZ0'], 'TRYB200369': ['Q38BK0'], 'DROME01738': ['M9PG47', 'P13008'], 'CAPO301647': ['A0A0D2WME3'], 'ACACA03247': ['L8HCS5'], 'PLAF700319': ['C6S3D1'], 'ACACA07578': ['L8GZ75'], 'THAPS08235': ['B8C272'], 'ECTSI06139': ['D7G454'], 'DROME22164': ['Q8IMI7', 'Q9VA91']}\n"
     ]
    }
   ],
   "source": [
    "mapping_df = pd.read_csv(\"oma_to_uniprot_mapping.csv\", index_col=0)\n",
    "example = mapping_df.iloc[0]\n",
    "print( example)\n",
    "#use ret_refs to get xref\n",
    "#check xref pickle\n",
    "if os.path.exists(\"xref_data.pkl\"):\n",
    "\tprint(\"Loading xref data from pickle file...\")\n",
    "\txref_data = pd.read_pickle(\"xref_data.pkl\")\n",
    "else:\n",
    "\tprint(\"Xref data pickle not found, generating it...\")\n",
    "\t# Generate xref data\n",
    "\t# This will take some time depending on the number of OMA IDs\n",
    "\t# and the speed of the OMA API\n",
    "\txref_data = ret_refs(mapping_df.omaid.to_list() , mapper, linkout)\n",
    "#map xref_data to a DataFrame\n",
    "print(xref_data)"
   ]
  },
  {
   "cell_type": "code",
   "execution_count": 116,
   "id": "7f45d05c",
   "metadata": {},
   "outputs": [],
   "source": [
    "mapping_df['uniprot_refs'] = mapping_df['omaid'].map(xref_data)"
   ]
  },
  {
   "cell_type": "code",
   "execution_count": 117,
   "id": "59d94701",
   "metadata": {},
   "outputs": [],
   "source": [
    "#save with uniprot_refs\n",
    "mapping_df.to_csv(\"oma_to_uniprot_mapping_with_refs.csv\", index=False)"
   ]
  },
  {
   "cell_type": "code",
   "execution_count": 118,
   "id": "e1295dda",
   "metadata": {},
   "outputs": [
    {
     "name": "stdout",
     "output_type": "stream",
     "text": [
      "        index  entry_nr                                     entry_url  \\\n",
      "0  THAPS04302  20294321  https://omabrowser.org/api/protein/20294321/   \n",
      "1  NAEGR05573   7221363   https://omabrowser.org/api/protein/7221363/   \n",
      "2  CYAME00980  19565914  https://omabrowser.org/api/protein/19565914/   \n",
      "3  TRYB204190   7199379   https://omabrowser.org/api/protein/7199379/   \n",
      "4  CAPO304696   7392554   https://omabrowser.org/api/protein/7392554/   \n",
      "\n",
      "        omaid   canonicalid                      sequence_md5  \\\n",
      "0  THAPS04302        B8BT93  2ff7284c3f9dbc99b3b15eadcbc04312   \n",
      "1  NAEGR05573        D2UXH8  287afcc288060dfa301c0957863755bf   \n",
      "2  CYAME00980       CML272C  63433c408ab217ab86000576cf745a9a   \n",
      "3  TRYB204190    FEN1_TRYB2  e77b1149fd33a4e06e67374ae3b1bbc5   \n",
      "4  CAPO304696  XP_004349858  2df47cf6ca86cbe5ed5282ee7ab20f31   \n",
      "\n",
      "   sequence_length                                            species  \\\n",
      "0              629  {'code': 'THAPS', 'taxon_id': 296543, 'species...   \n",
      "1             1206  {'code': 'NAEGR', 'taxon_id': 744533, 'species...   \n",
      "2              297  {'code': 'CYAME', 'taxon_id': 45157, 'species'...   \n",
      "3              393  {'code': 'TRYB2', 'taxon_id': 185431, 'species...   \n",
      "4              237  {'code': 'CAPO3', 'taxon_id': 595528, 'species...   \n",
      "\n",
      "   oma_group       oma_hog_id  ...  \\\n",
      "0     926837     HOG:E0802081  ...   \n",
      "1    1067390  HOG:E0802659.3a  ...   \n",
      "2    1417310     HOG:E0802449  ...   \n",
      "3    1426798  HOG:E1027304.2b  ...   \n",
      "4    1049443  HOG:E0811202.5a  ...   \n",
      "\n",
      "                                             domains  \\\n",
      "0  https://omabrowser.org/api/protein/20294321/do...   \n",
      "1  https://omabrowser.org/api/protein/7221363/dom...   \n",
      "2  https://omabrowser.org/api/protein/19565914/do...   \n",
      "3  https://omabrowser.org/api/protein/7199379/dom...   \n",
      "4  https://omabrowser.org/api/protein/7392554/dom...   \n",
      "\n",
      "                                                xref  \\\n",
      "0  https://omabrowser.org/api/protein/20294321/xref/   \n",
      "1   https://omabrowser.org/api/protein/7221363/xref/   \n",
      "2  https://omabrowser.org/api/protein/19565914/xref/   \n",
      "3   https://omabrowser.org/api/protein/7199379/xref/   \n",
      "4   https://omabrowser.org/api/protein/7392554/xref/   \n",
      "\n",
      "                                           orthologs  homoeologs  \\\n",
      "0  https://omabrowser.org/api/protein/20294321/or...         NaN   \n",
      "1  https://omabrowser.org/api/protein/7221363/ort...         NaN   \n",
      "2  https://omabrowser.org/api/protein/19565914/or...         NaN   \n",
      "3  https://omabrowser.org/api/protein/7199379/ort...         NaN   \n",
      "4  https://omabrowser.org/api/protein/7392554/ort...         NaN   \n",
      "\n",
      "                                       gene_ontology  \\\n",
      "0  https://omabrowser.org/api/protein/20294321/ge...   \n",
      "1  https://omabrowser.org/api/protein/7221363/gen...   \n",
      "2  https://omabrowser.org/api/protein/19565914/ge...   \n",
      "3  https://omabrowser.org/api/protein/7199379/gen...   \n",
      "4  https://omabrowser.org/api/protein/7392554/gen...   \n",
      "\n",
      "                               oma_group_url  \\\n",
      "0   https://omabrowser.org/api/group/926837/   \n",
      "1  https://omabrowser.org/api/group/1067390/   \n",
      "2  https://omabrowser.org/api/group/1417310/   \n",
      "3  https://omabrowser.org/api/group/1426798/   \n",
      "4  https://omabrowser.org/api/group/1049443/   \n",
      "\n",
      "                                     oma_hog_members  \\\n",
      "0  https://omabrowser.org/api/hog/HOG:E0802081/me...   \n",
      "1  https://omabrowser.org/api/hog/HOG:E0802659.3a...   \n",
      "2  https://omabrowser.org/api/hog/HOG:E0802449/me...   \n",
      "3  https://omabrowser.org/api/hog/HOG:E1027304.2b...   \n",
      "4  https://omabrowser.org/api/hog/HOG:E0811202.5a...   \n",
      "\n",
      "                                            isoforms  \\\n",
      "0  https://omabrowser.org/api/protein/20294321/is...   \n",
      "1  https://omabrowser.org/api/protein/7221363/iso...   \n",
      "2  https://omabrowser.org/api/protein/19565914/is...   \n",
      "3  https://omabrowser.org/api/protein/7199379/iso...   \n",
      "4  https://omabrowser.org/api/protein/7392554/iso...   \n",
      "\n",
      "  alternative_isoforms_urls  uniprot_refs  \n",
      "0                        []      [B8BT93]  \n",
      "1                        []      [D2UXH8]  \n",
      "2                        []            []  \n",
      "3                        []      [Q57WW6]  \n",
      "4                        []  [A0A0D2X0Z9]  \n",
      "\n",
      "[5 rows x 28 columns]\n"
     ]
    }
   ],
   "source": [
    "print( mapping_df.head() )"
   ]
  },
  {
   "cell_type": "code",
   "execution_count": 119,
   "id": "a8e3253e",
   "metadata": {},
   "outputs": [
    {
     "name": "stdout",
     "output_type": "stream",
     "text": [
      "        index  entry_nr                                     entry_url  \\\n",
      "0  THAPS04302  20294321  https://omabrowser.org/api/protein/20294321/   \n",
      "1  NAEGR05573   7221363   https://omabrowser.org/api/protein/7221363/   \n",
      "3  TRYB204190   7199379   https://omabrowser.org/api/protein/7199379/   \n",
      "4  CAPO304696   7392554   https://omabrowser.org/api/protein/7392554/   \n",
      "5  DROME27485  17560034  https://omabrowser.org/api/protein/17560034/   \n",
      "\n",
      "        omaid   canonicalid                      sequence_md5  \\\n",
      "0  THAPS04302        B8BT93  2ff7284c3f9dbc99b3b15eadcbc04312   \n",
      "1  NAEGR05573        D2UXH8  287afcc288060dfa301c0957863755bf   \n",
      "3  TRYB204190    FEN1_TRYB2  e77b1149fd33a4e06e67374ae3b1bbc5   \n",
      "4  CAPO304696  XP_004349858  2df47cf6ca86cbe5ed5282ee7ab20f31   \n",
      "5  DROME27485    ZPR1_DROME  17474110099554159b2ad79dd5d455b3   \n",
      "\n",
      "   sequence_length                                            species  \\\n",
      "0              629  {'code': 'THAPS', 'taxon_id': 296543, 'species...   \n",
      "1             1206  {'code': 'NAEGR', 'taxon_id': 744533, 'species...   \n",
      "3              393  {'code': 'TRYB2', 'taxon_id': 185431, 'species...   \n",
      "4              237  {'code': 'CAPO3', 'taxon_id': 595528, 'species...   \n",
      "5              457  {'code': 'DROME', 'taxon_id': 7227, 'species':...   \n",
      "\n",
      "   oma_group       oma_hog_id  ...  \\\n",
      "0     926837     HOG:E0802081  ...   \n",
      "1    1067390  HOG:E0802659.3a  ...   \n",
      "3    1426798  HOG:E1027304.2b  ...   \n",
      "4    1049443  HOG:E0811202.5a  ...   \n",
      "5    1410217     HOG:E0811223  ...   \n",
      "\n",
      "                                                xref  \\\n",
      "0  https://omabrowser.org/api/protein/20294321/xref/   \n",
      "1   https://omabrowser.org/api/protein/7221363/xref/   \n",
      "3   https://omabrowser.org/api/protein/7199379/xref/   \n",
      "4   https://omabrowser.org/api/protein/7392554/xref/   \n",
      "5  https://omabrowser.org/api/protein/17560034/xref/   \n",
      "\n",
      "                                           orthologs  homoeologs  \\\n",
      "0  https://omabrowser.org/api/protein/20294321/or...         NaN   \n",
      "1  https://omabrowser.org/api/protein/7221363/ort...         NaN   \n",
      "3  https://omabrowser.org/api/protein/7199379/ort...         NaN   \n",
      "4  https://omabrowser.org/api/protein/7392554/ort...         NaN   \n",
      "5  https://omabrowser.org/api/protein/17560034/or...         NaN   \n",
      "\n",
      "                                       gene_ontology  \\\n",
      "0  https://omabrowser.org/api/protein/20294321/ge...   \n",
      "1  https://omabrowser.org/api/protein/7221363/gen...   \n",
      "3  https://omabrowser.org/api/protein/7199379/gen...   \n",
      "4  https://omabrowser.org/api/protein/7392554/gen...   \n",
      "5  https://omabrowser.org/api/protein/17560034/ge...   \n",
      "\n",
      "                               oma_group_url  \\\n",
      "0   https://omabrowser.org/api/group/926837/   \n",
      "1  https://omabrowser.org/api/group/1067390/   \n",
      "3  https://omabrowser.org/api/group/1426798/   \n",
      "4  https://omabrowser.org/api/group/1049443/   \n",
      "5  https://omabrowser.org/api/group/1410217/   \n",
      "\n",
      "                                     oma_hog_members  \\\n",
      "0  https://omabrowser.org/api/hog/HOG:E0802081/me...   \n",
      "1  https://omabrowser.org/api/hog/HOG:E0802659.3a...   \n",
      "3  https://omabrowser.org/api/hog/HOG:E1027304.2b...   \n",
      "4  https://omabrowser.org/api/hog/HOG:E0811202.5a...   \n",
      "5  https://omabrowser.org/api/hog/HOG:E0811223/me...   \n",
      "\n",
      "                                            isoforms  \\\n",
      "0  https://omabrowser.org/api/protein/20294321/is...   \n",
      "1  https://omabrowser.org/api/protein/7221363/iso...   \n",
      "3  https://omabrowser.org/api/protein/7199379/iso...   \n",
      "4  https://omabrowser.org/api/protein/7392554/iso...   \n",
      "5  https://omabrowser.org/api/protein/17560034/is...   \n",
      "\n",
      "  alternative_isoforms_urls  uniprot_refs      1stref  \n",
      "0                        []      [B8BT93]      B8BT93  \n",
      "1                        []      [D2UXH8]      D2UXH8  \n",
      "3                        []      [Q57WW6]      Q57WW6  \n",
      "4                        []  [A0A0D2X0Z9]  A0A0D2X0Z9  \n",
      "5                        []      [Q9W379]      Q9W379  \n",
      "\n",
      "[5 rows x 29 columns]\n"
     ]
    }
   ],
   "source": [
    "mapping_df['1stref'] = mapping_df['uniprot_refs'].apply(lambda x: x[0] if isinstance(x, list) and len(x) > 0 else None)\n",
    "#eliminate rows with no 1stref\n",
    "mapping_df = mapping_df[mapping_df['1stref'].notnull()]\n",
    "print(mapping_df.head())"
   ]
  },
  {
   "cell_type": "code",
   "execution_count": 120,
   "id": "8a38ceb6",
   "metadata": {},
   "outputs": [],
   "source": [
    "mapping_df['struct_folder'] = mapping_df['oma_group'].apply(lambda x: f\"./families/Information_benchmark/marker_genes/{x}/structs\")"
   ]
  },
  {
   "cell_type": "code",
   "execution_count": null,
   "id": "f7615530",
   "metadata": {},
   "outputs": [],
   "source": [
    "from src.AFDB_tools import grab_struct\n",
    "import tqdm"
   ]
  },
  {
   "cell_type": "code",
   "execution_count": 122,
   "id": "63363949",
   "metadata": {},
   "outputs": [
    {
     "name": "stderr",
     "output_type": "stream",
     "text": [
      "245it [00:00, 885.53it/s] "
     ]
    },
    {
     "name": "stdout",
     "output_type": "stream",
     "text": [
      "error downloading structure for D2V0G9 HTTP Error 404: Not Found\n",
      "https://alphafold.ebi.ac.uk/files/AF-D2V0G9-F1-model_v4.pdb\n",
      "error downloading structure for O15881 HTTP Error 404: Not Found\n",
      "https://alphafold.ebi.ac.uk/files/AF-O15881-F1-model_v4.pdb\n",
      "error downloading structure for D2UY12 HTTP Error 404: Not Found\n",
      "https://alphafold.ebi.ac.uk/files/AF-D2UY12-F1-model_v4.pdb\n"
     ]
    },
    {
     "name": "stderr",
     "output_type": "stream",
     "text": [
      "338it [00:00, 622.63it/s]"
     ]
    },
    {
     "name": "stdout",
     "output_type": "stream",
     "text": [
      "error downloading structure for A0A2K3DAU6 HTTP Error 404: Not Found\n",
      "https://alphafold.ebi.ac.uk/files/AF-A0A2K3DAU6-F1-model_v4.pdb\n",
      "error downloading structure for A0A8H4F898 HTTP Error 404: Not Found\n",
      "https://alphafold.ebi.ac.uk/files/AF-A0A8H4F898-F1-model_v4.pdb\n",
      "error downloading structure for A0A0D2UDQ5 HTTP Error 404: Not Found\n",
      "https://alphafold.ebi.ac.uk/files/AF-A0A0D2UDQ5-F1-model_v4.pdb\n",
      "error downloading structure for G5E866 HTTP Error 404: Not Found\n",
      "https://alphafold.ebi.ac.uk/files/AF-G5E866-F1-model_v4.pdb\n"
     ]
    },
    {
     "name": "stderr",
     "output_type": "stream",
     "text": [
      "530it [00:00, 612.33it/s]"
     ]
    },
    {
     "name": "stdout",
     "output_type": "stream",
     "text": [
      "error downloading structure for A0A1X7V288 HTTP Error 404: Not Found\n",
      "https://alphafold.ebi.ac.uk/files/AF-A0A1X7V288-F1-model_v4.pdb\n",
      "error downloading structure for A0D7P3 HTTP Error 404: Not Found\n",
      "https://alphafold.ebi.ac.uk/files/AF-A0D7P3-F1-model_v4.pdb\n",
      "error downloading structure for X6LSP0 HTTP Error 404: Not Found\n",
      "https://alphafold.ebi.ac.uk/files/AF-X6LSP0-F1-model_v4.pdb\n"
     ]
    },
    {
     "name": "stderr",
     "output_type": "stream",
     "text": [
      "726it [00:00, 924.73it/s]"
     ]
    },
    {
     "name": "stdout",
     "output_type": "stream",
     "text": [
      "error downloading structure for A0A178UPW5 HTTP Error 404: Not Found\n",
      "https://alphafold.ebi.ac.uk/files/AF-A0A178UPW5-F1-model_v4.pdb\n",
      "error downloading structure for A0DJB3 HTTP Error 404: Not Found\n",
      "https://alphafold.ebi.ac.uk/files/AF-A0DJB3-F1-model_v4.pdb\n",
      "error downloading structure for A0A178V904 HTTP Error 404: Not Found\n",
      "https://alphafold.ebi.ac.uk/files/AF-A0A178V904-F1-model_v4.pdb\n"
     ]
    },
    {
     "name": "stderr",
     "output_type": "stream",
     "text": [
      "835it [00:01, 745.05it/s]"
     ]
    },
    {
     "name": "stdout",
     "output_type": "stream",
     "text": [
      "error downloading structure for A0A1X7VNC8 HTTP Error 404: Not Found\n",
      "https://alphafold.ebi.ac.uk/files/AF-A0A1X7VNC8-F1-model_v4.pdb\n",
      "error downloading structure for A9RIM7 HTTP Error 404: Not Found\n",
      "https://alphafold.ebi.ac.uk/files/AF-A9RIM7-F1-model_v4.pdb\n",
      "error downloading structure for A0A8H4BUB1 HTTP Error 404: Not Found\n",
      "https://alphafold.ebi.ac.uk/files/AF-A0A8H4BUB1-F1-model_v4.pdb\n",
      "error downloading structure for A0A8H8ULD4 HTTP Error 404: Not Found\n",
      "https://alphafold.ebi.ac.uk/files/AF-A0A8H8ULD4-F1-model_v4.pdb\n"
     ]
    },
    {
     "name": "stderr",
     "output_type": "stream",
     "text": [
      "997it [00:01, 553.64it/s]"
     ]
    },
    {
     "name": "stdout",
     "output_type": "stream",
     "text": [
      "error downloading structure for A0A2K1JLW1 HTTP Error 404: Not Found\n",
      "https://alphafold.ebi.ac.uk/files/AF-A0A2K1JLW1-F1-model_v4.pdb\n",
      "error downloading structure for A0A0D2X573 HTTP Error 404: Not Found\n",
      "https://alphafold.ebi.ac.uk/files/AF-A0A0D2X573-F1-model_v4.pdb\n",
      "error downloading structure for A0A8H4BX66 HTTP Error 404: Not Found\n",
      "https://alphafold.ebi.ac.uk/files/AF-A0A8H4BX66-F1-model_v4.pdb\n"
     ]
    },
    {
     "name": "stderr",
     "output_type": "stream",
     "text": [
      "1076it [00:01, 552.14it/s]"
     ]
    },
    {
     "name": "stdout",
     "output_type": "stream",
     "text": [
      "error downloading structure for D2W323 HTTP Error 404: Not Found\n",
      "https://alphafold.ebi.ac.uk/files/AF-D2W323-F1-model_v4.pdb\n",
      "error downloading structure for A0A5S9T906 HTTP Error 404: Not Found\n",
      "https://alphafold.ebi.ac.uk/files/AF-A0A5S9T906-F1-model_v4.pdb\n",
      "error downloading structure for A0A0D2X319 HTTP Error 404: Not Found\n",
      "https://alphafold.ebi.ac.uk/files/AF-A0A0D2X319-F1-model_v4.pdb\n",
      "error downloading structure for A0A8H8UMD1 HTTP Error 404: Not Found\n",
      "https://alphafold.ebi.ac.uk/files/AF-A0A8H8UMD1-F1-model_v4.pdb\n"
     ]
    },
    {
     "name": "stderr",
     "output_type": "stream",
     "text": [
      "1191it [00:02, 452.73it/s]"
     ]
    },
    {
     "name": "stdout",
     "output_type": "stream",
     "text": [
      "error downloading structure for Q7S8K0 HTTP Error 404: Not Found\n",
      "https://alphafold.ebi.ac.uk/files/AF-Q7S8K0-F1-model_v4.pdb\n",
      "error downloading structure for Q7SBD3 HTTP Error 404: Not Found\n",
      "https://alphafold.ebi.ac.uk/files/AF-Q7SBD3-F1-model_v4.pdb\n",
      "error downloading structure for A0A9L9PXM3 HTTP Error 404: Not Found\n",
      "https://alphafold.ebi.ac.uk/files/AF-A0A9L9PXM3-F1-model_v4.pdb\n"
     ]
    },
    {
     "name": "stderr",
     "output_type": "stream",
     "text": [
      "1401it [00:02, 584.54it/s]"
     ]
    },
    {
     "name": "stdout",
     "output_type": "stream",
     "text": [
      "error downloading structure for A0A2K3D1T9 HTTP Error 404: Not Found\n",
      "https://alphafold.ebi.ac.uk/files/AF-A0A2K3D1T9-F1-model_v4.pdb\n",
      "error downloading structure for A0A2K1KEY3 HTTP Error 404: Not Found\n",
      "https://alphafold.ebi.ac.uk/files/AF-A0A2K1KEY3-F1-model_v4.pdb\n",
      "error downloading structure for A0A2K3DJF9 HTTP Error 404: Not Found\n",
      "https://alphafold.ebi.ac.uk/files/AF-A0A2K3DJF9-F1-model_v4.pdb\n"
     ]
    },
    {
     "name": "stderr",
     "output_type": "stream",
     "text": [
      "1563it [00:02, 710.01it/s]"
     ]
    },
    {
     "name": "stdout",
     "output_type": "stream",
     "text": [
      "error downloading structure for D2V5V4 HTTP Error 404: Not Found\n",
      "https://alphafold.ebi.ac.uk/files/AF-D2V5V4-F1-model_v4.pdb\n",
      "error downloading structure for A0A2K3D577 HTTP Error 404: Not Found\n",
      "https://alphafold.ebi.ac.uk/files/AF-A0A2K3D577-F1-model_v4.pdb\n",
      "error downloading structure for A0A0B4KHL2 HTTP Error 404: Not Found\n",
      "https://alphafold.ebi.ac.uk/files/AF-A0A0B4KHL2-F1-model_v4.pdb\n"
     ]
    },
    {
     "name": "stderr",
     "output_type": "stream",
     "text": [
      "1708it [00:02, 584.50it/s]"
     ]
    },
    {
     "name": "stdout",
     "output_type": "stream",
     "text": [
      "error downloading structure for D2V0Z5 HTTP Error 404: Not Found\n",
      "https://alphafold.ebi.ac.uk/files/AF-D2V0Z5-F1-model_v4.pdb\n",
      "error downloading structure for A0BQ90 HTTP Error 404: Not Found\n",
      "https://alphafold.ebi.ac.uk/files/AF-A0BQ90-F1-model_v4.pdb\n",
      "error downloading structure for A0A2K1IX27 HTTP Error 404: Not Found\n",
      "https://alphafold.ebi.ac.uk/files/AF-A0A2K1IX27-F1-model_v4.pdb\n",
      "error downloading structure for A0A2K1KKV4 HTTP Error 404: Not Found\n",
      "https://alphafold.ebi.ac.uk/files/AF-A0A2K1KKV4-F1-model_v4.pdb\n",
      "error downloading structure for A0A8H8UKY7 HTTP Error 404: Not Found\n",
      "https://alphafold.ebi.ac.uk/files/AF-A0A8H8UKY7-F1-model_v4.pdb\n",
      "error downloading structure for O08847 HTTP Error 404: Not Found\n",
      "https://alphafold.ebi.ac.uk/files/AF-O08847-F1-model_v4.pdb\n",
      "error downloading structure for J9R021 HTTP Error 404: Not Found\n",
      "https://alphafold.ebi.ac.uk/files/AF-J9R021-F1-model_v4.pdb\n"
     ]
    },
    {
     "name": "stderr",
     "output_type": "stream",
     "text": [
      "1769it [00:03, 366.33it/s]"
     ]
    },
    {
     "name": "stdout",
     "output_type": "stream",
     "text": [
      "error downloading structure for H0YKI9 HTTP Error 404: Not Found\n",
      "https://alphafold.ebi.ac.uk/files/AF-H0YKI9-F1-model_v4.pdb\n",
      "error downloading structure for A0A994J5K1 HTTP Error 404: Not Found\n",
      "https://alphafold.ebi.ac.uk/files/AF-A0A994J5K1-F1-model_v4.pdb\n",
      "error downloading structure for A0CY10 HTTP Error 404: Not Found\n",
      "https://alphafold.ebi.ac.uk/files/AF-A0CY10-F1-model_v4.pdb\n"
     ]
    },
    {
     "name": "stderr",
     "output_type": "stream",
     "text": [
      "1985it [00:03, 557.38it/s]"
     ]
    },
    {
     "name": "stdout",
     "output_type": "stream",
     "text": [
      "error downloading structure for D2VJC0 HTTP Error 404: Not Found\n",
      "https://alphafold.ebi.ac.uk/files/AF-D2VJC0-F1-model_v4.pdb\n",
      "error downloading structure for Q7RXJ6 HTTP Error 404: Not Found\n",
      "https://alphafold.ebi.ac.uk/files/AF-Q7RXJ6-F1-model_v4.pdb\n",
      "error downloading structure for D7FNG4 HTTP Error 404: Not Found\n",
      "https://alphafold.ebi.ac.uk/files/AF-D7FNG4-F1-model_v4.pdb\n"
     ]
    },
    {
     "name": "stderr",
     "output_type": "stream",
     "text": [
      "2134it [00:03, 533.37it/s]"
     ]
    },
    {
     "name": "stdout",
     "output_type": "stream",
     "text": [
      "error downloading structure for X6P1L5 HTTP Error 404: Not Found\n",
      "https://alphafold.ebi.ac.uk/files/AF-X6P1L5-F1-model_v4.pdb\n",
      "error downloading structure for A0A8Q3SHT1 HTTP Error 404: Not Found\n",
      "https://alphafold.ebi.ac.uk/files/AF-A0A8Q3SHT1-F1-model_v4.pdb\n",
      "error downloading structure for L8H0U7 HTTP Error 404: Not Found\n",
      "https://alphafold.ebi.ac.uk/files/AF-L8H0U7-F1-model_v4.pdb\n"
     ]
    },
    {
     "name": "stderr",
     "output_type": "stream",
     "text": [
      "2196it [00:03, 409.13it/s]"
     ]
    },
    {
     "name": "stdout",
     "output_type": "stream",
     "text": [
      "error downloading structure for Q4V5E9 HTTP Error 404: Not Found\n",
      "https://alphafold.ebi.ac.uk/files/AF-Q4V5E9-F1-model_v4.pdb\n",
      "error downloading structure for X6MD81 HTTP Error 404: Not Found\n",
      "https://alphafold.ebi.ac.uk/files/AF-X6MD81-F1-model_v4.pdb\n",
      "error downloading structure for A0A2K1IHM2 HTTP Error 404: Not Found\n",
      "https://alphafold.ebi.ac.uk/files/AF-A0A2K1IHM2-F1-model_v4.pdb\n"
     ]
    },
    {
     "name": "stderr",
     "output_type": "stream",
     "text": [
      "2295it [00:04, 411.13it/s]"
     ]
    },
    {
     "name": "stdout",
     "output_type": "stream",
     "text": [
      "error downloading structure for L8HFM7 HTTP Error 404: Not Found\n",
      "https://alphafold.ebi.ac.uk/files/AF-L8HFM7-F1-model_v4.pdb\n",
      "error downloading structure for A0A0D2VYG0 HTTP Error 404: Not Found\n",
      "https://alphafold.ebi.ac.uk/files/AF-A0A0D2VYG0-F1-model_v4.pdb\n",
      "error downloading structure for B8BW81 HTTP Error 404: Not Found\n",
      "https://alphafold.ebi.ac.uk/files/AF-B8BW81-F1-model_v4.pdb\n",
      "error downloading structure for A0A8H8ULD3 HTTP Error 404: Not Found\n",
      "https://alphafold.ebi.ac.uk/files/AF-A0A8H8ULD3-F1-model_v4.pdb\n",
      "error downloading structure for A0A8H4BX09 HTTP Error 404: Not Found\n",
      "https://alphafold.ebi.ac.uk/files/AF-A0A8H4BX09-F1-model_v4.pdb\n",
      "error downloading structure for L8GIV8 HTTP Error 404: Not Found\n",
      "https://alphafold.ebi.ac.uk/files/AF-L8GIV8-F1-model_v4.pdb\n",
      "error downloading structure for Q84KP6 HTTP Error 404: Not Found\n",
      "https://alphafold.ebi.ac.uk/files/AF-Q84KP6-F1-model_v4.pdb\n"
     ]
    },
    {
     "name": "stderr",
     "output_type": "stream",
     "text": [
      "2342it [00:04, 267.28it/s]"
     ]
    },
    {
     "name": "stdout",
     "output_type": "stream",
     "text": [
      "error downloading structure for A9UNH9 HTTP Error 404: Not Found\n",
      "https://alphafold.ebi.ac.uk/files/AF-A9UNH9-F1-model_v4.pdb\n",
      "error downloading structure for A9RYA1 HTTP Error 404: Not Found\n",
      "https://alphafold.ebi.ac.uk/files/AF-A9RYA1-F1-model_v4.pdb\n",
      "error downloading structure for A0A178W8K9 HTTP Error 404: Not Found\n",
      "https://alphafold.ebi.ac.uk/files/AF-A0A178W8K9-F1-model_v4.pdb\n"
     ]
    },
    {
     "name": "stderr",
     "output_type": "stream",
     "text": [
      "2585it [00:04, 509.64it/s]"
     ]
    },
    {
     "name": "stdout",
     "output_type": "stream",
     "text": [
      "error downloading structure for Q7SBT9 HTTP Error 404: Not Found\n",
      "https://alphafold.ebi.ac.uk/files/AF-Q7SBT9-F1-model_v4.pdb\n",
      "error downloading structure for B8C4M1 HTTP Error 404: Not Found\n",
      "https://alphafold.ebi.ac.uk/files/AF-B8C4M1-F1-model_v4.pdb\n",
      "error downloading structure for A0D8K9 HTTP Error 404: Not Found\n",
      "https://alphafold.ebi.ac.uk/files/AF-A0D8K9-F1-model_v4.pdb\n"
     ]
    },
    {
     "name": "stderr",
     "output_type": "stream",
     "text": [
      "2646it [00:05, 497.53it/s]"
     ]
    },
    {
     "name": "stdout",
     "output_type": "stream",
     "text": [
      "error downloading structure for B7ZKR9 HTTP Error 404: Not Found\n",
      "https://alphafold.ebi.ac.uk/files/AF-B7ZKR9-F1-model_v4.pdb\n",
      "error downloading structure for A0A8V8TNX6 HTTP Error 404: Not Found\n",
      "https://alphafold.ebi.ac.uk/files/AF-A0A8V8TNX6-F1-model_v4.pdb\n",
      "error downloading structure for A9RTW1 HTTP Error 404: Not Found\n",
      "https://alphafold.ebi.ac.uk/files/AF-A9RTW1-F1-model_v4.pdb\n",
      "error downloading structure for A0A1C7ZN09 HTTP Error 404: Not Found\n",
      "https://alphafold.ebi.ac.uk/files/AF-A0A1C7ZN09-F1-model_v4.pdb\n"
     ]
    },
    {
     "name": "stderr",
     "output_type": "stream",
     "text": [
      "2751it [00:05, 428.37it/s]"
     ]
    },
    {
     "name": "stdout",
     "output_type": "stream",
     "text": [
      "error downloading structure for L8GWY4 HTTP Error 404: Not Found\n",
      "https://alphafold.ebi.ac.uk/files/AF-L8GWY4-F1-model_v4.pdb\n",
      "error downloading structure for A0A994J3Z0 HTTP Error 404: Not Found\n",
      "https://alphafold.ebi.ac.uk/files/AF-A0A994J3Z0-F1-model_v4.pdb\n",
      "error downloading structure for A0A178VV92 HTTP Error 404: Not Found\n",
      "https://alphafold.ebi.ac.uk/files/AF-A0A178VV92-F1-model_v4.pdb\n"
     ]
    },
    {
     "name": "stderr",
     "output_type": "stream",
     "text": [
      "2877it [00:05, 543.86it/s]"
     ]
    },
    {
     "name": "stdout",
     "output_type": "stream",
     "text": [
      "error downloading structure for A0A2K3E5Q8 HTTP Error 404: Not Found\n",
      "https://alphafold.ebi.ac.uk/files/AF-A0A2K3E5Q8-F1-model_v4.pdb\n",
      "error downloading structure for A0A0D2WJE0 HTTP Error 404: Not Found\n",
      "https://alphafold.ebi.ac.uk/files/AF-A0A0D2WJE0-F1-model_v4.pdb\n",
      "error downloading structure for A0A8H4BZ97 HTTP Error 404: Not Found\n",
      "https://alphafold.ebi.ac.uk/files/AF-A0A8H4BZ97-F1-model_v4.pdb\n"
     ]
    },
    {
     "name": "stderr",
     "output_type": "stream",
     "text": [
      "2984it [00:05, 392.78it/s]"
     ]
    },
    {
     "name": "stdout",
     "output_type": "stream",
     "text": [
      "error downloading structure for Q7S6V7 HTTP Error 404: Not Found\n",
      "https://alphafold.ebi.ac.uk/files/AF-Q7S6V7-F1-model_v4.pdb\n",
      "error downloading structure for X6N3M5 HTTP Error 404: Not Found\n",
      "https://alphafold.ebi.ac.uk/files/AF-X6N3M5-F1-model_v4.pdb\n",
      "error downloading structure for A0A8V8TNZ9 HTTP Error 404: Not Found\n",
      "https://alphafold.ebi.ac.uk/files/AF-A0A8V8TNZ9-F1-model_v4.pdb\n"
     ]
    },
    {
     "name": "stderr",
     "output_type": "stream",
     "text": [
      "3110it [00:06, 438.86it/s]"
     ]
    },
    {
     "name": "stdout",
     "output_type": "stream",
     "text": [
      "error downloading structure for H7C0A0 HTTP Error 404: Not Found\n",
      "https://alphafold.ebi.ac.uk/files/AF-H7C0A0-F1-model_v4.pdb\n",
      "error downloading structure for L8GTL5 HTTP Error 404: Not Found\n",
      "https://alphafold.ebi.ac.uk/files/AF-L8GTL5-F1-model_v4.pdb\n",
      "error downloading structure for A0A1X7VVZ9 HTTP Error 404: Not Found\n",
      "https://alphafold.ebi.ac.uk/files/AF-A0A1X7VVZ9-F1-model_v4.pdb\n"
     ]
    },
    {
     "name": "stderr",
     "output_type": "stream",
     "text": [
      "3314it [00:06, 652.44it/s]"
     ]
    },
    {
     "name": "stdout",
     "output_type": "stream",
     "text": [
      "error downloading structure for A0A8Q3SIS9 HTTP Error 404: Not Found\n",
      "https://alphafold.ebi.ac.uk/files/AF-A0A8Q3SIS9-F1-model_v4.pdb\n",
      "error downloading structure for B8CAU9 HTTP Error 404: Not Found\n",
      "https://alphafold.ebi.ac.uk/files/AF-B8CAU9-F1-model_v4.pdb\n",
      "error downloading structure for B8CE77 HTTP Error 404: Not Found\n",
      "https://alphafold.ebi.ac.uk/files/AF-B8CE77-F1-model_v4.pdb\n"
     ]
    },
    {
     "name": "stderr",
     "output_type": "stream",
     "text": [
      "3387it [00:06, 530.04it/s]"
     ]
    },
    {
     "name": "stdout",
     "output_type": "stream",
     "text": [
      "error downloading structure for A0A8H4BV16 HTTP Error 404: Not Found\n",
      "https://alphafold.ebi.ac.uk/files/AF-A0A8H4BV16-F1-model_v4.pdb\n",
      "error downloading structure for Q80XH7 HTTP Error 404: Not Found\n",
      "https://alphafold.ebi.ac.uk/files/AF-Q80XH7-F1-model_v4.pdb\n",
      "error downloading structure for A0A8V8TNX3 HTTP Error 404: Not Found\n",
      "https://alphafold.ebi.ac.uk/files/AF-A0A8V8TNX3-F1-model_v4.pdb\n"
     ]
    },
    {
     "name": "stderr",
     "output_type": "stream",
     "text": [
      "3509it [00:06, 482.07it/s]"
     ]
    },
    {
     "name": "stdout",
     "output_type": "stream",
     "text": [
      "error downloading structure for D2VT72 HTTP Error 404: Not Found\n",
      "https://alphafold.ebi.ac.uk/files/AF-D2VT72-F1-model_v4.pdb\n",
      "error downloading structure for B8BVD1 HTTP Error 404: Not Found\n",
      "https://alphafold.ebi.ac.uk/files/AF-B8BVD1-F1-model_v4.pdb\n",
      "error downloading structure for A0A2K1JG38 HTTP Error 404: Not Found\n",
      "https://alphafold.ebi.ac.uk/files/AF-A0A2K1JG38-F1-model_v4.pdb\n"
     ]
    },
    {
     "name": "stderr",
     "output_type": "stream",
     "text": [
      "3636it [00:06, 594.21it/s]"
     ]
    },
    {
     "name": "stdout",
     "output_type": "stream",
     "text": [
      "error downloading structure for A0A1I9LME9 HTTP Error 404: Not Found\n",
      "https://alphafold.ebi.ac.uk/files/AF-A0A1I9LME9-F1-model_v4.pdb\n",
      "error downloading structure for A0A0D2WQT4 HTTP Error 404: Not Found\n",
      "https://alphafold.ebi.ac.uk/files/AF-A0A0D2WQT4-F1-model_v4.pdb\n",
      "error downloading structure for A0A0D2X192 HTTP Error 404: Not Found\n",
      "https://alphafold.ebi.ac.uk/files/AF-A0A0D2X192-F1-model_v4.pdb\n"
     ]
    },
    {
     "name": "stderr",
     "output_type": "stream",
     "text": [
      "3698it [00:07, 482.75it/s]"
     ]
    },
    {
     "name": "stdout",
     "output_type": "stream",
     "text": [
      "error downloading structure for A0CWW3 HTTP Error 404: Not Found\n",
      "https://alphafold.ebi.ac.uk/files/AF-A0CWW3-F1-model_v4.pdb\n",
      "error downloading structure for A0A2K3D4R2 HTTP Error 404: Not Found\n",
      "https://alphafold.ebi.ac.uk/files/AF-A0A2K3D4R2-F1-model_v4.pdb\n",
      "error downloading structure for A8J3Y6 HTTP Error 404: Not Found\n",
      "https://alphafold.ebi.ac.uk/files/AF-A8J3Y6-F1-model_v4.pdb\n"
     ]
    },
    {
     "name": "stderr",
     "output_type": "stream",
     "text": [
      "3815it [00:07, 553.93it/s]"
     ]
    },
    {
     "name": "stdout",
     "output_type": "stream",
     "text": [
      "error downloading structure for B8C728 HTTP Error 404: Not Found\n",
      "https://alphafold.ebi.ac.uk/files/AF-B8C728-F1-model_v4.pdb\n",
      "error downloading structure for D8LRP2 HTTP Error 404: Not Found\n",
      "https://alphafold.ebi.ac.uk/files/AF-D8LRP2-F1-model_v4.pdb\n",
      "error downloading structure for A0A0D2VJQ0 HTTP Error 404: Not Found\n",
      "https://alphafold.ebi.ac.uk/files/AF-A0A0D2VJQ0-F1-model_v4.pdb\n"
     ]
    },
    {
     "name": "stderr",
     "output_type": "stream",
     "text": [
      "3874it [00:07, 365.34it/s]"
     ]
    },
    {
     "name": "stdout",
     "output_type": "stream",
     "text": [
      "error downloading structure for A0A1X7V9A9 HTTP Error 404: Not Found\n",
      "https://alphafold.ebi.ac.uk/files/AF-A0A1X7V9A9-F1-model_v4.pdb\n",
      "error downloading structure for B5YNG2 HTTP Error 404: Not Found\n",
      "https://alphafold.ebi.ac.uk/files/AF-B5YNG2-F1-model_v4.pdb\n",
      "error downloading structure for Q7S8V0 HTTP Error 404: Not Found\n",
      "https://alphafold.ebi.ac.uk/files/AF-Q7S8V0-F1-model_v4.pdb\n"
     ]
    },
    {
     "name": "stderr",
     "output_type": "stream",
     "text": [
      "3920it [00:07, 355.44it/s]"
     ]
    },
    {
     "name": "stdout",
     "output_type": "stream",
     "text": [
      "error downloading structure for A0A2K1IRD9 HTTP Error 404: Not Found\n",
      "https://alphafold.ebi.ac.uk/files/AF-A0A2K1IRD9-F1-model_v4.pdb\n",
      "error downloading structure for A0A1X7UM21 HTTP Error 404: Not Found\n",
      "https://alphafold.ebi.ac.uk/files/AF-A0A1X7UM21-F1-model_v4.pdb\n",
      "error downloading structure for A0A2K3CV27 HTTP Error 404: Not Found\n",
      "https://alphafold.ebi.ac.uk/files/AF-A0A2K3CV27-F1-model_v4.pdb\n"
     ]
    },
    {
     "name": "stderr",
     "output_type": "stream",
     "text": [
      "4082it [00:08, 441.48it/s]"
     ]
    },
    {
     "name": "stdout",
     "output_type": "stream",
     "text": [
      "error downloading structure for A0A0D2X586 HTTP Error 404: Not Found\n",
      "https://alphafold.ebi.ac.uk/files/AF-A0A0D2X586-F1-model_v4.pdb\n",
      "error downloading structure for A0A0D2VTB7 HTTP Error 404: Not Found\n",
      "https://alphafold.ebi.ac.uk/files/AF-A0A0D2VTB7-F1-model_v4.pdb\n",
      "error downloading structure for B8C8T3 HTTP Error 404: Not Found\n",
      "https://alphafold.ebi.ac.uk/files/AF-B8C8T3-F1-model_v4.pdb\n"
     ]
    },
    {
     "name": "stderr",
     "output_type": "stream",
     "text": [
      "4239it [00:08, 602.65it/s]"
     ]
    },
    {
     "name": "stdout",
     "output_type": "stream",
     "text": [
      "error downloading structure for A0A8H4BWD9 HTTP Error 404: Not Found\n",
      "https://alphafold.ebi.ac.uk/files/AF-A0A8H4BWD9-F1-model_v4.pdb\n",
      "error downloading structure for A0A178W7J7 HTTP Error 404: Not Found\n",
      "https://alphafold.ebi.ac.uk/files/AF-A0A178W7J7-F1-model_v4.pdb\n",
      "error downloading structure for Q8MS45 HTTP Error 404: Not Found\n",
      "https://alphafold.ebi.ac.uk/files/AF-Q8MS45-F1-model_v4.pdb\n"
     ]
    },
    {
     "name": "stderr",
     "output_type": "stream",
     "text": [
      "4386it [00:08, 546.90it/s]"
     ]
    },
    {
     "name": "stdout",
     "output_type": "stream",
     "text": [
      "error downloading structure for A0A2K1J2Q4 HTTP Error 404: Not Found\n",
      "https://alphafold.ebi.ac.uk/files/AF-A0A2K1J2Q4-F1-model_v4.pdb\n",
      "error downloading structure for Q7SBU3 HTTP Error 404: Not Found\n",
      "https://alphafold.ebi.ac.uk/files/AF-Q7SBU3-F1-model_v4.pdb\n",
      "error downloading structure for A0A1X7VQ62 HTTP Error 404: Not Found\n",
      "https://alphafold.ebi.ac.uk/files/AF-A0A1X7VQ62-F1-model_v4.pdb\n"
     ]
    },
    {
     "name": "stderr",
     "output_type": "stream",
     "text": [
      "4443it [00:08, 508.29it/s]"
     ]
    },
    {
     "name": "stdout",
     "output_type": "stream",
     "text": [
      "error downloading structure for D7G3I9 HTTP Error 404: Not Found\n",
      "https://alphafold.ebi.ac.uk/files/AF-D7G3I9-F1-model_v4.pdb\n",
      "error downloading structure for A6NMQ1 HTTP Error 404: Not Found\n",
      "https://alphafold.ebi.ac.uk/files/AF-A6NMQ1-F1-model_v4.pdb\n",
      "error downloading structure for Q7RWE3 HTTP Error 404: Not Found\n",
      "https://alphafold.ebi.ac.uk/files/AF-Q7RWE3-F1-model_v4.pdb\n",
      "error downloading structure for L8HD92 HTTP Error 404: Not Found\n",
      "https://alphafold.ebi.ac.uk/files/AF-L8HD92-F1-model_v4.pdb\n"
     ]
    },
    {
     "name": "stderr",
     "output_type": "stream",
     "text": [
      "4495it [00:09, 335.88it/s]"
     ]
    },
    {
     "name": "stdout",
     "output_type": "stream",
     "text": [
      "error downloading structure for F5H112 HTTP Error 404: Not Found\n",
      "https://alphafold.ebi.ac.uk/files/AF-F5H112-F1-model_v4.pdb\n",
      "error downloading structure for A0A0D2UHS0 HTTP Error 404: Not Found\n",
      "https://alphafold.ebi.ac.uk/files/AF-A0A0D2UHS0-F1-model_v4.pdb\n",
      "error downloading structure for A0A0D2VTX0 HTTP Error 404: Not Found\n",
      "https://alphafold.ebi.ac.uk/files/AF-A0A0D2VTX0-F1-model_v4.pdb\n"
     ]
    },
    {
     "name": "stderr",
     "output_type": "stream",
     "text": [
      "4574it [00:09, 313.40it/s]"
     ]
    },
    {
     "name": "stdout",
     "output_type": "stream",
     "text": [
      "error downloading structure for A0A6Q8PGB0 HTTP Error 404: Not Found\n",
      "https://alphafold.ebi.ac.uk/files/AF-A0A6Q8PGB0-F1-model_v4.pdb\n",
      "error downloading structure for C9JJJ9 HTTP Error 404: Not Found\n",
      "https://alphafold.ebi.ac.uk/files/AF-C9JJJ9-F1-model_v4.pdb\n",
      "error downloading structure for V5IM93 HTTP Error 404: Not Found\n",
      "https://alphafold.ebi.ac.uk/files/AF-V5IM93-F1-model_v4.pdb\n",
      "error downloading structure for A0EII8 HTTP Error 404: Not Found\n",
      "https://alphafold.ebi.ac.uk/files/AF-A0EII8-F1-model_v4.pdb\n"
     ]
    },
    {
     "name": "stderr",
     "output_type": "stream",
     "text": [
      "4642it [00:09, 291.11it/s]"
     ]
    },
    {
     "name": "stdout",
     "output_type": "stream",
     "text": [
      "error downloading structure for Q7S1D7 HTTP Error 404: Not Found\n",
      "https://alphafold.ebi.ac.uk/files/AF-Q7S1D7-F1-model_v4.pdb\n",
      "error downloading structure for A0A8H4BXW5 HTTP Error 404: Not Found\n",
      "https://alphafold.ebi.ac.uk/files/AF-A0A8H4BXW5-F1-model_v4.pdb\n",
      "error downloading structure for A0A178WN52 HTTP Error 404: Not Found\n",
      "https://alphafold.ebi.ac.uk/files/AF-A0A178WN52-F1-model_v4.pdb\n",
      "error downloading structure for A0A2R8Y705 HTTP Error 404: Not Found\n",
      "https://alphafold.ebi.ac.uk/files/AF-A0A2R8Y705-F1-model_v4.pdb\n"
     ]
    },
    {
     "name": "stderr",
     "output_type": "stream",
     "text": [
      "4684it [00:09, 288.64it/s]"
     ]
    },
    {
     "name": "stdout",
     "output_type": "stream",
     "text": [
      "error downloading structure for A0A0D2VFR5 HTTP Error 404: Not Found\n",
      "https://alphafold.ebi.ac.uk/files/AF-A0A0D2VFR5-F1-model_v4.pdb\n",
      "error downloading structure for A0A2K3E2B8 HTTP Error 404: Not Found\n",
      "https://alphafold.ebi.ac.uk/files/AF-A0A2K3E2B8-F1-model_v4.pdb\n",
      "error downloading structure for A0A8H4FAP6 HTTP Error 404: Not Found\n",
      "https://alphafold.ebi.ac.uk/files/AF-A0A8H4FAP6-F1-model_v4.pdb\n"
     ]
    },
    {
     "name": "stderr",
     "output_type": "stream",
     "text": [
      "4866it [00:10, 457.96it/s]"
     ]
    },
    {
     "name": "stdout",
     "output_type": "stream",
     "text": [
      "error downloading structure for A0C1F3 HTTP Error 404: Not Found\n",
      "https://alphafold.ebi.ac.uk/files/AF-A0C1F3-F1-model_v4.pdb\n",
      "error downloading structure for A0A0D2VGW4 HTTP Error 404: Not Found\n",
      "https://alphafold.ebi.ac.uk/files/AF-A0A0D2VGW4-F1-model_v4.pdb\n",
      "error downloading structure for A0BZJ9 HTTP Error 404: Not Found\n",
      "https://alphafold.ebi.ac.uk/files/AF-A0BZJ9-F1-model_v4.pdb\n"
     ]
    },
    {
     "name": "stderr",
     "output_type": "stream",
     "text": [
      "4913it [00:10, 379.70it/s]"
     ]
    },
    {
     "name": "stdout",
     "output_type": "stream",
     "text": [
      "error downloading structure for A0A2K3E5A0 HTTP Error 404: Not Found\n",
      "https://alphafold.ebi.ac.uk/files/AF-A0A2K3E5A0-F1-model_v4.pdb\n",
      "error downloading structure for A0A8H4BW10 HTTP Error 404: Not Found\n",
      "https://alphafold.ebi.ac.uk/files/AF-A0A8H4BW10-F1-model_v4.pdb\n",
      "error downloading structure for A0A2K1JHT7 HTTP Error 404: Not Found\n",
      "https://alphafold.ebi.ac.uk/files/AF-A0A2K1JHT7-F1-model_v4.pdb\n"
     ]
    },
    {
     "name": "stderr",
     "output_type": "stream",
     "text": [
      "5077it [00:10, 580.83it/s]"
     ]
    },
    {
     "name": "stdout",
     "output_type": "stream",
     "text": [
      "error downloading structure for B6IDH0 HTTP Error 404: Not Found\n",
      "https://alphafold.ebi.ac.uk/files/AF-B6IDH0-F1-model_v4.pdb\n",
      "error downloading structure for A0A0D2WIH6 HTTP Error 404: Not Found\n",
      "https://alphafold.ebi.ac.uk/files/AF-A0A0D2WIH6-F1-model_v4.pdb\n",
      "error downloading structure for A0A178W7K6 HTTP Error 404: Not Found\n",
      "https://alphafold.ebi.ac.uk/files/AF-A0A178W7K6-F1-model_v4.pdb\n"
     ]
    },
    {
     "name": "stderr",
     "output_type": "stream",
     "text": [
      "5225it [00:10, 535.83it/s]"
     ]
    },
    {
     "name": "stdout",
     "output_type": "stream",
     "text": [
      "error downloading structure for B8BTL9 HTTP Error 404: Not Found\n",
      "https://alphafold.ebi.ac.uk/files/AF-B8BTL9-F1-model_v4.pdb\n",
      "error downloading structure for A0A2K3CS00 HTTP Error 404: Not Found\n",
      "https://alphafold.ebi.ac.uk/files/AF-A0A2K3CS00-F1-model_v4.pdb\n",
      "error downloading structure for A0BYP5 HTTP Error 404: Not Found\n",
      "https://alphafold.ebi.ac.uk/files/AF-A0BYP5-F1-model_v4.pdb\n"
     ]
    },
    {
     "name": "stderr",
     "output_type": "stream",
     "text": [
      "5280it [00:10, 447.45it/s]"
     ]
    },
    {
     "name": "stdout",
     "output_type": "stream",
     "text": [
      "error downloading structure for D8LHW4 HTTP Error 404: Not Found\n",
      "https://alphafold.ebi.ac.uk/files/AF-D8LHW4-F1-model_v4.pdb\n",
      "error downloading structure for A0A4D6K4F6 HTTP Error 404: Not Found\n",
      "https://alphafold.ebi.ac.uk/files/AF-A0A4D6K4F6-F1-model_v4.pdb\n",
      "error downloading structure for A9RFW2 HTTP Error 404: Not Found\n",
      "https://alphafold.ebi.ac.uk/files/AF-A9RFW2-F1-model_v4.pdb\n",
      "error downloading structure for Q8IKE1 HTTP Error 404: Not Found\n",
      "https://alphafold.ebi.ac.uk/files/AF-Q8IKE1-F1-model_v4.pdb\n"
     ]
    },
    {
     "name": "stderr",
     "output_type": "stream",
     "text": [
      "5395it [00:11, 438.43it/s]"
     ]
    },
    {
     "name": "stdout",
     "output_type": "stream",
     "text": [
      "error downloading structure for X6NDB8 HTTP Error 404: Not Found\n",
      "https://alphafold.ebi.ac.uk/files/AF-X6NDB8-F1-model_v4.pdb\n",
      "error downloading structure for A0A8H4BWC8 HTTP Error 404: Not Found\n",
      "https://alphafold.ebi.ac.uk/files/AF-A0A8H4BWC8-F1-model_v4.pdb\n",
      "error downloading structure for D2VN06 HTTP Error 404: Not Found\n",
      "https://alphafold.ebi.ac.uk/files/AF-D2VN06-F1-model_v4.pdb\n"
     ]
    },
    {
     "name": "stderr",
     "output_type": "stream",
     "text": [
      "5440it [00:11, 411.57it/s]"
     ]
    },
    {
     "name": "stdout",
     "output_type": "stream",
     "text": [
      "error downloading structure for A0A9L9PWW3 HTTP Error 404: Not Found\n",
      "https://alphafold.ebi.ac.uk/files/AF-A0A9L9PWW3-F1-model_v4.pdb\n",
      "error downloading structure for A0A4D6K3W6 HTTP Error 404: Not Found\n",
      "https://alphafold.ebi.ac.uk/files/AF-A0A4D6K3W6-F1-model_v4.pdb\n",
      "error downloading structure for L8H1Z5 HTTP Error 404: Not Found\n",
      "https://alphafold.ebi.ac.uk/files/AF-L8H1Z5-F1-model_v4.pdb\n"
     ]
    },
    {
     "name": "stderr",
     "output_type": "stream",
     "text": [
      "5598it [00:11, 466.49it/s]"
     ]
    },
    {
     "name": "stdout",
     "output_type": "stream",
     "text": [
      "error downloading structure for A8K6F0 HTTP Error 404: Not Found\n",
      "https://alphafold.ebi.ac.uk/files/AF-A8K6F0-F1-model_v4.pdb\n",
      "error downloading structure for X6NQP0 HTTP Error 404: Not Found\n",
      "https://alphafold.ebi.ac.uk/files/AF-X6NQP0-F1-model_v4.pdb\n",
      "error downloading structure for Q9U6I2 HTTP Error 404: Not Found\n",
      "https://alphafold.ebi.ac.uk/files/AF-Q9U6I2-F1-model_v4.pdb\n"
     ]
    },
    {
     "name": "stderr",
     "output_type": "stream",
     "text": [
      "5645it [00:11, 421.27it/s]"
     ]
    },
    {
     "name": "stdout",
     "output_type": "stream",
     "text": [
      "error downloading structure for D2V3Y4 HTTP Error 404: Not Found\n",
      "https://alphafold.ebi.ac.uk/files/AF-D2V3Y4-F1-model_v4.pdb\n",
      "error downloading structure for A0A8D9I6U5 HTTP Error 404: Not Found\n",
      "https://alphafold.ebi.ac.uk/files/AF-A0A8D9I6U5-F1-model_v4.pdb\n",
      "error downloading structure for D8LQX5 HTTP Error 404: Not Found\n",
      "https://alphafold.ebi.ac.uk/files/AF-D8LQX5-F1-model_v4.pdb\n"
     ]
    },
    {
     "name": "stderr",
     "output_type": "stream",
     "text": [
      "5688it [00:11, 312.76it/s]"
     ]
    },
    {
     "name": "stdout",
     "output_type": "stream",
     "text": [
      "error downloading structure for A0A178WHI8 HTTP Error 404: Not Found\n",
      "https://alphafold.ebi.ac.uk/files/AF-A0A178WHI8-F1-model_v4.pdb\n",
      "error downloading structure for A0A8V8TQE5 HTTP Error 404: Not Found\n",
      "https://alphafold.ebi.ac.uk/files/AF-A0A8V8TQE5-F1-model_v4.pdb\n",
      "error downloading structure for A0C766 HTTP Error 404: Not Found\n",
      "https://alphafold.ebi.ac.uk/files/AF-A0C766-F1-model_v4.pdb\n"
     ]
    },
    {
     "name": "stderr",
     "output_type": "stream",
     "text": [
      "5819it [00:12, 455.92it/s]"
     ]
    },
    {
     "name": "stdout",
     "output_type": "stream",
     "text": [
      "error downloading structure for Q872G8 HTTP Error 404: Not Found\n",
      "https://alphafold.ebi.ac.uk/files/AF-Q872G8-F1-model_v4.pdb\n",
      "error downloading structure for D8LIP1 HTTP Error 404: Not Found\n",
      "https://alphafold.ebi.ac.uk/files/AF-D8LIP1-F1-model_v4.pdb\n",
      "error downloading structure for A0A2K1L0X0 HTTP Error 404: Not Found\n",
      "https://alphafold.ebi.ac.uk/files/AF-A0A2K1L0X0-F1-model_v4.pdb\n"
     ]
    },
    {
     "name": "stderr",
     "output_type": "stream",
     "text": [
      "5965it [00:12, 484.87it/s]"
     ]
    },
    {
     "name": "stdout",
     "output_type": "stream",
     "text": [
      "error downloading structure for A0A0D2WVM9 HTTP Error 404: Not Found\n",
      "https://alphafold.ebi.ac.uk/files/AF-A0A0D2WVM9-F1-model_v4.pdb\n",
      "error downloading structure for Q8I1X5 HTTP Error 404: Not Found\n",
      "https://alphafold.ebi.ac.uk/files/AF-Q8I1X5-F1-model_v4.pdb\n",
      "error downloading structure for L8GWB5 HTTP Error 404: Not Found\n",
      "https://alphafold.ebi.ac.uk/files/AF-L8GWB5-F1-model_v4.pdb\n"
     ]
    },
    {
     "name": "stderr",
     "output_type": "stream",
     "text": [
      "6016it [00:12, 451.66it/s]"
     ]
    },
    {
     "name": "stdout",
     "output_type": "stream",
     "text": [
      "error downloading structure for A0A2K1KED1 HTTP Error 404: Not Found\n",
      "https://alphafold.ebi.ac.uk/files/AF-A0A2K1KED1-F1-model_v4.pdb\n",
      "error downloading structure for D2V097 HTTP Error 404: Not Found\n",
      "https://alphafold.ebi.ac.uk/files/AF-D2V097-F1-model_v4.pdb\n",
      "error downloading structure for A0A2K3CRZ5 HTTP Error 404: Not Found\n",
      "https://alphafold.ebi.ac.uk/files/AF-A0A2K3CRZ5-F1-model_v4.pdb\n"
     ]
    },
    {
     "name": "stderr",
     "output_type": "stream",
     "text": [
      "6128it [00:12, 426.93it/s]"
     ]
    },
    {
     "name": "stdout",
     "output_type": "stream",
     "text": [
      "error downloading structure for A0A1X7VP53 HTTP Error 404: Not Found\n",
      "https://alphafold.ebi.ac.uk/files/AF-A0A1X7VP53-F1-model_v4.pdb\n",
      "error downloading structure for A0A1X7UQD0 HTTP Error 404: Not Found\n",
      "https://alphafold.ebi.ac.uk/files/AF-A0A1X7UQD0-F1-model_v4.pdb\n",
      "error downloading structure for D2VNK8 HTTP Error 404: Not Found\n",
      "https://alphafold.ebi.ac.uk/files/AF-D2VNK8-F1-model_v4.pdb\n"
     ]
    },
    {
     "name": "stderr",
     "output_type": "stream",
     "text": [
      "6404it [00:13, 761.02it/s]"
     ]
    },
    {
     "name": "stdout",
     "output_type": "stream",
     "text": [
      "error downloading structure for D7FU80 HTTP Error 404: Not Found\n",
      "https://alphafold.ebi.ac.uk/files/AF-D7FU80-F1-model_v4.pdb\n",
      "error downloading structure for M9PFS0 HTTP Error 404: Not Found\n",
      "https://alphafold.ebi.ac.uk/files/AF-M9PFS0-F1-model_v4.pdb\n",
      "error downloading structure for A0A494C1A5 HTTP Error 404: Not Found\n",
      "https://alphafold.ebi.ac.uk/files/AF-A0A494C1A5-F1-model_v4.pdb\n",
      "error downloading structure for D2UZM0 HTTP Error 404: Not Found\n",
      "https://alphafold.ebi.ac.uk/files/AF-D2UZM0-F1-model_v4.pdb\n",
      "error downloading structure for A0A0G2JRU0 HTTP Error 404: Not Found\n",
      "https://alphafold.ebi.ac.uk/files/AF-A0A0G2JRU0-F1-model_v4.pdb\n",
      "error downloading structure for A0A994J6E8 HTTP Error 404: Not Found\n",
      "https://alphafold.ebi.ac.uk/files/AF-A0A994J6E8-F1-model_v4.pdb\n",
      "error downloading structure for X6MGV5 HTTP Error 404: Not Found\n",
      "https://alphafold.ebi.ac.uk/files/AF-X6MGV5-F1-model_v4.pdb\n"
     ]
    },
    {
     "name": "stderr",
     "output_type": "stream",
     "text": [
      "6490it [00:13, 520.35it/s]"
     ]
    },
    {
     "name": "stdout",
     "output_type": "stream",
     "text": [
      "error downloading structure for A0A8H4BYN2 HTTP Error 404: Not Found\n",
      "https://alphafold.ebi.ac.uk/files/AF-A0A8H4BYN2-F1-model_v4.pdb\n",
      "error downloading structure for D8LTY2 HTTP Error 404: Not Found\n",
      "https://alphafold.ebi.ac.uk/files/AF-D8LTY2-F1-model_v4.pdb\n",
      "error downloading structure for Q7SBL5 HTTP Error 404: Not Found\n",
      "https://alphafold.ebi.ac.uk/files/AF-Q7SBL5-F1-model_v4.pdb\n",
      "error downloading structure for D7FI10 HTTP Error 404: Not Found\n",
      "https://alphafold.ebi.ac.uk/files/AF-D7FI10-F1-model_v4.pdb\n",
      "error downloading structure for A0A178W1F6 HTTP Error 404: Not Found\n",
      "https://alphafold.ebi.ac.uk/files/AF-A0A178W1F6-F1-model_v4.pdb\n",
      "error downloading structure for A7E261 HTTP Error 404: Not Found\n",
      "https://alphafold.ebi.ac.uk/files/AF-A7E261-F1-model_v4.pdb\n"
     ]
    },
    {
     "name": "stderr",
     "output_type": "stream",
     "text": [
      "6612it [00:13, 358.55it/s]"
     ]
    },
    {
     "name": "stdout",
     "output_type": "stream",
     "text": [
      "error downloading structure for A0A8H4BWX1 HTTP Error 404: Not Found\n",
      "https://alphafold.ebi.ac.uk/files/AF-A0A8H4BWX1-F1-model_v4.pdb\n",
      "error downloading structure for B3H4G2 HTTP Error 404: Not Found\n",
      "https://alphafold.ebi.ac.uk/files/AF-B3H4G2-F1-model_v4.pdb\n",
      "error downloading structure for A0A8H4FA39 HTTP Error 404: Not Found\n",
      "https://alphafold.ebi.ac.uk/files/AF-A0A8H4FA39-F1-model_v4.pdb\n",
      "error downloading structure for A0A8H4C1K9 HTTP Error 404: Not Found\n",
      "https://alphafold.ebi.ac.uk/files/AF-A0A8H4C1K9-F1-model_v4.pdb\n"
     ]
    },
    {
     "name": "stderr",
     "output_type": "stream",
     "text": [
      "6661it [00:14, 325.64it/s]"
     ]
    },
    {
     "name": "stdout",
     "output_type": "stream",
     "text": [
      "error downloading structure for I1V4Y8 HTTP Error 404: Not Found\n",
      "https://alphafold.ebi.ac.uk/files/AF-I1V4Y8-F1-model_v4.pdb\n",
      "error downloading structure for L8H8A6 HTTP Error 404: Not Found\n",
      "https://alphafold.ebi.ac.uk/files/AF-L8H8A6-F1-model_v4.pdb\n",
      "error downloading structure for L8H0V8 HTTP Error 404: Not Found\n",
      "https://alphafold.ebi.ac.uk/files/AF-L8H0V8-F1-model_v4.pdb\n",
      "error downloading structure for A0A178UHA5 HTTP Error 404: Not Found\n",
      "https://alphafold.ebi.ac.uk/files/AF-A0A178UHA5-F1-model_v4.pdb\n"
     ]
    },
    {
     "name": "stderr",
     "output_type": "stream",
     "text": [
      "6703it [00:14, 321.31it/s]"
     ]
    },
    {
     "name": "stdout",
     "output_type": "stream",
     "text": [
      "error downloading structure for A0A8V8TQ34 HTTP Error 404: Not Found\n",
      "https://alphafold.ebi.ac.uk/files/AF-A0A8V8TQ34-F1-model_v4.pdb\n",
      "error downloading structure for A8K8N7 HTTP Error 404: Not Found\n",
      "https://alphafold.ebi.ac.uk/files/AF-A8K8N7-F1-model_v4.pdb\n",
      "error downloading structure for A0A0D2X0Z2 HTTP Error 404: Not Found\n",
      "https://alphafold.ebi.ac.uk/files/AF-A0A0D2X0Z2-F1-model_v4.pdb\n",
      "error downloading structure for A0A178UF03 HTTP Error 404: Not Found\n",
      "https://alphafold.ebi.ac.uk/files/AF-A0A178UF03-F1-model_v4.pdb\n"
     ]
    },
    {
     "name": "stderr",
     "output_type": "stream",
     "text": [
      "6798it [00:14, 280.05it/s]"
     ]
    },
    {
     "name": "stdout",
     "output_type": "stream",
     "text": [
      "error downloading structure for D8LQ01 HTTP Error 404: Not Found\n",
      "https://alphafold.ebi.ac.uk/files/AF-D8LQ01-F1-model_v4.pdb\n",
      "error downloading structure for D8LEU4 HTTP Error 404: Not Found\n",
      "https://alphafold.ebi.ac.uk/files/AF-D8LEU4-F1-model_v4.pdb\n",
      "error downloading structure for A0CXW7 HTTP Error 404: Not Found\n",
      "https://alphafold.ebi.ac.uk/files/AF-A0CXW7-F1-model_v4.pdb\n"
     ]
    },
    {
     "name": "stderr",
     "output_type": "stream",
     "text": [
      "6914it [00:14, 399.43it/s]"
     ]
    },
    {
     "name": "stdout",
     "output_type": "stream",
     "text": [
      "error downloading structure for A0A8H4FAH9 HTTP Error 404: Not Found\n",
      "https://alphafold.ebi.ac.uk/files/AF-A0A8H4FAH9-F1-model_v4.pdb\n",
      "error downloading structure for A0A2K1JKR7 HTTP Error 404: Not Found\n",
      "https://alphafold.ebi.ac.uk/files/AF-A0A2K1JKR7-F1-model_v4.pdb\n",
      "error downloading structure for Q7S1T6 HTTP Error 404: Not Found\n",
      "https://alphafold.ebi.ac.uk/files/AF-Q7S1T6-F1-model_v4.pdb\n"
     ]
    },
    {
     "name": "stderr",
     "output_type": "stream",
     "text": [
      "7012it [00:15, 371.41it/s]"
     ]
    },
    {
     "name": "stdout",
     "output_type": "stream",
     "text": [
      "error downloading structure for B8BVU2 HTTP Error 404: Not Found\n",
      "https://alphafold.ebi.ac.uk/files/AF-B8BVU2-F1-model_v4.pdb\n",
      "error downloading structure for A0A178UNQ0 HTTP Error 404: Not Found\n",
      "https://alphafold.ebi.ac.uk/files/AF-A0A178UNQ0-F1-model_v4.pdb\n",
      "error downloading structure for A0A178WJP3 HTTP Error 404: Not Found\n",
      "https://alphafold.ebi.ac.uk/files/AF-A0A178WJP3-F1-model_v4.pdb\n"
     ]
    },
    {
     "name": "stderr",
     "output_type": "stream",
     "text": [
      "7162it [00:15, 543.09it/s]"
     ]
    },
    {
     "name": "stdout",
     "output_type": "stream",
     "text": [
      "error downloading structure for A0A0D2UP26 HTTP Error 404: Not Found\n",
      "https://alphafold.ebi.ac.uk/files/AF-A0A0D2UP26-F1-model_v4.pdb\n",
      "error downloading structure for A0A8V8TRG9 HTTP Error 404: Not Found\n",
      "https://alphafold.ebi.ac.uk/files/AF-A0A8V8TRG9-F1-model_v4.pdb\n",
      "error downloading structure for A0A2K3DR41 HTTP Error 404: Not Found\n",
      "https://alphafold.ebi.ac.uk/files/AF-A0A2K3DR41-F1-model_v4.pdb\n"
     ]
    },
    {
     "name": "stderr",
     "output_type": "stream",
     "text": [
      "7273it [00:15, 440.95it/s]"
     ]
    },
    {
     "name": "stdout",
     "output_type": "stream",
     "text": [
      "error downloading structure for A0A0B4KFH4 HTTP Error 404: Not Found\n",
      "https://alphafold.ebi.ac.uk/files/AF-A0A0B4KFH4-F1-model_v4.pdb\n",
      "error downloading structure for A0A8H4BYJ9 HTTP Error 404: Not Found\n",
      "https://alphafold.ebi.ac.uk/files/AF-A0A8H4BYJ9-F1-model_v4.pdb\n",
      "error downloading structure for A0A1X7VIA2 HTTP Error 404: Not Found\n",
      "https://alphafold.ebi.ac.uk/files/AF-A0A1X7VIA2-F1-model_v4.pdb\n",
      "error downloading structure for A0A2K1L907 HTTP Error 404: Not Found\n",
      "https://alphafold.ebi.ac.uk/files/AF-A0A2K1L907-F1-model_v4.pdb\n"
     ]
    },
    {
     "name": "stderr",
     "output_type": "stream",
     "text": [
      "7353it [00:15, 465.27it/s]"
     ]
    },
    {
     "name": "stdout",
     "output_type": "stream",
     "text": [
      "error downloading structure for L8HD42 HTTP Error 404: Not Found\n",
      "https://alphafold.ebi.ac.uk/files/AF-L8HD42-F1-model_v4.pdb\n",
      "error downloading structure for G3M399 HTTP Error 404: Not Found\n",
      "https://alphafold.ebi.ac.uk/files/AF-G3M399-F1-model_v4.pdb\n",
      "error downloading structure for D7FN81 HTTP Error 404: Not Found\n",
      "https://alphafold.ebi.ac.uk/files/AF-D7FN81-F1-model_v4.pdb\n"
     ]
    },
    {
     "name": "stderr",
     "output_type": "stream",
     "text": [
      "7483it [00:16, 475.65it/s]"
     ]
    },
    {
     "name": "stdout",
     "output_type": "stream",
     "text": [
      "error downloading structure for A0A0D2UQX2 HTTP Error 404: Not Found\n",
      "https://alphafold.ebi.ac.uk/files/AF-A0A0D2UQX2-F1-model_v4.pdb\n",
      "error downloading structure for A0A2K1JLZ0 HTTP Error 404: Not Found\n",
      "https://alphafold.ebi.ac.uk/files/AF-A0A2K1JLZ0-F1-model_v4.pdb\n",
      "error downloading structure for B8C4Z8 HTTP Error 404: Not Found\n",
      "https://alphafold.ebi.ac.uk/files/AF-B8C4Z8-F1-model_v4.pdb\n"
     ]
    },
    {
     "name": "stderr",
     "output_type": "stream",
     "text": [
      "7532it [00:16, 450.10it/s]"
     ]
    },
    {
     "name": "stdout",
     "output_type": "stream",
     "text": [
      "error downloading structure for D8LRY3 HTTP Error 404: Not Found\n",
      "https://alphafold.ebi.ac.uk/files/AF-D8LRY3-F1-model_v4.pdb\n",
      "error downloading structure for L8GY46 HTTP Error 404: Not Found\n",
      "https://alphafold.ebi.ac.uk/files/AF-L8GY46-F1-model_v4.pdb\n",
      "error downloading structure for Q8IFP1 HTTP Error 404: Not Found\n",
      "https://alphafold.ebi.ac.uk/files/AF-Q8IFP1-F1-model_v4.pdb\n",
      "error downloading structure for D8LQN4 HTTP Error 404: Not Found\n",
      "https://alphafold.ebi.ac.uk/files/AF-D8LQN4-F1-model_v4.pdb\n"
     ]
    },
    {
     "name": "stderr",
     "output_type": "stream",
     "text": [
      "7724it [00:16, 464.71it/s]"
     ]
    },
    {
     "name": "stdout",
     "output_type": "stream",
     "text": [
      "error downloading structure for V5INF5 HTTP Error 404: Not Found\n",
      "https://alphafold.ebi.ac.uk/files/AF-V5INF5-F1-model_v4.pdb\n",
      "error downloading structure for B8C8U9 HTTP Error 404: Not Found\n",
      "https://alphafold.ebi.ac.uk/files/AF-B8C8U9-F1-model_v4.pdb\n",
      "error downloading structure for D8LES2 HTTP Error 404: Not Found\n",
      "https://alphafold.ebi.ac.uk/files/AF-D8LES2-F1-model_v4.pdb\n"
     ]
    },
    {
     "name": "stderr",
     "output_type": "stream",
     "text": [
      "7751it [00:16, 460.23it/s]"
     ]
    },
    {
     "name": "stdout",
     "output_type": "stream",
     "text": [
      "error downloading structure for L8GZ75 HTTP Error 404: Not Found\n",
      "https://alphafold.ebi.ac.uk/files/AF-L8GZ75-F1-model_v4.pdb\n"
     ]
    },
    {
     "name": "stderr",
     "output_type": "stream",
     "text": [
      "\n"
     ]
    }
   ],
   "source": [
    "#download the alphafold structures for each marker gene family\n",
    "for idx,row in tqdm.tqdm(mapping_df.iterrows()):\n",
    "\t#check if the folder exists\n",
    "\tstruct_folder = row['struct_folder']\n",
    "\tif not os.path.exists(struct_folder):\n",
    "\t\tos.makedirs(struct_folder)\n",
    "\t#download the structure\n",
    "\tretpath = grab_struct(row['1stref'], struct_folder, overwrite=overwrite)\n",
    "\t#add struct path to mapping_df\n",
    "\tmapping_df.at[idx, 'struct_path'] = retpath"
   ]
  },
  {
   "cell_type": "code",
   "execution_count": 123,
   "id": "8aae68cb",
   "metadata": {},
   "outputs": [
    {
     "name": "stdout",
     "output_type": "stream",
     "text": [
      "Final mapping DataFrame with structures: 7521 entries\n"
     ]
    }
   ],
   "source": [
    "#drop the rows with no struct_path\n",
    "mapping_df = mapping_df[mapping_df['struct_path'].notnull()]\n",
    "print(f\"Final mapping DataFrame with structures: {mapping_df.shape[0]} entries\")"
   ]
  },
  {
   "cell_type": "code",
   "execution_count": 124,
   "id": "a842b830",
   "metadata": {},
   "outputs": [],
   "source": [
    "#write an identifier file for each marker gene family\n",
    "for sub in mapping_df['oma_group'].unique():\n",
    "\tsub_df = mapping_df[mapping_df['oma_group'] == sub]\n",
    "\t#write the uniprot ids to an identifiers.txt file\n",
    "\tidentifiers_file = f\"./families/Information_benchmark/marker_genes/{sub}/identifiers.txt\"\n",
    "\twith open(identifiers_file, 'w') as f:\n",
    "\t\tfor uniprot_id in sub_df['1stref'].unique():\n",
    "\t\t\tf.write(f\"{uniprot_id}\\n\")"
   ]
  },
  {
   "cell_type": "code",
   "execution_count": 129,
   "id": "0910c524",
   "metadata": {},
   "outputs": [],
   "source": [
    "from Bio import PDB\n",
    "\n",
    "def create_fasta_from_pdbs(pdb_folder, output_fasta, chain_id='A', species_mapping=None):\n",
    "\t\"\"\"\n",
    "\tCreate a FASTA file from PDB structures by extracting amino acid sequences using Biopython.\n",
    "\t\n",
    "\tParameters:\n",
    "\t-----------\n",
    "\tpdb_folder : str\n",
    "\t\tPath to folder containing PDB files\n",
    "\toutput_fasta : str\n",
    "\t\tPath to output FASTA file\n",
    "\tchain_id : str, optional\n",
    "\t\tChain ID to extract sequence from (default: 'A')\n",
    "\tspecies_mapping : dict, optional\n",
    "\t\tDictionary mapping PDB IDs to species codes\n",
    "\t\t\n",
    "\tReturns:\n",
    "\t--------\n",
    "\tlist: List of SeqRecord objects that were written to FASTA\n",
    "\t\"\"\"\n",
    "\t\n",
    "\t# Standard amino acid 3-letter to 1-letter conversion\n",
    "\taa_codes = {\n",
    "\t\t'ALA': 'A', 'CYS': 'C', 'ASP': 'D', 'GLU': 'E',\n",
    "\t\t'PHE': 'F', 'GLY': 'G', 'HIS': 'H', 'ILE': 'I',\n",
    "\t\t'LYS': 'K', 'LEU': 'L', 'MET': 'M', 'ASN': 'N',\n",
    "\t\t'PRO': 'P', 'GLN': 'Q', 'ARG': 'R', 'SER': 'S',\n",
    "\t\t'THR': 'T', 'VAL': 'V', 'TRP': 'W', 'TYR': 'Y'\n",
    "\t}\n",
    "\t\n",
    "\trecords = []\n",
    "\tparser = PDB.PDBParser(QUIET=True)\n",
    "\t\n",
    "\t# Find all PDB files in the folder\n",
    "\tpdb_files = glob.glob(os.path.join(pdb_folder, \"*.pdb\"))\n",
    "\t\n",
    "\tfor pdb_file in pdb_files:\n",
    "\t\ttry:\n",
    "\t\t\t# Get structure name from filename\n",
    "\t\t\tpdb_id = os.path.basename(pdb_file).replace('.pdb', '')\n",
    "\t\t\t\n",
    "\t\t\t# Parse structure\n",
    "\t\t\tstructure = parser.get_structure(pdb_id, pdb_file)\n",
    "\t\t\t\n",
    "\t\t\t# Get first model\n",
    "\t\t\tmodel = structure[0]\n",
    "\t\t\t\n",
    "\t\t\t# Check if requested chain exists\n",
    "\t\t\tif chain_id in model:\n",
    "\t\t\t\tchain = model[chain_id]\n",
    "\t\t\t\t\n",
    "\t\t\t\t# Extract sequence\n",
    "\t\t\t\tsequence = ''\n",
    "\t\t\t\tfor residue in chain:\n",
    "\t\t\t\t\tif residue.get_resname() in aa_codes:\n",
    "\t\t\t\t\t\tsequence += aa_codes[residue.get_resname()]\n",
    "\t\t\t\t\n",
    "\t\t\t\tif sequence:\n",
    "\t\t\t\t\t# Create record ID with species code if available\n",
    "\t\t\t\t\tif species_mapping and pdb_id in species_mapping:\n",
    "\t\t\t\t\t\trecord_id = f\"{pdb_id}|{species_mapping[pdb_id]}\"\n",
    "\t\t\t\t\t\tdescription = f\"Chain {chain_id} sequence from {pdb_file} - Species: {species_mapping[pdb_id]}\"\n",
    "\t\t\t\t\telse:\n",
    "\t\t\t\t\t\trecord_id = pdb_id\n",
    "\t\t\t\t\t\tdescription = f\"Chain {chain_id} sequence from {pdb_file}\"\n",
    "\t\t\t\t\t\n",
    "\t\t\t\t\t# Create SeqRecord object\n",
    "\t\t\t\t\trecord = SeqRecord(\n",
    "\t\t\t\t\t\tSeq(sequence),\n",
    "\t\t\t\t\t\tid=record_id,\n",
    "\t\t\t\t\t\tdescription=description\n",
    "\t\t\t\t\t)\n",
    "\t\t\t\t\trecords.append(record)\n",
    "\t\t\t\n",
    "\t\texcept Exception as e:\n",
    "\t\t\tprint(f\"Error processing {pdb_file}: {str(e)}\")\n",
    "\t\n",
    "\t# Write all sequences to FASTA file\n",
    "\tif records:\n",
    "\t\twith open(output_fasta, 'w') as handle:\n",
    "\t\t\tSeqIO.write(records, handle, 'fasta')\n",
    "\t\tprint(f\"Created FASTA file with {len(records)} sequences at {output_fasta}\")\n",
    "\telse:\n",
    "\t\tprint(\"No sequences were extracted from PDB files\")\n",
    "\t\n",
    "\treturn records"
   ]
  },
  {
   "cell_type": "code",
   "execution_count": 131,
   "id": "17a0169d",
   "metadata": {},
   "outputs": [
    {
     "name": "stdout",
     "output_type": "stream",
     "text": [
      "Created FASTA file with 13 sequences at ./families/Information_benchmark/marker_genes/926837/sequences.fasta\n",
      "Created FASTA file with 8 sequences at ./families/Information_benchmark/marker_genes/1067390/sequences.fasta\n",
      "Created FASTA file with 15 sequences at ./families/Information_benchmark/marker_genes/1426798/sequences.fasta\n",
      "Created FASTA file with 14 sequences at ./families/Information_benchmark/marker_genes/1049443/sequences.fasta\n",
      "Created FASTA file with 14 sequences at ./families/Information_benchmark/marker_genes/1410217/sequences.fasta\n",
      "Created FASTA file with 19 sequences at ./families/Information_benchmark/marker_genes/1027516/sequences.fasta\n",
      "Created FASTA file with 15 sequences at ./families/Information_benchmark/marker_genes/1067309/sequences.fasta\n",
      "Created FASTA file with 15 sequences at ./families/Information_benchmark/marker_genes/1361066/sequences.fasta\n",
      "Created FASTA file with 15 sequences at ./families/Information_benchmark/marker_genes/1311493/sequences.fasta\n",
      "Created FASTA file with 15 sequences at ./families/Information_benchmark/marker_genes/1428386/sequences.fasta\n",
      "Created FASTA file with 15 sequences at ./families/Information_benchmark/marker_genes/1049256/sequences.fasta\n",
      "Created FASTA file with 17 sequences at ./families/Information_benchmark/marker_genes/1067322/sequences.fasta\n",
      "Created FASTA file with 15 sequences at ./families/Information_benchmark/marker_genes/1418490/sequences.fasta\n",
      "Created FASTA file with 14 sequences at ./families/Information_benchmark/marker_genes/1413608/sequences.fasta\n",
      "Created FASTA file with 18 sequences at ./families/Information_benchmark/marker_genes/1426499/sequences.fasta\n",
      "Created FASTA file with 14 sequences at ./families/Information_benchmark/marker_genes/1351004/sequences.fasta\n",
      "Created FASTA file with 16 sequences at ./families/Information_benchmark/marker_genes/1067608/sequences.fasta\n",
      "Created FASTA file with 16 sequences at ./families/Information_benchmark/marker_genes/1058813/sequences.fasta\n",
      "Created FASTA file with 15 sequences at ./families/Information_benchmark/marker_genes/966408/sequences.fasta\n",
      "Created FASTA file with 14 sequences at ./families/Information_benchmark/marker_genes/1371487/sequences.fasta\n",
      "Created FASTA file with 15 sequences at ./families/Information_benchmark/marker_genes/1403152/sequences.fasta\n",
      "Created FASTA file with 15 sequences at ./families/Information_benchmark/marker_genes/1304109/sequences.fasta\n",
      "Created FASTA file with 15 sequences at ./families/Information_benchmark/marker_genes/1414329/sequences.fasta\n",
      "Created FASTA file with 15 sequences at ./families/Information_benchmark/marker_genes/1420269/sequences.fasta\n",
      "Created FASTA file with 17 sequences at ./families/Information_benchmark/marker_genes/1415986/sequences.fasta\n",
      "Created FASTA file with 19 sequences at ./families/Information_benchmark/marker_genes/1400294/sequences.fasta\n",
      "Created FASTA file with 15 sequences at ./families/Information_benchmark/marker_genes/1406899/sequences.fasta\n",
      "Created FASTA file with 13 sequences at ./families/Information_benchmark/marker_genes/1067522/sequences.fasta\n",
      "Created FASTA file with 15 sequences at ./families/Information_benchmark/marker_genes/1067440/sequences.fasta\n",
      "Created FASTA file with 14 sequences at ./families/Information_benchmark/marker_genes/1347738/sequences.fasta\n",
      "Created FASTA file with 14 sequences at ./families/Information_benchmark/marker_genes/977311/sequences.fasta\n",
      "Created FASTA file with 16 sequences at ./families/Information_benchmark/marker_genes/1401634/sequences.fasta\n",
      "Created FASTA file with 15 sequences at ./families/Information_benchmark/marker_genes/1345489/sequences.fasta\n",
      "Created FASTA file with 15 sequences at ./families/Information_benchmark/marker_genes/1417181/sequences.fasta\n",
      "Created FASTA file with 16 sequences at ./families/Information_benchmark/marker_genes/1410681/sequences.fasta\n",
      "Created FASTA file with 17 sequences at ./families/Information_benchmark/marker_genes/1396383/sequences.fasta\n",
      "Created FASTA file with 14 sequences at ./families/Information_benchmark/marker_genes/1407943/sequences.fasta\n",
      "Created FASTA file with 17 sequences at ./families/Information_benchmark/marker_genes/1067296/sequences.fasta\n",
      "Created FASTA file with 14 sequences at ./families/Information_benchmark/marker_genes/1364490/sequences.fasta\n",
      "Created FASTA file with 15 sequences at ./families/Information_benchmark/marker_genes/1408192/sequences.fasta\n",
      "Created FASTA file with 15 sequences at ./families/Information_benchmark/marker_genes/1067331/sequences.fasta\n",
      "Created FASTA file with 14 sequences at ./families/Information_benchmark/marker_genes/1067403/sequences.fasta\n",
      "Created FASTA file with 13 sequences at ./families/Information_benchmark/marker_genes/1408460/sequences.fasta\n",
      "Created FASTA file with 14 sequences at ./families/Information_benchmark/marker_genes/1366596/sequences.fasta\n",
      "Created FASTA file with 17 sequences at ./families/Information_benchmark/marker_genes/770664/sequences.fasta\n",
      "Created FASTA file with 15 sequences at ./families/Information_benchmark/marker_genes/1382125/sequences.fasta\n",
      "Created FASTA file with 18 sequences at ./families/Information_benchmark/marker_genes/1426916/sequences.fasta\n",
      "Created FASTA file with 13 sequences at ./families/Information_benchmark/marker_genes/1067380/sequences.fasta\n",
      "Created FASTA file with 18 sequences at ./families/Information_benchmark/marker_genes/1417309/sequences.fasta\n",
      "Created FASTA file with 15 sequences at ./families/Information_benchmark/marker_genes/1321019/sequences.fasta\n",
      "Created FASTA file with 17 sequences at ./families/Information_benchmark/marker_genes/1323557/sequences.fasta\n",
      "Created FASTA file with 16 sequences at ./families/Information_benchmark/marker_genes/771528/sequences.fasta\n",
      "Created FASTA file with 15 sequences at ./families/Information_benchmark/marker_genes/1392015/sequences.fasta\n",
      "Created FASTA file with 17 sequences at ./families/Information_benchmark/marker_genes/1418302/sequences.fasta\n",
      "Created FASTA file with 18 sequences at ./families/Information_benchmark/marker_genes/896951/sequences.fasta\n",
      "Created FASTA file with 15 sequences at ./families/Information_benchmark/marker_genes/1388923/sequences.fasta\n",
      "Created FASTA file with 16 sequences at ./families/Information_benchmark/marker_genes/1386130/sequences.fasta\n",
      "Created FASTA file with 19 sequences at ./families/Information_benchmark/marker_genes/767485/sequences.fasta\n",
      "Created FASTA file with 13 sequences at ./families/Information_benchmark/marker_genes/1338491/sequences.fasta\n",
      "Created FASTA file with 15 sequences at ./families/Information_benchmark/marker_genes/1395817/sequences.fasta\n",
      "Created FASTA file with 15 sequences at ./families/Information_benchmark/marker_genes/1420832/sequences.fasta\n",
      "Created FASTA file with 18 sequences at ./families/Information_benchmark/marker_genes/1385904/sequences.fasta\n",
      "Created FASTA file with 16 sequences at ./families/Information_benchmark/marker_genes/756874/sequences.fasta\n",
      "Created FASTA file with 15 sequences at ./families/Information_benchmark/marker_genes/1368132/sequences.fasta\n",
      "Created FASTA file with 17 sequences at ./families/Information_benchmark/marker_genes/1059708/sequences.fasta\n",
      "Created FASTA file with 14 sequences at ./families/Information_benchmark/marker_genes/1401205/sequences.fasta\n",
      "Created FASTA file with 14 sequences at ./families/Information_benchmark/marker_genes/1357091/sequences.fasta\n",
      "Created FASTA file with 14 sequences at ./families/Information_benchmark/marker_genes/1029405/sequences.fasta\n",
      "Created FASTA file with 12 sequences at ./families/Information_benchmark/marker_genes/1067528/sequences.fasta\n",
      "Created FASTA file with 16 sequences at ./families/Information_benchmark/marker_genes/1067311/sequences.fasta\n",
      "Created FASTA file with 14 sequences at ./families/Information_benchmark/marker_genes/1067539/sequences.fasta\n",
      "Created FASTA file with 15 sequences at ./families/Information_benchmark/marker_genes/1401951/sequences.fasta\n",
      "Created FASTA file with 14 sequences at ./families/Information_benchmark/marker_genes/1339620/sequences.fasta\n",
      "Created FASTA file with 14 sequences at ./families/Information_benchmark/marker_genes/1411961/sequences.fasta\n",
      "Created FASTA file with 16 sequences at ./families/Information_benchmark/marker_genes/1369555/sequences.fasta\n",
      "Created FASTA file with 18 sequences at ./families/Information_benchmark/marker_genes/1067315/sequences.fasta\n",
      "Created FASTA file with 16 sequences at ./families/Information_benchmark/marker_genes/1360172/sequences.fasta\n",
      "Created FASTA file with 17 sequences at ./families/Information_benchmark/marker_genes/1067483/sequences.fasta\n",
      "Created FASTA file with 14 sequences at ./families/Information_benchmark/marker_genes/1404402/sequences.fasta\n",
      "Created FASTA file with 15 sequences at ./families/Information_benchmark/marker_genes/1407616/sequences.fasta\n",
      "Created FASTA file with 16 sequences at ./families/Information_benchmark/marker_genes/1327813/sequences.fasta\n",
      "Created FASTA file with 13 sequences at ./families/Information_benchmark/marker_genes/1067335/sequences.fasta\n",
      "Created FASTA file with 19 sequences at ./families/Information_benchmark/marker_genes/1428534/sequences.fasta\n",
      "Created FASTA file with 17 sequences at ./families/Information_benchmark/marker_genes/948917/sequences.fasta\n",
      "Created FASTA file with 17 sequences at ./families/Information_benchmark/marker_genes/1347895/sequences.fasta\n",
      "Created FASTA file with 18 sequences at ./families/Information_benchmark/marker_genes/1428602/sequences.fasta\n",
      "Created FASTA file with 17 sequences at ./families/Information_benchmark/marker_genes/1067292/sequences.fasta\n",
      "Created FASTA file with 17 sequences at ./families/Information_benchmark/marker_genes/1387081/sequences.fasta\n",
      "Created FASTA file with 16 sequences at ./families/Information_benchmark/marker_genes/1350625/sequences.fasta\n",
      "Created FASTA file with 16 sequences at ./families/Information_benchmark/marker_genes/1384924/sequences.fasta\n",
      "Created FASTA file with 15 sequences at ./families/Information_benchmark/marker_genes/1067427/sequences.fasta\n",
      "Created FASTA file with 14 sequences at ./families/Information_benchmark/marker_genes/1378162/sequences.fasta\n",
      "Created FASTA file with 16 sequences at ./families/Information_benchmark/marker_genes/1428260/sequences.fasta\n",
      "Created FASTA file with 16 sequences at ./families/Information_benchmark/marker_genes/1301229/sequences.fasta\n",
      "Created FASTA file with 15 sequences at ./families/Information_benchmark/marker_genes/1067469/sequences.fasta\n",
      "Created FASTA file with 16 sequences at ./families/Information_benchmark/marker_genes/807783/sequences.fasta\n",
      "Created FASTA file with 19 sequences at ./families/Information_benchmark/marker_genes/1067291/sequences.fasta\n",
      "Created FASTA file with 16 sequences at ./families/Information_benchmark/marker_genes/1058114/sequences.fasta\n",
      "Created FASTA file with 17 sequences at ./families/Information_benchmark/marker_genes/1067594/sequences.fasta\n",
      "Created FASTA file with 19 sequences at ./families/Information_benchmark/marker_genes/1372178/sequences.fasta\n",
      "Created FASTA file with 13 sequences at ./families/Information_benchmark/marker_genes/1067378/sequences.fasta\n",
      "Created FASTA file with 14 sequences at ./families/Information_benchmark/marker_genes/1377360/sequences.fasta\n",
      "Created FASTA file with 15 sequences at ./families/Information_benchmark/marker_genes/1384538/sequences.fasta\n",
      "Created FASTA file with 17 sequences at ./families/Information_benchmark/marker_genes/1386611/sequences.fasta\n",
      "Created FASTA file with 17 sequences at ./families/Information_benchmark/marker_genes/1417233/sequences.fasta\n",
      "Created FASTA file with 13 sequences at ./families/Information_benchmark/marker_genes/1385575/sequences.fasta\n",
      "Created FASTA file with 18 sequences at ./families/Information_benchmark/marker_genes/1067294/sequences.fasta\n",
      "Created FASTA file with 14 sequences at ./families/Information_benchmark/marker_genes/1384967/sequences.fasta\n",
      "Created FASTA file with 14 sequences at ./families/Information_benchmark/marker_genes/1393276/sequences.fasta\n",
      "Created FASTA file with 13 sequences at ./families/Information_benchmark/marker_genes/1323026/sequences.fasta\n",
      "Created FASTA file with 17 sequences at ./families/Information_benchmark/marker_genes/926217/sequences.fasta\n",
      "Created FASTA file with 16 sequences at ./families/Information_benchmark/marker_genes/1377727/sequences.fasta\n",
      "Created FASTA file with 14 sequences at ./families/Information_benchmark/marker_genes/1067288/sequences.fasta\n",
      "Created FASTA file with 16 sequences at ./families/Information_benchmark/marker_genes/1405641/sequences.fasta\n",
      "Created FASTA file with 15 sequences at ./families/Information_benchmark/marker_genes/1411348/sequences.fasta\n",
      "Created FASTA file with 16 sequences at ./families/Information_benchmark/marker_genes/1067485/sequences.fasta\n",
      "Created FASTA file with 14 sequences at ./families/Information_benchmark/marker_genes/1057967/sequences.fasta\n",
      "Created FASTA file with 18 sequences at ./families/Information_benchmark/marker_genes/1314599/sequences.fasta\n",
      "Created FASTA file with 13 sequences at ./families/Information_benchmark/marker_genes/1402289/sequences.fasta\n",
      "Created FASTA file with 17 sequences at ./families/Information_benchmark/marker_genes/1362709/sequences.fasta\n",
      "Created FASTA file with 16 sequences at ./families/Information_benchmark/marker_genes/1406583/sequences.fasta\n",
      "Created FASTA file with 14 sequences at ./families/Information_benchmark/marker_genes/860686/sequences.fasta\n",
      "Created FASTA file with 16 sequences at ./families/Information_benchmark/marker_genes/1392961/sequences.fasta\n",
      "Created FASTA file with 17 sequences at ./families/Information_benchmark/marker_genes/1067341/sequences.fasta\n",
      "Created FASTA file with 15 sequences at ./families/Information_benchmark/marker_genes/1366871/sequences.fasta\n",
      "Created FASTA file with 17 sequences at ./families/Information_benchmark/marker_genes/767894/sequences.fasta\n",
      "Created FASTA file with 17 sequences at ./families/Information_benchmark/marker_genes/1054529/sequences.fasta\n",
      "Created FASTA file with 17 sequences at ./families/Information_benchmark/marker_genes/1067286/sequences.fasta\n",
      "Created FASTA file with 14 sequences at ./families/Information_benchmark/marker_genes/1067340/sequences.fasta\n",
      "Created FASTA file with 14 sequences at ./families/Information_benchmark/marker_genes/1375210/sequences.fasta\n",
      "Created FASTA file with 14 sequences at ./families/Information_benchmark/marker_genes/1417902/sequences.fasta\n",
      "Created FASTA file with 15 sequences at ./families/Information_benchmark/marker_genes/909352/sequences.fasta\n",
      "Created FASTA file with 13 sequences at ./families/Information_benchmark/marker_genes/1421786/sequences.fasta\n",
      "Created FASTA file with 16 sequences at ./families/Information_benchmark/marker_genes/1344626/sequences.fasta\n",
      "Created FASTA file with 14 sequences at ./families/Information_benchmark/marker_genes/1067338/sequences.fasta\n",
      "Created FASTA file with 17 sequences at ./families/Information_benchmark/marker_genes/1382205/sequences.fasta\n",
      "Created FASTA file with 16 sequences at ./families/Information_benchmark/marker_genes/1392783/sequences.fasta\n",
      "Created FASTA file with 16 sequences at ./families/Information_benchmark/marker_genes/1067442/sequences.fasta\n",
      "Created FASTA file with 19 sequences at ./families/Information_benchmark/marker_genes/1393445/sequences.fasta\n",
      "Created FASTA file with 13 sequences at ./families/Information_benchmark/marker_genes/809602/sequences.fasta\n",
      "Created FASTA file with 16 sequences at ./families/Information_benchmark/marker_genes/1321204/sequences.fasta\n",
      "Created FASTA file with 14 sequences at ./families/Information_benchmark/marker_genes/1403098/sequences.fasta\n",
      "Created FASTA file with 15 sequences at ./families/Information_benchmark/marker_genes/1424970/sequences.fasta\n",
      "Created FASTA file with 16 sequences at ./families/Information_benchmark/marker_genes/1377262/sequences.fasta\n",
      "Created FASTA file with 18 sequences at ./families/Information_benchmark/marker_genes/1067224/sequences.fasta\n",
      "Created FASTA file with 16 sequences at ./families/Information_benchmark/marker_genes/1067319/sequences.fasta\n",
      "Created FASTA file with 14 sequences at ./families/Information_benchmark/marker_genes/1404134/sequences.fasta\n",
      "Created FASTA file with 14 sequences at ./families/Information_benchmark/marker_genes/1067660/sequences.fasta\n",
      "Created FASTA file with 14 sequences at ./families/Information_benchmark/marker_genes/850305/sequences.fasta\n",
      "Created FASTA file with 16 sequences at ./families/Information_benchmark/marker_genes/1424192/sequences.fasta\n",
      "Created FASTA file with 16 sequences at ./families/Information_benchmark/marker_genes/1067424/sequences.fasta\n",
      "Created FASTA file with 15 sequences at ./families/Information_benchmark/marker_genes/1428549/sequences.fasta\n",
      "Created FASTA file with 14 sequences at ./families/Information_benchmark/marker_genes/1359625/sequences.fasta\n",
      "Created FASTA file with 15 sequences at ./families/Information_benchmark/marker_genes/1067590/sequences.fasta\n",
      "Created FASTA file with 16 sequences at ./families/Information_benchmark/marker_genes/1301228/sequences.fasta\n",
      "Created FASTA file with 16 sequences at ./families/Information_benchmark/marker_genes/1423804/sequences.fasta\n",
      "Created FASTA file with 16 sequences at ./families/Information_benchmark/marker_genes/1427447/sequences.fasta\n",
      "Created FASTA file with 13 sequences at ./families/Information_benchmark/marker_genes/1067298/sequences.fasta\n",
      "Created FASTA file with 17 sequences at ./families/Information_benchmark/marker_genes/948913/sequences.fasta\n",
      "Created FASTA file with 16 sequences at ./families/Information_benchmark/marker_genes/1372175/sequences.fasta\n",
      "Created FASTA file with 14 sequences at ./families/Information_benchmark/marker_genes/798622/sequences.fasta\n",
      "Created FASTA file with 14 sequences at ./families/Information_benchmark/marker_genes/1359079/sequences.fasta\n",
      "Created FASTA file with 12 sequences at ./families/Information_benchmark/marker_genes/1067408/sequences.fasta\n",
      "Created FASTA file with 16 sequences at ./families/Information_benchmark/marker_genes/1423772/sequences.fasta\n",
      "Created FASTA file with 14 sequences at ./families/Information_benchmark/marker_genes/885296/sequences.fasta\n",
      "Created FASTA file with 12 sequences at ./families/Information_benchmark/marker_genes/1410168/sequences.fasta\n",
      "Created FASTA file with 14 sequences at ./families/Information_benchmark/marker_genes/1067473/sequences.fasta\n",
      "Created FASTA file with 15 sequences at ./families/Information_benchmark/marker_genes/1067477/sequences.fasta\n",
      "Created FASTA file with 15 sequences at ./families/Information_benchmark/marker_genes/1324983/sequences.fasta\n",
      "Created FASTA file with 16 sequences at ./families/Information_benchmark/marker_genes/1391921/sequences.fasta\n",
      "Created FASTA file with 16 sequences at ./families/Information_benchmark/marker_genes/1356514/sequences.fasta\n",
      "Created FASTA file with 13 sequences at ./families/Information_benchmark/marker_genes/1404525/sequences.fasta\n",
      "Created FASTA file with 16 sequences at ./families/Information_benchmark/marker_genes/1067318/sequences.fasta\n",
      "Created FASTA file with 16 sequences at ./families/Information_benchmark/marker_genes/1368953/sequences.fasta\n",
      "Created FASTA file with 14 sequences at ./families/Information_benchmark/marker_genes/1379420/sequences.fasta\n",
      "Created FASTA file with 13 sequences at ./families/Information_benchmark/marker_genes/1400082/sequences.fasta\n",
      "Created FASTA file with 14 sequences at ./families/Information_benchmark/marker_genes/1067377/sequences.fasta\n",
      "Created FASTA file with 14 sequences at ./families/Information_benchmark/marker_genes/1422784/sequences.fasta\n",
      "Created FASTA file with 15 sequences at ./families/Information_benchmark/marker_genes/1415559/sequences.fasta\n",
      "Created FASTA file with 19 sequences at ./families/Information_benchmark/marker_genes/1067306/sequences.fasta\n",
      "Created FASTA file with 16 sequences at ./families/Information_benchmark/marker_genes/1335742/sequences.fasta\n",
      "Created FASTA file with 17 sequences at ./families/Information_benchmark/marker_genes/771526/sequences.fasta\n",
      "Created FASTA file with 15 sequences at ./families/Information_benchmark/marker_genes/756779/sequences.fasta\n",
      "Created FASTA file with 12 sequences at ./families/Information_benchmark/marker_genes/1067375/sequences.fasta\n",
      "Created FASTA file with 15 sequences at ./families/Information_benchmark/marker_genes/1067299/sequences.fasta\n",
      "Created FASTA file with 16 sequences at ./families/Information_benchmark/marker_genes/1392012/sequences.fasta\n",
      "Created FASTA file with 13 sequences at ./families/Information_benchmark/marker_genes/1349660/sequences.fasta\n",
      "Created FASTA file with 13 sequences at ./families/Information_benchmark/marker_genes/1407217/sequences.fasta\n",
      "Created FASTA file with 18 sequences at ./families/Information_benchmark/marker_genes/1373136/sequences.fasta\n",
      "Created FASTA file with 17 sequences at ./families/Information_benchmark/marker_genes/1416912/sequences.fasta\n",
      "Created FASTA file with 14 sequences at ./families/Information_benchmark/marker_genes/1339487/sequences.fasta\n",
      "Created FASTA file with 14 sequences at ./families/Information_benchmark/marker_genes/1421486/sequences.fasta\n",
      "Created FASTA file with 16 sequences at ./families/Information_benchmark/marker_genes/994374/sequences.fasta\n",
      "Created FASTA file with 17 sequences at ./families/Information_benchmark/marker_genes/817601/sequences.fasta\n",
      "Created FASTA file with 14 sequences at ./families/Information_benchmark/marker_genes/766001/sequences.fasta\n",
      "Created FASTA file with 16 sequences at ./families/Information_benchmark/marker_genes/1067313/sequences.fasta\n",
      "Created FASTA file with 17 sequences at ./families/Information_benchmark/marker_genes/1067240/sequences.fasta\n",
      "Created FASTA file with 14 sequences at ./families/Information_benchmark/marker_genes/1399401/sequences.fasta\n",
      "Created FASTA file with 16 sequences at ./families/Information_benchmark/marker_genes/1414028/sequences.fasta\n",
      "Created FASTA file with 17 sequences at ./families/Information_benchmark/marker_genes/1423256/sequences.fasta\n",
      "Created FASTA file with 17 sequences at ./families/Information_benchmark/marker_genes/1378448/sequences.fasta\n",
      "Created FASTA file with 19 sequences at ./families/Information_benchmark/marker_genes/1427964/sequences.fasta\n",
      "Created FASTA file with 7 sequences at ./families/Information_benchmark/marker_genes/1067396/sequences.fasta\n",
      "Created FASTA file with 17 sequences at ./families/Information_benchmark/marker_genes/1067352/sequences.fasta\n",
      "Created FASTA file with 16 sequences at ./families/Information_benchmark/marker_genes/1314602/sequences.fasta\n",
      "Created FASTA file with 16 sequences at ./families/Information_benchmark/marker_genes/1067452/sequences.fasta\n",
      "Created FASTA file with 15 sequences at ./families/Information_benchmark/marker_genes/1418243/sequences.fasta\n",
      "Created FASTA file with 17 sequences at ./families/Information_benchmark/marker_genes/1392010/sequences.fasta\n",
      "Created FASTA file with 16 sequences at ./families/Information_benchmark/marker_genes/1396669/sequences.fasta\n",
      "Created FASTA file with 18 sequences at ./families/Information_benchmark/marker_genes/814590/sequences.fasta\n",
      "Created FASTA file with 14 sequences at ./families/Information_benchmark/marker_genes/1366074/sequences.fasta\n",
      "Created FASTA file with 16 sequences at ./families/Information_benchmark/marker_genes/946354/sequences.fasta\n",
      "Created FASTA file with 16 sequences at ./families/Information_benchmark/marker_genes/1067317/sequences.fasta\n",
      "Created FASTA file with 15 sequences at ./families/Information_benchmark/marker_genes/1339621/sequences.fasta\n",
      "Created FASTA file with 14 sequences at ./families/Information_benchmark/marker_genes/1401368/sequences.fasta\n",
      "Created FASTA file with 12 sequences at ./families/Information_benchmark/marker_genes/1406896/sequences.fasta\n",
      "Created FASTA file with 18 sequences at ./families/Information_benchmark/marker_genes/809604/sequences.fasta\n",
      "Created FASTA file with 17 sequences at ./families/Information_benchmark/marker_genes/1067430/sequences.fasta\n",
      "Created FASTA file with 16 sequences at ./families/Information_benchmark/marker_genes/1386342/sequences.fasta\n",
      "Created FASTA file with 15 sequences at ./families/Information_benchmark/marker_genes/1350968/sequences.fasta\n",
      "Created FASTA file with 18 sequences at ./families/Information_benchmark/marker_genes/1007909/sequences.fasta\n",
      "Created FASTA file with 15 sequences at ./families/Information_benchmark/marker_genes/1041721/sequences.fasta\n",
      "Created FASTA file with 16 sequences at ./families/Information_benchmark/marker_genes/1392016/sequences.fasta\n",
      "Created FASTA file with 16 sequences at ./families/Information_benchmark/marker_genes/885420/sequences.fasta\n",
      "Created FASTA file with 16 sequences at ./families/Information_benchmark/marker_genes/1301226/sequences.fasta\n",
      "Created FASTA file with 8 sequences at ./families/Information_benchmark/marker_genes/1321861/sequences.fasta\n",
      "Created FASTA file with 17 sequences at ./families/Information_benchmark/marker_genes/1416764/sequences.fasta\n",
      "Created FASTA file with 13 sequences at ./families/Information_benchmark/marker_genes/1067505/sequences.fasta\n",
      "Created FASTA file with 14 sequences at ./families/Information_benchmark/marker_genes/1067221/sequences.fasta\n",
      "Created FASTA file with 16 sequences at ./families/Information_benchmark/marker_genes/1067279/sequences.fasta\n",
      "Created FASTA file with 14 sequences at ./families/Information_benchmark/marker_genes/1380942/sequences.fasta\n",
      "Created FASTA file with 15 sequences at ./families/Information_benchmark/marker_genes/1419873/sequences.fasta\n",
      "Created FASTA file with 18 sequences at ./families/Information_benchmark/marker_genes/1319484/sequences.fasta\n",
      "Created FASTA file with 16 sequences at ./families/Information_benchmark/marker_genes/1377835/sequences.fasta\n",
      "Created FASTA file with 13 sequences at ./families/Information_benchmark/marker_genes/946355/sequences.fasta\n",
      "Created FASTA file with 18 sequences at ./families/Information_benchmark/marker_genes/1301230/sequences.fasta\n",
      "Created FASTA file with 15 sequences at ./families/Information_benchmark/marker_genes/809605/sequences.fasta\n",
      "Created FASTA file with 15 sequences at ./families/Information_benchmark/marker_genes/1332735/sequences.fasta\n",
      "Created FASTA file with 13 sequences at ./families/Information_benchmark/marker_genes/1354853/sequences.fasta\n",
      "Created FASTA file with 13 sequences at ./families/Information_benchmark/marker_genes/1349661/sequences.fasta\n",
      "Created FASTA file with 15 sequences at ./families/Information_benchmark/marker_genes/1428576/sequences.fasta\n",
      "Created FASTA file with 16 sequences at ./families/Information_benchmark/marker_genes/1403516/sequences.fasta\n",
      "Created FASTA file with 14 sequences at ./families/Information_benchmark/marker_genes/1417310/sequences.fasta\n",
      "Created FASTA file with 19 sequences at ./families/Information_benchmark/marker_genes/948912/sequences.fasta\n",
      "Created FASTA file with 16 sequences at ./families/Information_benchmark/marker_genes/1424408/sequences.fasta\n",
      "Created FASTA file with 13 sequences at ./families/Information_benchmark/marker_genes/1003995/sequences.fasta\n",
      "Created FASTA file with 14 sequences at ./families/Information_benchmark/marker_genes/1400686/sequences.fasta\n",
      "Created FASTA file with 13 sequences at ./families/Information_benchmark/marker_genes/881281/sequences.fasta\n",
      "Created FASTA file with 17 sequences at ./families/Information_benchmark/marker_genes/1361927/sequences.fasta\n",
      "Created FASTA file with 16 sequences at ./families/Information_benchmark/marker_genes/1421652/sequences.fasta\n",
      "Created FASTA file with 16 sequences at ./families/Information_benchmark/marker_genes/1067361/sequences.fasta\n",
      "Created FASTA file with 14 sequences at ./families/Information_benchmark/marker_genes/1420134/sequences.fasta\n",
      "Created FASTA file with 15 sequences at ./families/Information_benchmark/marker_genes/1361377/sequences.fasta\n",
      "Created FASTA file with 15 sequences at ./families/Information_benchmark/marker_genes/754554/sequences.fasta\n",
      "Created FASTA file with 15 sequences at ./families/Information_benchmark/marker_genes/1411070/sequences.fasta\n",
      "Created FASTA file with 13 sequences at ./families/Information_benchmark/marker_genes/903509/sequences.fasta\n",
      "Created FASTA file with 14 sequences at ./families/Information_benchmark/marker_genes/1067531/sequences.fasta\n",
      "Created FASTA file with 17 sequences at ./families/Information_benchmark/marker_genes/1312486/sequences.fasta\n",
      "Created FASTA file with 13 sequences at ./families/Information_benchmark/marker_genes/1067568/sequences.fasta\n",
      "Created FASTA file with 17 sequences at ./families/Information_benchmark/marker_genes/1428522/sequences.fasta\n",
      "Created FASTA file with 17 sequences at ./families/Information_benchmark/marker_genes/1416910/sequences.fasta\n",
      "Created FASTA file with 18 sequences at ./families/Information_benchmark/marker_genes/1422622/sequences.fasta\n",
      "Created FASTA file with 13 sequences at ./families/Information_benchmark/marker_genes/1333257/sequences.fasta\n",
      "Created FASTA file with 17 sequences at ./families/Information_benchmark/marker_genes/1417827/sequences.fasta\n",
      "Created FASTA file with 15 sequences at ./families/Information_benchmark/marker_genes/1067369/sequences.fasta\n",
      "Created FASTA file with 15 sequences at ./families/Information_benchmark/marker_genes/1067364/sequences.fasta\n",
      "Created FASTA file with 16 sequences at ./families/Information_benchmark/marker_genes/1067384/sequences.fasta\n",
      "Created FASTA file with 17 sequences at ./families/Information_benchmark/marker_genes/1398068/sequences.fasta\n",
      "Created FASTA file with 15 sequences at ./families/Information_benchmark/marker_genes/1067300/sequences.fasta\n",
      "Created FASTA file with 16 sequences at ./families/Information_benchmark/marker_genes/1396916/sequences.fasta\n",
      "Created FASTA file with 15 sequences at ./families/Information_benchmark/marker_genes/910085/sequences.fasta\n",
      "Created FASTA file with 16 sequences at ./families/Information_benchmark/marker_genes/1400697/sequences.fasta\n",
      "Created FASTA file with 19 sequences at ./families/Information_benchmark/marker_genes/1067222/sequences.fasta\n",
      "Created FASTA file with 16 sequences at ./families/Information_benchmark/marker_genes/1387570/sequences.fasta\n",
      "Created FASTA file with 15 sequences at ./families/Information_benchmark/marker_genes/1428485/sequences.fasta\n",
      "Created FASTA file with 17 sequences at ./families/Information_benchmark/marker_genes/948915/sequences.fasta\n",
      "Created FASTA file with 16 sequences at ./families/Information_benchmark/marker_genes/1351982/sequences.fasta\n",
      "Created FASTA file with 18 sequences at ./families/Information_benchmark/marker_genes/1392014/sequences.fasta\n",
      "Created FASTA file with 15 sequences at ./families/Information_benchmark/marker_genes/1427081/sequences.fasta\n",
      "Created FASTA file with 14 sequences at ./families/Information_benchmark/marker_genes/1422783/sequences.fasta\n",
      "Created FASTA file with 18 sequences at ./families/Information_benchmark/marker_genes/1402098/sequences.fasta\n",
      "Created FASTA file with 14 sequences at ./families/Information_benchmark/marker_genes/814506/sequences.fasta\n",
      "Created FASTA file with 17 sequences at ./families/Information_benchmark/marker_genes/1415741/sequences.fasta\n",
      "Created FASTA file with 16 sequences at ./families/Information_benchmark/marker_genes/1416913/sequences.fasta\n",
      "Created FASTA file with 15 sequences at ./families/Information_benchmark/marker_genes/1364080/sequences.fasta\n",
      "Created FASTA file with 18 sequences at ./families/Information_benchmark/marker_genes/1413803/sequences.fasta\n",
      "Created FASTA file with 16 sequences at ./families/Information_benchmark/marker_genes/1067366/sequences.fasta\n",
      "Created FASTA file with 15 sequences at ./families/Information_benchmark/marker_genes/1386007/sequences.fasta\n",
      "Created FASTA file with 9 sequences at ./families/Information_benchmark/marker_genes/1426395/sequences.fasta\n",
      "Created FASTA file with 15 sequences at ./families/Information_benchmark/marker_genes/1067324/sequences.fasta\n",
      "Created FASTA file with 14 sequences at ./families/Information_benchmark/marker_genes/1425034/sequences.fasta\n",
      "Created FASTA file with 17 sequences at ./families/Information_benchmark/marker_genes/1372896/sequences.fasta\n",
      "Created FASTA file with 16 sequences at ./families/Information_benchmark/marker_genes/818380/sequences.fasta\n",
      "Created FASTA file with 15 sequences at ./families/Information_benchmark/marker_genes/1424134/sequences.fasta\n",
      "Created FASTA file with 15 sequences at ./families/Information_benchmark/marker_genes/1416332/sequences.fasta\n",
      "Created FASTA file with 15 sequences at ./families/Information_benchmark/marker_genes/1356934/sequences.fasta\n",
      "Created FASTA file with 14 sequences at ./families/Information_benchmark/marker_genes/1368291/sequences.fasta\n",
      "Created FASTA file with 15 sequences at ./families/Information_benchmark/marker_genes/1058812/sequences.fasta\n",
      "Created FASTA file with 17 sequences at ./families/Information_benchmark/marker_genes/1395308/sequences.fasta\n",
      "Created FASTA file with 14 sequences at ./families/Information_benchmark/marker_genes/857858/sequences.fasta\n",
      "Created FASTA file with 15 sequences at ./families/Information_benchmark/marker_genes/1410230/sequences.fasta\n",
      "Created FASTA file with 16 sequences at ./families/Information_benchmark/marker_genes/1428408/sequences.fasta\n",
      "Created FASTA file with 14 sequences at ./families/Information_benchmark/marker_genes/796271/sequences.fasta\n",
      "Created FASTA file with 17 sequences at ./families/Information_benchmark/marker_genes/1306941/sequences.fasta\n",
      "Created FASTA file with 4 sequences at ./families/Information_benchmark/marker_genes/1424222/sequences.fasta\n",
      "Created FASTA file with 18 sequences at ./families/Information_benchmark/marker_genes/1353941/sequences.fasta\n",
      "Created FASTA file with 15 sequences at ./families/Information_benchmark/marker_genes/1422111/sequences.fasta\n",
      "Created FASTA file with 17 sequences at ./families/Information_benchmark/marker_genes/1067400/sequences.fasta\n",
      "Created FASTA file with 11 sequences at ./families/Information_benchmark/marker_genes/1067508/sequences.fasta\n",
      "Created FASTA file with 14 sequences at ./families/Information_benchmark/marker_genes/1348743/sequences.fasta\n",
      "Created FASTA file with 14 sequences at ./families/Information_benchmark/marker_genes/1026744/sequences.fasta\n",
      "Created FASTA file with 15 sequences at ./families/Information_benchmark/marker_genes/1044643/sequences.fasta\n",
      "Created FASTA file with 15 sequences at ./families/Information_benchmark/marker_genes/1416859/sequences.fasta\n",
      "Created FASTA file with 15 sequences at ./families/Information_benchmark/marker_genes/1380115/sequences.fasta\n",
      "Created FASTA file with 15 sequences at ./families/Information_benchmark/marker_genes/1423257/sequences.fasta\n",
      "Created FASTA file with 15 sequences at ./families/Information_benchmark/marker_genes/1428356/sequences.fasta\n",
      "Created FASTA file with 17 sequences at ./families/Information_benchmark/marker_genes/1391649/sequences.fasta\n",
      "Created FASTA file with 17 sequences at ./families/Information_benchmark/marker_genes/1342934/sequences.fasta\n",
      "Created FASTA file with 16 sequences at ./families/Information_benchmark/marker_genes/1368292/sequences.fasta\n",
      "Created FASTA file with 13 sequences at ./families/Information_benchmark/marker_genes/1067342/sequences.fasta\n",
      "Created FASTA file with 14 sequences at ./families/Information_benchmark/marker_genes/1067548/sequences.fasta\n",
      "Created FASTA file with 15 sequences at ./families/Information_benchmark/marker_genes/856064/sequences.fasta\n",
      "Created FASTA file with 14 sequences at ./families/Information_benchmark/marker_genes/771295/sequences.fasta\n",
      "Created FASTA file with 15 sequences at ./families/Information_benchmark/marker_genes/1418207/sequences.fasta\n",
      "Created FASTA file with 14 sequences at ./families/Information_benchmark/marker_genes/1412698/sequences.fasta\n",
      "Created FASTA file with 15 sequences at ./families/Information_benchmark/marker_genes/1426251/sequences.fasta\n",
      "Created FASTA file with 15 sequences at ./families/Information_benchmark/marker_genes/1425765/sequences.fasta\n",
      "Created FASTA file with 16 sequences at ./families/Information_benchmark/marker_genes/1368954/sequences.fasta\n",
      "Created FASTA file with 13 sequences at ./families/Information_benchmark/marker_genes/1379871/sequences.fasta\n",
      "Created FASTA file with 15 sequences at ./families/Information_benchmark/marker_genes/848449/sequences.fasta\n",
      "Created FASTA file with 15 sequences at ./families/Information_benchmark/marker_genes/1428026/sequences.fasta\n",
      "Created FASTA file with 14 sequences at ./families/Information_benchmark/marker_genes/1426996/sequences.fasta\n",
      "Created FASTA file with 16 sequences at ./families/Information_benchmark/marker_genes/1067388/sequences.fasta\n",
      "Created FASTA file with 15 sequences at ./families/Information_benchmark/marker_genes/1408429/sequences.fasta\n",
      "Created FASTA file with 16 sequences at ./families/Information_benchmark/marker_genes/1345127/sequences.fasta\n",
      "Created FASTA file with 18 sequences at ./families/Information_benchmark/marker_genes/1399379/sequences.fasta\n",
      "Created FASTA file with 17 sequences at ./families/Information_benchmark/marker_genes/1385037/sequences.fasta\n",
      "Created FASTA file with 17 sequences at ./families/Information_benchmark/marker_genes/1357090/sequences.fasta\n",
      "Created FASTA file with 18 sequences at ./families/Information_benchmark/marker_genes/1067302/sequences.fasta\n",
      "Created FASTA file with 18 sequences at ./families/Information_benchmark/marker_genes/1058810/sequences.fasta\n",
      "Created FASTA file with 18 sequences at ./families/Information_benchmark/marker_genes/948916/sequences.fasta\n",
      "Created FASTA file with 16 sequences at ./families/Information_benchmark/marker_genes/866569/sequences.fasta\n",
      "Created FASTA file with 15 sequences at ./families/Information_benchmark/marker_genes/1067305/sequences.fasta\n",
      "Created FASTA file with 14 sequences at ./families/Information_benchmark/marker_genes/1404358/sequences.fasta\n",
      "Created FASTA file with 13 sequences at ./families/Information_benchmark/marker_genes/1067656/sequences.fasta\n",
      "Created FASTA file with 14 sequences at ./families/Information_benchmark/marker_genes/880794/sequences.fasta\n",
      "Created FASTA file with 16 sequences at ./families/Information_benchmark/marker_genes/1067325/sequences.fasta\n",
      "Created FASTA file with 17 sequences at ./families/Information_benchmark/marker_genes/969600/sequences.fasta\n",
      "Created FASTA file with 14 sequences at ./families/Information_benchmark/marker_genes/1419704/sequences.fasta\n",
      "Created FASTA file with 16 sequences at ./families/Information_benchmark/marker_genes/1427648/sequences.fasta\n",
      "Created FASTA file with 13 sequences at ./families/Information_benchmark/marker_genes/1422688/sequences.fasta\n",
      "Created FASTA file with 17 sequences at ./families/Information_benchmark/marker_genes/1379069/sequences.fasta\n",
      "Created FASTA file with 14 sequences at ./families/Information_benchmark/marker_genes/1067478/sequences.fasta\n",
      "Created FASTA file with 14 sequences at ./families/Information_benchmark/marker_genes/1067308/sequences.fasta\n",
      "Created FASTA file with 20 sequences at ./families/Information_benchmark/marker_genes/948918/sequences.fasta\n",
      "Created FASTA file with 15 sequences at ./families/Information_benchmark/marker_genes/1013205/sequences.fasta\n",
      "Created FASTA file with 16 sequences at ./families/Information_benchmark/marker_genes/885122/sequences.fasta\n",
      "Created FASTA file with 14 sequences at ./families/Information_benchmark/marker_genes/1067223/sequences.fasta\n",
      "Created FASTA file with 13 sequences at ./families/Information_benchmark/marker_genes/1424340/sequences.fasta\n",
      "Created FASTA file with 17 sequences at ./families/Information_benchmark/marker_genes/1425980/sequences.fasta\n",
      "Created FASTA file with 17 sequences at ./families/Information_benchmark/marker_genes/1067443/sequences.fasta\n",
      "Created FASTA file with 16 sequences at ./families/Information_benchmark/marker_genes/1067301/sequences.fasta\n",
      "Created FASTA file with 13 sequences at ./families/Information_benchmark/marker_genes/1427916/sequences.fasta\n",
      "Created FASTA file with 16 sequences at ./families/Information_benchmark/marker_genes/1391837/sequences.fasta\n",
      "Created FASTA file with 15 sequences at ./families/Information_benchmark/marker_genes/770707/sequences.fasta\n",
      "Created FASTA file with 17 sequences at ./families/Information_benchmark/marker_genes/1423805/sequences.fasta\n",
      "Created FASTA file with 15 sequences at ./families/Information_benchmark/marker_genes/1067574/sequences.fasta\n",
      "Created FASTA file with 15 sequences at ./families/Information_benchmark/marker_genes/1067333/sequences.fasta\n",
      "Created FASTA file with 15 sequences at ./families/Information_benchmark/marker_genes/1067401/sequences.fasta\n",
      "Created FASTA file with 13 sequences at ./families/Information_benchmark/marker_genes/1366126/sequences.fasta\n",
      "Created FASTA file with 17 sequences at ./families/Information_benchmark/marker_genes/866568/sequences.fasta\n",
      "Created FASTA file with 14 sequences at ./families/Information_benchmark/marker_genes/1314601/sequences.fasta\n",
      "Created FASTA file with 16 sequences at ./families/Information_benchmark/marker_genes/1408333/sequences.fasta\n",
      "Created FASTA file with 15 sequences at ./families/Information_benchmark/marker_genes/1355879/sequences.fasta\n",
      "Created FASTA file with 15 sequences at ./families/Information_benchmark/marker_genes/1067226/sequences.fasta\n",
      "Created FASTA file with 16 sequences at ./families/Information_benchmark/marker_genes/1372179/sequences.fasta\n",
      "Created FASTA file with 5 sequences at ./families/Information_benchmark/marker_genes/1067332/sequences.fasta\n",
      "Created FASTA file with 20 sequences at ./families/Information_benchmark/marker_genes/1425268/sequences.fasta\n",
      "Created FASTA file with 14 sequences at ./families/Information_benchmark/marker_genes/1399400/sequences.fasta\n",
      "Created FASTA file with 14 sequences at ./families/Information_benchmark/marker_genes/861136/sequences.fasta\n",
      "Created FASTA file with 15 sequences at ./families/Information_benchmark/marker_genes/1067482/sequences.fasta\n",
      "Created FASTA file with 16 sequences at ./families/Information_benchmark/marker_genes/1426696/sequences.fasta\n",
      "Created FASTA file with 13 sequences at ./families/Information_benchmark/marker_genes/1402039/sequences.fasta\n",
      "Created FASTA file with 15 sequences at ./families/Information_benchmark/marker_genes/1344252/sequences.fasta\n",
      "Created FASTA file with 16 sequences at ./families/Information_benchmark/marker_genes/1067467/sequences.fasta\n",
      "Created FASTA file with 14 sequences at ./families/Information_benchmark/marker_genes/1032056/sequences.fasta\n",
      "Created FASTA file with 17 sequences at ./families/Information_benchmark/marker_genes/1302936/sequences.fasta\n",
      "Created FASTA file with 14 sequences at ./families/Information_benchmark/marker_genes/1395310/sequences.fasta\n",
      "Created FASTA file with 14 sequences at ./families/Information_benchmark/marker_genes/1045141/sequences.fasta\n",
      "Created FASTA file with 14 sequences at ./families/Information_benchmark/marker_genes/1067468/sequences.fasta\n",
      "Created FASTA file with 15 sequences at ./families/Information_benchmark/marker_genes/1389411/sequences.fasta\n",
      "Created FASTA file with 18 sequences at ./families/Information_benchmark/marker_genes/1382757/sequences.fasta\n",
      "Created FASTA file with 15 sequences at ./families/Information_benchmark/marker_genes/814482/sequences.fasta\n",
      "Created FASTA file with 14 sequences at ./families/Information_benchmark/marker_genes/882255/sequences.fasta\n",
      "Created FASTA file with 14 sequences at ./families/Information_benchmark/marker_genes/1387326/sequences.fasta\n",
      "Created FASTA file with 16 sequences at ./families/Information_benchmark/marker_genes/874627/sequences.fasta\n",
      "Created FASTA file with 13 sequences at ./families/Information_benchmark/marker_genes/1409631/sequences.fasta\n",
      "Created FASTA file with 16 sequences at ./families/Information_benchmark/marker_genes/809876/sequences.fasta\n",
      "Created FASTA file with 18 sequences at ./families/Information_benchmark/marker_genes/1428115/sequences.fasta\n",
      "Created FASTA file with 14 sequences at ./families/Information_benchmark/marker_genes/958654/sequences.fasta\n",
      "Created FASTA file with 18 sequences at ./families/Information_benchmark/marker_genes/891434/sequences.fasta\n",
      "Created FASTA file with 13 sequences at ./families/Information_benchmark/marker_genes/1066375/sequences.fasta\n",
      "Created FASTA file with 18 sequences at ./families/Information_benchmark/marker_genes/1067525/sequences.fasta\n",
      "Created FASTA file with 14 sequences at ./families/Information_benchmark/marker_genes/1382370/sequences.fasta\n",
      "Created FASTA file with 16 sequences at ./families/Information_benchmark/marker_genes/843003/sequences.fasta\n",
      "Created FASTA file with 14 sequences at ./families/Information_benchmark/marker_genes/1424587/sequences.fasta\n",
      "Created FASTA file with 15 sequences at ./families/Information_benchmark/marker_genes/1319486/sequences.fasta\n",
      "Created FASTA file with 19 sequences at ./families/Information_benchmark/marker_genes/1392013/sequences.fasta\n",
      "Created FASTA file with 17 sequences at ./families/Information_benchmark/marker_genes/882257/sequences.fasta\n",
      "Created FASTA file with 15 sequences at ./families/Information_benchmark/marker_genes/1067310/sequences.fasta\n",
      "Created FASTA file with 5 sequences at ./families/Information_benchmark/marker_genes/1396892/sequences.fasta\n",
      "Created FASTA file with 14 sequences at ./families/Information_benchmark/marker_genes/1067484/sequences.fasta\n",
      "Created FASTA file with 14 sequences at ./families/Information_benchmark/marker_genes/1422110/sequences.fasta\n",
      "Created FASTA file with 16 sequences at ./families/Information_benchmark/marker_genes/885415/sequences.fasta\n",
      "Created FASTA file with 14 sequences at ./families/Information_benchmark/marker_genes/1067389/sequences.fasta\n",
      "Created FASTA file with 12 sequences at ./families/Information_benchmark/marker_genes/1428601/sequences.fasta\n",
      "Created FASTA file with 15 sequences at ./families/Information_benchmark/marker_genes/1067314/sequences.fasta\n",
      "Created FASTA file with 14 sequences at ./families/Information_benchmark/marker_genes/1321021/sequences.fasta\n",
      "Created FASTA file with 18 sequences at ./families/Information_benchmark/marker_genes/1427061/sequences.fasta\n",
      "Created FASTA file with 17 sequences at ./families/Information_benchmark/marker_genes/843002/sequences.fasta\n",
      "Created FASTA file with 7 sequences at ./families/Information_benchmark/marker_genes/923719/sequences.fasta\n",
      "Created FASTA file with 13 sequences at ./families/Information_benchmark/marker_genes/1426551/sequences.fasta\n",
      "Created FASTA file with 17 sequences at ./families/Information_benchmark/marker_genes/1378543/sequences.fasta\n",
      "Created FASTA file with 17 sequences at ./families/Information_benchmark/marker_genes/1419082/sequences.fasta\n",
      "Created FASTA file with 14 sequences at ./families/Information_benchmark/marker_genes/880795/sequences.fasta\n",
      "Created FASTA file with 13 sequences at ./families/Information_benchmark/marker_genes/882256/sequences.fasta\n",
      "Created FASTA file with 16 sequences at ./families/Information_benchmark/marker_genes/1409674/sequences.fasta\n",
      "Created FASTA file with 16 sequences at ./families/Information_benchmark/marker_genes/1428594/sequences.fasta\n",
      "Created FASTA file with 15 sequences at ./families/Information_benchmark/marker_genes/849655/sequences.fasta\n",
      "Created FASTA file with 15 sequences at ./families/Information_benchmark/marker_genes/981782/sequences.fasta\n",
      "Created FASTA file with 13 sequences at ./families/Information_benchmark/marker_genes/1067353/sequences.fasta\n",
      "Created FASTA file with 7 sequences at ./families/Information_benchmark/marker_genes/964788/sequences.fasta\n",
      "Created FASTA file with 17 sequences at ./families/Information_benchmark/marker_genes/1016099/sequences.fasta\n",
      "Created FASTA file with 15 sequences at ./families/Information_benchmark/marker_genes/1380962/sequences.fasta\n",
      "Created FASTA file with 17 sequences at ./families/Information_benchmark/marker_genes/1336183/sequences.fasta\n",
      "Created FASTA file with 15 sequences at ./families/Information_benchmark/marker_genes/1033570/sequences.fasta\n",
      "Created FASTA file with 17 sequences at ./families/Information_benchmark/marker_genes/797780/sequences.fasta\n",
      "Created FASTA file with 15 sequences at ./families/Information_benchmark/marker_genes/1363076/sequences.fasta\n",
      "Created FASTA file with 15 sequences at ./families/Information_benchmark/marker_genes/1301227/sequences.fasta\n",
      "Created FASTA file with 14 sequences at ./families/Information_benchmark/marker_genes/1032103/sequences.fasta\n",
      "Created FASTA file with 15 sequences at ./families/Information_benchmark/marker_genes/1422782/sequences.fasta\n",
      "Created FASTA file with 15 sequences at ./families/Information_benchmark/marker_genes/1003993/sequences.fasta\n",
      "Created FASTA file with 14 sequences at ./families/Information_benchmark/marker_genes/1422747/sequences.fasta\n",
      "Created FASTA file with 15 sequences at ./families/Information_benchmark/marker_genes/1333255/sequences.fasta\n",
      "Created FASTA file with 14 sequences at ./families/Information_benchmark/marker_genes/1386800/sequences.fasta\n",
      "Created FASTA file with 11 sequences at ./families/Information_benchmark/marker_genes/1066376/sequences.fasta\n",
      "Created FASTA file with 10 sequences at ./families/Information_benchmark/marker_genes/1377482/sequences.fasta\n",
      "Created FASTA file with 15 sequences at ./families/Information_benchmark/marker_genes/948914/sequences.fasta\n",
      "Created FASTA file with 14 sequences at ./families/Information_benchmark/marker_genes/1344491/sequences.fasta\n",
      "Created FASTA file with 14 sequences at ./families/Information_benchmark/marker_genes/756269/sequences.fasta\n",
      "Created FASTA file with 14 sequences at ./families/Information_benchmark/marker_genes/1033118/sequences.fasta\n",
      "Created FASTA file with 17 sequences at ./families/Information_benchmark/marker_genes/1427559/sequences.fasta\n",
      "Created FASTA file with 16 sequences at ./families/Information_benchmark/marker_genes/1359411/sequences.fasta\n",
      "Created FASTA file with 15 sequences at ./families/Information_benchmark/marker_genes/756293/sequences.fasta\n",
      "Created FASTA file with 13 sequences at ./families/Information_benchmark/marker_genes/1424679/sequences.fasta\n",
      "Created FASTA file with 14 sequences at ./families/Information_benchmark/marker_genes/1067706/sequences.fasta\n",
      "Created FASTA file with 13 sequences at ./families/Information_benchmark/marker_genes/975840/sequences.fasta\n",
      "Created FASTA file with 19 sequences at ./families/Information_benchmark/marker_genes/948919/sequences.fasta\n",
      "Created FASTA file with 13 sequences at ./families/Information_benchmark/marker_genes/880796/sequences.fasta\n",
      "Created FASTA file with 13 sequences at ./families/Information_benchmark/marker_genes/1428432/sequences.fasta\n",
      "Created FASTA file with 15 sequences at ./families/Information_benchmark/marker_genes/1372542/sequences.fasta\n",
      "Created FASTA file with 15 sequences at ./families/Information_benchmark/marker_genes/944511/sequences.fasta\n",
      "Created FASTA file with 17 sequences at ./families/Information_benchmark/marker_genes/1357092/sequences.fasta\n",
      "Created FASTA file with 17 sequences at ./families/Information_benchmark/marker_genes/1423806/sequences.fasta\n",
      "Created FASTA file with 13 sequences at ./families/Information_benchmark/marker_genes/1067393/sequences.fasta\n",
      "Created FASTA file with 14 sequences at ./families/Information_benchmark/marker_genes/1067297/sequences.fasta\n",
      "Created FASTA file with 11 sequences at ./families/Information_benchmark/marker_genes/806905/sequences.fasta\n",
      "Created FASTA file with 16 sequences at ./families/Information_benchmark/marker_genes/1067337/sequences.fasta\n",
      "Created FASTA file with 18 sequences at ./families/Information_benchmark/marker_genes/1428321/sequences.fasta\n",
      "Created FASTA file with 15 sequences at ./families/Information_benchmark/marker_genes/1067343/sequences.fasta\n",
      "Created FASTA file with 15 sequences at ./families/Information_benchmark/marker_genes/1386391/sequences.fasta\n",
      "Created FASTA file with 15 sequences at ./families/Information_benchmark/marker_genes/1426549/sequences.fasta\n",
      "Created FASTA file with 19 sequences at ./families/Information_benchmark/marker_genes/1426498/sequences.fasta\n",
      "Created FASTA file with 15 sequences at ./families/Information_benchmark/marker_genes/885416/sequences.fasta\n",
      "Created FASTA file with 5 sequences at ./families/Information_benchmark/marker_genes/850276/sequences.fasta\n",
      "Created FASTA file with 14 sequences at ./families/Information_benchmark/marker_genes/1421583/sequences.fasta\n",
      "Created FASTA file with 19 sequences at ./families/Information_benchmark/marker_genes/1322009/sequences.fasta\n",
      "Created FASTA file with 6 sequences at ./families/Information_benchmark/marker_genes/834188/sequences.fasta\n",
      "Created FASTA file with 18 sequences at ./families/Information_benchmark/marker_genes/1414768/sequences.fasta\n",
      "Created FASTA file with 7 sequences at ./families/Information_benchmark/marker_genes/1382235/sequences.fasta\n",
      "Created FASTA file with 17 sequences at ./families/Information_benchmark/marker_genes/1392011/sequences.fasta\n",
      "Created FASTA file with 19 sequences at ./families/Information_benchmark/marker_genes/1067415/sequences.fasta\n",
      "Created FASTA file with 16 sequences at ./families/Information_benchmark/marker_genes/1421179/sequences.fasta\n",
      "Created FASTA file with 13 sequences at ./families/Information_benchmark/marker_genes/770531/sequences.fasta\n",
      "Created FASTA file with 17 sequences at ./families/Information_benchmark/marker_genes/1347800/sequences.fasta\n",
      "Created FASTA file with 14 sequences at ./families/Information_benchmark/marker_genes/1416499/sequences.fasta\n",
      "Created FASTA file with 17 sequences at ./families/Information_benchmark/marker_genes/1346182/sequences.fasta\n",
      "Created FASTA file with 14 sequences at ./families/Information_benchmark/marker_genes/1384023/sequences.fasta\n",
      "Created FASTA file with 14 sequences at ./families/Information_benchmark/marker_genes/1401618/sequences.fasta\n",
      "Created FASTA file with 15 sequences at ./families/Information_benchmark/marker_genes/1067328/sequences.fasta\n",
      "Created FASTA file with 5 sequences at ./families/Information_benchmark/marker_genes/1408781/sequences.fasta\n",
      "Created FASTA file with 15 sequences at ./families/Information_benchmark/marker_genes/948911/sequences.fasta\n",
      "Created FASTA file with 12 sequences at ./families/Information_benchmark/marker_genes/1353298/sequences.fasta\n",
      "Created FASTA file with 14 sequences at ./families/Information_benchmark/marker_genes/1378232/sequences.fasta\n",
      "Created FASTA file with 18 sequences at ./families/Information_benchmark/marker_genes/1330782/sequences.fasta\n",
      "Created FASTA file with 7 sequences at ./families/Information_benchmark/marker_genes/1424223/sequences.fasta\n",
      "Created FASTA file with 14 sequences at ./families/Information_benchmark/marker_genes/994379/sequences.fasta\n",
      "Created FASTA file with 5 sequences at ./families/Information_benchmark/marker_genes/1424224/sequences.fasta\n",
      "Created FASTA file with 4 sequences at ./families/Information_benchmark/marker_genes/1324065/sequences.fasta\n",
      "Created FASTA file with 3 sequences at ./families/Information_benchmark/marker_genes/768489/sequences.fasta\n"
     ]
    }
   ],
   "source": [
    "#create a FASTA file for each marker gene family and use the species mapping from the sub datafram\n",
    "\n",
    "for sub in mapping_df['oma_group'].unique():\n",
    "\tsub_df = mapping_df[mapping_df['oma_group'] == sub]\n",
    "\tstruct_folder = sub_df['struct_folder'].iloc[0]  # Use the first struct folder for this family\n",
    "\toutput_fasta = f\"./families/Information_benchmark/marker_genes/{sub}/sequences.fasta\"\n",
    "\t\n",
    "\t# Create species mapping for this family\n",
    "\tspecies_mapping = dict( (zip(sub_df['1stref'], sub_df['omaid'].apply(lambda x: x[:5]))) )\n",
    "\t\n",
    "\tcreate_fasta_from_pdbs(struct_folder, output_fasta, chain_id='A', species_mapping=species_mapping)"
   ]
  },
  {
   "cell_type": "code",
   "execution_count": null,
   "id": "f8143829",
   "metadata": {},
   "outputs": [
    {
     "name": "stdout",
     "output_type": "stream",
     "text": [
      "Found 500 FASTA files for alignment\n"
     ]
    },
    {
     "name": "stderr",
     "output_type": "stream",
     "text": [
      "100%|███████████████████████████████████████████████| 500/500 [00:00<00:00, 33057.77it/s]"
     ]
    },
    {
     "name": "stdout",
     "output_type": "stream",
     "text": [
      "Aligning: ./families/Information_benchmark/marker_genes/1067473/sequences.fasta\n",
      "Aligning: ./families/Information_benchmark/marker_genes/806905/sequences.fasta\n",
      "Aligning: ./families/Information_benchmark/marker_genes/948912/sequences.fasta\n",
      "Aligning: ./families/Information_benchmark/marker_genes/1067594/sequences.fasta\n",
      "Aligning: ./families/Information_benchmark/marker_genes/850276/sequences.fasta\n",
      "Aligning: ./families/Information_benchmark/marker_genes/1407943/sequences.fasta\n",
      "Aligning: ./families/Information_benchmark/marker_genes/1356514/sequences.fasta\n",
      "Aligning: ./families/Information_benchmark/marker_genes/1422110/sequences.fasta\n",
      "Aligning: ./families/Information_benchmark/marker_genes/1426498/sequences.fasta\n",
      "Aligning: ./families/Information_benchmark/marker_genes/1067568/sequences.fasta\n"
     ]
    },
    {
     "name": "stderr",
     "output_type": "stream",
     "text": [
      "\n"
     ]
    },
    {
     "name": "stdout",
     "output_type": "stream",
     "text": [
      "Aligning: ./families/Information_benchmark/marker_genes/1389411/sequences.fasta\n",
      "Aligning: ./families/Information_benchmark/marker_genes/1418302/sequences.fasta\n",
      "Aligning: ./families/Information_benchmark/marker_genes/1359625/sequences.fasta\n",
      "Aligning: ./families/Information_benchmark/marker_genes/1399401/sequences.fasta\n",
      "Aligning: ./families/Information_benchmark/marker_genes/1301226/sequences.fasta\n",
      "Aligning: ./families/Information_benchmark/marker_genes/1408429/sequences.fasta\n",
      "Aligning: ./families/Information_benchmark/marker_genes/1058810/sequences.fasta\n",
      "Aligning: ./families/Information_benchmark/marker_genes/1350625/sequences.fasta\n",
      "Aligning: ./families/Information_benchmark/marker_genes/1067292/sequences.fasta\n",
      "Aligning: ./families/Information_benchmark/marker_genes/843003/sequences.fasta\n",
      "Aligning: ./families/Information_benchmark/marker_genes/1426395/sequences.fasta\n",
      "Aligning: ./families/Information_benchmark/marker_genes/1032056/sequences.fasta\n",
      "Aligning: ./families/Information_benchmark/marker_genes/1422783/sequences.fasta\n",
      "Aligning: ./families/Information_benchmark/marker_genes/1059708/sequences.fasta\n",
      "Aligning: ./families/Information_benchmark/marker_genes/926217/sequences.fasta\n",
      "Aligning: ./families/Information_benchmark/marker_genes/1067608/sequences.fasta\n",
      "Aligning: ./families/Information_benchmark/marker_genes/814482/sequences.fasta\n",
      "Aligning: ./families/Information_benchmark/marker_genes/1404525/sequences.fasta\n",
      "Aligning: ./families/Information_benchmark/marker_genes/1385575/sequences.fasta\n",
      "Aligning: ./families/Information_benchmark/marker_genes/1426996/sequences.fasta\n",
      "Aligning: ./families/Information_benchmark/marker_genes/1067342/sequences.fasta\n",
      "Aligning: ./families/Information_benchmark/marker_genes/1427081/sequences.fasta\n",
      "Aligning: ./families/Information_benchmark/marker_genes/1351004/sequences.fasta\n",
      "Aligning: ./families/Information_benchmark/marker_genes/857858/sequences.fasta\n",
      "Aligning: ./families/Information_benchmark/marker_genes/1427648/sequences.fasta\n",
      "Aligning: ./families/Information_benchmark/marker_genes/1428576/sequences.fasta\n",
      "Aligning: ./families/Information_benchmark/marker_genes/1422688/sequences.fasta\n",
      "Aligning: ./families/Information_benchmark/marker_genes/1386800/sequences.fasta\n",
      "Aligning: ./families/Information_benchmark/marker_genes/1427559/sequences.fasta\n",
      "Aligning: ./families/Information_benchmark/marker_genes/1333257/sequences.fasta\n",
      "Aligning: ./families/Information_benchmark/marker_genes/1426696/sequences.fasta\n",
      "Aligning: ./families/Information_benchmark/marker_genes/948919/sequences.fasta\n",
      "Aligning: ./families/Information_benchmark/marker_genes/1392012/sequences.fasta\n",
      "Aligning: ./families/Information_benchmark/marker_genes/1336183/sequences.fasta\n",
      "Aligning: ./families/Information_benchmark/marker_genes/1333255/sequences.fasta\n",
      "Aligning: ./families/Information_benchmark/marker_genes/1380962/sequences.fasta\n",
      "Aligning: ./families/Information_benchmark/marker_genes/1406583/sequences.fasta\n",
      "Aligning: ./families/Information_benchmark/marker_genes/866569/sequences.fasta\n",
      "Aligning: ./families/Information_benchmark/marker_genes/1067706/sequences.fasta\n",
      "Aligning: ./families/Information_benchmark/marker_genes/848449/sequences.fasta\n",
      "Aligning: ./families/Information_benchmark/marker_genes/1402098/sequences.fasta\n",
      "Aligning: ./families/Information_benchmark/marker_genes/1350968/sequences.fasta\n",
      "Aligning: ./families/Information_benchmark/marker_genes/981782/sequences.fasta\n",
      "Aligning: ./families/Information_benchmark/marker_genes/1391649/sequences.fasta\n",
      "Aligning: ./families/Information_benchmark/marker_genes/1067574/sequences.fasta\n",
      "Aligning: ./families/Information_benchmark/marker_genes/1424223/sequences.fasta\n",
      "Aligning: ./families/Information_benchmark/marker_genes/771526/sequences.fasta\n",
      "Aligning: ./families/Information_benchmark/marker_genes/874627/sequences.fasta\n",
      "Aligning: ./families/Information_benchmark/marker_genes/1407217/sequences.fasta\n",
      "Aligning: ./families/Information_benchmark/marker_genes/1067333/sequences.fasta\n",
      "Aligning: ./families/Information_benchmark/marker_genes/1366126/sequences.fasta\n",
      "Aligning: ./families/Information_benchmark/marker_genes/1419873/sequences.fasta\n",
      "Aligning: ./families/Information_benchmark/marker_genes/1414028/sequences.fasta\n",
      "Aligning: ./families/Information_benchmark/marker_genes/1416332/sequences.fasta\n",
      "Aligning: ./families/Information_benchmark/marker_genes/756269/sequences.fasta\n",
      "Aligning: ./families/Information_benchmark/marker_genes/1366871/sequences.fasta\n",
      "Aligning: ./families/Information_benchmark/marker_genes/1382370/sequences.fasta\n",
      "Aligning: ./families/Information_benchmark/marker_genes/1388923/sequences.fasta\n",
      "Aligning: ./families/Information_benchmark/marker_genes/1067369/sequences.fasta\n",
      "Aligning: ./families/Information_benchmark/marker_genes/1378162/sequences.fasta\n",
      "Aligning: ./families/Information_benchmark/marker_genes/1382205/sequences.fasta\n",
      "Aligning: ./families/Information_benchmark/marker_genes/1321204/sequences.fasta\n",
      "Aligning: ./families/Information_benchmark/marker_genes/1408781/sequences.fasta\n",
      "Aligning: ./families/Information_benchmark/marker_genes/1067364/sequences.fasta\n",
      "Aligning: ./families/Information_benchmark/marker_genes/1323026/sequences.fasta\n",
      "Aligning: ./families/Information_benchmark/marker_genes/849655/sequences.fasta\n",
      "Aligning: ./families/Information_benchmark/marker_genes/1404402/sequences.fasta\n",
      "Aligning: ./families/Information_benchmark/marker_genes/1422782/sequences.fasta\n",
      "Aligning: ./families/Information_benchmark/marker_genes/1411961/sequences.fasta\n",
      "Aligning: ./families/Information_benchmark/marker_genes/1027516/sequences.fasta\n",
      "Aligning: ./families/Information_benchmark/marker_genes/1067305/sequences.fasta\n",
      "Aligning: ./families/Information_benchmark/marker_genes/1364080/sequences.fasta\n",
      "Aligning: ./families/Information_benchmark/marker_genes/1426499/sequences.fasta\n",
      "Aligning: ./families/Information_benchmark/marker_genes/1417902/sequences.fasta\n",
      "Aligning: ./families/Information_benchmark/marker_genes/944511/sequences.fasta\n",
      "Aligning: ./families/Information_benchmark/marker_genes/1416764/sequences.fasta\n",
      "Aligning: ./families/Information_benchmark/marker_genes/1067531/sequences.fasta\n",
      "Aligning: ./families/Information_benchmark/marker_genes/1359411/sequences.fasta\n",
      "Aligning: ./families/Information_benchmark/marker_genes/856064/sequences.fasta\n",
      "Aligning: ./families/Information_benchmark/marker_genes/1364490/sequences.fasta\n",
      "Aligning: ./families/Information_benchmark/marker_genes/1067353/sequences.fasta\n",
      "Aligning: ./families/Information_benchmark/marker_genes/1067528/sequences.fasta\n",
      "Aligning: ./families/Information_benchmark/marker_genes/1400082/sequences.fasta\n",
      "Aligning: ./families/Information_benchmark/marker_genes/1067430/sequences.fasta\n",
      "Aligning: ./families/Information_benchmark/marker_genes/1392783/sequences.fasta\n",
      "Aligning: ./families/Information_benchmark/marker_genes/1401634/sequences.fasta\n",
      "Aligning: ./families/Information_benchmark/marker_genes/861136/sequences.fasta\n",
      "Aligning: ./families/Information_benchmark/marker_genes/1427447/sequences.fasta\n",
      "Aligning: ./families/Information_benchmark/marker_genes/1067400/sequences.fasta\n",
      "Aligning: ./families/Information_benchmark/marker_genes/1347800/sequences.fasta\n",
      "Aligning: ./families/Information_benchmark/marker_genes/1301229/sequences.fasta\n",
      "Aligning: ./families/Information_benchmark/marker_genes/948915/sequences.fasta\n",
      "Aligning: ./families/Information_benchmark/marker_genes/754554/sequences.fasta\n",
      "Aligning: ./families/Information_benchmark/marker_genes/1067505/sequences.fasta\n",
      "Aligning: ./families/Information_benchmark/marker_genes/1321019/sequences.fasta\n",
      "Aligning: ./families/Information_benchmark/marker_genes/1067389/sequences.fasta\n",
      "Aligning: ./families/Information_benchmark/marker_genes/1067337/sequences.fasta\n",
      "Aligning: ./families/Information_benchmark/marker_genes/1321021/sequences.fasta\n",
      "Aligning: ./families/Information_benchmark/marker_genes/1402289/sequences.fasta\n",
      "Aligning: ./families/Information_benchmark/marker_genes/1067390/sequences.fasta\n",
      "Aligning: ./families/Information_benchmark/marker_genes/1347895/sequences.fasta\n",
      "Aligning: ./families/Information_benchmark/marker_genes/1410681/sequences.fasta\n",
      "Aligning: ./families/Information_benchmark/marker_genes/1067478/sequences.fasta\n",
      "Aligning: ./families/Information_benchmark/marker_genes/1414768/sequences.fasta\n",
      "Aligning: ./families/Information_benchmark/marker_genes/1067469/sequences.fasta\n",
      "Aligning: ./families/Information_benchmark/marker_genes/1363076/sequences.fasta\n",
      "Aligning: ./families/Information_benchmark/marker_genes/1301230/sequences.fasta\n",
      "Aligning: ./families/Information_benchmark/marker_genes/1067484/sequences.fasta\n",
      "Aligning: ./families/Information_benchmark/marker_genes/1392010/sequences.fasta\n",
      "Aligning: ./families/Information_benchmark/marker_genes/814590/sequences.fasta\n",
      "Aligning: ./families/Information_benchmark/marker_genes/1428321/sequences.fasta\n",
      "Aligning: ./families/Information_benchmark/marker_genes/1304109/sequences.fasta\n",
      "Aligning: ./families/Information_benchmark/marker_genes/1406896/sequences.fasta\n",
      "Aligning: ./families/Information_benchmark/marker_genes/1414329/sequences.fasta\n",
      "Aligning: ./families/Information_benchmark/marker_genes/1301227/sequences.fasta\n",
      "Aligning: ./families/Information_benchmark/marker_genes/850305/sequences.fasta\n",
      "Aligning: ./families/Information_benchmark/marker_genes/818380/sequences.fasta\n",
      "Aligning: ./families/Information_benchmark/marker_genes/1067240/sequences.fasta\n",
      "Aligning: ./families/Information_benchmark/marker_genes/1396669/sequences.fasta\n",
      "Aligning: ./families/Information_benchmark/marker_genes/1354853/sequences.fasta\n",
      "Aligning: ./families/Information_benchmark/marker_genes/969600/sequences.fasta\n",
      "Aligning: ./families/Information_benchmark/marker_genes/1379420/sequences.fasta\n",
      "Aligning: ./families/Information_benchmark/marker_genes/1372178/sequences.fasta\n",
      "Aligning: ./families/Information_benchmark/marker_genes/1386611/sequences.fasta\n",
      "Aligning: ./families/Information_benchmark/marker_genes/1045141/sequences.fasta\n",
      "Aligning: ./families/Information_benchmark/marker_genes/1392013/sequences.fasta\n",
      "Aligning: ./families/Information_benchmark/marker_genes/1372896/sequences.fasta\n",
      "Aligning: ./families/Information_benchmark/marker_genes/1396383/sequences.fasta\n",
      "Aligning: ./families/Information_benchmark/marker_genes/1405641/sequences.fasta\n",
      "Aligning: ./families/Information_benchmark/marker_genes/1067279/sequences.fasta\n",
      "Aligning: ./families/Information_benchmark/marker_genes/1338491/sequences.fasta\n",
      "Aligning: ./families/Information_benchmark/marker_genes/1423806/sequences.fasta\n",
      "Aligning: ./families/Information_benchmark/marker_genes/1404134/sequences.fasta\n",
      "Aligning: ./families/Information_benchmark/marker_genes/1392015/sequences.fasta\n",
      "Aligning: ./families/Information_benchmark/marker_genes/770664/sequences.fasta\n",
      "Aligning: ./families/Information_benchmark/marker_genes/796271/sequences.fasta\n",
      "Aligning: ./families/Information_benchmark/marker_genes/1067401/sequences.fasta\n",
      "Aligning: ./families/Information_benchmark/marker_genes/948911/sequences.fasta\n",
      "Aligning: ./families/Information_benchmark/marker_genes/1067224/sequences.fasta\n",
      "Aligning: ./families/Information_benchmark/marker_genes/1067314/sequences.fasta\n",
      "Aligning: ./families/Information_benchmark/marker_genes/1423257/sequences.fasta\n",
      "Aligning: ./families/Information_benchmark/marker_genes/1067335/sequences.fasta\n",
      "Aligning: ./families/Information_benchmark/marker_genes/885420/sequences.fasta\n",
      "Aligning: ./families/Information_benchmark/marker_genes/1421486/sequences.fasta\n",
      "Aligning: ./families/Information_benchmark/marker_genes/1428594/sequences.fasta\n",
      "Aligning: ./families/Information_benchmark/marker_genes/885416/sequences.fasta\n",
      "Aligning: ./families/Information_benchmark/marker_genes/1428602/sequences.fasta\n",
      "Aligning: ./families/Information_benchmark/marker_genes/1379069/sequences.fasta\n",
      "Aligning: ./families/Information_benchmark/marker_genes/958654/sequences.fasta\n",
      "Aligning: ./families/Information_benchmark/marker_genes/1067482/sequences.fasta\n",
      "Aligning: ./families/Information_benchmark/marker_genes/1428485/sequences.fasta\n",
      "Aligning: ./families/Information_benchmark/marker_genes/1319484/sequences.fasta\n",
      "Aligning: ./families/Information_benchmark/marker_genes/1416910/sequences.fasta\n",
      "Aligning: ./families/Information_benchmark/marker_genes/1379871/sequences.fasta\n",
      "Aligning: ./families/Information_benchmark/marker_genes/1067424/sequences.fasta\n",
      "Aligning: ./families/Information_benchmark/marker_genes/1428432/sequences.fasta\n",
      "Aligning: ./families/Information_benchmark/marker_genes/1408192/sequences.fasta\n",
      "Aligning: ./families/Information_benchmark/marker_genes/1392014/sequences.fasta\n",
      "Aligning: ./families/Information_benchmark/marker_genes/1408333/sequences.fasta\n",
      "Aligning: ./families/Information_benchmark/marker_genes/770531/sequences.fasta\n",
      "Aligning: ./families/Information_benchmark/marker_genes/807783/sequences.fasta\n",
      "Aligning: ./families/Information_benchmark/marker_genes/1410230/sequences.fasta\n",
      "Aligning: ./families/Information_benchmark/marker_genes/1339620/sequences.fasta\n",
      "Aligning: ./families/Information_benchmark/marker_genes/1417309/sequences.fasta\n",
      "Aligning: ./families/Information_benchmark/marker_genes/1392961/sequences.fasta\n",
      "Aligning: ./families/Information_benchmark/marker_genes/1067427/sequences.fasta\n",
      "Aligning: ./families/Information_benchmark/marker_genes/948913/sequences.fasta\n",
      "Aligning: ./families/Information_benchmark/marker_genes/1033570/sequences.fasta\n",
      "Aligning: ./families/Information_benchmark/marker_genes/1067388/sequences.fasta\n",
      "Aligning: ./families/Information_benchmark/marker_genes/1049443/sequences.fasta\n",
      "Aligning: ./families/Information_benchmark/marker_genes/1344491/sequences.fasta\n",
      "Aligning: ./families/Information_benchmark/marker_genes/948916/sequences.fasta\n",
      "Aligning: ./families/Information_benchmark/marker_genes/1369555/sequences.fasta\n",
      "Aligning: ./families/Information_benchmark/marker_genes/1395308/sequences.fasta\n",
      "Aligning: ./families/Information_benchmark/marker_genes/923719/sequences.fasta\n",
      "Aligning: ./families/Information_benchmark/marker_genes/1067301/sequences.fasta\n",
      "Aligning: ./families/Information_benchmark/marker_genes/1033118/sequences.fasta\n",
      "Aligning: ./families/Information_benchmark/marker_genes/881281/sequences.fasta\n",
      "Aligning: ./families/Information_benchmark/marker_genes/1368954/sequences.fasta\n",
      "Aligning: ./families/Information_benchmark/marker_genes/1391921/sequences.fasta\n",
      "Aligning: ./families/Information_benchmark/marker_genes/882257/sequences.fasta\n",
      "Aligning: ./families/Information_benchmark/marker_genes/1380942/sequences.fasta\n",
      "Aligning: ./families/Information_benchmark/marker_genes/1409631/sequences.fasta\n",
      "Aligning: ./families/Information_benchmark/marker_genes/1345127/sequences.fasta\n",
      "Aligning: ./families/Information_benchmark/marker_genes/1419704/sequences.fasta\n",
      "Aligning: ./families/Information_benchmark/marker_genes/1378543/sequences.fasta\n",
      "Aligning: ./families/Information_benchmark/marker_genes/1426798/sequences.fasta\n",
      "Aligning: ./families/Information_benchmark/marker_genes/1324983/sequences.fasta\n",
      "Aligning: ./families/Information_benchmark/marker_genes/1377835/sequences.fasta\n",
      "Aligning: ./families/Information_benchmark/marker_genes/1424970/sequences.fasta\n",
      "Aligning: ./families/Information_benchmark/marker_genes/1359079/sequences.fasta\n",
      "Aligning: ./families/Information_benchmark/marker_genes/1357091/sequences.fasta\n",
      "Aligning: ./families/Information_benchmark/marker_genes/1344252/sequences.fasta\n",
      "Aligning: ./families/Information_benchmark/marker_genes/1067525/sequences.fasta\n",
      "Aligning: ./families/Information_benchmark/marker_genes/1400697/sequences.fasta\n",
      "Aligning: ./families/Information_benchmark/marker_genes/1067380/sequences.fasta\n",
      "Aligning: ./families/Information_benchmark/marker_genes/903509/sequences.fasta\n",
      "Aligning: ./families/Information_benchmark/marker_genes/882255/sequences.fasta\n",
      "Aligning: ./families/Information_benchmark/marker_genes/1067322/sequences.fasta\n",
      "Aligning: ./families/Information_benchmark/marker_genes/1416913/sequences.fasta\n",
      "Aligning: ./families/Information_benchmark/marker_genes/1428549/sequences.fasta\n",
      "Aligning: ./families/Information_benchmark/marker_genes/1377262/sequences.fasta\n",
      "Aligning: ./families/Information_benchmark/marker_genes/880794/sequences.fasta\n",
      "Aligning: ./families/Information_benchmark/marker_genes/1067375/sequences.fasta\n",
      "Aligning: ./families/Information_benchmark/marker_genes/1344626/sequences.fasta\n",
      "Aligning: ./families/Information_benchmark/marker_genes/1415559/sequences.fasta\n",
      "Aligning: ./families/Information_benchmark/marker_genes/1422622/sequences.fasta\n",
      "Aligning: ./families/Information_benchmark/marker_genes/771295/sequences.fasta\n",
      "Aligning: ./families/Information_benchmark/marker_genes/1385904/sequences.fasta\n",
      "Aligning: ./families/Information_benchmark/marker_genes/1067377/sequences.fasta\n",
      "Aligning: ./families/Information_benchmark/marker_genes/1366074/sequences.fasta\n",
      "Aligning: ./families/Information_benchmark/marker_genes/797780/sequences.fasta\n",
      "Aligning: ./families/Information_benchmark/marker_genes/1044643/sequences.fasta\n",
      "Aligning: ./families/Information_benchmark/marker_genes/1321861/sequences.fasta\n",
      "Aligning: ./families/Information_benchmark/marker_genes/1384538/sequences.fasta\n",
      "Aligning: ./families/Information_benchmark/marker_genes/860686/sequences.fasta\n",
      "Aligning: ./families/Information_benchmark/marker_genes/1314599/sequences.fasta\n",
      "Aligning: ./families/Information_benchmark/marker_genes/1404358/sequences.fasta\n",
      "Aligning: ./families/Information_benchmark/marker_genes/756874/sequences.fasta\n",
      "Aligning: ./families/Information_benchmark/marker_genes/880796/sequences.fasta\n",
      "Aligning: ./families/Information_benchmark/marker_genes/1424224/sequences.fasta\n",
      "Aligning: ./families/Information_benchmark/marker_genes/1054529/sequences.fasta\n",
      "Aligning: ./families/Information_benchmark/marker_genes/1382235/sequences.fasta\n",
      "Aligning: ./families/Information_benchmark/marker_genes/1368953/sequences.fasta\n",
      "Aligning: ./families/Information_benchmark/marker_genes/1067467/sequences.fasta\n",
      "Aligning: ./families/Information_benchmark/marker_genes/1067660/sequences.fasta\n",
      "Aligning: ./families/Information_benchmark/marker_genes/1407616/sequences.fasta\n",
      "Aligning: ./families/Information_benchmark/marker_genes/1067477/sequences.fasta\n",
      "Aligning: ./families/Information_benchmark/marker_genes/1421652/sequences.fasta\n",
      "Aligning: ./families/Information_benchmark/marker_genes/880795/sequences.fasta\n",
      "Aligning: ./families/Information_benchmark/marker_genes/1360172/sequences.fasta\n",
      "Aligning: ./families/Information_benchmark/marker_genes/1361377/sequences.fasta\n",
      "Aligning: ./families/Information_benchmark/marker_genes/1384924/sequences.fasta\n",
      "Aligning: ./families/Information_benchmark/marker_genes/1398068/sequences.fasta\n",
      "Aligning: ./families/Information_benchmark/marker_genes/1067332/sequences.fasta\n",
      "Aligning: ./families/Information_benchmark/marker_genes/1312486/sequences.fasta\n",
      "Aligning: ./families/Information_benchmark/marker_genes/1322009/sequences.fasta\n",
      "Aligning: ./families/Information_benchmark/marker_genes/1403516/sequences.fasta\n",
      "Aligning: ./families/Information_benchmark/marker_genes/1067468/sequences.fasta\n",
      "Aligning: ./families/Information_benchmark/marker_genes/1425034/sequences.fasta\n",
      "Aligning: ./families/Information_benchmark/marker_genes/1399379/sequences.fasta\n",
      "Aligning: ./families/Information_benchmark/marker_genes/1420134/sequences.fasta\n",
      "Aligning: ./families/Information_benchmark/marker_genes/1401368/sequences.fasta\n",
      "Aligning: ./families/Information_benchmark/marker_genes/1372542/sequences.fasta\n",
      "Aligning: ./families/Information_benchmark/marker_genes/1349661/sequences.fasta\n",
      "Aligning: ./families/Information_benchmark/marker_genes/1016099/sequences.fasta\n",
      "Aligning: ./families/Information_benchmark/marker_genes/768489/sequences.fasta\n",
      "Aligning: ./families/Information_benchmark/marker_genes/1415986/sequences.fasta\n",
      "Aligning: ./families/Information_benchmark/marker_genes/1425765/sequences.fasta\n",
      "Aligning: ./families/Information_benchmark/marker_genes/1311493/sequences.fasta\n",
      "Aligning: ./families/Information_benchmark/marker_genes/1342934/sequences.fasta\n",
      "Aligning: ./families/Information_benchmark/marker_genes/1423804/sequences.fasta\n",
      "Aligning: ./families/Information_benchmark/marker_genes/1401618/sequences.fasta\n",
      "Aligning: ./families/Information_benchmark/marker_genes/1421583/sequences.fasta\n",
      "Aligning: ./families/Information_benchmark/marker_genes/1067306/sequences.fasta\n",
      "Aligning: ./families/Information_benchmark/marker_genes/885122/sequences.fasta\n",
      "Aligning: ./families/Information_benchmark/marker_genes/1067483/sequences.fasta\n",
      "Aligning: ./families/Information_benchmark/marker_genes/1067408/sequences.fasta\n",
      "Aligning: ./families/Information_benchmark/marker_genes/1332735/sequences.fasta\n",
      "Aligning: ./families/Information_benchmark/marker_genes/1067315/sequences.fasta\n",
      "Aligning: ./families/Information_benchmark/marker_genes/834188/sequences.fasta\n",
      "Aligning: ./families/Information_benchmark/marker_genes/1378232/sequences.fasta\n",
      "Aligning: ./families/Information_benchmark/marker_genes/1373136/sequences.fasta\n",
      "Aligning: ./families/Information_benchmark/marker_genes/964788/sequences.fasta\n",
      "Aligning: ./families/Information_benchmark/marker_genes/1067539/sequences.fasta\n",
      "Aligning: ./families/Information_benchmark/marker_genes/1387081/sequences.fasta\n",
      "Aligning: ./families/Information_benchmark/marker_genes/1347738/sequences.fasta\n",
      "Aligning: ./families/Information_benchmark/marker_genes/1380115/sequences.fasta\n",
      "Aligning: ./families/Information_benchmark/marker_genes/1403098/sequences.fasta\n",
      "Aligning: ./families/Information_benchmark/marker_genes/1067656/sequences.fasta\n",
      "Aligning: ./families/Information_benchmark/marker_genes/1067378/sequences.fasta\n",
      "Aligning: ./families/Information_benchmark/marker_genes/1428115/sequences.fasta\n",
      "Aligning: ./families/Information_benchmark/marker_genes/1428386/sequences.fasta\n",
      "Aligning: ./families/Information_benchmark/marker_genes/1368291/sequences.fasta\n",
      "Aligning: ./families/Information_benchmark/marker_genes/1067384/sequences.fasta\n",
      "Aligning: ./families/Information_benchmark/marker_genes/1423805/sequences.fasta\n",
      "Aligning: ./families/Information_benchmark/marker_genes/1408460/sequences.fasta\n",
      "Aligning: ./families/Information_benchmark/marker_genes/771528/sequences.fasta\n",
      "Aligning: ./families/Information_benchmark/marker_genes/1428356/sequences.fasta\n",
      "Aligning: ./families/Information_benchmark/marker_genes/1396892/sequences.fasta\n",
      "Aligning: ./families/Information_benchmark/marker_genes/1361066/sequences.fasta\n",
      "Aligning: ./families/Information_benchmark/marker_genes/1424408/sequences.fasta\n",
      "Aligning: ./families/Information_benchmark/marker_genes/1067288/sequences.fasta\n",
      "Aligning: ./families/Information_benchmark/marker_genes/1428522/sequences.fasta\n",
      "Aligning: ./families/Information_benchmark/marker_genes/1393276/sequences.fasta\n",
      "Aligning: ./families/Information_benchmark/marker_genes/1391837/sequences.fasta\n",
      "Aligning: ./families/Information_benchmark/marker_genes/756293/sequences.fasta\n",
      "Aligning: ./families/Information_benchmark/marker_genes/1067343/sequences.fasta\n",
      "Aligning: ./families/Information_benchmark/marker_genes/1032103/sequences.fasta\n",
      "Aligning: ./families/Information_benchmark/marker_genes/1375210/sequences.fasta\n",
      "Aligning: ./families/Information_benchmark/marker_genes/1335742/sequences.fasta\n",
      "Aligning: ./families/Information_benchmark/marker_genes/767485/sequences.fasta\n",
      "Aligning: ./families/Information_benchmark/marker_genes/1372179/sequences.fasta\n",
      "Aligning: ./families/Information_benchmark/marker_genes/1067296/sequences.fasta\n",
      "Aligning: ./families/Information_benchmark/marker_genes/1410168/sequences.fasta\n",
      "Aligning: ./families/Information_benchmark/marker_genes/1402039/sequences.fasta\n",
      "Aligning: ./families/Information_benchmark/marker_genes/1423256/sequences.fasta\n",
      "Aligning: ./families/Information_benchmark/marker_genes/1413803/sequences.fasta\n",
      "Aligning: ./families/Information_benchmark/marker_genes/767894/sequences.fasta\n",
      "Aligning: ./families/Information_benchmark/marker_genes/1067291/sequences.fasta\n",
      "Aligning: ./families/Information_benchmark/marker_genes/1382757/sequences.fasta\n",
      "Aligning: ./families/Information_benchmark/marker_genes/1007909/sequences.fasta\n",
      "Aligning: ./families/Information_benchmark/marker_genes/946354/sequences.fasta\n",
      "Aligning: ./families/Information_benchmark/marker_genes/1067590/sequences.fasta\n",
      "Aligning: ./families/Information_benchmark/marker_genes/1067297/sequences.fasta\n",
      "Aligning: ./families/Information_benchmark/marker_genes/1401205/sequences.fasta\n",
      "Aligning: ./families/Information_benchmark/marker_genes/1067415/sequences.fasta\n",
      "Aligning: ./families/Information_benchmark/marker_genes/1049256/sequences.fasta\n",
      "Aligning: ./families/Information_benchmark/marker_genes/1067340/sequences.fasta\n",
      "Aligning: ./families/Information_benchmark/marker_genes/1339621/sequences.fasta\n",
      "Aligning: ./families/Information_benchmark/marker_genes/1353941/sequences.fasta\n",
      "Aligning: ./families/Information_benchmark/marker_genes/1067522/sequences.fasta\n",
      "Aligning: ./families/Information_benchmark/marker_genes/1421179/sequences.fasta\n",
      "Aligning: ./families/Information_benchmark/marker_genes/994379/sequences.fasta\n",
      "Aligning: ./families/Information_benchmark/marker_genes/1377727/sequences.fasta\n",
      "Aligning: ./families/Information_benchmark/marker_genes/1067440/sequences.fasta\n",
      "Aligning: ./families/Information_benchmark/marker_genes/1066376/sequences.fasta\n",
      "Aligning: ./families/Information_benchmark/marker_genes/1385037/sequences.fasta\n",
      "Aligning: ./families/Information_benchmark/marker_genes/1314602/sequences.fasta\n",
      "Aligning: ./families/Information_benchmark/marker_genes/1067352/sequences.fasta\n",
      "Aligning: ./families/Information_benchmark/marker_genes/1339487/sequences.fasta\n",
      "Aligning: ./families/Information_benchmark/marker_genes/817601/sequences.fasta\n",
      "Aligning: ./families/Information_benchmark/marker_genes/1416912/sequences.fasta\n",
      "Aligning: ./families/Information_benchmark/marker_genes/1378448/sequences.fasta\n",
      "Aligning: ./families/Information_benchmark/marker_genes/1067313/sequences.fasta\n",
      "Aligning: ./families/Information_benchmark/marker_genes/1353298/sequences.fasta\n",
      "Aligning: ./families/Information_benchmark/marker_genes/1067396/sequences.fasta\n",
      "Aligning: ./families/Information_benchmark/marker_genes/1386391/sequences.fasta\n",
      "Aligning: ./families/Information_benchmark/marker_genes/1067548/sequences.fasta\n",
      "Aligning: ./families/Information_benchmark/marker_genes/1324065/sequences.fasta\n",
      "Aligning: ./families/Information_benchmark/marker_genes/770707/sequences.fasta\n",
      "Aligning: ./families/Information_benchmark/marker_genes/1067310/sequences.fasta\n",
      "Aligning: ./families/Information_benchmark/marker_genes/1361927/sequences.fasta\n",
      "Aligning: ./families/Information_benchmark/marker_genes/1301228/sequences.fasta\n",
      "Aligning: ./families/Information_benchmark/marker_genes/756779/sequences.fasta\n",
      "Aligning: ./families/Information_benchmark/marker_genes/1418243/sequences.fasta\n",
      "Aligning: ./families/Information_benchmark/marker_genes/1067319/sequences.fasta\n",
      "Aligning: ./families/Information_benchmark/marker_genes/1400686/sequences.fasta\n",
      "Aligning: ./families/Information_benchmark/marker_genes/1418490/sequences.fasta\n",
      "Aligning: ./families/Information_benchmark/marker_genes/1302936/sequences.fasta\n",
      "Aligning: ./families/Information_benchmark/marker_genes/1003993/sequences.fasta\n",
      "Aligning: ./families/Information_benchmark/marker_genes/1399400/sequences.fasta\n",
      "Aligning: ./families/Information_benchmark/marker_genes/1066375/sequences.fasta\n",
      "Aligning: ./families/Information_benchmark/marker_genes/1417233/sequences.fasta\n",
      "Aligning: ./families/Information_benchmark/marker_genes/1314601/sequences.fasta\n",
      "Aligning: ./families/Information_benchmark/marker_genes/1425980/sequences.fasta\n",
      "Aligning: ./families/Information_benchmark/marker_genes/1392016/sequences.fasta\n",
      "Aligning: ./families/Information_benchmark/marker_genes/1412698/sequences.fasta\n",
      "Aligning: ./families/Information_benchmark/marker_genes/1067286/sequences.fasta\n",
      "Aligning: ./families/Information_benchmark/marker_genes/1420832/sequences.fasta\n",
      "Aligning: ./families/Information_benchmark/marker_genes/1067299/sequences.fasta\n",
      "Aligning: ./families/Information_benchmark/marker_genes/1386007/sequences.fasta\n",
      "Aligning: ./families/Information_benchmark/marker_genes/1029405/sequences.fasta\n",
      "Aligning: ./families/Information_benchmark/marker_genes/1067324/sequences.fasta\n",
      "Aligning: ./families/Information_benchmark/marker_genes/1424679/sequences.fasta\n",
      "Aligning: ./families/Information_benchmark/marker_genes/1067309/sequences.fasta\n",
      "Aligning: ./families/Information_benchmark/marker_genes/1026744/sequences.fasta\n",
      "Aligning: ./families/Information_benchmark/marker_genes/1393445/sequences.fasta\n",
      "Aligning: ./families/Information_benchmark/marker_genes/1067341/sequences.fasta\n",
      "Aligning: ./families/Information_benchmark/marker_genes/1411070/sequences.fasta\n",
      "Aligning: ./families/Information_benchmark/marker_genes/1351982/sequences.fasta\n",
      "Aligning: ./families/Information_benchmark/marker_genes/891434/sequences.fasta\n",
      "Aligning: ./families/Information_benchmark/marker_genes/1428601/sequences.fasta\n",
      "Aligning: ./families/Information_benchmark/marker_genes/1428260/sequences.fasta\n",
      "Aligning: ./families/Information_benchmark/marker_genes/1067302/sequences.fasta\n",
      "Aligning: ./families/Information_benchmark/marker_genes/1427061/sequences.fasta\n",
      "Aligning: ./families/Information_benchmark/marker_genes/814506/sequences.fasta\n",
      "Aligning: ./families/Information_benchmark/marker_genes/1428408/sequences.fasta\n",
      "Aligning: ./families/Information_benchmark/marker_genes/1400294/sequences.fasta\n",
      "Aligning: ./families/Information_benchmark/marker_genes/1426916/sequences.fasta\n",
      "Aligning: ./families/Information_benchmark/marker_genes/946355/sequences.fasta\n",
      "Aligning: ./families/Information_benchmark/marker_genes/885415/sequences.fasta\n",
      "Aligning: ./families/Information_benchmark/marker_genes/1319486/sequences.fasta\n",
      "Aligning: ./families/Information_benchmark/marker_genes/1395817/sequences.fasta\n",
      "Aligning: ./families/Information_benchmark/marker_genes/1362709/sequences.fasta\n",
      "Aligning: ./families/Information_benchmark/marker_genes/948917/sequences.fasta\n",
      "Aligning: ./families/Information_benchmark/marker_genes/1424587/sequences.fasta\n",
      "Aligning: ./families/Information_benchmark/marker_genes/1377360/sequences.fasta\n",
      "Aligning: ./families/Information_benchmark/marker_genes/1041721/sequences.fasta\n",
      "Aligning: ./families/Information_benchmark/marker_genes/1067311/sequences.fasta\n",
      "Aligning: ./families/Information_benchmark/marker_genes/1348743/sequences.fasta\n",
      "Aligning: ./families/Information_benchmark/marker_genes/1067403/sequences.fasta\n",
      "Aligning: ./families/Information_benchmark/marker_genes/1067393/sequences.fasta\n",
      "Aligning: ./families/Information_benchmark/marker_genes/1418207/sequences.fasta\n",
      "Aligning: ./families/Information_benchmark/marker_genes/1003995/sequences.fasta\n",
      "Aligning: ./families/Information_benchmark/marker_genes/809876/sequences.fasta\n",
      "Aligning: ./families/Information_benchmark/marker_genes/809605/sequences.fasta\n",
      "Aligning: ./families/Information_benchmark/marker_genes/1424340/sequences.fasta\n",
      "Aligning: ./families/Information_benchmark/marker_genes/809604/sequences.fasta\n",
      "Aligning: ./families/Information_benchmark/marker_genes/1426551/sequences.fasta\n",
      "Aligning: ./families/Information_benchmark/marker_genes/1422784/sequences.fasta\n",
      "Aligning: ./families/Information_benchmark/marker_genes/1366596/sequences.fasta\n",
      "Aligning: ./families/Information_benchmark/marker_genes/1427916/sequences.fasta\n",
      "Aligning: ./families/Information_benchmark/marker_genes/1067338/sequences.fasta\n",
      "Aligning: ./families/Information_benchmark/marker_genes/809602/sequences.fasta\n",
      "Aligning: ./families/Information_benchmark/marker_genes/1356934/sequences.fasta\n",
      "Aligning: ./families/Information_benchmark/marker_genes/975840/sequences.fasta\n",
      "Aligning: ./families/Information_benchmark/marker_genes/1372175/sequences.fasta\n",
      "Aligning: ./families/Information_benchmark/marker_genes/1057967/sequences.fasta\n",
      "Aligning: ./families/Information_benchmark/marker_genes/1371487/sequences.fasta\n",
      "Aligning: ./families/Information_benchmark/marker_genes/1421786/sequences.fasta\n",
      "Aligning: ./families/Information_benchmark/marker_genes/926837/sequences.fasta\n",
      "Aligning: ./families/Information_benchmark/marker_genes/1427964/sequences.fasta\n",
      "Aligning: ./families/Information_benchmark/marker_genes/882256/sequences.fasta\n",
      "Aligning: ./families/Information_benchmark/marker_genes/1425268/sequences.fasta\n",
      "Aligning: ./families/Information_benchmark/marker_genes/1067222/sequences.fasta\n",
      "Aligning: ./families/Information_benchmark/marker_genes/896951/sequences.fasta\n",
      "Aligning: ./families/Information_benchmark/marker_genes/1428026/sequences.fasta\n",
      "Aligning: ./families/Information_benchmark/marker_genes/1067361/sequences.fasta\n",
      "Aligning: ./families/Information_benchmark/marker_genes/1406899/sequences.fasta\n",
      "Aligning: ./families/Information_benchmark/marker_genes/1415741/sequences.fasta\n",
      "Aligning: ./families/Information_benchmark/marker_genes/1349660/sequences.fasta\n",
      "Aligning: ./families/Information_benchmark/marker_genes/1067308/sequences.fasta\n",
      "Aligning: ./families/Information_benchmark/marker_genes/1067442/sequences.fasta\n",
      "Aligning: ./families/Information_benchmark/marker_genes/1420269/sequences.fasta\n",
      "Aligning: ./families/Information_benchmark/marker_genes/909352/sequences.fasta\n",
      "Aligning: ./families/Information_benchmark/marker_genes/1345489/sequences.fasta\n",
      "Aligning: ./families/Information_benchmark/marker_genes/1382125/sequences.fasta\n",
      "Aligning: ./families/Information_benchmark/marker_genes/1058114/sequences.fasta\n",
      "Aligning: ./families/Information_benchmark/marker_genes/1067508/sequences.fasta\n",
      "Aligning: ./families/Information_benchmark/marker_genes/1067318/sequences.fasta\n",
      "Aligning: ./families/Information_benchmark/marker_genes/885296/sequences.fasta\n",
      "Aligning: ./families/Information_benchmark/marker_genes/1306941/sequences.fasta\n",
      "Aligning: ./families/Information_benchmark/marker_genes/966408/sequences.fasta\n",
      "Aligning: ./families/Information_benchmark/marker_genes/1417310/sequences.fasta\n",
      "Aligning: ./families/Information_benchmark/marker_genes/1416499/sequences.fasta\n",
      "Aligning: ./families/Information_benchmark/marker_genes/948918/sequences.fasta\n",
      "Aligning: ./families/Information_benchmark/marker_genes/1067325/sequences.fasta\n",
      "Aligning: ./families/Information_benchmark/marker_genes/1410217/sequences.fasta\n",
      "Aligning: ./families/Information_benchmark/marker_genes/1392011/sequences.fasta\n",
      "Aligning: ./families/Information_benchmark/marker_genes/1423772/sequences.fasta\n",
      "Aligning: ./families/Information_benchmark/marker_genes/1327813/sequences.fasta\n",
      "Aligning: ./families/Information_benchmark/marker_genes/1067317/sequences.fasta\n",
      "Aligning: ./families/Information_benchmark/marker_genes/1424192/sequences.fasta\n",
      "Aligning: ./families/Information_benchmark/marker_genes/1417181/sequences.fasta\n",
      "Aligning: ./families/Information_benchmark/marker_genes/1411348/sequences.fasta\n",
      "Aligning: ./families/Information_benchmark/marker_genes/1368132/sequences.fasta\n",
      "Aligning: ./families/Information_benchmark/marker_genes/1058813/sequences.fasta\n",
      "Aligning: ./families/Information_benchmark/marker_genes/1384967/sequences.fasta\n",
      "Aligning: ./families/Information_benchmark/marker_genes/1396916/sequences.fasta\n",
      "Aligning: ./families/Information_benchmark/marker_genes/910085/sequences.fasta\n",
      "Aligning: ./families/Information_benchmark/marker_genes/1413608/sequences.fasta\n",
      "Aligning: ./families/Information_benchmark/marker_genes/1067223/sequences.fasta\n",
      "Aligning: ./families/Information_benchmark/marker_genes/1377482/sequences.fasta\n",
      "Aligning: ./families/Information_benchmark/marker_genes/843002/sequences.fasta\n",
      "Aligning: ./families/Information_benchmark/marker_genes/1013205/sequences.fasta\n",
      "Aligning: ./families/Information_benchmark/marker_genes/1416859/sequences.fasta\n",
      "Aligning: ./families/Information_benchmark/marker_genes/1403152/sequences.fasta\n",
      "Aligning: ./families/Information_benchmark/marker_genes/1419082/sequences.fasta\n",
      "Aligning: ./families/Information_benchmark/marker_genes/1401951/sequences.fasta\n",
      "Aligning: ./families/Information_benchmark/marker_genes/1067294/sequences.fasta\n",
      "Aligning: ./families/Information_benchmark/marker_genes/948914/sequences.fasta\n",
      "Aligning: ./families/Information_benchmark/marker_genes/1346182/sequences.fasta\n",
      "Aligning: ./families/Information_benchmark/marker_genes/1357092/sequences.fasta\n",
      "Aligning: ./families/Information_benchmark/marker_genes/994374/sequences.fasta\n",
      "Aligning: ./families/Information_benchmark/marker_genes/1067300/sequences.fasta\n",
      "Aligning: ./families/Information_benchmark/marker_genes/1067443/sequences.fasta\n",
      "Aligning: ./families/Information_benchmark/marker_genes/1395310/sequences.fasta\n",
      "Aligning: ./families/Information_benchmark/marker_genes/1424134/sequences.fasta\n",
      "Aligning: ./families/Information_benchmark/marker_genes/1417827/sequences.fasta\n",
      "Aligning: ./families/Information_benchmark/marker_genes/1387326/sequences.fasta\n",
      "Aligning: ./families/Information_benchmark/marker_genes/1067452/sequences.fasta\n",
      "Aligning: ./families/Information_benchmark/marker_genes/1357090/sequences.fasta\n",
      "Aligning: ./families/Information_benchmark/marker_genes/1368292/sequences.fasta\n",
      "Aligning: ./families/Information_benchmark/marker_genes/1355879/sequences.fasta\n",
      "Aligning: ./families/Information_benchmark/marker_genes/866568/sequences.fasta\n",
      "Aligning: ./families/Information_benchmark/marker_genes/1424222/sequences.fasta\n",
      "Aligning: ./families/Information_benchmark/marker_genes/1058812/sequences.fasta\n",
      "Aligning: ./families/Information_benchmark/marker_genes/1428534/sequences.fasta\n",
      "Aligning: ./families/Information_benchmark/marker_genes/1067328/sequences.fasta\n",
      "Aligning: ./families/Information_benchmark/marker_genes/1067226/sequences.fasta\n",
      "Aligning: ./families/Information_benchmark/marker_genes/1422747/sequences.fasta\n",
      "Aligning: ./families/Information_benchmark/marker_genes/1426549/sequences.fasta\n",
      "Aligning: ./families/Information_benchmark/marker_genes/766001/sequences.fasta\n",
      "Aligning: ./families/Information_benchmark/marker_genes/1330782/sequences.fasta\n",
      "Aligning: ./families/Information_benchmark/marker_genes/1384023/sequences.fasta\n",
      "Aligning: ./families/Information_benchmark/marker_genes/1067485/sequences.fasta\n",
      "Aligning: ./families/Information_benchmark/marker_genes/977311/sequences.fasta\n",
      "Aligning: ./families/Information_benchmark/marker_genes/1067298/sequences.fasta\n",
      "Aligning: ./families/Information_benchmark/marker_genes/1067221/sequences.fasta\n",
      "Aligning: ./families/Information_benchmark/marker_genes/798622/sequences.fasta\n",
      "Aligning: ./families/Information_benchmark/marker_genes/1067366/sequences.fasta\n",
      "Aligning: ./families/Information_benchmark/marker_genes/1386130/sequences.fasta\n",
      "Aligning: ./families/Information_benchmark/marker_genes/1422111/sequences.fasta\n",
      "Aligning: ./families/Information_benchmark/marker_genes/1426251/sequences.fasta\n",
      "Aligning: ./families/Information_benchmark/marker_genes/1386342/sequences.fasta\n",
      "Aligning: ./families/Information_benchmark/marker_genes/1409674/sequences.fasta\n",
      "Aligning: ./families/Information_benchmark/marker_genes/1067331/sequences.fasta\n",
      "Aligning: ./families/Information_benchmark/marker_genes/1387570/sequences.fasta\n",
      "Aligning: ./families/Information_benchmark/marker_genes/1323557/sequences.fasta\n"
     ]
    }
   ],
   "source": [
    " #use normal mafft to align the sequences\n",
    "import glob\n",
    "from concurrent.futures import ThreadPoolExecutor\n",
    "# Get all FASTA files in the marker gene families\n",
    "fasta_files = glob.glob(\"./families/Information_benchmark/marker_genes/*/sequences.fasta\")\n",
    "print(f\"Found {len(fasta_files)} FASTA files for alignment\")\n",
    "# Align all FASTA files in parallel\n",
    "max_workers = 10  # Leave 1 core free for system processes\n",
    "\n",
    "with ThreadPoolExecutor(max_workers=max_workers) as executor:\n",
    "\tresults = list(executor.map(align_fasta_with_mafft, tqdm.tqdm(fasta_files)))"
   ]
  },
  {
   "cell_type": "code",
   "execution_count": 135,
   "id": "64bd9219",
   "metadata": {
    "vscode": {
     "languageId": "ruby"
    }
   },
   "outputs": [
    {
     "name": "stdout",
     "output_type": "stream",
     "text": [
      "Found 500 aligned FASTA files for concatenation\n"
     ]
    },
    {
     "name": "stderr",
     "output_type": "stream",
     "text": [
      "Concatenating alignments: 100%|██████████████████████| 500/500 [00:00<00:00, 5191.66it/s]\n"
     ]
    },
    {
     "ename": "ValueError",
     "evalue": "Sequences must all be the same length",
     "output_type": "error",
     "traceback": [
      "\u001b[0;31m---------------------------------------------------------------------------\u001b[0m",
      "\u001b[0;31mValueError\u001b[0m                                Traceback (most recent call last)",
      "Cell \u001b[0;32mIn[135], line 115\u001b[0m\n\u001b[1;32m    112\u001b[0m output_file \u001b[38;5;241m=\u001b[39m \u001b[38;5;124m\"\u001b[39m\u001b[38;5;124m./families/Information_benchmark/concatenated_alignment.fasta\u001b[39m\u001b[38;5;124m\"\u001b[39m\n\u001b[1;32m    114\u001b[0m \u001b[38;5;66;03m# Concatenate the alignments\u001b[39;00m\n\u001b[0;32m--> 115\u001b[0m concatenated_alignment, partition_info \u001b[38;5;241m=\u001b[39m \u001b[43mconcatenate_alignments\u001b[49m\u001b[43m(\u001b[49m\u001b[43maligned_fasta_files\u001b[49m\u001b[43m,\u001b[49m\u001b[43m \u001b[49m\u001b[43moutput_file\u001b[49m\u001b[43m)\u001b[49m\n",
      "Cell \u001b[0;32mIn[135], line 91\u001b[0m, in \u001b[0;36mconcatenate_alignments\u001b[0;34m(alignment_files, output_file)\u001b[0m\n\u001b[1;32m     88\u001b[0m \tconcatenated_records\u001b[38;5;241m.\u001b[39mappend(record)\n\u001b[1;32m     90\u001b[0m \u001b[38;5;66;03m# Create and save the concatenated alignment\u001b[39;00m\n\u001b[0;32m---> 91\u001b[0m concatenated_alignment \u001b[38;5;241m=\u001b[39m \u001b[43mMultipleSeqAlignment\u001b[49m\u001b[43m(\u001b[49m\u001b[43mconcatenated_records\u001b[49m\u001b[43m)\u001b[49m\n\u001b[1;32m     93\u001b[0m \u001b[38;5;66;03m# Save alignment to file\u001b[39;00m\n\u001b[1;32m     94\u001b[0m \u001b[38;5;28;01mwith\u001b[39;00m \u001b[38;5;28mopen\u001b[39m(output_file, \u001b[38;5;124m\"\u001b[39m\u001b[38;5;124mw\u001b[39m\u001b[38;5;124m\"\u001b[39m) \u001b[38;5;28;01mas\u001b[39;00m handle:\n",
      "File \u001b[0;32m~/miniforge3/envs/pyg/lib/python3.12/site-packages/Bio/Align/__init__.py:191\u001b[0m, in \u001b[0;36mMultipleSeqAlignment.__init__\u001b[0;34m(self, records, alphabet, annotations, column_annotations)\u001b[0m\n\u001b[1;32m    189\u001b[0m \u001b[38;5;28mself\u001b[39m\u001b[38;5;241m.\u001b[39m_records \u001b[38;5;241m=\u001b[39m []\n\u001b[1;32m    190\u001b[0m \u001b[38;5;28;01mif\u001b[39;00m records:\n\u001b[0;32m--> 191\u001b[0m     \u001b[38;5;28;43mself\u001b[39;49m\u001b[38;5;241;43m.\u001b[39;49m\u001b[43mextend\u001b[49m\u001b[43m(\u001b[49m\u001b[43mrecords\u001b[49m\u001b[43m)\u001b[49m\n\u001b[1;32m    193\u001b[0m \u001b[38;5;66;03m# Annotations about the whole alignment\u001b[39;00m\n\u001b[1;32m    194\u001b[0m \u001b[38;5;28;01mif\u001b[39;00m annotations \u001b[38;5;129;01mis\u001b[39;00m \u001b[38;5;28;01mNone\u001b[39;00m:\n",
      "File \u001b[0;32m~/miniforge3/envs/pyg/lib/python3.12/site-packages/Bio/Align/__init__.py:500\u001b[0m, in \u001b[0;36mMultipleSeqAlignment.extend\u001b[0;34m(self, records)\u001b[0m\n\u001b[1;32m    497\u001b[0m     \u001b[38;5;66;03m# Now continue to the rest of the records as usual\u001b[39;00m\n\u001b[1;32m    499\u001b[0m \u001b[38;5;28;01mfor\u001b[39;00m rec \u001b[38;5;129;01min\u001b[39;00m records:\n\u001b[0;32m--> 500\u001b[0m     \u001b[38;5;28;43mself\u001b[39;49m\u001b[38;5;241;43m.\u001b[39;49m\u001b[43m_append\u001b[49m\u001b[43m(\u001b[49m\u001b[43mrec\u001b[49m\u001b[43m,\u001b[49m\u001b[43m \u001b[49m\u001b[43mexpected_length\u001b[49m\u001b[43m)\u001b[49m\n",
      "File \u001b[0;32m~/miniforge3/envs/pyg/lib/python3.12/site-packages/Bio/Align/__init__.py:562\u001b[0m, in \u001b[0;36mMultipleSeqAlignment._append\u001b[0;34m(self, record, expected_length)\u001b[0m\n\u001b[1;32m    555\u001b[0m \u001b[38;5;66;03m# Currently the get_alignment_length() call is expensive, so we need\u001b[39;00m\n\u001b[1;32m    556\u001b[0m \u001b[38;5;66;03m# to avoid calling it repeatedly for __init__ and extend, hence this\u001b[39;00m\n\u001b[1;32m    557\u001b[0m \u001b[38;5;66;03m# private _append method\u001b[39;00m\n\u001b[1;32m    558\u001b[0m \u001b[38;5;28;01mif\u001b[39;00m expected_length \u001b[38;5;129;01mis\u001b[39;00m \u001b[38;5;129;01mnot\u001b[39;00m \u001b[38;5;28;01mNone\u001b[39;00m \u001b[38;5;129;01mand\u001b[39;00m \u001b[38;5;28mlen\u001b[39m(record) \u001b[38;5;241m!=\u001b[39m expected_length:\n\u001b[1;32m    559\u001b[0m     \u001b[38;5;66;03m# TODO - Use the following more helpful error, but update unit tests\u001b[39;00m\n\u001b[1;32m    560\u001b[0m     \u001b[38;5;66;03m# raise ValueError(\"New sequence is not of length %i\"\u001b[39;00m\n\u001b[1;32m    561\u001b[0m     \u001b[38;5;66;03m#                  % self.get_alignment_length())\u001b[39;00m\n\u001b[0;32m--> 562\u001b[0m     \u001b[38;5;28;01mraise\u001b[39;00m \u001b[38;5;167;01mValueError\u001b[39;00m(\u001b[38;5;124m\"\u001b[39m\u001b[38;5;124mSequences must all be the same length\u001b[39m\u001b[38;5;124m\"\u001b[39m)\n\u001b[1;32m    564\u001b[0m \u001b[38;5;28mself\u001b[39m\u001b[38;5;241m.\u001b[39m_records\u001b[38;5;241m.\u001b[39mappend(record)\n",
      "\u001b[0;31mValueError\u001b[0m: Sequences must all be the same length"
     ]
    }
   ],
   "source": [
    "import glob\n",
    "import os\n",
    "from Bio import AlignIO\n",
    "from Bio.Align import MultipleSeqAlignment\n",
    "from Bio.Seq import Seq\n",
    "from Bio.SeqRecord import SeqRecord\n",
    "from pathlib import Path\n",
    "\n",
    "def concatenate_alignments(alignment_files, output_file):\n",
    "\t\"\"\"\n",
    "\tConcatenate multiple alignment files into a single supermatrix alignment.\n",
    "\t\n",
    "\tParameters:\n",
    "\t-----------\n",
    "\talignment_files : list\n",
    "\t\tList of paths to alignment files in FASTA format\n",
    "\toutput_file : str\n",
    "\t\tPath to save the concatenated alignment\n",
    "\t\t\n",
    "\tReturns:\n",
    "\t--------\n",
    "\ttuple\n",
    "\t\t(concatenated_alignment, partition_info)\n",
    "\t\t- concatenated_alignment: The final MultipleSeqAlignment object\n",
    "\t\t- partition_info: Dictionary with gene boundaries for partition file creation\n",
    "\t\"\"\"\n",
    "\tif not alignment_files:\n",
    "\t\tprint(\"No alignment files provided\")\n",
    "\t\treturn None, {}\n",
    "\t\n",
    "\t# Dictionary to store sequences for each species across all genes\n",
    "\tall_species = {}\n",
    "\tpartition_info = {}\n",
    "\tcurrent_position = 1\n",
    "\t\n",
    "\t# Process each alignment file\n",
    "\tfor i, aln_file in enumerate(tqdm.tqdm(alignment_files, desc=\"Concatenating alignments\")):\n",
    "\t\ttry:\n",
    "\t\t\t# Load the alignment\n",
    "\t\t\tgene_name = Path(aln_file).stem.replace('.aligned', '')\n",
    "\t\t\talignment = AlignIO.read(aln_file, \"fasta\")\n",
    "\t\t\taln_length = alignment.get_alignment_length()\n",
    "\t\t\t\n",
    "\t\t\t# Store partition information\n",
    "\t\t\tpartition_info[gene_name] = {\n",
    "\t\t\t\t'start': current_position,\n",
    "\t\t\t\t'end': current_position + aln_length - 1\n",
    "\t\t\t}\n",
    "\t\t\t\n",
    "\t\t\t# Process each sequence in this alignment\n",
    "\t\t\tfor record in alignment:\n",
    "\t\t\t\t# Extract species identifier from the sequence header\n",
    "\t\t\t\tspecies_id = record.id.split('|')[-1]\n",
    "\t\t\t\t\n",
    "\t\t\t\t# Initialize this species entry if it doesn't exist yet\n",
    "\t\t\t\tif species_id not in all_species:\n",
    "\t\t\t\t\tall_species[species_id] = {}\n",
    "\t\t\t\t\n",
    "\t\t\t\t# Add this gene's sequence for this species\n",
    "\t\t\t\tall_species[species_id][gene_name] = str(record.seq)\n",
    "\t\t\t\n",
    "\t\t\tcurrent_position += aln_length\n",
    "\t\t\t\n",
    "\t\texcept Exception as e:\n",
    "\t\t\tprint(f\"Error processing {aln_file}: {str(e)}\")\n",
    "\t\n",
    "\t# Create the concatenated alignment\n",
    "\tconcatenated_records = []\n",
    "\tgene_names = list(partition_info.keys())\n",
    "\t\n",
    "\tfor species_id, genes in all_species.items():\n",
    "\t\t# Build the concatenated sequence for this species\n",
    "\t\tconcat_seq = \"\"\n",
    "\t\tfor gene in gene_names:\n",
    "\t\t\tif gene in genes:\n",
    "\t\t\t\tconcat_seq += genes[gene]\n",
    "\t\t\telse:\n",
    "\t\t\t\t# If this species doesn't have this gene, add gaps\n",
    "\t\t\t\tgene_length = partition_info[gene]['end'] - partition_info[gene]['start'] + 1\n",
    "\t\t\t\tconcat_seq += \"-\" * gene_length\n",
    "\t\t\n",
    "\t\t# Create a SeqRecord for this concatenated sequence\n",
    "\t\trecord = SeqRecord(\n",
    "\t\t\tSeq(concat_seq),\n",
    "\t\t\tid=species_id,\n",
    "\t\t\tdescription=f\"Concatenated {len(gene_names)} genes\"\n",
    "\t\t)\n",
    "\t\tconcatenated_records.append(record)\n",
    "\t\n",
    "\t# Create and save the concatenated alignment\n",
    "\tconcatenated_alignment = MultipleSeqAlignment(concatenated_records)\n",
    "\t\n",
    "\t# Save alignment to file\n",
    "\twith open(output_file, \"w\") as handle:\n",
    "\t\tAlignIO.write(concatenated_alignment, handle, \"fasta\")\n",
    "\t\n",
    "\t# Create a partition file for RAxML-NG\n",
    "\tpartition_file = f\"{output_file}.partition\"\n",
    "\twith open(partition_file, \"w\") as handle:\n",
    "\t\tfor gene, pos in partition_info.items():\n",
    "\t\t\thandle.write(f\"GTR+G, {gene} = {pos['start']}-{pos['end']}\\n\")\n",
    "\t\n",
    "\tprint(f\"Created concatenated alignment with {len(concatenated_records)} species and {concatenated_alignment.get_alignment_length()} columns\")\n",
    "\tprint(f\"Partition file saved to {partition_file}\")\n",
    "\treturn concatenated_alignment, partition_info\n",
    "\n",
    "# Find all aligned FASTA files\n",
    "aligned_fasta_files = glob.glob(\"./families/Information_benchmark/marker_genes/*/sequences.aligned.fa\")\n",
    "print(f\"Found {len(aligned_fasta_files)} aligned FASTA files for concatenation\")\n",
    "\n",
    "# Define the output file\n",
    "output_file = \"./families/Information_benchmark/concatenated_alignment.fasta\"\n",
    "\n",
    "# Concatenate the alignments\n",
    "concatenated_alignment, partition_info = concatenate_alignments(aligned_fasta_files, output_file)"
   ]
  },
  {
   "cell_type": "code",
   "execution_count": null,
   "id": "cc556452",
   "metadata": {},
   "outputs": [],
   "source": [
    "def run_site_likelihood_analysis(aln , tree , model,  output_prefix = None):\n",
    "\t\"\"\"\n",
    "\tPlaceholder function for running site likelihood analysis.\n",
    "\tThis function should be implemented based on specific requirements.\n",
    "\t\"\"\"\n",
    "\tprint(\"Running site likelihood analysis...\")\n",
    "\t#raxml command is  --force --evaluate --msa your_alignment.phy --model GTR+G --tree fixed_tree.newick --site-lh\n",
    "\t# Example: assumes alignment and tree files are available for each HOG\n",
    "\t# Example: assumes alignment and tree files are available\n",
    "\tif output_prefix is None:\n",
    "\t\toutput_prefix = \"./raxmlng_results/example\"\n",
    "\t# Ensure output directory exists\n",
    "\timport os\n",
    "\tif os.path.exists(os.path.dirname(output_prefix)):\n",
    "\t\tprint(f\"Output directory {os.path.dirname(output_prefix)} already exists.\")\n",
    "\telse:\n",
    "\t\tprint(f\"Creating output directory: {os.path.dirname(output_prefix)}\")\t\n",
    "\t\t# Create output directory if it doesn't exist\n",
    "\t\tos.makedirs(os.path.dirname(output_prefix), exist_ok=True)\n",
    "\n",
    "\tcmd = [\n",
    "\t\t\"raxml-ng\",\n",
    "\t\t\"--force\",\n",
    "\t\t\"--evaluate\",\n",
    "\t\t\"--msa\", aln,\n",
    "\t\t\"--model\", model,\n",
    "\t\t\"--tree\", tree,\n",
    "\t\t\"--site-lh\",\n",
    "\t\t\"--prefix\", output_prefix\n",
    "\t]\n",
    "\tprint(f\"Running: {' '.join(cmd)}\")\n",
    "\tsubprocess.run(cmd, check=True)\n"
   ]
  },
  {
   "cell_type": "code",
   "execution_count": null,
   "id": "2f8e7314",
   "metadata": {},
   "outputs": [],
   "source": [
    "import os\n",
    "import subprocess\n",
    "from pathlib import Path\n",
    "import pandas as pd\n",
    "import numpy as np\n",
    "import re\n",
    "from Bio import AlignIO\n",
    "\n",
    "def extract_site_likelihoods(log_file):\n",
    "\t\"\"\"\n",
    "\tExtract site-wise log-likelihood values from RAxML-NG output\n",
    "\t\n",
    "\tParameters:\n",
    "\t-----------\n",
    "\tlog_file : str\n",
    "\t\tPath to the RAxML-NG log file containing site likelihoods\n",
    "\t\t\n",
    "\tReturns:\n",
    "\t--------\n",
    "\tlist of floats: Site log-likelihood values\n",
    "\t\"\"\"\n",
    "\tlikelihoods = []\n",
    "\t\n",
    "\twith open(log_file, 'r') as f:\n",
    "\t\t# Skip to the part with site likelihoods\n",
    "\t\tfor line in f:\n",
    "\t\t\tif line.startswith('Site '):\n",
    "\t\t\t\tbreak\n",
    "\t\t\t\t\n",
    "\t\t# Parse the likelihood values\n",
    "\t\tfor line in f:\n",
    "\t\t\tif not line.strip() or line.startswith('Site '):\n",
    "\t\t\t\tcontinue\n",
    "\t\t\tif 'Sum' in line:  # End of site likelihoods section\n",
    "\t\t\t\tbreak\n",
    "\t\t\t\t\n",
    "\t\t\tparts = line.strip().split()\n",
    "\t\t\tif len(parts) >= 2:\n",
    "\t\t\t\ttry:\n",
    "\t\t\t\t\tlikelihoods.append(float(parts[1]))\n",
    "\t\t\t\texcept ValueError:\n",
    "\t\t\t\t\tcontinue\n",
    "\t\n",
    "\treturn likelihoods\n",
    "\n",
    "def create_column_likelihood_dataframe(alignment_file, tree_file, log_file,  output_dir=None):\n",
    "\t\"\"\"\n",
    "\tCalculate site likelihoods for an alignment and create a DataFrame with\n",
    "\talignment columns and their corresponding likelihood values\n",
    "\t\n",
    "\tParameters:\n",
    "\t-----------\n",
    "\talignment_file : str\n",
    "\t\tPath to the aligned FASTA file\n",
    "\ttree_file : str\n",
    "\t\tPath to the tree file in Newick format\n",
    "\toutput_dir : str or None\n",
    "\t\tDirectory to store intermediate files (defaults to same directory as alignment)\n",
    "\t\t\n",
    "\tReturns:\n",
    "\t--------\n",
    "\tpandas.DataFrame: DataFrame with columns for site index, alignment column, and likelihood\n",
    "\t\"\"\"\n",
    "\tif output_dir is None:\n",
    "\t\toutput_dir = os.path.dirname(alignment_file)\n",
    "\t\n",
    "\t# Load the alignment\n",
    "\talignment = AlignIO.read(alignment_file, \"fasta\")\n",
    "\t# Extract site likelihoods\n",
    "\tlikelihoods = extract_site_likelihoods(log_file)\n",
    "\t# Prepare data for DataFrame\n",
    "\tdata = []\n",
    "\tfor i in range(alignment.get_alignment_length()):\n",
    "\t\tif i < len(likelihoods):\n",
    "\t\t\tcolumn = [record.seq[i] for record in alignment]\n",
    "\t\t\tcolumn_str = ''.join(column)\n",
    "\t\t\tdata.append({\n",
    "\t\t\t\t'Site': i + 1,\n",
    "\t\t\t\t'Alignment_Column': column_str,\n",
    "\t\t\t\t'Log_Likelihood': likelihoods[i]\n",
    "\t\t\t})\n",
    "\t# Create DataFrame\n",
    "\tdf = pd.DataFrame(data)\n",
    "\treturn df\n"
   ]
  },
  {
   "cell_type": "code",
   "execution_count": null,
   "id": "37ec1ffa",
   "metadata": {},
   "outputs": [],
   "source": []
  },
  {
   "cell_type": "markdown",
   "id": "d4a3ee3c",
   "metadata": {},
   "source": [
    "## Align FoldTree2-encoded FASTA Files with MAFFT\n",
    "This cell will align all encoded FASTA files in a directory using MAFFT, producing aligned FASTA files for downstream benchmarking."
   ]
  },
  {
   "cell_type": "code",
   "execution_count": null,
   "id": "246d0a37",
   "metadata": {},
   "outputs": [],
   "source": [
    "import glob\n",
    "import os\n",
    "import subprocess\n",
    "from pathlib import Path\n",
    "\n",
    "\n",
    "for fam in \n",
    "\n",
    "# Directory containing encoded FASTA files\n",
    "encoded_dir = './families/encoded_fastas/'  # Change to your directory\n",
    "os.makedirs(encoded_dir, exist_ok=True)\n",
    "\n",
    "# Find all encoded FASTA files\n",
    "encoded_fastas = list(Path(encoded_dir).glob(\"*.fasta\"))\n",
    "print(f\"Found {len(encoded_fastas)} encoded FASTA files.\")\n",
    "\n",
    "# Align each encoded FASTA file using MAFFT via treebuilder's static method\n",
    "for fasta_file in encoded_fastas:\n",
    "\taligned_path = str(fasta_file.with_name(f\"{fasta_file.stem}.aligned.fasta\"))\n",
    "\ttb.run_mafft_textaln(str(fasta_file), outaln=aligned_path, matrix=mafftmat)\n",
    "\tprint(f\"Aligned {fasta_file} -> {aligned_path}\")\n",
    "\n",
    "\n"
   ]
  },
  {
   "cell_type": "code",
   "execution_count": null,
   "id": "07392b47",
   "metadata": {},
   "outputs": [],
   "source": [
    "#be"
   ]
  }
 ],
 "metadata": {
  "kernelspec": {
   "display_name": "Python 3 (ipykernel)",
   "language": "python",
   "name": "python3"
  },
  "language_info": {
   "codemirror_mode": {
    "name": "ipython",
    "version": 3
   },
   "file_extension": ".py",
   "mimetype": "text/x-python",
   "name": "python",
   "nbconvert_exporter": "python",
   "pygments_lexer": "ipython3",
   "version": "3.12.3"
  }
 },
 "nbformat": 4,
 "nbformat_minor": 5
}
