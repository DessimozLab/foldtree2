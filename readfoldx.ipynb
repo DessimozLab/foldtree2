{
 "cells": [
  {
   "cell_type": "code",
   "execution_count": 3,
   "metadata": {},
   "outputs": [
    {
     "name": "stdout",
     "output_type": "stream",
     "text": [
      "/home/dmoi/projects/foldtree2\n"
     ]
    }
   ],
   "source": [
    "cd /home/dmoi/projects/foldtree2"
   ]
  },
  {
   "cell_type": "code",
   "execution_count": 4,
   "metadata": {},
   "outputs": [
    {
     "name": "stdout",
     "output_type": "stream",
     "text": [
      "['./foldx/A0A1F9D0Q8_0_ST.fxout', './foldx/A0A327VZX3_0_ST.fxout', './foldx/A0A7X9JI84_0_ST.fxout', './foldx/A0A1M6UJB4_0_ST.fxout', './foldx/A0A7J7BAC1_0_ST.fxout', './foldx/A0A6H1L5R7_0_ST.fxout', './foldx/D7KBZ6_0_ST.fxout', './foldx/A0A843W5F4_0_ST.fxout', './foldx/A0A2N1PT18_0_ST.fxout', './foldx/A0A2E0UAJ4_0_ST.fxout']\n"
     ]
    }
   ],
   "source": [
    "import glob\n",
    "files = glob.glob('./foldx/*.fxout')\n",
    "print( files[0:10])"
   ]
  },
  {
   "cell_type": "code",
   "execution_count": 12,
   "metadata": {},
   "outputs": [
    {
     "name": "stdout",
     "output_type": "stream",
     "text": [
      "184.0\n",
      "418.953195\n",
      "('A0A1F9D0Q8', [181.185, -60.4596, -5.56246, -94.4224, -2.95962, 151.806, -115.095, 10.3901, 37.2031, 263.784, 0.0, 0.0, 1.12406, 7.00105, 56.5841, -0.252772, 0.0, -11.5569, 0.0, 0.0, 0.184537, 0.0, 184.0])\n"
     ]
    }
   ],
   "source": [
    "def read_foldx_file(file):\n",
    "\twith open(file) as f:\n",
    "\t\tlines = f.read().split('\\t')\n",
    "\t\tpdb = lines[0].split('/')[-1].split('.')[0]\n",
    "\t\tvalues = [ float( n ) for n in lines[ 1 : ] ]\n",
    "\treturn pdb, values\n",
    "\n",
    "print( read_foldx_file(files[0]) )"
   ]
  },
  {
   "cell_type": "code",
   "execution_count": null,
   "metadata": {},
   "outputs": [],
   "source": []
  }
 ],
 "metadata": {
  "kernelspec": {
   "display_name": "Python 3 (ipykernel)",
   "language": "python",
   "name": "python3"
  },
  "language_info": {
   "codemirror_mode": {
    "name": "ipython",
    "version": 3
   },
   "file_extension": ".py",
   "mimetype": "text/x-python",
   "name": "python",
   "nbconvert_exporter": "python",
   "pygments_lexer": "ipython3",
   "version": "3.12.3"
  }
 },
 "nbformat": 4,
 "nbformat_minor": 2
}
