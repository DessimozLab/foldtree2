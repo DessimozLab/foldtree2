{
 "cells": [
  {
   "cell_type": "code",
   "execution_count": 2,
   "metadata": {},
   "outputs": [],
   "source": [
    "%load_ext autoreload\n",
    "%autoreload 2"
   ]
  },
  {
   "cell_type": "code",
   "execution_count": 3,
   "metadata": {},
   "outputs": [
    {
     "name": "stdout",
     "output_type": "stream",
     "text": [
      "/home/dmoi/projects/foldtree2\n"
     ]
    }
   ],
   "source": [
    "cd projects/foldtree2"
   ]
  },
  {
   "cell_type": "code",
   "execution_count": 17,
   "metadata": {},
   "outputs": [],
   "source": [
    "import sys\n",
    "sys.path.append('/home/dmoi/projects/foldtree2')\n",
    "#read the afdb clusters file\n",
    "import pandas as pd\n",
    "import numpy as np\n",
    "import glob\n",
    "import os\n",
    "#autoreload\n",
    "import pickle\n",
    "from src import AFDB_tools\n",
    "import tqdm"
   ]
  },
  {
   "cell_type": "code",
   "execution_count": 18,
   "metadata": {},
   "outputs": [],
   "source": [
    "datadir = '../../datasets/foldtree2/'"
   ]
  },
  {
   "cell_type": "code",
   "execution_count": 19,
   "metadata": {},
   "outputs": [
    {
     "name": "stdout",
     "output_type": "stream",
     "text": [
      "reps       entryId       repId    taxId\n",
      "0  A0A009E921  A0A009E921  1310605\n",
      "1  A0A009F5K6  A0A009E921  1310605\n",
      "2  A0A009E9H3  A0A009E9H3  1310605\n",
      "3  A0A484ZLT0  A0A009E9H3    82979\n",
      "4  A0A009ECR5  A0A009ECR5  1310605\n"
     ]
    }
   ],
   "source": [
    "\n",
    "#read the afdb rep file\n",
    "reps = pd.read_table( datadir + 'afdbclusters/1-AFDBClusters-entryId_repId_taxId.tsv', header=None, names=['entryId', 'repId', 'taxId'] )\n",
    "print( 'reps' , reps.head() )\n"
   ]
  },
  {
   "cell_type": "code",
   "execution_count": 20,
   "metadata": {},
   "outputs": [
    {
     "name": "stdout",
     "output_type": "stream",
     "text": [
      "['A0A6A6MTL2', 'S8AHX0', 'A0A3D4Y7U3', 'A0A182QEX7', 'A0A7R8CEM3', 'A0A1B6MIL6', 'A0A4S4D698', 'A0A2X0NIQ0', 'A0A495JSP3', 'A0A3C0CY76']\n"
     ]
    }
   ],
   "source": [
    "\n",
    "structs = glob.glob( datadir+'structs/*.pdb' )\n",
    "#remove the .pdb extension\n",
    "structs = [ s.split( '/' )[-1].split( '.' )[0] for s in structs ]\n",
    "print(structs[0:10])"
   ]
  },
  {
   "cell_type": "code",
   "execution_count": 21,
   "metadata": {},
   "outputs": [
    {
     "name": "stdout",
     "output_type": "stream",
     "text": [
      "52310          entryId       repId    taxId\n",
      "4934  A0A011P981  A0A011P981  1454005\n",
      "4935  A0A090T2D3  A0A011P981   990271\n",
      "4936  A0A377ZK61  A0A011P981      574\n",
      "4937  A0A379ZCQ2  A0A011P981      615\n",
      "4938  A0A4U9U8T5  A0A011P981    47917\n"
     ]
    }
   ],
   "source": [
    "#select the reps that have structures\n",
    "reps = reps[ reps['repId'].isin( structs ) ]\n",
    "print(  len(reps)  , reps.head() )"
   ]
  },
  {
   "cell_type": "code",
   "execution_count": 11,
   "metadata": {},
   "outputs": [],
   "source": [
    "#make a structure alignment directory\n",
    "if not os.path.exists( 'struct_align' ):\n",
    "    os.makedirs( 'struct_align' )\n",
    "\n",
    "#make a directory for each cluster representative\n",
    "for rep in reps['repId']:\n",
    "    if not os.path.exists( datadir +'struct_align/' + rep  ):\n",
    "        os.makedirs(datadir + 'struct_align/' + rep  )\n",
    "    if not os.path.exists( datadir+ 'struct_align/' + rep  + '/structs/'):\n",
    "        os.makedirs( datadir+ 'struct_align/' + rep + '/structs/' )\n",
    "        "
   ]
  },
  {
   "cell_type": "code",
   "execution_count": 10,
   "metadata": {},
   "outputs": [],
   "source": [
    "#download n struct members for each cluster\n",
    "dl_structs = False\n",
    "if dl_structs == True:\n",
    "    n = 5\n",
    "    for rep in tqdm.tqdm(reps.repId.unique() ):\n",
    "        subdf = reps[ reps['repId'] == rep ]\n",
    "        if len(subdf) < n:\n",
    "            n = len(subdf)\n",
    "        subdf = subdf.sample( n = n  )\n",
    "        subdf = subdf.head( n )\n",
    "        #download the structures\n",
    "        for uniID in subdf['entryId']:\n",
    "            AFDB_tools.grab_struct(uniID , structfolder=datadir+'struct_align/' + rep  + '/structs/')"
   ]
  },
  {
   "cell_type": "code",
   "execution_count": 11,
   "metadata": {},
   "outputs": [],
   "source": [
    "#for each folder in struct_align, align the structures with all vs all using foldseek\n",
    "from src import foldseek2tree\n",
    "aln_structs = False\n",
    "if aln_structs == True:\n",
    "    for rep in tqdm.tqdm(reps.repId.unique() ):\n",
    "        #align the structures\n",
    "        foldseek2tree.runFoldseek_allvall_EZsearch( infolder= datadir + 'struct_align/' + rep  + '/structs/', outpath=datadir+'struct_align/' + rep + '/allvall.csv' )\n"
   ]
  },
  {
   "cell_type": "code",
   "execution_count": 14,
   "metadata": {},
   "outputs": [
    {
     "name": "stderr",
     "output_type": "stream",
     "text": [
      "28it [00:00, 47240.75it/s]"
     ]
    },
    {
     "name": "stdout",
     "output_type": "stream",
     "text": [
      "                                                              seq\n",
      "protid                                                           \n",
      "A0A0B0EGE4.pdb  [ttO{{»»»»»»»»ââââââââââââââââââââââââââ[[[[[[...\n",
      "A0A6M1Q9D4.pdb  [ttO{{»»»»»»»»ââââââââââââââââââââââââââ[[[[[[...\n",
      "A0A7W6LMN5.pdb  [ttO{{»»»»»»»»ââââââââââââââââââââââââââ[[[[[[...\n",
      "A0A090ZGQ5.pdb  [ttO{{»»»»»»»»ââââââââââââââââââââââââââ[[[[[[...\n"
     ]
    },
    {
     "name": "stderr",
     "output_type": "stream",
     "text": [
      "\n"
     ]
    }
   ],
   "source": [
    "import re \n",
    "encoded_fasta = '/home/dmoi/projects/foldtree2/structalign.strct.fasta' \n",
    "\n",
    "start = '//////startprot//////.*//////'\n",
    "#re containing wildcards\n",
    "start_re = re.compile( start )\n",
    "stop = '//////endprot//////'\n",
    "#re containing wildcards\n",
    "stop_re = re.compile( stop )\n",
    "seqstr = ''\n",
    "seqdict = {}\n",
    "ID = ''\n",
    "with open(encoded_fasta, 'r') as f:\n",
    "    #read all chars of file into a string\n",
    "    for line in tqdm.tqdm(f):\n",
    "        if '//////startprot//////' in line:\n",
    "            seqstr = ''\n",
    "            ID = line.split( '//////' )[2].split('/')[-1]\n",
    "        elif '//////contacts//////' in line:\n",
    "            seqdict[ID] = seqstr\n",
    "        else:\n",
    "            #include carriage returns\n",
    "            seqstr += line+'\\n'\n",
    "encoded_df = pd.DataFrame( seqdict.items() , columns=['protid', 'seq'] )\n",
    "#change index to protid\n",
    "encoded_df.index = encoded_df.protid\n",
    "encoded_df = encoded_df.drop( 'protid', axis=1 )\n",
    "print(encoded_df)"
   ]
  },
  {
   "cell_type": "code",
   "execution_count": null,
   "metadata": {},
   "outputs": [],
   "source": [
    "encoded_fasta = '/home/dmoi/projects/foldtree2/structalign.fasta' \n",
    "\n",
    "seqstr = ''\n",
    "ID = ''\n",
    "\n",
    "with open(encoded_fasta, 'r') as f:\n",
    "    #read all chars of file into a string\n",
    "    for line in tqdm.tqdm(f):\n",
    "        if line[0] == '>' and line[-1] == '\\n':\n",
    "            seqdict[ID] = seqstr\n",
    "            ID = line[1:].strip()\n",
    "            seqstr = ''\n",
    "        else:\n",
    "            seqstr += line\n",
    "            \n",
    "encoded_df = pd.DataFrame( seqdict.items() , columns=['protid', 'seq'] )\n",
    "#change index to protid\n",
    "encoded_df.index = encoded_df.protid"
   ]
  },
  {
   "cell_type": "code",
   "execution_count": 23,
   "metadata": {},
   "outputs": [
    {
     "name": "stdout",
     "output_type": "stream",
     "text": [
      "0 \u0000 0x0\n",
      "1 \u0001 0x1\n",
      "2 \u0002 0x2\n",
      "3 \u0003 0x3\n",
      "4 \u0004 0x4\n",
      "5 \u0005 0x5\n",
      "6 \u0006 0x6\n",
      "7 \u0007 0x7\n",
      "8 0x8\n",
      "9 \t 0x9\n",
      "10 \n",
      " 0xa\n",
      "11 \u000b 0xb\n",
      "12 \f 0xc\n",
      " 0xd\n",
      "14 \u000e 0xe\n",
      "15 \u000f 0xf\n",
      "16 \u0010 0x10\n",
      "17 \u0011 0x11\n",
      "18 \u0012 0x12\n",
      "19 \u0013 0x13\n",
      "20 \u0014 0x14\n",
      "21 \u0015 0x15\n",
      "22 \u0016 0x16\n",
      "23 \u0017 0x17\n",
      "24 \u0018 0x18\n",
      "25 \u0019 0x19\n",
      "26 \u001a 0x1a\n",
      "27 \u001b 0x1b\n",
      "28 \u001c 0x1c\n",
      "29 \u001d 0x1d\n",
      "30 \u001e 0x1e\n",
      "31 \u001f 0x1f\n",
      "32   0x20\n",
      "33 ! 0x21\n",
      "34 \" 0x22\n",
      "35 # 0x23\n",
      "36 $ 0x24\n",
      "37 % 0x25\n",
      "38 & 0x26\n",
      "39 ' 0x27\n",
      "40 ( 0x28\n",
      "41 ) 0x29\n",
      "42 * 0x2a\n",
      "43 + 0x2b\n",
      "44 , 0x2c\n",
      "45 - 0x2d\n",
      "46 . 0x2e\n",
      "47 / 0x2f\n",
      "48 0 0x30\n",
      "49 1 0x31\n",
      "50 2 0x32\n",
      "51 3 0x33\n",
      "52 4 0x34\n",
      "53 5 0x35\n",
      "54 6 0x36\n",
      "55 7 0x37\n",
      "56 8 0x38\n",
      "57 9 0x39\n",
      "58 : 0x3a\n",
      "59 ; 0x3b\n",
      "60 < 0x3c\n",
      "61 = 0x3d\n",
      "62 > 0x3e\n",
      "63 ? 0x3f\n",
      "64 @ 0x40\n",
      "65 A 0x41\n",
      "66 B 0x42\n",
      "67 C 0x43\n",
      "68 D 0x44\n",
      "69 E 0x45\n",
      "70 F 0x46\n",
      "71 G 0x47\n",
      "72 H 0x48\n",
      "73 I 0x49\n",
      "74 J 0x4a\n",
      "75 K 0x4b\n",
      "76 L 0x4c\n",
      "77 M 0x4d\n",
      "78 N 0x4e\n",
      "79 O 0x4f\n",
      "80 P 0x50\n",
      "81 Q 0x51\n",
      "82 R 0x52\n",
      "83 S 0x53\n",
      "84 T 0x54\n",
      "85 U 0x55\n",
      "86 V 0x56\n",
      "87 W 0x57\n",
      "88 X 0x58\n",
      "89 Y 0x59\n",
      "90 Z 0x5a\n",
      "91 [ 0x5b\n",
      "92 \\ 0x5c\n",
      "93 ] 0x5d\n",
      "94 ^ 0x5e\n",
      "95 _ 0x5f\n",
      "96 ` 0x60\n",
      "97 a 0x61\n",
      "98 b 0x62\n",
      "99 c 0x63\n",
      "100 d 0x64\n",
      "101 e 0x65\n",
      "102 f 0x66\n",
      "103 g 0x67\n",
      "104 h 0x68\n",
      "105 i 0x69\n",
      "106 j 0x6a\n",
      "107 k 0x6b\n",
      "108 l 0x6c\n",
      "109 m 0x6d\n",
      "110 n 0x6e\n",
      "111 o 0x6f\n",
      "112 p 0x70\n",
      "113 q 0x71\n",
      "114 r 0x72\n",
      "115 s 0x73\n",
      "116 t 0x74\n",
      "117 u 0x75\n",
      "118 v 0x76\n",
      "119 w 0x77\n",
      "120 x 0x78\n",
      "121 y 0x79\n",
      "122 z 0x7a\n",
      "123 { 0x7b\n",
      "124 | 0x7c\n",
      "125 } 0x7d\n",
      "126 ~ 0x7e\n",
      "127  0x7f\n",
      "128  0x80\n",
      "129  0x81\n",
      "130  0x82\n",
      "131  0x83\n",
      "132  0x84\n",
      "133  0x85\n",
      "134  0x86\n",
      "135  0x87\n",
      "136  0x88\n",
      "137  0x89\n",
      "138  0x8a\n",
      "139  0x8b\n",
      "140  0x8c\n",
      "141  0x8d\n",
      "142  0x8e\n",
      "143  0x8f\n",
      "144  0x90\n",
      "145  0x91\n",
      "146  0x92\n",
      "147  0x93\n",
      "148  0x94\n",
      "149  0x95\n",
      "150  0x96\n",
      "151  0x97\n",
      "152  0x98\n",
      "153  0x99\n",
      "154  0x9a\n",
      "155  0x9b\n",
      "156  0x9c\n",
      "157  0x9d\n",
      "158  0x9e\n",
      "159  0x9f\n",
      "160   0xa0\n",
      "161 ¡ 0xa1\n",
      "162 ¢ 0xa2\n",
      "163 £ 0xa3\n",
      "164 ¤ 0xa4\n",
      "165 ¥ 0xa5\n",
      "166 ¦ 0xa6\n",
      "167 § 0xa7\n",
      "168 ¨ 0xa8\n",
      "169 © 0xa9\n",
      "170 ª 0xaa\n",
      "171 « 0xab\n",
      "172 ¬ 0xac\n",
      "173 ­ 0xad\n",
      "174 ® 0xae\n",
      "175 ¯ 0xaf\n",
      "176 ° 0xb0\n",
      "177 ± 0xb1\n",
      "178 ² 0xb2\n",
      "179 ³ 0xb3\n",
      "180 ´ 0xb4\n",
      "181 µ 0xb5\n",
      "182 ¶ 0xb6\n",
      "183 · 0xb7\n",
      "184 ¸ 0xb8\n",
      "185 ¹ 0xb9\n",
      "186 º 0xba\n",
      "187 » 0xbb\n",
      "188 ¼ 0xbc\n",
      "189 ½ 0xbd\n",
      "190 ¾ 0xbe\n",
      "191 ¿ 0xbf\n",
      "192 À 0xc0\n",
      "193 Á 0xc1\n",
      "194 Â 0xc2\n",
      "195 Ã 0xc3\n",
      "196 Ä 0xc4\n",
      "197 Å 0xc5\n",
      "198 Æ 0xc6\n",
      "199 Ç 0xc7\n",
      "200 È 0xc8\n",
      "201 É 0xc9\n",
      "202 Ê 0xca\n",
      "203 Ë 0xcb\n",
      "204 Ì 0xcc\n",
      "205 Í 0xcd\n",
      "206 Î 0xce\n",
      "207 Ï 0xcf\n",
      "208 Ð 0xd0\n",
      "209 Ñ 0xd1\n",
      "210 Ò 0xd2\n",
      "211 Ó 0xd3\n",
      "212 Ô 0xd4\n",
      "213 Õ 0xd5\n",
      "214 Ö 0xd6\n",
      "215 × 0xd7\n",
      "216 Ø 0xd8\n",
      "217 Ù 0xd9\n",
      "218 Ú 0xda\n",
      "219 Û 0xdb\n",
      "220 Ü 0xdc\n",
      "221 Ý 0xdd\n",
      "222 Þ 0xde\n",
      "223 ß 0xdf\n",
      "224 à 0xe0\n",
      "225 á 0xe1\n",
      "226 â 0xe2\n",
      "227 ã 0xe3\n",
      "228 ä 0xe4\n",
      "229 å 0xe5\n",
      "230 æ 0xe6\n",
      "231 ç 0xe7\n",
      "232 è 0xe8\n",
      "233 é 0xe9\n",
      "234 ê 0xea\n",
      "235 ë 0xeb\n",
      "236 ì 0xec\n",
      "237 í 0xed\n",
      "238 î 0xee\n",
      "239 ï 0xef\n",
      "240 ð 0xf0\n",
      "241 ñ 0xf1\n",
      "242 ò 0xf2\n",
      "243 ó 0xf3\n",
      "244 ô 0xf4\n",
      "245 õ 0xf5\n",
      "246 ö 0xf6\n",
      "247 ÷ 0xf7\n"
     ]
    }
   ],
   "source": [
    "charset = 248\n",
    "for i in range( charset ):\n",
    "    #print hex and ascii\n",
    "    print( i , chr(i) , hex(i) )\n"
   ]
  },
  {
   "cell_type": "code",
   "execution_count": null,
   "metadata": {},
   "outputs": [],
   "source": [
    "\n",
    "cols = 'query,target,fident,alnlen,mismatch,gapopen,qstart,qend,tstart,tend,evalue,bits,qaln,taln'.split(',')\n",
    "alnfiles = glob.glob(datadir + 'struct_align/*/allvall.csv')\n",
    "\n",
    "\n",
    "submat =  np.zeros((charset,charset))\n",
    "pdbfiles_structalign = glob.glob('./struct_align/*/structs/*.pdb')\n",
    "\n",
    "for rep in tqdm.tqdm(alnfiles ):\n",
    "    #load the all vs all aln\n",
    "    aln_df = pd.read_table(rep)\n",
    "    aln_df.columns = cols\n",
    "    #load the embedding of the structures\n",
    "    q = aln_df['query'].unique()\n",
    "    t = aln_df['target'].unique()\n",
    "    representative = rep.split('/')[-2]\n",
    "    for q in aln_df['query'].unique():\n",
    "        for t in aln_df['target'].unique():\n",
    "            if q != t:\n",
    "                #align the structures\n",
    "                aln = aln_df[ (aln_df['query'] == q) & (aln_df['target'] == t) ]\n",
    "                qaln = aln.qaln\n",
    "                taln = aln.taln\n",
    "                if q in encoded_df.index and t in encoded_df.index:\n",
    "                    qz = iter(str(encoded_df.loc[q].seq))\n",
    "                    tz = iter(str(encoded_df.loc[t].seq))\n",
    "                    #transfer the alignments to the embeddings\n",
    "                    qaln_ft2 = [ ord(next(qz)) if x != '-' else None for x in iter(qaln) ]\n",
    "                    taln_ft2 = [ ord(next(tz)) if x != '-' else None for x in iter(taln) ]\n",
    "                    alnzip = zip( qaln_ft2 , taln_ft2 )\n",
    "                    alnzip = [ [a[0] , a[1]] for a in alnzip if a[0] is not None and a[1] is not None]\n",
    "                    submat[alnzip] += 1\n"
   ]
  },
  {
   "cell_type": "code",
   "execution_count": 52,
   "metadata": {},
   "outputs": [
    {
     "data": {
      "text/plain": [
       "<matplotlib.image.AxesImage at 0x7fec99779cd0>"
      ]
     },
     "execution_count": 52,
     "metadata": {},
     "output_type": "execute_result"
    },
    {
     "data": {
      "image/png": "[encoded data removed]",
      "text/plain": [
       "<Figure size 640x480 with 1 Axes>"
      ]
     },
     "metadata": {},
     "output_type": "display_data"
    }
   ],
   "source": [
    "from matplotlib import pyplot as plt\n",
    "plt.imshow(submat)"
   ]
  },
  {
   "cell_type": "code",
   "execution_count": null,
   "metadata": {},
   "outputs": [],
   "source": [
    "#mafft matrix file example max 248 char\n",
    "\"\"\"\n",
    "0x01 0x01 2   # (comment)\n",
    "0x1e 0x1e 2\n",
    "0x1f 0x1f 2\n",
    "0x21 0x21 2   # ! × !\n",
    "0x41 0x41 2   # A × A\n",
    "0x42 0x42 2   # B × B\n",
    "0x43 0x43 2   # C × C\n",
    "\"\"\"\n",
    "\n",
    "def output_mafft_matrix( submat , outpath='mafft_submat.mtx' ):\n",
    "    with open(outpath, 'w') as f:\n",
    "        for i in range(submat.shape[0]):\n",
    "            for j in range(submat.shape[1]):\n",
    "                if i >= j:\n",
    "                    hexi = hex(i)\n",
    "                    hexj = hex(j)\n",
    "                    stringi = chr(i)\n",
    "                    stringj = chr(j)\n",
    "                    f.write( f'{hexi} {hexj} {submat[i,j]} # ' stringi + 'x' + stringj + ' \\n' )\n"
   ]
  },
  {
   "cell_type": "code",
   "execution_count": null,
   "metadata": {},
   "outputs": [],
   "source": [
    "#align the structures\n",
    "# mafft --textmatrix maff_submat.mtx input > output"
   ]
  },
  {
   "cell_type": "code",
   "execution_count": null,
   "metadata": {},
   "outputs": [],
   "source": [
    "#iqtree matrix file example \n",
    "\"\"\"   A   C   G   T   X\n",
    "A  0   1   2   1   0.5\n",
    "C  1   0   1   2   0.2\n",
    "G  2   1   0   1   0.3\n",
    "T  1   2   1   0   0.1\n",
    "X  0.5 0.2 0.3 0.1  0\n",
    "\"\"\"\n",
    "\n",
    "def output_iqtree_matrix( submat , outpath='iqtree_submat.mtx' ):\n",
    "    #write out distmat in phylip compatible format\n",
    "    init = ' '.join( [ char(i) for i in range(submat.shape[0]) ] )\n",
    "    with open(outpath, 'w') as f:\n",
    "        f.write( init + '\\n' )\n",
    "        for i in range(submat.shape[0]):\n",
    "    \t\toutstr += char(i) + ' ' + ' '.join( [ \"{:.4f}\".format(d) for d in list( distmat[i,: ] )  ]  ) + '\\n'\n",
    "       handle.write(outstr)\n",
    " \treturn outpath"
   ]
  },
  {
   "cell_type": "code",
   "execution_count": null,
   "metadata": {},
   "outputs": [],
   "source": [
    "\n",
    "#save the submats in raw form\n",
    "for charset in charsets:\n",
    "    np.save( 'submats/' + str(charset) + '.npy' , submats[charset] )\n",
    "    with open( 'submats/' + str(charset) + '.txt' , 'w' ) as f:\n",
    "        for i in range( charset ):\n",
    "            f.write( '\\t'.join( [ str(submats[charset][i,j]) for j in range( charset ) ] ) + '\\n' )\n",
    "\n",
    "#normalize the submats rows and columns to sum to 1\n",
    "for charset in charsets:\n",
    "    rowsums = submats[charset].sum( axis=1 )\n",
    "    colsums = submats[charset].sum( axis=0 )\n",
    "    for i in range( charset ):\n",
    "        submats[charset][i,:] = submats[charset][i,:] / rowsums[i]\n",
    "        submats[charset][:,i] = submats[charset][:,i] / colsums[i]\n",
    "\n",
    "#save the submats in normalized form\n",
    "for charset in charsets:\n",
    "    np.save( 'submats/' + str(charset) + '_norm.npy' , submats[charset] )\n",
    "    with open( 'submats/' + str(charset) + '_norm.txt' , 'w' ) as f:\n",
    "        for i in range( charset ):\n",
    "            f.write( '\\t'.join( [ str(submats[charset][i,j]) for j in range( charset ) ] ) + '\\n' )\n",
    "    \n",
    "\n"
   ]
  },
  {
   "cell_type": "code",
   "execution_count": null,
   "metadata": {},
   "outputs": [],
   "source": [
    "#make tree\n",
    "#iqtree -s example.fasta -m ./iqtree_submat.mtx+I+F\n",
    "\n",
    "#reconstruct\n",
    "#iqtree -s example.fasta -m ./iqtree_submat.mtx+I+F -t treefile.tree -asr\n"
   ]
  },
  {
   "cell_type": "code",
   "execution_count": null,
   "metadata": {},
   "outputs": [],
   "source": [
    "#pass the asr through the decoder to get ancestral AA sequences\n",
    "\n",
    "#fold the amino acid asr and decoded asr into 3d structures using alphafold\n",
    "\n",
    "#compare plddts\n"
   ]
  }
 ],
 "metadata": {
  "kernelspec": {
   "display_name": "Python 3 (ipykernel)",
   "language": "python",
   "name": "python3"
  },
  "language_info": {
   "codemirror_mode": {
    "name": "ipython",
    "version": 3
   },
   "file_extension": ".py",
   "mimetype": "text/x-python",
   "name": "python",
   "nbconvert_exporter": "python",
   "pygments_lexer": "ipython3",
   "version": "3.8.19"
  }
 },
 "nbformat": 4,
 "nbformat_minor": 4
}
