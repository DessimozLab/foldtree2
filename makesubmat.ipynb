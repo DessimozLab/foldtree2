{
 "cells": [
  {
   "cell_type": "code",
   "execution_count": 2,
   "metadata": {},
   "outputs": [],
   "source": [
    "%load_ext autoreload\n",
    "%autoreload 2"
   ]
  },
  {
   "cell_type": "code",
   "execution_count": 3,
   "metadata": {},
   "outputs": [
    {
     "name": "stdout",
     "output_type": "stream",
     "text": [
      "/home/dmoi/projects/foldtree2\n"
     ]
    }
   ],
   "source": [
    "cd projects/foldtree2"
   ]
  },
  {
   "cell_type": "code",
   "execution_count": 4,
   "metadata": {},
   "outputs": [],
   "source": [
    "import sys\n",
    "sys.path.append('/home/dmoi/projects/foldtree2')\n",
    "#read the afdb clusters file\n",
    "import pandas as pd\n",
    "import numpy as np\n",
    "import glob\n",
    "import os\n",
    "#autoreload\n",
    "import pickle\n",
    "from src import AFDB_tools\n",
    "import tqdm"
   ]
  },
  {
   "cell_type": "code",
   "execution_count": 5,
   "metadata": {},
   "outputs": [],
   "source": [
    "datadir = '../../datasets/foldtree2/'"
   ]
  },
  {
   "cell_type": "code",
   "execution_count": 6,
   "metadata": {},
   "outputs": [
    {
     "name": "stdout",
     "output_type": "stream",
     "text": [
      "reps       entryId       repId    taxId\n",
      "0  A0A009E921  A0A009E921  1310605\n",
      "1  A0A009F5K6  A0A009E921  1310605\n",
      "2  A0A009E9H3  A0A009E9H3  1310605\n",
      "3  A0A484ZLT0  A0A009E9H3    82979\n",
      "4  A0A009ECR5  A0A009ECR5  1310605\n"
     ]
    }
   ],
   "source": [
    "\n",
    "#read the afdb rep file\n",
    "reps = pd.read_table( datadir + 'afdbclusters/1-AFDBClusters-entryId_repId_taxId.tsv', header=None, names=['entryId', 'repId', 'taxId'] )\n",
    "print( 'reps' , reps.head() )\n"
   ]
  },
  {
   "cell_type": "code",
   "execution_count": 7,
   "metadata": {},
   "outputs": [
    {
     "name": "stdout",
     "output_type": "stream",
     "text": [
      "['A0A6A6MTL2', 'S8AHX0', 'A0A3D4Y7U3', 'A0A182QEX7', 'A0A7R8CEM3', 'A0A1B6MIL6', 'A0A4S4D698', 'A0A2X0NIQ0', 'A0A495JSP3', 'A0A3C0CY76']\n"
     ]
    }
   ],
   "source": [
    "\n",
    "structs = glob.glob( datadir+'structs/*.pdb' )\n",
    "#remove the .pdb extension\n",
    "structs = [ s.split( '/' )[-1].split( '.' )[0] for s in structs ]\n",
    "print(structs[0:10])"
   ]
  },
  {
   "cell_type": "code",
   "execution_count": 8,
   "metadata": {},
   "outputs": [
    {
     "name": "stdout",
     "output_type": "stream",
     "text": [
      "52310          entryId       repId    taxId\n",
      "4934  A0A011P981  A0A011P981  1454005\n",
      "4935  A0A090T2D3  A0A011P981   990271\n",
      "4936  A0A377ZK61  A0A011P981      574\n",
      "4937  A0A379ZCQ2  A0A011P981      615\n",
      "4938  A0A4U9U8T5  A0A011P981    47917\n"
     ]
    }
   ],
   "source": [
    "#select the reps that have structures\n",
    "reps = reps[ reps['repId'].isin( structs ) ]\n",
    "print(  len(reps)  , reps.head() )"
   ]
  },
  {
   "cell_type": "code",
   "execution_count": 11,
   "metadata": {},
   "outputs": [],
   "source": [
    "#make a structure alignment directory\n",
    "if not os.path.exists( 'struct_align' ):\n",
    "    os.makedirs( 'struct_align' )\n",
    "\n",
    "#make a directory for each cluster representative\n",
    "for rep in reps['repId']:\n",
    "    if not os.path.exists( datadir +'struct_align/' + rep  ):\n",
    "        os.makedirs(datadir + 'struct_align/' + rep  )\n",
    "    if not os.path.exists( datadir+ 'struct_align/' + rep  + '/structs/'):\n",
    "        os.makedirs( datadir+ 'struct_align/' + rep + '/structs/' )\n",
    "        "
   ]
  },
  {
   "cell_type": "code",
   "execution_count": 10,
   "metadata": {},
   "outputs": [],
   "source": [
    "#download n struct members for each cluster\n",
    "dl_structs = False\n",
    "if dl_structs == True:\n",
    "    n = 5\n",
    "    for rep in tqdm.tqdm(reps.repId.unique() ):\n",
    "        subdf = reps[ reps['repId'] == rep ]\n",
    "        if len(subdf) < n:\n",
    "            n = len(subdf)\n",
    "        subdf = subdf.sample( n = n  )\n",
    "        subdf = subdf.head( n )\n",
    "        #download the structures\n",
    "        for uniID in subdf['entryId']:\n",
    "            AFDB_tools.grab_struct(uniID , structfolder=datadir+'struct_align/' + rep  + '/structs/')"
   ]
  },
  {
   "cell_type": "code",
   "execution_count": 11,
   "metadata": {},
   "outputs": [],
   "source": [
    "#for each folder in struct_align, align the structures with all vs all using foldseek\n",
    "from src import foldseek2tree\n",
    "aln_structs = False\n",
    "if aln_structs == True:\n",
    "    for rep in tqdm.tqdm(reps.repId.unique() ):\n",
    "        #align the structures\n",
    "        foldseek2tree.runFoldseek_allvall_EZsearch( infolder= datadir + 'struct_align/' + rep  + '/structs/', outpath=datadir+'struct_align/' + rep + '/allvall.csv' )\n"
   ]
  },
  {
   "cell_type": "code",
   "execution_count": 14,
   "metadata": {},
   "outputs": [
    {
     "name": "stderr",
     "output_type": "stream",
     "text": [
      "28it [00:00, 47240.75it/s]"
     ]
    },
    {
     "name": "stdout",
     "output_type": "stream",
     "text": [
      "                                                              seq\n",
      "protid                                                           \n",
      "A0A0B0EGE4.pdb  [ttO{{»»»»»»»»ââââââââââââââââââââââââââ[[[[[[...\n",
      "A0A6M1Q9D4.pdb  [ttO{{»»»»»»»»ââââââââââââââââââââââââââ[[[[[[...\n",
      "A0A7W6LMN5.pdb  [ttO{{»»»»»»»»ââââââââââââââââââââââââââ[[[[[[...\n",
      "A0A090ZGQ5.pdb  [ttO{{»»»»»»»»ââââââââââââââââââââââââââ[[[[[[...\n"
     ]
    },
    {
     "name": "stderr",
     "output_type": "stream",
     "text": [
      "\n"
     ]
    }
   ],
   "source": [
    "import re \n",
    "encoded_fasta = '/home/dmoi/projects/foldtree2/structalign.strct.fasta' \n",
    "\n",
    "start = '//////startprot//////.*//////'\n",
    "#re containing wildcards\n",
    "start_re = re.compile( start )\n",
    "stop = '//////endprot//////'\n",
    "#re containing wildcards\n",
    "stop_re = re.compile( stop )\n",
    "seqstr = ''\n",
    "seqdict = {}\n",
    "ID = ''\n",
    "with open(encoded_fasta, 'r') as f:\n",
    "    #read all chars of file into a string\n",
    "    for line in tqdm.tqdm(f):\n",
    "        if '//////startprot//////' in line:\n",
    "            seqstr = ''\n",
    "            ID = line.split( '//////' )[2].split('/')[-1]\n",
    "        elif '//////contacts//////' in line:\n",
    "            seqdict[ID] = seqstr\n",
    "        else:\n",
    "            #include carriage returns\n",
    "            seqstr += line+'\\n'\n",
    "encoded_df = pd.DataFrame( seqdict.items() , columns=['protid', 'seq'] )\n",
    "#change index to protid\n",
    "encoded_df.index = encoded_df.protid\n",
    "encoded_df = encoded_df.drop( 'protid', axis=1 )\n",
    "print(encoded_df)"
   ]
  },
  {
   "cell_type": "code",
   "execution_count": 16,
   "metadata": {},
   "outputs": [
    {
     "name": "stdout",
     "output_type": "stream",
     "text": [
      "10\n",
      "ŭ\n"
     ]
    }
   ],
   "source": [
    "\n",
    "charset = 365\n",
    "#get the character for newline\n",
    "replace = ord('\\n')\n",
    "print(replace)\n",
    "replacement = chr(365)\n",
    "print(replacement)\n",
    "encoded_df.seq = encoded_df.seq.apply( lambda x: x.replace('\\n',chr(replacement)) )\n"
   ]
  },
  {
   "cell_type": "code",
   "execution_count": null,
   "metadata": {},
   "outputs": [],
   "source": [
    "\n",
    "\n",
    "cols = 'query,target,fident,alnlen,mismatch,gapopen,qstart,qend,tstart,tend,evalue,bits,qaln,taln'.split(',')\n",
    "alnfiles = glob.glob(datadir + 'struct_align/*/allvall.csv')\n",
    "\n",
    "\n",
    "submat =  np.zeros((charset,charset))\n",
    "pdbfiles_structalign = glob.glob('./struct_align/*/structs/*.pdb')\n",
    "\n",
    "for rep in tqdm.tqdm(alnfiles ):\n",
    "    #load the all vs all aln\n",
    "    aln_df = pd.read_table(rep)\n",
    "    aln_df.columns = cols\n",
    "    #load the embedding of the structures\n",
    "    q = aln_df['query'].unique()\n",
    "    t = aln_df['target'].unique()\n",
    "    representative = rep.split('/')[-2]\n",
    "    for q in aln_df['query'].unique():\n",
    "        for t in aln_df['target'].unique():\n",
    "            if q != t:\n",
    "                #align the structures\n",
    "                aln = aln_df[ (aln_df['query'] == q) & (aln_df['target'] == t) ]\n",
    "                qaln = aln.qaln\n",
    "                taln = aln.taln\n",
    "                if q in encoded_df.index and t in encoded_df.index:\n",
    "                    qz = iter(encoded_df.loc[q].seq)\n",
    "                    tz = iter(encoded_df.loc[t].seq)\n",
    "                    #transfer the alignments to the embeddings\n",
    "                    qaln_ft2 = [ ord(next(qz)) if x != '-' else None for x in iter(qaln) ]\n",
    "                    taln_ft2 = [ ord(next(tz)) if x != '-' else None for x in iter(taln) ]\n",
    "                    alnzip = zip( qaln_ft2 , taln_ft2 )\n",
    "                    alnzip = [ [a[0] , a[1]] for a in alnzip if a[0] is not None and a[1] is not None]\n",
    "                    submat[alnzip] += 1\n"
   ]
  },
  {
   "cell_type": "code",
   "execution_count": 52,
   "metadata": {},
   "outputs": [
    {
     "data": {
      "text/plain": [
       "<matplotlib.image.AxesImage at 0x7fec99779cd0>"
      ]
     },
     "execution_count": 52,
     "metadata": {},
     "output_type": "execute_result"
    },
    {
     "data": {
      "image/png": "[encoded data removed]",
      "text/plain": [
       "<Figure size 640x480 with 1 Axes>"
      ]
     },
     "metadata": {},
     "output_type": "display_data"
    }
   ],
   "source": [
    "from matplotlib import pyplot as plt\n",
    "plt.imshow(submat)"
   ]
  },
  {
   "cell_type": "code",
   "execution_count": null,
   "metadata": {},
   "outputs": [],
   "source": [
    "#mafft matrix file example max 248 char\n",
    "\"\"\"\n",
    "0x01 0x01 2   # (comment)\n",
    "0x1e 0x1e 2\n",
    "0x1f 0x1f 2\n",
    "0x21 0x21 2   # ! × !\n",
    "0x41 0x41 2   # A × A\n",
    "0x42 0x42 2   # B × B\n",
    "0x43 0x43 2   # C × C\n",
    "\"\"\"\n",
    "\n",
    "def output_mafft_matrix( submat , outpath='mafft_submat.mtx' ):\n",
    "    with open(outpath, 'w') as f:\n",
    "        for i in range(submat.shape[0]):\n",
    "            for j in range(submat.shape[1]):\n",
    "                if i >= j:\n",
    "                    hexi = hex(i)\n",
    "                    hexj = hex(j)\n",
    "                    stringi = chr(i)\n",
    "                    stringj = chr(j)\n",
    "                    f.write( f'{hexi} {hexj} {submat[i,j]} # ' stringi + 'x' + stringj + ' \\n' )\n"
   ]
  },
  {
   "cell_type": "code",
   "execution_count": null,
   "metadata": {},
   "outputs": [],
   "source": [
    "#align the structures\n",
    "# mafft --textmatrix maff_submat.mtx input > output"
   ]
  },
  {
   "cell_type": "code",
   "execution_count": null,
   "metadata": {},
   "outputs": [],
   "source": [
    "#iqtree matrix file example \n",
    "\"\"\"   A   C   G   T   X\n",
    "A  0   1   2   1   0.5\n",
    "C  1   0   1   2   0.2\n",
    "G  2   1   0   1   0.3\n",
    "T  1   2   1   0   0.1\n",
    "X  0.5 0.2 0.3 0.1  0\n",
    "\"\"\"\n",
    "\n",
    "def output_iqtree_matrix( submat , outpath='iqtree_submat.mtx' ):\n",
    "    #write out distmat in phylip compatible format\n",
    "    init = ' '.join( [ char(i) for i in range(submat.shape[0]) ] )\n",
    "    with open(outpath, 'w') as f:\n",
    "        f.write( init + '\\n' )\n",
    "        for i in range(submat.shape[0]):\n",
    "    \t\toutstr += char(i) + ' ' + ' '.join( [ \"{:.4f}\".format(d) for d in list( distmat[i,: ] )  ]  ) + '\\n'\n",
    "       handle.write(outstr)\n",
    " \treturn outpath"
   ]
  },
  {
   "cell_type": "code",
   "execution_count": null,
   "metadata": {},
   "outputs": [],
   "source": [
    "\n",
    "#save the submats in raw form\n",
    "for charset in charsets:\n",
    "    np.save( 'submats/' + str(charset) + '.npy' , submats[charset] )\n",
    "    with open( 'submats/' + str(charset) + '.txt' , 'w' ) as f:\n",
    "        for i in range( charset ):\n",
    "            f.write( '\\t'.join( [ str(submats[charset][i,j]) for j in range( charset ) ] ) + '\\n' )\n",
    "\n",
    "#normalize the submats rows and columns to sum to 1\n",
    "for charset in charsets:\n",
    "    rowsums = submats[charset].sum( axis=1 )\n",
    "    colsums = submats[charset].sum( axis=0 )\n",
    "    for i in range( charset ):\n",
    "        submats[charset][i,:] = submats[charset][i,:] / rowsums[i]\n",
    "        submats[charset][:,i] = submats[charset][:,i] / colsums[i]\n",
    "\n",
    "#save the submats in normalized form\n",
    "for charset in charsets:\n",
    "    np.save( 'submats/' + str(charset) + '_norm.npy' , submats[charset] )\n",
    "    with open( 'submats/' + str(charset) + '_norm.txt' , 'w' ) as f:\n",
    "        for i in range( charset ):\n",
    "            f.write( '\\t'.join( [ str(submats[charset][i,j]) for j in range( charset ) ] ) + '\\n' )\n",
    "    \n",
    "\n"
   ]
  },
  {
   "cell_type": "code",
   "execution_count": null,
   "metadata": {},
   "outputs": [],
   "source": [
    "#make tree\n",
    "#iqtree -s example.fasta -m ./iqtree_submat.mtx+I+F\n",
    "\n",
    "#reconstruct\n",
    "#iqtree -s example.fasta -m ./iqtree_submat.mtx+I+F -t treefile.tree -asr\n"
   ]
  },
  {
   "cell_type": "code",
   "execution_count": null,
   "metadata": {},
   "outputs": [],
   "source": [
    "#pass the asr through the decoder to get ancestral AA sequences\n",
    "\n",
    "#fold the amino acid asr and decoded asr into 3d structures using alphafold\n",
    "\n",
    "#compare plddts\n"
   ]
  }
 ],
 "metadata": {
  "kernelspec": {
   "display_name": "Python 3 (ipykernel)",
   "language": "python",
   "name": "python3"
  },
  "language_info": {
   "codemirror_mode": {
    "name": "ipython",
    "version": 3
   },
   "file_extension": ".py",
   "mimetype": "text/x-python",
   "name": "python",
   "nbconvert_exporter": "python",
   "pygments_lexer": "ipython3",
   "version": "3.8.19"
  }
 },
 "nbformat": 4,
 "nbformat_minor": 4
}
